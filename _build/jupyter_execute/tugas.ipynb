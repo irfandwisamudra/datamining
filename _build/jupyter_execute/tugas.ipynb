{
 "cells": [
  {
   "block_group": "18e566dd17854a438d889a12b37845b0",
   "cell_type": "markdown",
   "metadata": {
    "cell_id": "8c152c6b950547b8b4093c978cc26bd3",
    "deepnote_cell_type": "text-cell-h1",
    "formattedRanges": []
   },
   "source": [
    "# Memahami Data (Data Understanding)"
   ]
  },
  {
   "block_group": "9843cc7696304d1bb9d5c9b246c5ccfb",
   "cell_type": "markdown",
   "metadata": {
    "cell_id": "6fa5f179ab1742e5a4250d931d2f9c05",
    "deepnote_cell_type": "text-cell-p",
    "formattedRanges": []
   },
   "source": [
    "Tahapan memahami data dimulai dengan mengumpulkan data awal dan dilanjutkan dengan dengan kegiatan-kegiatan untuk mendapatkan data yang lazim serta identifikasi data yang berkualitas, pemahaman data sangat diperlukan untuk mendeteksi bagian yang menarik dari data sehingga dapat membangun hipotesa terhadap informasi yang tersembunyi. Kali ini kita akan memahami data Iris. Iris adalah genus tumbuhan berbunga dalam famili Iridaceae yang dikenal karena keindahan bunga-bunganya."
   ]
  },
  {
   "block_group": "cbfdbca89c9a4dbd940bbc15ce64093e",
   "cell_type": "markdown",
   "metadata": {
    "cell_id": "ad7a0f6547424299a69f0701f09ec066",
    "deepnote_cell_type": "text-cell-h2",
    "formattedRanges": []
   },
   "source": [
    "## Pengumpulan Data Awal"
   ]
  },
  {
   "block_group": "87dbc0361d2e4ed38ed653f457043ed2",
   "cell_type": "markdown",
   "metadata": {
    "cell_id": "4e4692523ad4421d9d9a84166e77c101",
    "deepnote_cell_type": "text-cell-p",
    "formattedRanges": []
   },
   "source": [
    "Pada tahap pengumpulan data awal, umumnya membutuhkan data yang dapat diperoleh dari berbagai sumber. Di sini, kita sudah mendapatkan data Iris dari 2 sumber yaitu, MySQL dan PostgreSQL. Dikarenakan data yang didapat berasal dari 2 sumber yang berbeda, maka kita harus melakukan integrasi atau penyatuan data."
   ]
  },
  {
   "block_group": "c04b556296864d2aa9f6df9ae6384bcf",
   "cell_type": "markdown",
   "metadata": {
    "cell_id": "5a2d92f52f50440f89b306057c1617a0",
    "deepnote_cell_type": "text-cell-p",
    "formattedRanges": []
   },
   "source": [
    "Proses pengambilan data dari MySQL untuk disimpan sebagai DataFrame."
   ]
  },
  {
   "block_group": "1f396f9ad1d24e698a55f37b39feb5ee",
   "cell_type": "code",
   "execution_count": 1,
   "metadata": {
    "cell_id": "837c6de9ea2e429d91a78a31ddc18a78",
    "deepnote_cell_type": "sql",
    "deepnote_sql_source": "SELECT * FROM Iris;",
    "deepnote_to_be_reexecuted": false,
    "deepnote_variable_name": "df_1",
    "execution_millis": 3499,
    "execution_start": 1710832909146,
    "source_hash": null,
    "sql_integration_id": "09471b5a-652d-432f-b73d-65305a4929e6"
   },
   "outputs": [
    {
     "ename": "NameError",
     "evalue": "name '_deepnote_execute_sql' is not defined",
     "output_type": "error",
     "traceback": [
      "\u001b[1;31m---------------------------------------------------------------------------\u001b[0m",
      "\u001b[1;31mNameError\u001b[0m                                 Traceback (most recent call last)",
      "Cell \u001b[1;32mIn[1], line 1\u001b[0m\n\u001b[1;32m----> 1\u001b[0m df_1 \u001b[38;5;241m=\u001b[39m \u001b[43m_deepnote_execute_sql\u001b[49m(\u001b[38;5;124m'\u001b[39m\u001b[38;5;124mSELECT * FROM Iris;\u001b[39m\u001b[38;5;124m'\u001b[39m, \u001b[38;5;124m'\u001b[39m\u001b[38;5;124mSQL_09471B5A_652D_432F_B73D_65305A4929E6\u001b[39m\u001b[38;5;124m'\u001b[39m, audit_sql_comment\u001b[38;5;241m=\u001b[39m\u001b[38;5;124m'\u001b[39m\u001b[38;5;124m'\u001b[39m, sql_cache_mode\u001b[38;5;241m=\u001b[39m\u001b[38;5;124m'\u001b[39m\u001b[38;5;124mcache_disabled\u001b[39m\u001b[38;5;124m'\u001b[39m)\n\u001b[0;32m      2\u001b[0m df_1\n",
      "\u001b[1;31mNameError\u001b[0m: name '_deepnote_execute_sql' is not defined"
     ]
    }
   ],
   "outputs_reference": "s3:deepnote-cell-outputs-production/8c7fe75f-29ba-490e-ae75-e8336b9739d5",
   "source": [
    "df_1 = _deepnote_execute_sql('SELECT * FROM Iris;', 'SQL_09471B5A_652D_432F_B73D_65305A4929E6', audit_sql_comment='', sql_cache_mode='cache_disabled')\n",
    "df_1"
   ]
  },
  {
   "block_group": "786212391a8e4996b8857f17ca1e0d7f",
   "cell_type": "markdown",
   "metadata": {
    "cell_id": "531c5969d8204dd5aaba93ca789a4a3e",
    "deepnote_cell_type": "text-cell-p",
    "formattedRanges": []
   },
   "source": [
    "Proses pengambilan data dari PostgreSQL untuk disimpan sebagai DataFrame."
   ]
  },
  {
   "block_group": "e17d3c17316f4032918144382f572f95",
   "cell_type": "code",
   "execution_count": null,
   "metadata": {
    "cell_id": "47cda7d15b894d71bbfc751c5bba41b6",
    "deepnote_cell_type": "sql",
    "deepnote_sql_source": "SELECT * FROM \"Iris\";",
    "deepnote_to_be_reexecuted": false,
    "deepnote_variable_name": "df_2",
    "execution_millis": 4107,
    "execution_start": 1710832922050,
    "source_hash": null,
    "sql_integration_id": "44ceac78-b576-4235-b8ae-3b3bd9a41b5d"
   },
   "outputs": [
    {
     "data": {
      "application/vnd.deepnote.sql-output-metadata+json": {
       "size_in_bytes": 3728,
       "status": "success_no_cache"
      }
     },
     "metadata": {},
     "output_type": "display_data"
    },
    {
     "data": {
      "application/vnd.deepnote.dataframe.v3+json": {
       "column_count": 3,
       "columns": [
        {
         "dtype": "int64",
         "name": "Id",
         "stats": {
          "histogram": [
           {
            "bin_end": 15.9,
            "bin_start": 1,
            "count": 15
           },
           {
            "bin_end": 30.8,
            "bin_start": 15.9,
            "count": 15
           },
           {
            "bin_end": 45.7,
            "bin_start": 30.8,
            "count": 15
           },
           {
            "bin_end": 60.6,
            "bin_start": 45.7,
            "count": 15
           },
           {
            "bin_end": 75.5,
            "bin_start": 60.6,
            "count": 15
           },
           {
            "bin_end": 90.4,
            "bin_start": 75.5,
            "count": 15
           },
           {
            "bin_end": 105.3,
            "bin_start": 90.4,
            "count": 15
           },
           {
            "bin_end": 120.2,
            "bin_start": 105.3,
            "count": 15
           },
           {
            "bin_end": 135.1,
            "bin_start": 120.2,
            "count": 15
           },
           {
            "bin_end": 150,
            "bin_start": 135.1,
            "count": 15
           }
          ],
          "max": "150",
          "min": "1",
          "nan_count": 0,
          "unique_count": 150
         }
        },
        {
         "dtype": "float64",
         "name": "PetalLengthCm",
         "stats": {
          "histogram": [
           {
            "bin_end": 1.59,
            "bin_start": 1,
            "count": 37
           },
           {
            "bin_end": 2.18,
            "bin_start": 1.59,
            "count": 13
           },
           {
            "bin_end": 2.7700000000000005,
            "bin_start": 2.18,
            "count": 0
           },
           {
            "bin_end": 3.3600000000000003,
            "bin_start": 2.7700000000000005,
            "count": 3
           },
           {
            "bin_end": 3.95,
            "bin_start": 3.3600000000000003,
            "count": 8
           },
           {
            "bin_end": 4.540000000000001,
            "bin_start": 3.95,
            "count": 26
           },
           {
            "bin_end": 5.130000000000001,
            "bin_start": 4.540000000000001,
            "count": 29
           },
           {
            "bin_end": 5.720000000000001,
            "bin_start": 5.130000000000001,
            "count": 18
           },
           {
            "bin_end": 6.3100000000000005,
            "bin_start": 5.720000000000001,
            "count": 11
           },
           {
            "bin_end": 6.9,
            "bin_start": 6.3100000000000005,
            "count": 5
           }
          ],
          "max": "6.9",
          "min": "1.0",
          "nan_count": 0,
          "unique_count": 43
         }
        },
        {
         "dtype": "float64",
         "name": "PetalWidthCm",
         "stats": {
          "histogram": [
           {
            "bin_end": 0.33999999999999997,
            "bin_start": 0.1,
            "count": 41
           },
           {
            "bin_end": 0.58,
            "bin_start": 0.33999999999999997,
            "count": 8
           },
           {
            "bin_end": 0.82,
            "bin_start": 0.58,
            "count": 1
           },
           {
            "bin_end": 1.06,
            "bin_start": 0.82,
            "count": 7
           },
           {
            "bin_end": 1.3,
            "bin_start": 1.06,
            "count": 8
           },
           {
            "bin_end": 1.54,
            "bin_start": 1.3,
            "count": 33
           },
           {
            "bin_end": 1.78,
            "bin_start": 1.54,
            "count": 6
           },
           {
            "bin_end": 2.02,
            "bin_start": 1.78,
            "count": 23
           },
           {
            "bin_end": 2.2600000000000002,
            "bin_start": 2.02,
            "count": 9
           },
           {
            "bin_end": 2.5,
            "bin_start": 2.2600000000000002,
            "count": 14
           }
          ],
          "max": "2.5",
          "min": "0.1",
          "nan_count": 0,
          "unique_count": 22
         }
        },
        {
         "dtype": "int64",
         "name": "_deepnote_index_column"
        }
       ],
       "row_count": 150,
       "rows": [
        {
         "Id": 1,
         "PetalLengthCm": 1.4,
         "PetalWidthCm": 0.2,
         "_deepnote_index_column": 0
        },
        {
         "Id": 2,
         "PetalLengthCm": 1.4,
         "PetalWidthCm": 0.2,
         "_deepnote_index_column": 1
        },
        {
         "Id": 3,
         "PetalLengthCm": 1.3,
         "PetalWidthCm": 0.2,
         "_deepnote_index_column": 2
        },
        {
         "Id": 4,
         "PetalLengthCm": 1.5,
         "PetalWidthCm": 0.2,
         "_deepnote_index_column": 3
        },
        {
         "Id": 5,
         "PetalLengthCm": 1.4,
         "PetalWidthCm": 0.2,
         "_deepnote_index_column": 4
        },
        {
         "Id": 6,
         "PetalLengthCm": 1.7,
         "PetalWidthCm": 0.4,
         "_deepnote_index_column": 5
        },
        {
         "Id": 7,
         "PetalLengthCm": 1.4,
         "PetalWidthCm": 0.3,
         "_deepnote_index_column": 6
        },
        {
         "Id": 8,
         "PetalLengthCm": 1.5,
         "PetalWidthCm": 0.2,
         "_deepnote_index_column": 7
        },
        {
         "Id": 9,
         "PetalLengthCm": 1.4,
         "PetalWidthCm": 0.2,
         "_deepnote_index_column": 8
        },
        {
         "Id": 10,
         "PetalLengthCm": 1.5,
         "PetalWidthCm": 0.1,
         "_deepnote_index_column": 9
        }
       ]
      },
      "text/html": [
       "<div>\n",
       "<style scoped>\n",
       "    .dataframe tbody tr th:only-of-type {\n",
       "        vertical-align: middle;\n",
       "    }\n",
       "\n",
       "    .dataframe tbody tr th {\n",
       "        vertical-align: top;\n",
       "    }\n",
       "\n",
       "    .dataframe thead th {\n",
       "        text-align: right;\n",
       "    }\n",
       "</style>\n",
       "<table border=\"1\" class=\"dataframe\">\n",
       "  <thead>\n",
       "    <tr style=\"text-align: right;\">\n",
       "      <th></th>\n",
       "      <th>Id</th>\n",
       "      <th>PetalLengthCm</th>\n",
       "      <th>PetalWidthCm</th>\n",
       "    </tr>\n",
       "  </thead>\n",
       "  <tbody>\n",
       "    <tr>\n",
       "      <th>0</th>\n",
       "      <td>1</td>\n",
       "      <td>1.4</td>\n",
       "      <td>0.2</td>\n",
       "    </tr>\n",
       "    <tr>\n",
       "      <th>1</th>\n",
       "      <td>2</td>\n",
       "      <td>1.4</td>\n",
       "      <td>0.2</td>\n",
       "    </tr>\n",
       "    <tr>\n",
       "      <th>2</th>\n",
       "      <td>3</td>\n",
       "      <td>1.3</td>\n",
       "      <td>0.2</td>\n",
       "    </tr>\n",
       "    <tr>\n",
       "      <th>3</th>\n",
       "      <td>4</td>\n",
       "      <td>1.5</td>\n",
       "      <td>0.2</td>\n",
       "    </tr>\n",
       "    <tr>\n",
       "      <th>4</th>\n",
       "      <td>5</td>\n",
       "      <td>1.4</td>\n",
       "      <td>0.2</td>\n",
       "    </tr>\n",
       "    <tr>\n",
       "      <th>...</th>\n",
       "      <td>...</td>\n",
       "      <td>...</td>\n",
       "      <td>...</td>\n",
       "    </tr>\n",
       "    <tr>\n",
       "      <th>145</th>\n",
       "      <td>146</td>\n",
       "      <td>5.2</td>\n",
       "      <td>2.3</td>\n",
       "    </tr>\n",
       "    <tr>\n",
       "      <th>146</th>\n",
       "      <td>147</td>\n",
       "      <td>5.0</td>\n",
       "      <td>1.9</td>\n",
       "    </tr>\n",
       "    <tr>\n",
       "      <th>147</th>\n",
       "      <td>148</td>\n",
       "      <td>5.2</td>\n",
       "      <td>2.0</td>\n",
       "    </tr>\n",
       "    <tr>\n",
       "      <th>148</th>\n",
       "      <td>149</td>\n",
       "      <td>5.4</td>\n",
       "      <td>2.3</td>\n",
       "    </tr>\n",
       "    <tr>\n",
       "      <th>149</th>\n",
       "      <td>150</td>\n",
       "      <td>5.1</td>\n",
       "      <td>1.8</td>\n",
       "    </tr>\n",
       "  </tbody>\n",
       "</table>\n",
       "<p>150 rows × 3 columns</p>\n",
       "</div>"
      ],
      "text/plain": [
       "      Id  PetalLengthCm  PetalWidthCm\n",
       "0      1            1.4           0.2\n",
       "1      2            1.4           0.2\n",
       "2      3            1.3           0.2\n",
       "3      4            1.5           0.2\n",
       "4      5            1.4           0.2\n",
       "..   ...            ...           ...\n",
       "145  146            5.2           2.3\n",
       "146  147            5.0           1.9\n",
       "147  148            5.2           2.0\n",
       "148  149            5.4           2.3\n",
       "149  150            5.1           1.8\n",
       "\n",
       "[150 rows x 3 columns]"
      ]
     },
     "execution_count": 3,
     "metadata": {},
     "output_type": "execute_result"
    }
   ],
   "outputs_reference": "s3:deepnote-cell-outputs-production/8c1c06d0-8e0c-4a8b-8daa-b90941f6861c",
   "source": [
    "df_2 = _deepnote_execute_sql('SELECT * FROM \"Iris\";', 'SQL_44CEAC78_B576_4235_B8AE_3B3BD9A41B5D', audit_sql_comment='', sql_cache_mode='cache_disabled')\n",
    "df_2"
   ]
  },
  {
   "block_group": "3cb7a6e6be3f4f10aa4ea8e71ff55a78",
   "cell_type": "markdown",
   "metadata": {
    "cell_id": "1361186497c840b2b167b3cc03358543",
    "deepnote_cell_type": "text-cell-p",
    "formattedRanges": []
   },
   "source": [
    "Import library yang dibutuhkan untuk manipulasi data pada python."
   ]
  },
  {
   "block_group": "d479cc1f0dc4445bb66231e74a035a8b",
   "cell_type": "code",
   "execution_count": null,
   "metadata": {
    "cell_id": "e7b9738abe224d599dbf8829cdcf22df",
    "deepnote_cell_type": "code",
    "deepnote_to_be_reexecuted": false,
    "execution_millis": 17,
    "execution_start": 1710832933883,
    "source_hash": null
   },
   "outputs": [],
   "outputs_reference": null,
   "source": [
    "import pandas as pd"
   ]
  },
  {
   "block_group": "2fa22492fc3f4a638bac8308d3072a1a",
   "cell_type": "markdown",
   "metadata": {
    "cell_id": "e22b6dd6e2194fa2975c390186e8eb8e",
    "deepnote_cell_type": "text-cell-p",
    "formattedRanges": []
   },
   "source": [
    "Proses penyatuan data dari 2 sumber database berbeda."
   ]
  },
  {
   "block_group": "56d5c4db75f84f1f8ca894d2b472e07c",
   "cell_type": "code",
   "execution_count": null,
   "metadata": {
    "cell_id": "4bfe57d5270d45a28653677ddb62613d",
    "deepnote_cell_type": "code",
    "deepnote_to_be_reexecuted": false,
    "execution_millis": 231,
    "execution_start": 1710832936938,
    "source_hash": null
   },
   "outputs": [
    {
     "data": {
      "application/vnd.deepnote.dataframe.v3+json": {
       "column_count": 6,
       "columns": [
        {
         "dtype": "int64",
         "name": "Id",
         "stats": {
          "histogram": [
           {
            "bin_end": 15.9,
            "bin_start": 1,
            "count": 15
           },
           {
            "bin_end": 30.8,
            "bin_start": 15.9,
            "count": 15
           },
           {
            "bin_end": 45.7,
            "bin_start": 30.8,
            "count": 15
           },
           {
            "bin_end": 60.6,
            "bin_start": 45.7,
            "count": 15
           },
           {
            "bin_end": 75.5,
            "bin_start": 60.6,
            "count": 15
           },
           {
            "bin_end": 90.4,
            "bin_start": 75.5,
            "count": 15
           },
           {
            "bin_end": 105.3,
            "bin_start": 90.4,
            "count": 15
           },
           {
            "bin_end": 120.2,
            "bin_start": 105.3,
            "count": 15
           },
           {
            "bin_end": 135.1,
            "bin_start": 120.2,
            "count": 15
           },
           {
            "bin_end": 150,
            "bin_start": 135.1,
            "count": 15
           }
          ],
          "max": "150",
          "min": "1",
          "nan_count": 0,
          "unique_count": 150
         }
        },
        {
         "dtype": "float64",
         "name": "SepalLengthCm",
         "stats": {
          "histogram": [
           {
            "bin_end": 4.66,
            "bin_start": 4.3,
            "count": 8
           },
           {
            "bin_end": 5.02,
            "bin_start": 4.66,
            "count": 22
           },
           {
            "bin_end": 5.38,
            "bin_start": 5.02,
            "count": 14
           },
           {
            "bin_end": 5.74,
            "bin_start": 5.38,
            "count": 27
           },
           {
            "bin_end": 6.1,
            "bin_start": 5.74,
            "count": 16
           },
           {
            "bin_end": 6.46,
            "bin_start": 6.1,
            "count": 24
           },
           {
            "bin_end": 6.82,
            "bin_start": 6.46,
            "count": 18
           },
           {
            "bin_end": 7.18,
            "bin_start": 6.82,
            "count": 5
           },
           {
            "bin_end": 7.54,
            "bin_start": 7.18,
            "count": 5
           },
           {
            "bin_end": 7.9,
            "bin_start": 7.54,
            "count": 6
           }
          ],
          "max": "7.9",
          "min": "4.3",
          "nan_count": 5,
          "unique_count": 34
         }
        },
        {
         "dtype": "float64",
         "name": "SepalWidthCm",
         "stats": {
          "histogram": [
           {
            "bin_end": 2.24,
            "bin_start": 2,
            "count": 4
           },
           {
            "bin_end": 2.48,
            "bin_start": 2.24,
            "count": 7
           },
           {
            "bin_end": 2.72,
            "bin_start": 2.48,
            "count": 22
           },
           {
            "bin_end": 2.96,
            "bin_start": 2.72,
            "count": 24
           },
           {
            "bin_end": 3.2,
            "bin_start": 2.96,
            "count": 38
           },
           {
            "bin_end": 3.4400000000000004,
            "bin_start": 3.2,
            "count": 31
           },
           {
            "bin_end": 3.6800000000000006,
            "bin_start": 3.4400000000000004,
            "count": 9
           },
           {
            "bin_end": 3.9200000000000004,
            "bin_start": 3.6800000000000006,
            "count": 11
           },
           {
            "bin_end": 4.16,
            "bin_start": 3.9200000000000004,
            "count": 2
           },
           {
            "bin_end": 4.4,
            "bin_start": 4.16,
            "count": 2
           }
          ],
          "max": "4.4",
          "min": "2.0",
          "nan_count": 0,
          "unique_count": 23
         }
        },
        {
         "dtype": "object",
         "name": "Species",
         "stats": {
          "categories": [
           {
            "count": 50,
            "name": "Iris-virginica"
           },
           {
            "count": 98,
            "name": "2 others"
           },
           {
            "count": 2,
            "name": "Missing"
           }
          ],
          "nan_count": 2,
          "unique_count": 3
         }
        },
        {
         "dtype": "float64",
         "name": "PetalLengthCm",
         "stats": {
          "histogram": [
           {
            "bin_end": 1.59,
            "bin_start": 1,
            "count": 37
           },
           {
            "bin_end": 2.18,
            "bin_start": 1.59,
            "count": 13
           },
           {
            "bin_end": 2.7700000000000005,
            "bin_start": 2.18,
            "count": 0
           },
           {
            "bin_end": 3.3600000000000003,
            "bin_start": 2.7700000000000005,
            "count": 3
           },
           {
            "bin_end": 3.95,
            "bin_start": 3.3600000000000003,
            "count": 8
           },
           {
            "bin_end": 4.540000000000001,
            "bin_start": 3.95,
            "count": 26
           },
           {
            "bin_end": 5.130000000000001,
            "bin_start": 4.540000000000001,
            "count": 29
           },
           {
            "bin_end": 5.720000000000001,
            "bin_start": 5.130000000000001,
            "count": 18
           },
           {
            "bin_end": 6.3100000000000005,
            "bin_start": 5.720000000000001,
            "count": 11
           },
           {
            "bin_end": 6.9,
            "bin_start": 6.3100000000000005,
            "count": 5
           }
          ],
          "max": "6.9",
          "min": "1.0",
          "nan_count": 0,
          "unique_count": 43
         }
        },
        {
         "dtype": "float64",
         "name": "PetalWidthCm",
         "stats": {
          "histogram": [
           {
            "bin_end": 0.33999999999999997,
            "bin_start": 0.1,
            "count": 41
           },
           {
            "bin_end": 0.58,
            "bin_start": 0.33999999999999997,
            "count": 8
           },
           {
            "bin_end": 0.82,
            "bin_start": 0.58,
            "count": 1
           },
           {
            "bin_end": 1.06,
            "bin_start": 0.82,
            "count": 7
           },
           {
            "bin_end": 1.3,
            "bin_start": 1.06,
            "count": 8
           },
           {
            "bin_end": 1.54,
            "bin_start": 1.3,
            "count": 33
           },
           {
            "bin_end": 1.78,
            "bin_start": 1.54,
            "count": 6
           },
           {
            "bin_end": 2.02,
            "bin_start": 1.78,
            "count": 23
           },
           {
            "bin_end": 2.2600000000000002,
            "bin_start": 2.02,
            "count": 9
           },
           {
            "bin_end": 2.5,
            "bin_start": 2.2600000000000002,
            "count": 14
           }
          ],
          "max": "2.5",
          "min": "0.1",
          "nan_count": 0,
          "unique_count": 22
         }
        },
        {
         "dtype": "int64",
         "name": "_deepnote_index_column"
        }
       ],
       "row_count": 150,
       "rows": [
        {
         "Id": 1,
         "PetalLengthCm": 1.4,
         "PetalWidthCm": 0.2,
         "SepalLengthCm": 5.1,
         "SepalWidthCm": 3.5,
         "Species": "Iris-setosa",
         "_deepnote_index_column": 0
        },
        {
         "Id": 2,
         "PetalLengthCm": 1.4,
         "PetalWidthCm": 0.2,
         "SepalLengthCm": 4.9,
         "SepalWidthCm": 3,
         "Species": "Iris-setosa",
         "_deepnote_index_column": 1
        },
        {
         "Id": 3,
         "PetalLengthCm": 1.3,
         "PetalWidthCm": 0.2,
         "SepalLengthCm": "nan",
         "SepalWidthCm": 3.2,
         "Species": "Iris-setosa",
         "_deepnote_index_column": 2
        },
        {
         "Id": 4,
         "PetalLengthCm": 1.5,
         "PetalWidthCm": 0.2,
         "SepalLengthCm": 4.6,
         "SepalWidthCm": 3.1,
         "Species": "Iris-setosa",
         "_deepnote_index_column": 3
        },
        {
         "Id": 5,
         "PetalLengthCm": 1.4,
         "PetalWidthCm": 0.2,
         "SepalLengthCm": 5,
         "SepalWidthCm": 3.6,
         "Species": "Iris-setosa",
         "_deepnote_index_column": 4
        },
        {
         "Id": 6,
         "PetalLengthCm": 1.7,
         "PetalWidthCm": 0.4,
         "SepalLengthCm": 5.4,
         "SepalWidthCm": 3.9,
         "Species": "Iris-setosa",
         "_deepnote_index_column": 5
        },
        {
         "Id": 7,
         "PetalLengthCm": 1.4,
         "PetalWidthCm": 0.3,
         "SepalLengthCm": "nan",
         "SepalWidthCm": 3.4,
         "Species": "None",
         "_deepnote_index_column": 6
        },
        {
         "Id": 8,
         "PetalLengthCm": 1.5,
         "PetalWidthCm": 0.2,
         "SepalLengthCm": 5,
         "SepalWidthCm": 3.4,
         "Species": "Iris-setosa",
         "_deepnote_index_column": 7
        },
        {
         "Id": 9,
         "PetalLengthCm": 1.4,
         "PetalWidthCm": 0.2,
         "SepalLengthCm": 4.4,
         "SepalWidthCm": 2.9,
         "Species": "Iris-setosa",
         "_deepnote_index_column": 8
        },
        {
         "Id": 10,
         "PetalLengthCm": 1.5,
         "PetalWidthCm": 0.1,
         "SepalLengthCm": 4.9,
         "SepalWidthCm": 3.1,
         "Species": "Iris-setosa",
         "_deepnote_index_column": 9
        }
       ]
      },
      "text/html": [
       "<div>\n",
       "<style scoped>\n",
       "    .dataframe tbody tr th:only-of-type {\n",
       "        vertical-align: middle;\n",
       "    }\n",
       "\n",
       "    .dataframe tbody tr th {\n",
       "        vertical-align: top;\n",
       "    }\n",
       "\n",
       "    .dataframe thead th {\n",
       "        text-align: right;\n",
       "    }\n",
       "</style>\n",
       "<table border=\"1\" class=\"dataframe\">\n",
       "  <thead>\n",
       "    <tr style=\"text-align: right;\">\n",
       "      <th></th>\n",
       "      <th>Id</th>\n",
       "      <th>SepalLengthCm</th>\n",
       "      <th>SepalWidthCm</th>\n",
       "      <th>Species</th>\n",
       "      <th>PetalLengthCm</th>\n",
       "      <th>PetalWidthCm</th>\n",
       "    </tr>\n",
       "  </thead>\n",
       "  <tbody>\n",
       "    <tr>\n",
       "      <th>0</th>\n",
       "      <td>1</td>\n",
       "      <td>5.1</td>\n",
       "      <td>3.5</td>\n",
       "      <td>Iris-setosa</td>\n",
       "      <td>1.4</td>\n",
       "      <td>0.2</td>\n",
       "    </tr>\n",
       "    <tr>\n",
       "      <th>1</th>\n",
       "      <td>2</td>\n",
       "      <td>4.9</td>\n",
       "      <td>3.0</td>\n",
       "      <td>Iris-setosa</td>\n",
       "      <td>1.4</td>\n",
       "      <td>0.2</td>\n",
       "    </tr>\n",
       "    <tr>\n",
       "      <th>2</th>\n",
       "      <td>3</td>\n",
       "      <td>NaN</td>\n",
       "      <td>3.2</td>\n",
       "      <td>Iris-setosa</td>\n",
       "      <td>1.3</td>\n",
       "      <td>0.2</td>\n",
       "    </tr>\n",
       "    <tr>\n",
       "      <th>3</th>\n",
       "      <td>4</td>\n",
       "      <td>4.6</td>\n",
       "      <td>3.1</td>\n",
       "      <td>Iris-setosa</td>\n",
       "      <td>1.5</td>\n",
       "      <td>0.2</td>\n",
       "    </tr>\n",
       "    <tr>\n",
       "      <th>4</th>\n",
       "      <td>5</td>\n",
       "      <td>5.0</td>\n",
       "      <td>3.6</td>\n",
       "      <td>Iris-setosa</td>\n",
       "      <td>1.4</td>\n",
       "      <td>0.2</td>\n",
       "    </tr>\n",
       "    <tr>\n",
       "      <th>...</th>\n",
       "      <td>...</td>\n",
       "      <td>...</td>\n",
       "      <td>...</td>\n",
       "      <td>...</td>\n",
       "      <td>...</td>\n",
       "      <td>...</td>\n",
       "    </tr>\n",
       "    <tr>\n",
       "      <th>145</th>\n",
       "      <td>146</td>\n",
       "      <td>6.7</td>\n",
       "      <td>3.0</td>\n",
       "      <td>Iris-virginica</td>\n",
       "      <td>5.2</td>\n",
       "      <td>2.3</td>\n",
       "    </tr>\n",
       "    <tr>\n",
       "      <th>146</th>\n",
       "      <td>147</td>\n",
       "      <td>6.3</td>\n",
       "      <td>2.5</td>\n",
       "      <td>Iris-virginica</td>\n",
       "      <td>5.0</td>\n",
       "      <td>1.9</td>\n",
       "    </tr>\n",
       "    <tr>\n",
       "      <th>147</th>\n",
       "      <td>148</td>\n",
       "      <td>6.5</td>\n",
       "      <td>3.0</td>\n",
       "      <td>Iris-virginica</td>\n",
       "      <td>5.2</td>\n",
       "      <td>2.0</td>\n",
       "    </tr>\n",
       "    <tr>\n",
       "      <th>148</th>\n",
       "      <td>149</td>\n",
       "      <td>6.2</td>\n",
       "      <td>3.4</td>\n",
       "      <td>Iris-virginica</td>\n",
       "      <td>5.4</td>\n",
       "      <td>2.3</td>\n",
       "    </tr>\n",
       "    <tr>\n",
       "      <th>149</th>\n",
       "      <td>150</td>\n",
       "      <td>5.9</td>\n",
       "      <td>3.0</td>\n",
       "      <td>Iris-virginica</td>\n",
       "      <td>5.1</td>\n",
       "      <td>1.8</td>\n",
       "    </tr>\n",
       "  </tbody>\n",
       "</table>\n",
       "<p>150 rows × 6 columns</p>\n",
       "</div>"
      ],
      "text/plain": [
       "      Id  SepalLengthCm  SepalWidthCm         Species  PetalLengthCm  \\\n",
       "0      1            5.1           3.5     Iris-setosa            1.4   \n",
       "1      2            4.9           3.0     Iris-setosa            1.4   \n",
       "2      3            NaN           3.2     Iris-setosa            1.3   \n",
       "3      4            4.6           3.1     Iris-setosa            1.5   \n",
       "4      5            5.0           3.6     Iris-setosa            1.4   \n",
       "..   ...            ...           ...             ...            ...   \n",
       "145  146            6.7           3.0  Iris-virginica            5.2   \n",
       "146  147            6.3           2.5  Iris-virginica            5.0   \n",
       "147  148            6.5           3.0  Iris-virginica            5.2   \n",
       "148  149            6.2           3.4  Iris-virginica            5.4   \n",
       "149  150            5.9           3.0  Iris-virginica            5.1   \n",
       "\n",
       "     PetalWidthCm  \n",
       "0             0.2  \n",
       "1             0.2  \n",
       "2             0.2  \n",
       "3             0.2  \n",
       "4             0.2  \n",
       "..            ...  \n",
       "145           2.3  \n",
       "146           1.9  \n",
       "147           2.0  \n",
       "148           2.3  \n",
       "149           1.8  \n",
       "\n",
       "[150 rows x 6 columns]"
      ]
     },
     "execution_count": 5,
     "metadata": {},
     "output_type": "execute_result"
    }
   ],
   "outputs_reference": "s3:deepnote-cell-outputs-production/35b3de07-b1e3-4b79-94b4-b4954b7179a1",
   "source": [
    "df_iris = pd.merge(df_1, df_2, on='Id')\n",
    "\n",
    "jumlah_baris = df_iris.shape[0]\n",
    "df_iris.head(jumlah_baris)"
   ]
  },
  {
   "block_group": "0954c908872d4cf08a6d5a8f0ce79d6f",
   "cell_type": "markdown",
   "metadata": {
    "cell_id": "b71de557e35b4bb8be18003da5c8687d",
    "deepnote_cell_type": "text-cell-p",
    "formattedRanges": []
   },
   "source": [
    "Proses pengindexan untuk mengubah urutan kolom tabel."
   ]
  },
  {
   "block_group": "1cdcff1d4b7e4ac0974a32590b2350cb",
   "cell_type": "code",
   "execution_count": null,
   "metadata": {
    "cell_id": "f1d085d14a31440dbd6ce00176a7c19e",
    "deepnote_cell_type": "code",
    "deepnote_to_be_reexecuted": false,
    "execution_millis": 186,
    "execution_start": 1710832943488,
    "source_hash": null
   },
   "outputs": [
    {
     "data": {
      "application/vnd.deepnote.dataframe.v3+json": {
       "column_count": 6,
       "columns": [
        {
         "dtype": "int64",
         "name": "Id",
         "stats": {
          "histogram": [
           {
            "bin_end": 15.9,
            "bin_start": 1,
            "count": 15
           },
           {
            "bin_end": 30.8,
            "bin_start": 15.9,
            "count": 15
           },
           {
            "bin_end": 45.7,
            "bin_start": 30.8,
            "count": 15
           },
           {
            "bin_end": 60.6,
            "bin_start": 45.7,
            "count": 15
           },
           {
            "bin_end": 75.5,
            "bin_start": 60.6,
            "count": 15
           },
           {
            "bin_end": 90.4,
            "bin_start": 75.5,
            "count": 15
           },
           {
            "bin_end": 105.3,
            "bin_start": 90.4,
            "count": 15
           },
           {
            "bin_end": 120.2,
            "bin_start": 105.3,
            "count": 15
           },
           {
            "bin_end": 135.1,
            "bin_start": 120.2,
            "count": 15
           },
           {
            "bin_end": 150,
            "bin_start": 135.1,
            "count": 15
           }
          ],
          "max": "150",
          "min": "1",
          "nan_count": 0,
          "unique_count": 150
         }
        },
        {
         "dtype": "float64",
         "name": "SepalLengthCm",
         "stats": {
          "histogram": [
           {
            "bin_end": 4.66,
            "bin_start": 4.3,
            "count": 8
           },
           {
            "bin_end": 5.02,
            "bin_start": 4.66,
            "count": 22
           },
           {
            "bin_end": 5.38,
            "bin_start": 5.02,
            "count": 14
           },
           {
            "bin_end": 5.74,
            "bin_start": 5.38,
            "count": 27
           },
           {
            "bin_end": 6.1,
            "bin_start": 5.74,
            "count": 16
           },
           {
            "bin_end": 6.46,
            "bin_start": 6.1,
            "count": 24
           },
           {
            "bin_end": 6.82,
            "bin_start": 6.46,
            "count": 18
           },
           {
            "bin_end": 7.18,
            "bin_start": 6.82,
            "count": 5
           },
           {
            "bin_end": 7.54,
            "bin_start": 7.18,
            "count": 5
           },
           {
            "bin_end": 7.9,
            "bin_start": 7.54,
            "count": 6
           }
          ],
          "max": "7.9",
          "min": "4.3",
          "nan_count": 5,
          "unique_count": 34
         }
        },
        {
         "dtype": "float64",
         "name": "SepalWidthCm",
         "stats": {
          "histogram": [
           {
            "bin_end": 2.24,
            "bin_start": 2,
            "count": 4
           },
           {
            "bin_end": 2.48,
            "bin_start": 2.24,
            "count": 7
           },
           {
            "bin_end": 2.72,
            "bin_start": 2.48,
            "count": 22
           },
           {
            "bin_end": 2.96,
            "bin_start": 2.72,
            "count": 24
           },
           {
            "bin_end": 3.2,
            "bin_start": 2.96,
            "count": 38
           },
           {
            "bin_end": 3.4400000000000004,
            "bin_start": 3.2,
            "count": 31
           },
           {
            "bin_end": 3.6800000000000006,
            "bin_start": 3.4400000000000004,
            "count": 9
           },
           {
            "bin_end": 3.9200000000000004,
            "bin_start": 3.6800000000000006,
            "count": 11
           },
           {
            "bin_end": 4.16,
            "bin_start": 3.9200000000000004,
            "count": 2
           },
           {
            "bin_end": 4.4,
            "bin_start": 4.16,
            "count": 2
           }
          ],
          "max": "4.4",
          "min": "2.0",
          "nan_count": 0,
          "unique_count": 23
         }
        },
        {
         "dtype": "float64",
         "name": "PetalLengthCm",
         "stats": {
          "histogram": [
           {
            "bin_end": 1.59,
            "bin_start": 1,
            "count": 37
           },
           {
            "bin_end": 2.18,
            "bin_start": 1.59,
            "count": 13
           },
           {
            "bin_end": 2.7700000000000005,
            "bin_start": 2.18,
            "count": 0
           },
           {
            "bin_end": 3.3600000000000003,
            "bin_start": 2.7700000000000005,
            "count": 3
           },
           {
            "bin_end": 3.95,
            "bin_start": 3.3600000000000003,
            "count": 8
           },
           {
            "bin_end": 4.540000000000001,
            "bin_start": 3.95,
            "count": 26
           },
           {
            "bin_end": 5.130000000000001,
            "bin_start": 4.540000000000001,
            "count": 29
           },
           {
            "bin_end": 5.720000000000001,
            "bin_start": 5.130000000000001,
            "count": 18
           },
           {
            "bin_end": 6.3100000000000005,
            "bin_start": 5.720000000000001,
            "count": 11
           },
           {
            "bin_end": 6.9,
            "bin_start": 6.3100000000000005,
            "count": 5
           }
          ],
          "max": "6.9",
          "min": "1.0",
          "nan_count": 0,
          "unique_count": 43
         }
        },
        {
         "dtype": "float64",
         "name": "PetalWidthCm",
         "stats": {
          "histogram": [
           {
            "bin_end": 0.33999999999999997,
            "bin_start": 0.1,
            "count": 41
           },
           {
            "bin_end": 0.58,
            "bin_start": 0.33999999999999997,
            "count": 8
           },
           {
            "bin_end": 0.82,
            "bin_start": 0.58,
            "count": 1
           },
           {
            "bin_end": 1.06,
            "bin_start": 0.82,
            "count": 7
           },
           {
            "bin_end": 1.3,
            "bin_start": 1.06,
            "count": 8
           },
           {
            "bin_end": 1.54,
            "bin_start": 1.3,
            "count": 33
           },
           {
            "bin_end": 1.78,
            "bin_start": 1.54,
            "count": 6
           },
           {
            "bin_end": 2.02,
            "bin_start": 1.78,
            "count": 23
           },
           {
            "bin_end": 2.2600000000000002,
            "bin_start": 2.02,
            "count": 9
           },
           {
            "bin_end": 2.5,
            "bin_start": 2.2600000000000002,
            "count": 14
           }
          ],
          "max": "2.5",
          "min": "0.1",
          "nan_count": 0,
          "unique_count": 22
         }
        },
        {
         "dtype": "object",
         "name": "Species",
         "stats": {
          "categories": [
           {
            "count": 50,
            "name": "Iris-virginica"
           },
           {
            "count": 98,
            "name": "2 others"
           },
           {
            "count": 2,
            "name": "Missing"
           }
          ],
          "nan_count": 2,
          "unique_count": 3
         }
        },
        {
         "dtype": "int64",
         "name": "_deepnote_index_column"
        }
       ],
       "row_count": 150,
       "rows": [
        {
         "Id": 1,
         "PetalLengthCm": 1.4,
         "PetalWidthCm": 0.2,
         "SepalLengthCm": 5.1,
         "SepalWidthCm": 3.5,
         "Species": "Iris-setosa",
         "_deepnote_index_column": 0
        },
        {
         "Id": 2,
         "PetalLengthCm": 1.4,
         "PetalWidthCm": 0.2,
         "SepalLengthCm": 4.9,
         "SepalWidthCm": 3,
         "Species": "Iris-setosa",
         "_deepnote_index_column": 1
        },
        {
         "Id": 3,
         "PetalLengthCm": 1.3,
         "PetalWidthCm": 0.2,
         "SepalLengthCm": "nan",
         "SepalWidthCm": 3.2,
         "Species": "Iris-setosa",
         "_deepnote_index_column": 2
        },
        {
         "Id": 4,
         "PetalLengthCm": 1.5,
         "PetalWidthCm": 0.2,
         "SepalLengthCm": 4.6,
         "SepalWidthCm": 3.1,
         "Species": "Iris-setosa",
         "_deepnote_index_column": 3
        },
        {
         "Id": 5,
         "PetalLengthCm": 1.4,
         "PetalWidthCm": 0.2,
         "SepalLengthCm": 5,
         "SepalWidthCm": 3.6,
         "Species": "Iris-setosa",
         "_deepnote_index_column": 4
        },
        {
         "Id": 6,
         "PetalLengthCm": 1.7,
         "PetalWidthCm": 0.4,
         "SepalLengthCm": 5.4,
         "SepalWidthCm": 3.9,
         "Species": "Iris-setosa",
         "_deepnote_index_column": 5
        },
        {
         "Id": 7,
         "PetalLengthCm": 1.4,
         "PetalWidthCm": 0.3,
         "SepalLengthCm": "nan",
         "SepalWidthCm": 3.4,
         "Species": "None",
         "_deepnote_index_column": 6
        },
        {
         "Id": 8,
         "PetalLengthCm": 1.5,
         "PetalWidthCm": 0.2,
         "SepalLengthCm": 5,
         "SepalWidthCm": 3.4,
         "Species": "Iris-setosa",
         "_deepnote_index_column": 7
        },
        {
         "Id": 9,
         "PetalLengthCm": 1.4,
         "PetalWidthCm": 0.2,
         "SepalLengthCm": 4.4,
         "SepalWidthCm": 2.9,
         "Species": "Iris-setosa",
         "_deepnote_index_column": 8
        },
        {
         "Id": 10,
         "PetalLengthCm": 1.5,
         "PetalWidthCm": 0.1,
         "SepalLengthCm": 4.9,
         "SepalWidthCm": 3.1,
         "Species": "Iris-setosa",
         "_deepnote_index_column": 9
        }
       ]
      },
      "text/html": [
       "<div>\n",
       "<style scoped>\n",
       "    .dataframe tbody tr th:only-of-type {\n",
       "        vertical-align: middle;\n",
       "    }\n",
       "\n",
       "    .dataframe tbody tr th {\n",
       "        vertical-align: top;\n",
       "    }\n",
       "\n",
       "    .dataframe thead th {\n",
       "        text-align: right;\n",
       "    }\n",
       "</style>\n",
       "<table border=\"1\" class=\"dataframe\">\n",
       "  <thead>\n",
       "    <tr style=\"text-align: right;\">\n",
       "      <th></th>\n",
       "      <th>Id</th>\n",
       "      <th>SepalLengthCm</th>\n",
       "      <th>SepalWidthCm</th>\n",
       "      <th>PetalLengthCm</th>\n",
       "      <th>PetalWidthCm</th>\n",
       "      <th>Species</th>\n",
       "    </tr>\n",
       "  </thead>\n",
       "  <tbody>\n",
       "    <tr>\n",
       "      <th>0</th>\n",
       "      <td>1</td>\n",
       "      <td>5.1</td>\n",
       "      <td>3.5</td>\n",
       "      <td>1.4</td>\n",
       "      <td>0.2</td>\n",
       "      <td>Iris-setosa</td>\n",
       "    </tr>\n",
       "    <tr>\n",
       "      <th>1</th>\n",
       "      <td>2</td>\n",
       "      <td>4.9</td>\n",
       "      <td>3.0</td>\n",
       "      <td>1.4</td>\n",
       "      <td>0.2</td>\n",
       "      <td>Iris-setosa</td>\n",
       "    </tr>\n",
       "    <tr>\n",
       "      <th>2</th>\n",
       "      <td>3</td>\n",
       "      <td>NaN</td>\n",
       "      <td>3.2</td>\n",
       "      <td>1.3</td>\n",
       "      <td>0.2</td>\n",
       "      <td>Iris-setosa</td>\n",
       "    </tr>\n",
       "    <tr>\n",
       "      <th>3</th>\n",
       "      <td>4</td>\n",
       "      <td>4.6</td>\n",
       "      <td>3.1</td>\n",
       "      <td>1.5</td>\n",
       "      <td>0.2</td>\n",
       "      <td>Iris-setosa</td>\n",
       "    </tr>\n",
       "    <tr>\n",
       "      <th>4</th>\n",
       "      <td>5</td>\n",
       "      <td>5.0</td>\n",
       "      <td>3.6</td>\n",
       "      <td>1.4</td>\n",
       "      <td>0.2</td>\n",
       "      <td>Iris-setosa</td>\n",
       "    </tr>\n",
       "    <tr>\n",
       "      <th>...</th>\n",
       "      <td>...</td>\n",
       "      <td>...</td>\n",
       "      <td>...</td>\n",
       "      <td>...</td>\n",
       "      <td>...</td>\n",
       "      <td>...</td>\n",
       "    </tr>\n",
       "    <tr>\n",
       "      <th>145</th>\n",
       "      <td>146</td>\n",
       "      <td>6.7</td>\n",
       "      <td>3.0</td>\n",
       "      <td>5.2</td>\n",
       "      <td>2.3</td>\n",
       "      <td>Iris-virginica</td>\n",
       "    </tr>\n",
       "    <tr>\n",
       "      <th>146</th>\n",
       "      <td>147</td>\n",
       "      <td>6.3</td>\n",
       "      <td>2.5</td>\n",
       "      <td>5.0</td>\n",
       "      <td>1.9</td>\n",
       "      <td>Iris-virginica</td>\n",
       "    </tr>\n",
       "    <tr>\n",
       "      <th>147</th>\n",
       "      <td>148</td>\n",
       "      <td>6.5</td>\n",
       "      <td>3.0</td>\n",
       "      <td>5.2</td>\n",
       "      <td>2.0</td>\n",
       "      <td>Iris-virginica</td>\n",
       "    </tr>\n",
       "    <tr>\n",
       "      <th>148</th>\n",
       "      <td>149</td>\n",
       "      <td>6.2</td>\n",
       "      <td>3.4</td>\n",
       "      <td>5.4</td>\n",
       "      <td>2.3</td>\n",
       "      <td>Iris-virginica</td>\n",
       "    </tr>\n",
       "    <tr>\n",
       "      <th>149</th>\n",
       "      <td>150</td>\n",
       "      <td>5.9</td>\n",
       "      <td>3.0</td>\n",
       "      <td>5.1</td>\n",
       "      <td>1.8</td>\n",
       "      <td>Iris-virginica</td>\n",
       "    </tr>\n",
       "  </tbody>\n",
       "</table>\n",
       "<p>150 rows × 6 columns</p>\n",
       "</div>"
      ],
      "text/plain": [
       "      Id  SepalLengthCm  SepalWidthCm  PetalLengthCm  PetalWidthCm  \\\n",
       "0      1            5.1           3.5            1.4           0.2   \n",
       "1      2            4.9           3.0            1.4           0.2   \n",
       "2      3            NaN           3.2            1.3           0.2   \n",
       "3      4            4.6           3.1            1.5           0.2   \n",
       "4      5            5.0           3.6            1.4           0.2   \n",
       "..   ...            ...           ...            ...           ...   \n",
       "145  146            6.7           3.0            5.2           2.3   \n",
       "146  147            6.3           2.5            5.0           1.9   \n",
       "147  148            6.5           3.0            5.2           2.0   \n",
       "148  149            6.2           3.4            5.4           2.3   \n",
       "149  150            5.9           3.0            5.1           1.8   \n",
       "\n",
       "            Species  \n",
       "0       Iris-setosa  \n",
       "1       Iris-setosa  \n",
       "2       Iris-setosa  \n",
       "3       Iris-setosa  \n",
       "4       Iris-setosa  \n",
       "..              ...  \n",
       "145  Iris-virginica  \n",
       "146  Iris-virginica  \n",
       "147  Iris-virginica  \n",
       "148  Iris-virginica  \n",
       "149  Iris-virginica  \n",
       "\n",
       "[150 rows x 6 columns]"
      ]
     },
     "execution_count": 6,
     "metadata": {},
     "output_type": "execute_result"
    }
   ],
   "outputs_reference": "s3:deepnote-cell-outputs-production/212ceac4-9451-4e42-a1cb-6f89e3f148ff",
   "source": [
    "desired_columns = [\"Id\", \"SepalLengthCm\", \"SepalWidthCm\", \"PetalLengthCm\", \"PetalWidthCm\", \"Species\"]\n",
    "df_iris = df_iris.reindex(columns=desired_columns)\n",
    "\n",
    "df_iris.head(jumlah_baris)"
   ]
  },
  {
   "block_group": "29647a8b06c946678e67ccf128b11db3",
   "cell_type": "markdown",
   "metadata": {
    "cell_id": "88ca30a015674879b2a840ca78c048e5",
    "deepnote_cell_type": "text-cell-h2",
    "formattedRanges": []
   },
   "source": [
    "## Mendiskripsikan Data"
   ]
  },
  {
   "block_group": "0487b5df48af4d95bdbc07a44723b755",
   "cell_type": "markdown",
   "metadata": {
    "cell_id": "c0134e91f36a4270a3aa71270f7b3515",
    "deepnote_cell_type": "text-cell-p",
    "formattedRanges": []
   },
   "source": [
    "Mengamati secara kasar dan yang tampak dari data yang diperoleh dan mendokumentasikan deskripsi data tersebut. Pengamatan pada tabel \"Iris\" bertujuan untuk memahami perbedaan morfologi antara spesies Iris yang berbeda berdasarkan pengukuran yang tercantum dalam tabel."
   ]
  },
  {
   "block_group": "bb8e530816154706acf74f54322e749a",
   "cell_type": "code",
   "execution_count": null,
   "metadata": {
    "cell_id": "4e6fa9b144ce476f8ca4aaa4bc64b850",
    "deepnote_cell_type": "code",
    "deepnote_to_be_reexecuted": false,
    "execution_millis": 72,
    "execution_start": 1710832951359,
    "source_hash": null
   },
   "outputs": [
    {
     "data": {
      "application/vnd.deepnote.dataframe.v3+json": {
       "column_count": 6,
       "columns": [
        {
         "dtype": "int64",
         "name": "Id",
         "stats": {
          "histogram": [
           {
            "bin_end": 15.9,
            "bin_start": 1,
            "count": 15
           },
           {
            "bin_end": 30.8,
            "bin_start": 15.9,
            "count": 15
           },
           {
            "bin_end": 45.7,
            "bin_start": 30.8,
            "count": 15
           },
           {
            "bin_end": 60.6,
            "bin_start": 45.7,
            "count": 15
           },
           {
            "bin_end": 75.5,
            "bin_start": 60.6,
            "count": 15
           },
           {
            "bin_end": 90.4,
            "bin_start": 75.5,
            "count": 15
           },
           {
            "bin_end": 105.3,
            "bin_start": 90.4,
            "count": 15
           },
           {
            "bin_end": 120.2,
            "bin_start": 105.3,
            "count": 15
           },
           {
            "bin_end": 135.1,
            "bin_start": 120.2,
            "count": 15
           },
           {
            "bin_end": 150,
            "bin_start": 135.1,
            "count": 15
           }
          ],
          "max": "150",
          "min": "1",
          "nan_count": 0,
          "unique_count": 150
         }
        },
        {
         "dtype": "float64",
         "name": "SepalLengthCm",
         "stats": {
          "histogram": [
           {
            "bin_end": 4.66,
            "bin_start": 4.3,
            "count": 8
           },
           {
            "bin_end": 5.02,
            "bin_start": 4.66,
            "count": 22
           },
           {
            "bin_end": 5.38,
            "bin_start": 5.02,
            "count": 14
           },
           {
            "bin_end": 5.74,
            "bin_start": 5.38,
            "count": 27
           },
           {
            "bin_end": 6.1,
            "bin_start": 5.74,
            "count": 16
           },
           {
            "bin_end": 6.46,
            "bin_start": 6.1,
            "count": 24
           },
           {
            "bin_end": 6.82,
            "bin_start": 6.46,
            "count": 18
           },
           {
            "bin_end": 7.18,
            "bin_start": 6.82,
            "count": 5
           },
           {
            "bin_end": 7.54,
            "bin_start": 7.18,
            "count": 5
           },
           {
            "bin_end": 7.9,
            "bin_start": 7.54,
            "count": 6
           }
          ],
          "max": "7.9",
          "min": "4.3",
          "nan_count": 5,
          "unique_count": 34
         }
        },
        {
         "dtype": "float64",
         "name": "SepalWidthCm",
         "stats": {
          "histogram": [
           {
            "bin_end": 2.24,
            "bin_start": 2,
            "count": 4
           },
           {
            "bin_end": 2.48,
            "bin_start": 2.24,
            "count": 7
           },
           {
            "bin_end": 2.72,
            "bin_start": 2.48,
            "count": 22
           },
           {
            "bin_end": 2.96,
            "bin_start": 2.72,
            "count": 24
           },
           {
            "bin_end": 3.2,
            "bin_start": 2.96,
            "count": 38
           },
           {
            "bin_end": 3.4400000000000004,
            "bin_start": 3.2,
            "count": 31
           },
           {
            "bin_end": 3.6800000000000006,
            "bin_start": 3.4400000000000004,
            "count": 9
           },
           {
            "bin_end": 3.9200000000000004,
            "bin_start": 3.6800000000000006,
            "count": 11
           },
           {
            "bin_end": 4.16,
            "bin_start": 3.9200000000000004,
            "count": 2
           },
           {
            "bin_end": 4.4,
            "bin_start": 4.16,
            "count": 2
           }
          ],
          "max": "4.4",
          "min": "2.0",
          "nan_count": 0,
          "unique_count": 23
         }
        },
        {
         "dtype": "float64",
         "name": "PetalLengthCm",
         "stats": {
          "histogram": [
           {
            "bin_end": 1.59,
            "bin_start": 1,
            "count": 37
           },
           {
            "bin_end": 2.18,
            "bin_start": 1.59,
            "count": 13
           },
           {
            "bin_end": 2.7700000000000005,
            "bin_start": 2.18,
            "count": 0
           },
           {
            "bin_end": 3.3600000000000003,
            "bin_start": 2.7700000000000005,
            "count": 3
           },
           {
            "bin_end": 3.95,
            "bin_start": 3.3600000000000003,
            "count": 8
           },
           {
            "bin_end": 4.540000000000001,
            "bin_start": 3.95,
            "count": 26
           },
           {
            "bin_end": 5.130000000000001,
            "bin_start": 4.540000000000001,
            "count": 29
           },
           {
            "bin_end": 5.720000000000001,
            "bin_start": 5.130000000000001,
            "count": 18
           },
           {
            "bin_end": 6.3100000000000005,
            "bin_start": 5.720000000000001,
            "count": 11
           },
           {
            "bin_end": 6.9,
            "bin_start": 6.3100000000000005,
            "count": 5
           }
          ],
          "max": "6.9",
          "min": "1.0",
          "nan_count": 0,
          "unique_count": 43
         }
        },
        {
         "dtype": "float64",
         "name": "PetalWidthCm",
         "stats": {
          "histogram": [
           {
            "bin_end": 0.33999999999999997,
            "bin_start": 0.1,
            "count": 41
           },
           {
            "bin_end": 0.58,
            "bin_start": 0.33999999999999997,
            "count": 8
           },
           {
            "bin_end": 0.82,
            "bin_start": 0.58,
            "count": 1
           },
           {
            "bin_end": 1.06,
            "bin_start": 0.82,
            "count": 7
           },
           {
            "bin_end": 1.3,
            "bin_start": 1.06,
            "count": 8
           },
           {
            "bin_end": 1.54,
            "bin_start": 1.3,
            "count": 33
           },
           {
            "bin_end": 1.78,
            "bin_start": 1.54,
            "count": 6
           },
           {
            "bin_end": 2.02,
            "bin_start": 1.78,
            "count": 23
           },
           {
            "bin_end": 2.2600000000000002,
            "bin_start": 2.02,
            "count": 9
           },
           {
            "bin_end": 2.5,
            "bin_start": 2.2600000000000002,
            "count": 14
           }
          ],
          "max": "2.5",
          "min": "0.1",
          "nan_count": 0,
          "unique_count": 22
         }
        },
        {
         "dtype": "object",
         "name": "Species",
         "stats": {
          "categories": [
           {
            "count": 50,
            "name": "Iris-virginica"
           },
           {
            "count": 98,
            "name": "2 others"
           },
           {
            "count": 2,
            "name": "Missing"
           }
          ],
          "nan_count": 2,
          "unique_count": 3
         }
        },
        {
         "dtype": "int64",
         "name": "_deepnote_index_column"
        }
       ],
       "row_count": 150,
       "rows": [
        {
         "Id": 1,
         "PetalLengthCm": 1.4,
         "PetalWidthCm": 0.2,
         "SepalLengthCm": 5.1,
         "SepalWidthCm": 3.5,
         "Species": "Iris-setosa",
         "_deepnote_index_column": 0
        },
        {
         "Id": 2,
         "PetalLengthCm": 1.4,
         "PetalWidthCm": 0.2,
         "SepalLengthCm": 4.9,
         "SepalWidthCm": 3,
         "Species": "Iris-setosa",
         "_deepnote_index_column": 1
        },
        {
         "Id": 3,
         "PetalLengthCm": 1.3,
         "PetalWidthCm": 0.2,
         "SepalLengthCm": "nan",
         "SepalWidthCm": 3.2,
         "Species": "Iris-setosa",
         "_deepnote_index_column": 2
        },
        {
         "Id": 4,
         "PetalLengthCm": 1.5,
         "PetalWidthCm": 0.2,
         "SepalLengthCm": 4.6,
         "SepalWidthCm": 3.1,
         "Species": "Iris-setosa",
         "_deepnote_index_column": 3
        },
        {
         "Id": 5,
         "PetalLengthCm": 1.4,
         "PetalWidthCm": 0.2,
         "SepalLengthCm": 5,
         "SepalWidthCm": 3.6,
         "Species": "Iris-setosa",
         "_deepnote_index_column": 4
        },
        {
         "Id": 6,
         "PetalLengthCm": 1.7,
         "PetalWidthCm": 0.4,
         "SepalLengthCm": 5.4,
         "SepalWidthCm": 3.9,
         "Species": "Iris-setosa",
         "_deepnote_index_column": 5
        },
        {
         "Id": 7,
         "PetalLengthCm": 1.4,
         "PetalWidthCm": 0.3,
         "SepalLengthCm": "nan",
         "SepalWidthCm": 3.4,
         "Species": "None",
         "_deepnote_index_column": 6
        },
        {
         "Id": 8,
         "PetalLengthCm": 1.5,
         "PetalWidthCm": 0.2,
         "SepalLengthCm": 5,
         "SepalWidthCm": 3.4,
         "Species": "Iris-setosa",
         "_deepnote_index_column": 7
        },
        {
         "Id": 9,
         "PetalLengthCm": 1.4,
         "PetalWidthCm": 0.2,
         "SepalLengthCm": 4.4,
         "SepalWidthCm": 2.9,
         "Species": "Iris-setosa",
         "_deepnote_index_column": 8
        },
        {
         "Id": 10,
         "PetalLengthCm": 1.5,
         "PetalWidthCm": 0.1,
         "SepalLengthCm": 4.9,
         "SepalWidthCm": 3.1,
         "Species": "Iris-setosa",
         "_deepnote_index_column": 9
        }
       ]
      },
      "text/html": [
       "<div>\n",
       "<style scoped>\n",
       "    .dataframe tbody tr th:only-of-type {\n",
       "        vertical-align: middle;\n",
       "    }\n",
       "\n",
       "    .dataframe tbody tr th {\n",
       "        vertical-align: top;\n",
       "    }\n",
       "\n",
       "    .dataframe thead th {\n",
       "        text-align: right;\n",
       "    }\n",
       "</style>\n",
       "<table border=\"1\" class=\"dataframe\">\n",
       "  <thead>\n",
       "    <tr style=\"text-align: right;\">\n",
       "      <th></th>\n",
       "      <th>Id</th>\n",
       "      <th>SepalLengthCm</th>\n",
       "      <th>SepalWidthCm</th>\n",
       "      <th>PetalLengthCm</th>\n",
       "      <th>PetalWidthCm</th>\n",
       "      <th>Species</th>\n",
       "    </tr>\n",
       "  </thead>\n",
       "  <tbody>\n",
       "    <tr>\n",
       "      <th>0</th>\n",
       "      <td>1</td>\n",
       "      <td>5.1</td>\n",
       "      <td>3.5</td>\n",
       "      <td>1.4</td>\n",
       "      <td>0.2</td>\n",
       "      <td>Iris-setosa</td>\n",
       "    </tr>\n",
       "    <tr>\n",
       "      <th>1</th>\n",
       "      <td>2</td>\n",
       "      <td>4.9</td>\n",
       "      <td>3.0</td>\n",
       "      <td>1.4</td>\n",
       "      <td>0.2</td>\n",
       "      <td>Iris-setosa</td>\n",
       "    </tr>\n",
       "    <tr>\n",
       "      <th>2</th>\n",
       "      <td>3</td>\n",
       "      <td>NaN</td>\n",
       "      <td>3.2</td>\n",
       "      <td>1.3</td>\n",
       "      <td>0.2</td>\n",
       "      <td>Iris-setosa</td>\n",
       "    </tr>\n",
       "    <tr>\n",
       "      <th>3</th>\n",
       "      <td>4</td>\n",
       "      <td>4.6</td>\n",
       "      <td>3.1</td>\n",
       "      <td>1.5</td>\n",
       "      <td>0.2</td>\n",
       "      <td>Iris-setosa</td>\n",
       "    </tr>\n",
       "    <tr>\n",
       "      <th>4</th>\n",
       "      <td>5</td>\n",
       "      <td>5.0</td>\n",
       "      <td>3.6</td>\n",
       "      <td>1.4</td>\n",
       "      <td>0.2</td>\n",
       "      <td>Iris-setosa</td>\n",
       "    </tr>\n",
       "    <tr>\n",
       "      <th>...</th>\n",
       "      <td>...</td>\n",
       "      <td>...</td>\n",
       "      <td>...</td>\n",
       "      <td>...</td>\n",
       "      <td>...</td>\n",
       "      <td>...</td>\n",
       "    </tr>\n",
       "    <tr>\n",
       "      <th>145</th>\n",
       "      <td>146</td>\n",
       "      <td>6.7</td>\n",
       "      <td>3.0</td>\n",
       "      <td>5.2</td>\n",
       "      <td>2.3</td>\n",
       "      <td>Iris-virginica</td>\n",
       "    </tr>\n",
       "    <tr>\n",
       "      <th>146</th>\n",
       "      <td>147</td>\n",
       "      <td>6.3</td>\n",
       "      <td>2.5</td>\n",
       "      <td>5.0</td>\n",
       "      <td>1.9</td>\n",
       "      <td>Iris-virginica</td>\n",
       "    </tr>\n",
       "    <tr>\n",
       "      <th>147</th>\n",
       "      <td>148</td>\n",
       "      <td>6.5</td>\n",
       "      <td>3.0</td>\n",
       "      <td>5.2</td>\n",
       "      <td>2.0</td>\n",
       "      <td>Iris-virginica</td>\n",
       "    </tr>\n",
       "    <tr>\n",
       "      <th>148</th>\n",
       "      <td>149</td>\n",
       "      <td>6.2</td>\n",
       "      <td>3.4</td>\n",
       "      <td>5.4</td>\n",
       "      <td>2.3</td>\n",
       "      <td>Iris-virginica</td>\n",
       "    </tr>\n",
       "    <tr>\n",
       "      <th>149</th>\n",
       "      <td>150</td>\n",
       "      <td>5.9</td>\n",
       "      <td>3.0</td>\n",
       "      <td>5.1</td>\n",
       "      <td>1.8</td>\n",
       "      <td>Iris-virginica</td>\n",
       "    </tr>\n",
       "  </tbody>\n",
       "</table>\n",
       "<p>150 rows × 6 columns</p>\n",
       "</div>"
      ],
      "text/plain": [
       "      Id  SepalLengthCm  SepalWidthCm  PetalLengthCm  PetalWidthCm  \\\n",
       "0      1            5.1           3.5            1.4           0.2   \n",
       "1      2            4.9           3.0            1.4           0.2   \n",
       "2      3            NaN           3.2            1.3           0.2   \n",
       "3      4            4.6           3.1            1.5           0.2   \n",
       "4      5            5.0           3.6            1.4           0.2   \n",
       "..   ...            ...           ...            ...           ...   \n",
       "145  146            6.7           3.0            5.2           2.3   \n",
       "146  147            6.3           2.5            5.0           1.9   \n",
       "147  148            6.5           3.0            5.2           2.0   \n",
       "148  149            6.2           3.4            5.4           2.3   \n",
       "149  150            5.9           3.0            5.1           1.8   \n",
       "\n",
       "            Species  \n",
       "0       Iris-setosa  \n",
       "1       Iris-setosa  \n",
       "2       Iris-setosa  \n",
       "3       Iris-setosa  \n",
       "4       Iris-setosa  \n",
       "..              ...  \n",
       "145  Iris-virginica  \n",
       "146  Iris-virginica  \n",
       "147  Iris-virginica  \n",
       "148  Iris-virginica  \n",
       "149  Iris-virginica  \n",
       "\n",
       "[150 rows x 6 columns]"
      ]
     },
     "execution_count": 7,
     "metadata": {},
     "output_type": "execute_result"
    }
   ],
   "outputs_reference": "s3:deepnote-cell-outputs-production/c8b04cce-b157-404f-84c9-6034e9ddedf8",
   "source": [
    "df_iris.head(jumlah_baris)"
   ]
  },
  {
   "block_group": "86b1ccd54d86406cb64ada64c35f1227",
   "cell_type": "markdown",
   "metadata": {
    "cell_id": "48561368a87849f39edd1b869afb4983",
    "deepnote_cell_type": "text-cell-p",
    "formattedRanges": []
   },
   "source": [
    "Tabel \"Iris\" di atas adalah tabel yang mencakup data pengukuran morfologi dari tiga spesies Iris yang berbeda, seperti Iris-setosa, Iris-versicolor, dan Iris-virginica."
   ]
  },
  {
   "block_group": "ab287f2b2a3046a59ecf3efe62a39c66",
   "cell_type": "markdown",
   "metadata": {
    "cell_id": "92438a2774fd43f6bc2b88eef1b85171",
    "deepnote_app_block_visible": false,
    "deepnote_cell_type": "text-cell-bullet",
    "formattedRanges": [],
    "is_collapsed": false
   },
   "source": [
    "- Jumlah Data: Tabel \"Iris\" terdiri dari 150 baris atau entri data, yang mewakili 150 pengukuran morfologi."
   ]
  },
  {
   "block_group": "c806d4e8f89346de974fff91750c3588",
   "cell_type": "markdown",
   "metadata": {
    "cell_id": "b8840f95edcd459c95d71cd4ce053a79",
    "deepnote_app_block_visible": false,
    "deepnote_cell_type": "text-cell-bullet",
    "formattedRanges": [],
    "is_collapsed": false
   },
   "source": [
    "- Format Data: Tabel ini memiliki enam kolom:\r\n",
    "- Kolom pertama adalah \"Id\", yang merupakan identifikasi unik untuk setiap baris.\r\n",
    "- Kolom kedua adalah \"SepalLengthCm\", yang berisi pengukuran panjang sepal dalam sentimeter.\r\n",
    "- Kolom ketiga adalah \"SepalWidthCm\", yang berisi pengukuran lebar sepal dalam sentimeter.\r\n",
    "- Kolom keempat adalah \"PetalLengthCm\", yang berisi pengukuran panjang petal dalam sentimeter.\r\n",
    "- Kolom kelima adalah \"PetalWidthCm\", yang berisi pengukuran lebar petal dalam sentimeter.\r\n",
    "- Kolom keenam adalah \"Species\", yang menunjukkan spesies Iris terkait dengan setiap pengukuran."
   ]
  },
  {
   "block_group": "d9030972ccad427fbee7a7e1cf52ca74",
   "cell_type": "markdown",
   "metadata": {
    "cell_id": "69506c6cf0c1454e82b6a859bef9f1eb",
    "deepnote_app_block_visible": false,
    "deepnote_cell_type": "text-cell-bullet",
    "formattedRanges": [],
    "is_collapsed": false
   },
   "source": [
    "- Karakteristik Data: Data ini memberikan informasi yang cukup lengkap untuk membedakan antara spesies Iris berdasarkan pengukuran morfologi mereka. Setiap pengukuran (kolom \"SepalLengthCm\", \"SepalWidthCm\", \"PetalLengthCm\", dan \"PetalWidthCm\") memberikan wawasan tentang dimensi fisik bunga Iris, sementara kolom \"Species\" memberikan identitas spesies yang terkait dengan setiap pengukuran. Hal ini memungkinkan untuk analisis lebih lanjut tentang perbedaan morfologi antara spesies Iris yang berbeda."
   ]
  },
  {
   "block_group": "2be95c84aa26406ebc92f7db1dea0943",
   "cell_type": "markdown",
   "metadata": {
    "cell_id": "e535aa47ac7d4b3a9a3628f84edec734",
    "deepnote_app_block_visible": false,
    "deepnote_cell_type": "text-cell-bullet",
    "formattedRanges": [],
    "is_collapsed": false
   },
   "source": [
    "- Ketersediaan Informasi: Data ini kemungkinan mengumpulkan informasi yang cukup untuk memberikan gambaran tentang perbedaan morfologi antara spesies Iris yang berbeda berdasarkan pengukuran yang dilakukan. Dengan jumlah data yang cukup besar (150 pengukuran), data ini memungkinkan analisis yang lebih mendalam terhadap perbedaan-perbedaan tersebut."
   ]
  },
  {
   "block_group": "22c6abeb2ffb465290af3b87c48e7dab",
   "cell_type": "markdown",
   "metadata": {
    "cell_id": "e6a7e0ea1a2741bc9b85e332f0624f79",
    "deepnote_cell_type": "text-cell-h2",
    "formattedRanges": []
   },
   "source": [
    "## Ekplorasi/Menyelidiki Data"
   ]
  },
  {
   "block_group": "e1e5795a88c14d8b9aff006d47772e43",
   "cell_type": "markdown",
   "metadata": {
    "cell_id": "68f322f0ccd34176bd742f7a8cfa4866",
    "deepnote_cell_type": "text-cell-p",
    "formattedRanges": []
   },
   "source": [
    "Dalam proses menyelidiki data, langkah awal adalah mengeksplorasi data kotor untuk mengidentifikasi masalah yang perlu diperbaiki sebelum analisis lebih lanjut."
   ]
  },
  {
   "block_group": "37d66f3986cf44bbb209d84d84e98a8a",
   "cell_type": "code",
   "execution_count": null,
   "metadata": {
    "cell_id": "b0763ea3e0b34827be9f772fec25095e",
    "deepnote_cell_type": "code",
    "deepnote_to_be_reexecuted": false,
    "execution_millis": 264,
    "execution_start": 1710349011070,
    "source_hash": null
   },
   "outputs": [
    {
     "data": {
      "application/vnd.deepnote.dataframe.v3+json": {
       "column_count": 6,
       "columns": [
        {
         "dtype": "int64",
         "name": "Id",
         "stats": {
          "histogram": [
           {
            "bin_end": 13,
            "bin_start": 3,
            "count": 2
           },
           {
            "bin_end": 23,
            "bin_start": 13,
            "count": 0
           },
           {
            "bin_end": 33,
            "bin_start": 23,
            "count": 0
           },
           {
            "bin_end": 43,
            "bin_start": 33,
            "count": 0
           },
           {
            "bin_end": 53,
            "bin_start": 43,
            "count": 0
           },
           {
            "bin_end": 63,
            "bin_start": 53,
            "count": 0
           },
           {
            "bin_end": 73,
            "bin_start": 63,
            "count": 2
           },
           {
            "bin_end": 83,
            "bin_start": 73,
            "count": 0
           },
           {
            "bin_end": 93,
            "bin_start": 83,
            "count": 0
           },
           {
            "bin_end": 103,
            "bin_start": 93,
            "count": 1
           }
          ],
          "max": "103",
          "min": "3",
          "nan_count": 0,
          "unique_count": 5
         }
        },
        {
         "dtype": "float64",
         "name": "SepalLengthCm",
         "stats": {
          "histogram": [
           {
            "bin_end": 0.1,
            "bin_start": 0,
            "count": 0
           },
           {
            "bin_end": 0.2,
            "bin_start": 0.1,
            "count": 0
           },
           {
            "bin_end": 0.30000000000000004,
            "bin_start": 0.2,
            "count": 0
           },
           {
            "bin_end": 0.4,
            "bin_start": 0.30000000000000004,
            "count": 0
           },
           {
            "bin_end": 0.5,
            "bin_start": 0.4,
            "count": 0
           },
           {
            "bin_end": 0.6000000000000001,
            "bin_start": 0.5,
            "count": 0
           },
           {
            "bin_end": 0.7000000000000001,
            "bin_start": 0.6000000000000001,
            "count": 0
           },
           {
            "bin_end": 0.8,
            "bin_start": 0.7000000000000001,
            "count": 0
           },
           {
            "bin_end": 0.9,
            "bin_start": 0.8,
            "count": 0
           },
           {
            "bin_end": 1,
            "bin_start": 0.9,
            "count": 0
           }
          ],
          "max": null,
          "min": null,
          "nan_count": 5,
          "unique_count": 0
         }
        },
        {
         "dtype": "float64",
         "name": "SepalWidthCm",
         "stats": {
          "histogram": [
           {
            "bin_end": 2.3200000000000003,
            "bin_start": 2.2,
            "count": 1
           },
           {
            "bin_end": 2.44,
            "bin_start": 2.3200000000000003,
            "count": 0
           },
           {
            "bin_end": 2.56,
            "bin_start": 2.44,
            "count": 0
           },
           {
            "bin_end": 2.68,
            "bin_start": 2.56,
            "count": 0
           },
           {
            "bin_end": 2.8,
            "bin_start": 2.68,
            "count": 0
           },
           {
            "bin_end": 2.92,
            "bin_start": 2.8,
            "count": 1
           },
           {
            "bin_end": 3.04,
            "bin_start": 2.92,
            "count": 1
           },
           {
            "bin_end": 3.16,
            "bin_start": 3.04,
            "count": 0
           },
           {
            "bin_end": 3.28,
            "bin_start": 3.16,
            "count": 1
           },
           {
            "bin_end": 3.4,
            "bin_start": 3.28,
            "count": 1
           }
          ],
          "max": "3.4",
          "min": "2.2",
          "nan_count": 0,
          "unique_count": 5
         }
        },
        {
         "dtype": "float64",
         "name": "PetalLengthCm",
         "stats": {
          "histogram": [
           {
            "bin_end": 1.7600000000000002,
            "bin_start": 1.3,
            "count": 2
           },
           {
            "bin_end": 2.22,
            "bin_start": 1.7600000000000002,
            "count": 0
           },
           {
            "bin_end": 2.6800000000000006,
            "bin_start": 2.22,
            "count": 0
           },
           {
            "bin_end": 3.1400000000000006,
            "bin_start": 2.6800000000000006,
            "count": 0
           },
           {
            "bin_end": 3.6000000000000005,
            "bin_start": 3.1400000000000006,
            "count": 0
           },
           {
            "bin_end": 4.0600000000000005,
            "bin_start": 3.6000000000000005,
            "count": 0
           },
           {
            "bin_end": 4.5200000000000005,
            "bin_start": 4.0600000000000005,
            "count": 1
           },
           {
            "bin_end": 4.98,
            "bin_start": 4.5200000000000005,
            "count": 1
           },
           {
            "bin_end": 5.44,
            "bin_start": 4.98,
            "count": 0
           },
           {
            "bin_end": 5.9,
            "bin_start": 5.44,
            "count": 1
           }
          ],
          "max": "5.9",
          "min": "1.3",
          "nan_count": 0,
          "unique_count": 5
         }
        },
        {
         "dtype": "float64",
         "name": "PetalWidthCm",
         "stats": {
          "histogram": [
           {
            "bin_end": 0.39,
            "bin_start": 0.2,
            "count": 2
           },
           {
            "bin_end": 0.5800000000000001,
            "bin_start": 0.39,
            "count": 0
           },
           {
            "bin_end": 0.77,
            "bin_start": 0.5800000000000001,
            "count": 0
           },
           {
            "bin_end": 0.96,
            "bin_start": 0.77,
            "count": 0
           },
           {
            "bin_end": 1.15,
            "bin_start": 0.96,
            "count": 0
           },
           {
            "bin_end": 1.34,
            "bin_start": 1.15,
            "count": 0
           },
           {
            "bin_end": 1.53,
            "bin_start": 1.34,
            "count": 2
           },
           {
            "bin_end": 1.72,
            "bin_start": 1.53,
            "count": 0
           },
           {
            "bin_end": 1.91,
            "bin_start": 1.72,
            "count": 0
           },
           {
            "bin_end": 2.1,
            "bin_start": 1.91,
            "count": 1
           }
          ],
          "max": "2.1",
          "min": "0.2",
          "nan_count": 0,
          "unique_count": 5
         }
        },
        {
         "dtype": "object",
         "name": "Species",
         "stats": {
          "categories": [
           {
            "count": 1,
            "name": "Iris-setosa"
           },
           {
            "count": 2,
            "name": "2 others"
           },
           {
            "count": 2,
            "name": "Missing"
           }
          ],
          "nan_count": 2,
          "unique_count": 3
         }
        },
        {
         "dtype": "int64",
         "name": "_deepnote_index_column"
        }
       ],
       "row_count": 5,
       "rows": [
        {
         "Id": 3,
         "PetalLengthCm": 1.3,
         "PetalWidthCm": 0.2,
         "SepalLengthCm": "nan",
         "SepalWidthCm": 3.2,
         "Species": "Iris-setosa",
         "_deepnote_index_column": 2
        },
        {
         "Id": 7,
         "PetalLengthCm": 1.4,
         "PetalWidthCm": 0.3,
         "SepalLengthCm": "nan",
         "SepalWidthCm": 3.4,
         "Species": "None",
         "_deepnote_index_column": 6
        },
        {
         "Id": 64,
         "PetalLengthCm": 4.7,
         "PetalWidthCm": 1.4,
         "SepalLengthCm": "nan",
         "SepalWidthCm": 2.9,
         "Species": "Iris-versicolor",
         "_deepnote_index_column": 63
        },
        {
         "Id": 69,
         "PetalLengthCm": 4.5,
         "PetalWidthCm": 1.5,
         "SepalLengthCm": "nan",
         "SepalWidthCm": 2.2,
         "Species": "None",
         "_deepnote_index_column": 68
        },
        {
         "Id": 103,
         "PetalLengthCm": 5.9,
         "PetalWidthCm": 2.1,
         "SepalLengthCm": "nan",
         "SepalWidthCm": 3,
         "Species": "Iris-virginica",
         "_deepnote_index_column": 102
        }
       ]
      },
      "text/html": [
       "<div>\n",
       "<style scoped>\n",
       "    .dataframe tbody tr th:only-of-type {\n",
       "        vertical-align: middle;\n",
       "    }\n",
       "\n",
       "    .dataframe tbody tr th {\n",
       "        vertical-align: top;\n",
       "    }\n",
       "\n",
       "    .dataframe thead th {\n",
       "        text-align: right;\n",
       "    }\n",
       "</style>\n",
       "<table border=\"1\" class=\"dataframe\">\n",
       "  <thead>\n",
       "    <tr style=\"text-align: right;\">\n",
       "      <th></th>\n",
       "      <th>Id</th>\n",
       "      <th>SepalLengthCm</th>\n",
       "      <th>SepalWidthCm</th>\n",
       "      <th>PetalLengthCm</th>\n",
       "      <th>PetalWidthCm</th>\n",
       "      <th>Species</th>\n",
       "    </tr>\n",
       "  </thead>\n",
       "  <tbody>\n",
       "    <tr>\n",
       "      <th>2</th>\n",
       "      <td>3</td>\n",
       "      <td>NaN</td>\n",
       "      <td>3.2</td>\n",
       "      <td>1.3</td>\n",
       "      <td>0.2</td>\n",
       "      <td>Iris-setosa</td>\n",
       "    </tr>\n",
       "    <tr>\n",
       "      <th>6</th>\n",
       "      <td>7</td>\n",
       "      <td>NaN</td>\n",
       "      <td>3.4</td>\n",
       "      <td>1.4</td>\n",
       "      <td>0.3</td>\n",
       "      <td>None</td>\n",
       "    </tr>\n",
       "    <tr>\n",
       "      <th>63</th>\n",
       "      <td>64</td>\n",
       "      <td>NaN</td>\n",
       "      <td>2.9</td>\n",
       "      <td>4.7</td>\n",
       "      <td>1.4</td>\n",
       "      <td>Iris-versicolor</td>\n",
       "    </tr>\n",
       "    <tr>\n",
       "      <th>68</th>\n",
       "      <td>69</td>\n",
       "      <td>NaN</td>\n",
       "      <td>2.2</td>\n",
       "      <td>4.5</td>\n",
       "      <td>1.5</td>\n",
       "      <td>None</td>\n",
       "    </tr>\n",
       "    <tr>\n",
       "      <th>102</th>\n",
       "      <td>103</td>\n",
       "      <td>NaN</td>\n",
       "      <td>3.0</td>\n",
       "      <td>5.9</td>\n",
       "      <td>2.1</td>\n",
       "      <td>Iris-virginica</td>\n",
       "    </tr>\n",
       "  </tbody>\n",
       "</table>\n",
       "</div>"
      ],
      "text/plain": [
       "      Id  SepalLengthCm  SepalWidthCm  PetalLengthCm  PetalWidthCm  \\\n",
       "2      3            NaN           3.2            1.3           0.2   \n",
       "6      7            NaN           3.4            1.4           0.3   \n",
       "63    64            NaN           2.9            4.7           1.4   \n",
       "68    69            NaN           2.2            4.5           1.5   \n",
       "102  103            NaN           3.0            5.9           2.1   \n",
       "\n",
       "             Species  \n",
       "2        Iris-setosa  \n",
       "6               None  \n",
       "63   Iris-versicolor  \n",
       "68              None  \n",
       "102   Iris-virginica  "
      ]
     },
     "execution_count": 19,
     "metadata": {},
     "output_type": "execute_result"
    }
   ],
   "outputs_reference": "s3:deepnote-cell-outputs-production/bec03623-f717-4381-9b9c-cf3404074243",
   "source": [
    "dirty_data = df_iris.query('SepalLengthCm.isnull() or SepalWidthCm.isnull() or PetalLengthCm.isnull() or PetalWidthCm.isnull() or Species.isnull()')\n",
    "\n",
    "jumlah_baris = dirty_data.shape[0]\n",
    "dirty_data.head(jumlah_baris)"
   ]
  },
  {
   "block_group": "1661c8c7063642b7a64d0db1944fcbf2",
   "cell_type": "markdown",
   "metadata": {
    "cell_id": "e9ca3956e14744da8d9ff298e996741e",
    "deepnote_cell_type": "text-cell-p",
    "formattedRanges": []
   },
   "source": [
    "Hasil dari ekstraksi data kotor menunjukkan bahwa terdapat kekosongan nilai (missing value) pada beberapa kolom dan baris dalam tabel \"Iris\". Lebih khusus, terdapat nilai NULL pada kolom \"SepalLengthCm\" dan \"Species\" untuk beberapa entri. Misalnya, terdapat 2 nilai NULL pada kolom \"SepalLengthCm\" dan \"Species\" pada Id ke-7 dan 69, serta 3 nilai NULL pada kolom \"SepalLengthCm\" pada baris ke-3, 64, dan 103."
   ]
  },
  {
   "block_group": "fa41e8695d1e4b8fbf6be3f62aa73169",
   "cell_type": "markdown",
   "metadata": {
    "cell_id": "b7114879ed6d47f9beb87bb7688249f5",
    "deepnote_cell_type": "text-cell-h2",
    "formattedRanges": []
   },
   "source": [
    "## Verifikasi Kualitas Data"
   ]
  },
  {
   "block_group": "3cbc01c1207e4adf89a47236785bc178",
   "cell_type": "markdown",
   "metadata": {
    "cell_id": "562d2e9c5ce641b293d6c9678f583498",
    "deepnote_cell_type": "text-cell-p",
    "formattedRanges": []
   },
   "source": [
    "Proses verifikasi kualitas data bertujuan untuk memastikan integritas data sebelum dilakukan analisis lebih lanjut. Salah satu langkah yang dilakukan adalah mengevaluasi kebersihan data, termasuk melihat apakah data lengkap, mengandung error, dan apakah ada nilai kosong (missing value)."
   ]
  },
  {
   "block_group": "54fe621e40274f1b950d431bbb89fa98",
   "cell_type": "markdown",
   "metadata": {
    "cell_id": "267a7105c05d4e89a4e02351cb3e82a9",
    "deepnote_cell_type": "text-cell-p",
    "formattedRanges": []
   },
   "source": [
    "Dari hasil penelusuran, ditemukan bahwa dalam tabel \"Iris\" terdapat kekosongan nilai pada beberapa kolom dan baris. Misalnya, terdapat 2 nilai NULL pada kolom \"SepalLengthCm\" dan \"Species\" pada Id ke-7 dan 69, serta 3 nilai NULL pada kolom \"SepalLengthCm\" pada baris ke-3, 64, dan 103."
   ]
  },
  {
   "block_group": "68be115f928c4f79810a1f74e98d0178",
   "cell_type": "markdown",
   "metadata": {
    "cell_id": "47c736618bec4338a1bff59af1787e00",
    "deepnote_cell_type": "text-cell-p",
    "formattedRanges": []
   },
   "source": [
    "Keberadaan nilai kosong ini dapat memengaruhi kualitas dan keakuratan analisis yang akan dilakukan. Oleh karena itu, untuk memperbaiki kualitas data diperlukan langkah untuk menangani nilai kosong ini sebelum melanjutkan analisis data lebih lanjut."
   ]
  },
  {
   "block_group": "e4a44a12577b4d7c8c774dac68bc0349",
   "cell_type": "markdown",
   "metadata": {
    "cell_id": "9432edf577524bf5bc01b8bfe3b268eb",
    "deepnote_cell_type": "text-cell-p",
    "formattedRanges": []
   },
   "source": [
    "Untuk memperbaiki kualitas data, langkah yang akan dilakukan:"
   ]
  },
  {
   "block_group": "8c534b3ea2c94b7091e7e067e981d812",
   "cell_type": "markdown",
   "metadata": {
    "cell_id": "64bb007f249e4794b2b62ffc25d716e4",
    "deepnote_app_block_visible": false,
    "deepnote_cell_type": "text-cell-bullet",
    "formattedRanges": [],
    "is_collapsed": false
   },
   "source": [
    "- Menghapus baris yang mengandung nilai kosong (NULL) pada kolom \"SepalLengthCm\" dan \"Species\"."
   ]
  },
  {
   "block_group": "630022d60cf94c678d61f8d3dc9bfdd6",
   "cell_type": "markdown",
   "metadata": {
    "cell_id": "3839cb0334db45fba1389e6605616a90",
    "deepnote_app_block_visible": false,
    "deepnote_cell_type": "text-cell-bullet",
    "formattedRanges": [],
    "is_collapsed": false
   },
   "source": [
    "- Melakukan pengisian atau imputasi nilai kosong untuk baris data yang mengandung nilai kosong (NULL) pada salah satu kolom saja yaitu \"SepalLenghtCm\".\r"
   ]
  },
  {
   "block_group": "fe7701f1153741bf8114cdd3e1a298ce",
   "cell_type": "markdown",
   "metadata": {
    "cell_id": "c160789f337a41698f88eeac865633f8",
    "deepnote_cell_type": "text-cell-h1",
    "formattedRanges": []
   },
   "source": [
    "# Persiapan Data (Preprocessing)"
   ]
  },
  {
   "block_group": "5c6ecbfda2eb44849748708770eed590",
   "cell_type": "markdown",
   "metadata": {
    "cell_id": "513daca7ecaa41c284b5f62651eb31c4",
    "deepnote_cell_type": "text-cell-p",
    "formattedRanges": []
   },
   "source": [
    "Tahap prepocessing data mencakup semua aktifitas untuk membangun dataset akhir (data yang digunakan untuk tool pemodelan) dari data mentah awal. Di sini kita akan melakukan pembersihan data untuk meningkatkan kualitas data sesuai dengan teknik yang dipilih."
   ]
  },
  {
   "block_group": "1b2da9fbaa5d4a9d96ce478f8b3c6f50",
   "cell_type": "markdown",
   "metadata": {
    "cell_id": "522f75bffa3d45099194b743593ba8bd",
    "deepnote_app_block_visible": false,
    "deepnote_cell_type": "text-cell-h2",
    "formattedRanges": [],
    "is_collapsed": false
   },
   "source": [
    "## Pengisian Data Missing Value dengan Mean"
   ]
  },
  {
   "block_group": "edf0fe4b2c9049f5bf834e83a8a34b07",
   "cell_type": "markdown",
   "metadata": {
    "cell_id": "2cde46654f8949da800c4924eeefe3da",
    "deepnote_cell_type": "text-cell-p",
    "formattedRanges": []
   },
   "source": [
    "Menduplikasi DataFrame df_iris ke dalam df_mean untuk menghindari modifikasi langsung pada DataFrame asli. Lalu, menampilkan semua DataFrame yang sudah diduplikasi."
   ]
  },
  {
   "block_group": "dc873c3f406649638be42672c09e03f0",
   "cell_type": "code",
   "execution_count": null,
   "metadata": {
    "cell_id": "80281ca93b6744eb94c64040bc388967",
    "deepnote_cell_type": "code",
    "deepnote_to_be_reexecuted": false,
    "execution_millis": 117,
    "execution_start": 1710352219683,
    "source_hash": null
   },
   "outputs": [
    {
     "data": {
      "application/vnd.deepnote.dataframe.v3+json": {
       "column_count": 6,
       "columns": [
        {
         "dtype": "int64",
         "name": "Id",
         "stats": {
          "histogram": [
           {
            "bin_end": 15.9,
            "bin_start": 1,
            "count": 15
           },
           {
            "bin_end": 30.8,
            "bin_start": 15.9,
            "count": 15
           },
           {
            "bin_end": 45.7,
            "bin_start": 30.8,
            "count": 15
           },
           {
            "bin_end": 60.6,
            "bin_start": 45.7,
            "count": 15
           },
           {
            "bin_end": 75.5,
            "bin_start": 60.6,
            "count": 15
           },
           {
            "bin_end": 90.4,
            "bin_start": 75.5,
            "count": 15
           },
           {
            "bin_end": 105.3,
            "bin_start": 90.4,
            "count": 15
           },
           {
            "bin_end": 120.2,
            "bin_start": 105.3,
            "count": 15
           },
           {
            "bin_end": 135.1,
            "bin_start": 120.2,
            "count": 15
           },
           {
            "bin_end": 150,
            "bin_start": 135.1,
            "count": 15
           }
          ],
          "max": "150",
          "min": "1",
          "nan_count": 0,
          "unique_count": 150
         }
        },
        {
         "dtype": "float64",
         "name": "SepalLengthCm",
         "stats": {
          "histogram": [
           {
            "bin_end": 4.66,
            "bin_start": 4.3,
            "count": 8
           },
           {
            "bin_end": 5.02,
            "bin_start": 4.66,
            "count": 22
           },
           {
            "bin_end": 5.38,
            "bin_start": 5.02,
            "count": 14
           },
           {
            "bin_end": 5.74,
            "bin_start": 5.38,
            "count": 27
           },
           {
            "bin_end": 6.1,
            "bin_start": 5.74,
            "count": 16
           },
           {
            "bin_end": 6.46,
            "bin_start": 6.1,
            "count": 24
           },
           {
            "bin_end": 6.82,
            "bin_start": 6.46,
            "count": 18
           },
           {
            "bin_end": 7.18,
            "bin_start": 6.82,
            "count": 5
           },
           {
            "bin_end": 7.54,
            "bin_start": 7.18,
            "count": 5
           },
           {
            "bin_end": 7.9,
            "bin_start": 7.54,
            "count": 6
           }
          ],
          "max": "7.9",
          "min": "4.3",
          "nan_count": 5,
          "unique_count": 34
         }
        },
        {
         "dtype": "float64",
         "name": "SepalWidthCm",
         "stats": {
          "histogram": [
           {
            "bin_end": 2.24,
            "bin_start": 2,
            "count": 4
           },
           {
            "bin_end": 2.48,
            "bin_start": 2.24,
            "count": 7
           },
           {
            "bin_end": 2.72,
            "bin_start": 2.48,
            "count": 22
           },
           {
            "bin_end": 2.96,
            "bin_start": 2.72,
            "count": 24
           },
           {
            "bin_end": 3.2,
            "bin_start": 2.96,
            "count": 38
           },
           {
            "bin_end": 3.4400000000000004,
            "bin_start": 3.2,
            "count": 31
           },
           {
            "bin_end": 3.6800000000000006,
            "bin_start": 3.4400000000000004,
            "count": 9
           },
           {
            "bin_end": 3.9200000000000004,
            "bin_start": 3.6800000000000006,
            "count": 11
           },
           {
            "bin_end": 4.16,
            "bin_start": 3.9200000000000004,
            "count": 2
           },
           {
            "bin_end": 4.4,
            "bin_start": 4.16,
            "count": 2
           }
          ],
          "max": "4.4",
          "min": "2.0",
          "nan_count": 0,
          "unique_count": 23
         }
        },
        {
         "dtype": "float64",
         "name": "PetalLengthCm",
         "stats": {
          "histogram": [
           {
            "bin_end": 1.59,
            "bin_start": 1,
            "count": 37
           },
           {
            "bin_end": 2.18,
            "bin_start": 1.59,
            "count": 13
           },
           {
            "bin_end": 2.7700000000000005,
            "bin_start": 2.18,
            "count": 0
           },
           {
            "bin_end": 3.3600000000000003,
            "bin_start": 2.7700000000000005,
            "count": 3
           },
           {
            "bin_end": 3.95,
            "bin_start": 3.3600000000000003,
            "count": 8
           },
           {
            "bin_end": 4.540000000000001,
            "bin_start": 3.95,
            "count": 26
           },
           {
            "bin_end": 5.130000000000001,
            "bin_start": 4.540000000000001,
            "count": 29
           },
           {
            "bin_end": 5.720000000000001,
            "bin_start": 5.130000000000001,
            "count": 18
           },
           {
            "bin_end": 6.3100000000000005,
            "bin_start": 5.720000000000001,
            "count": 11
           },
           {
            "bin_end": 6.9,
            "bin_start": 6.3100000000000005,
            "count": 5
           }
          ],
          "max": "6.9",
          "min": "1.0",
          "nan_count": 0,
          "unique_count": 43
         }
        },
        {
         "dtype": "float64",
         "name": "PetalWidthCm",
         "stats": {
          "histogram": [
           {
            "bin_end": 0.33999999999999997,
            "bin_start": 0.1,
            "count": 41
           },
           {
            "bin_end": 0.58,
            "bin_start": 0.33999999999999997,
            "count": 8
           },
           {
            "bin_end": 0.82,
            "bin_start": 0.58,
            "count": 1
           },
           {
            "bin_end": 1.06,
            "bin_start": 0.82,
            "count": 7
           },
           {
            "bin_end": 1.3,
            "bin_start": 1.06,
            "count": 8
           },
           {
            "bin_end": 1.54,
            "bin_start": 1.3,
            "count": 33
           },
           {
            "bin_end": 1.78,
            "bin_start": 1.54,
            "count": 6
           },
           {
            "bin_end": 2.02,
            "bin_start": 1.78,
            "count": 23
           },
           {
            "bin_end": 2.2600000000000002,
            "bin_start": 2.02,
            "count": 9
           },
           {
            "bin_end": 2.5,
            "bin_start": 2.2600000000000002,
            "count": 14
           }
          ],
          "max": "2.5",
          "min": "0.1",
          "nan_count": 0,
          "unique_count": 22
         }
        },
        {
         "dtype": "object",
         "name": "Species",
         "stats": {
          "categories": [
           {
            "count": 50,
            "name": "Iris-virginica"
           },
           {
            "count": 98,
            "name": "2 others"
           },
           {
            "count": 2,
            "name": "Missing"
           }
          ],
          "nan_count": 2,
          "unique_count": 3
         }
        },
        {
         "dtype": "int64",
         "name": "_deepnote_index_column"
        }
       ],
       "row_count": 150,
       "rows": [
        {
         "Id": 1,
         "PetalLengthCm": 1.4,
         "PetalWidthCm": 0.2,
         "SepalLengthCm": 5.1,
         "SepalWidthCm": 3.5,
         "Species": "Iris-setosa",
         "_deepnote_index_column": 0
        },
        {
         "Id": 2,
         "PetalLengthCm": 1.4,
         "PetalWidthCm": 0.2,
         "SepalLengthCm": 4.9,
         "SepalWidthCm": 3,
         "Species": "Iris-setosa",
         "_deepnote_index_column": 1
        },
        {
         "Id": 3,
         "PetalLengthCm": 1.3,
         "PetalWidthCm": 0.2,
         "SepalLengthCm": "nan",
         "SepalWidthCm": 3.2,
         "Species": "Iris-setosa",
         "_deepnote_index_column": 2
        },
        {
         "Id": 4,
         "PetalLengthCm": 1.5,
         "PetalWidthCm": 0.2,
         "SepalLengthCm": 4.6,
         "SepalWidthCm": 3.1,
         "Species": "Iris-setosa",
         "_deepnote_index_column": 3
        },
        {
         "Id": 5,
         "PetalLengthCm": 1.4,
         "PetalWidthCm": 0.2,
         "SepalLengthCm": 5,
         "SepalWidthCm": 3.6,
         "Species": "Iris-setosa",
         "_deepnote_index_column": 4
        },
        {
         "Id": 6,
         "PetalLengthCm": 1.7,
         "PetalWidthCm": 0.4,
         "SepalLengthCm": 5.4,
         "SepalWidthCm": 3.9,
         "Species": "Iris-setosa",
         "_deepnote_index_column": 5
        },
        {
         "Id": 7,
         "PetalLengthCm": 1.4,
         "PetalWidthCm": 0.3,
         "SepalLengthCm": "nan",
         "SepalWidthCm": 3.4,
         "Species": "None",
         "_deepnote_index_column": 6
        },
        {
         "Id": 8,
         "PetalLengthCm": 1.5,
         "PetalWidthCm": 0.2,
         "SepalLengthCm": 5,
         "SepalWidthCm": 3.4,
         "Species": "Iris-setosa",
         "_deepnote_index_column": 7
        },
        {
         "Id": 9,
         "PetalLengthCm": 1.4,
         "PetalWidthCm": 0.2,
         "SepalLengthCm": 4.4,
         "SepalWidthCm": 2.9,
         "Species": "Iris-setosa",
         "_deepnote_index_column": 8
        },
        {
         "Id": 10,
         "PetalLengthCm": 1.5,
         "PetalWidthCm": 0.1,
         "SepalLengthCm": 4.9,
         "SepalWidthCm": 3.1,
         "Species": "Iris-setosa",
         "_deepnote_index_column": 9
        }
       ]
      },
      "text/html": [
       "<div>\n",
       "<style scoped>\n",
       "    .dataframe tbody tr th:only-of-type {\n",
       "        vertical-align: middle;\n",
       "    }\n",
       "\n",
       "    .dataframe tbody tr th {\n",
       "        vertical-align: top;\n",
       "    }\n",
       "\n",
       "    .dataframe thead th {\n",
       "        text-align: right;\n",
       "    }\n",
       "</style>\n",
       "<table border=\"1\" class=\"dataframe\">\n",
       "  <thead>\n",
       "    <tr style=\"text-align: right;\">\n",
       "      <th></th>\n",
       "      <th>Id</th>\n",
       "      <th>SepalLengthCm</th>\n",
       "      <th>SepalWidthCm</th>\n",
       "      <th>PetalLengthCm</th>\n",
       "      <th>PetalWidthCm</th>\n",
       "      <th>Species</th>\n",
       "    </tr>\n",
       "  </thead>\n",
       "  <tbody>\n",
       "    <tr>\n",
       "      <th>0</th>\n",
       "      <td>1</td>\n",
       "      <td>5.1</td>\n",
       "      <td>3.5</td>\n",
       "      <td>1.4</td>\n",
       "      <td>0.2</td>\n",
       "      <td>Iris-setosa</td>\n",
       "    </tr>\n",
       "    <tr>\n",
       "      <th>1</th>\n",
       "      <td>2</td>\n",
       "      <td>4.9</td>\n",
       "      <td>3.0</td>\n",
       "      <td>1.4</td>\n",
       "      <td>0.2</td>\n",
       "      <td>Iris-setosa</td>\n",
       "    </tr>\n",
       "    <tr>\n",
       "      <th>2</th>\n",
       "      <td>3</td>\n",
       "      <td>NaN</td>\n",
       "      <td>3.2</td>\n",
       "      <td>1.3</td>\n",
       "      <td>0.2</td>\n",
       "      <td>Iris-setosa</td>\n",
       "    </tr>\n",
       "    <tr>\n",
       "      <th>3</th>\n",
       "      <td>4</td>\n",
       "      <td>4.6</td>\n",
       "      <td>3.1</td>\n",
       "      <td>1.5</td>\n",
       "      <td>0.2</td>\n",
       "      <td>Iris-setosa</td>\n",
       "    </tr>\n",
       "    <tr>\n",
       "      <th>4</th>\n",
       "      <td>5</td>\n",
       "      <td>5.0</td>\n",
       "      <td>3.6</td>\n",
       "      <td>1.4</td>\n",
       "      <td>0.2</td>\n",
       "      <td>Iris-setosa</td>\n",
       "    </tr>\n",
       "    <tr>\n",
       "      <th>...</th>\n",
       "      <td>...</td>\n",
       "      <td>...</td>\n",
       "      <td>...</td>\n",
       "      <td>...</td>\n",
       "      <td>...</td>\n",
       "      <td>...</td>\n",
       "    </tr>\n",
       "    <tr>\n",
       "      <th>145</th>\n",
       "      <td>146</td>\n",
       "      <td>6.7</td>\n",
       "      <td>3.0</td>\n",
       "      <td>5.2</td>\n",
       "      <td>2.3</td>\n",
       "      <td>Iris-virginica</td>\n",
       "    </tr>\n",
       "    <tr>\n",
       "      <th>146</th>\n",
       "      <td>147</td>\n",
       "      <td>6.3</td>\n",
       "      <td>2.5</td>\n",
       "      <td>5.0</td>\n",
       "      <td>1.9</td>\n",
       "      <td>Iris-virginica</td>\n",
       "    </tr>\n",
       "    <tr>\n",
       "      <th>147</th>\n",
       "      <td>148</td>\n",
       "      <td>6.5</td>\n",
       "      <td>3.0</td>\n",
       "      <td>5.2</td>\n",
       "      <td>2.0</td>\n",
       "      <td>Iris-virginica</td>\n",
       "    </tr>\n",
       "    <tr>\n",
       "      <th>148</th>\n",
       "      <td>149</td>\n",
       "      <td>6.2</td>\n",
       "      <td>3.4</td>\n",
       "      <td>5.4</td>\n",
       "      <td>2.3</td>\n",
       "      <td>Iris-virginica</td>\n",
       "    </tr>\n",
       "    <tr>\n",
       "      <th>149</th>\n",
       "      <td>150</td>\n",
       "      <td>5.9</td>\n",
       "      <td>3.0</td>\n",
       "      <td>5.1</td>\n",
       "      <td>1.8</td>\n",
       "      <td>Iris-virginica</td>\n",
       "    </tr>\n",
       "  </tbody>\n",
       "</table>\n",
       "<p>150 rows × 6 columns</p>\n",
       "</div>"
      ],
      "text/plain": [
       "      Id  SepalLengthCm  SepalWidthCm  PetalLengthCm  PetalWidthCm  \\\n",
       "0      1            5.1           3.5            1.4           0.2   \n",
       "1      2            4.9           3.0            1.4           0.2   \n",
       "2      3            NaN           3.2            1.3           0.2   \n",
       "3      4            4.6           3.1            1.5           0.2   \n",
       "4      5            5.0           3.6            1.4           0.2   \n",
       "..   ...            ...           ...            ...           ...   \n",
       "145  146            6.7           3.0            5.2           2.3   \n",
       "146  147            6.3           2.5            5.0           1.9   \n",
       "147  148            6.5           3.0            5.2           2.0   \n",
       "148  149            6.2           3.4            5.4           2.3   \n",
       "149  150            5.9           3.0            5.1           1.8   \n",
       "\n",
       "            Species  \n",
       "0       Iris-setosa  \n",
       "1       Iris-setosa  \n",
       "2       Iris-setosa  \n",
       "3       Iris-setosa  \n",
       "4       Iris-setosa  \n",
       "..              ...  \n",
       "145  Iris-virginica  \n",
       "146  Iris-virginica  \n",
       "147  Iris-virginica  \n",
       "148  Iris-virginica  \n",
       "149  Iris-virginica  \n",
       "\n",
       "[150 rows x 6 columns]"
      ]
     },
     "execution_count": 43,
     "metadata": {},
     "output_type": "execute_result"
    }
   ],
   "outputs_reference": "s3:deepnote-cell-outputs-production/7fa51b81-ad15-46de-9d82-4141f6c373d3",
   "source": [
    "df_mean = df_iris.copy()\n",
    "\n",
    "jumlah_baris = df_mean.shape[0]\n",
    "df_mean.head(jumlah_baris)"
   ]
  },
  {
   "block_group": "2aa9c0f21e7d4e5c8a3ca5f2f4fad4f5",
   "cell_type": "markdown",
   "metadata": {
    "cell_id": "3e142ec60c514c49915bd3df7d8b1391",
    "deepnote_cell_type": "text-cell-p",
    "formattedRanges": []
   },
   "source": [
    "Dari Tabel di atas, terlihat bahwa terdapat beberapa baris yang memiliki data kosong (missing-value). Untuk informasi lebih singkat, dapat kita lihat pada perhitungan jumlah nilai yang hilang dalam setiap kolom berikut."
   ]
  },
  {
   "block_group": "93d55d7b473a4a8aa169b6c08daf97e9",
   "cell_type": "code",
   "execution_count": null,
   "metadata": {
    "cell_id": "d3e396a8e248425ca563dfed59826cbc",
    "deepnote_cell_type": "code",
    "deepnote_to_be_reexecuted": false,
    "execution_millis": 34,
    "execution_start": 1710352226598,
    "source_hash": null
   },
   "outputs": [
    {
     "data": {
      "text/plain": [
       "Id               0\n",
       "SepalLengthCm    5\n",
       "SepalWidthCm     0\n",
       "PetalLengthCm    0\n",
       "PetalWidthCm     0\n",
       "Species          2\n",
       "dtype: int64"
      ]
     },
     "execution_count": 44,
     "metadata": {},
     "output_type": "execute_result"
    }
   ],
   "outputs_reference": "dbtable:cell_outputs/45be3987-bf92-4c22-a7b6-49f8c1e6f4cf",
   "source": [
    "df_mean.isnull().sum()"
   ]
  },
  {
   "block_group": "851cfe3cd4e943a7bc6c31cf3065ffd2",
   "cell_type": "markdown",
   "metadata": {
    "cell_id": "49bdd31fed774c7882214b56aaab2507",
    "deepnote_cell_type": "text-cell-p",
    "formattedRanges": []
   },
   "source": [
    "Karena pada tabel terlihat bahwa terdapat dua baris data yang memiliki nilai kosong (missing-value) pada kolom SepalLengthCm dan Species yang dapat menimbulkan kesalahan analisis, maka kita dapat menghapus kedua baris tersebut agar tidak menggangu proses pengisian data."
   ]
  },
  {
   "block_group": "dc7da4b1baa6434192a5f7e95cfc8821",
   "cell_type": "code",
   "execution_count": null,
   "metadata": {
    "cell_id": "b8cab57f20c04ccba638352663934286",
    "deepnote_cell_type": "code",
    "deepnote_to_be_reexecuted": false,
    "execution_millis": 58,
    "execution_start": 1710352231853,
    "source_hash": null
   },
   "outputs": [],
   "outputs_reference": null,
   "source": [
    "df_mean = df_mean.dropna(subset=['SepalLengthCm', 'Species'], how='all')"
   ]
  },
  {
   "block_group": "9d0f0cba08724a468638686402d270b3",
   "cell_type": "markdown",
   "metadata": {
    "cell_id": "5c6978bb553c47eaa1d712d89cff7b13",
    "deepnote_cell_type": "text-cell-p",
    "formattedRanges": []
   },
   "source": [
    "Menghitung kembali jumlah nilai yang hilang setelah penghapusan data."
   ]
  },
  {
   "block_group": "ed767d28dab042c5b376dcbc8f79ebf2",
   "cell_type": "code",
   "execution_count": null,
   "metadata": {
    "cell_id": "5eebcf56e9e64820ab476a86bec7dfa0",
    "deepnote_cell_type": "code",
    "deepnote_to_be_reexecuted": false,
    "execution_millis": 69,
    "execution_start": 1710352234278,
    "source_hash": null
   },
   "outputs": [
    {
     "data": {
      "text/plain": [
       "Id               0\n",
       "SepalLengthCm    3\n",
       "SepalWidthCm     0\n",
       "PetalLengthCm    0\n",
       "PetalWidthCm     0\n",
       "Species          0\n",
       "dtype: int64"
      ]
     },
     "execution_count": 46,
     "metadata": {},
     "output_type": "execute_result"
    }
   ],
   "outputs_reference": "dbtable:cell_outputs/6ca59648-8352-42c5-ace0-911c72527da9",
   "source": [
    "df_mean.isnull().sum()"
   ]
  },
  {
   "block_group": "8e408731cf1547e6b50db090c16d3f23",
   "cell_type": "markdown",
   "metadata": {
    "cell_id": "e45dfbd9773a48938fb4ee6e1011ad93",
    "deepnote_cell_type": "text-cell-p",
    "formattedRanges": []
   },
   "source": [
    "Menampilkan kembali semua baris yang ada pada DataFrame setelah penghapusan data."
   ]
  },
  {
   "block_group": "54a7bd77cac14f28b7267284d9a1fb82",
   "cell_type": "code",
   "execution_count": null,
   "metadata": {
    "cell_id": "267fbc335c624998a5ad35982d719c95",
    "deepnote_cell_type": "code",
    "deepnote_table_loading": false,
    "deepnote_table_state": {
     "filters": [],
     "pageIndex": 0,
     "pageSize": 10,
     "sortBy": []
    },
    "deepnote_to_be_reexecuted": false,
    "execution_millis": 263,
    "execution_start": 1710352238947,
    "source_hash": null
   },
   "outputs": [
    {
     "data": {
      "application/vnd.deepnote.dataframe.v3+json": {
       "column_count": 6,
       "columns": [
        {
         "dtype": "int64",
         "name": "Id",
         "stats": {
          "histogram": [
           {
            "bin_end": 15.9,
            "bin_start": 1,
            "count": 14
           },
           {
            "bin_end": 30.8,
            "bin_start": 15.9,
            "count": 15
           },
           {
            "bin_end": 45.7,
            "bin_start": 30.8,
            "count": 15
           },
           {
            "bin_end": 60.6,
            "bin_start": 45.7,
            "count": 15
           },
           {
            "bin_end": 75.5,
            "bin_start": 60.6,
            "count": 14
           },
           {
            "bin_end": 90.4,
            "bin_start": 75.5,
            "count": 15
           },
           {
            "bin_end": 105.3,
            "bin_start": 90.4,
            "count": 15
           },
           {
            "bin_end": 120.2,
            "bin_start": 105.3,
            "count": 15
           },
           {
            "bin_end": 135.1,
            "bin_start": 120.2,
            "count": 15
           },
           {
            "bin_end": 150,
            "bin_start": 135.1,
            "count": 15
           }
          ],
          "max": "150",
          "min": "1",
          "nan_count": 0,
          "unique_count": 148
         }
        },
        {
         "dtype": "float64",
         "name": "SepalLengthCm",
         "stats": {
          "histogram": [
           {
            "bin_end": 4.66,
            "bin_start": 4.3,
            "count": 8
           },
           {
            "bin_end": 5.02,
            "bin_start": 4.66,
            "count": 22
           },
           {
            "bin_end": 5.38,
            "bin_start": 5.02,
            "count": 14
           },
           {
            "bin_end": 5.74,
            "bin_start": 5.38,
            "count": 27
           },
           {
            "bin_end": 6.1,
            "bin_start": 5.74,
            "count": 16
           },
           {
            "bin_end": 6.46,
            "bin_start": 6.1,
            "count": 24
           },
           {
            "bin_end": 6.82,
            "bin_start": 6.46,
            "count": 18
           },
           {
            "bin_end": 7.18,
            "bin_start": 6.82,
            "count": 5
           },
           {
            "bin_end": 7.54,
            "bin_start": 7.18,
            "count": 5
           },
           {
            "bin_end": 7.9,
            "bin_start": 7.54,
            "count": 6
           }
          ],
          "max": "7.9",
          "min": "4.3",
          "nan_count": 3,
          "unique_count": 34
         }
        },
        {
         "dtype": "float64",
         "name": "SepalWidthCm",
         "stats": {
          "histogram": [
           {
            "bin_end": 2.24,
            "bin_start": 2,
            "count": 3
           },
           {
            "bin_end": 2.48,
            "bin_start": 2.24,
            "count": 7
           },
           {
            "bin_end": 2.72,
            "bin_start": 2.48,
            "count": 22
           },
           {
            "bin_end": 2.96,
            "bin_start": 2.72,
            "count": 24
           },
           {
            "bin_end": 3.2,
            "bin_start": 2.96,
            "count": 38
           },
           {
            "bin_end": 3.4400000000000004,
            "bin_start": 3.2,
            "count": 30
           },
           {
            "bin_end": 3.6800000000000006,
            "bin_start": 3.4400000000000004,
            "count": 9
           },
           {
            "bin_end": 3.9200000000000004,
            "bin_start": 3.6800000000000006,
            "count": 11
           },
           {
            "bin_end": 4.16,
            "bin_start": 3.9200000000000004,
            "count": 2
           },
           {
            "bin_end": 4.4,
            "bin_start": 4.16,
            "count": 2
           }
          ],
          "max": "4.4",
          "min": "2.0",
          "nan_count": 0,
          "unique_count": 23
         }
        },
        {
         "dtype": "float64",
         "name": "PetalLengthCm",
         "stats": {
          "histogram": [
           {
            "bin_end": 1.59,
            "bin_start": 1,
            "count": 36
           },
           {
            "bin_end": 2.18,
            "bin_start": 1.59,
            "count": 13
           },
           {
            "bin_end": 2.7700000000000005,
            "bin_start": 2.18,
            "count": 0
           },
           {
            "bin_end": 3.3600000000000003,
            "bin_start": 2.7700000000000005,
            "count": 3
           },
           {
            "bin_end": 3.95,
            "bin_start": 3.3600000000000003,
            "count": 8
           },
           {
            "bin_end": 4.540000000000001,
            "bin_start": 3.95,
            "count": 25
           },
           {
            "bin_end": 5.130000000000001,
            "bin_start": 4.540000000000001,
            "count": 29
           },
           {
            "bin_end": 5.720000000000001,
            "bin_start": 5.130000000000001,
            "count": 18
           },
           {
            "bin_end": 6.3100000000000005,
            "bin_start": 5.720000000000001,
            "count": 11
           },
           {
            "bin_end": 6.9,
            "bin_start": 6.3100000000000005,
            "count": 5
           }
          ],
          "max": "6.9",
          "min": "1.0",
          "nan_count": 0,
          "unique_count": 43
         }
        },
        {
         "dtype": "float64",
         "name": "PetalWidthCm",
         "stats": {
          "histogram": [
           {
            "bin_end": 0.33999999999999997,
            "bin_start": 0.1,
            "count": 40
           },
           {
            "bin_end": 0.58,
            "bin_start": 0.33999999999999997,
            "count": 8
           },
           {
            "bin_end": 0.82,
            "bin_start": 0.58,
            "count": 1
           },
           {
            "bin_end": 1.06,
            "bin_start": 0.82,
            "count": 7
           },
           {
            "bin_end": 1.3,
            "bin_start": 1.06,
            "count": 8
           },
           {
            "bin_end": 1.54,
            "bin_start": 1.3,
            "count": 32
           },
           {
            "bin_end": 1.78,
            "bin_start": 1.54,
            "count": 6
           },
           {
            "bin_end": 2.02,
            "bin_start": 1.78,
            "count": 23
           },
           {
            "bin_end": 2.2600000000000002,
            "bin_start": 2.02,
            "count": 9
           },
           {
            "bin_end": 2.5,
            "bin_start": 2.2600000000000002,
            "count": 14
           }
          ],
          "max": "2.5",
          "min": "0.1",
          "nan_count": 0,
          "unique_count": 22
         }
        },
        {
         "dtype": "object",
         "name": "Species",
         "stats": {
          "categories": [
           {
            "count": 50,
            "name": "Iris-virginica"
           },
           {
            "count": 49,
            "name": "Iris-setosa"
           },
           {
            "count": 49,
            "name": "Iris-versicolor"
           }
          ],
          "nan_count": 0,
          "unique_count": 3
         }
        },
        {
         "dtype": "int64",
         "name": "_deepnote_index_column"
        }
       ],
       "row_count": 148,
       "rows": [
        {
         "Id": 1,
         "PetalLengthCm": 1.4,
         "PetalWidthCm": 0.2,
         "SepalLengthCm": 5.1,
         "SepalWidthCm": 3.5,
         "Species": "Iris-setosa",
         "_deepnote_index_column": 0
        },
        {
         "Id": 2,
         "PetalLengthCm": 1.4,
         "PetalWidthCm": 0.2,
         "SepalLengthCm": 4.9,
         "SepalWidthCm": 3,
         "Species": "Iris-setosa",
         "_deepnote_index_column": 1
        },
        {
         "Id": 3,
         "PetalLengthCm": 1.3,
         "PetalWidthCm": 0.2,
         "SepalLengthCm": "nan",
         "SepalWidthCm": 3.2,
         "Species": "Iris-setosa",
         "_deepnote_index_column": 2
        },
        {
         "Id": 4,
         "PetalLengthCm": 1.5,
         "PetalWidthCm": 0.2,
         "SepalLengthCm": 4.6,
         "SepalWidthCm": 3.1,
         "Species": "Iris-setosa",
         "_deepnote_index_column": 3
        },
        {
         "Id": 5,
         "PetalLengthCm": 1.4,
         "PetalWidthCm": 0.2,
         "SepalLengthCm": 5,
         "SepalWidthCm": 3.6,
         "Species": "Iris-setosa",
         "_deepnote_index_column": 4
        },
        {
         "Id": 6,
         "PetalLengthCm": 1.7,
         "PetalWidthCm": 0.4,
         "SepalLengthCm": 5.4,
         "SepalWidthCm": 3.9,
         "Species": "Iris-setosa",
         "_deepnote_index_column": 5
        },
        {
         "Id": 8,
         "PetalLengthCm": 1.5,
         "PetalWidthCm": 0.2,
         "SepalLengthCm": 5,
         "SepalWidthCm": 3.4,
         "Species": "Iris-setosa",
         "_deepnote_index_column": 7
        },
        {
         "Id": 9,
         "PetalLengthCm": 1.4,
         "PetalWidthCm": 0.2,
         "SepalLengthCm": 4.4,
         "SepalWidthCm": 2.9,
         "Species": "Iris-setosa",
         "_deepnote_index_column": 8
        },
        {
         "Id": 10,
         "PetalLengthCm": 1.5,
         "PetalWidthCm": 0.1,
         "SepalLengthCm": 4.9,
         "SepalWidthCm": 3.1,
         "Species": "Iris-setosa",
         "_deepnote_index_column": 9
        },
        {
         "Id": 11,
         "PetalLengthCm": 1.5,
         "PetalWidthCm": 0.2,
         "SepalLengthCm": 5.4,
         "SepalWidthCm": 3.7,
         "Species": "Iris-setosa",
         "_deepnote_index_column": 10
        }
       ]
      },
      "text/html": [
       "<div>\n",
       "<style scoped>\n",
       "    .dataframe tbody tr th:only-of-type {\n",
       "        vertical-align: middle;\n",
       "    }\n",
       "\n",
       "    .dataframe tbody tr th {\n",
       "        vertical-align: top;\n",
       "    }\n",
       "\n",
       "    .dataframe thead th {\n",
       "        text-align: right;\n",
       "    }\n",
       "</style>\n",
       "<table border=\"1\" class=\"dataframe\">\n",
       "  <thead>\n",
       "    <tr style=\"text-align: right;\">\n",
       "      <th></th>\n",
       "      <th>Id</th>\n",
       "      <th>SepalLengthCm</th>\n",
       "      <th>SepalWidthCm</th>\n",
       "      <th>PetalLengthCm</th>\n",
       "      <th>PetalWidthCm</th>\n",
       "      <th>Species</th>\n",
       "    </tr>\n",
       "  </thead>\n",
       "  <tbody>\n",
       "    <tr>\n",
       "      <th>0</th>\n",
       "      <td>1</td>\n",
       "      <td>5.1</td>\n",
       "      <td>3.5</td>\n",
       "      <td>1.4</td>\n",
       "      <td>0.2</td>\n",
       "      <td>Iris-setosa</td>\n",
       "    </tr>\n",
       "    <tr>\n",
       "      <th>1</th>\n",
       "      <td>2</td>\n",
       "      <td>4.9</td>\n",
       "      <td>3.0</td>\n",
       "      <td>1.4</td>\n",
       "      <td>0.2</td>\n",
       "      <td>Iris-setosa</td>\n",
       "    </tr>\n",
       "    <tr>\n",
       "      <th>2</th>\n",
       "      <td>3</td>\n",
       "      <td>NaN</td>\n",
       "      <td>3.2</td>\n",
       "      <td>1.3</td>\n",
       "      <td>0.2</td>\n",
       "      <td>Iris-setosa</td>\n",
       "    </tr>\n",
       "    <tr>\n",
       "      <th>3</th>\n",
       "      <td>4</td>\n",
       "      <td>4.6</td>\n",
       "      <td>3.1</td>\n",
       "      <td>1.5</td>\n",
       "      <td>0.2</td>\n",
       "      <td>Iris-setosa</td>\n",
       "    </tr>\n",
       "    <tr>\n",
       "      <th>4</th>\n",
       "      <td>5</td>\n",
       "      <td>5.0</td>\n",
       "      <td>3.6</td>\n",
       "      <td>1.4</td>\n",
       "      <td>0.2</td>\n",
       "      <td>Iris-setosa</td>\n",
       "    </tr>\n",
       "    <tr>\n",
       "      <th>...</th>\n",
       "      <td>...</td>\n",
       "      <td>...</td>\n",
       "      <td>...</td>\n",
       "      <td>...</td>\n",
       "      <td>...</td>\n",
       "      <td>...</td>\n",
       "    </tr>\n",
       "    <tr>\n",
       "      <th>145</th>\n",
       "      <td>146</td>\n",
       "      <td>6.7</td>\n",
       "      <td>3.0</td>\n",
       "      <td>5.2</td>\n",
       "      <td>2.3</td>\n",
       "      <td>Iris-virginica</td>\n",
       "    </tr>\n",
       "    <tr>\n",
       "      <th>146</th>\n",
       "      <td>147</td>\n",
       "      <td>6.3</td>\n",
       "      <td>2.5</td>\n",
       "      <td>5.0</td>\n",
       "      <td>1.9</td>\n",
       "      <td>Iris-virginica</td>\n",
       "    </tr>\n",
       "    <tr>\n",
       "      <th>147</th>\n",
       "      <td>148</td>\n",
       "      <td>6.5</td>\n",
       "      <td>3.0</td>\n",
       "      <td>5.2</td>\n",
       "      <td>2.0</td>\n",
       "      <td>Iris-virginica</td>\n",
       "    </tr>\n",
       "    <tr>\n",
       "      <th>148</th>\n",
       "      <td>149</td>\n",
       "      <td>6.2</td>\n",
       "      <td>3.4</td>\n",
       "      <td>5.4</td>\n",
       "      <td>2.3</td>\n",
       "      <td>Iris-virginica</td>\n",
       "    </tr>\n",
       "    <tr>\n",
       "      <th>149</th>\n",
       "      <td>150</td>\n",
       "      <td>5.9</td>\n",
       "      <td>3.0</td>\n",
       "      <td>5.1</td>\n",
       "      <td>1.8</td>\n",
       "      <td>Iris-virginica</td>\n",
       "    </tr>\n",
       "  </tbody>\n",
       "</table>\n",
       "<p>148 rows × 6 columns</p>\n",
       "</div>"
      ],
      "text/plain": [
       "      Id  SepalLengthCm  SepalWidthCm  PetalLengthCm  PetalWidthCm  \\\n",
       "0      1            5.1           3.5            1.4           0.2   \n",
       "1      2            4.9           3.0            1.4           0.2   \n",
       "2      3            NaN           3.2            1.3           0.2   \n",
       "3      4            4.6           3.1            1.5           0.2   \n",
       "4      5            5.0           3.6            1.4           0.2   \n",
       "..   ...            ...           ...            ...           ...   \n",
       "145  146            6.7           3.0            5.2           2.3   \n",
       "146  147            6.3           2.5            5.0           1.9   \n",
       "147  148            6.5           3.0            5.2           2.0   \n",
       "148  149            6.2           3.4            5.4           2.3   \n",
       "149  150            5.9           3.0            5.1           1.8   \n",
       "\n",
       "            Species  \n",
       "0       Iris-setosa  \n",
       "1       Iris-setosa  \n",
       "2       Iris-setosa  \n",
       "3       Iris-setosa  \n",
       "4       Iris-setosa  \n",
       "..              ...  \n",
       "145  Iris-virginica  \n",
       "146  Iris-virginica  \n",
       "147  Iris-virginica  \n",
       "148  Iris-virginica  \n",
       "149  Iris-virginica  \n",
       "\n",
       "[148 rows x 6 columns]"
      ]
     },
     "execution_count": 47,
     "metadata": {},
     "output_type": "execute_result"
    }
   ],
   "outputs_reference": "s3:deepnote-cell-outputs-production/4be87908-acab-4d2c-83fa-0192a65a12b7",
   "source": [
    "jumlah_baris = df_mean.shape[0]\n",
    "df_mean.head(jumlah_baris)"
   ]
  },
  {
   "block_group": "9fe73448419745d282ff5b47d10db57e",
   "cell_type": "markdown",
   "metadata": {
    "cell_id": "a277184274ab4771820cf98bf6a95ed9",
    "deepnote_cell_type": "text-cell-p",
    "formattedRanges": []
   },
   "source": [
    "Menghitung rata-rata dari kolom SepalLengthCm hanya untuk baris di mana Species adalah \"Iris-setosa\"."
   ]
  },
  {
   "block_group": "4523fc02232a43b795ebbe21e2282059",
   "cell_type": "code",
   "execution_count": null,
   "metadata": {
    "cell_id": "1ea89c0821494ba6860f23c4a71eaaba",
    "deepnote_cell_type": "code",
    "deepnote_to_be_reexecuted": false,
    "execution_millis": 62,
    "execution_start": 1710352248551,
    "source_hash": null
   },
   "outputs": [
    {
     "name": "stdout",
     "output_type": "stream",
     "text": [
      "Species\n",
      "Iris-setosa        5.020833\n",
      "Iris-versicolor    5.927083\n",
      "Iris-virginica     6.577551\n",
      "Name: SepalLengthCm, dtype: float64\n"
     ]
    }
   ],
   "outputs_reference": "dbtable:cell_outputs/40cb8319-e582-48d3-86c7-701b556fc59c",
   "source": [
    "average_sepal_length = df_mean.groupby('Species')['SepalLengthCm'].mean()\n",
    "\n",
    "print(average_sepal_length)"
   ]
  },
  {
   "block_group": "40171beff60b4738904d5ae2a605180d",
   "cell_type": "markdown",
   "metadata": {
    "cell_id": "6f1f77c4f4e74d8b9c1948f3ce0fd145",
    "deepnote_cell_type": "text-cell-p",
    "formattedRanges": []
   },
   "source": [
    "Menghitung rata-rata berdasarkan Species dan bulatkan ke satu desimal."
   ]
  },
  {
   "block_group": "af1b8f40b9b5477c9473bfae38b9b352",
   "cell_type": "code",
   "execution_count": null,
   "metadata": {
    "cell_id": "fb141cf73c6148858bb3bd6086ba48b5",
    "deepnote_cell_type": "code",
    "deepnote_to_be_reexecuted": false,
    "execution_millis": 28,
    "execution_start": 1710352254968,
    "source_hash": null
   },
   "outputs": [
    {
     "name": "stdout",
     "output_type": "stream",
     "text": [
      "Species\n",
      "Iris-setosa        5.0\n",
      "Iris-versicolor    5.9\n",
      "Iris-virginica     6.6\n",
      "Name: SepalLengthCm, dtype: float64\n"
     ]
    }
   ],
   "outputs_reference": "dbtable:cell_outputs/efdc7687-bea6-4d85-966a-7731cb7063b5",
   "source": [
    "average_sepal_length = df_mean.groupby('Species')['SepalLengthCm'].mean().round(1)\n",
    "\n",
    "print(average_sepal_length)"
   ]
  },
  {
   "block_group": "bdb4c060593f4b43b058f7f6d71f23ec",
   "cell_type": "markdown",
   "metadata": {
    "cell_id": "bab31a6e0c074436946abb77c65b910c",
    "deepnote_cell_type": "text-cell-p",
    "formattedRanges": []
   },
   "source": [
    "Isi nilai kosong (NULL) dengan rata-rata berdasarkan Species"
   ]
  },
  {
   "block_group": "def952dc5f8c41d3a32b397e04e3e6d9",
   "cell_type": "code",
   "execution_count": null,
   "metadata": {
    "cell_id": "69ecf5042cc4403ebbfbadaab63e9b0c",
    "deepnote_cell_type": "code",
    "deepnote_to_be_reexecuted": false,
    "execution_millis": 36,
    "execution_start": 1710352259018,
    "source_hash": null
   },
   "outputs": [],
   "outputs_reference": null,
   "source": [
    "for species, avg_length in average_sepal_length.items():\n",
    "    df_mean.loc[(df_mean['SepalLengthCm'].isnull()) & (df_mean['Species'] == species), 'SepalLengthCm'] = avg_length"
   ]
  },
  {
   "block_group": "85b9b9d5b0a54f53a12a65f1cac8508a",
   "cell_type": "markdown",
   "metadata": {
    "cell_id": "b6370a8ce2dc43d58fcbaf0a428deea1",
    "deepnote_cell_type": "text-cell-p",
    "formattedRanges": []
   },
   "source": [
    "Menghitung kembali jumlah nilai yang hilang setelah pengisian data."
   ]
  },
  {
   "block_group": "f1d92260d6ef47f098e8453e48ee85fa",
   "cell_type": "code",
   "execution_count": null,
   "metadata": {
    "cell_id": "9eabcf8bf1c643639b17c5ac8280b3b7",
    "deepnote_cell_type": "code",
    "deepnote_to_be_reexecuted": false,
    "execution_millis": 105,
    "execution_start": 1710352836093,
    "source_hash": null
   },
   "outputs": [
    {
     "data": {
      "text/plain": [
       "Id               0\n",
       "SepalLengthCm    0\n",
       "SepalWidthCm     0\n",
       "PetalLengthCm    0\n",
       "PetalWidthCm     0\n",
       "Species          0\n",
       "dtype: int64"
      ]
     },
     "execution_count": 52,
     "metadata": {},
     "output_type": "execute_result"
    }
   ],
   "outputs_reference": "dbtable:cell_outputs/7d6293ff-d6c1-4f9a-96ac-53e1bb05b883",
   "source": [
    "df_mean.isnull().sum()"
   ]
  },
  {
   "block_group": "3c6be6e6f21745c6a7b87eac1803acbc",
   "cell_type": "markdown",
   "metadata": {
    "cell_id": "9d824a5fac0a41828d8b5acfae486424",
    "deepnote_cell_type": "text-cell-p",
    "formattedRanges": []
   },
   "source": [
    "Menampilkan kembali semua baris yang ada pada DataFrame setelah pengisian nilai kosong.\r"
   ]
  },
  {
   "block_group": "ba755b33302a4f98997f35bf6cb83d06",
   "cell_type": "code",
   "execution_count": null,
   "metadata": {
    "cell_id": "5605940054df4f9db66aa7a58b6ad967",
    "deepnote_cell_type": "code",
    "deepnote_table_loading": false,
    "deepnote_table_state": {
     "filters": [],
     "pageIndex": 0,
     "pageSize": 10,
     "sortBy": []
    },
    "deepnote_to_be_reexecuted": false,
    "execution_millis": 279,
    "execution_start": 1710352262054,
    "source_hash": null
   },
   "outputs": [
    {
     "data": {
      "application/vnd.deepnote.dataframe.v3+json": {
       "column_count": 6,
       "columns": [
        {
         "dtype": "int64",
         "name": "Id",
         "stats": {
          "histogram": [
           {
            "bin_end": 15.9,
            "bin_start": 1,
            "count": 14
           },
           {
            "bin_end": 30.8,
            "bin_start": 15.9,
            "count": 15
           },
           {
            "bin_end": 45.7,
            "bin_start": 30.8,
            "count": 15
           },
           {
            "bin_end": 60.6,
            "bin_start": 45.7,
            "count": 15
           },
           {
            "bin_end": 75.5,
            "bin_start": 60.6,
            "count": 14
           },
           {
            "bin_end": 90.4,
            "bin_start": 75.5,
            "count": 15
           },
           {
            "bin_end": 105.3,
            "bin_start": 90.4,
            "count": 15
           },
           {
            "bin_end": 120.2,
            "bin_start": 105.3,
            "count": 15
           },
           {
            "bin_end": 135.1,
            "bin_start": 120.2,
            "count": 15
           },
           {
            "bin_end": 150,
            "bin_start": 135.1,
            "count": 15
           }
          ],
          "max": "150",
          "min": "1",
          "nan_count": 0,
          "unique_count": 148
         }
        },
        {
         "dtype": "float64",
         "name": "SepalLengthCm",
         "stats": {
          "histogram": [
           {
            "bin_end": 4.66,
            "bin_start": 4.3,
            "count": 8
           },
           {
            "bin_end": 5.02,
            "bin_start": 4.66,
            "count": 23
           },
           {
            "bin_end": 5.38,
            "bin_start": 5.02,
            "count": 14
           },
           {
            "bin_end": 5.74,
            "bin_start": 5.38,
            "count": 27
           },
           {
            "bin_end": 6.1,
            "bin_start": 5.74,
            "count": 17
           },
           {
            "bin_end": 6.46,
            "bin_start": 6.1,
            "count": 24
           },
           {
            "bin_end": 6.82,
            "bin_start": 6.46,
            "count": 19
           },
           {
            "bin_end": 7.18,
            "bin_start": 6.82,
            "count": 5
           },
           {
            "bin_end": 7.54,
            "bin_start": 7.18,
            "count": 5
           },
           {
            "bin_end": 7.9,
            "bin_start": 7.54,
            "count": 6
           }
          ],
          "max": "7.9",
          "min": "4.3",
          "nan_count": 0,
          "unique_count": 34
         }
        },
        {
         "dtype": "float64",
         "name": "SepalWidthCm",
         "stats": {
          "histogram": [
           {
            "bin_end": 2.24,
            "bin_start": 2,
            "count": 3
           },
           {
            "bin_end": 2.48,
            "bin_start": 2.24,
            "count": 7
           },
           {
            "bin_end": 2.72,
            "bin_start": 2.48,
            "count": 22
           },
           {
            "bin_end": 2.96,
            "bin_start": 2.72,
            "count": 24
           },
           {
            "bin_end": 3.2,
            "bin_start": 2.96,
            "count": 38
           },
           {
            "bin_end": 3.4400000000000004,
            "bin_start": 3.2,
            "count": 30
           },
           {
            "bin_end": 3.6800000000000006,
            "bin_start": 3.4400000000000004,
            "count": 9
           },
           {
            "bin_end": 3.9200000000000004,
            "bin_start": 3.6800000000000006,
            "count": 11
           },
           {
            "bin_end": 4.16,
            "bin_start": 3.9200000000000004,
            "count": 2
           },
           {
            "bin_end": 4.4,
            "bin_start": 4.16,
            "count": 2
           }
          ],
          "max": "4.4",
          "min": "2.0",
          "nan_count": 0,
          "unique_count": 23
         }
        },
        {
         "dtype": "float64",
         "name": "PetalLengthCm",
         "stats": {
          "histogram": [
           {
            "bin_end": 1.59,
            "bin_start": 1,
            "count": 36
           },
           {
            "bin_end": 2.18,
            "bin_start": 1.59,
            "count": 13
           },
           {
            "bin_end": 2.7700000000000005,
            "bin_start": 2.18,
            "count": 0
           },
           {
            "bin_end": 3.3600000000000003,
            "bin_start": 2.7700000000000005,
            "count": 3
           },
           {
            "bin_end": 3.95,
            "bin_start": 3.3600000000000003,
            "count": 8
           },
           {
            "bin_end": 4.540000000000001,
            "bin_start": 3.95,
            "count": 25
           },
           {
            "bin_end": 5.130000000000001,
            "bin_start": 4.540000000000001,
            "count": 29
           },
           {
            "bin_end": 5.720000000000001,
            "bin_start": 5.130000000000001,
            "count": 18
           },
           {
            "bin_end": 6.3100000000000005,
            "bin_start": 5.720000000000001,
            "count": 11
           },
           {
            "bin_end": 6.9,
            "bin_start": 6.3100000000000005,
            "count": 5
           }
          ],
          "max": "6.9",
          "min": "1.0",
          "nan_count": 0,
          "unique_count": 43
         }
        },
        {
         "dtype": "float64",
         "name": "PetalWidthCm",
         "stats": {
          "histogram": [
           {
            "bin_end": 0.33999999999999997,
            "bin_start": 0.1,
            "count": 40
           },
           {
            "bin_end": 0.58,
            "bin_start": 0.33999999999999997,
            "count": 8
           },
           {
            "bin_end": 0.82,
            "bin_start": 0.58,
            "count": 1
           },
           {
            "bin_end": 1.06,
            "bin_start": 0.82,
            "count": 7
           },
           {
            "bin_end": 1.3,
            "bin_start": 1.06,
            "count": 8
           },
           {
            "bin_end": 1.54,
            "bin_start": 1.3,
            "count": 32
           },
           {
            "bin_end": 1.78,
            "bin_start": 1.54,
            "count": 6
           },
           {
            "bin_end": 2.02,
            "bin_start": 1.78,
            "count": 23
           },
           {
            "bin_end": 2.2600000000000002,
            "bin_start": 2.02,
            "count": 9
           },
           {
            "bin_end": 2.5,
            "bin_start": 2.2600000000000002,
            "count": 14
           }
          ],
          "max": "2.5",
          "min": "0.1",
          "nan_count": 0,
          "unique_count": 22
         }
        },
        {
         "dtype": "object",
         "name": "Species",
         "stats": {
          "categories": [
           {
            "count": 50,
            "name": "Iris-virginica"
           },
           {
            "count": 49,
            "name": "Iris-setosa"
           },
           {
            "count": 49,
            "name": "Iris-versicolor"
           }
          ],
          "nan_count": 0,
          "unique_count": 3
         }
        },
        {
         "dtype": "int64",
         "name": "_deepnote_index_column"
        }
       ],
       "row_count": 148,
       "rows": [
        {
         "Id": 1,
         "PetalLengthCm": 1.4,
         "PetalWidthCm": 0.2,
         "SepalLengthCm": 5.1,
         "SepalWidthCm": 3.5,
         "Species": "Iris-setosa",
         "_deepnote_index_column": 0
        },
        {
         "Id": 2,
         "PetalLengthCm": 1.4,
         "PetalWidthCm": 0.2,
         "SepalLengthCm": 4.9,
         "SepalWidthCm": 3,
         "Species": "Iris-setosa",
         "_deepnote_index_column": 1
        },
        {
         "Id": 3,
         "PetalLengthCm": 1.3,
         "PetalWidthCm": 0.2,
         "SepalLengthCm": 5,
         "SepalWidthCm": 3.2,
         "Species": "Iris-setosa",
         "_deepnote_index_column": 2
        },
        {
         "Id": 4,
         "PetalLengthCm": 1.5,
         "PetalWidthCm": 0.2,
         "SepalLengthCm": 4.6,
         "SepalWidthCm": 3.1,
         "Species": "Iris-setosa",
         "_deepnote_index_column": 3
        },
        {
         "Id": 5,
         "PetalLengthCm": 1.4,
         "PetalWidthCm": 0.2,
         "SepalLengthCm": 5,
         "SepalWidthCm": 3.6,
         "Species": "Iris-setosa",
         "_deepnote_index_column": 4
        },
        {
         "Id": 6,
         "PetalLengthCm": 1.7,
         "PetalWidthCm": 0.4,
         "SepalLengthCm": 5.4,
         "SepalWidthCm": 3.9,
         "Species": "Iris-setosa",
         "_deepnote_index_column": 5
        },
        {
         "Id": 8,
         "PetalLengthCm": 1.5,
         "PetalWidthCm": 0.2,
         "SepalLengthCm": 5,
         "SepalWidthCm": 3.4,
         "Species": "Iris-setosa",
         "_deepnote_index_column": 7
        },
        {
         "Id": 9,
         "PetalLengthCm": 1.4,
         "PetalWidthCm": 0.2,
         "SepalLengthCm": 4.4,
         "SepalWidthCm": 2.9,
         "Species": "Iris-setosa",
         "_deepnote_index_column": 8
        },
        {
         "Id": 10,
         "PetalLengthCm": 1.5,
         "PetalWidthCm": 0.1,
         "SepalLengthCm": 4.9,
         "SepalWidthCm": 3.1,
         "Species": "Iris-setosa",
         "_deepnote_index_column": 9
        },
        {
         "Id": 11,
         "PetalLengthCm": 1.5,
         "PetalWidthCm": 0.2,
         "SepalLengthCm": 5.4,
         "SepalWidthCm": 3.7,
         "Species": "Iris-setosa",
         "_deepnote_index_column": 10
        }
       ]
      },
      "text/html": [
       "<div>\n",
       "<style scoped>\n",
       "    .dataframe tbody tr th:only-of-type {\n",
       "        vertical-align: middle;\n",
       "    }\n",
       "\n",
       "    .dataframe tbody tr th {\n",
       "        vertical-align: top;\n",
       "    }\n",
       "\n",
       "    .dataframe thead th {\n",
       "        text-align: right;\n",
       "    }\n",
       "</style>\n",
       "<table border=\"1\" class=\"dataframe\">\n",
       "  <thead>\n",
       "    <tr style=\"text-align: right;\">\n",
       "      <th></th>\n",
       "      <th>Id</th>\n",
       "      <th>SepalLengthCm</th>\n",
       "      <th>SepalWidthCm</th>\n",
       "      <th>PetalLengthCm</th>\n",
       "      <th>PetalWidthCm</th>\n",
       "      <th>Species</th>\n",
       "    </tr>\n",
       "  </thead>\n",
       "  <tbody>\n",
       "    <tr>\n",
       "      <th>0</th>\n",
       "      <td>1</td>\n",
       "      <td>5.1</td>\n",
       "      <td>3.5</td>\n",
       "      <td>1.4</td>\n",
       "      <td>0.2</td>\n",
       "      <td>Iris-setosa</td>\n",
       "    </tr>\n",
       "    <tr>\n",
       "      <th>1</th>\n",
       "      <td>2</td>\n",
       "      <td>4.9</td>\n",
       "      <td>3.0</td>\n",
       "      <td>1.4</td>\n",
       "      <td>0.2</td>\n",
       "      <td>Iris-setosa</td>\n",
       "    </tr>\n",
       "    <tr>\n",
       "      <th>2</th>\n",
       "      <td>3</td>\n",
       "      <td>5.0</td>\n",
       "      <td>3.2</td>\n",
       "      <td>1.3</td>\n",
       "      <td>0.2</td>\n",
       "      <td>Iris-setosa</td>\n",
       "    </tr>\n",
       "    <tr>\n",
       "      <th>3</th>\n",
       "      <td>4</td>\n",
       "      <td>4.6</td>\n",
       "      <td>3.1</td>\n",
       "      <td>1.5</td>\n",
       "      <td>0.2</td>\n",
       "      <td>Iris-setosa</td>\n",
       "    </tr>\n",
       "    <tr>\n",
       "      <th>4</th>\n",
       "      <td>5</td>\n",
       "      <td>5.0</td>\n",
       "      <td>3.6</td>\n",
       "      <td>1.4</td>\n",
       "      <td>0.2</td>\n",
       "      <td>Iris-setosa</td>\n",
       "    </tr>\n",
       "    <tr>\n",
       "      <th>...</th>\n",
       "      <td>...</td>\n",
       "      <td>...</td>\n",
       "      <td>...</td>\n",
       "      <td>...</td>\n",
       "      <td>...</td>\n",
       "      <td>...</td>\n",
       "    </tr>\n",
       "    <tr>\n",
       "      <th>145</th>\n",
       "      <td>146</td>\n",
       "      <td>6.7</td>\n",
       "      <td>3.0</td>\n",
       "      <td>5.2</td>\n",
       "      <td>2.3</td>\n",
       "      <td>Iris-virginica</td>\n",
       "    </tr>\n",
       "    <tr>\n",
       "      <th>146</th>\n",
       "      <td>147</td>\n",
       "      <td>6.3</td>\n",
       "      <td>2.5</td>\n",
       "      <td>5.0</td>\n",
       "      <td>1.9</td>\n",
       "      <td>Iris-virginica</td>\n",
       "    </tr>\n",
       "    <tr>\n",
       "      <th>147</th>\n",
       "      <td>148</td>\n",
       "      <td>6.5</td>\n",
       "      <td>3.0</td>\n",
       "      <td>5.2</td>\n",
       "      <td>2.0</td>\n",
       "      <td>Iris-virginica</td>\n",
       "    </tr>\n",
       "    <tr>\n",
       "      <th>148</th>\n",
       "      <td>149</td>\n",
       "      <td>6.2</td>\n",
       "      <td>3.4</td>\n",
       "      <td>5.4</td>\n",
       "      <td>2.3</td>\n",
       "      <td>Iris-virginica</td>\n",
       "    </tr>\n",
       "    <tr>\n",
       "      <th>149</th>\n",
       "      <td>150</td>\n",
       "      <td>5.9</td>\n",
       "      <td>3.0</td>\n",
       "      <td>5.1</td>\n",
       "      <td>1.8</td>\n",
       "      <td>Iris-virginica</td>\n",
       "    </tr>\n",
       "  </tbody>\n",
       "</table>\n",
       "<p>148 rows × 6 columns</p>\n",
       "</div>"
      ],
      "text/plain": [
       "      Id  SepalLengthCm  SepalWidthCm  PetalLengthCm  PetalWidthCm  \\\n",
       "0      1            5.1           3.5            1.4           0.2   \n",
       "1      2            4.9           3.0            1.4           0.2   \n",
       "2      3            5.0           3.2            1.3           0.2   \n",
       "3      4            4.6           3.1            1.5           0.2   \n",
       "4      5            5.0           3.6            1.4           0.2   \n",
       "..   ...            ...           ...            ...           ...   \n",
       "145  146            6.7           3.0            5.2           2.3   \n",
       "146  147            6.3           2.5            5.0           1.9   \n",
       "147  148            6.5           3.0            5.2           2.0   \n",
       "148  149            6.2           3.4            5.4           2.3   \n",
       "149  150            5.9           3.0            5.1           1.8   \n",
       "\n",
       "            Species  \n",
       "0       Iris-setosa  \n",
       "1       Iris-setosa  \n",
       "2       Iris-setosa  \n",
       "3       Iris-setosa  \n",
       "4       Iris-setosa  \n",
       "..              ...  \n",
       "145  Iris-virginica  \n",
       "146  Iris-virginica  \n",
       "147  Iris-virginica  \n",
       "148  Iris-virginica  \n",
       "149  Iris-virginica  \n",
       "\n",
       "[148 rows x 6 columns]"
      ]
     },
     "execution_count": 52,
     "metadata": {},
     "output_type": "execute_result"
    }
   ],
   "outputs_reference": "s3:deepnote-cell-outputs-production/8fdee118-8cd1-4dce-8545-c5023ab38c60",
   "source": [
    "df_mean.head(jumlah_baris)"
   ]
  },
  {
   "block_group": "d3c5a9bea16249c68be8f428b7abdaa0",
   "cell_type": "markdown",
   "metadata": {
    "cell_id": "be87d88435b2467cac00bd863362b14f",
    "deepnote_cell_type": "text-cell-p",
    "formattedRanges": []
   },
   "source": [
    "Instalasi library mysql-connector-python untuk berinteraksi dengan database MySQL."
   ]
  },
  {
   "block_group": "4f1215a0822a4639a0b4133becd6323b",
   "cell_type": "code",
   "execution_count": null,
   "metadata": {
    "cell_id": "68d817bb81d84734b0c44a290d024c3b",
    "deepnote_cell_type": "code",
    "deepnote_to_be_reexecuted": false,
    "execution_start": 1710353066356,
    "source_hash": null
   },
   "outputs": [
    {
     "name": "stdout",
     "output_type": "stream",
     "text": [
      "Collecting mysql-connector-python\n",
      "  Downloading mysql_connector_python-8.3.0-cp39-cp39-manylinux_2_17_x86_64.whl (21.5 MB)\n",
      "\u001b[2K     \u001b[90m━━━━━━━━━━━━━━━━━━━━━━━━━━━━━━━━━━━━━━━━\u001b[0m \u001b[32m21.5/21.5 MB\u001b[0m \u001b[31m63.7 MB/s\u001b[0m eta \u001b[36m0:00:00\u001b[0m\n",
      "\u001b[?25h"
     ]
    }
   ],
   "outputs_reference": "dbtable:cell_outputs/399c2e94-ed3a-4a90-a1ba-3ee4901a23c6",
   "source": [
    "pip install mysql-connector-python"
   ]
  },
  {
   "block_group": "4c085a4b0ad1451b8f454d8d20edbf51",
   "cell_type": "markdown",
   "metadata": {
    "cell_id": "2e4b8273302c454cb63ce4c67c06e832",
    "deepnote_cell_type": "text-cell-p",
    "formattedRanges": []
   },
   "source": [
    "Selanjutnya, kode membuat koneksi ke database MySQL dengan kredensial yang diberikan, kemudian membuat sebuah tabel baru dengan nama 'Iris_mean' yang memiliki beberapa kolom seperti 'Id' (sebagai primary key), 'SepalLengthCm', 'SepalWidthCm', dan 'Species'. Setelah tabel dibuat, kode menyimpan DataFrame df_mean ke dalam tabel tersebut menggunakan pernyataan SQL INSERT. Terakhir, perubahan tersebut di-commit dan koneksi ditutup. Pesan \"DataFrame berhasil disimpan ke dalam tabel MySQL.\" dicetak sebagai indikasi bahwa proses telah selesai dengan sukses."
   ]
  },
  {
   "block_group": "5d47a6f12631408cb24dd79a0d5e2714",
   "cell_type": "code",
   "execution_count": null,
   "metadata": {
    "cell_id": "855c27f0de7f43b8a7cbfcd8e5862ffa",
    "deepnote_cell_type": "code",
    "deepnote_to_be_reexecuted": false,
    "execution_millis": 32680,
    "execution_start": 1710353466984,
    "source_hash": null
   },
   "outputs": [
    {
     "name": "stdout",
     "output_type": "stream",
     "text": [
      "DataFrame berhasil disimpan ke dalam tabel MySQL.\n"
     ]
    }
   ],
   "outputs_reference": "dbtable:cell_outputs/47b81ff2-100c-463c-8e55-ca254567b056",
   "source": [
    "import mysql.connector\n",
    "\n",
    "# Ganti dengan kredensial yang sesuai\n",
    "db_user = 'avnadmin'\n",
    "db_password = 'AVNS_ZdndZ22SeeCMF0U7zTj'\n",
    "db_host = 'mysql-datamining-irfan22083.a.aivencloud.com'\n",
    "db_port = '13019'\n",
    "db_name = 'mysql-datamining'\n",
    "\n",
    "# Buat koneksi ke database\n",
    "conn = mysql.connector.connect(user=db_user, password=db_password, host=db_host, port=db_port, database=db_name)\n",
    "cursor = conn.cursor()\n",
    "\n",
    "# Buat tabel baru\n",
    "create_table_query = \"\"\"\n",
    "CREATE TABLE Iris_mean (\n",
    "    Id INT AUTO_INCREMENT PRIMARY KEY,\n",
    "    SepalLengthCm DOUBLE,\n",
    "    SepalWidthCm DOUBLE,\n",
    "    Species TEXT\n",
    ")\n",
    "\"\"\"\n",
    "cursor.execute(create_table_query)\n",
    "\n",
    "# Simpan DataFrame ke dalam tabel MySQL\n",
    "for index, row in df_mean.iterrows():\n",
    "    insert_query = \"\"\"\n",
    "    INSERT INTO Iris_mean (Id, SepalLengthCm, SepalWidthCm, Species)\n",
    "    VALUES (%s, %s, %s, %s)\n",
    "    \"\"\"\n",
    "    cursor.execute(insert_query, (row['Id'], row['SepalLengthCm'], row['SepalWidthCm'], row['Species']))\n",
    "\n",
    "# Commit perubahan dan tutup koneksi\n",
    "conn.commit()\n",
    "conn.close()\n",
    "\n",
    "# Tampilkan pesan berhasil\n",
    "print(\"DataFrame berhasil disimpan ke dalam tabel MySQL.\")"
   ]
  },
  {
   "block_group": "78d55bcf820442988aa5b4dbd3f00d5d",
   "cell_type": "markdown",
   "metadata": {
    "cell_id": "cbb7d24bb3544408aa552328fe98ffae",
    "deepnote_cell_type": "text-cell-p",
    "formattedRanges": []
   },
   "source": [
    "Periksa apakah tabel \"Iris_mean\" telah berhasil dibuat dan diisi dengan data."
   ]
  },
  {
   "block_group": "2a7af433982041309f0f29e816a34738",
   "cell_type": "code",
   "execution_count": null,
   "metadata": {
    "cell_id": "3c5c557aa3424e6887d3a5abbf3b2de2",
    "deepnote_cell_type": "sql",
    "deepnote_sql_source": "SELECT * FROM Iris_mean;",
    "deepnote_to_be_reexecuted": false,
    "deepnote_variable_name": "df_3",
    "execution_millis": 3081,
    "execution_start": 1710353524619,
    "source_hash": null,
    "sql_integration_id": "09471b5a-652d-432f-b73d-65305a4929e6"
   },
   "outputs": [
    {
     "data": {
      "application/vnd.deepnote.sql-output-metadata+json": {
       "size_in_bytes": 14090,
       "status": "success_no_cache"
      }
     },
     "metadata": {},
     "output_type": "display_data"
    },
    {
     "data": {
      "application/vnd.deepnote.dataframe.v3+json": {
       "column_count": 4,
       "columns": [
        {
         "dtype": "int64",
         "name": "Id",
         "stats": {
          "histogram": [
           {
            "bin_end": 15.9,
            "bin_start": 1,
            "count": 14
           },
           {
            "bin_end": 30.8,
            "bin_start": 15.9,
            "count": 15
           },
           {
            "bin_end": 45.7,
            "bin_start": 30.8,
            "count": 15
           },
           {
            "bin_end": 60.6,
            "bin_start": 45.7,
            "count": 15
           },
           {
            "bin_end": 75.5,
            "bin_start": 60.6,
            "count": 14
           },
           {
            "bin_end": 90.4,
            "bin_start": 75.5,
            "count": 15
           },
           {
            "bin_end": 105.3,
            "bin_start": 90.4,
            "count": 15
           },
           {
            "bin_end": 120.2,
            "bin_start": 105.3,
            "count": 15
           },
           {
            "bin_end": 135.1,
            "bin_start": 120.2,
            "count": 15
           },
           {
            "bin_end": 150,
            "bin_start": 135.1,
            "count": 15
           }
          ],
          "max": "150",
          "min": "1",
          "nan_count": 0,
          "unique_count": 148
         }
        },
        {
         "dtype": "float64",
         "name": "SepalLengthCm",
         "stats": {
          "histogram": [
           {
            "bin_end": 4.66,
            "bin_start": 4.3,
            "count": 8
           },
           {
            "bin_end": 5.02,
            "bin_start": 4.66,
            "count": 23
           },
           {
            "bin_end": 5.38,
            "bin_start": 5.02,
            "count": 14
           },
           {
            "bin_end": 5.74,
            "bin_start": 5.38,
            "count": 27
           },
           {
            "bin_end": 6.1,
            "bin_start": 5.74,
            "count": 17
           },
           {
            "bin_end": 6.46,
            "bin_start": 6.1,
            "count": 24
           },
           {
            "bin_end": 6.82,
            "bin_start": 6.46,
            "count": 19
           },
           {
            "bin_end": 7.18,
            "bin_start": 6.82,
            "count": 5
           },
           {
            "bin_end": 7.54,
            "bin_start": 7.18,
            "count": 5
           },
           {
            "bin_end": 7.9,
            "bin_start": 7.54,
            "count": 6
           }
          ],
          "max": "7.9",
          "min": "4.3",
          "nan_count": 0,
          "unique_count": 34
         }
        },
        {
         "dtype": "float64",
         "name": "SepalWidthCm",
         "stats": {
          "histogram": [
           {
            "bin_end": 2.24,
            "bin_start": 2,
            "count": 3
           },
           {
            "bin_end": 2.48,
            "bin_start": 2.24,
            "count": 7
           },
           {
            "bin_end": 2.72,
            "bin_start": 2.48,
            "count": 22
           },
           {
            "bin_end": 2.96,
            "bin_start": 2.72,
            "count": 24
           },
           {
            "bin_end": 3.2,
            "bin_start": 2.96,
            "count": 38
           },
           {
            "bin_end": 3.4400000000000004,
            "bin_start": 3.2,
            "count": 30
           },
           {
            "bin_end": 3.6800000000000006,
            "bin_start": 3.4400000000000004,
            "count": 9
           },
           {
            "bin_end": 3.9200000000000004,
            "bin_start": 3.6800000000000006,
            "count": 11
           },
           {
            "bin_end": 4.16,
            "bin_start": 3.9200000000000004,
            "count": 2
           },
           {
            "bin_end": 4.4,
            "bin_start": 4.16,
            "count": 2
           }
          ],
          "max": "4.4",
          "min": "2.0",
          "nan_count": 0,
          "unique_count": 23
         }
        },
        {
         "dtype": "object",
         "name": "Species",
         "stats": {
          "categories": [
           {
            "count": 50,
            "name": "Iris-virginica"
           },
           {
            "count": 49,
            "name": "Iris-setosa"
           },
           {
            "count": 49,
            "name": "Iris-versicolor"
           }
          ],
          "nan_count": 0,
          "unique_count": 3
         }
        },
        {
         "dtype": "int64",
         "name": "_deepnote_index_column"
        }
       ],
       "row_count": 148,
       "rows": [
        {
         "Id": 1,
         "SepalLengthCm": 5.1,
         "SepalWidthCm": 3.5,
         "Species": "Iris-setosa",
         "_deepnote_index_column": 0
        },
        {
         "Id": 2,
         "SepalLengthCm": 4.9,
         "SepalWidthCm": 3,
         "Species": "Iris-setosa",
         "_deepnote_index_column": 1
        },
        {
         "Id": 3,
         "SepalLengthCm": 5,
         "SepalWidthCm": 3.2,
         "Species": "Iris-setosa",
         "_deepnote_index_column": 2
        },
        {
         "Id": 4,
         "SepalLengthCm": 4.6,
         "SepalWidthCm": 3.1,
         "Species": "Iris-setosa",
         "_deepnote_index_column": 3
        },
        {
         "Id": 5,
         "SepalLengthCm": 5,
         "SepalWidthCm": 3.6,
         "Species": "Iris-setosa",
         "_deepnote_index_column": 4
        },
        {
         "Id": 6,
         "SepalLengthCm": 5.4,
         "SepalWidthCm": 3.9,
         "Species": "Iris-setosa",
         "_deepnote_index_column": 5
        },
        {
         "Id": 8,
         "SepalLengthCm": 5,
         "SepalWidthCm": 3.4,
         "Species": "Iris-setosa",
         "_deepnote_index_column": 6
        },
        {
         "Id": 9,
         "SepalLengthCm": 4.4,
         "SepalWidthCm": 2.9,
         "Species": "Iris-setosa",
         "_deepnote_index_column": 7
        },
        {
         "Id": 10,
         "SepalLengthCm": 4.9,
         "SepalWidthCm": 3.1,
         "Species": "Iris-setosa",
         "_deepnote_index_column": 8
        },
        {
         "Id": 11,
         "SepalLengthCm": 5.4,
         "SepalWidthCm": 3.7,
         "Species": "Iris-setosa",
         "_deepnote_index_column": 9
        }
       ]
      },
      "text/html": [
       "<div>\n",
       "<style scoped>\n",
       "    .dataframe tbody tr th:only-of-type {\n",
       "        vertical-align: middle;\n",
       "    }\n",
       "\n",
       "    .dataframe tbody tr th {\n",
       "        vertical-align: top;\n",
       "    }\n",
       "\n",
       "    .dataframe thead th {\n",
       "        text-align: right;\n",
       "    }\n",
       "</style>\n",
       "<table border=\"1\" class=\"dataframe\">\n",
       "  <thead>\n",
       "    <tr style=\"text-align: right;\">\n",
       "      <th></th>\n",
       "      <th>Id</th>\n",
       "      <th>SepalLengthCm</th>\n",
       "      <th>SepalWidthCm</th>\n",
       "      <th>Species</th>\n",
       "    </tr>\n",
       "  </thead>\n",
       "  <tbody>\n",
       "    <tr>\n",
       "      <th>0</th>\n",
       "      <td>1</td>\n",
       "      <td>5.1</td>\n",
       "      <td>3.5</td>\n",
       "      <td>Iris-setosa</td>\n",
       "    </tr>\n",
       "    <tr>\n",
       "      <th>1</th>\n",
       "      <td>2</td>\n",
       "      <td>4.9</td>\n",
       "      <td>3.0</td>\n",
       "      <td>Iris-setosa</td>\n",
       "    </tr>\n",
       "    <tr>\n",
       "      <th>2</th>\n",
       "      <td>3</td>\n",
       "      <td>5.0</td>\n",
       "      <td>3.2</td>\n",
       "      <td>Iris-setosa</td>\n",
       "    </tr>\n",
       "    <tr>\n",
       "      <th>3</th>\n",
       "      <td>4</td>\n",
       "      <td>4.6</td>\n",
       "      <td>3.1</td>\n",
       "      <td>Iris-setosa</td>\n",
       "    </tr>\n",
       "    <tr>\n",
       "      <th>4</th>\n",
       "      <td>5</td>\n",
       "      <td>5.0</td>\n",
       "      <td>3.6</td>\n",
       "      <td>Iris-setosa</td>\n",
       "    </tr>\n",
       "    <tr>\n",
       "      <th>...</th>\n",
       "      <td>...</td>\n",
       "      <td>...</td>\n",
       "      <td>...</td>\n",
       "      <td>...</td>\n",
       "    </tr>\n",
       "    <tr>\n",
       "      <th>143</th>\n",
       "      <td>146</td>\n",
       "      <td>6.7</td>\n",
       "      <td>3.0</td>\n",
       "      <td>Iris-virginica</td>\n",
       "    </tr>\n",
       "    <tr>\n",
       "      <th>144</th>\n",
       "      <td>147</td>\n",
       "      <td>6.3</td>\n",
       "      <td>2.5</td>\n",
       "      <td>Iris-virginica</td>\n",
       "    </tr>\n",
       "    <tr>\n",
       "      <th>145</th>\n",
       "      <td>148</td>\n",
       "      <td>6.5</td>\n",
       "      <td>3.0</td>\n",
       "      <td>Iris-virginica</td>\n",
       "    </tr>\n",
       "    <tr>\n",
       "      <th>146</th>\n",
       "      <td>149</td>\n",
       "      <td>6.2</td>\n",
       "      <td>3.4</td>\n",
       "      <td>Iris-virginica</td>\n",
       "    </tr>\n",
       "    <tr>\n",
       "      <th>147</th>\n",
       "      <td>150</td>\n",
       "      <td>5.9</td>\n",
       "      <td>3.0</td>\n",
       "      <td>Iris-virginica</td>\n",
       "    </tr>\n",
       "  </tbody>\n",
       "</table>\n",
       "<p>148 rows × 4 columns</p>\n",
       "</div>"
      ],
      "text/plain": [
       "      Id  SepalLengthCm  SepalWidthCm         Species\n",
       "0      1            5.1           3.5     Iris-setosa\n",
       "1      2            4.9           3.0     Iris-setosa\n",
       "2      3            5.0           3.2     Iris-setosa\n",
       "3      4            4.6           3.1     Iris-setosa\n",
       "4      5            5.0           3.6     Iris-setosa\n",
       "..   ...            ...           ...             ...\n",
       "143  146            6.7           3.0  Iris-virginica\n",
       "144  147            6.3           2.5  Iris-virginica\n",
       "145  148            6.5           3.0  Iris-virginica\n",
       "146  149            6.2           3.4  Iris-virginica\n",
       "147  150            5.9           3.0  Iris-virginica\n",
       "\n",
       "[148 rows x 4 columns]"
      ]
     },
     "execution_count": 58,
     "metadata": {},
     "output_type": "execute_result"
    }
   ],
   "outputs_reference": "s3:deepnote-cell-outputs-production/e1ef1912-5e97-494a-bef2-84c9777fb238",
   "source": [
    "df_3 = _deepnote_execute_sql('SELECT * FROM Iris_mean;', 'SQL_09471B5A_652D_432F_B73D_65305A4929E6', audit_sql_comment='', sql_cache_mode='cache_disabled')\n",
    "df_3"
   ]
  },
  {
   "block_group": "ca9c022612cb4f88b70e8b9c0bf0c789",
   "cell_type": "markdown",
   "metadata": {
    "cell_id": "2c382551b2764cc9bea1645d28f2126e",
    "deepnote_app_block_visible": false,
    "deepnote_cell_type": "text-cell-h2",
    "formattedRanges": [],
    "is_collapsed": false
   },
   "source": [
    "## Pengisian Data Missing Value dengan KNN (K-Nearest Neighbor)"
   ]
  },
  {
   "block_group": "4af46c3abc964acdaf638be4d9ccefd0",
   "cell_type": "markdown",
   "metadata": {
    "cell_id": "4cbc9893124e42b4a5bd6c062ea1ef14",
    "deepnote_cell_type": "text-cell-p",
    "formattedRanges": []
   },
   "source": [
    "Import library yang dibutuhkan."
   ]
  },
  {
   "block_group": "be30e3119ab44520951e150c18520d97",
   "cell_type": "code",
   "execution_count": null,
   "metadata": {
    "cell_id": "09d85c7190c74466ac91ac1afebc82f4",
    "deepnote_cell_type": "code",
    "deepnote_to_be_reexecuted": false,
    "execution_millis": 1209,
    "execution_start": 1710354278548,
    "source_hash": null
   },
   "outputs": [],
   "outputs_reference": null,
   "source": [
    "import matplotlib.pyplot as plt\n",
    "from sklearn.impute import KNNImputer\n",
    "from sklearn.model_selection import train_test_split\n",
    "from sklearn.neighbors import KNeighborsRegressor\n",
    "from sklearn.metrics import mean_squared_error"
   ]
  },
  {
   "block_group": "6bf15805dc014766ac0c252ff8814930",
   "cell_type": "markdown",
   "metadata": {
    "cell_id": "41a729b4402a4d53bedf356092513aa8",
    "deepnote_cell_type": "text-cell-p",
    "formattedRanges": []
   },
   "source": [
    "Menduplikasi DataFrame df_iris ke dalam df_knn untuk menghindari modifikasi langsung pada DataFrame asli. Lalu, menampilkan semua DataFrame yang sudah diduplikasi."
   ]
  },
  {
   "block_group": "4f59f17ca3dd4a9897e01a72834afb03",
   "cell_type": "code",
   "execution_count": null,
   "metadata": {
    "cell_id": "d433500eeaad4679893ab58962883f29",
    "deepnote_cell_type": "code",
    "deepnote_to_be_reexecuted": false,
    "execution_millis": 46,
    "execution_start": 1710354338352,
    "source_hash": null
   },
   "outputs": [
    {
     "data": {
      "application/vnd.deepnote.dataframe.v3+json": {
       "column_count": 6,
       "columns": [
        {
         "dtype": "int64",
         "name": "Id",
         "stats": {
          "histogram": [
           {
            "bin_end": 15.9,
            "bin_start": 1,
            "count": 15
           },
           {
            "bin_end": 30.8,
            "bin_start": 15.9,
            "count": 15
           },
           {
            "bin_end": 45.7,
            "bin_start": 30.8,
            "count": 15
           },
           {
            "bin_end": 60.6,
            "bin_start": 45.7,
            "count": 15
           },
           {
            "bin_end": 75.5,
            "bin_start": 60.6,
            "count": 15
           },
           {
            "bin_end": 90.4,
            "bin_start": 75.5,
            "count": 15
           },
           {
            "bin_end": 105.3,
            "bin_start": 90.4,
            "count": 15
           },
           {
            "bin_end": 120.2,
            "bin_start": 105.3,
            "count": 15
           },
           {
            "bin_end": 135.1,
            "bin_start": 120.2,
            "count": 15
           },
           {
            "bin_end": 150,
            "bin_start": 135.1,
            "count": 15
           }
          ],
          "max": "150",
          "min": "1",
          "nan_count": 0,
          "unique_count": 150
         }
        },
        {
         "dtype": "float64",
         "name": "SepalLengthCm",
         "stats": {
          "histogram": [
           {
            "bin_end": 4.66,
            "bin_start": 4.3,
            "count": 8
           },
           {
            "bin_end": 5.02,
            "bin_start": 4.66,
            "count": 22
           },
           {
            "bin_end": 5.38,
            "bin_start": 5.02,
            "count": 14
           },
           {
            "bin_end": 5.74,
            "bin_start": 5.38,
            "count": 27
           },
           {
            "bin_end": 6.1,
            "bin_start": 5.74,
            "count": 16
           },
           {
            "bin_end": 6.46,
            "bin_start": 6.1,
            "count": 24
           },
           {
            "bin_end": 6.82,
            "bin_start": 6.46,
            "count": 18
           },
           {
            "bin_end": 7.18,
            "bin_start": 6.82,
            "count": 5
           },
           {
            "bin_end": 7.54,
            "bin_start": 7.18,
            "count": 5
           },
           {
            "bin_end": 7.9,
            "bin_start": 7.54,
            "count": 6
           }
          ],
          "max": "7.9",
          "min": "4.3",
          "nan_count": 5,
          "unique_count": 34
         }
        },
        {
         "dtype": "float64",
         "name": "SepalWidthCm",
         "stats": {
          "histogram": [
           {
            "bin_end": 2.24,
            "bin_start": 2,
            "count": 4
           },
           {
            "bin_end": 2.48,
            "bin_start": 2.24,
            "count": 7
           },
           {
            "bin_end": 2.72,
            "bin_start": 2.48,
            "count": 22
           },
           {
            "bin_end": 2.96,
            "bin_start": 2.72,
            "count": 24
           },
           {
            "bin_end": 3.2,
            "bin_start": 2.96,
            "count": 38
           },
           {
            "bin_end": 3.4400000000000004,
            "bin_start": 3.2,
            "count": 31
           },
           {
            "bin_end": 3.6800000000000006,
            "bin_start": 3.4400000000000004,
            "count": 9
           },
           {
            "bin_end": 3.9200000000000004,
            "bin_start": 3.6800000000000006,
            "count": 11
           },
           {
            "bin_end": 4.16,
            "bin_start": 3.9200000000000004,
            "count": 2
           },
           {
            "bin_end": 4.4,
            "bin_start": 4.16,
            "count": 2
           }
          ],
          "max": "4.4",
          "min": "2.0",
          "nan_count": 0,
          "unique_count": 23
         }
        },
        {
         "dtype": "float64",
         "name": "PetalLengthCm",
         "stats": {
          "histogram": [
           {
            "bin_end": 1.59,
            "bin_start": 1,
            "count": 37
           },
           {
            "bin_end": 2.18,
            "bin_start": 1.59,
            "count": 13
           },
           {
            "bin_end": 2.7700000000000005,
            "bin_start": 2.18,
            "count": 0
           },
           {
            "bin_end": 3.3600000000000003,
            "bin_start": 2.7700000000000005,
            "count": 3
           },
           {
            "bin_end": 3.95,
            "bin_start": 3.3600000000000003,
            "count": 8
           },
           {
            "bin_end": 4.540000000000001,
            "bin_start": 3.95,
            "count": 26
           },
           {
            "bin_end": 5.130000000000001,
            "bin_start": 4.540000000000001,
            "count": 29
           },
           {
            "bin_end": 5.720000000000001,
            "bin_start": 5.130000000000001,
            "count": 18
           },
           {
            "bin_end": 6.3100000000000005,
            "bin_start": 5.720000000000001,
            "count": 11
           },
           {
            "bin_end": 6.9,
            "bin_start": 6.3100000000000005,
            "count": 5
           }
          ],
          "max": "6.9",
          "min": "1.0",
          "nan_count": 0,
          "unique_count": 43
         }
        },
        {
         "dtype": "float64",
         "name": "PetalWidthCm",
         "stats": {
          "histogram": [
           {
            "bin_end": 0.33999999999999997,
            "bin_start": 0.1,
            "count": 41
           },
           {
            "bin_end": 0.58,
            "bin_start": 0.33999999999999997,
            "count": 8
           },
           {
            "bin_end": 0.82,
            "bin_start": 0.58,
            "count": 1
           },
           {
            "bin_end": 1.06,
            "bin_start": 0.82,
            "count": 7
           },
           {
            "bin_end": 1.3,
            "bin_start": 1.06,
            "count": 8
           },
           {
            "bin_end": 1.54,
            "bin_start": 1.3,
            "count": 33
           },
           {
            "bin_end": 1.78,
            "bin_start": 1.54,
            "count": 6
           },
           {
            "bin_end": 2.02,
            "bin_start": 1.78,
            "count": 23
           },
           {
            "bin_end": 2.2600000000000002,
            "bin_start": 2.02,
            "count": 9
           },
           {
            "bin_end": 2.5,
            "bin_start": 2.2600000000000002,
            "count": 14
           }
          ],
          "max": "2.5",
          "min": "0.1",
          "nan_count": 0,
          "unique_count": 22
         }
        },
        {
         "dtype": "object",
         "name": "Species",
         "stats": {
          "categories": [
           {
            "count": 50,
            "name": "Iris-virginica"
           },
           {
            "count": 98,
            "name": "2 others"
           },
           {
            "count": 2,
            "name": "Missing"
           }
          ],
          "nan_count": 2,
          "unique_count": 3
         }
        },
        {
         "dtype": "int64",
         "name": "_deepnote_index_column"
        }
       ],
       "row_count": 150,
       "rows": [
        {
         "Id": 1,
         "PetalLengthCm": 1.4,
         "PetalWidthCm": 0.2,
         "SepalLengthCm": 5.1,
         "SepalWidthCm": 3.5,
         "Species": "Iris-setosa",
         "_deepnote_index_column": 0
        },
        {
         "Id": 2,
         "PetalLengthCm": 1.4,
         "PetalWidthCm": 0.2,
         "SepalLengthCm": 4.9,
         "SepalWidthCm": 3,
         "Species": "Iris-setosa",
         "_deepnote_index_column": 1
        },
        {
         "Id": 3,
         "PetalLengthCm": 1.3,
         "PetalWidthCm": 0.2,
         "SepalLengthCm": "nan",
         "SepalWidthCm": 3.2,
         "Species": "Iris-setosa",
         "_deepnote_index_column": 2
        },
        {
         "Id": 4,
         "PetalLengthCm": 1.5,
         "PetalWidthCm": 0.2,
         "SepalLengthCm": 4.6,
         "SepalWidthCm": 3.1,
         "Species": "Iris-setosa",
         "_deepnote_index_column": 3
        },
        {
         "Id": 5,
         "PetalLengthCm": 1.4,
         "PetalWidthCm": 0.2,
         "SepalLengthCm": 5,
         "SepalWidthCm": 3.6,
         "Species": "Iris-setosa",
         "_deepnote_index_column": 4
        },
        {
         "Id": 6,
         "PetalLengthCm": 1.7,
         "PetalWidthCm": 0.4,
         "SepalLengthCm": 5.4,
         "SepalWidthCm": 3.9,
         "Species": "Iris-setosa",
         "_deepnote_index_column": 5
        },
        {
         "Id": 7,
         "PetalLengthCm": 1.4,
         "PetalWidthCm": 0.3,
         "SepalLengthCm": "nan",
         "SepalWidthCm": 3.4,
         "Species": "None",
         "_deepnote_index_column": 6
        },
        {
         "Id": 8,
         "PetalLengthCm": 1.5,
         "PetalWidthCm": 0.2,
         "SepalLengthCm": 5,
         "SepalWidthCm": 3.4,
         "Species": "Iris-setosa",
         "_deepnote_index_column": 7
        },
        {
         "Id": 9,
         "PetalLengthCm": 1.4,
         "PetalWidthCm": 0.2,
         "SepalLengthCm": 4.4,
         "SepalWidthCm": 2.9,
         "Species": "Iris-setosa",
         "_deepnote_index_column": 8
        },
        {
         "Id": 10,
         "PetalLengthCm": 1.5,
         "PetalWidthCm": 0.1,
         "SepalLengthCm": 4.9,
         "SepalWidthCm": 3.1,
         "Species": "Iris-setosa",
         "_deepnote_index_column": 9
        }
       ]
      },
      "text/html": [
       "<div>\n",
       "<style scoped>\n",
       "    .dataframe tbody tr th:only-of-type {\n",
       "        vertical-align: middle;\n",
       "    }\n",
       "\n",
       "    .dataframe tbody tr th {\n",
       "        vertical-align: top;\n",
       "    }\n",
       "\n",
       "    .dataframe thead th {\n",
       "        text-align: right;\n",
       "    }\n",
       "</style>\n",
       "<table border=\"1\" class=\"dataframe\">\n",
       "  <thead>\n",
       "    <tr style=\"text-align: right;\">\n",
       "      <th></th>\n",
       "      <th>Id</th>\n",
       "      <th>SepalLengthCm</th>\n",
       "      <th>SepalWidthCm</th>\n",
       "      <th>PetalLengthCm</th>\n",
       "      <th>PetalWidthCm</th>\n",
       "      <th>Species</th>\n",
       "    </tr>\n",
       "  </thead>\n",
       "  <tbody>\n",
       "    <tr>\n",
       "      <th>0</th>\n",
       "      <td>1</td>\n",
       "      <td>5.1</td>\n",
       "      <td>3.5</td>\n",
       "      <td>1.4</td>\n",
       "      <td>0.2</td>\n",
       "      <td>Iris-setosa</td>\n",
       "    </tr>\n",
       "    <tr>\n",
       "      <th>1</th>\n",
       "      <td>2</td>\n",
       "      <td>4.9</td>\n",
       "      <td>3.0</td>\n",
       "      <td>1.4</td>\n",
       "      <td>0.2</td>\n",
       "      <td>Iris-setosa</td>\n",
       "    </tr>\n",
       "    <tr>\n",
       "      <th>2</th>\n",
       "      <td>3</td>\n",
       "      <td>NaN</td>\n",
       "      <td>3.2</td>\n",
       "      <td>1.3</td>\n",
       "      <td>0.2</td>\n",
       "      <td>Iris-setosa</td>\n",
       "    </tr>\n",
       "    <tr>\n",
       "      <th>3</th>\n",
       "      <td>4</td>\n",
       "      <td>4.6</td>\n",
       "      <td>3.1</td>\n",
       "      <td>1.5</td>\n",
       "      <td>0.2</td>\n",
       "      <td>Iris-setosa</td>\n",
       "    </tr>\n",
       "    <tr>\n",
       "      <th>4</th>\n",
       "      <td>5</td>\n",
       "      <td>5.0</td>\n",
       "      <td>3.6</td>\n",
       "      <td>1.4</td>\n",
       "      <td>0.2</td>\n",
       "      <td>Iris-setosa</td>\n",
       "    </tr>\n",
       "    <tr>\n",
       "      <th>...</th>\n",
       "      <td>...</td>\n",
       "      <td>...</td>\n",
       "      <td>...</td>\n",
       "      <td>...</td>\n",
       "      <td>...</td>\n",
       "      <td>...</td>\n",
       "    </tr>\n",
       "    <tr>\n",
       "      <th>145</th>\n",
       "      <td>146</td>\n",
       "      <td>6.7</td>\n",
       "      <td>3.0</td>\n",
       "      <td>5.2</td>\n",
       "      <td>2.3</td>\n",
       "      <td>Iris-virginica</td>\n",
       "    </tr>\n",
       "    <tr>\n",
       "      <th>146</th>\n",
       "      <td>147</td>\n",
       "      <td>6.3</td>\n",
       "      <td>2.5</td>\n",
       "      <td>5.0</td>\n",
       "      <td>1.9</td>\n",
       "      <td>Iris-virginica</td>\n",
       "    </tr>\n",
       "    <tr>\n",
       "      <th>147</th>\n",
       "      <td>148</td>\n",
       "      <td>6.5</td>\n",
       "      <td>3.0</td>\n",
       "      <td>5.2</td>\n",
       "      <td>2.0</td>\n",
       "      <td>Iris-virginica</td>\n",
       "    </tr>\n",
       "    <tr>\n",
       "      <th>148</th>\n",
       "      <td>149</td>\n",
       "      <td>6.2</td>\n",
       "      <td>3.4</td>\n",
       "      <td>5.4</td>\n",
       "      <td>2.3</td>\n",
       "      <td>Iris-virginica</td>\n",
       "    </tr>\n",
       "    <tr>\n",
       "      <th>149</th>\n",
       "      <td>150</td>\n",
       "      <td>5.9</td>\n",
       "      <td>3.0</td>\n",
       "      <td>5.1</td>\n",
       "      <td>1.8</td>\n",
       "      <td>Iris-virginica</td>\n",
       "    </tr>\n",
       "  </tbody>\n",
       "</table>\n",
       "<p>150 rows × 6 columns</p>\n",
       "</div>"
      ],
      "text/plain": [
       "      Id  SepalLengthCm  SepalWidthCm  PetalLengthCm  PetalWidthCm  \\\n",
       "0      1            5.1           3.5            1.4           0.2   \n",
       "1      2            4.9           3.0            1.4           0.2   \n",
       "2      3            NaN           3.2            1.3           0.2   \n",
       "3      4            4.6           3.1            1.5           0.2   \n",
       "4      5            5.0           3.6            1.4           0.2   \n",
       "..   ...            ...           ...            ...           ...   \n",
       "145  146            6.7           3.0            5.2           2.3   \n",
       "146  147            6.3           2.5            5.0           1.9   \n",
       "147  148            6.5           3.0            5.2           2.0   \n",
       "148  149            6.2           3.4            5.4           2.3   \n",
       "149  150            5.9           3.0            5.1           1.8   \n",
       "\n",
       "            Species  \n",
       "0       Iris-setosa  \n",
       "1       Iris-setosa  \n",
       "2       Iris-setosa  \n",
       "3       Iris-setosa  \n",
       "4       Iris-setosa  \n",
       "..              ...  \n",
       "145  Iris-virginica  \n",
       "146  Iris-virginica  \n",
       "147  Iris-virginica  \n",
       "148  Iris-virginica  \n",
       "149  Iris-virginica  \n",
       "\n",
       "[150 rows x 6 columns]"
      ]
     },
     "execution_count": 60,
     "metadata": {},
     "output_type": "execute_result"
    }
   ],
   "outputs_reference": "s3:deepnote-cell-outputs-production/9309b3f0-552b-4592-a3e7-0ccf51ac072e",
   "source": [
    "df_knn = df_iris.copy()\n",
    "\n",
    "jumlah_baris = df_knn.shape[0]\n",
    "df_knn.head(jumlah_baris)"
   ]
  },
  {
   "block_group": "bae08a49936141f0ba44b311774f8ee0",
   "cell_type": "markdown",
   "metadata": {
    "cell_id": "57be78e33a184500aaa45cb355d70b18",
    "deepnote_cell_type": "text-cell-p",
    "formattedRanges": []
   },
   "source": [
    "Dari Tabel di atas, terlihat bahwa terdapat beberapa baris yang memiliki data kosong (missing-value). Untuk informasi lebih singkat, dapat kita lihat pada perhitungan jumlah nilai yang hilang dalam setiap kolom berikut."
   ]
  },
  {
   "block_group": "2f6beff03d924b35a3883295edb8084f",
   "cell_type": "code",
   "execution_count": null,
   "metadata": {
    "cell_id": "bb642e8710124d5284bf778cd9c5a2a5",
    "deepnote_cell_type": "code",
    "deepnote_to_be_reexecuted": false,
    "execution_millis": 102,
    "execution_start": 1710354378933,
    "source_hash": null
   },
   "outputs": [
    {
     "data": {
      "text/plain": [
       "Id               0\n",
       "SepalLengthCm    5\n",
       "SepalWidthCm     0\n",
       "PetalLengthCm    0\n",
       "PetalWidthCm     0\n",
       "Species          2\n",
       "dtype: int64"
      ]
     },
     "execution_count": 61,
     "metadata": {},
     "output_type": "execute_result"
    }
   ],
   "outputs_reference": "dbtable:cell_outputs/4a9278bf-3a36-4a5b-b114-a3eb4949336e",
   "source": [
    "df_knn.isnull().sum()"
   ]
  },
  {
   "block_group": "8a3ef594cfa949c7ae77ed7ecde1ed5a",
   "cell_type": "markdown",
   "metadata": {
    "cell_id": "463f1ca3d5274754bdbf987595b9c0fd",
    "deepnote_cell_type": "text-cell-p",
    "formattedRanges": []
   },
   "source": [
    "Karena pada tabel terlihat bahwa terdapat dua baris data yang memiliki nilai kosong (missing-value) pada kolom SepalLengthCm dan Species yang dapat menimbulkan kesalahan analisis, maka kita dapat menghapus kedua baris tersebut agar tidak menggangu proses pengisian data."
   ]
  },
  {
   "block_group": "2b0010125c9f4ae2b6f180d1a591237e",
   "cell_type": "code",
   "execution_count": null,
   "metadata": {
    "cell_id": "937660aa4d7e4b67bc388d4df0257c96",
    "deepnote_cell_type": "code",
    "deepnote_to_be_reexecuted": false,
    "execution_millis": 57,
    "execution_start": 1710354412144,
    "source_hash": null
   },
   "outputs": [],
   "outputs_reference": null,
   "source": [
    "df_knn = df_knn.dropna(subset=['SepalLengthCm', 'Species'], how='all')"
   ]
  },
  {
   "block_group": "3f43eea937d94d3195cecac000ba2e81",
   "cell_type": "markdown",
   "metadata": {
    "cell_id": "856ed4fc303046e2bff25a1e8d35d47e",
    "deepnote_cell_type": "text-cell-p",
    "formattedRanges": []
   },
   "source": [
    "Menghitung kembali jumlah nilai yang hilang setelah penghapusan data."
   ]
  },
  {
   "block_group": "33f35c2180a34766a6109aadf3f10455",
   "cell_type": "code",
   "execution_count": null,
   "metadata": {
    "cell_id": "3ceeab356af74a7b8738746c97b9a74d",
    "deepnote_cell_type": "code",
    "deepnote_to_be_reexecuted": false,
    "execution_millis": 94,
    "execution_start": 1710354442487,
    "source_hash": null
   },
   "outputs": [
    {
     "data": {
      "text/plain": [
       "Id               0\n",
       "SepalLengthCm    3\n",
       "SepalWidthCm     0\n",
       "PetalLengthCm    0\n",
       "PetalWidthCm     0\n",
       "Species          0\n",
       "dtype: int64"
      ]
     },
     "execution_count": 63,
     "metadata": {},
     "output_type": "execute_result"
    }
   ],
   "outputs_reference": "dbtable:cell_outputs/1cb7fae6-af7d-489b-bf28-35e330003b49",
   "source": [
    "df_knn.isnull().sum()"
   ]
  },
  {
   "block_group": "b9ad70bc71464b0f88d7ce31f54d7842",
   "cell_type": "markdown",
   "metadata": {
    "cell_id": "3dff5bcd6f48400ab8b2cfb115910e2b",
    "deepnote_cell_type": "text-cell-p",
    "formattedRanges": []
   },
   "source": [
    "Menampilkan kembali semua baris yang ada pada DataFrame setelah penghapusan data."
   ]
  },
  {
   "block_group": "8f0c1246d4154bf181dcf5d9da072b6f",
   "cell_type": "code",
   "execution_count": null,
   "metadata": {
    "cell_id": "eb3ae604619a4976ab624215226deb00",
    "deepnote_cell_type": "code",
    "deepnote_to_be_reexecuted": false,
    "execution_millis": 75,
    "execution_start": 1710354466559,
    "source_hash": null
   },
   "outputs": [
    {
     "data": {
      "application/vnd.deepnote.dataframe.v3+json": {
       "column_count": 6,
       "columns": [
        {
         "dtype": "int64",
         "name": "Id",
         "stats": {
          "histogram": [
           {
            "bin_end": 15.9,
            "bin_start": 1,
            "count": 14
           },
           {
            "bin_end": 30.8,
            "bin_start": 15.9,
            "count": 15
           },
           {
            "bin_end": 45.7,
            "bin_start": 30.8,
            "count": 15
           },
           {
            "bin_end": 60.6,
            "bin_start": 45.7,
            "count": 15
           },
           {
            "bin_end": 75.5,
            "bin_start": 60.6,
            "count": 14
           },
           {
            "bin_end": 90.4,
            "bin_start": 75.5,
            "count": 15
           },
           {
            "bin_end": 105.3,
            "bin_start": 90.4,
            "count": 15
           },
           {
            "bin_end": 120.2,
            "bin_start": 105.3,
            "count": 15
           },
           {
            "bin_end": 135.1,
            "bin_start": 120.2,
            "count": 15
           },
           {
            "bin_end": 150,
            "bin_start": 135.1,
            "count": 15
           }
          ],
          "max": "150",
          "min": "1",
          "nan_count": 0,
          "unique_count": 148
         }
        },
        {
         "dtype": "float64",
         "name": "SepalLengthCm",
         "stats": {
          "histogram": [
           {
            "bin_end": 4.66,
            "bin_start": 4.3,
            "count": 8
           },
           {
            "bin_end": 5.02,
            "bin_start": 4.66,
            "count": 22
           },
           {
            "bin_end": 5.38,
            "bin_start": 5.02,
            "count": 14
           },
           {
            "bin_end": 5.74,
            "bin_start": 5.38,
            "count": 27
           },
           {
            "bin_end": 6.1,
            "bin_start": 5.74,
            "count": 16
           },
           {
            "bin_end": 6.46,
            "bin_start": 6.1,
            "count": 24
           },
           {
            "bin_end": 6.82,
            "bin_start": 6.46,
            "count": 18
           },
           {
            "bin_end": 7.18,
            "bin_start": 6.82,
            "count": 5
           },
           {
            "bin_end": 7.54,
            "bin_start": 7.18,
            "count": 5
           },
           {
            "bin_end": 7.9,
            "bin_start": 7.54,
            "count": 6
           }
          ],
          "max": "7.9",
          "min": "4.3",
          "nan_count": 3,
          "unique_count": 34
         }
        },
        {
         "dtype": "float64",
         "name": "SepalWidthCm",
         "stats": {
          "histogram": [
           {
            "bin_end": 2.24,
            "bin_start": 2,
            "count": 3
           },
           {
            "bin_end": 2.48,
            "bin_start": 2.24,
            "count": 7
           },
           {
            "bin_end": 2.72,
            "bin_start": 2.48,
            "count": 22
           },
           {
            "bin_end": 2.96,
            "bin_start": 2.72,
            "count": 24
           },
           {
            "bin_end": 3.2,
            "bin_start": 2.96,
            "count": 38
           },
           {
            "bin_end": 3.4400000000000004,
            "bin_start": 3.2,
            "count": 30
           },
           {
            "bin_end": 3.6800000000000006,
            "bin_start": 3.4400000000000004,
            "count": 9
           },
           {
            "bin_end": 3.9200000000000004,
            "bin_start": 3.6800000000000006,
            "count": 11
           },
           {
            "bin_end": 4.16,
            "bin_start": 3.9200000000000004,
            "count": 2
           },
           {
            "bin_end": 4.4,
            "bin_start": 4.16,
            "count": 2
           }
          ],
          "max": "4.4",
          "min": "2.0",
          "nan_count": 0,
          "unique_count": 23
         }
        },
        {
         "dtype": "float64",
         "name": "PetalLengthCm",
         "stats": {
          "histogram": [
           {
            "bin_end": 1.59,
            "bin_start": 1,
            "count": 36
           },
           {
            "bin_end": 2.18,
            "bin_start": 1.59,
            "count": 13
           },
           {
            "bin_end": 2.7700000000000005,
            "bin_start": 2.18,
            "count": 0
           },
           {
            "bin_end": 3.3600000000000003,
            "bin_start": 2.7700000000000005,
            "count": 3
           },
           {
            "bin_end": 3.95,
            "bin_start": 3.3600000000000003,
            "count": 8
           },
           {
            "bin_end": 4.540000000000001,
            "bin_start": 3.95,
            "count": 25
           },
           {
            "bin_end": 5.130000000000001,
            "bin_start": 4.540000000000001,
            "count": 29
           },
           {
            "bin_end": 5.720000000000001,
            "bin_start": 5.130000000000001,
            "count": 18
           },
           {
            "bin_end": 6.3100000000000005,
            "bin_start": 5.720000000000001,
            "count": 11
           },
           {
            "bin_end": 6.9,
            "bin_start": 6.3100000000000005,
            "count": 5
           }
          ],
          "max": "6.9",
          "min": "1.0",
          "nan_count": 0,
          "unique_count": 43
         }
        },
        {
         "dtype": "float64",
         "name": "PetalWidthCm",
         "stats": {
          "histogram": [
           {
            "bin_end": 0.33999999999999997,
            "bin_start": 0.1,
            "count": 40
           },
           {
            "bin_end": 0.58,
            "bin_start": 0.33999999999999997,
            "count": 8
           },
           {
            "bin_end": 0.82,
            "bin_start": 0.58,
            "count": 1
           },
           {
            "bin_end": 1.06,
            "bin_start": 0.82,
            "count": 7
           },
           {
            "bin_end": 1.3,
            "bin_start": 1.06,
            "count": 8
           },
           {
            "bin_end": 1.54,
            "bin_start": 1.3,
            "count": 32
           },
           {
            "bin_end": 1.78,
            "bin_start": 1.54,
            "count": 6
           },
           {
            "bin_end": 2.02,
            "bin_start": 1.78,
            "count": 23
           },
           {
            "bin_end": 2.2600000000000002,
            "bin_start": 2.02,
            "count": 9
           },
           {
            "bin_end": 2.5,
            "bin_start": 2.2600000000000002,
            "count": 14
           }
          ],
          "max": "2.5",
          "min": "0.1",
          "nan_count": 0,
          "unique_count": 22
         }
        },
        {
         "dtype": "object",
         "name": "Species",
         "stats": {
          "categories": [
           {
            "count": 50,
            "name": "Iris-virginica"
           },
           {
            "count": 49,
            "name": "Iris-setosa"
           },
           {
            "count": 49,
            "name": "Iris-versicolor"
           }
          ],
          "nan_count": 0,
          "unique_count": 3
         }
        },
        {
         "dtype": "int64",
         "name": "_deepnote_index_column"
        }
       ],
       "row_count": 148,
       "rows": [
        {
         "Id": 1,
         "PetalLengthCm": 1.4,
         "PetalWidthCm": 0.2,
         "SepalLengthCm": 5.1,
         "SepalWidthCm": 3.5,
         "Species": "Iris-setosa",
         "_deepnote_index_column": 0
        },
        {
         "Id": 2,
         "PetalLengthCm": 1.4,
         "PetalWidthCm": 0.2,
         "SepalLengthCm": 4.9,
         "SepalWidthCm": 3,
         "Species": "Iris-setosa",
         "_deepnote_index_column": 1
        },
        {
         "Id": 3,
         "PetalLengthCm": 1.3,
         "PetalWidthCm": 0.2,
         "SepalLengthCm": "nan",
         "SepalWidthCm": 3.2,
         "Species": "Iris-setosa",
         "_deepnote_index_column": 2
        },
        {
         "Id": 4,
         "PetalLengthCm": 1.5,
         "PetalWidthCm": 0.2,
         "SepalLengthCm": 4.6,
         "SepalWidthCm": 3.1,
         "Species": "Iris-setosa",
         "_deepnote_index_column": 3
        },
        {
         "Id": 5,
         "PetalLengthCm": 1.4,
         "PetalWidthCm": 0.2,
         "SepalLengthCm": 5,
         "SepalWidthCm": 3.6,
         "Species": "Iris-setosa",
         "_deepnote_index_column": 4
        },
        {
         "Id": 6,
         "PetalLengthCm": 1.7,
         "PetalWidthCm": 0.4,
         "SepalLengthCm": 5.4,
         "SepalWidthCm": 3.9,
         "Species": "Iris-setosa",
         "_deepnote_index_column": 5
        },
        {
         "Id": 8,
         "PetalLengthCm": 1.5,
         "PetalWidthCm": 0.2,
         "SepalLengthCm": 5,
         "SepalWidthCm": 3.4,
         "Species": "Iris-setosa",
         "_deepnote_index_column": 7
        },
        {
         "Id": 9,
         "PetalLengthCm": 1.4,
         "PetalWidthCm": 0.2,
         "SepalLengthCm": 4.4,
         "SepalWidthCm": 2.9,
         "Species": "Iris-setosa",
         "_deepnote_index_column": 8
        },
        {
         "Id": 10,
         "PetalLengthCm": 1.5,
         "PetalWidthCm": 0.1,
         "SepalLengthCm": 4.9,
         "SepalWidthCm": 3.1,
         "Species": "Iris-setosa",
         "_deepnote_index_column": 9
        },
        {
         "Id": 11,
         "PetalLengthCm": 1.5,
         "PetalWidthCm": 0.2,
         "SepalLengthCm": 5.4,
         "SepalWidthCm": 3.7,
         "Species": "Iris-setosa",
         "_deepnote_index_column": 10
        }
       ]
      },
      "text/html": [
       "<div>\n",
       "<style scoped>\n",
       "    .dataframe tbody tr th:only-of-type {\n",
       "        vertical-align: middle;\n",
       "    }\n",
       "\n",
       "    .dataframe tbody tr th {\n",
       "        vertical-align: top;\n",
       "    }\n",
       "\n",
       "    .dataframe thead th {\n",
       "        text-align: right;\n",
       "    }\n",
       "</style>\n",
       "<table border=\"1\" class=\"dataframe\">\n",
       "  <thead>\n",
       "    <tr style=\"text-align: right;\">\n",
       "      <th></th>\n",
       "      <th>Id</th>\n",
       "      <th>SepalLengthCm</th>\n",
       "      <th>SepalWidthCm</th>\n",
       "      <th>PetalLengthCm</th>\n",
       "      <th>PetalWidthCm</th>\n",
       "      <th>Species</th>\n",
       "    </tr>\n",
       "  </thead>\n",
       "  <tbody>\n",
       "    <tr>\n",
       "      <th>0</th>\n",
       "      <td>1</td>\n",
       "      <td>5.1</td>\n",
       "      <td>3.5</td>\n",
       "      <td>1.4</td>\n",
       "      <td>0.2</td>\n",
       "      <td>Iris-setosa</td>\n",
       "    </tr>\n",
       "    <tr>\n",
       "      <th>1</th>\n",
       "      <td>2</td>\n",
       "      <td>4.9</td>\n",
       "      <td>3.0</td>\n",
       "      <td>1.4</td>\n",
       "      <td>0.2</td>\n",
       "      <td>Iris-setosa</td>\n",
       "    </tr>\n",
       "    <tr>\n",
       "      <th>2</th>\n",
       "      <td>3</td>\n",
       "      <td>NaN</td>\n",
       "      <td>3.2</td>\n",
       "      <td>1.3</td>\n",
       "      <td>0.2</td>\n",
       "      <td>Iris-setosa</td>\n",
       "    </tr>\n",
       "    <tr>\n",
       "      <th>3</th>\n",
       "      <td>4</td>\n",
       "      <td>4.6</td>\n",
       "      <td>3.1</td>\n",
       "      <td>1.5</td>\n",
       "      <td>0.2</td>\n",
       "      <td>Iris-setosa</td>\n",
       "    </tr>\n",
       "    <tr>\n",
       "      <th>4</th>\n",
       "      <td>5</td>\n",
       "      <td>5.0</td>\n",
       "      <td>3.6</td>\n",
       "      <td>1.4</td>\n",
       "      <td>0.2</td>\n",
       "      <td>Iris-setosa</td>\n",
       "    </tr>\n",
       "    <tr>\n",
       "      <th>...</th>\n",
       "      <td>...</td>\n",
       "      <td>...</td>\n",
       "      <td>...</td>\n",
       "      <td>...</td>\n",
       "      <td>...</td>\n",
       "      <td>...</td>\n",
       "    </tr>\n",
       "    <tr>\n",
       "      <th>145</th>\n",
       "      <td>146</td>\n",
       "      <td>6.7</td>\n",
       "      <td>3.0</td>\n",
       "      <td>5.2</td>\n",
       "      <td>2.3</td>\n",
       "      <td>Iris-virginica</td>\n",
       "    </tr>\n",
       "    <tr>\n",
       "      <th>146</th>\n",
       "      <td>147</td>\n",
       "      <td>6.3</td>\n",
       "      <td>2.5</td>\n",
       "      <td>5.0</td>\n",
       "      <td>1.9</td>\n",
       "      <td>Iris-virginica</td>\n",
       "    </tr>\n",
       "    <tr>\n",
       "      <th>147</th>\n",
       "      <td>148</td>\n",
       "      <td>6.5</td>\n",
       "      <td>3.0</td>\n",
       "      <td>5.2</td>\n",
       "      <td>2.0</td>\n",
       "      <td>Iris-virginica</td>\n",
       "    </tr>\n",
       "    <tr>\n",
       "      <th>148</th>\n",
       "      <td>149</td>\n",
       "      <td>6.2</td>\n",
       "      <td>3.4</td>\n",
       "      <td>5.4</td>\n",
       "      <td>2.3</td>\n",
       "      <td>Iris-virginica</td>\n",
       "    </tr>\n",
       "    <tr>\n",
       "      <th>149</th>\n",
       "      <td>150</td>\n",
       "      <td>5.9</td>\n",
       "      <td>3.0</td>\n",
       "      <td>5.1</td>\n",
       "      <td>1.8</td>\n",
       "      <td>Iris-virginica</td>\n",
       "    </tr>\n",
       "  </tbody>\n",
       "</table>\n",
       "<p>148 rows × 6 columns</p>\n",
       "</div>"
      ],
      "text/plain": [
       "      Id  SepalLengthCm  SepalWidthCm  PetalLengthCm  PetalWidthCm  \\\n",
       "0      1            5.1           3.5            1.4           0.2   \n",
       "1      2            4.9           3.0            1.4           0.2   \n",
       "2      3            NaN           3.2            1.3           0.2   \n",
       "3      4            4.6           3.1            1.5           0.2   \n",
       "4      5            5.0           3.6            1.4           0.2   \n",
       "..   ...            ...           ...            ...           ...   \n",
       "145  146            6.7           3.0            5.2           2.3   \n",
       "146  147            6.3           2.5            5.0           1.9   \n",
       "147  148            6.5           3.0            5.2           2.0   \n",
       "148  149            6.2           3.4            5.4           2.3   \n",
       "149  150            5.9           3.0            5.1           1.8   \n",
       "\n",
       "            Species  \n",
       "0       Iris-setosa  \n",
       "1       Iris-setosa  \n",
       "2       Iris-setosa  \n",
       "3       Iris-setosa  \n",
       "4       Iris-setosa  \n",
       "..              ...  \n",
       "145  Iris-virginica  \n",
       "146  Iris-virginica  \n",
       "147  Iris-virginica  \n",
       "148  Iris-virginica  \n",
       "149  Iris-virginica  \n",
       "\n",
       "[148 rows x 6 columns]"
      ]
     },
     "execution_count": 64,
     "metadata": {},
     "output_type": "execute_result"
    }
   ],
   "outputs_reference": "s3:deepnote-cell-outputs-production/ffe2b7e5-f05a-4b56-81c3-be799579f192",
   "source": [
    "df_knn.head(jumlah_baris)"
   ]
  },
  {
   "block_group": "bcce36cb8fc44bc19d59c4078b6987b0",
   "cell_type": "markdown",
   "metadata": {
    "cell_id": "85b4cf96031c4b6c9f9f84da286c9c09",
    "deepnote_cell_type": "text-cell-p",
    "formattedRanges": []
   },
   "source": [
    "Pastikan type data dari fitur yang akan kita uji adalah numerik/float."
   ]
  },
  {
   "block_group": "18e8a55e1bcf4ba384a80eaeecd0f0ec",
   "cell_type": "code",
   "execution_count": null,
   "metadata": {
    "cell_id": "2dcefb068d1649f98780f2dc918af698",
    "deepnote_cell_type": "code",
    "deepnote_to_be_reexecuted": false,
    "execution_millis": 54,
    "execution_start": 1710354510916,
    "source_hash": null
   },
   "outputs": [
    {
     "name": "stdout",
     "output_type": "stream",
     "text": [
      "<class 'pandas.core.frame.DataFrame'>\n",
      "Index: 148 entries, 0 to 149\n",
      "Data columns (total 6 columns):\n",
      " #   Column         Non-Null Count  Dtype  \n",
      "---  ------         --------------  -----  \n",
      " 0   Id             148 non-null    int64  \n",
      " 1   SepalLengthCm  145 non-null    float64\n",
      " 2   SepalWidthCm   148 non-null    float64\n",
      " 3   PetalLengthCm  148 non-null    float64\n",
      " 4   PetalWidthCm   148 non-null    float64\n",
      " 5   Species        148 non-null    object \n",
      "dtypes: float64(4), int64(1), object(1)\n",
      "memory usage: 8.1+ KB\n"
     ]
    }
   ],
   "outputs_reference": "dbtable:cell_outputs/adccbf5a-45e2-4721-a2e2-9211f4a1a9a2",
   "source": [
    "df_knn.info()"
   ]
  },
  {
   "block_group": "ccecac7c3fa344998530b7630a474947",
   "cell_type": "markdown",
   "metadata": {
    "cell_id": "7e5cbe2eb6cf44a6be31065f637edaa0",
    "deepnote_cell_type": "text-cell-p",
    "formattedRanges": []
   },
   "source": [
    "Pilih fitur yang akan digunakan untuk kNN.\r"
   ]
  },
  {
   "block_group": "369a91da0c9f4f05aa146700016a51af",
   "cell_type": "code",
   "execution_count": null,
   "metadata": {
    "cell_id": "b640f471eb1a4512aeea75fe56b55960",
    "deepnote_cell_type": "code",
    "deepnote_to_be_reexecuted": false,
    "execution_millis": 33,
    "execution_start": 1710354590427,
    "source_hash": null
   },
   "outputs": [],
   "outputs_reference": null,
   "source": [
    "features = ['SepalLengthCm', 'SepalWidthCm', 'PetalLengthCm', 'PetalWidthCm']"
   ]
  },
  {
   "block_group": "db0901eea3fe47cf8942b37b186508d7",
   "cell_type": "markdown",
   "metadata": {
    "cell_id": "8b3b3c882a8f41f2a342fa92f3bfcd6a",
    "deepnote_cell_type": "text-cell-p",
    "formattedRanges": []
   },
   "source": [
    "Gunakan KNNImputer untuk mengisi nilai yang hilang."
   ]
  },
  {
   "block_group": "6eeaba5b26fa4d3c8ddbf4cd23d1c932",
   "cell_type": "code",
   "execution_count": null,
   "metadata": {
    "cell_id": "892f0f0a07044748b8034f7ad95d44cc",
    "deepnote_cell_type": "code",
    "deepnote_to_be_reexecuted": false,
    "execution_millis": 84,
    "execution_start": 1710355333851,
    "source_hash": null
   },
   "outputs": [],
   "outputs_reference": null,
   "source": [
    "imputer = KNNImputer(n_neighbors=5)\n",
    "df_knn[features] = imputer.fit_transform(df_knn[features]).round(1)"
   ]
  },
  {
   "block_group": "ce4ab2d6a70a408a84e3aa444bdae1fc",
   "cell_type": "markdown",
   "metadata": {
    "cell_id": "5204242799244955804d5d31b5b4819d",
    "deepnote_cell_type": "text-cell-p",
    "formattedRanges": []
   },
   "source": [
    "Pisahkan data menjadi data pelatihan dan data validasi."
   ]
  },
  {
   "block_group": "d222200167884e429b3c7c1567f59c90",
   "cell_type": "code",
   "execution_count": null,
   "metadata": {
    "cell_id": "c9c01acbbb6f47fcbfcb896d7cce20d5",
    "deepnote_cell_type": "code",
    "deepnote_to_be_reexecuted": false,
    "execution_millis": 86,
    "execution_start": 1710355336072,
    "source_hash": null
   },
   "outputs": [],
   "outputs_reference": null,
   "source": [
    "x_train, x_valid, y_train, y_valid = train_test_split(\n",
    "    df_knn[features], df_knn['SepalLengthCm'], test_size=0.25, random_state=42\n",
    ")"
   ]
  },
  {
   "block_group": "aabc57f52f9649409ee9a223456e945b",
   "cell_type": "markdown",
   "metadata": {
    "cell_id": "d85c0b3d7bf64c949e20154eb63eb2e1",
    "deepnote_cell_type": "text-cell-p",
    "formattedRanges": []
   },
   "source": [
    "Inisialisasi model kNN.\r"
   ]
  },
  {
   "block_group": "2afced6879a14984abd3adf4ba24400e",
   "cell_type": "code",
   "execution_count": null,
   "metadata": {
    "cell_id": "ed735220f67c44f188e46aa2b9e61f53",
    "deepnote_cell_type": "code",
    "deepnote_to_be_reexecuted": false,
    "execution_millis": 175,
    "execution_start": 1710355344827,
    "source_hash": null
   },
   "outputs": [],
   "outputs_reference": null,
   "source": [
    "knn_model = KNeighborsRegressor(n_neighbors=5)"
   ]
  },
  {
   "block_group": "9973190870384e43906c7e95fb59893d",
   "cell_type": "markdown",
   "metadata": {
    "cell_id": "9a0a36ce3b0b4d7a95f434300c31233a",
    "deepnote_cell_type": "text-cell-p",
    "formattedRanges": []
   },
   "source": [
    "Melatih model kNN."
   ]
  },
  {
   "block_group": "8f6e53feb24f4fb39bbca7414f7395cb",
   "cell_type": "code",
   "execution_count": null,
   "metadata": {
    "cell_id": "795c4e0cdf984fc58d9f4d401f5bf156",
    "deepnote_cell_type": "code",
    "deepnote_to_be_reexecuted": false,
    "execution_millis": 216,
    "execution_start": 1710355347912,
    "source_hash": null
   },
   "outputs": [
    {
     "data": {
      "text/html": [
       "<style>#sk-container-id-2 {color: black;background-color: white;}#sk-container-id-2 pre{padding: 0;}#sk-container-id-2 div.sk-toggleable {background-color: white;}#sk-container-id-2 label.sk-toggleable__label {cursor: pointer;display: block;width: 100%;margin-bottom: 0;padding: 0.3em;box-sizing: border-box;text-align: center;}#sk-container-id-2 label.sk-toggleable__label-arrow:before {content: \"▸\";float: left;margin-right: 0.25em;color: #696969;}#sk-container-id-2 label.sk-toggleable__label-arrow:hover:before {color: black;}#sk-container-id-2 div.sk-estimator:hover label.sk-toggleable__label-arrow:before {color: black;}#sk-container-id-2 div.sk-toggleable__content {max-height: 0;max-width: 0;overflow: hidden;text-align: left;background-color: #f0f8ff;}#sk-container-id-2 div.sk-toggleable__content pre {margin: 0.2em;color: black;border-radius: 0.25em;background-color: #f0f8ff;}#sk-container-id-2 input.sk-toggleable__control:checked~div.sk-toggleable__content {max-height: 200px;max-width: 100%;overflow: auto;}#sk-container-id-2 input.sk-toggleable__control:checked~label.sk-toggleable__label-arrow:before {content: \"▾\";}#sk-container-id-2 div.sk-estimator input.sk-toggleable__control:checked~label.sk-toggleable__label {background-color: #d4ebff;}#sk-container-id-2 div.sk-label input.sk-toggleable__control:checked~label.sk-toggleable__label {background-color: #d4ebff;}#sk-container-id-2 input.sk-hidden--visually {border: 0;clip: rect(1px 1px 1px 1px);clip: rect(1px, 1px, 1px, 1px);height: 1px;margin: -1px;overflow: hidden;padding: 0;position: absolute;width: 1px;}#sk-container-id-2 div.sk-estimator {font-family: monospace;background-color: #f0f8ff;border: 1px dotted black;border-radius: 0.25em;box-sizing: border-box;margin-bottom: 0.5em;}#sk-container-id-2 div.sk-estimator:hover {background-color: #d4ebff;}#sk-container-id-2 div.sk-parallel-item::after {content: \"\";width: 100%;border-bottom: 1px solid gray;flex-grow: 1;}#sk-container-id-2 div.sk-label:hover label.sk-toggleable__label {background-color: #d4ebff;}#sk-container-id-2 div.sk-serial::before {content: \"\";position: absolute;border-left: 1px solid gray;box-sizing: border-box;top: 0;bottom: 0;left: 50%;z-index: 0;}#sk-container-id-2 div.sk-serial {display: flex;flex-direction: column;align-items: center;background-color: white;padding-right: 0.2em;padding-left: 0.2em;position: relative;}#sk-container-id-2 div.sk-item {position: relative;z-index: 1;}#sk-container-id-2 div.sk-parallel {display: flex;align-items: stretch;justify-content: center;background-color: white;position: relative;}#sk-container-id-2 div.sk-item::before, #sk-container-id-2 div.sk-parallel-item::before {content: \"\";position: absolute;border-left: 1px solid gray;box-sizing: border-box;top: 0;bottom: 0;left: 50%;z-index: -1;}#sk-container-id-2 div.sk-parallel-item {display: flex;flex-direction: column;z-index: 1;position: relative;background-color: white;}#sk-container-id-2 div.sk-parallel-item:first-child::after {align-self: flex-end;width: 50%;}#sk-container-id-2 div.sk-parallel-item:last-child::after {align-self: flex-start;width: 50%;}#sk-container-id-2 div.sk-parallel-item:only-child::after {width: 0;}#sk-container-id-2 div.sk-dashed-wrapped {border: 1px dashed gray;margin: 0 0.4em 0.5em 0.4em;box-sizing: border-box;padding-bottom: 0.4em;background-color: white;}#sk-container-id-2 div.sk-label label {font-family: monospace;font-weight: bold;display: inline-block;line-height: 1.2em;}#sk-container-id-2 div.sk-label-container {text-align: center;}#sk-container-id-2 div.sk-container {/* jupyter's `normalize.less` sets `[hidden] { display: none; }` but bootstrap.min.css set `[hidden] { display: none !important; }` so we also need the `!important` here to be able to override the default hidden behavior on the sphinx rendered scikit-learn.org. See: https://github.com/scikit-learn/scikit-learn/issues/21755 */display: inline-block !important;position: relative;}#sk-container-id-2 div.sk-text-repr-fallback {display: none;}</style><div id=\"sk-container-id-2\" class=\"sk-top-container\"><div class=\"sk-text-repr-fallback\"><pre>KNeighborsRegressor()</pre><b>In a Jupyter environment, please rerun this cell to show the HTML representation or trust the notebook. <br />On GitHub, the HTML representation is unable to render, please try loading this page with nbviewer.org.</b></div><div class=\"sk-container\" hidden><div class=\"sk-item\"><div class=\"sk-estimator sk-toggleable\"><input class=\"sk-toggleable__control sk-hidden--visually\" id=\"sk-estimator-id-2\" type=\"checkbox\" checked><label for=\"sk-estimator-id-2\" class=\"sk-toggleable__label sk-toggleable__label-arrow\">KNeighborsRegressor</label><div class=\"sk-toggleable__content\"><pre>KNeighborsRegressor()</pre></div></div></div></div></div>"
      ],
      "text/plain": [
       "KNeighborsRegressor()"
      ]
     },
     "execution_count": 82,
     "metadata": {},
     "output_type": "execute_result"
    }
   ],
   "outputs_reference": "s3:deepnote-cell-outputs-production/2b54756b-dda1-4c72-9496-ee7ca9810410",
   "source": [
    "knn_model.fit(x_train, y_train)"
   ]
  },
  {
   "block_group": "1762a88169264d8092d8d893308aa6e9",
   "cell_type": "markdown",
   "metadata": {
    "cell_id": "ce3ad599287f4905bae07a7a86a7ca2a",
    "deepnote_cell_type": "text-cell-p",
    "formattedRanges": []
   },
   "source": [
    "Melakukan prediksi untuk data validasi."
   ]
  },
  {
   "block_group": "eb7db5fd872147e183196b7147e18281",
   "cell_type": "code",
   "execution_count": null,
   "metadata": {
    "cell_id": "92a2aad214394675a79a62b32c45b7a3",
    "deepnote_cell_type": "code",
    "deepnote_to_be_reexecuted": false,
    "execution_millis": 67,
    "execution_start": 1710355356552,
    "source_hash": null
   },
   "outputs": [],
   "outputs_reference": null,
   "source": [
    "y_pred = knn_model.predict(x_valid)"
   ]
  },
  {
   "block_group": "13fd29d0c3e6487792c7e2f713d76bf1",
   "cell_type": "markdown",
   "metadata": {
    "cell_id": "e7d07ed4fa5a4c7f915ee1bfb2d4221e",
    "deepnote_cell_type": "text-cell-p",
    "formattedRanges": []
   },
   "source": [
    "Menghitung mean squared error (MSE)."
   ]
  },
  {
   "block_group": "c0572fb11ac24457af36bab40281ae96",
   "cell_type": "code",
   "execution_count": null,
   "metadata": {
    "cell_id": "a1186909eb5946b6b9dc141822ae5d5e",
    "deepnote_cell_type": "code",
    "deepnote_to_be_reexecuted": false,
    "execution_millis": 74,
    "execution_start": 1710355358682,
    "source_hash": null
   },
   "outputs": [
    {
     "name": "stdout",
     "output_type": "stream",
     "text": [
      "Mean Squared Error (MSE) dari model k-NN: 0.025059459459459452\n"
     ]
    }
   ],
   "outputs_reference": "dbtable:cell_outputs/1c7d44f0-8c78-48d4-8a84-8021ec2ce1cd",
   "source": [
    "mse = mean_squared_error(y_valid, y_pred)\n",
    "print(\"Mean Squared Error (MSE) dari model k-NN:\", mse)"
   ]
  },
  {
   "block_group": "868cb9cd307f4c099aadd8f9a8e0381b",
   "cell_type": "markdown",
   "metadata": {
    "cell_id": "e2379f9562844df5836d032f5f2bd378",
    "deepnote_cell_type": "text-cell-p",
    "formattedRanges": []
   },
   "source": [
    "Visualisasi grafik untuk perbandingan nilai yang diimputasi dengan nilai yang sebenarnya."
   ]
  },
  {
   "block_group": "5db2422d0676498582fff575ad1e77cf",
   "cell_type": "code",
   "execution_count": null,
   "metadata": {
    "cell_id": "1114917c06124ec4ab04503ba2ad30af",
    "deepnote_cell_type": "code",
    "deepnote_to_be_reexecuted": false,
    "execution_millis": 293,
    "execution_start": 1710355368579,
    "source_hash": null
   },
   "outputs": [
    {
     "data": {
      "image/png": "[encoded data removed]",
      "text/plain": [
       "<Figure size 1500x600 with 1 Axes>"
      ]
     },
     "metadata": {
      "image/png": {
       "height": 590,
       "width": 780
      }
     },
     "output_type": "display_data"
    }
   ],
   "outputs_reference": "s3:deepnote-cell-outputs-production/97e6e9c5-628b-4572-94f1-5489a1a4284b",
   "source": [
    "plt.figure(figsize=(15, 6))\n",
    "plt.subplot(1, 2, 2)\n",
    "plt.scatter(df_knn.loc[df_1['SepalLengthCm'].notnull(), 'SepalLengthCm'], \n",
    "            df_knn.loc[df_1['SepalLengthCm'].notnull(), 'PetalWidthCm'], \n",
    "            c='blue', label='Data yang diketahui')\n",
    "plt.scatter(df_knn.loc[df_1['SepalLengthCm'].isnull(), 'SepalLengthCm'], \n",
    "            df_knn.loc[df_1['SepalLengthCm'].isnull(), 'PetalWidthCm'], \n",
    "            c='red', label='Data yang diimputasi')\n",
    "plt.xlabel('Sepal Length (cm)')\n",
    "plt.ylabel('Petal Width (cm)')\n",
    "plt.title('Perbandingan Data yang Diketahui dan yang Diimputasi (Sepal Length vs Petal Width)')\n",
    "plt.legend()\n",
    "\n",
    "plt.tight_layout()\n",
    "plt.show()"
   ]
  },
  {
   "block_group": "b3d876a065514717ae90ff6967ad6657",
   "cell_type": "markdown",
   "metadata": {
    "cell_id": "943b1c14c27641fcb5fb3e53fb6539c2",
    "deepnote_cell_type": "text-cell-p",
    "formattedRanges": []
   },
   "source": [
    "Menghitung kembali jumlah nilai yang hilang setelah pengisian data."
   ]
  },
  {
   "block_group": "1dc6c0e4610347a9bf7d8cf54f76e9d1",
   "cell_type": "code",
   "execution_count": null,
   "metadata": {
    "cell_id": "6326173d946a4b20964257d0c77bea35",
    "deepnote_cell_type": "code",
    "deepnote_to_be_reexecuted": false,
    "execution_millis": 69,
    "execution_start": 1710355512124,
    "source_hash": null
   },
   "outputs": [
    {
     "data": {
      "text/plain": [
       "Id               0\n",
       "SepalLengthCm    0\n",
       "SepalWidthCm     0\n",
       "PetalLengthCm    0\n",
       "PetalWidthCm     0\n",
       "Species          0\n",
       "dtype: int64"
      ]
     },
     "execution_count": 87,
     "metadata": {},
     "output_type": "execute_result"
    }
   ],
   "outputs_reference": "dbtable:cell_outputs/5dc565a6-2447-48e9-a8fb-042974c6fcde",
   "source": [
    "df_knn.isnull().sum()"
   ]
  },
  {
   "block_group": "01bf6f1627b641079aa5f16e5d542004",
   "cell_type": "markdown",
   "metadata": {
    "cell_id": "797bef1561ea472f8ae7c594081f2668",
    "deepnote_cell_type": "text-cell-p",
    "formattedRanges": []
   },
   "source": [
    "Menampilkan kembali semua baris yang ada pada DataFrame setelah pengisian data."
   ]
  },
  {
   "block_group": "c765b12da38048b68b782f3aa84ff471",
   "cell_type": "code",
   "execution_count": null,
   "metadata": {
    "cell_id": "3dcb2c10311f4b87ad960d2939be7df8",
    "deepnote_cell_type": "code",
    "deepnote_to_be_reexecuted": false,
    "execution_millis": 158,
    "execution_start": 1710355543032,
    "source_hash": null
   },
   "outputs": [
    {
     "data": {
      "application/vnd.deepnote.dataframe.v3+json": {
       "column_count": 6,
       "columns": [
        {
         "dtype": "int64",
         "name": "Id",
         "stats": {
          "histogram": [
           {
            "bin_end": 15.9,
            "bin_start": 1,
            "count": 14
           },
           {
            "bin_end": 30.8,
            "bin_start": 15.9,
            "count": 15
           },
           {
            "bin_end": 45.7,
            "bin_start": 30.8,
            "count": 15
           },
           {
            "bin_end": 60.6,
            "bin_start": 45.7,
            "count": 15
           },
           {
            "bin_end": 75.5,
            "bin_start": 60.6,
            "count": 14
           },
           {
            "bin_end": 90.4,
            "bin_start": 75.5,
            "count": 15
           },
           {
            "bin_end": 105.3,
            "bin_start": 90.4,
            "count": 15
           },
           {
            "bin_end": 120.2,
            "bin_start": 105.3,
            "count": 15
           },
           {
            "bin_end": 135.1,
            "bin_start": 120.2,
            "count": 15
           },
           {
            "bin_end": 150,
            "bin_start": 135.1,
            "count": 15
           }
          ],
          "max": "150",
          "min": "1",
          "nan_count": 0,
          "unique_count": 148
         }
        },
        {
         "dtype": "float64",
         "name": "SepalLengthCm",
         "stats": {
          "histogram": [
           {
            "bin_end": 4.66,
            "bin_start": 4.3,
            "count": 8
           },
           {
            "bin_end": 5.02,
            "bin_start": 4.66,
            "count": 23
           },
           {
            "bin_end": 5.38,
            "bin_start": 5.02,
            "count": 14
           },
           {
            "bin_end": 5.74,
            "bin_start": 5.38,
            "count": 27
           },
           {
            "bin_end": 6.1,
            "bin_start": 5.74,
            "count": 16
           },
           {
            "bin_end": 6.46,
            "bin_start": 6.1,
            "count": 25
           },
           {
            "bin_end": 6.82,
            "bin_start": 6.46,
            "count": 18
           },
           {
            "bin_end": 7.18,
            "bin_start": 6.82,
            "count": 6
           },
           {
            "bin_end": 7.54,
            "bin_start": 7.18,
            "count": 5
           },
           {
            "bin_end": 7.9,
            "bin_start": 7.54,
            "count": 6
           }
          ],
          "max": "7.9",
          "min": "4.3",
          "nan_count": 0,
          "unique_count": 35
         }
        },
        {
         "dtype": "float64",
         "name": "SepalWidthCm",
         "stats": {
          "histogram": [
           {
            "bin_end": 2.24,
            "bin_start": 2,
            "count": 3
           },
           {
            "bin_end": 2.48,
            "bin_start": 2.24,
            "count": 7
           },
           {
            "bin_end": 2.72,
            "bin_start": 2.48,
            "count": 22
           },
           {
            "bin_end": 2.96,
            "bin_start": 2.72,
            "count": 24
           },
           {
            "bin_end": 3.2,
            "bin_start": 2.96,
            "count": 38
           },
           {
            "bin_end": 3.4400000000000004,
            "bin_start": 3.2,
            "count": 30
           },
           {
            "bin_end": 3.6800000000000006,
            "bin_start": 3.4400000000000004,
            "count": 9
           },
           {
            "bin_end": 3.9200000000000004,
            "bin_start": 3.6800000000000006,
            "count": 11
           },
           {
            "bin_end": 4.16,
            "bin_start": 3.9200000000000004,
            "count": 2
           },
           {
            "bin_end": 4.4,
            "bin_start": 4.16,
            "count": 2
           }
          ],
          "max": "4.4",
          "min": "2.0",
          "nan_count": 0,
          "unique_count": 23
         }
        },
        {
         "dtype": "float64",
         "name": "PetalLengthCm",
         "stats": {
          "histogram": [
           {
            "bin_end": 1.59,
            "bin_start": 1,
            "count": 36
           },
           {
            "bin_end": 2.18,
            "bin_start": 1.59,
            "count": 13
           },
           {
            "bin_end": 2.7700000000000005,
            "bin_start": 2.18,
            "count": 0
           },
           {
            "bin_end": 3.3600000000000003,
            "bin_start": 2.7700000000000005,
            "count": 3
           },
           {
            "bin_end": 3.95,
            "bin_start": 3.3600000000000003,
            "count": 8
           },
           {
            "bin_end": 4.540000000000001,
            "bin_start": 3.95,
            "count": 25
           },
           {
            "bin_end": 5.130000000000001,
            "bin_start": 4.540000000000001,
            "count": 29
           },
           {
            "bin_end": 5.720000000000001,
            "bin_start": 5.130000000000001,
            "count": 18
           },
           {
            "bin_end": 6.3100000000000005,
            "bin_start": 5.720000000000001,
            "count": 11
           },
           {
            "bin_end": 6.9,
            "bin_start": 6.3100000000000005,
            "count": 5
           }
          ],
          "max": "6.9",
          "min": "1.0",
          "nan_count": 0,
          "unique_count": 43
         }
        },
        {
         "dtype": "float64",
         "name": "PetalWidthCm",
         "stats": {
          "histogram": [
           {
            "bin_end": 0.33999999999999997,
            "bin_start": 0.1,
            "count": 40
           },
           {
            "bin_end": 0.58,
            "bin_start": 0.33999999999999997,
            "count": 8
           },
           {
            "bin_end": 0.82,
            "bin_start": 0.58,
            "count": 1
           },
           {
            "bin_end": 1.06,
            "bin_start": 0.82,
            "count": 7
           },
           {
            "bin_end": 1.3,
            "bin_start": 1.06,
            "count": 8
           },
           {
            "bin_end": 1.54,
            "bin_start": 1.3,
            "count": 32
           },
           {
            "bin_end": 1.78,
            "bin_start": 1.54,
            "count": 6
           },
           {
            "bin_end": 2.02,
            "bin_start": 1.78,
            "count": 23
           },
           {
            "bin_end": 2.2600000000000002,
            "bin_start": 2.02,
            "count": 9
           },
           {
            "bin_end": 2.5,
            "bin_start": 2.2600000000000002,
            "count": 14
           }
          ],
          "max": "2.5",
          "min": "0.1",
          "nan_count": 0,
          "unique_count": 22
         }
        },
        {
         "dtype": "object",
         "name": "Species",
         "stats": {
          "categories": [
           {
            "count": 50,
            "name": "Iris-virginica"
           },
           {
            "count": 49,
            "name": "Iris-setosa"
           },
           {
            "count": 49,
            "name": "Iris-versicolor"
           }
          ],
          "nan_count": 0,
          "unique_count": 3
         }
        },
        {
         "dtype": "int64",
         "name": "_deepnote_index_column"
        }
       ],
       "row_count": 148,
       "rows": [
        {
         "Id": 1,
         "PetalLengthCm": 1.4,
         "PetalWidthCm": 0.2,
         "SepalLengthCm": 5.1,
         "SepalWidthCm": 3.5,
         "Species": "Iris-setosa",
         "_deepnote_index_column": 0
        },
        {
         "Id": 2,
         "PetalLengthCm": 1.4,
         "PetalWidthCm": 0.2,
         "SepalLengthCm": 4.9,
         "SepalWidthCm": 3,
         "Species": "Iris-setosa",
         "_deepnote_index_column": 1
        },
        {
         "Id": 3,
         "PetalLengthCm": 1.3,
         "PetalWidthCm": 0.2,
         "SepalLengthCm": 4.7,
         "SepalWidthCm": 3.2,
         "Species": "Iris-setosa",
         "_deepnote_index_column": 2
        },
        {
         "Id": 4,
         "PetalLengthCm": 1.5,
         "PetalWidthCm": 0.2,
         "SepalLengthCm": 4.6,
         "SepalWidthCm": 3.1,
         "Species": "Iris-setosa",
         "_deepnote_index_column": 3
        },
        {
         "Id": 5,
         "PetalLengthCm": 1.4,
         "PetalWidthCm": 0.2,
         "SepalLengthCm": 5,
         "SepalWidthCm": 3.6,
         "Species": "Iris-setosa",
         "_deepnote_index_column": 4
        },
        {
         "Id": 6,
         "PetalLengthCm": 1.7,
         "PetalWidthCm": 0.4,
         "SepalLengthCm": 5.4,
         "SepalWidthCm": 3.9,
         "Species": "Iris-setosa",
         "_deepnote_index_column": 5
        },
        {
         "Id": 8,
         "PetalLengthCm": 1.5,
         "PetalWidthCm": 0.2,
         "SepalLengthCm": 5,
         "SepalWidthCm": 3.4,
         "Species": "Iris-setosa",
         "_deepnote_index_column": 7
        },
        {
         "Id": 9,
         "PetalLengthCm": 1.4,
         "PetalWidthCm": 0.2,
         "SepalLengthCm": 4.4,
         "SepalWidthCm": 2.9,
         "Species": "Iris-setosa",
         "_deepnote_index_column": 8
        },
        {
         "Id": 10,
         "PetalLengthCm": 1.5,
         "PetalWidthCm": 0.1,
         "SepalLengthCm": 4.9,
         "SepalWidthCm": 3.1,
         "Species": "Iris-setosa",
         "_deepnote_index_column": 9
        },
        {
         "Id": 11,
         "PetalLengthCm": 1.5,
         "PetalWidthCm": 0.2,
         "SepalLengthCm": 5.4,
         "SepalWidthCm": 3.7,
         "Species": "Iris-setosa",
         "_deepnote_index_column": 10
        }
       ]
      },
      "text/html": [
       "<div>\n",
       "<style scoped>\n",
       "    .dataframe tbody tr th:only-of-type {\n",
       "        vertical-align: middle;\n",
       "    }\n",
       "\n",
       "    .dataframe tbody tr th {\n",
       "        vertical-align: top;\n",
       "    }\n",
       "\n",
       "    .dataframe thead th {\n",
       "        text-align: right;\n",
       "    }\n",
       "</style>\n",
       "<table border=\"1\" class=\"dataframe\">\n",
       "  <thead>\n",
       "    <tr style=\"text-align: right;\">\n",
       "      <th></th>\n",
       "      <th>Id</th>\n",
       "      <th>SepalLengthCm</th>\n",
       "      <th>SepalWidthCm</th>\n",
       "      <th>PetalLengthCm</th>\n",
       "      <th>PetalWidthCm</th>\n",
       "      <th>Species</th>\n",
       "    </tr>\n",
       "  </thead>\n",
       "  <tbody>\n",
       "    <tr>\n",
       "      <th>0</th>\n",
       "      <td>1</td>\n",
       "      <td>5.1</td>\n",
       "      <td>3.5</td>\n",
       "      <td>1.4</td>\n",
       "      <td>0.2</td>\n",
       "      <td>Iris-setosa</td>\n",
       "    </tr>\n",
       "    <tr>\n",
       "      <th>1</th>\n",
       "      <td>2</td>\n",
       "      <td>4.9</td>\n",
       "      <td>3.0</td>\n",
       "      <td>1.4</td>\n",
       "      <td>0.2</td>\n",
       "      <td>Iris-setosa</td>\n",
       "    </tr>\n",
       "    <tr>\n",
       "      <th>2</th>\n",
       "      <td>3</td>\n",
       "      <td>4.7</td>\n",
       "      <td>3.2</td>\n",
       "      <td>1.3</td>\n",
       "      <td>0.2</td>\n",
       "      <td>Iris-setosa</td>\n",
       "    </tr>\n",
       "    <tr>\n",
       "      <th>3</th>\n",
       "      <td>4</td>\n",
       "      <td>4.6</td>\n",
       "      <td>3.1</td>\n",
       "      <td>1.5</td>\n",
       "      <td>0.2</td>\n",
       "      <td>Iris-setosa</td>\n",
       "    </tr>\n",
       "    <tr>\n",
       "      <th>4</th>\n",
       "      <td>5</td>\n",
       "      <td>5.0</td>\n",
       "      <td>3.6</td>\n",
       "      <td>1.4</td>\n",
       "      <td>0.2</td>\n",
       "      <td>Iris-setosa</td>\n",
       "    </tr>\n",
       "    <tr>\n",
       "      <th>...</th>\n",
       "      <td>...</td>\n",
       "      <td>...</td>\n",
       "      <td>...</td>\n",
       "      <td>...</td>\n",
       "      <td>...</td>\n",
       "      <td>...</td>\n",
       "    </tr>\n",
       "    <tr>\n",
       "      <th>145</th>\n",
       "      <td>146</td>\n",
       "      <td>6.7</td>\n",
       "      <td>3.0</td>\n",
       "      <td>5.2</td>\n",
       "      <td>2.3</td>\n",
       "      <td>Iris-virginica</td>\n",
       "    </tr>\n",
       "    <tr>\n",
       "      <th>146</th>\n",
       "      <td>147</td>\n",
       "      <td>6.3</td>\n",
       "      <td>2.5</td>\n",
       "      <td>5.0</td>\n",
       "      <td>1.9</td>\n",
       "      <td>Iris-virginica</td>\n",
       "    </tr>\n",
       "    <tr>\n",
       "      <th>147</th>\n",
       "      <td>148</td>\n",
       "      <td>6.5</td>\n",
       "      <td>3.0</td>\n",
       "      <td>5.2</td>\n",
       "      <td>2.0</td>\n",
       "      <td>Iris-virginica</td>\n",
       "    </tr>\n",
       "    <tr>\n",
       "      <th>148</th>\n",
       "      <td>149</td>\n",
       "      <td>6.2</td>\n",
       "      <td>3.4</td>\n",
       "      <td>5.4</td>\n",
       "      <td>2.3</td>\n",
       "      <td>Iris-virginica</td>\n",
       "    </tr>\n",
       "    <tr>\n",
       "      <th>149</th>\n",
       "      <td>150</td>\n",
       "      <td>5.9</td>\n",
       "      <td>3.0</td>\n",
       "      <td>5.1</td>\n",
       "      <td>1.8</td>\n",
       "      <td>Iris-virginica</td>\n",
       "    </tr>\n",
       "  </tbody>\n",
       "</table>\n",
       "<p>148 rows × 6 columns</p>\n",
       "</div>"
      ],
      "text/plain": [
       "      Id  SepalLengthCm  SepalWidthCm  PetalLengthCm  PetalWidthCm  \\\n",
       "0      1            5.1           3.5            1.4           0.2   \n",
       "1      2            4.9           3.0            1.4           0.2   \n",
       "2      3            4.7           3.2            1.3           0.2   \n",
       "3      4            4.6           3.1            1.5           0.2   \n",
       "4      5            5.0           3.6            1.4           0.2   \n",
       "..   ...            ...           ...            ...           ...   \n",
       "145  146            6.7           3.0            5.2           2.3   \n",
       "146  147            6.3           2.5            5.0           1.9   \n",
       "147  148            6.5           3.0            5.2           2.0   \n",
       "148  149            6.2           3.4            5.4           2.3   \n",
       "149  150            5.9           3.0            5.1           1.8   \n",
       "\n",
       "            Species  \n",
       "0       Iris-setosa  \n",
       "1       Iris-setosa  \n",
       "2       Iris-setosa  \n",
       "3       Iris-setosa  \n",
       "4       Iris-setosa  \n",
       "..              ...  \n",
       "145  Iris-virginica  \n",
       "146  Iris-virginica  \n",
       "147  Iris-virginica  \n",
       "148  Iris-virginica  \n",
       "149  Iris-virginica  \n",
       "\n",
       "[148 rows x 6 columns]"
      ]
     },
     "execution_count": 89,
     "metadata": {},
     "output_type": "execute_result"
    }
   ],
   "outputs_reference": "s3:deepnote-cell-outputs-production/a681cf5d-f157-45e5-843d-d0b9ec4e064e",
   "source": [
    "df_knn.head(jumlah_baris)"
   ]
  },
  {
   "block_group": "7fe9dbc395e2441ab5363c53e7f687b6",
   "cell_type": "markdown",
   "metadata": {
    "cell_id": "f4b4cf9919de47ebbfc43458e986f391",
    "deepnote_cell_type": "text-cell-p",
    "formattedRanges": []
   },
   "source": [
    "Selanjutnya, kode membuat koneksi ke database MySQL dengan kredensial yang diberikan, kemudian membuat sebuah tabel baru dengan nama 'Iris_knn' yang memiliki beberapa kolom seperti 'Id' (sebagai primary key), 'SepalLengthCm', 'SepalWidthCm', dan 'Species'. Setelah tabel dibuat, kode menyimpan DataFrame df_mean ke dalam tabel tersebut menggunakan pernyataan SQL INSERT. Terakhir, perubahan tersebut di-commit dan koneksi ditutup. Pesan \"DataFrame berhasil disimpan ke dalam tabel MySQL.\" dicetak sebagai indikasi bahwa proses telah selesai dengan sukses."
   ]
  },
  {
   "block_group": "ca508755edb2486d8a863d0c8c67d9b9",
   "cell_type": "code",
   "execution_count": null,
   "metadata": {
    "cell_id": "592843727c774064ae44bbc1b968d0f7",
    "deepnote_cell_type": "code",
    "deepnote_to_be_reexecuted": false,
    "execution_millis": 33820,
    "execution_start": 1710355565400,
    "source_hash": null
   },
   "outputs": [
    {
     "name": "stdout",
     "output_type": "stream",
     "text": [
      "DataFrame berhasil disimpan ke dalam tabel MySQL.\n"
     ]
    }
   ],
   "outputs_reference": "dbtable:cell_outputs/a4f36b0b-0538-439f-ace5-4603802b8d68",
   "source": [
    "import mysql.connector\n",
    "\n",
    "# Ganti dengan kredensial yang sesuai\n",
    "db_user = 'avnadmin'\n",
    "db_password = 'AVNS_ZdndZ22SeeCMF0U7zTj'\n",
    "db_host = 'mysql-datamining-irfan22083.a.aivencloud.com'\n",
    "db_port = '13019'\n",
    "db_name = 'mysql-datamining'\n",
    "\n",
    "# Buat koneksi ke database\n",
    "conn = mysql.connector.connect(user=db_user, password=db_password, host=db_host, port=db_port, database=db_name)\n",
    "cursor = conn.cursor()\n",
    "\n",
    "# Buat tabel baru\n",
    "create_table_query = \"\"\"\n",
    "CREATE TABLE Iris_knn (\n",
    "    Id INT AUTO_INCREMENT PRIMARY KEY,\n",
    "    SepalLengthCm DOUBLE,\n",
    "    SepalWidthCm DOUBLE,\n",
    "    Species TEXT\n",
    ")\n",
    "\"\"\"\n",
    "cursor.execute(create_table_query)\n",
    "\n",
    "# Simpan DataFrame ke dalam tabel MySQL\n",
    "for index, row in df_knn.iterrows():\n",
    "    insert_query = \"\"\"\n",
    "    INSERT INTO Iris_knn (Id, SepalLengthCm, SepalWidthCm, Species)\n",
    "    VALUES (%s, %s, %s, %s)\n",
    "    \"\"\"\n",
    "    cursor.execute(insert_query, (row['Id'], row['SepalLengthCm'], row['SepalWidthCm'], row['Species']))\n",
    "\n",
    "# Commit perubahan dan tutup koneksi\n",
    "conn.commit()\n",
    "conn.close()\n",
    "\n",
    "# Tampilkan pesan berhasil\n",
    "print(\"DataFrame berhasil disimpan ke dalam tabel MySQL.\")"
   ]
  },
  {
   "block_group": "ab0acc4c11ea4b87bf9c07f89aa75697",
   "cell_type": "markdown",
   "metadata": {
    "cell_id": "46e275e855ee48dfbbe2350205bb3cda",
    "deepnote_cell_type": "text-cell-p",
    "formattedRanges": []
   },
   "source": [
    "Periksa apakah tabel \"Iris_knn\" telah berhasil dibuat dan diisi dengan data."
   ]
  },
  {
   "block_group": "26469da6491e43c89821dfa1b445985a",
   "cell_type": "code",
   "execution_count": null,
   "metadata": {
    "cell_id": "2ec404e145cd4224882391fc41272d7a",
    "deepnote_cell_type": "sql",
    "deepnote_sql_source": "SELECT * FROM Iris_knn;",
    "deepnote_to_be_reexecuted": false,
    "deepnote_variable_name": "df_4",
    "execution_millis": 3083,
    "execution_start": 1710355625601,
    "source_hash": null,
    "sql_integration_id": "09471b5a-652d-432f-b73d-65305a4929e6"
   },
   "outputs": [
    {
     "data": {
      "application/vnd.deepnote.sql-output-metadata+json": {
       "size_in_bytes": 14090,
       "status": "success_no_cache"
      }
     },
     "metadata": {},
     "output_type": "display_data"
    },
    {
     "data": {
      "application/vnd.deepnote.dataframe.v3+json": {
       "column_count": 4,
       "columns": [
        {
         "dtype": "int64",
         "name": "Id",
         "stats": {
          "histogram": [
           {
            "bin_end": 15.9,
            "bin_start": 1,
            "count": 14
           },
           {
            "bin_end": 30.8,
            "bin_start": 15.9,
            "count": 15
           },
           {
            "bin_end": 45.7,
            "bin_start": 30.8,
            "count": 15
           },
           {
            "bin_end": 60.6,
            "bin_start": 45.7,
            "count": 15
           },
           {
            "bin_end": 75.5,
            "bin_start": 60.6,
            "count": 14
           },
           {
            "bin_end": 90.4,
            "bin_start": 75.5,
            "count": 15
           },
           {
            "bin_end": 105.3,
            "bin_start": 90.4,
            "count": 15
           },
           {
            "bin_end": 120.2,
            "bin_start": 105.3,
            "count": 15
           },
           {
            "bin_end": 135.1,
            "bin_start": 120.2,
            "count": 15
           },
           {
            "bin_end": 150,
            "bin_start": 135.1,
            "count": 15
           }
          ],
          "max": "150",
          "min": "1",
          "nan_count": 0,
          "unique_count": 148
         }
        },
        {
         "dtype": "float64",
         "name": "SepalLengthCm",
         "stats": {
          "histogram": [
           {
            "bin_end": 4.66,
            "bin_start": 4.3,
            "count": 8
           },
           {
            "bin_end": 5.02,
            "bin_start": 4.66,
            "count": 23
           },
           {
            "bin_end": 5.38,
            "bin_start": 5.02,
            "count": 14
           },
           {
            "bin_end": 5.74,
            "bin_start": 5.38,
            "count": 27
           },
           {
            "bin_end": 6.1,
            "bin_start": 5.74,
            "count": 16
           },
           {
            "bin_end": 6.46,
            "bin_start": 6.1,
            "count": 25
           },
           {
            "bin_end": 6.82,
            "bin_start": 6.46,
            "count": 18
           },
           {
            "bin_end": 7.18,
            "bin_start": 6.82,
            "count": 6
           },
           {
            "bin_end": 7.54,
            "bin_start": 7.18,
            "count": 5
           },
           {
            "bin_end": 7.9,
            "bin_start": 7.54,
            "count": 6
           }
          ],
          "max": "7.9",
          "min": "4.3",
          "nan_count": 0,
          "unique_count": 35
         }
        },
        {
         "dtype": "float64",
         "name": "SepalWidthCm",
         "stats": {
          "histogram": [
           {
            "bin_end": 2.24,
            "bin_start": 2,
            "count": 3
           },
           {
            "bin_end": 2.48,
            "bin_start": 2.24,
            "count": 7
           },
           {
            "bin_end": 2.72,
            "bin_start": 2.48,
            "count": 22
           },
           {
            "bin_end": 2.96,
            "bin_start": 2.72,
            "count": 24
           },
           {
            "bin_end": 3.2,
            "bin_start": 2.96,
            "count": 38
           },
           {
            "bin_end": 3.4400000000000004,
            "bin_start": 3.2,
            "count": 30
           },
           {
            "bin_end": 3.6800000000000006,
            "bin_start": 3.4400000000000004,
            "count": 9
           },
           {
            "bin_end": 3.9200000000000004,
            "bin_start": 3.6800000000000006,
            "count": 11
           },
           {
            "bin_end": 4.16,
            "bin_start": 3.9200000000000004,
            "count": 2
           },
           {
            "bin_end": 4.4,
            "bin_start": 4.16,
            "count": 2
           }
          ],
          "max": "4.4",
          "min": "2.0",
          "nan_count": 0,
          "unique_count": 23
         }
        },
        {
         "dtype": "object",
         "name": "Species",
         "stats": {
          "categories": [
           {
            "count": 50,
            "name": "Iris-virginica"
           },
           {
            "count": 49,
            "name": "Iris-setosa"
           },
           {
            "count": 49,
            "name": "Iris-versicolor"
           }
          ],
          "nan_count": 0,
          "unique_count": 3
         }
        },
        {
         "dtype": "int64",
         "name": "_deepnote_index_column"
        }
       ],
       "row_count": 148,
       "rows": [
        {
         "Id": 1,
         "SepalLengthCm": 5.1,
         "SepalWidthCm": 3.5,
         "Species": "Iris-setosa",
         "_deepnote_index_column": 0
        },
        {
         "Id": 2,
         "SepalLengthCm": 4.9,
         "SepalWidthCm": 3,
         "Species": "Iris-setosa",
         "_deepnote_index_column": 1
        },
        {
         "Id": 3,
         "SepalLengthCm": 4.7,
         "SepalWidthCm": 3.2,
         "Species": "Iris-setosa",
         "_deepnote_index_column": 2
        },
        {
         "Id": 4,
         "SepalLengthCm": 4.6,
         "SepalWidthCm": 3.1,
         "Species": "Iris-setosa",
         "_deepnote_index_column": 3
        },
        {
         "Id": 5,
         "SepalLengthCm": 5,
         "SepalWidthCm": 3.6,
         "Species": "Iris-setosa",
         "_deepnote_index_column": 4
        },
        {
         "Id": 6,
         "SepalLengthCm": 5.4,
         "SepalWidthCm": 3.9,
         "Species": "Iris-setosa",
         "_deepnote_index_column": 5
        },
        {
         "Id": 8,
         "SepalLengthCm": 5,
         "SepalWidthCm": 3.4,
         "Species": "Iris-setosa",
         "_deepnote_index_column": 6
        },
        {
         "Id": 9,
         "SepalLengthCm": 4.4,
         "SepalWidthCm": 2.9,
         "Species": "Iris-setosa",
         "_deepnote_index_column": 7
        },
        {
         "Id": 10,
         "SepalLengthCm": 4.9,
         "SepalWidthCm": 3.1,
         "Species": "Iris-setosa",
         "_deepnote_index_column": 8
        },
        {
         "Id": 11,
         "SepalLengthCm": 5.4,
         "SepalWidthCm": 3.7,
         "Species": "Iris-setosa",
         "_deepnote_index_column": 9
        }
       ]
      },
      "text/html": [
       "<div>\n",
       "<style scoped>\n",
       "    .dataframe tbody tr th:only-of-type {\n",
       "        vertical-align: middle;\n",
       "    }\n",
       "\n",
       "    .dataframe tbody tr th {\n",
       "        vertical-align: top;\n",
       "    }\n",
       "\n",
       "    .dataframe thead th {\n",
       "        text-align: right;\n",
       "    }\n",
       "</style>\n",
       "<table border=\"1\" class=\"dataframe\">\n",
       "  <thead>\n",
       "    <tr style=\"text-align: right;\">\n",
       "      <th></th>\n",
       "      <th>Id</th>\n",
       "      <th>SepalLengthCm</th>\n",
       "      <th>SepalWidthCm</th>\n",
       "      <th>Species</th>\n",
       "    </tr>\n",
       "  </thead>\n",
       "  <tbody>\n",
       "    <tr>\n",
       "      <th>0</th>\n",
       "      <td>1</td>\n",
       "      <td>5.1</td>\n",
       "      <td>3.5</td>\n",
       "      <td>Iris-setosa</td>\n",
       "    </tr>\n",
       "    <tr>\n",
       "      <th>1</th>\n",
       "      <td>2</td>\n",
       "      <td>4.9</td>\n",
       "      <td>3.0</td>\n",
       "      <td>Iris-setosa</td>\n",
       "    </tr>\n",
       "    <tr>\n",
       "      <th>2</th>\n",
       "      <td>3</td>\n",
       "      <td>4.7</td>\n",
       "      <td>3.2</td>\n",
       "      <td>Iris-setosa</td>\n",
       "    </tr>\n",
       "    <tr>\n",
       "      <th>3</th>\n",
       "      <td>4</td>\n",
       "      <td>4.6</td>\n",
       "      <td>3.1</td>\n",
       "      <td>Iris-setosa</td>\n",
       "    </tr>\n",
       "    <tr>\n",
       "      <th>4</th>\n",
       "      <td>5</td>\n",
       "      <td>5.0</td>\n",
       "      <td>3.6</td>\n",
       "      <td>Iris-setosa</td>\n",
       "    </tr>\n",
       "    <tr>\n",
       "      <th>...</th>\n",
       "      <td>...</td>\n",
       "      <td>...</td>\n",
       "      <td>...</td>\n",
       "      <td>...</td>\n",
       "    </tr>\n",
       "    <tr>\n",
       "      <th>143</th>\n",
       "      <td>146</td>\n",
       "      <td>6.7</td>\n",
       "      <td>3.0</td>\n",
       "      <td>Iris-virginica</td>\n",
       "    </tr>\n",
       "    <tr>\n",
       "      <th>144</th>\n",
       "      <td>147</td>\n",
       "      <td>6.3</td>\n",
       "      <td>2.5</td>\n",
       "      <td>Iris-virginica</td>\n",
       "    </tr>\n",
       "    <tr>\n",
       "      <th>145</th>\n",
       "      <td>148</td>\n",
       "      <td>6.5</td>\n",
       "      <td>3.0</td>\n",
       "      <td>Iris-virginica</td>\n",
       "    </tr>\n",
       "    <tr>\n",
       "      <th>146</th>\n",
       "      <td>149</td>\n",
       "      <td>6.2</td>\n",
       "      <td>3.4</td>\n",
       "      <td>Iris-virginica</td>\n",
       "    </tr>\n",
       "    <tr>\n",
       "      <th>147</th>\n",
       "      <td>150</td>\n",
       "      <td>5.9</td>\n",
       "      <td>3.0</td>\n",
       "      <td>Iris-virginica</td>\n",
       "    </tr>\n",
       "  </tbody>\n",
       "</table>\n",
       "<p>148 rows × 4 columns</p>\n",
       "</div>"
      ],
      "text/plain": [
       "      Id  SepalLengthCm  SepalWidthCm         Species\n",
       "0      1            5.1           3.5     Iris-setosa\n",
       "1      2            4.9           3.0     Iris-setosa\n",
       "2      3            4.7           3.2     Iris-setosa\n",
       "3      4            4.6           3.1     Iris-setosa\n",
       "4      5            5.0           3.6     Iris-setosa\n",
       "..   ...            ...           ...             ...\n",
       "143  146            6.7           3.0  Iris-virginica\n",
       "144  147            6.3           2.5  Iris-virginica\n",
       "145  148            6.5           3.0  Iris-virginica\n",
       "146  149            6.2           3.4  Iris-virginica\n",
       "147  150            5.9           3.0  Iris-virginica\n",
       "\n",
       "[148 rows x 4 columns]"
      ]
     },
     "execution_count": 91,
     "metadata": {},
     "output_type": "execute_result"
    }
   ],
   "outputs_reference": "s3:deepnote-cell-outputs-production/1ec51920-189a-4c04-834f-11ef257a389c",
   "source": [
    "df_4 = _deepnote_execute_sql('SELECT * FROM Iris_knn;', 'SQL_09471B5A_652D_432F_B73D_65305A4929E6', audit_sql_comment='', sql_cache_mode='cache_disabled')\n",
    "df_4"
   ]
  },
  {
   "block_group": "62bfb31b7f37404eaa31fc4f7b953dd0",
   "cell_type": "markdown",
   "metadata": {
    "cell_id": "c491d1ef48db494f859b74d2d0ffb970",
    "deepnote_cell_type": "text-cell-h2",
    "formattedRanges": []
   },
   "source": [
    "## Deteksi Outlier (Local Outlier Factor)"
   ]
  },
  {
   "block_group": "71e1df9ff664424fbb3d87e0a4739af6",
   "cell_type": "markdown",
   "metadata": {
    "cell_id": "da3f0400721d4f07aa5e4284f4b0fc7e",
    "deepnote_cell_type": "text-cell-p",
    "formattedRanges": []
   },
   "source": [
    "Outlier merupakan data yang secara signifikan berbeda dari mayoritas data dalam satu kumpulan data. Deteksi outlier penting dalam analisis data karena outlier dapat memengaruhi hasil analisis dan interpretasi. Salah satu metode yang digunakan untuk mendeteksi outlier adalah Local Outlier Factor (LOF)."
   ]
  },
  {
   "block_group": "d23b7ad7a9df43e5a4ff38d01214d712",
   "cell_type": "markdown",
   "metadata": {
    "cell_id": "306bbe825d5c4f408a544f14d02fc8d0",
    "deepnote_cell_type": "text-cell-h3",
    "formattedRanges": []
   },
   "source": [
    "### Konsep Local Outlier Factor"
   ]
  },
  {
   "block_group": "f07e9eebfba749fba6372646daad51e2",
   "cell_type": "markdown",
   "metadata": {
    "cell_id": "4b530343c7ba45178b42a5c713d0caed",
    "deepnote_cell_type": "text-cell-p",
    "formattedRanges": []
   },
   "source": [
    "Local Outlier Factor (LOF) adalah metode untuk mendeteksi outlier dengan membandingkan kepadatan titik data lokal terhadap kepadatan titik data di sekitarnya. LOF mengukur derajat ketidaknormalan atau ketidakseragaman suatu titik data jika dibandingkan dengan tetangga-tetangganya. Titik data dengan nilai LOF yang tinggi dianggap sebagai outlier."
   ]
  },
  {
   "block_group": "ef6e2c67b4bd42d69a4336a2e61e7f92",
   "cell_type": "markdown",
   "metadata": {
    "cell_id": "400c3d54e51242349178259ed24cbc8c",
    "deepnote_cell_type": "text-cell-p",
    "formattedRanges": []
   },
   "source": [
    "Misalnya, jika sebuah titik data memiliki nilai LOF yang tinggi, itu berarti titik tersebut memiliki kepadatan yang lebih rendah dibandingkan dengan tetangganya. Ini menunjukkan bahwa titik tersebut adalah outlier karena jauh dari tetangganya dalam hal karakteristik atau pola yang diamati."
   ]
  },
  {
   "block_group": "4fb0f9dc0e1b431c92612563b8ef879c",
   "cell_type": "markdown",
   "metadata": {
    "cell_id": "a3bb489d7496404c83eeb312dc99504e",
    "deepnote_cell_type": "text-cell-h3",
    "formattedRanges": []
   },
   "source": [
    "### Menghitung Manual Local Outlier Factor"
   ]
  },
  {
   "block_group": "f76bdf2a6d5649daa9fd91cf5c8c870d",
   "cell_type": "markdown",
   "metadata": {
    "cell_id": "13c414ad797d44a3a307976b2e533238",
    "deepnote_cell_type": "text-cell-p",
    "formattedRanges": []
   },
   "source": [
    "Hitung LOF untuk setiap titik dan tunjukkan titik outlier teratas, dengan k = 3, dan gunakan Euclidean Distance (p=2). Berdasarkan 10 titik data dengan masing-masing 3 fitur berikut:"
   ]
  },
  {
   "block_group": "5159a772d5c24188bb7ff2cb0ce932a2",
   "cell_type": "markdown",
   "metadata": {
    "cell_id": "0947d1a04c974f23965919a1e329e53b",
    "deepnote_cell_type": "text-cell-p",
    "formattedRanges": []
   },
   "source": [
    "a(3, 6, 4), b(2, 3, 8), c(11, 8, 20), d(5, 7, 5), e(6, 2, 4), f(3, 6, 3), g(2, 5, 7), h(23, 10, 11), i(5, 6, 2), j(7, 5, 7)"
   ]
  },
  {
   "block_group": "9e06281d5ed046a887fca43ad9b70a90",
   "cell_type": "markdown",
   "metadata": {
    "cell_id": "1c63549f7be442159db976613cb8d293",
    "deepnote_cell_type": "text-cell-p",
    "formattedRanges": []
   },
   "source": [
    "Menghitung semua jarak antara setiap dua titik data.\r"
   ]
  },
  {
   "block_group": "2dda1d29fe574137a9b48d105edb7209",
   "cell_type": "markdown",
   "metadata": {
    "cell_id": "163bb75f61a6404cb0d16435e572694f",
    "deepnote_cell_type": "markdown"
   },
   "source": [
    "$$\n",
    "\\begin{aligned}\n",
    "\n",
    "& dist(a, b) = \\sqrt{(2 - 3)^2 + (3 - 6)^2 + (8 - 4)^2} = \\sqrt{(-1)^2 + (-3)^2 + (4)^2} = \\sqrt{1 + 9 + 16} = \\sqrt{26} \\\\\n",
    "& dist(a, c) = \\sqrt{(11 - 3)^2 + (8 - 6)^2 + (20 - 4)^2} = \\sqrt{(8)^2 + (2)^2 + (16)^2} = \\sqrt{64 + 4 + 256} = \\sqrt{324} = 18 \\\\\n",
    "& dist(a, d) = \\sqrt{(5 - 3)^2 + (7 - 6)^2 + (5 - 4)^2} = \\sqrt{2^2 + 1^2 + 1^2} = \\sqrt{4 + 1 + 1} = \\sqrt{6} \\\\\n",
    "& dist(a, e) = \\sqrt{(6 - 3)^2 + (2 - 6)^2 + (4 - 4)^2} = \\sqrt{3^2 + (-4)^2 + 0^2} = \\sqrt{9 + 16 + 0} = \\sqrt{25} \\\\\n",
    "& dist(a, f) = \\sqrt{(3 - 3)^2 + (6 - 6)^2 + (3 - 4)^2} = \\sqrt{0^2 + 0^2 + (-1)^2} = \\sqrt{0 + 0 + 1} = \\sqrt{1} = 1 \\\\\n",
    "& dist(a, g) = \\sqrt{(2 - 3)^2 + (5 - 6)^2 + (7 - 4)^2} = \\sqrt{(-1)^2 + (-1)^2 + (3)^2} = \\sqrt{1 + 1 + 9} = \\sqrt{11} \\\\\n",
    "& dist(a, h) = \\sqrt{(23 - 3)^2 + (10 - 6)^2 + (11 - 4)^2} = \\sqrt{(20)^2 + (4)^2 + (7)^2} = \\sqrt{400 + 16 + 49} = \\sqrt{465} \\\\\n",
    "& dist(a, i) = \\sqrt{(5 - 3)^2 + (6 - 6)^2 + (2 - 4)^2} = \\sqrt{2^2 + 0^2 + (-2)^2} = \\sqrt{4 + 0 + 4} = \\sqrt{8} \\\\\n",
    "& dist(a, j) = \\sqrt{(7 - 3)^2 + (5 - 6)^2 + (7 - 4)^2} = \\sqrt{4^2 + (-1)^2 + 3^2} = \\sqrt{16 + 1 + 9} = \\sqrt{26} \\\\\n",
    "\n",
    "& \\\\\n",
    "\n",
    "& dist(b, a) = \\sqrt{(2 - 3)^2 + (3 - 6)^2 + (8 - 4)^2} = \\sqrt{(-1)^2 + (-3)^2 + (4)^2} = \\sqrt{26} \\\\\n",
    "& dist(b, c) = \\sqrt{(11 - 2)^2 + (8 - 3)^2 + (20 - 8)^2} = \\sqrt{(9)^2 + (5)^2 + (12)^2} = \\sqrt{81 + 25 + 144} = \\sqrt{250} \\\\\n",
    "& dist(b, d) = \\sqrt{(5 - 2)^2 + (7 - 3)^2 + (5 - 8)^2} = \\sqrt{(3)^2 + (4)^2 + (-3)^2} = \\sqrt{9 + 16 + 9} = \\sqrt{34} \\\\\n",
    "& dist(b, e) = \\sqrt{(6 - 2)^2 + (2 - 3)^2 + (4 - 8)^2} = \\sqrt{(4)^2 + (-1)^2 + (-4)^2} = \\sqrt{16 + 1 + 16} = \\sqrt{33} \\\\\n",
    "& dist(b, f) = \\sqrt{(3 - 2)^2 + (6 - 3)^2 + (3 - 8)^2} = \\sqrt{(1)^2 + (3)^2 + (-5)^2} = \\sqrt{1 + 9 + 25} = \\sqrt{35} \\\\\n",
    "& dist(b, g) = \\sqrt{(2 - 2)^2 + (5 - 3)^2 + (7 - 8)^2} = \\sqrt{(0)^2 + (2)^2 + (-1)^2} = \\sqrt{0 + 4 + 1} = \\sqrt{5} \\\\\n",
    "& dist(b, h) = \\sqrt{(23 - 2)^2 + (10 - 3)^2 + (11 - 8)^2} = \\sqrt{(21)^2 + (7)^2 + (3)^2} = \\sqrt{441 + 49 + 9} = \\sqrt{499} \\\\\n",
    "& dist(b, i) = \\sqrt{(5 - 2)^2 + (6 - 3)^2 + (2 - 8)^2} = \\sqrt{(3)^2 + (3)^2 + (-6)^2} = \\sqrt{9 + 9 + 36} = \\sqrt{54} \\\\\n",
    "& dist(b, j) = \\sqrt{(7 - 2)^2 + (5 - 3)^2 + (7 - 8)^2} = \\sqrt{(5)^2 + (2)^2 + (-1)^2} = \\sqrt{25 + 4 + 1} = \\sqrt{30} \\\\\n",
    "\n",
    "& \\\\\n",
    "\n",
    "& dist(c, a) = \\sqrt{(3 - 11)^2 + (6 - 8)^2 + (4 - 20)^2} = \\sqrt{(-8)^2 + (-2)^2 + (-16)^2} = \\sqrt{64 + 4 + 256} = \\sqrt{324} = 18 \\\\\n",
    "& dist(c, b) = \\sqrt{(2 - 11)^2 + (3 - 8)^2 + (8 - 20)^2} = \\sqrt{(-9)^2 + (-5)^2 + (-12)^2} = \\sqrt{81 + 25 + 144} = \\sqrt{250} \\\\\n",
    "& dist(c, d) = \\sqrt{(5 - 11)^2 + (7 - 8)^2 + (5 - 20)^2} = \\sqrt{(-6)^2 + (-1)^2 + (-15)^2} = \\sqrt{36 + 1 + 225} = \\sqrt{262} \\\\\n",
    "& dist(c, e) = \\sqrt{(6 - 11)^2 + (2 - 8)^2 + (4 - 20)^2} = \\sqrt{(-5)^2 + (-6)^2 + (-16)^2} = \\sqrt{25 + 36 + 256} = \\sqrt{317} \\\\\n",
    "& dist(c, f) = \\sqrt{(3 - 11)^2 + (6 - 8)^2 + (3 - 20)^2} = \\sqrt{(-8)^2 + (-2)^2 + (-17)^2} = \\sqrt{64 + 4 + 289} = \\sqrt{357} \\\\\n",
    "& dist(c, g) = \\sqrt{(2 - 11)^2 + (5 - 8)^2 + (7 - 20)^2} = \\sqrt{(-9)^2 + (-3)^2 + (-13)^2} = \\sqrt{81 + 9 + 169} = \\sqrt{259} \\\\\n",
    "& dist(c, h) = \\sqrt{(23 - 11)^2 + (10 - 8)^2 + (11 - 20)^2} = \\sqrt{(12)^2 + (2)^2 + (-9)^2} = \\sqrt{144 + 4 + 81} = \\sqrt{229} \\\\\n",
    "& dist(c, i) = \\sqrt{(5 - 11)^2 + (6 - 8)^2 + (2 - 20)^2} = \\sqrt{(-6)^2 + (-2)^2 + (-18)^2} = \\sqrt{36 + 4 + 324} = \\sqrt{364} \\\\\n",
    "& dist(c, j) = \\sqrt{(7 - 11)^2 + (5 - 8)^2 + (7 - 20)^2} = \\sqrt{(-4)^2 + (-3)^2 + (-13)^2} = \\sqrt{16 + 9 + 169} = \\sqrt{194} \\\\\n",
    "\n",
    "& \\\\\n",
    "\n",
    "& dist(d, a) = \\sqrt{(3 - 5)^2 + (6 - 7)^2 + (4 - 5)^2} = \\sqrt{(-2)^2 + (-1)^2 + (-1)^2} = \\sqrt{4 + 1 + 1} = \\sqrt{6} \\\\\n",
    "& dist(d, b) = \\sqrt{(2 - 5)^2 + (3 - 7)^2 + (8 - 5)^2} = \\sqrt{(-3)^2 + (-4)^2 + (3)^2} = \\sqrt{9 + 16 + 9} = \\sqrt{34} \\\\\n",
    "& dist(d, c) = \\sqrt{(11 - 5)^2 + (8 - 7)^2 + (20 - 5)^2} = \\sqrt{(6)^2 + (1)^2 + (15)^2} = \\sqrt{36 + 1 + 225} = \\sqrt{262} \\\\\n",
    "& dist(d, e) = \\sqrt{(6 - 5)^2 + (2 - 7)^2 + (4 - 5)^2} = \\sqrt{(1)^2 + (-5)^2 + (-1)^2} = \\sqrt{1 + 25 + 1} = \\sqrt{27} \\\\\n",
    "& dist(d, f) = \\sqrt{(3 - 5)^2 + (6 - 7)^2 + (3 - 5)^2} = \\sqrt{(-2)^2 + (-1)^2 + (-2)^2} = \\sqrt{4 + 1 + 4} = \\sqrt{9} = 3 \\\\\n",
    "& dist(d, g) = \\sqrt{(2 - 5)^2 + (5 - 7)^2 + (7 - 5)^2} = \\sqrt{(-3)^2 + (-2)^2 + (2)^2} = \\sqrt{9 + 4 + 4} = \\sqrt{17} \\\\\n",
    "& dist(d, h) = \\sqrt{(23 - 5)^2 + (10 - 7)^2 + (11 - 5)^2} = \\sqrt{(18)^2 + (3)^2 + (6)^2} = \\sqrt{324 + 9 + 36} = \\sqrt{369} \\\\\n",
    "& dist(d, i) = \\sqrt{(5 - 5)^2 + (6 - 7)^2 + (2 - 5)^2} = \\sqrt{(0)^2 + (-1)^2 + (-3)^2} = \\sqrt{0 + 1 + 9} = \\sqrt{10} \\\\\n",
    "& dist(d, j) = \\sqrt{(7 - 5)^2 + (5 - 7)^2 + (7 - 5)^2} = \\sqrt{(2)^2 + (-2)^2 + (2)^2} = \\sqrt{4 + 4 + 4} = \\sqrt{12} \\\\\n",
    "\n",
    "& \\\\\n",
    "\n",
    "& dist(e, a) = \\sqrt{(3 - 6)^2 + (6 - 2)^2 + (4 - 4)^2} = \\sqrt{(-3)^2 + (4)^2 + (0)^2} = \\sqrt{9 + 16 + 0} = \\sqrt{25} \\\\\n",
    "& dist(e, b) = \\sqrt{(2 - 6)^2 + (3 - 2)^2 + (8 - 4)^2} = \\sqrt{(-4)^2 + (1)^2 + (4)^2} = \\sqrt{16 + 1 + 16} = \\sqrt{33} \\\\\n",
    "& dist(e, c) = \\sqrt{(11 - 6)^2 + (8 - 2)^2 + (20 - 4)^2} = \\sqrt{(5)^2 + (6)^2 + (16)^2} = \\sqrt{25 + 36 + 256} = \\sqrt{317} \\\\\n",
    "& dist(e, d) = \\sqrt{(5 - 6)^2 + (7 - 2)^2 + (5 - 4)^2} = \\sqrt{(1)^2 + (5)^2 + (1)^2} = \\sqrt{1 + 25 + 1} = \\sqrt{27} \\\\\n",
    "& dist(e, f) = \\sqrt{(3 - 6)^2 + (6 - 2)^2 + (3 - 4)^2} = \\sqrt{(-3)^2 + (4)^2 + (-1)^2} = \\sqrt{9 + 16 + 1} = \\sqrt{26} \\\\\n",
    "& dist(e, g) = \\sqrt{(2 - 6)^2 + (5 - 2)^2 + (7 - 4)^2} = \\sqrt{(-4)^2 + (3)^2 + (3)^2} = \\sqrt{16 + 9 + 9} = \\sqrt{34} \\\\\n",
    "& dist(e, h) = \\sqrt{(23 - 6)^2 + (10 - 2)^2 + (11 - 4)^2} = \\sqrt{(17)^2 + (8)^2 + (7)^2} = \\sqrt{289 + 64 + 49} = \\sqrt{402} \\\\\n",
    "& dist(e, i) = \\sqrt{(5 - 6)^2 + (6 - 2)^2 + (2 - 4)^2} = \\sqrt{(1)^2 + (4)^2 + (-2)^2} = \\sqrt{1 + 16 + 4} = \\sqrt{21} \\\\\n",
    "& dist(e, j) = \\sqrt{(7 - 6)^2 + (5 - 2)^2 + (7 - 4)^2} = \\sqrt{(1)^2 + (3)^2 + (3)^2} = \\sqrt{1 + 9 + 9} = \\sqrt{19} \\\\\n",
    "\n",
    "& \\\\\n",
    "\n",
    "& dist(f, a) = \\sqrt{(3 - 3)^2 + (6 - 6)^2 + (4 - 3)^2} = \\sqrt{0^2 + 0^2 + 1^2} = \\sqrt{0 + 0 + 1} = \\sqrt{1} = 1 \\\\\n",
    "& dist(f, b) = \\sqrt{(2 - 3)^2 + (3 - 6)^2 + (8 - 3)^2} = \\sqrt{(-1)^2 + (-3)^2 + (5)^2} = \\sqrt{1 + 9 + 25} = \\sqrt{35} \\\\\n",
    "& dist(f, c) = \\sqrt{(11 - 3)^2 + (8 - 6)^2 + (20 - 3)^2} = \\sqrt{8^2 + 2^2 + 17^2} = \\sqrt{64 + 4 + 289} = \\sqrt{357} \\\\\n",
    "& dist(f, d) = \\sqrt{(5 - 3)^2 + (7 - 6)^2 + (5 - 3)^2} = \\sqrt{2^2 + 1^2 + 2^2} = \\sqrt{4 + 1 + 4} = \\sqrt{9} = 3 \\\\\n",
    "& dist(f, e) = \\sqrt{(6 - 3)^2 + (2 - 6)^2 + (4 - 3)^2} = \\sqrt{3^2 + (-4)^2 + 1^2} = \\sqrt{9 + 16 + 1} = \\sqrt{26} \\\\\n",
    "& dist(f, g) = \\sqrt{(2 - 3)^2 + (5 - 6)^2 + (7 - 3)^2} = \\sqrt{(-1)^2 + (-1)^2 + 4^2} = \\sqrt{1 + 1 + 16} = \\sqrt{18} \\\\\n",
    "& dist(f, h) = \\sqrt{(23 - 3)^2 + (10 - 6)^2 + (11 - 3)^2} = \\sqrt{20^2 + 4^2 + 8^2} = \\sqrt{400 + 16 + 64} = \\sqrt{480} \\\\\n",
    "& dist(f, i) = \\sqrt{(5 - 3)^2 + (6 - 6)^2 + (2 - 3)^2} = \\sqrt{2^2 + 0^2 + (-1)^2} = \\sqrt{2 + 0 + 1} = \\sqrt{3} \\\\\n",
    "& dist(f, j) = \\sqrt{(7 - 3)^2 + (5 - 6)^2 + (7 - 3)^2} = \\sqrt{4^2 + (-1)^2 + 4^2} = \\sqrt{16 + 1 + 16} = \\sqrt{33} \\\\\n",
    "\n",
    "& \\\\\n",
    "\n",
    "& dist(g, a) = \\sqrt{(3 - 2)^2 + (6 - 5)^2 + (4 - 7)^2} = \\sqrt{(1)^2 + (1)^2 + (-3)^2} = \\sqrt{1 + 1 + 9} = \\sqrt{11} \\\\\n",
    "& dist(g, b) = \\sqrt{(2 - 2)^2 + (3 - 5)^2 + (8 - 7)^2} = \\sqrt{(0)^2 + (-2)^2 + (1)^2} = \\sqrt{0 + 4 + 1} = \\sqrt{5} \\\\\n",
    "& dist(g, c) = \\sqrt{(11 - 2)^2 + (8 - 5)^2 + (20 - 7)^2} = \\sqrt{(9)^2 + (3)^2 + (13)^2} = \\sqrt{81 + 9 + 169} = \\sqrt{259} \\\\\n",
    "& dist(g, d) = \\sqrt{(5 - 2)^2 + (7 - 5)^2 + (5 - 7)^2} = \\sqrt{(3)^2 + (2)^2 + (-2)^2} = \\sqrt{9 + 4 + 4} = \\sqrt{17} \\\\\n",
    "& dist(g, e) = \\sqrt{(6 - 2)^2 + (2 - 5)^2 + (4 - 7)^2} = \\sqrt{(4)^2 + (-3)^2 + (-3)^2} = \\sqrt{16 + 9 + 9} = \\sqrt{34} \\\\\n",
    "& dist(g, f) = \\sqrt{(3 - 2)^2 + (6 - 5)^2 + (3 - 7)^2} = \\sqrt{(1)^2 + (1)^2 + (-4)^2} = \\sqrt{1 + 1 + 16} = \\sqrt{18} \\\\\n",
    "& dist(g, h) = \\sqrt{(23 - 2)^2 + (10 - 5)^2 + (11 - 7)^2} = \\sqrt{(21)^2 + (5)^2 + (4)^2} = \\sqrt{441 + 25 + 16} = \\sqrt{482} \\\\\n",
    "& dist(g, i) = \\sqrt{(5 - 2)^2 + (6 - 5)^2 + (2 - 7)^2} = \\sqrt{(3)^2 + (1)^2 + (-5)^2} = \\sqrt{9 + 1 + 25} = \\sqrt{35} \\\\\n",
    "& dist(g, j) = \\sqrt{(7 - 2)^2 + (5 - 5)^2 + (7 - 7)^2} = \\sqrt{(5)^2 + (0)^2 + (0)^2} = \\sqrt{25 + 0 + 0} = \\sqrt{25} \\\\\n",
    "\n",
    "& \\\\\n",
    "\n",
    "& dist(h, a) = \\sqrt{(3 - 23)^2 + (6 - 10)^2 + (4 - 11)^2} = \\sqrt{(-20)^2 + (-4)^2 + (-7)^2} = \\sqrt{400 + 16 + 49} = \\sqrt{465} \\\\\n",
    "& dist(h, b) = \\sqrt{(2 - 23)^2 + (3 - 10)^2 + (8 - 11)^2} = \\sqrt{(-21)^2 + (-7)^2 + (-3)^2} = \\sqrt{441 + 49 + 9} = \\sqrt{499} \\\\\n",
    "& dist(h, c) = \\sqrt{(11 - 23)^2 + (8 - 10)^2 + (20 - 11)^2} = \\sqrt{(-12)^2 + (-2)^2 + (9)^2} = \\sqrt{144 + 4 + 81} = \\sqrt{229} \\\\\n",
    "& dist(h, d) = \\sqrt{(5 - 23)^2 + (7 - 10)^2 + (5 - 11)^2} = \\sqrt{(-18)^2 + (-3)^2 + (-6)^2} = \\sqrt{324 + 9 + 36} = \\sqrt{369} \\\\\n",
    "& dist(h, e) = \\sqrt{(6 - 23)^2 + (2 - 10)^2 + (4 - 11)^2} = \\sqrt{(-17)^2 + (-8)^2 + (-7)^2} = \\sqrt{289 + 64 + 49} = \\sqrt{402} \\\\\n",
    "& dist(h, f) = \\sqrt{(3 - 23)^2 + (6 - 10)^2 + (3 - 11)^2} = \\sqrt{(-20)^2 + (-4)^2 + (-8)^2} = \\sqrt{400 + 16 + 64} = \\sqrt{480} \\\\\n",
    "& dist(h, g) = \\sqrt{(2 - 23)^2 + (5 - 10)^2 + (7 - 11)^2} = \\sqrt{(-21)^2 + (-5)^2 + (-4)^2} = \\sqrt{441 + 25 + 16} = \\sqrt{482} \\\\\n",
    "& dist(h, i) = \\sqrt{(5 - 23)^2 + (6 - 10)^2 + (2 - 11)^2} = \\sqrt{(-18)^2 + (-4)^2 + (-9)^2} = \\sqrt{324 + 16 + 81} = \\sqrt{421} \\\\\n",
    "& dist(h, j) = \\sqrt{(7 - 23)^2 + (5 - 10)^2 + (7 - 11)^2} = \\sqrt{(-16)^2 + (-5)^2 + (-4)^2} = \\sqrt{256 + 25 + 16} = \\sqrt{297} \\\\\n",
    "\n",
    "& \\\\\n",
    "\n",
    "& dist(i, a) = \\sqrt{(3 - 5)^2 + (6 - 6)^2 + (4 - 2)^2} = \\sqrt{(-2)^2 + 0^2 + 2^2} = \\sqrt{4 + 0 + 4} = \\sqrt{8} \\\\\n",
    "& dist(i, b) = \\sqrt{(2 - 5)^2 + (3 - 6)^2 + (8 - 2)^2} = \\sqrt{(-3)^2 + (-3)^2 + 6^2} = \\sqrt{9 + 9 + 36} = \\sqrt{54} \\\\\n",
    "& dist(i, c) = \\sqrt{(11 - 5)^2 + (8 - 6)^2 + (20 - 2)^2} = \\sqrt{6^2 + 2^2 + 18^2} = \\sqrt{36 + 4 + 324} = \\sqrt{364} \\\\\n",
    "& dist(i, d) = \\sqrt{(5 - 5)^2 + (7 - 6)^2 + (5 - 2)^2} = \\sqrt{0^2 + 1^2 + 3^2} = \\sqrt{0 + 1 + 9} = \\sqrt{10} \\\\\n",
    "& dist(i, e) = \\sqrt{(6 - 5)^2 + (2 - 6)^2 + (4 - 2)^2} = \\sqrt{1^2 + (-4)^2 + 2^2} = \\sqrt{1 + 16 + 4} = \\sqrt{21} \\\\\n",
    "& dist(i, f) = \\sqrt{(3 - 5)^2 + (6 - 6)^2 + (3 - 2)^2} = \\sqrt{(-2)^2 + 0^2 + 1^2} = \\sqrt{4 + 0 + 1} = \\sqrt{5} \\\\\n",
    "& dist(i, g) = \\sqrt{(2 - 5)^2 + (5 - 6)^2 + (7 - 2)^2} = \\sqrt{(-3)^2 + (-1)^2 + 5^2} = \\sqrt{9 + 1 + 25} = \\sqrt{35} \\\\\n",
    "& dist(i, h) = \\sqrt{(23 - 5)^2 + (10 - 6)^2 + (11 - 2)^2} = \\sqrt{18^2 + 4^2 + 9^2} = \\sqrt{324 + 16 + 81} = \\sqrt{421} \\\\\n",
    "& dist(i, j) = \\sqrt{(7 - 5)^2 + (5 - 6)^2 + (7 - 2)^2} = \\sqrt{2^2 + (-1)^2 + 5^2} = \\sqrt{4 + 1 + 25} = \\sqrt{30} \\\\\n",
    "\n",
    "& \\\\\n",
    "\n",
    "& dist(j, a) = \\sqrt{(3 - 7)^2 + (6 - 5)^2 + (4 - 7)^2} = \\sqrt{(-4)^2 + (1)^2 + (-3)^2} = \\sqrt{16 + 1 + 9} = \\sqrt{26} \\\\\n",
    "& dist(j, b) = \\sqrt{(2 - 7)^2 + (3 - 5)^2 + (8 - 7)^2} = \\sqrt{(-5)^2 + (-2)^2 + (1)^2} = \\sqrt{25 + 4 + 1} = \\sqrt{30} \\\\\n",
    "& dist(j, c) = \\sqrt{(11 - 7)^2 + (8 - 5)^2 + (20 - 7)^2} = \\sqrt{(4)^2 + (3)^2 + (13)^2} = \\sqrt{16 + 9 + 169} = \\sqrt{194} \\\\\n",
    "& dist(j, d) = \\sqrt{(5 - 7)^2 + (7 - 5)^2 + (5 - 7)^2} = \\sqrt{(-2)^2 + (2)^2 + (-2)^2} = \\sqrt{4 + 4 + 4} = \\sqrt{12} \\\\\n",
    "& dist(j, e) = \\sqrt{(6 - 7)^2 + (2 - 5)^2 + (4 - 7)^2} = \\sqrt{(-1)^2 + (-3)^2 + (-3)^2} = \\sqrt{1 + 9 + 9} = \\sqrt{19} \\\\\n",
    "& dist(j, f) = \\sqrt{(3 - 7)^2 + (6 - 5)^2 + (3 - 7)^2} = \\sqrt{(-4)^2 + (1)^2 + (-4)^2} = \\sqrt{16 + 1 + 16} = \\sqrt{33} \\\\\n",
    "& dist(j, g) = \\sqrt{(2 - 7)^2 + (5 - 5)^2 + (7 - 7)^2} = \\sqrt{(-5)^2 + (0)^2 + (0)^2} = \\sqrt{25 + 0 + 0} = \\sqrt{25} \\\\\n",
    "& dist(j, h) = \\sqrt{(23 - 7)^2 + (10 - 5)^2 + (11 - 7)^2} = \\sqrt{(16)^2 + (5)^2 + (4)^2} = \\sqrt{256 + 25 + 16} = \\sqrt{297} \\\\\n",
    "& dist(j, i) = \\sqrt{(5 - 7)^2 + (6 - 5)^2 + (2 - 7)^2} = \\sqrt{(-2)^2 + (1)^2 + (-5)^2} = \\sqrt{4 + 1 + 25} = \\sqrt{30}\n",
    "\n",
    "\\end{aligned}\n",
    "$$"
   ]
  },
  {
   "block_group": "8e1d11a829bd4f358066661104062287",
   "cell_type": "markdown",
   "metadata": {
    "cell_id": "de0fc3fb0c8b47b9a10cfebd26506eca",
    "deepnote_cell_type": "markdown"
   },
   "source": [
    "Menghitung semua $dist_{3}\\left(o\\right)$\n",
    "$\\text{dist}_{k}\\left(o\\right)$: jarak antara o dan tetangga terdekat ke-k (k-th nearest neighbor)"
   ]
  },
  {
   "block_group": "87503468a9854caf8fc691e9bb2131d0",
   "cell_type": "markdown",
   "metadata": {
    "cell_id": "416c2a9c182a4e389ba9c428d33cc031",
    "deepnote_cell_type": "markdown"
   },
   "source": [
    "$$\n",
    "\\begin{aligned}\n",
    "\n",
    "& dist_{3}(a) = dist(a, i) = \\sqrt{8} \\text{ (i is the 3}^{\\text{rd}} \\text{ nearest neighbor)} \\\\\n",
    "& dist_{3}(b) = dist(b, j) = \\sqrt{30} \\text{ (j is the 3}^{\\text{rd}} \\text{ nearest neighbor)} \\\\\n",
    "& dist_{3}(c) = dist(c, b) = \\sqrt{250} \\text{ (b is the 3}^{\\text{rd}} \\text{ nearest neighbor)} \\\\\n",
    "& dist_{3}(d) = dist(d, i) = \\sqrt{10} \\text{ (i is the 3}^{\\text{rd}} \\text{ nearest neighbor)} \\\\\n",
    "& dist_{3}(e) = dist(e, a) = \\sqrt{25} \\text{ (a is the 3}^{\\text{rd}} \\text{ nearest neighbor)} \\\\\n",
    "& dist_{3}(f) = dist(f, d) = \\sqrt{9} \\text{ (d is the 3}^{\\text{rd}} \\text{ nearest neighbor)} \\\\\n",
    "& dist_{3}(g) = dist(g, d) = \\sqrt{17} \\text{ (d is the 3}^{\\text{rd}} \\text{ nearest neighbor)} \\\\\n",
    "& dist_{3}(h) = dist(h, d) = \\sqrt{369} \\text{ (d is the 3}^{\\text{rd}} \\text{ nearest neighbor)} \\\\\n",
    "& dist_{3}(i) = dist(i, d) = \\sqrt{10} \\text{ (d is the 3}^{\\text{rd}} \\text{ nearest neighbor)} \\\\\n",
    "& dist_{3}(j) = dist(j, g) = \\sqrt{25} \\text{ (g is the 3}^{\\text{rd}} \\text{ nearest neighbor)}\n",
    "\n",
    "\\end{aligned}\n",
    "$$"
   ]
  },
  {
   "block_group": "5a5b3bae58f34ff4ae723ecd110e0fba",
   "cell_type": "markdown",
   "metadata": {
    "cell_id": "254aba751fad42838fbb02814e96c461",
    "deepnote_cell_type": "markdown"
   },
   "source": [
    "Menghitung semua $N_{k}(o)$\n",
    "k-distance neighborhood of o, $N_{k}(o) = \\left\\{o' \\mid o' \\text{ in }D \\text{, } disk_{k}(o, o')\\leq disk_{k}(o)\\right\\}$"
   ]
  },
  {
   "block_group": "15ad170ecd174b36b5f157133bbea5ee",
   "cell_type": "markdown",
   "metadata": {
    "cell_id": "a3c3678c80a64a9aab50bd5d3113b29f",
    "deepnote_cell_type": "markdown"
   },
   "source": [
    "$$\n",
    "\\begin{aligned}\n",
    "\n",
    "& N_{3}(a) = \\left\\{f,d,i\\right\\} \\\\\n",
    "& N_{3}(b) = \\left\\{g,a,j\\right\\} \\\\\n",
    "& N_{3}(c) = \\left\\{j,h,b\\right\\} \\\\\n",
    "& N_{3}(d) = \\left\\{a,f,i\\right\\} \\\\\n",
    "& N_{3}(e) = \\left\\{j,i,a\\right\\} \\\\\n",
    "& N_{3}(f) = \\left\\{a,i,d\\right\\} \\\\\n",
    "& N_{3}(g) = \\left\\{b,a,d\\right\\} \\\\\n",
    "& N_{3}(h) = \\left\\{c,j,d\\right\\} \\\\\n",
    "& N_{3}(i) = \\left\\{f,a,d\\right\\} \\\\\n",
    "& N_{3}(j) = \\left\\{d,e,g\\right\\}\n",
    "\n",
    "\\end{aligned}\n",
    "$$"
   ]
  },
  {
   "block_group": "651e995e391b4d9385747ed9d5d03672",
   "cell_type": "markdown",
   "metadata": {
    "cell_id": "ab9b099e01014748949ce7a9f3042bdc",
    "deepnote_cell_type": "markdown"
   },
   "source": [
    "Menghitung semua $ lrd_{k}(o) $"
   ]
  },
  {
   "block_group": "9b7f06a5e859402195c9fe33107720cd",
   "cell_type": "markdown",
   "metadata": {
    "cell_id": "97cc013dc09741a888a6482dedc0505a",
    "deepnote_cell_type": "markdown"
   },
   "source": [
    "$ lrd_{k}(o) $ : Local Reachability Density of o $  $"
   ]
  },
  {
   "block_group": "7d4d95e53c3e44f68c9f4199029b22ac",
   "cell_type": "markdown",
   "metadata": {
    "cell_id": "df03ffd4e1054db69c9c2b56ae2e8225",
    "deepnote_cell_type": "markdown"
   },
   "source": [
    "$$\n",
    "\\begin{aligned}\n",
    "\n",
    "& lrd_{k}(o) = \\frac{||N_{k}(o)||}{\\sum_{o'\\epsilon N_{k}}reachdist_k(o'\\leftarrow o)} \\\\\n",
    "& reachdist_k(o\\leftarrow o') = max\\left\\{disk_{k}(o), disk(o,o')\\right\\}\n",
    "\n",
    "\\end{aligned}\n",
    "$$"
   ]
  },
  {
   "block_group": "288729833675470db987d013b680ebdc",
   "cell_type": "markdown",
   "metadata": {
    "cell_id": "3341e723cd834697ae5b88caf9688e4e",
    "deepnote_cell_type": "markdown"
   },
   "source": [
    "$ ||N_{k}(o)|| $ mengartikan jumlah objek dalam $ N_{k}(o) $"
   ]
  },
  {
   "block_group": "57465694a06243dcabc775ad6b8d20fc",
   "cell_type": "markdown",
   "metadata": {
    "cell_id": "1c9462fd73e34124b763c8a7941ae67d",
    "deepnote_cell_type": "markdown"
   },
   "source": [
    "$$\n",
    "\\begin{aligned}\n",
    "\n",
    "& || N_{3}(a) || = || \\left\\{f,d,i\\right\\} || = 3 \\\\\n",
    "& || N_{3}(b) || = || \\left\\{g,a,j\\right\\} || = 3 \\\\\n",
    "& || N_{3}(c) || = || \\left\\{j,h,b\\right\\} || = 3 \\\\\n",
    "& || N_{3}(d) || = || \\left\\{a,f,i\\right\\} || = 3 \\\\\n",
    "& || N_{3}(e) || = || \\left\\{j,i,a\\right\\} || = 3 \\\\\n",
    "& || N_{3}(f) || = || \\left\\{a,i,d\\right\\} || = 3 \\\\\n",
    "& || N_{3}(g) || = || \\left\\{b,a,d\\right\\} || = 3 \\\\\n",
    "& || N_{3}(h) || = || \\left\\{c,j,d\\right\\} || = 3 \\\\\n",
    "& || N_{3}(i) || = || \\left\\{f,a,d\\right\\} || = 3 \\\\\n",
    "& || N_{3}(j) || = || \\left\\{d,e,g\\right\\} || = 3\n",
    "\n",
    "\\end{aligned}\n",
    "$$"
   ]
  },
  {
   "block_group": "966130630bf646598c551e94c28b04be",
   "cell_type": "markdown",
   "metadata": {
    "cell_id": "d59824afbdf8423488a5d7ef4fde73fa",
    "deepnote_cell_type": "markdown"
   },
   "source": [
    "$$\n",
    "\\begin{aligned}\n",
    "\n",
    "&\\text{lrd}_{3}(a) = \\frac{||N_{3}(a)||}{\\text{reachdist}_3(f \\leftarrow a) + \\text{reachdist}_3(d \\leftarrow a) + \\text{reachdist}_3(i \\leftarrow a)} \\\\\n",
    "\n",
    "\\\\\n",
    "\n",
    "&\\text{reachdist}_3(f \\leftarrow a) = \\max\\{ \\text{disk}_{3}(f), \\text{disk}(f,a) \\} = \\max\\{ \\sqrt{9}, \\sqrt{1} \\} = \\sqrt{9} \\\\\n",
    "&\\text{reachdist}_3(d \\leftarrow a) = \\max\\{ \\text{disk}_{3}(d), \\text{disk}(d,a) \\} = \\max\\{ \\sqrt{10}, \\sqrt{6} \\} = \\sqrt{10} \\\\\n",
    "&\\text{reachdist}_3(i \\leftarrow a) = \\max\\{ \\text{disk}_{3}(i), \\text{disk}(i,a) \\} = \\max\\{ \\sqrt{10}, \\sqrt{8} \\} = \\sqrt{10} \\\\\n",
    "\n",
    "\\\\\n",
    "\n",
    "&\\text{lrd}_{3}(a) = \\frac{3}{\\sqrt{9} + \\sqrt{10} + \\sqrt{10}} = 0,3217 \\\\\n",
    "\n",
    "\\\\\n",
    "\n",
    "&\\text{lrd}_{3}(b) = \\frac{||N_{3}(b)||}{\\text{reachdist}_3(g \\leftarrow b) + \\text{reachdist}_3(a \\leftarrow b) + \\text{reachdist}_3(j \\leftarrow b)} \\\\\n",
    "\n",
    "\\\\\n",
    "\n",
    "&\\text{reachdist}_3(g \\leftarrow b) = \\max\\{ \\text{disk}_{3}(g), \\text{disk}(g,b) \\} = \\max\\{ \\sqrt{17}, \\sqrt{5} \\} = \\sqrt{17} \\\\\n",
    "&\\text{reachdist}_3(a \\leftarrow b) = \\max\\{ \\text{disk}_{3}(a), \\text{disk}(a,b) \\} = \\max\\{ \\sqrt{8}, \\sqrt{26} \\} = \\sqrt{26} \\\\\n",
    "&\\text{reachdist}_3(j \\leftarrow b) = \\max\\{ \\text{disk}_{3}(j), \\text{disk}(j,b) \\} = \\max\\{ \\sqrt{25}, \\sqrt{30} \\} = \\sqrt{30} \\\\\n",
    "\n",
    "\\\\\n",
    "\n",
    "&\\text{lrd}_{3}(b) = \\frac{3}{\\sqrt{17} + \\sqrt{26} + \\sqrt{30}} = 0,2041 \\\\\n",
    "\n",
    "\\\\\n",
    "\n",
    "&\\text{lrd}_{3}(c) = \\frac{||N_{3}(c)||}{\\text{reachdist}_3(j \\leftarrow c) + \\text{reachdist}_3(h \\leftarrow c) + \\text{reachdist}_3(b \\leftarrow c)} \\\\\n",
    "\n",
    "\\\\\n",
    "\n",
    "&\\text{reachdist}_3(j \\leftarrow c) = \\max\\{ \\text{disk}_{3}(j), \\text{disk}(j,c) \\} = \\max\\{ \\sqrt{25}, \\sqrt{194} \\} = \\sqrt{194} \\\\\n",
    "&\\text{reachdist}_3(h \\leftarrow c) = \\max\\{ \\text{disk}_{3}(h), \\text{disk}(h,c) \\} = \\max\\{ \\sqrt{369}, \\sqrt{229} \\} = \\sqrt{369} \\\\\n",
    "&\\text{reachdist}_3(b \\leftarrow c) = \\max\\{ \\text{disk}_{3}(b), \\text{disk}(b,c) \\} = \\max\\{ \\sqrt{30}, \\sqrt{250} \\} = \\sqrt{250} \\\\\n",
    "\n",
    "\\\\\n",
    "\n",
    "&\\text{lrd}_{3}(c) = \\frac{3}{\\sqrt{194} + \\sqrt{369} + \\sqrt{250}} = 0,0613 \\\\\n",
    "\n",
    "\\\\\n",
    "\n",
    "&\\text{lrd}_{3}(d) = \\frac{||N_{3}(d)||}{\\text{reachdist}_3(a \\leftarrow d) + \\text{reachdist}_3(f \\leftarrow d) + \\text{reachdist}_3(i \\leftarrow d)} \\\\\n",
    "\n",
    "\\\\\n",
    "\n",
    "&\\text{reachdist}_3(a \\leftarrow d) = \\max\\{ \\text{disk}_{3}(a), \\text{disk}(a,d) \\} = \\max\\{ \\sqrt{8}, \\sqrt{6} \\} = \\sqrt{8} \\\\\n",
    "&\\text{reachdist}_3(f \\leftarrow d) = \\max\\{ \\text{disk}_{3}(f), \\text{disk}(f,d) \\} = \\max\\{ \\sqrt{9}, \\sqrt{9} \\} = \\sqrt{9} \\\\\n",
    "&\\text{reachdist}_3(i \\leftarrow d) = \\max\\{ \\text{disk}_{3}(i), \\text{disk}(i,d) \\} = \\max\\{ \\sqrt{10}, \\sqrt{10} \\} = \\sqrt{10} \\\\\n",
    "\n",
    "\\\\\n",
    "\n",
    "&\\text{lrd}_{3}(d) = \\frac{3}{\\sqrt{8} + \\sqrt{9} + \\sqrt{10}} = 0,3337 \\\\\n",
    "\n",
    "\\\\\n",
    "\n",
    "&\\text{lrd}_{3}(e) = \\frac{||N_{3}(e)||}{\\text{reachdist}_3(j \\leftarrow e) + \\text{reachdist}_3(i \\leftarrow e) + \\text{reachdist}_3(a \\leftarrow e)} \\\\\n",
    "\n",
    "\\\\\n",
    "\n",
    "&\\text{reachdist}_3(j \\leftarrow e) = \\max\\{ \\text{disk}_{3}(j), \\text{disk}(j,e) \\} = \\max\\{ \\sqrt{25}, \\sqrt{19} \\} = \\sqrt{25} \\\\\n",
    "&\\text{reachdist}_3(i \\leftarrow e) = \\max\\{ \\text{disk}_{3}(i), \\text{disk}(i,e) \\} = \\max\\{ \\sqrt{10}, \\sqrt{21} \\} = \\sqrt{21} \\\\\n",
    "&\\text{reachdist}_3(a \\leftarrow e) = \\max\\{ \\text{disk}_{3}(a), \\text{disk}(a,e) \\} = \\max\\{ \\sqrt{8}, \\sqrt{25} \\} = \\sqrt{25} \\\\\n",
    "\n",
    "\\\\\n",
    "\n",
    "&\\text{lrd}_{3}(e) = \\frac{3}{\\sqrt{25} + \\sqrt{21} + \\sqrt{25}} = 0,2057 \\\\\n",
    "\n",
    "\\\\\n",
    "\n",
    "&\\text{lrd}_{3}(f) = \\frac{||N_{3}(f)||}{\\text{reachdist}_3(a \\leftarrow f) + \\text{reachdist}_3(i \\leftarrow f) + \\text{reachdist}_3(d \\leftarrow f)} \\\\\n",
    "\n",
    "\\\\\n",
    "\n",
    "&\\text{reachdist}_3(a \\leftarrow f) = \\max\\{ \\text{disk}_{3}(a), \\text{disk}(a,f) \\} = \\max\\{ \\sqrt{8}, \\sqrt{1} \\} = \\sqrt{8} \\\\\n",
    "&\\text{reachdist}_3(i \\leftarrow f) = \\max\\{ \\text{disk}_{3}(i), \\text{disk}(i,f) \\} = \\max\\{ \\sqrt{10}, \\sqrt{3} \\} = \\sqrt{10} \\\\\n",
    "&\\text{reachdist}_3(d \\leftarrow f) = \\max\\{ \\text{disk}_{3}(d), \\text{disk}(d,f) \\} = \\max\\{ \\sqrt{10}, \\sqrt{9} \\} = \\sqrt{10} \\\\\n",
    "\n",
    "\\\\\n",
    "\n",
    "&\\text{lrd}_{3}(f) = \\frac{3}{\\sqrt{8} + \\sqrt{10} + \\sqrt{10}} = 0,3278 \\\\\n",
    "\n",
    "\\\\\n",
    "\n",
    "&\\text{lrd}_{3}(g) = \\frac{||N_{3}(g)||}{\\text{reachdist}_3(b \\leftarrow g) + \\text{reachdist}_3(a \\leftarrow g) + \\text{reachdist}_3(d \\leftarrow g)} \\\\\n",
    "\n",
    "\\\\\n",
    "\n",
    "&\\text{reachdist}_3(b \\leftarrow g) = \\max\\{ \\text{disk}_{3}(b), \\text{disk}(b,g) \\} = \\max\\{ \\sqrt{30}, \\sqrt{5} \\} = \\sqrt{30} \\\\\n",
    "&\\text{reachdist}_3(a \\leftarrow g) = \\max\\{ \\text{disk}_{3}(a), \\text{disk}(a,g) \\} = \\max\\{ \\sqrt{8}, \\sqrt{11} \\} = \\sqrt{11} \\\\\n",
    "&\\text{reachdist}_3(d \\leftarrow g) = \\max\\{ \\text{disk}_{3}(d), \\text{disk}(d,g) \\} = \\max\\{ \\sqrt{10}, \\sqrt{17} \\} = \\sqrt{17} \\\\\n",
    "\n",
    "\\\\\n",
    "\n",
    "&\\text{lrd}_{3}(g) = \\frac{3}{\\sqrt{30} + \\sqrt{11} + \\sqrt{17}} = 0,2323 \\\\\n",
    "\n",
    "\\\\\n",
    "\n",
    "&\\text{lrd}_{3}(h) = \\frac{||N_{3}(h)||}{\\text{reachdist}_3(c \\leftarrow h) + \\text{reachdist}_3(j \\leftarrow h) + \\text{reachdist}_3(d \\leftarrow h)} \\\\\n",
    "\n",
    "\\\\\n",
    "\n",
    "&\\text{reachdist}_3(c \\leftarrow h) = \\max\\{ \\text{disk}_{3}(c), \\text{disk}(c,h) \\} = \\max\\{ \\sqrt{250}, \\sqrt{229} \\} = \\sqrt{250} \\\\\n",
    "&\\text{reachdist}_3(j \\leftarrow h) = \\max\\{ \\text{disk}_{3}(j), \\text{disk}(j,h) \\} = \\max\\{ \\sqrt{25}, \\sqrt{297} \\} = \\sqrt{297} \\\\\n",
    "&\\text{reachdist}_3(d \\leftarrow h) = \\max\\{ \\text{disk}_{3}(d), \\text{disk}(d,h) \\} = \\max\\{ \\sqrt{10}, \\sqrt{369} \\} = \\sqrt{369} \\\\\n",
    "\n",
    "\\\\\n",
    "\n",
    "&\\text{lrd}_{3}(h) = \\frac{3}{\\sqrt{250} + \\sqrt{297} + \\sqrt{369}} = 0,0574 \\\\\n",
    "\n",
    "\\\\\n",
    "\n",
    "&\\text{lrd}_{3}(i) = \\frac{||N_{3}(i)||}{\\text{reachdist}_3(f \\leftarrow i) + \\text{reachdist}_3(a \\leftarrow i) + \\text{reachdist}_3(d \\leftarrow i)} \\\\\n",
    "\n",
    "\\\\\n",
    "\n",
    "&\\text{reachdist}_3(f \\leftarrow i) = \\max\\{ \\text{disk}_{3}(f), \\text{disk}(f,i) \\} = \\max\\{ \\sqrt{9}, \\sqrt{5} \\} = \\sqrt{9} \\\\\n",
    "&\\text{reachdist}_3(a \\leftarrow i) = \\max\\{ \\text{disk}_{3}(a), \\text{disk}(a,i) \\} = \\max\\{ \\sqrt{8}, \\sqrt{8} \\} = \\sqrt{8} \\\\\n",
    "&\\text{reachdist}_3(d \\leftarrow i) = \\max\\{ \\text{disk}_{3}(d), \\text{disk}(d,i) \\} = \\max\\{ \\sqrt{10}, \\sqrt{10} \\} = \\sqrt{10} \\\\\n",
    "\n",
    "\\\\\n",
    "\n",
    "&\\text{lrd}_{3}(i) = \\frac{3}{\\sqrt{9} + \\sqrt{8} + \\sqrt{10}} = 0,3337 \\\\\n",
    "\n",
    "\\\\\n",
    "\n",
    "&\\text{lrd}_{3}(j) = \\frac{||N_{3}(j)||}{\\text{reachdist}_3(d \\leftarrow j) + \\text{reachdist}_3(e \\leftarrow j) + \\text{reachdist}_3(g \\leftarrow j)} \\\\\n",
    "\n",
    "\\\\\n",
    "\n",
    "&\\text{reachdist}_3(d \\leftarrow j) = \\max\\{ \\text{disk}_{3}(d), \\text{disk}(d,j) \\} = \\max\\{ \\sqrt{10}, \\sqrt{12} \\} = \\sqrt{12} \\\\\n",
    "&\\text{reachdist}_3(e \\leftarrow j) = \\max\\{ \\text{disk}_{3}(e), \\text{disk}(e,j) \\} = \\max\\{ \\sqrt{25}, \\sqrt{19} \\} = \\sqrt{25} \\\\\n",
    "&\\text{reachdist}_3(g \\leftarrow j) = \\max\\{ \\text{disk}_{3}(g), \\text{disk}(g,j) \\} = \\max\\{ \\sqrt{17}, \\sqrt{25} \\} = \\sqrt{25} \\\\\n",
    "\n",
    "\\\\\n",
    "\n",
    "&\\text{lrd}_{3}(j) = \\frac{3}{\\sqrt{12} + \\sqrt{25} + \\sqrt{25}} = 0,2228\n",
    "\n",
    "\\end{aligned}\n",
    "$$"
   ]
  },
  {
   "block_group": "a498b7014623406eb47ce37ad82a39ac",
   "cell_type": "markdown",
   "metadata": {
    "cell_id": "c155c410ad80462a821c81e12deb68dd",
    "deepnote_cell_type": "markdown"
   },
   "source": [
    "Menghitung semua $ LOF_{k}(o) $"
   ]
  },
  {
   "block_group": "197e7d26ced54cde8e0d19c053add180",
   "cell_type": "markdown",
   "metadata": {
    "cell_id": "acd0780891b74e47b15f11c1c7ee1dc0",
    "deepnote_cell_type": "markdown"
   },
   "source": [
    "$$\n",
    "\\begin{aligned}\n",
    "\n",
    "& LOF_{k}(o) = \\frac{\\sum_{o'\\epsilon N_{k}(o)}\\frac{lrd_{k}(o')}{lrd_{k}(o)}}{||N_{k}(o)||} = \\sum_{o'\\epsilon N_{k}(o)}lrd_{k}(o')\\cdot \\sum_{o'\\epsilon N_{k}(o)}reachdist_{k}(o'\\leftarrow o)\n",
    "\n",
    "\\end{aligned}\n",
    "$$"
   ]
  },
  {
   "block_group": "a7e5bedec7ff43c2ad8e199eba4ec95c",
   "cell_type": "markdown",
   "metadata": {
    "cell_id": "1bbf32ed54504c6e8c94a98cb691a68f",
    "deepnote_cell_type": "markdown"
   },
   "source": [
    "$$\n",
    "\\begin{aligned}\n",
    "\n",
    "& LOF_{3}(a) = (lrd_{3}(f)+lrd_{3}(d)+lrd_{3}(i))\\cdot (reachdist_{3}(f\\leftarrow a)+reachdist_{3}(d\\leftarrow a)+reachdist_{3}(i\\leftarrow a)) \\\\\n",
    "& LOF_{3}(a) = (0,3278+0,3337+0,3337)\\cdot (\\sqrt{9}+\\sqrt{10}+\\sqrt{10}) = 9,2798\\\\\n",
    "\n",
    "\\\\\n",
    "\n",
    "& LOF_{3}(b) = (lrd_{3}(g)+lrd_{3}(a)+lrd_{3}(j))\\cdot (reachdist_{3}(g\\leftarrow b)+reachdist_{3}(a\\leftarrow b)+reachdist_{3}(j\\leftarrow b)) \\\\\n",
    "& LOF_{3}(b) = (0,2323+0,3217+0,2228)\\cdot (\\sqrt{17}+\\sqrt{26}+\\sqrt{30}) = 11,4185\\\\\n",
    "\n",
    "\\\\\n",
    "\n",
    "& LOF_{3}(c) = (lrd_{3}(j)+lrd_{3}(h)+lrd_{3}(b))\\cdot (reachdist_{3}(j\\leftarrow c)+reachdist_{3}(h\\leftarrow c)+reachdist_{3}(b\\leftarrow c)) \\\\\n",
    "& LOF_{3}(c) = (0,2228+0,0574+0,2041)\\cdot (\\sqrt{194}+\\sqrt{369}+\\sqrt{250}) = 23,7061\\\\\n",
    "\n",
    "\\\\\n",
    "\n",
    "& LOF_{3}(d) = (lrd_{3}(a)+lrd_{3}(f)+lrd_{3}(i))\\cdot (reachdist_{3}(a\\leftarrow d)+reachdist_{3}(f\\leftarrow d)+reachdist_{3}(i\\leftarrow d)) \\\\\n",
    "& LOF_{3}(d) = (0,3217+0,3278+0,3337)\\cdot (\\sqrt{8}+\\sqrt{9}+\\sqrt{10}) = 8,8397\\\\\n",
    "\n",
    "\\\\\n",
    "\n",
    "& LOF_{3}(e) = (lrd_{3}(j)+lrd_{3}(i)+lrd_{3}(a))\\cdot (reachdist_{3}(j\\leftarrow e)+reachdist_{3}(i\\leftarrow e)+reachdist_{3}(a\\leftarrow e)) \\\\\n",
    "& LOF_{3}(e) = (0,2228+0,3337+0,3217)\\cdot (\\sqrt{25}+\\sqrt{21}+\\sqrt{25}) = 12,8064\\\\\n",
    "\n",
    "\\\\\n",
    "\n",
    "& LOF_{3}(f) = (lrd_{3}(a)+lrd_{3}(i)+lrd_{3}(d))\\cdot (reachdist_{3}(a\\leftarrow f)+reachdist_{3}(i\\leftarrow f)+reachdist_{3}(d\\leftarrow f)) \\\\\n",
    "& LOF_{3}(f) = (0,3217+0,3337+0,3337)\\cdot (\\sqrt{8}+\\sqrt{10}+\\sqrt{10}) = 9,0532\\\\\n",
    "\n",
    "\\\\\n",
    "\n",
    "& LOF_{3}(g) = (lrd_{3}(b)+lrd_{3}(a)+lrd_{3}(d))\\cdot (reachdist_{3}(b\\leftarrow g)+reachdist_{3}(a\\leftarrow g)+reachdist_{3}(d\\leftarrow g)) \\\\\n",
    "& LOF_{3}(g) = (0,2041+0,3217+0,3337)\\cdot (\\sqrt{30}+\\sqrt{11}+\\sqrt{17}) = 11,1021\\\\\n",
    "\n",
    "\\\\\n",
    "\n",
    "& LOF_{3}(h) = (lrd_{3}(c)+lrd_{3}(j)+lrd_{3}(d))\\cdot (reachdist_{3}(c\\leftarrow h)+reachdist_{3}(j\\leftarrow h)+reachdist_{3}(d\\leftarrow h)) \\\\\n",
    "& LOF_{3}(h) = (0,0613+0,2228+0,3337)\\cdot (\\sqrt{250}+\\sqrt{297}+\\sqrt{369}) = 32,2828\\\\\n",
    "\n",
    "\\\\\n",
    "\n",
    "& LOF_{3}(i) = (lrd_{3}(f)+lrd_{3}(a)+lrd_{3}(d))\\cdot (reachdist_{3}(f\\leftarrow i)+reachdist_{3}(a\\leftarrow i)+reachdist_{3}(d\\leftarrow i)) \\\\\n",
    "& LOF_{3}(i) = (0,3278+0,3217+0,3337)\\cdot (\\sqrt{9}+\\sqrt{8}+\\sqrt{10}) = 8,8397\\\\\n",
    "\n",
    "\\\\\n",
    "\n",
    "& LOF_{3}(j) = (lrd_{3}(d)+lrd_{3}(e)+lrd_{3}(g))\\cdot (reachdist_{3}(d\\leftarrow j)+reachdist_{3}(e\\leftarrow j)+reachdist_{3}(g\\leftarrow j)) \\\\\n",
    "& LOF_{3}(j) = (0,3337+0,2057+0,2323)\\cdot (\\sqrt{12}+\\sqrt{25}+\\sqrt{25}) = 10,3903\n",
    "\n",
    "\\end{aligned}\n",
    "$$"
   ]
  },
  {
   "block_group": "5d2563b728f944bcaf3e8ce66ab27e11",
   "cell_type": "markdown",
   "metadata": {
    "cell_id": "54640607d66945148a7f3f9c32af455e",
    "deepnote_cell_type": "markdown"
   },
   "source": [
    "Mengurutkan semua $ LOF_{k}(o) $"
   ]
  },
  {
   "block_group": "78e24daae39048068ea9e61f2fd0cd46",
   "cell_type": "markdown",
   "metadata": {
    "cell_id": "21271e0d8a86413697bf0f396843bac4",
    "deepnote_cell_type": "markdown"
   },
   "source": [
    "$$\n",
    "\\begin{aligned}\n",
    "\n",
    "& \\text{Urutan terurut adalah:}\\\\\n",
    "& LOF_{3}(h) = 32,2828\\\\\n",
    "& LOF_{3}(c) = 23,7061\\\\\n",
    "& LOF_{3}(e) = 12,8064\\\\\n",
    "& LOF_{3}(b) = 11,4185\\\\\n",
    "& LOF_{3}(g) = 11,1021\\\\\n",
    "& LOF_{3}(j) = 10,3903\\\\\n",
    "& LOF_{3}(a) = 9,2798\\\\\n",
    "& LOF_{3}(f) = 9,0532\\\\\n",
    "& LOF_{3}(d) = 8,8397\\\\\n",
    "& LOF_{3}(i) = 8,8397\\\\\n",
    "& \\text{Jelas, outlier teratas adalah titik h dan c.}\n",
    "\n",
    "\\end{aligned}\n",
    "$$"
   ]
  },
  {
   "block_group": "2771d2ccdab643608de6f3b32b3a4c68",
   "cell_type": "markdown",
   "metadata": {
    "cell_id": "835e1a4f9c4e4bf89c78ccea58a03e4d",
    "deepnote_cell_type": "text-cell-h3",
    "formattedRanges": []
   },
   "source": [
    "### Menghitung menggunakan Python (Scikit Learn)"
   ]
  },
  {
   "block_group": "890bf0f098d04561a6e35b63f929a8b4",
   "cell_type": "markdown",
   "metadata": {
    "cell_id": "eedb7fe1b2f84b5b9e768875554ba66c",
    "deepnote_cell_type": "text-cell-p",
    "formattedRanges": []
   },
   "source": [
    "Pertama, dalam bagian import, kode menggunakan modul numpy untuk manipulasi data numerik dan NearestNeighbors dari sklearn.neighbors untuk mencari tetangga terdekat dari setiap titik dalam dataset."
   ]
  },
  {
   "block_group": "8e9cc6ed2a4648d289ec2465ed6e65c4",
   "cell_type": "code",
   "execution_count": null,
   "metadata": {
    "cell_id": "055cebafd6d949d89496f22e08ead6c4",
    "deepnote_cell_type": "code",
    "deepnote_to_be_reexecuted": false,
    "execution_millis": 2488,
    "execution_start": 1710991016694,
    "source_hash": null
   },
   "outputs": [],
   "outputs_reference": null,
   "source": [
    "import numpy as np\n",
    "import matplotlib.pyplot as plt\n",
    "from mpl_toolkits.mplot3d import Axes3D\n",
    "from sklearn.neighbors import NearestNeighbors\n",
    "from sklearn.neighbors import LocalOutlierFactor"
   ]
  },
  {
   "block_group": "baa8e1843dc24d70918974e56a484c21",
   "cell_type": "markdown",
   "metadata": {
    "cell_id": "f41ae630dbee4a75970470dcaa376f78",
    "deepnote_cell_type": "text-cell-p",
    "formattedRanges": []
   },
   "source": [
    "Selanjutnya, fungsi local_reachability_density(X, k) bertanggung jawab untuk menghitung Local Reachability Density (LRD) untuk setiap titik dalam dataset. Fungsi ini pertama-tama menentukan tetangga terdekat untuk setiap titik menggunakan NearestNeighbors, kemudian menghitung jarak mencapai dari setiap tetangga ke titik yang bersangkutan. Selanjutnya, LRD dihitung sebagai rasio antara jumlah tetangga terdekat dan total jarak mencapai."
   ]
  },
  {
   "block_group": "7cd742b6e34f4785b57076080375e136",
   "cell_type": "code",
   "execution_count": null,
   "metadata": {
    "cell_id": "43735b35dd6640ce865ffa7b77998799",
    "deepnote_cell_type": "code",
    "deepnote_to_be_reexecuted": false,
    "execution_millis": 50,
    "execution_start": 1710991019344,
    "source_hash": null
   },
   "outputs": [],
   "outputs_reference": null,
   "source": [
    "# Fungsi untuk menghitung Local Reachability Density (LRD) suatu titik\n",
    "def local_reachability_density(X, k):\n",
    "    n_samples = len(X)\n",
    "    lrd = np.zeros(n_samples)\n",
    "\n",
    "    # Menentukan tetangga terdekat untuk setiap titik\n",
    "    neigh = NearestNeighbors(n_neighbors=k)\n",
    "    neigh.fit(X)\n",
    "    distances, indices = neigh.kneighbors(X)\n",
    "\n",
    "    for i in range(n_samples):\n",
    "        # Menghitung jumlah tetangga terdekat untuk titik i\n",
    "        n_neighbors = len(indices[i])\n",
    "\n",
    "        # Menghitung jarak mencapai dari setiap tetangga ke titik i\n",
    "        reach_distances = 0.0\n",
    "        for j in indices[i]:\n",
    "            reach_distances += max(distances[j][-1], distances[i][-1])\n",
    "\n",
    "        # Menghitung Local Reachability Density (LRD) untuk titik i\n",
    "        lrd[i] = n_neighbors / reach_distances\n",
    "\n",
    "    return lrd"
   ]
  },
  {
   "block_group": "a7a076712e5e40feba08457ee063c3c0",
   "cell_type": "markdown",
   "metadata": {
    "cell_id": "233ccf7ee3d440d7b85ac2f4306b3837",
    "deepnote_cell_type": "text-cell-p",
    "formattedRanges": []
   },
   "source": [
    "Kemudian, fungsi local_outlier_factor(X, k) digunakan untuk menghitung Local Outlier Factor (LOF) untuk setiap titik dalam dataset. Fungsi ini memanfaatkan nilai LRD yang dihasilkan oleh fungsi sebelumnya dan menghitung LOF berdasarkan rumus yang diberikan. Proses ini melibatkan iterasi melalui setiap titik, mengakumulasi nilai LRD dan jarak mencapai dari tetangga terdekat, dan kemudian mengalikan keduanya untuk mendapatkan nilai LOF."
   ]
  },
  {
   "block_group": "cad41cbf7cf34f49bdaf41f0f57da890",
   "cell_type": "code",
   "execution_count": null,
   "metadata": {
    "cell_id": "06685a4798e445ffafb49345048b4d05",
    "deepnote_cell_type": "code",
    "deepnote_to_be_reexecuted": false,
    "execution_millis": 42,
    "execution_start": 1710991025909,
    "source_hash": null
   },
   "outputs": [],
   "outputs_reference": null,
   "source": [
    "# Fungsi untuk menghitung Local Outlier Factor (LOF)\n",
    "def local_outlier_factor(X, k):\n",
    "    lrd_values = local_reachability_density(X, k)\n",
    "    neigh = NearestNeighbors(n_neighbors=k)\n",
    "    neigh.fit(X)\n",
    "    distances, indices = neigh.kneighbors(X)\n",
    "    lof_scores = np.zeros(X.shape[0])\n",
    "\n",
    "    for i in range(X.shape[0]):\n",
    "        lrd_sum = 0.0\n",
    "        reachdist_sum = 0.0\n",
    "        for j in indices[i]:\n",
    "            lrd_sum += lrd_values[j]\n",
    "            reachdist_sum += max(distances[j][-1], distances[i][-1])\n",
    "        lof_scores[i] = lrd_sum * reachdist_sum\n",
    "\n",
    "    return lof_scores"
   ]
  },
  {
   "block_group": "0fae4f1c296d4638834d3e0803f13c3c",
   "cell_type": "markdown",
   "metadata": {
    "cell_id": "56969178281c40b6a67198d9dcb302f0",
    "deepnote_cell_type": "text-cell-p",
    "formattedRanges": []
   },
   "source": [
    "Setelahnya, dataset contoh didefinisikan dalam variabel data, yang berisi titik-titik dalam format yang telah ditentukan. Data tersebut kemudian diubah menjadi array numpy untuk penggunaan lebih lanjut, dan label dari setiap titik disimpan dalam variabel labels."
   ]
  },
  {
   "block_group": "ba360e4282444d0db52f163f34fa9b7a",
   "cell_type": "code",
   "execution_count": null,
   "metadata": {
    "cell_id": "3d834729758947b4b9cbfbfe5e05d58f",
    "deepnote_cell_type": "code",
    "deepnote_to_be_reexecuted": false,
    "execution_millis": 96,
    "execution_start": 1710991030591,
    "source_hash": null
   },
   "outputs": [],
   "outputs_reference": null,
   "source": [
    "# Contoh data\n",
    "data = {\n",
    "    'a': np.array([3, 6, 4]),\n",
    "    'b': np.array([2, 3, 8]),\n",
    "    'c': np.array([11, 8, 20]),\n",
    "    'd': np.array([5, 7, 5]),\n",
    "    'e': np.array([6, 2, 4]),\n",
    "    'f': np.array([3, 6, 3]),\n",
    "    'g': np.array([2, 5, 7]),\n",
    "    'h': np.array([23, 10, 11]),\n",
    "    'i': np.array([5, 6, 2]),\n",
    "    'j': np.array([7, 5, 7])\n",
    "}\n",
    "\n",
    "X = np.array(list(data.values()))  # Data sebagai array numpy\n",
    "labels = list(data.keys())  # Label titik data"
   ]
  },
  {
   "block_group": "e84943a1c6bb4bd39e713c110a752e82",
   "cell_type": "markdown",
   "metadata": {
    "cell_id": "d74e43d05ce54f7c8d1deb176180e79d",
    "deepnote_cell_type": "text-cell-p",
    "formattedRanges": []
   },
   "source": [
    "Menghitung LOF scores menggunakan fungsi local_outlier_factor dengan k=3. LOF scores dicetak dalam urutan dari tertinggi ke terendah menggunakan indeks yang telah diurutkan sebelumnya.\r"
   ]
  },
  {
   "block_group": "8b988bdffa004f77bd94403866609977",
   "cell_type": "code",
   "execution_count": null,
   "metadata": {
    "cell_id": "c99e26acc28b46649d9068dbed479872",
    "deepnote_cell_type": "code",
    "deepnote_to_be_reexecuted": false,
    "execution_millis": 37,
    "execution_start": 1710991064298,
    "source_hash": null
   },
   "outputs": [
    {
     "name": "stdout",
     "output_type": "stream",
     "text": [
      "LOF Scores:\n",
      "h: 17.926953262498927\n",
      "c: 16.469981739458444\n",
      "b: 12.721294596976907\n",
      "e: 10.961459494676571\n",
      "j: 10.335837323101746\n",
      "d: 10.011462841966368\n",
      "g: 9.756754937021318\n",
      "i: 9.610470562122563\n",
      "a: 8.786704401022465\n",
      "f: 8.510375433939908\n"
     ]
    }
   ],
   "outputs_reference": "dbtable:cell_outputs/328ca4a0-f038-4ed5-91de-d26f9b471190",
   "source": [
    "# Hitung LOF untuk data yang diberikan dengan k=3\n",
    "lof_scores = local_outlier_factor(X, k=3)\n",
    "\n",
    "# Urutkan LOF scores dari tertinggi ke terendah\n",
    "sorted_lof_indices = sorted(range(len(lof_scores)), key=lambda i: lof_scores[i], reverse=True)\n",
    "\n",
    "print(\"LOF Scores:\")\n",
    "for idx in sorted_lof_indices:\n",
    "    print(f\"{labels[idx]}: {lof_scores[idx]}\")"
   ]
  },
  {
   "block_group": "dfcfb4d70b0f4613bc66596603e18c7e",
   "cell_type": "markdown",
   "metadata": {
    "cell_id": "1cfab00cfab44cca89ea05671154700f",
    "deepnote_cell_type": "text-cell-p",
    "formattedRanges": []
   },
   "source": [
    "Terakhir, dilakukan penentuan outlier berdasarkan ambang LOF tertentu. Outlier ditentukan sebagai titik-titik yang memiliki LOF score melebihi ambang tersebut. Titik-titik outlier tersebut kemudian dicetak bersama dengan LOF score mereka dalam urutan dari tertinggi ke terendah."
   ]
  },
  {
   "block_group": "5975d2f0fcad42b3811484030b5c5422",
   "cell_type": "code",
   "execution_count": null,
   "metadata": {
    "cell_id": "86b5edf6c82d4a04b8becb96241e23eb",
    "deepnote_cell_type": "code",
    "deepnote_to_be_reexecuted": false,
    "execution_millis": 31,
    "execution_start": 1710991193090,
    "source_hash": null
   },
   "outputs": [
    {
     "name": "stdout",
     "output_type": "stream",
     "text": [
      "Outlier Points (LOF Score > 14 ):\n",
      "h LOF Score: 17.926953262498927\n",
      "c LOF Score: 16.469981739458444\n"
     ]
    }
   ],
   "outputs_reference": "dbtable:cell_outputs/7e5efb30-7e19-4371-b3f1-4002a58a142c",
   "source": [
    "# Tentukan ambang LOF untuk menentukan outlier\n",
    "threshold = 14  # Misalnya, menggunakan ambang 14\n",
    "\n",
    "# Temukan indeks dari titik-titik yang dianggap sebagai outlier\n",
    "outlier_indices = np.where(lof_scores > threshold)[0]\n",
    "\n",
    "# Urutkan outlier berdasarkan LOF score dari tertinggi ke terendah\n",
    "sorted_outlier_indices = sorted(outlier_indices, key=lambda idx: lof_scores[idx], reverse=True)\n",
    "\n",
    "print(\"Outlier Points (LOF Score >\", threshold, \"):\")\n",
    "for idx in sorted_outlier_indices:\n",
    "    print(labels[idx], \"LOF Score:\", lof_scores[idx])"
   ]
  },
  {
   "block_group": "0c7b7de064a249e5ae1bf0f0f39d7d1f",
   "cell_type": "markdown",
   "metadata": {
    "cell_id": "0941b16de5ea4c19bd896bf438f51d59",
    "deepnote_cell_type": "text-cell-p",
    "formattedRanges": []
   },
   "source": [
    "Untuk melihat visualisasi data, kita dapat membuat sebuah gambar (figure) dengan ukuran 14x12 inci. Kemudian, kita menambahkan subplot 3D ke dalam gambar tersebut. Titik-titik data ditampilkan dalam warna biru dengan marker bulat, sedangkan titik-titik yang dianggap sebagai outlier ditampilkan dalam warna merah dengan marker X. Sumbu plot diberi label sesuai dengan fitur-fitur yang dimiliki oleh data. Legenda ditambahkan untuk membedakan antara titik-titik data dan outlier. Lalu, plot ditampilkan."
   ]
  },
  {
   "block_group": "669520fad2c7484ea2d7a19a4184e054",
   "cell_type": "code",
   "execution_count": null,
   "metadata": {
    "cell_id": "8a4fde976083439288a49549d76e556a",
    "deepnote_cell_type": "code",
    "deepnote_to_be_reexecuted": false,
    "execution_millis": 392,
    "execution_start": 1710991196487,
    "source_hash": null
   },
   "outputs": [
    {
     "data": {
      "image/png": "[encoded data removed]",
      "text/plain": [
       "<Figure size 1400x1200 with 1 Axes>"
      ]
     },
     "metadata": {
      "image/png": {
       "height": 966,
       "width": 944
      }
     },
     "output_type": "display_data"
    }
   ],
   "outputs_reference": "s3:deepnote-cell-outputs-production/f87b6f89-ff9e-4659-bdfd-9a76c1ff1fcd",
   "source": [
    "# Plot data titik dalam ruang 3D\n",
    "fig = plt.figure(figsize=(14, 12))\n",
    "ax = fig.add_subplot(111, projection='3d')\n",
    "\n",
    "# Plot titik-titik data\n",
    "ax.scatter(X[:, 0], X[:, 1], X[:, 2], c='b', marker='o', s=50, label='Data Points')\n",
    "\n",
    "# Plot titik-titik outlier\n",
    "ax.scatter(X[sorted_outlier_indices, 0], X[sorted_outlier_indices, 1], X[sorted_outlier_indices, 2], \n",
    "           c='r', marker='x', s=100, label='Outlier Points')\n",
    "\n",
    "# Menyesuaikan label sumbu\n",
    "ax.set_xlabel('Fitur 1')\n",
    "ax.set_ylabel('Fitur 2')\n",
    "ax.set_zlabel('Fitur 3')\n",
    "\n",
    "# Menampilkan legenda\n",
    "ax.legend()\n",
    "\n",
    "# Menampilkan plot\n",
    "plt.title('Visualisasi Data dengan Outlier')\n",
    "plt.show()"
   ]
  },
  {
   "block_group": "a0b94296a2194198ba677df199e09336",
   "cell_type": "markdown",
   "metadata": {
    "cell_id": "f6c00bead0744a8192d1731103a627e1",
    "deepnote_cell_type": "text-cell-p",
    "formattedRanges": []
   },
   "source": [
    "Jadi, outlier points teratasnya adalah h dan c."
   ]
  },
  {
   "block_group": "86f0e1919bab4b94be51cebafe37dac7",
   "cell_type": "markdown",
   "metadata": {
    "cell_id": "39ed9c5524664b9ebe5d78d6b5a9e76b",
    "deepnote_cell_type": "text-cell-h3",
    "formattedRanges": []
   },
   "source": [
    "### Implementasi Local Outlier Factor pada data Iris"
   ]
  },
  {
   "block_group": "8c52e48bccd94e5aa2ee7c95469404a8",
   "cell_type": "markdown",
   "metadata": {
    "cell_id": "a980acc5e601487789f8942dd019d23e",
    "deepnote_cell_type": "text-cell-p",
    "formattedRanges": []
   },
   "source": [
    "Pertama, dalam bagian import, kode menggunakan modul numpy untuk manipulasi data numerik dan NearestNeighbors dari sklearn.neighbors untuk mencari tetangga terdekat dari setiap titik dalam dataset."
   ]
  },
  {
   "block_group": "2548094e663e4594b5b254b01c4a57de",
   "cell_type": "code",
   "execution_count": null,
   "metadata": {
    "cell_id": "9d9ea516c4be426eaef3a92e40eaed33",
    "deepnote_cell_type": "code",
    "deepnote_to_be_reexecuted": false,
    "execution_millis": 1356,
    "execution_start": 1710989435384,
    "source_hash": null
   },
   "outputs": [],
   "outputs_reference": null,
   "source": [
    "import numpy as np\n",
    "import matplotlib.pyplot as plt\n",
    "from mpl_toolkits.mplot3d import Axes3D\n",
    "from sklearn.neighbors import NearestNeighbors\n",
    "from sklearn.neighbors import LocalOutlierFactor\n",
    "import pandas as pd"
   ]
  },
  {
   "block_group": "f1a5134fbb764ffbbffe5ebd23829375",
   "cell_type": "markdown",
   "metadata": {
    "cell_id": "4fa69cb7605d434981109ca869b98954",
    "deepnote_cell_type": "text-cell-p",
    "formattedRanges": []
   },
   "source": [
    "Selanjutnya, fungsi local_reachability_density(X, k) bertanggung jawab untuk menghitung Local Reachability Density (LRD) untuk setiap titik dalam dataset. Fungsi ini pertama-tama menentukan tetangga terdekat untuk setiap titik menggunakan NearestNeighbors, kemudian menghitung jarak mencapai dari setiap tetangga ke titik yang bersangkutan. Selanjutnya, LRD dihitung sebagai rasio antara jumlah tetangga terdekat dan total jarak mencapai."
   ]
  },
  {
   "block_group": "8d434aaaef884a5eaf87c56258cca7c1",
   "cell_type": "code",
   "execution_count": null,
   "metadata": {
    "cell_id": "7f2985d2ca2446aba190aa033194c1f9",
    "deepnote_cell_type": "code",
    "deepnote_to_be_reexecuted": false,
    "execution_millis": 61,
    "execution_start": 1710989475502,
    "source_hash": null
   },
   "outputs": [],
   "outputs_reference": null,
   "source": [
    "# Fungsi untuk menghitung Local Reachability Density (LRD) suatu titik\n",
    "def local_reachability_density(X, k):\n",
    "    n_samples = len(X)\n",
    "    lrd = np.zeros(n_samples)\n",
    "\n",
    "    # Menentukan tetangga terdekat untuk setiap titik\n",
    "    neigh = NearestNeighbors(n_neighbors=k)\n",
    "    neigh.fit(X)\n",
    "    distances, indices = neigh.kneighbors(X)\n",
    "\n",
    "    for i in range(n_samples):\n",
    "        # Menghitung jumlah tetangga terdekat untuk titik i\n",
    "        n_neighbors = len(indices[i])\n",
    "\n",
    "        # Menghitung jarak mencapai dari setiap tetangga ke titik i\n",
    "        reach_distances = 0.0\n",
    "        for j in indices[i]:\n",
    "            reach_distances += max(distances[j][-1], distances[i][-1])\n",
    "\n",
    "        # Menghitung Local Reachability Density (LRD) untuk titik i\n",
    "        if reach_distances == 0:\n",
    "            lrd[i] = 0\n",
    "        else:\n",
    "            lrd[i] = n_neighbors / reach_distances\n",
    "\n",
    "    return lrd"
   ]
  },
  {
   "block_group": "0e00fcb869a54224a553ffad4f2b22e9",
   "cell_type": "markdown",
   "metadata": {
    "cell_id": "47d5211088914230bda2929bbf4dd98f",
    "deepnote_cell_type": "text-cell-p",
    "formattedRanges": []
   },
   "source": [
    "Kemudian, fungsi local_outlier_factor(X, k) digunakan untuk menghitung Local Outlier Factor (LOF) untuk setiap titik dalam dataset. Fungsi ini memanfaatkan nilai LRD yang dihasilkan oleh fungsi sebelumnya dan menghitung LOF berdasarkan rumus yang diberikan. Proses ini melibatkan iterasi melalui setiap titik, mengakumulasi nilai LRD dan jarak mencapai dari tetangga terdekat, dan kemudian mengalikan keduanya untuk mendapatkan nilai LOF."
   ]
  },
  {
   "block_group": "c52a36338a6b4f8890f53ee8254d86f5",
   "cell_type": "code",
   "execution_count": null,
   "metadata": {
    "cell_id": "f0681a6cd0cf4f0989b00081016634fb",
    "deepnote_cell_type": "code",
    "deepnote_to_be_reexecuted": false,
    "execution_millis": 27,
    "execution_start": 1710989481066,
    "source_hash": null
   },
   "outputs": [],
   "outputs_reference": null,
   "source": [
    "# Fungsi untuk menghitung Local Outlier Factor (LOF)\n",
    "def local_outlier_factor(X, k):\n",
    "    lrd_values = local_reachability_density(X, k)\n",
    "    neigh = NearestNeighbors(n_neighbors=k)\n",
    "    neigh.fit(X)\n",
    "    distances, indices = neigh.kneighbors(X)\n",
    "    lof_scores = np.zeros(X.shape[0])\n",
    "\n",
    "    for i in range(X.shape[0]):\n",
    "        lrd_sum = 0.0\n",
    "        reachdist_sum = 0.0\n",
    "        for j in indices[i]:\n",
    "            lrd_sum += lrd_values[j]\n",
    "            reachdist_sum += max(distances[j][-1], distances[i][-1])\n",
    "        lof_scores[i] = lrd_sum * reachdist_sum\n",
    "\n",
    "    return lof_scores"
   ]
  },
  {
   "block_group": "1bbc1bcc138240d8baa2a23bb9f35b54",
   "cell_type": "markdown",
   "metadata": {
    "cell_id": "7fae040bed4d46ad90eec927d64a241a",
    "deepnote_cell_type": "text-cell-p",
    "formattedRanges": []
   },
   "source": [
    "Setelahnya, dataset Iris dari file \"Iris.csv\" didefinisikan dalam variabel data. Kemudian, dicoba untuk ditampilkan."
   ]
  },
  {
   "block_group": "5c65ce1e0c784e7faf03780c7c44a602",
   "cell_type": "code",
   "execution_count": null,
   "metadata": {
    "cell_id": "49671d3f35ad453b990cf65c6b2836ad",
    "deepnote_cell_type": "code",
    "deepnote_table_loading": false,
    "deepnote_table_state": {
     "filters": [],
     "pageIndex": 0,
     "pageSize": 10,
     "sortBy": []
    },
    "deepnote_to_be_reexecuted": false,
    "execution_millis": 263,
    "execution_start": 1710989486058,
    "source_hash": null
   },
   "outputs": [
    {
     "data": {
      "application/vnd.deepnote.dataframe.v3+json": {
       "column_count": 5,
       "columns": [
        {
         "dtype": "int64",
         "name": "Id",
         "stats": {
          "histogram": [
           {
            "bin_end": 15.9,
            "bin_start": 1,
            "count": 15
           },
           {
            "bin_end": 30.8,
            "bin_start": 15.9,
            "count": 15
           },
           {
            "bin_end": 45.7,
            "bin_start": 30.8,
            "count": 15
           },
           {
            "bin_end": 60.6,
            "bin_start": 45.7,
            "count": 15
           },
           {
            "bin_end": 75.5,
            "bin_start": 60.6,
            "count": 15
           },
           {
            "bin_end": 90.4,
            "bin_start": 75.5,
            "count": 15
           },
           {
            "bin_end": 105.3,
            "bin_start": 90.4,
            "count": 15
           },
           {
            "bin_end": 120.2,
            "bin_start": 105.3,
            "count": 15
           },
           {
            "bin_end": 135.1,
            "bin_start": 120.2,
            "count": 15
           },
           {
            "bin_end": 150,
            "bin_start": 135.1,
            "count": 15
           }
          ],
          "max": "150",
          "min": "1",
          "nan_count": 0,
          "unique_count": 150
         }
        },
        {
         "dtype": "float64",
         "name": "SepalLengthCm",
         "stats": {
          "histogram": [
           {
            "bin_end": 4.66,
            "bin_start": 4.3,
            "count": 9
           },
           {
            "bin_end": 5.02,
            "bin_start": 4.66,
            "count": 23
           },
           {
            "bin_end": 5.38,
            "bin_start": 5.02,
            "count": 14
           },
           {
            "bin_end": 5.74,
            "bin_start": 5.38,
            "count": 27
           },
           {
            "bin_end": 6.1,
            "bin_start": 5.74,
            "count": 16
           },
           {
            "bin_end": 6.46,
            "bin_start": 6.1,
            "count": 26
           },
           {
            "bin_end": 6.82,
            "bin_start": 6.46,
            "count": 18
           },
           {
            "bin_end": 7.18,
            "bin_start": 6.82,
            "count": 6
           },
           {
            "bin_end": 7.54,
            "bin_start": 7.18,
            "count": 5
           },
           {
            "bin_end": 7.9,
            "bin_start": 7.54,
            "count": 6
           }
          ],
          "max": "7.9",
          "min": "4.3",
          "nan_count": 0,
          "unique_count": 35
         }
        },
        {
         "dtype": "float64",
         "name": "SepalWidthCm",
         "stats": {
          "histogram": [
           {
            "bin_end": 2.24,
            "bin_start": 2,
            "count": 4
           },
           {
            "bin_end": 2.48,
            "bin_start": 2.24,
            "count": 7
           },
           {
            "bin_end": 2.72,
            "bin_start": 2.48,
            "count": 22
           },
           {
            "bin_end": 2.96,
            "bin_start": 2.72,
            "count": 24
           },
           {
            "bin_end": 3.2,
            "bin_start": 2.96,
            "count": 38
           },
           {
            "bin_end": 3.4400000000000004,
            "bin_start": 3.2,
            "count": 31
           },
           {
            "bin_end": 3.6800000000000006,
            "bin_start": 3.4400000000000004,
            "count": 9
           },
           {
            "bin_end": 3.9200000000000004,
            "bin_start": 3.6800000000000006,
            "count": 11
           },
           {
            "bin_end": 4.16,
            "bin_start": 3.9200000000000004,
            "count": 2
           },
           {
            "bin_end": 4.4,
            "bin_start": 4.16,
            "count": 2
           }
          ],
          "max": "4.4",
          "min": "2.0",
          "nan_count": 0,
          "unique_count": 23
         }
        },
        {
         "dtype": "float64",
         "name": "PetalLengthCm",
         "stats": {
          "histogram": [
           {
            "bin_end": 1.59,
            "bin_start": 1,
            "count": 37
           },
           {
            "bin_end": 2.18,
            "bin_start": 1.59,
            "count": 13
           },
           {
            "bin_end": 2.7700000000000005,
            "bin_start": 2.18,
            "count": 0
           },
           {
            "bin_end": 3.3600000000000003,
            "bin_start": 2.7700000000000005,
            "count": 3
           },
           {
            "bin_end": 3.95,
            "bin_start": 3.3600000000000003,
            "count": 8
           },
           {
            "bin_end": 4.540000000000001,
            "bin_start": 3.95,
            "count": 26
           },
           {
            "bin_end": 5.130000000000001,
            "bin_start": 4.540000000000001,
            "count": 29
           },
           {
            "bin_end": 5.720000000000001,
            "bin_start": 5.130000000000001,
            "count": 18
           },
           {
            "bin_end": 6.3100000000000005,
            "bin_start": 5.720000000000001,
            "count": 11
           },
           {
            "bin_end": 6.9,
            "bin_start": 6.3100000000000005,
            "count": 5
           }
          ],
          "max": "6.9",
          "min": "1.0",
          "nan_count": 0,
          "unique_count": 43
         }
        },
        {
         "dtype": "float64",
         "name": "PetalWidthCm",
         "stats": {
          "histogram": [
           {
            "bin_end": 0.33999999999999997,
            "bin_start": 0.1,
            "count": 41
           },
           {
            "bin_end": 0.58,
            "bin_start": 0.33999999999999997,
            "count": 8
           },
           {
            "bin_end": 0.82,
            "bin_start": 0.58,
            "count": 1
           },
           {
            "bin_end": 1.06,
            "bin_start": 0.82,
            "count": 7
           },
           {
            "bin_end": 1.3,
            "bin_start": 1.06,
            "count": 8
           },
           {
            "bin_end": 1.54,
            "bin_start": 1.3,
            "count": 33
           },
           {
            "bin_end": 1.78,
            "bin_start": 1.54,
            "count": 6
           },
           {
            "bin_end": 2.02,
            "bin_start": 1.78,
            "count": 23
           },
           {
            "bin_end": 2.2600000000000002,
            "bin_start": 2.02,
            "count": 9
           },
           {
            "bin_end": 2.5,
            "bin_start": 2.2600000000000002,
            "count": 14
           }
          ],
          "max": "2.5",
          "min": "0.1",
          "nan_count": 0,
          "unique_count": 22
         }
        },
        {
         "dtype": "int64",
         "name": "_deepnote_index_column"
        }
       ],
       "row_count": 150,
       "rows": [
        {
         "Id": 1,
         "PetalLengthCm": 1.4,
         "PetalWidthCm": 0.2,
         "SepalLengthCm": 5.1,
         "SepalWidthCm": 3.5,
         "_deepnote_index_column": 0
        },
        {
         "Id": 2,
         "PetalLengthCm": 1.4,
         "PetalWidthCm": 0.2,
         "SepalLengthCm": 4.9,
         "SepalWidthCm": 3,
         "_deepnote_index_column": 1
        },
        {
         "Id": 3,
         "PetalLengthCm": 1.3,
         "PetalWidthCm": 0.2,
         "SepalLengthCm": 4.7,
         "SepalWidthCm": 3.2,
         "_deepnote_index_column": 2
        },
        {
         "Id": 4,
         "PetalLengthCm": 1.5,
         "PetalWidthCm": 0.2,
         "SepalLengthCm": 4.6,
         "SepalWidthCm": 3.1,
         "_deepnote_index_column": 3
        },
        {
         "Id": 5,
         "PetalLengthCm": 1.4,
         "PetalWidthCm": 0.2,
         "SepalLengthCm": 5,
         "SepalWidthCm": 3.6,
         "_deepnote_index_column": 4
        },
        {
         "Id": 6,
         "PetalLengthCm": 1.7,
         "PetalWidthCm": 0.4,
         "SepalLengthCm": 5.4,
         "SepalWidthCm": 3.9,
         "_deepnote_index_column": 5
        },
        {
         "Id": 7,
         "PetalLengthCm": 1.4,
         "PetalWidthCm": 0.3,
         "SepalLengthCm": 4.6,
         "SepalWidthCm": 3.4,
         "_deepnote_index_column": 6
        },
        {
         "Id": 8,
         "PetalLengthCm": 1.5,
         "PetalWidthCm": 0.2,
         "SepalLengthCm": 5,
         "SepalWidthCm": 3.4,
         "_deepnote_index_column": 7
        },
        {
         "Id": 9,
         "PetalLengthCm": 1.4,
         "PetalWidthCm": 0.2,
         "SepalLengthCm": 4.4,
         "SepalWidthCm": 2.9,
         "_deepnote_index_column": 8
        },
        {
         "Id": 10,
         "PetalLengthCm": 1.5,
         "PetalWidthCm": 0.1,
         "SepalLengthCm": 4.9,
         "SepalWidthCm": 3.1,
         "_deepnote_index_column": 9
        }
       ]
      },
      "text/html": [
       "<div>\n",
       "<style scoped>\n",
       "    .dataframe tbody tr th:only-of-type {\n",
       "        vertical-align: middle;\n",
       "    }\n",
       "\n",
       "    .dataframe tbody tr th {\n",
       "        vertical-align: top;\n",
       "    }\n",
       "\n",
       "    .dataframe thead th {\n",
       "        text-align: right;\n",
       "    }\n",
       "</style>\n",
       "<table border=\"1\" class=\"dataframe\">\n",
       "  <thead>\n",
       "    <tr style=\"text-align: right;\">\n",
       "      <th></th>\n",
       "      <th>Id</th>\n",
       "      <th>SepalLengthCm</th>\n",
       "      <th>SepalWidthCm</th>\n",
       "      <th>PetalLengthCm</th>\n",
       "      <th>PetalWidthCm</th>\n",
       "    </tr>\n",
       "  </thead>\n",
       "  <tbody>\n",
       "    <tr>\n",
       "      <th>0</th>\n",
       "      <td>1</td>\n",
       "      <td>5.1</td>\n",
       "      <td>3.5</td>\n",
       "      <td>1.4</td>\n",
       "      <td>0.2</td>\n",
       "    </tr>\n",
       "    <tr>\n",
       "      <th>1</th>\n",
       "      <td>2</td>\n",
       "      <td>4.9</td>\n",
       "      <td>3.0</td>\n",
       "      <td>1.4</td>\n",
       "      <td>0.2</td>\n",
       "    </tr>\n",
       "    <tr>\n",
       "      <th>2</th>\n",
       "      <td>3</td>\n",
       "      <td>4.7</td>\n",
       "      <td>3.2</td>\n",
       "      <td>1.3</td>\n",
       "      <td>0.2</td>\n",
       "    </tr>\n",
       "    <tr>\n",
       "      <th>3</th>\n",
       "      <td>4</td>\n",
       "      <td>4.6</td>\n",
       "      <td>3.1</td>\n",
       "      <td>1.5</td>\n",
       "      <td>0.2</td>\n",
       "    </tr>\n",
       "    <tr>\n",
       "      <th>4</th>\n",
       "      <td>5</td>\n",
       "      <td>5.0</td>\n",
       "      <td>3.6</td>\n",
       "      <td>1.4</td>\n",
       "      <td>0.2</td>\n",
       "    </tr>\n",
       "    <tr>\n",
       "      <th>...</th>\n",
       "      <td>...</td>\n",
       "      <td>...</td>\n",
       "      <td>...</td>\n",
       "      <td>...</td>\n",
       "      <td>...</td>\n",
       "    </tr>\n",
       "    <tr>\n",
       "      <th>145</th>\n",
       "      <td>146</td>\n",
       "      <td>6.7</td>\n",
       "      <td>3.0</td>\n",
       "      <td>5.2</td>\n",
       "      <td>2.3</td>\n",
       "    </tr>\n",
       "    <tr>\n",
       "      <th>146</th>\n",
       "      <td>147</td>\n",
       "      <td>6.3</td>\n",
       "      <td>2.5</td>\n",
       "      <td>5.0</td>\n",
       "      <td>1.9</td>\n",
       "    </tr>\n",
       "    <tr>\n",
       "      <th>147</th>\n",
       "      <td>148</td>\n",
       "      <td>6.5</td>\n",
       "      <td>3.0</td>\n",
       "      <td>5.2</td>\n",
       "      <td>2.0</td>\n",
       "    </tr>\n",
       "    <tr>\n",
       "      <th>148</th>\n",
       "      <td>149</td>\n",
       "      <td>6.2</td>\n",
       "      <td>3.4</td>\n",
       "      <td>5.4</td>\n",
       "      <td>2.3</td>\n",
       "    </tr>\n",
       "    <tr>\n",
       "      <th>149</th>\n",
       "      <td>150</td>\n",
       "      <td>5.9</td>\n",
       "      <td>3.0</td>\n",
       "      <td>5.1</td>\n",
       "      <td>1.8</td>\n",
       "    </tr>\n",
       "  </tbody>\n",
       "</table>\n",
       "<p>150 rows × 5 columns</p>\n",
       "</div>"
      ],
      "text/plain": [
       "      Id  SepalLengthCm  SepalWidthCm  PetalLengthCm  PetalWidthCm\n",
       "0      1            5.1           3.5            1.4           0.2\n",
       "1      2            4.9           3.0            1.4           0.2\n",
       "2      3            4.7           3.2            1.3           0.2\n",
       "3      4            4.6           3.1            1.5           0.2\n",
       "4      5            5.0           3.6            1.4           0.2\n",
       "..   ...            ...           ...            ...           ...\n",
       "145  146            6.7           3.0            5.2           2.3\n",
       "146  147            6.3           2.5            5.0           1.9\n",
       "147  148            6.5           3.0            5.2           2.0\n",
       "148  149            6.2           3.4            5.4           2.3\n",
       "149  150            5.9           3.0            5.1           1.8\n",
       "\n",
       "[150 rows x 5 columns]"
      ]
     },
     "execution_count": 6,
     "metadata": {},
     "output_type": "execute_result"
    }
   ],
   "outputs_reference": "s3:deepnote-cell-outputs-production/2d785444-ff9f-4bbe-b497-c161fead5692",
   "source": [
    "df_iris_lof = pd.read_csv('Iris.csv')\n",
    "jumlah_baris = df_iris_lof.shape[0]\n",
    "df_iris_lof.head(jumlah_baris)"
   ]
  },
  {
   "block_group": "0bd726dc2f224eca9dc1f0367e45e223",
   "cell_type": "markdown",
   "metadata": {
    "cell_id": "0b917342548647219fbd09a8f786d8a6",
    "deepnote_cell_type": "text-cell-p",
    "formattedRanges": []
   },
   "source": [
    "Menghitung LOF scores menggunakan fungsi local_outlier_factor dengan k=3. LOF scores dicetak dalam urutan dari tertinggi ke terendah menggunakan indeks yang telah diurutkan sebelumnya."
   ]
  },
  {
   "block_group": "dc8838c27a2041ac938f3d1b31ab03fa",
   "cell_type": "code",
   "execution_count": null,
   "metadata": {
    "cell_id": "785392f7668b411d8cc3d881d7811329",
    "deepnote_cell_type": "code",
    "deepnote_to_be_reexecuted": false,
    "execution_millis": 163,
    "execution_start": 1710989491110,
    "source_hash": null
   },
   "outputs": [
    {
     "name": "stdout",
     "output_type": "stream",
     "text": [
      "LOF Scores:\n",
      "Data ke-41: 19.023718652562188\n",
      "Data ke-109: 16.50559866217956\n",
      "Data ke-108: 16.04056901665261\n",
      "Data ke-59: 15.650812622283965\n",
      "Data ke-62: 15.265946165631693\n",
      "Data ke-22: 15.026742668354983\n",
      "Data ke-24: 14.500700857612284\n",
      "Data ke-134: 14.451750825389398\n",
      "Data ke-114: 13.619099318935724\n",
      "Data ke-35: 13.442676514570264\n",
      "Data ke-79: 13.403515282176606\n",
      "Data ke-61: 13.180857782245319\n",
      "Data ke-106: 13.02201683393086\n",
      "Data ke-10: 12.486832980505126\n",
      "Data ke-31: 12.363961030678913\n",
      "Data ke-20: 12.363961030678912\n",
      "Data ke-8: 11.9274606530819\n",
      "Data ke-100: 11.872983346207418\n",
      "Data ke-119: 11.646920305474703\n",
      "Data ke-11: 11.285812899640229\n",
      "Data ke-16: 11.269121987253232\n",
      "Data ke-64: 11.233203188539488\n",
      "Data ke-2: 11.182307663356804\n",
      "Data ke-13: 11.175784907158699\n",
      "Data ke-131: 11.16102938963454\n",
      "Data ke-87: 11.022715274296472\n",
      "Data ke-48: 10.743416490252553\n",
      "Data ke-44: 10.700280980621855\n",
      "Data ke-94: 10.65584873355515\n",
      "Data ke-73: 10.651980729807716\n",
      "Data ke-117: 10.616435859600548\n",
      "Data ke-149: 10.576097677963084\n",
      "Data ke-84: 10.519354967599046\n",
      "Data ke-85: 10.498986518566015\n",
      "Data ke-6: 10.495697034383248\n",
      "Data ke-15: 10.38831424174354\n",
      "Data ke-53: 10.372879021141353\n",
      "Data ke-18: 10.335050744015323\n",
      "Data ke-90: 10.242640687119284\n",
      "Data ke-14: 10.22963613349191\n",
      "Data ke-68: 10.19693286757476\n",
      "Data ke-70: 10.187317331482861\n",
      "Data ke-82: 10.18252151701194\n",
      "Data ke-121: 10.171371656006357\n",
      "Data ke-77: 10.167755105520722\n",
      "Data ke-76: 10.153835658271314\n",
      "Data ke-49: 10.092397688194199\n",
      "Data ke-83: 10.088310863215483\n",
      "Data ke-65: 10.061057209066718\n",
      "Data ke-54: 10.061057209066714\n",
      "Data ke-102: 10.033657452711369\n",
      "Data ke-71: 10.015555001603147\n",
      "Data ke-60: 9.969165656522033\n",
      "Data ke-45: 9.961784343046833\n",
      "Data ke-146: 9.897272501841025\n",
      "Data ke-129: 9.875801177477285\n",
      "Data ke-4: 9.836326148038886\n",
      "Data ke-40: 9.836326148038882\n",
      "Data ke-32: 9.790964688275322\n",
      "Data ke-105: 9.77857781524674\n",
      "Data ke-72: 9.755505752481287\n",
      "Data ke-112: 9.732820909466373\n",
      "Data ke-81: 9.728101983199203\n",
      "Data ke-135: 9.690980845043775\n",
      "Data ke-111: 9.62570849323837\n",
      "Data ke-5: 9.60765051854592\n",
      "Data ke-130: 9.537835742087562\n",
      "Data ke-36: 9.516379626418058\n",
      "Data ke-21: 9.491958430170918\n",
      "Data ke-46: 9.491958430170918\n",
      "Data ke-144: 9.450183274387932\n",
      "Data ke-97: 9.433860398391937\n",
      "Data ke-67: 9.419768691865885\n",
      "Data ke-118: 9.415500513693216\n",
      "Data ke-136: 9.389141450727324\n",
      "Data ke-42: 9.377560402613609\n",
      "Data ke-124: 9.36660026534075\n",
      "Data ke-143: 9.36660026534075\n",
      "Data ke-50: 9.353535830992639\n",
      "Data ke-51: 9.321511943924088\n",
      "Data ke-56: 9.258481837577188\n",
      "Data ke-78: 9.247816103212841\n",
      "Data ke-88: 9.195459231495144\n",
      "Data ke-95: 9.195459231495144\n",
      "Data ke-115: 9.172497056479001\n",
      "Data ke-23: 9.163273128352325\n",
      "Data ke-43: 9.163273128352325\n",
      "Data ke-139: 9.08056936978121\n",
      "Data ke-110: 9.076060623378602\n",
      "Data ke-86: 9.05785872428289\n",
      "Data ke-99: 9.054606202486994\n",
      "Data ke-104: 9.052209779853348\n",
      "Data ke-128: 9.052209779853348\n",
      "Data ke-69: 9.019930512355668\n",
      "Data ke-141: 9.000000000000005\n",
      "Data ke-29: 9.0\n",
      "Data ke-101: 9.0\n",
      "Data ke-103: 9.0\n",
      "Data ke-113: 9.0\n",
      "Data ke-137: 9.0\n",
      "Data ke-142: 9.0\n",
      "Data ke-116: 8.999999999999998\n",
      "Data ke-133: 8.999999999999996\n",
      "Data ke-107: 8.978320870804868\n",
      "Data ke-145: 8.964166185613765\n",
      "Data ke-33: 8.930181027301018\n",
      "Data ke-132: 8.897366596101028\n",
      "Data ke-98: 8.890020006517451\n",
      "Data ke-57: 8.890020006517448\n",
      "Data ke-127: 8.86842002719836\n",
      "Data ke-7: 8.857738033247042\n",
      "Data ke-89: 8.85773803324704\n",
      "Data ke-147: 8.8516401995451\n",
      "Data ke-63: 8.843672022573204\n",
      "Data ke-123: 8.836832573067896\n",
      "Data ke-92: 8.796304817900173\n",
      "Data ke-27: 8.790918462990291\n",
      "Data ke-28: 8.790918462990291\n",
      "Data ke-125: 8.78701978081554\n",
      "Data ke-3: 8.785765234514258\n",
      "Data ke-55: 8.767081998864017\n",
      "Data ke-74: 8.761058247120653\n",
      "Data ke-52: 8.749501493838103\n",
      "Data ke-66: 8.747095643047416\n",
      "Data ke-93: 8.746115340069146\n",
      "Data ke-120: 8.73203473998218\n",
      "Data ke-140: 8.70624659990988\n",
      "Data ke-138: 8.699468373994518\n",
      "Data ke-26: 8.690308509457033\n",
      "Data ke-38: 8.648090636666392\n",
      "Data ke-0: 8.632993161855454\n",
      "Data ke-17: 8.63299316185545\n",
      "Data ke-39: 8.581836925980566\n",
      "Data ke-148: 8.577570517071585\n",
      "Data ke-126: 8.551363749079492\n",
      "Data ke-58: 8.549193338482969\n",
      "Data ke-75: 8.549193338482965\n",
      "Data ke-1: 8.544329304277966\n",
      "Data ke-122: 8.533156497275886\n",
      "Data ke-47: 8.515167193676994\n",
      "Data ke-91: 8.413562937172156\n",
      "Data ke-96: 8.383954495063362\n",
      "Data ke-80: 8.36770400140172\n",
      "Data ke-19: 8.154700538379252\n",
      "Data ke-12: 6.02908209674733\n",
      "Data ke-30: 6.0\n",
      "Data ke-25: 3.0\n",
      "Data ke-9: 0.0\n",
      "Data ke-34: 0.0\n",
      "Data ke-37: 0.0\n"
     ]
    }
   ],
   "outputs_reference": "s3:deepnote-cell-outputs-production/b1af6f5e-271b-4a3d-b49f-4fa4caaecbb2",
   "source": [
    "# Ambil fitur-fitur yang digunakan\n",
    "X = df_iris_lof[['SepalLengthCm', 'SepalWidthCm', 'PetalLengthCm', 'PetalWidthCm']].values\n",
    "\n",
    "# Hitung LOF untuk data yang diberikan dengan k=3\n",
    "lof_scores = local_outlier_factor(X, k=3)\n",
    "\n",
    "# Urutkan LOF scores dari tertinggi ke terendah\n",
    "sorted_lof_indices = sorted(range(len(lof_scores)), key=lambda i: lof_scores[i], reverse=True)\n",
    "\n",
    "print(\"LOF Scores:\")\n",
    "for idx in sorted_lof_indices:\n",
    "    print(f\"Data ke-{idx}: {lof_scores[idx]}\")"
   ]
  },
  {
   "block_group": "7e9766d5f64a4e12999aa938b8884912",
   "cell_type": "markdown",
   "metadata": {
    "cell_id": "4340a78c3a3b42b7aaa51561a7d7bb36",
    "deepnote_cell_type": "text-cell-p",
    "formattedRanges": []
   },
   "source": [
    "Terakhir, dilakukan penentuan outlier berdasarkan ambang LOF tertentu. Outlier ditentukan sebagai titik-titik yang memiliki LOF score melebihi ambang tersebut. Titik-titik outlier tersebut kemudian dicetak bersama dengan LOF score mereka dalam urutan dari tertinggi ke terendah."
   ]
  },
  {
   "block_group": "e597d8d67e5b41448dac9699261726db",
   "cell_type": "code",
   "execution_count": null,
   "metadata": {
    "cell_id": "74eaa808cf6d42e4bc608744c93ee86a",
    "deepnote_cell_type": "code",
    "deepnote_to_be_reexecuted": false,
    "execution_millis": 71,
    "execution_start": 1710989518347,
    "source_hash": null
   },
   "outputs": [
    {
     "name": "stdout",
     "output_type": "stream",
     "text": [
      "Outlier Points (LOF Score > 14 ):\n",
      "Index: 41 - LOF Score: 19.023718652562188\n",
      "Index: 109 - LOF Score: 16.50559866217956\n",
      "Index: 108 - LOF Score: 16.04056901665261\n",
      "Index: 59 - LOF Score: 15.650812622283965\n",
      "Index: 62 - LOF Score: 15.265946165631693\n",
      "Index: 22 - LOF Score: 15.026742668354983\n",
      "Index: 24 - LOF Score: 14.500700857612284\n",
      "Index: 134 - LOF Score: 14.451750825389398\n"
     ]
    }
   ],
   "outputs_reference": "dbtable:cell_outputs/d91522b8-a4c6-4a67-a0ee-e7da50db19fb",
   "source": [
    "# Tentukan ambang LOF untuk menentukan outlier\n",
    "threshold = 14  # Misalnya, menggunakan ambang 14\n",
    "\n",
    "# Temukan indeks dari titik-titik yang dianggap sebagai outlier\n",
    "outlier_indices = np.where(lof_scores > threshold)[0]\n",
    "\n",
    "# Urutkan outlier berdasarkan LOF score dari tertinggi ke terendah\n",
    "sorted_outlier_indices = sorted(outlier_indices, key=lambda idx: lof_scores[idx], reverse=True)\n",
    "\n",
    "print(\"Outlier Points (LOF Score >\", threshold, \"):\")\n",
    "for idx in sorted_outlier_indices:\n",
    "    print(\"Index:\", idx, \"- LOF Score:\", lof_scores[idx])"
   ]
  },
  {
   "block_group": "f36ea1612c644a2b84407dd65ad1a220",
   "cell_type": "markdown",
   "metadata": {
    "cell_id": "70e3eb5331e941249344bae34cd6752d",
    "deepnote_cell_type": "text-cell-p",
    "formattedRanges": []
   },
   "source": [
    "Jadi, outlier points teratasnya adalah index 41, 109, 108, 59, 62, 22, 24, dan 134."
   ]
  },
  {
   "cell_type": "markdown",
   "metadata": {
    "created_in_deepnote_cell": true,
    "deepnote_cell_type": "markdown"
   },
   "source": [
    "<a style='text-decoration:none;line-height:16px;display:flex;color:#5B5B62;padding:10px;justify-content:end;' href='https://deepnote.com?utm_source=created-in-deepnote-cell&projectId=af6fec85-d9ab-42ab-a670-2539560136c5' target=\"_blank\">\n",
    "<img alt='Created in deepnote.com' style='display:inline;max-height:16px;margin:0px;margin-right:7.5px;' src='data:image/svg+xml;base64,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' > </img>\n",
    "Created in <span style='font-weight:600;margin-left:4px;'>Deepnote</span></a>"
   ]
  }
 ],
 "metadata": {
  "deepnote_execution_queue": [],
  "deepnote_notebook_id": "cda861e8e8ec453da23fb10a5ca48e5d",
  "language_info": {
   "codemirror_mode": {
    "name": "ipython",
    "version": 3
   },
   "file_extension": ".py",
   "mimetype": "text/x-python",
   "name": "python",
   "nbconvert_exporter": "python",
   "pygments_lexer": "ipython3",
   "version": "3.9.12"
  }
 },
 "nbformat": 4,
 "nbformat_minor": 0
}