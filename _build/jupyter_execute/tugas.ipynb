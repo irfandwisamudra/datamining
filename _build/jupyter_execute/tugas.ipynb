{
 "cells": [
  {
   "block_group": "18e566dd17854a438d889a12b37845b0",
   "cell_type": "markdown",
   "metadata": {
    "cell_id": "8c152c6b950547b8b4093c978cc26bd3",
    "deepnote_cell_type": "text-cell-h1",
    "formattedRanges": []
   },
   "source": [
    "# Memahami Data (Data Understanding)"
   ]
  },
  {
   "block_group": "9843cc7696304d1bb9d5c9b246c5ccfb",
   "cell_type": "markdown",
   "metadata": {
    "cell_id": "6fa5f179ab1742e5a4250d931d2f9c05",
    "deepnote_cell_type": "text-cell-p",
    "formattedRanges": []
   },
   "source": [
    "Tahapan memahami data dimulai dengan mengumpulkan data awal dan dilanjutkan dengan dengan kegiatan-kegiatan untuk mendapatkan data yang lazim serta identifikasi data yang berkualitas, pemahaman data sangat diperlukan untuk mendeteksi bagian yang menarik dari data sehingga dapat membangun hipotesa terhadap informasi yang tersembunyi. Kali ini kita akan memahami data Iris. Iris adalah genus tumbuhan berbunga dalam famili Iridaceae yang dikenal karena keindahan bunga-bunganya."
   ]
  },
  {
   "block_group": "cbfdbca89c9a4dbd940bbc15ce64093e",
   "cell_type": "markdown",
   "metadata": {
    "cell_id": "ad7a0f6547424299a69f0701f09ec066",
    "deepnote_cell_type": "text-cell-h2",
    "formattedRanges": []
   },
   "source": [
    "## Pengumpulan Data Awal"
   ]
  },
  {
   "block_group": "87dbc0361d2e4ed38ed653f457043ed2",
   "cell_type": "markdown",
   "metadata": {
    "cell_id": "4e4692523ad4421d9d9a84166e77c101",
    "deepnote_cell_type": "text-cell-p",
    "formattedRanges": []
   },
   "source": [
    "Pada tahap pengumpulan data awal, umumnya membutuhkan data yang dapat diperoleh dari berbagai sumber. Di sini, kita sudah mendapatkan data Iris dari 2 sumber yaitu, MySQL dan PostgreSQL. Dikarenakan data yang didapat berasal dari 2 sumber yang berbeda, maka kita harus melakukan integrasi atau penyatuan data."
   ]
  },
  {
   "block_group": "c04b556296864d2aa9f6df9ae6384bcf",
   "cell_type": "markdown",
   "metadata": {
    "cell_id": "5a2d92f52f50440f89b306057c1617a0",
    "deepnote_cell_type": "text-cell-p",
    "formattedRanges": []
   },
   "source": [
    "Proses pengambilan data dari MySQL untuk disimpan sebagai DataFrame."
   ]
  },
  {
   "block_group": "1f396f9ad1d24e698a55f37b39feb5ee",
   "cell_type": "code",
   "execution_count": 1,
   "metadata": {
    "cell_id": "837c6de9ea2e429d91a78a31ddc18a78",
    "deepnote_cell_type": "sql",
    "deepnote_sql_source": "SELECT * FROM Iris;",
    "deepnote_to_be_reexecuted": false,
    "deepnote_variable_name": "df_1",
    "execution_millis": 3366,
    "execution_start": 1711538288747,
    "source_hash": null,
    "sql_integration_id": "09471b5a-652d-432f-b73d-65305a4929e6"
   },
   "outputs": [
    {
     "ename": "NameError",
     "evalue": "name '_deepnote_execute_sql' is not defined",
     "output_type": "error",
     "traceback": [
      "\u001b[1;31m---------------------------------------------------------------------------\u001b[0m",
      "\u001b[1;31mNameError\u001b[0m                                 Traceback (most recent call last)",
      "Cell \u001b[1;32mIn[1], line 1\u001b[0m\n\u001b[1;32m----> 1\u001b[0m df_1 \u001b[38;5;241m=\u001b[39m \u001b[43m_deepnote_execute_sql\u001b[49m(\u001b[38;5;124m'\u001b[39m\u001b[38;5;124mSELECT * FROM Iris;\u001b[39m\u001b[38;5;124m'\u001b[39m, \u001b[38;5;124m'\u001b[39m\u001b[38;5;124mSQL_09471B5A_652D_432F_B73D_65305A4929E6\u001b[39m\u001b[38;5;124m'\u001b[39m, audit_sql_comment\u001b[38;5;241m=\u001b[39m\u001b[38;5;124m'\u001b[39m\u001b[38;5;124m'\u001b[39m, sql_cache_mode\u001b[38;5;241m=\u001b[39m\u001b[38;5;124m'\u001b[39m\u001b[38;5;124mcache_disabled\u001b[39m\u001b[38;5;124m'\u001b[39m)\n\u001b[0;32m      2\u001b[0m df_1\n",
      "\u001b[1;31mNameError\u001b[0m: name '_deepnote_execute_sql' is not defined"
     ]
    }
   ],
   "outputs_reference": "s3:deepnote-cell-outputs-production/f4356796-7c7b-4b7c-a80e-44be88ea0982",
   "source": [
    "df_1 = _deepnote_execute_sql('SELECT * FROM Iris;', 'SQL_09471B5A_652D_432F_B73D_65305A4929E6', audit_sql_comment='', sql_cache_mode='cache_disabled')\n",
    "df_1"
   ]
  },
  {
   "block_group": "786212391a8e4996b8857f17ca1e0d7f",
   "cell_type": "markdown",
   "metadata": {
    "cell_id": "531c5969d8204dd5aaba93ca789a4a3e",
    "deepnote_cell_type": "text-cell-p",
    "formattedRanges": []
   },
   "source": [
    "Proses pengambilan data dari PostgreSQL untuk disimpan sebagai DataFrame."
   ]
  },
  {
   "block_group": "e17d3c17316f4032918144382f572f95",
   "cell_type": "code",
   "execution_count": null,
   "metadata": {
    "cell_id": "47cda7d15b894d71bbfc751c5bba41b6",
    "deepnote_cell_type": "sql",
    "deepnote_sql_source": "SELECT * FROM \"Iris\";",
    "deepnote_to_be_reexecuted": false,
    "deepnote_variable_name": "df_2",
    "execution_millis": 3913,
    "execution_start": 1711538292122,
    "source_hash": null,
    "sql_integration_id": "44ceac78-b576-4235-b8ae-3b3bd9a41b5d"
   },
   "outputs": [
    {
     "data": {
      "application/vnd.deepnote.sql-output-metadata+json": {
       "size_in_bytes": 3728,
       "status": "success_no_cache"
      }
     },
     "metadata": {},
     "output_type": "display_data"
    },
    {
     "data": {
      "application/vnd.deepnote.dataframe.v3+json": {
       "column_count": 3,
       "columns": [
        {
         "dtype": "int64",
         "name": "Id",
         "stats": {
          "histogram": [
           {
            "bin_end": 15.9,
            "bin_start": 1,
            "count": 15
           },
           {
            "bin_end": 30.8,
            "bin_start": 15.9,
            "count": 15
           },
           {
            "bin_end": 45.7,
            "bin_start": 30.8,
            "count": 15
           },
           {
            "bin_end": 60.6,
            "bin_start": 45.7,
            "count": 15
           },
           {
            "bin_end": 75.5,
            "bin_start": 60.6,
            "count": 15
           },
           {
            "bin_end": 90.4,
            "bin_start": 75.5,
            "count": 15
           },
           {
            "bin_end": 105.3,
            "bin_start": 90.4,
            "count": 15
           },
           {
            "bin_end": 120.2,
            "bin_start": 105.3,
            "count": 15
           },
           {
            "bin_end": 135.1,
            "bin_start": 120.2,
            "count": 15
           },
           {
            "bin_end": 150,
            "bin_start": 135.1,
            "count": 15
           }
          ],
          "max": "150",
          "min": "1",
          "nan_count": 0,
          "unique_count": 150
         }
        },
        {
         "dtype": "float64",
         "name": "PetalLengthCm",
         "stats": {
          "histogram": [
           {
            "bin_end": 1.59,
            "bin_start": 1,
            "count": 37
           },
           {
            "bin_end": 2.18,
            "bin_start": 1.59,
            "count": 13
           },
           {
            "bin_end": 2.7700000000000005,
            "bin_start": 2.18,
            "count": 0
           },
           {
            "bin_end": 3.3600000000000003,
            "bin_start": 2.7700000000000005,
            "count": 3
           },
           {
            "bin_end": 3.95,
            "bin_start": 3.3600000000000003,
            "count": 8
           },
           {
            "bin_end": 4.540000000000001,
            "bin_start": 3.95,
            "count": 26
           },
           {
            "bin_end": 5.130000000000001,
            "bin_start": 4.540000000000001,
            "count": 29
           },
           {
            "bin_end": 5.720000000000001,
            "bin_start": 5.130000000000001,
            "count": 18
           },
           {
            "bin_end": 6.3100000000000005,
            "bin_start": 5.720000000000001,
            "count": 11
           },
           {
            "bin_end": 6.9,
            "bin_start": 6.3100000000000005,
            "count": 5
           }
          ],
          "max": "6.9",
          "min": "1.0",
          "nan_count": 0,
          "unique_count": 43
         }
        },
        {
         "dtype": "float64",
         "name": "PetalWidthCm",
         "stats": {
          "histogram": [
           {
            "bin_end": 0.33999999999999997,
            "bin_start": 0.1,
            "count": 41
           },
           {
            "bin_end": 0.58,
            "bin_start": 0.33999999999999997,
            "count": 8
           },
           {
            "bin_end": 0.82,
            "bin_start": 0.58,
            "count": 1
           },
           {
            "bin_end": 1.06,
            "bin_start": 0.82,
            "count": 7
           },
           {
            "bin_end": 1.3,
            "bin_start": 1.06,
            "count": 8
           },
           {
            "bin_end": 1.54,
            "bin_start": 1.3,
            "count": 33
           },
           {
            "bin_end": 1.78,
            "bin_start": 1.54,
            "count": 6
           },
           {
            "bin_end": 2.02,
            "bin_start": 1.78,
            "count": 23
           },
           {
            "bin_end": 2.2600000000000002,
            "bin_start": 2.02,
            "count": 9
           },
           {
            "bin_end": 2.5,
            "bin_start": 2.2600000000000002,
            "count": 14
           }
          ],
          "max": "2.5",
          "min": "0.1",
          "nan_count": 0,
          "unique_count": 22
         }
        },
        {
         "dtype": "int64",
         "name": "_deepnote_index_column"
        }
       ],
       "row_count": 150,
       "rows": [
        {
         "Id": 1,
         "PetalLengthCm": 1.4,
         "PetalWidthCm": 0.2,
         "_deepnote_index_column": 0
        },
        {
         "Id": 2,
         "PetalLengthCm": 1.4,
         "PetalWidthCm": 0.2,
         "_deepnote_index_column": 1
        },
        {
         "Id": 3,
         "PetalLengthCm": 1.3,
         "PetalWidthCm": 0.2,
         "_deepnote_index_column": 2
        },
        {
         "Id": 4,
         "PetalLengthCm": 1.5,
         "PetalWidthCm": 0.2,
         "_deepnote_index_column": 3
        },
        {
         "Id": 5,
         "PetalLengthCm": 1.4,
         "PetalWidthCm": 0.2,
         "_deepnote_index_column": 4
        },
        {
         "Id": 6,
         "PetalLengthCm": 1.7,
         "PetalWidthCm": 0.4,
         "_deepnote_index_column": 5
        },
        {
         "Id": 7,
         "PetalLengthCm": 1.4,
         "PetalWidthCm": 0.3,
         "_deepnote_index_column": 6
        },
        {
         "Id": 8,
         "PetalLengthCm": 1.5,
         "PetalWidthCm": 0.2,
         "_deepnote_index_column": 7
        },
        {
         "Id": 9,
         "PetalLengthCm": 1.4,
         "PetalWidthCm": 0.2,
         "_deepnote_index_column": 8
        },
        {
         "Id": 10,
         "PetalLengthCm": 1.5,
         "PetalWidthCm": 0.1,
         "_deepnote_index_column": 9
        }
       ]
      },
      "text/html": [
       "<div>\n",
       "<style scoped>\n",
       "    .dataframe tbody tr th:only-of-type {\n",
       "        vertical-align: middle;\n",
       "    }\n",
       "\n",
       "    .dataframe tbody tr th {\n",
       "        vertical-align: top;\n",
       "    }\n",
       "\n",
       "    .dataframe thead th {\n",
       "        text-align: right;\n",
       "    }\n",
       "</style>\n",
       "<table border=\"1\" class=\"dataframe\">\n",
       "  <thead>\n",
       "    <tr style=\"text-align: right;\">\n",
       "      <th></th>\n",
       "      <th>Id</th>\n",
       "      <th>PetalLengthCm</th>\n",
       "      <th>PetalWidthCm</th>\n",
       "    </tr>\n",
       "  </thead>\n",
       "  <tbody>\n",
       "    <tr>\n",
       "      <th>0</th>\n",
       "      <td>1</td>\n",
       "      <td>1.4</td>\n",
       "      <td>0.2</td>\n",
       "    </tr>\n",
       "    <tr>\n",
       "      <th>1</th>\n",
       "      <td>2</td>\n",
       "      <td>1.4</td>\n",
       "      <td>0.2</td>\n",
       "    </tr>\n",
       "    <tr>\n",
       "      <th>2</th>\n",
       "      <td>3</td>\n",
       "      <td>1.3</td>\n",
       "      <td>0.2</td>\n",
       "    </tr>\n",
       "    <tr>\n",
       "      <th>3</th>\n",
       "      <td>4</td>\n",
       "      <td>1.5</td>\n",
       "      <td>0.2</td>\n",
       "    </tr>\n",
       "    <tr>\n",
       "      <th>4</th>\n",
       "      <td>5</td>\n",
       "      <td>1.4</td>\n",
       "      <td>0.2</td>\n",
       "    </tr>\n",
       "    <tr>\n",
       "      <th>...</th>\n",
       "      <td>...</td>\n",
       "      <td>...</td>\n",
       "      <td>...</td>\n",
       "    </tr>\n",
       "    <tr>\n",
       "      <th>145</th>\n",
       "      <td>146</td>\n",
       "      <td>5.2</td>\n",
       "      <td>2.3</td>\n",
       "    </tr>\n",
       "    <tr>\n",
       "      <th>146</th>\n",
       "      <td>147</td>\n",
       "      <td>5.0</td>\n",
       "      <td>1.9</td>\n",
       "    </tr>\n",
       "    <tr>\n",
       "      <th>147</th>\n",
       "      <td>148</td>\n",
       "      <td>5.2</td>\n",
       "      <td>2.0</td>\n",
       "    </tr>\n",
       "    <tr>\n",
       "      <th>148</th>\n",
       "      <td>149</td>\n",
       "      <td>5.4</td>\n",
       "      <td>2.3</td>\n",
       "    </tr>\n",
       "    <tr>\n",
       "      <th>149</th>\n",
       "      <td>150</td>\n",
       "      <td>5.1</td>\n",
       "      <td>1.8</td>\n",
       "    </tr>\n",
       "  </tbody>\n",
       "</table>\n",
       "<p>150 rows × 3 columns</p>\n",
       "</div>"
      ],
      "text/plain": [
       "      Id  PetalLengthCm  PetalWidthCm\n",
       "0      1            1.4           0.2\n",
       "1      2            1.4           0.2\n",
       "2      3            1.3           0.2\n",
       "3      4            1.5           0.2\n",
       "4      5            1.4           0.2\n",
       "..   ...            ...           ...\n",
       "145  146            5.2           2.3\n",
       "146  147            5.0           1.9\n",
       "147  148            5.2           2.0\n",
       "148  149            5.4           2.3\n",
       "149  150            5.1           1.8\n",
       "\n",
       "[150 rows x 3 columns]"
      ]
     },
     "execution_count": 2,
     "metadata": {},
     "output_type": "execute_result"
    }
   ],
   "outputs_reference": "s3:deepnote-cell-outputs-production/20ff3202-61de-4216-9dd6-b37dabd04097",
   "source": [
    "df_2 = _deepnote_execute_sql('SELECT * FROM \"Iris\";', 'SQL_44CEAC78_B576_4235_B8AE_3B3BD9A41B5D', audit_sql_comment='', sql_cache_mode='cache_disabled')\n",
    "df_2"
   ]
  },
  {
   "block_group": "3cb7a6e6be3f4f10aa4ea8e71ff55a78",
   "cell_type": "markdown",
   "metadata": {
    "cell_id": "1361186497c840b2b167b3cc03358543",
    "deepnote_cell_type": "text-cell-p",
    "formattedRanges": []
   },
   "source": [
    "Import library yang dibutuhkan untuk manipulasi data pada python."
   ]
  },
  {
   "block_group": "d479cc1f0dc4445bb66231e74a035a8b",
   "cell_type": "code",
   "execution_count": null,
   "metadata": {
    "cell_id": "e7b9738abe224d599dbf8829cdcf22df",
    "deepnote_cell_type": "code",
    "deepnote_to_be_reexecuted": false,
    "execution_millis": 258,
    "execution_start": 1711538296039,
    "source_hash": null
   },
   "outputs": [],
   "outputs_reference": null,
   "source": [
    "import pandas as pd"
   ]
  },
  {
   "block_group": "2fa22492fc3f4a638bac8308d3072a1a",
   "cell_type": "markdown",
   "metadata": {
    "cell_id": "e22b6dd6e2194fa2975c390186e8eb8e",
    "deepnote_cell_type": "text-cell-p",
    "formattedRanges": []
   },
   "source": [
    "Proses penyatuan data dari 2 sumber database berbeda."
   ]
  },
  {
   "block_group": "56d5c4db75f84f1f8ca894d2b472e07c",
   "cell_type": "code",
   "execution_count": null,
   "metadata": {
    "cell_id": "4bfe57d5270d45a28653677ddb62613d",
    "deepnote_cell_type": "code",
    "deepnote_to_be_reexecuted": false,
    "execution_millis": 231,
    "execution_start": 1711538296067,
    "source_hash": null
   },
   "outputs": [
    {
     "data": {
      "application/vnd.deepnote.dataframe.v3+json": {
       "column_count": 6,
       "columns": [
        {
         "dtype": "int64",
         "name": "Id",
         "stats": {
          "histogram": [
           {
            "bin_end": 15.9,
            "bin_start": 1,
            "count": 15
           },
           {
            "bin_end": 30.8,
            "bin_start": 15.9,
            "count": 15
           },
           {
            "bin_end": 45.7,
            "bin_start": 30.8,
            "count": 15
           },
           {
            "bin_end": 60.6,
            "bin_start": 45.7,
            "count": 15
           },
           {
            "bin_end": 75.5,
            "bin_start": 60.6,
            "count": 15
           },
           {
            "bin_end": 90.4,
            "bin_start": 75.5,
            "count": 15
           },
           {
            "bin_end": 105.3,
            "bin_start": 90.4,
            "count": 15
           },
           {
            "bin_end": 120.2,
            "bin_start": 105.3,
            "count": 15
           },
           {
            "bin_end": 135.1,
            "bin_start": 120.2,
            "count": 15
           },
           {
            "bin_end": 150,
            "bin_start": 135.1,
            "count": 15
           }
          ],
          "max": "150",
          "min": "1",
          "nan_count": 0,
          "unique_count": 150
         }
        },
        {
         "dtype": "float64",
         "name": "SepalLengthCm",
         "stats": {
          "histogram": [
           {
            "bin_end": 4.66,
            "bin_start": 4.3,
            "count": 8
           },
           {
            "bin_end": 5.02,
            "bin_start": 4.66,
            "count": 22
           },
           {
            "bin_end": 5.38,
            "bin_start": 5.02,
            "count": 14
           },
           {
            "bin_end": 5.74,
            "bin_start": 5.38,
            "count": 27
           },
           {
            "bin_end": 6.1,
            "bin_start": 5.74,
            "count": 16
           },
           {
            "bin_end": 6.46,
            "bin_start": 6.1,
            "count": 24
           },
           {
            "bin_end": 6.82,
            "bin_start": 6.46,
            "count": 18
           },
           {
            "bin_end": 7.18,
            "bin_start": 6.82,
            "count": 5
           },
           {
            "bin_end": 7.54,
            "bin_start": 7.18,
            "count": 5
           },
           {
            "bin_end": 7.9,
            "bin_start": 7.54,
            "count": 6
           }
          ],
          "max": "7.9",
          "min": "4.3",
          "nan_count": 5,
          "unique_count": 34
         }
        },
        {
         "dtype": "float64",
         "name": "SepalWidthCm",
         "stats": {
          "histogram": [
           {
            "bin_end": 2.24,
            "bin_start": 2,
            "count": 4
           },
           {
            "bin_end": 2.48,
            "bin_start": 2.24,
            "count": 7
           },
           {
            "bin_end": 2.72,
            "bin_start": 2.48,
            "count": 22
           },
           {
            "bin_end": 2.96,
            "bin_start": 2.72,
            "count": 24
           },
           {
            "bin_end": 3.2,
            "bin_start": 2.96,
            "count": 38
           },
           {
            "bin_end": 3.4400000000000004,
            "bin_start": 3.2,
            "count": 31
           },
           {
            "bin_end": 3.6800000000000006,
            "bin_start": 3.4400000000000004,
            "count": 9
           },
           {
            "bin_end": 3.9200000000000004,
            "bin_start": 3.6800000000000006,
            "count": 11
           },
           {
            "bin_end": 4.16,
            "bin_start": 3.9200000000000004,
            "count": 2
           },
           {
            "bin_end": 4.4,
            "bin_start": 4.16,
            "count": 2
           }
          ],
          "max": "4.4",
          "min": "2.0",
          "nan_count": 0,
          "unique_count": 23
         }
        },
        {
         "dtype": "object",
         "name": "Species",
         "stats": {
          "categories": [
           {
            "count": 50,
            "name": "Iris-virginica"
           },
           {
            "count": 98,
            "name": "2 others"
           },
           {
            "count": 2,
            "name": "Missing"
           }
          ],
          "nan_count": 2,
          "unique_count": 3
         }
        },
        {
         "dtype": "float64",
         "name": "PetalLengthCm",
         "stats": {
          "histogram": [
           {
            "bin_end": 1.59,
            "bin_start": 1,
            "count": 37
           },
           {
            "bin_end": 2.18,
            "bin_start": 1.59,
            "count": 13
           },
           {
            "bin_end": 2.7700000000000005,
            "bin_start": 2.18,
            "count": 0
           },
           {
            "bin_end": 3.3600000000000003,
            "bin_start": 2.7700000000000005,
            "count": 3
           },
           {
            "bin_end": 3.95,
            "bin_start": 3.3600000000000003,
            "count": 8
           },
           {
            "bin_end": 4.540000000000001,
            "bin_start": 3.95,
            "count": 26
           },
           {
            "bin_end": 5.130000000000001,
            "bin_start": 4.540000000000001,
            "count": 29
           },
           {
            "bin_end": 5.720000000000001,
            "bin_start": 5.130000000000001,
            "count": 18
           },
           {
            "bin_end": 6.3100000000000005,
            "bin_start": 5.720000000000001,
            "count": 11
           },
           {
            "bin_end": 6.9,
            "bin_start": 6.3100000000000005,
            "count": 5
           }
          ],
          "max": "6.9",
          "min": "1.0",
          "nan_count": 0,
          "unique_count": 43
         }
        },
        {
         "dtype": "float64",
         "name": "PetalWidthCm",
         "stats": {
          "histogram": [
           {
            "bin_end": 0.33999999999999997,
            "bin_start": 0.1,
            "count": 41
           },
           {
            "bin_end": 0.58,
            "bin_start": 0.33999999999999997,
            "count": 8
           },
           {
            "bin_end": 0.82,
            "bin_start": 0.58,
            "count": 1
           },
           {
            "bin_end": 1.06,
            "bin_start": 0.82,
            "count": 7
           },
           {
            "bin_end": 1.3,
            "bin_start": 1.06,
            "count": 8
           },
           {
            "bin_end": 1.54,
            "bin_start": 1.3,
            "count": 33
           },
           {
            "bin_end": 1.78,
            "bin_start": 1.54,
            "count": 6
           },
           {
            "bin_end": 2.02,
            "bin_start": 1.78,
            "count": 23
           },
           {
            "bin_end": 2.2600000000000002,
            "bin_start": 2.02,
            "count": 9
           },
           {
            "bin_end": 2.5,
            "bin_start": 2.2600000000000002,
            "count": 14
           }
          ],
          "max": "2.5",
          "min": "0.1",
          "nan_count": 0,
          "unique_count": 22
         }
        },
        {
         "dtype": "int64",
         "name": "_deepnote_index_column"
        }
       ],
       "row_count": 150,
       "rows": [
        {
         "Id": 1,
         "PetalLengthCm": 1.4,
         "PetalWidthCm": 0.2,
         "SepalLengthCm": 5.1,
         "SepalWidthCm": 3.5,
         "Species": "Iris-setosa",
         "_deepnote_index_column": 0
        },
        {
         "Id": 2,
         "PetalLengthCm": 1.4,
         "PetalWidthCm": 0.2,
         "SepalLengthCm": 4.9,
         "SepalWidthCm": 3,
         "Species": "Iris-setosa",
         "_deepnote_index_column": 1
        },
        {
         "Id": 3,
         "PetalLengthCm": 1.3,
         "PetalWidthCm": 0.2,
         "SepalLengthCm": "nan",
         "SepalWidthCm": 3.2,
         "Species": "Iris-setosa",
         "_deepnote_index_column": 2
        },
        {
         "Id": 4,
         "PetalLengthCm": 1.5,
         "PetalWidthCm": 0.2,
         "SepalLengthCm": 4.6,
         "SepalWidthCm": 3.1,
         "Species": "Iris-setosa",
         "_deepnote_index_column": 3
        },
        {
         "Id": 5,
         "PetalLengthCm": 1.4,
         "PetalWidthCm": 0.2,
         "SepalLengthCm": 5,
         "SepalWidthCm": 3.6,
         "Species": "Iris-setosa",
         "_deepnote_index_column": 4
        },
        {
         "Id": 6,
         "PetalLengthCm": 1.7,
         "PetalWidthCm": 0.4,
         "SepalLengthCm": 5.4,
         "SepalWidthCm": 3.9,
         "Species": "Iris-setosa",
         "_deepnote_index_column": 5
        },
        {
         "Id": 7,
         "PetalLengthCm": 1.4,
         "PetalWidthCm": 0.3,
         "SepalLengthCm": "nan",
         "SepalWidthCm": 3.4,
         "Species": "None",
         "_deepnote_index_column": 6
        },
        {
         "Id": 8,
         "PetalLengthCm": 1.5,
         "PetalWidthCm": 0.2,
         "SepalLengthCm": 5,
         "SepalWidthCm": 3.4,
         "Species": "Iris-setosa",
         "_deepnote_index_column": 7
        },
        {
         "Id": 9,
         "PetalLengthCm": 1.4,
         "PetalWidthCm": 0.2,
         "SepalLengthCm": 4.4,
         "SepalWidthCm": 2.9,
         "Species": "Iris-setosa",
         "_deepnote_index_column": 8
        },
        {
         "Id": 10,
         "PetalLengthCm": 1.5,
         "PetalWidthCm": 0.1,
         "SepalLengthCm": 4.9,
         "SepalWidthCm": 3.1,
         "Species": "Iris-setosa",
         "_deepnote_index_column": 9
        }
       ]
      },
      "text/html": [
       "<div>\n",
       "<style scoped>\n",
       "    .dataframe tbody tr th:only-of-type {\n",
       "        vertical-align: middle;\n",
       "    }\n",
       "\n",
       "    .dataframe tbody tr th {\n",
       "        vertical-align: top;\n",
       "    }\n",
       "\n",
       "    .dataframe thead th {\n",
       "        text-align: right;\n",
       "    }\n",
       "</style>\n",
       "<table border=\"1\" class=\"dataframe\">\n",
       "  <thead>\n",
       "    <tr style=\"text-align: right;\">\n",
       "      <th></th>\n",
       "      <th>Id</th>\n",
       "      <th>SepalLengthCm</th>\n",
       "      <th>SepalWidthCm</th>\n",
       "      <th>Species</th>\n",
       "      <th>PetalLengthCm</th>\n",
       "      <th>PetalWidthCm</th>\n",
       "    </tr>\n",
       "  </thead>\n",
       "  <tbody>\n",
       "    <tr>\n",
       "      <th>0</th>\n",
       "      <td>1</td>\n",
       "      <td>5.1</td>\n",
       "      <td>3.5</td>\n",
       "      <td>Iris-setosa</td>\n",
       "      <td>1.4</td>\n",
       "      <td>0.2</td>\n",
       "    </tr>\n",
       "    <tr>\n",
       "      <th>1</th>\n",
       "      <td>2</td>\n",
       "      <td>4.9</td>\n",
       "      <td>3.0</td>\n",
       "      <td>Iris-setosa</td>\n",
       "      <td>1.4</td>\n",
       "      <td>0.2</td>\n",
       "    </tr>\n",
       "    <tr>\n",
       "      <th>2</th>\n",
       "      <td>3</td>\n",
       "      <td>NaN</td>\n",
       "      <td>3.2</td>\n",
       "      <td>Iris-setosa</td>\n",
       "      <td>1.3</td>\n",
       "      <td>0.2</td>\n",
       "    </tr>\n",
       "    <tr>\n",
       "      <th>3</th>\n",
       "      <td>4</td>\n",
       "      <td>4.6</td>\n",
       "      <td>3.1</td>\n",
       "      <td>Iris-setosa</td>\n",
       "      <td>1.5</td>\n",
       "      <td>0.2</td>\n",
       "    </tr>\n",
       "    <tr>\n",
       "      <th>4</th>\n",
       "      <td>5</td>\n",
       "      <td>5.0</td>\n",
       "      <td>3.6</td>\n",
       "      <td>Iris-setosa</td>\n",
       "      <td>1.4</td>\n",
       "      <td>0.2</td>\n",
       "    </tr>\n",
       "    <tr>\n",
       "      <th>...</th>\n",
       "      <td>...</td>\n",
       "      <td>...</td>\n",
       "      <td>...</td>\n",
       "      <td>...</td>\n",
       "      <td>...</td>\n",
       "      <td>...</td>\n",
       "    </tr>\n",
       "    <tr>\n",
       "      <th>145</th>\n",
       "      <td>146</td>\n",
       "      <td>6.7</td>\n",
       "      <td>3.0</td>\n",
       "      <td>Iris-virginica</td>\n",
       "      <td>5.2</td>\n",
       "      <td>2.3</td>\n",
       "    </tr>\n",
       "    <tr>\n",
       "      <th>146</th>\n",
       "      <td>147</td>\n",
       "      <td>6.3</td>\n",
       "      <td>2.5</td>\n",
       "      <td>Iris-virginica</td>\n",
       "      <td>5.0</td>\n",
       "      <td>1.9</td>\n",
       "    </tr>\n",
       "    <tr>\n",
       "      <th>147</th>\n",
       "      <td>148</td>\n",
       "      <td>6.5</td>\n",
       "      <td>3.0</td>\n",
       "      <td>Iris-virginica</td>\n",
       "      <td>5.2</td>\n",
       "      <td>2.0</td>\n",
       "    </tr>\n",
       "    <tr>\n",
       "      <th>148</th>\n",
       "      <td>149</td>\n",
       "      <td>6.2</td>\n",
       "      <td>3.4</td>\n",
       "      <td>Iris-virginica</td>\n",
       "      <td>5.4</td>\n",
       "      <td>2.3</td>\n",
       "    </tr>\n",
       "    <tr>\n",
       "      <th>149</th>\n",
       "      <td>150</td>\n",
       "      <td>5.9</td>\n",
       "      <td>3.0</td>\n",
       "      <td>Iris-virginica</td>\n",
       "      <td>5.1</td>\n",
       "      <td>1.8</td>\n",
       "    </tr>\n",
       "  </tbody>\n",
       "</table>\n",
       "<p>150 rows × 6 columns</p>\n",
       "</div>"
      ],
      "text/plain": [
       "      Id  SepalLengthCm  SepalWidthCm         Species  PetalLengthCm  \\\n",
       "0      1            5.1           3.5     Iris-setosa            1.4   \n",
       "1      2            4.9           3.0     Iris-setosa            1.4   \n",
       "2      3            NaN           3.2     Iris-setosa            1.3   \n",
       "3      4            4.6           3.1     Iris-setosa            1.5   \n",
       "4      5            5.0           3.6     Iris-setosa            1.4   \n",
       "..   ...            ...           ...             ...            ...   \n",
       "145  146            6.7           3.0  Iris-virginica            5.2   \n",
       "146  147            6.3           2.5  Iris-virginica            5.0   \n",
       "147  148            6.5           3.0  Iris-virginica            5.2   \n",
       "148  149            6.2           3.4  Iris-virginica            5.4   \n",
       "149  150            5.9           3.0  Iris-virginica            5.1   \n",
       "\n",
       "     PetalWidthCm  \n",
       "0             0.2  \n",
       "1             0.2  \n",
       "2             0.2  \n",
       "3             0.2  \n",
       "4             0.2  \n",
       "..            ...  \n",
       "145           2.3  \n",
       "146           1.9  \n",
       "147           2.0  \n",
       "148           2.3  \n",
       "149           1.8  \n",
       "\n",
       "[150 rows x 6 columns]"
      ]
     },
     "execution_count": 4,
     "metadata": {},
     "output_type": "execute_result"
    }
   ],
   "outputs_reference": "s3:deepnote-cell-outputs-production/fc4db1ea-d4a7-47eb-aff5-b02a589d1dab",
   "source": [
    "df_iris = pd.merge(df_1, df_2, on='Id')\n",
    "\n",
    "jumlah_baris = df_iris.shape[0]\n",
    "df_iris.head(jumlah_baris)"
   ]
  },
  {
   "block_group": "0954c908872d4cf08a6d5a8f0ce79d6f",
   "cell_type": "markdown",
   "metadata": {
    "cell_id": "b71de557e35b4bb8be18003da5c8687d",
    "deepnote_cell_type": "text-cell-p",
    "formattedRanges": []
   },
   "source": [
    "Proses pengindexan untuk mengubah urutan kolom tabel."
   ]
  },
  {
   "block_group": "1cdcff1d4b7e4ac0974a32590b2350cb",
   "cell_type": "code",
   "execution_count": null,
   "metadata": {
    "cell_id": "f1d085d14a31440dbd6ce00176a7c19e",
    "deepnote_cell_type": "code",
    "deepnote_to_be_reexecuted": false,
    "execution_millis": 561,
    "execution_start": 1711538296098,
    "source_hash": null
   },
   "outputs": [
    {
     "data": {
      "application/vnd.deepnote.dataframe.v3+json": {
       "column_count": 6,
       "columns": [
        {
         "dtype": "int64",
         "name": "Id",
         "stats": {
          "histogram": [
           {
            "bin_end": 15.9,
            "bin_start": 1,
            "count": 15
           },
           {
            "bin_end": 30.8,
            "bin_start": 15.9,
            "count": 15
           },
           {
            "bin_end": 45.7,
            "bin_start": 30.8,
            "count": 15
           },
           {
            "bin_end": 60.6,
            "bin_start": 45.7,
            "count": 15
           },
           {
            "bin_end": 75.5,
            "bin_start": 60.6,
            "count": 15
           },
           {
            "bin_end": 90.4,
            "bin_start": 75.5,
            "count": 15
           },
           {
            "bin_end": 105.3,
            "bin_start": 90.4,
            "count": 15
           },
           {
            "bin_end": 120.2,
            "bin_start": 105.3,
            "count": 15
           },
           {
            "bin_end": 135.1,
            "bin_start": 120.2,
            "count": 15
           },
           {
            "bin_end": 150,
            "bin_start": 135.1,
            "count": 15
           }
          ],
          "max": "150",
          "min": "1",
          "nan_count": 0,
          "unique_count": 150
         }
        },
        {
         "dtype": "float64",
         "name": "SepalLengthCm",
         "stats": {
          "histogram": [
           {
            "bin_end": 4.66,
            "bin_start": 4.3,
            "count": 8
           },
           {
            "bin_end": 5.02,
            "bin_start": 4.66,
            "count": 22
           },
           {
            "bin_end": 5.38,
            "bin_start": 5.02,
            "count": 14
           },
           {
            "bin_end": 5.74,
            "bin_start": 5.38,
            "count": 27
           },
           {
            "bin_end": 6.1,
            "bin_start": 5.74,
            "count": 16
           },
           {
            "bin_end": 6.46,
            "bin_start": 6.1,
            "count": 24
           },
           {
            "bin_end": 6.82,
            "bin_start": 6.46,
            "count": 18
           },
           {
            "bin_end": 7.18,
            "bin_start": 6.82,
            "count": 5
           },
           {
            "bin_end": 7.54,
            "bin_start": 7.18,
            "count": 5
           },
           {
            "bin_end": 7.9,
            "bin_start": 7.54,
            "count": 6
           }
          ],
          "max": "7.9",
          "min": "4.3",
          "nan_count": 5,
          "unique_count": 34
         }
        },
        {
         "dtype": "float64",
         "name": "SepalWidthCm",
         "stats": {
          "histogram": [
           {
            "bin_end": 2.24,
            "bin_start": 2,
            "count": 4
           },
           {
            "bin_end": 2.48,
            "bin_start": 2.24,
            "count": 7
           },
           {
            "bin_end": 2.72,
            "bin_start": 2.48,
            "count": 22
           },
           {
            "bin_end": 2.96,
            "bin_start": 2.72,
            "count": 24
           },
           {
            "bin_end": 3.2,
            "bin_start": 2.96,
            "count": 38
           },
           {
            "bin_end": 3.4400000000000004,
            "bin_start": 3.2,
            "count": 31
           },
           {
            "bin_end": 3.6800000000000006,
            "bin_start": 3.4400000000000004,
            "count": 9
           },
           {
            "bin_end": 3.9200000000000004,
            "bin_start": 3.6800000000000006,
            "count": 11
           },
           {
            "bin_end": 4.16,
            "bin_start": 3.9200000000000004,
            "count": 2
           },
           {
            "bin_end": 4.4,
            "bin_start": 4.16,
            "count": 2
           }
          ],
          "max": "4.4",
          "min": "2.0",
          "nan_count": 0,
          "unique_count": 23
         }
        },
        {
         "dtype": "float64",
         "name": "PetalLengthCm",
         "stats": {
          "histogram": [
           {
            "bin_end": 1.59,
            "bin_start": 1,
            "count": 37
           },
           {
            "bin_end": 2.18,
            "bin_start": 1.59,
            "count": 13
           },
           {
            "bin_end": 2.7700000000000005,
            "bin_start": 2.18,
            "count": 0
           },
           {
            "bin_end": 3.3600000000000003,
            "bin_start": 2.7700000000000005,
            "count": 3
           },
           {
            "bin_end": 3.95,
            "bin_start": 3.3600000000000003,
            "count": 8
           },
           {
            "bin_end": 4.540000000000001,
            "bin_start": 3.95,
            "count": 26
           },
           {
            "bin_end": 5.130000000000001,
            "bin_start": 4.540000000000001,
            "count": 29
           },
           {
            "bin_end": 5.720000000000001,
            "bin_start": 5.130000000000001,
            "count": 18
           },
           {
            "bin_end": 6.3100000000000005,
            "bin_start": 5.720000000000001,
            "count": 11
           },
           {
            "bin_end": 6.9,
            "bin_start": 6.3100000000000005,
            "count": 5
           }
          ],
          "max": "6.9",
          "min": "1.0",
          "nan_count": 0,
          "unique_count": 43
         }
        },
        {
         "dtype": "float64",
         "name": "PetalWidthCm",
         "stats": {
          "histogram": [
           {
            "bin_end": 0.33999999999999997,
            "bin_start": 0.1,
            "count": 41
           },
           {
            "bin_end": 0.58,
            "bin_start": 0.33999999999999997,
            "count": 8
           },
           {
            "bin_end": 0.82,
            "bin_start": 0.58,
            "count": 1
           },
           {
            "bin_end": 1.06,
            "bin_start": 0.82,
            "count": 7
           },
           {
            "bin_end": 1.3,
            "bin_start": 1.06,
            "count": 8
           },
           {
            "bin_end": 1.54,
            "bin_start": 1.3,
            "count": 33
           },
           {
            "bin_end": 1.78,
            "bin_start": 1.54,
            "count": 6
           },
           {
            "bin_end": 2.02,
            "bin_start": 1.78,
            "count": 23
           },
           {
            "bin_end": 2.2600000000000002,
            "bin_start": 2.02,
            "count": 9
           },
           {
            "bin_end": 2.5,
            "bin_start": 2.2600000000000002,
            "count": 14
           }
          ],
          "max": "2.5",
          "min": "0.1",
          "nan_count": 0,
          "unique_count": 22
         }
        },
        {
         "dtype": "object",
         "name": "Species",
         "stats": {
          "categories": [
           {
            "count": 50,
            "name": "Iris-virginica"
           },
           {
            "count": 98,
            "name": "2 others"
           },
           {
            "count": 2,
            "name": "Missing"
           }
          ],
          "nan_count": 2,
          "unique_count": 3
         }
        },
        {
         "dtype": "int64",
         "name": "_deepnote_index_column"
        }
       ],
       "row_count": 150,
       "rows": [
        {
         "Id": 1,
         "PetalLengthCm": 1.4,
         "PetalWidthCm": 0.2,
         "SepalLengthCm": 5.1,
         "SepalWidthCm": 3.5,
         "Species": "Iris-setosa",
         "_deepnote_index_column": 0
        },
        {
         "Id": 2,
         "PetalLengthCm": 1.4,
         "PetalWidthCm": 0.2,
         "SepalLengthCm": 4.9,
         "SepalWidthCm": 3,
         "Species": "Iris-setosa",
         "_deepnote_index_column": 1
        },
        {
         "Id": 3,
         "PetalLengthCm": 1.3,
         "PetalWidthCm": 0.2,
         "SepalLengthCm": "nan",
         "SepalWidthCm": 3.2,
         "Species": "Iris-setosa",
         "_deepnote_index_column": 2
        },
        {
         "Id": 4,
         "PetalLengthCm": 1.5,
         "PetalWidthCm": 0.2,
         "SepalLengthCm": 4.6,
         "SepalWidthCm": 3.1,
         "Species": "Iris-setosa",
         "_deepnote_index_column": 3
        },
        {
         "Id": 5,
         "PetalLengthCm": 1.4,
         "PetalWidthCm": 0.2,
         "SepalLengthCm": 5,
         "SepalWidthCm": 3.6,
         "Species": "Iris-setosa",
         "_deepnote_index_column": 4
        },
        {
         "Id": 6,
         "PetalLengthCm": 1.7,
         "PetalWidthCm": 0.4,
         "SepalLengthCm": 5.4,
         "SepalWidthCm": 3.9,
         "Species": "Iris-setosa",
         "_deepnote_index_column": 5
        },
        {
         "Id": 7,
         "PetalLengthCm": 1.4,
         "PetalWidthCm": 0.3,
         "SepalLengthCm": "nan",
         "SepalWidthCm": 3.4,
         "Species": "None",
         "_deepnote_index_column": 6
        },
        {
         "Id": 8,
         "PetalLengthCm": 1.5,
         "PetalWidthCm": 0.2,
         "SepalLengthCm": 5,
         "SepalWidthCm": 3.4,
         "Species": "Iris-setosa",
         "_deepnote_index_column": 7
        },
        {
         "Id": 9,
         "PetalLengthCm": 1.4,
         "PetalWidthCm": 0.2,
         "SepalLengthCm": 4.4,
         "SepalWidthCm": 2.9,
         "Species": "Iris-setosa",
         "_deepnote_index_column": 8
        },
        {
         "Id": 10,
         "PetalLengthCm": 1.5,
         "PetalWidthCm": 0.1,
         "SepalLengthCm": 4.9,
         "SepalWidthCm": 3.1,
         "Species": "Iris-setosa",
         "_deepnote_index_column": 9
        }
       ]
      },
      "text/html": [
       "<div>\n",
       "<style scoped>\n",
       "    .dataframe tbody tr th:only-of-type {\n",
       "        vertical-align: middle;\n",
       "    }\n",
       "\n",
       "    .dataframe tbody tr th {\n",
       "        vertical-align: top;\n",
       "    }\n",
       "\n",
       "    .dataframe thead th {\n",
       "        text-align: right;\n",
       "    }\n",
       "</style>\n",
       "<table border=\"1\" class=\"dataframe\">\n",
       "  <thead>\n",
       "    <tr style=\"text-align: right;\">\n",
       "      <th></th>\n",
       "      <th>Id</th>\n",
       "      <th>SepalLengthCm</th>\n",
       "      <th>SepalWidthCm</th>\n",
       "      <th>PetalLengthCm</th>\n",
       "      <th>PetalWidthCm</th>\n",
       "      <th>Species</th>\n",
       "    </tr>\n",
       "  </thead>\n",
       "  <tbody>\n",
       "    <tr>\n",
       "      <th>0</th>\n",
       "      <td>1</td>\n",
       "      <td>5.1</td>\n",
       "      <td>3.5</td>\n",
       "      <td>1.4</td>\n",
       "      <td>0.2</td>\n",
       "      <td>Iris-setosa</td>\n",
       "    </tr>\n",
       "    <tr>\n",
       "      <th>1</th>\n",
       "      <td>2</td>\n",
       "      <td>4.9</td>\n",
       "      <td>3.0</td>\n",
       "      <td>1.4</td>\n",
       "      <td>0.2</td>\n",
       "      <td>Iris-setosa</td>\n",
       "    </tr>\n",
       "    <tr>\n",
       "      <th>2</th>\n",
       "      <td>3</td>\n",
       "      <td>NaN</td>\n",
       "      <td>3.2</td>\n",
       "      <td>1.3</td>\n",
       "      <td>0.2</td>\n",
       "      <td>Iris-setosa</td>\n",
       "    </tr>\n",
       "    <tr>\n",
       "      <th>3</th>\n",
       "      <td>4</td>\n",
       "      <td>4.6</td>\n",
       "      <td>3.1</td>\n",
       "      <td>1.5</td>\n",
       "      <td>0.2</td>\n",
       "      <td>Iris-setosa</td>\n",
       "    </tr>\n",
       "    <tr>\n",
       "      <th>4</th>\n",
       "      <td>5</td>\n",
       "      <td>5.0</td>\n",
       "      <td>3.6</td>\n",
       "      <td>1.4</td>\n",
       "      <td>0.2</td>\n",
       "      <td>Iris-setosa</td>\n",
       "    </tr>\n",
       "    <tr>\n",
       "      <th>...</th>\n",
       "      <td>...</td>\n",
       "      <td>...</td>\n",
       "      <td>...</td>\n",
       "      <td>...</td>\n",
       "      <td>...</td>\n",
       "      <td>...</td>\n",
       "    </tr>\n",
       "    <tr>\n",
       "      <th>145</th>\n",
       "      <td>146</td>\n",
       "      <td>6.7</td>\n",
       "      <td>3.0</td>\n",
       "      <td>5.2</td>\n",
       "      <td>2.3</td>\n",
       "      <td>Iris-virginica</td>\n",
       "    </tr>\n",
       "    <tr>\n",
       "      <th>146</th>\n",
       "      <td>147</td>\n",
       "      <td>6.3</td>\n",
       "      <td>2.5</td>\n",
       "      <td>5.0</td>\n",
       "      <td>1.9</td>\n",
       "      <td>Iris-virginica</td>\n",
       "    </tr>\n",
       "    <tr>\n",
       "      <th>147</th>\n",
       "      <td>148</td>\n",
       "      <td>6.5</td>\n",
       "      <td>3.0</td>\n",
       "      <td>5.2</td>\n",
       "      <td>2.0</td>\n",
       "      <td>Iris-virginica</td>\n",
       "    </tr>\n",
       "    <tr>\n",
       "      <th>148</th>\n",
       "      <td>149</td>\n",
       "      <td>6.2</td>\n",
       "      <td>3.4</td>\n",
       "      <td>5.4</td>\n",
       "      <td>2.3</td>\n",
       "      <td>Iris-virginica</td>\n",
       "    </tr>\n",
       "    <tr>\n",
       "      <th>149</th>\n",
       "      <td>150</td>\n",
       "      <td>5.9</td>\n",
       "      <td>3.0</td>\n",
       "      <td>5.1</td>\n",
       "      <td>1.8</td>\n",
       "      <td>Iris-virginica</td>\n",
       "    </tr>\n",
       "  </tbody>\n",
       "</table>\n",
       "<p>150 rows × 6 columns</p>\n",
       "</div>"
      ],
      "text/plain": [
       "      Id  SepalLengthCm  SepalWidthCm  PetalLengthCm  PetalWidthCm  \\\n",
       "0      1            5.1           3.5            1.4           0.2   \n",
       "1      2            4.9           3.0            1.4           0.2   \n",
       "2      3            NaN           3.2            1.3           0.2   \n",
       "3      4            4.6           3.1            1.5           0.2   \n",
       "4      5            5.0           3.6            1.4           0.2   \n",
       "..   ...            ...           ...            ...           ...   \n",
       "145  146            6.7           3.0            5.2           2.3   \n",
       "146  147            6.3           2.5            5.0           1.9   \n",
       "147  148            6.5           3.0            5.2           2.0   \n",
       "148  149            6.2           3.4            5.4           2.3   \n",
       "149  150            5.9           3.0            5.1           1.8   \n",
       "\n",
       "            Species  \n",
       "0       Iris-setosa  \n",
       "1       Iris-setosa  \n",
       "2       Iris-setosa  \n",
       "3       Iris-setosa  \n",
       "4       Iris-setosa  \n",
       "..              ...  \n",
       "145  Iris-virginica  \n",
       "146  Iris-virginica  \n",
       "147  Iris-virginica  \n",
       "148  Iris-virginica  \n",
       "149  Iris-virginica  \n",
       "\n",
       "[150 rows x 6 columns]"
      ]
     },
     "execution_count": 5,
     "metadata": {},
     "output_type": "execute_result"
    }
   ],
   "outputs_reference": "s3:deepnote-cell-outputs-production/5a1f54c6-3fe1-49fe-bd6f-6eeffe014f4a",
   "source": [
    "desired_columns = [\"Id\", \"SepalLengthCm\", \"SepalWidthCm\", \"PetalLengthCm\", \"PetalWidthCm\", \"Species\"]\n",
    "df_iris = df_iris.reindex(columns=desired_columns)\n",
    "\n",
    "df_iris.head(jumlah_baris)"
   ]
  },
  {
   "block_group": "29647a8b06c946678e67ccf128b11db3",
   "cell_type": "markdown",
   "metadata": {
    "cell_id": "88ca30a015674879b2a840ca78c048e5",
    "deepnote_cell_type": "text-cell-h2",
    "formattedRanges": []
   },
   "source": [
    "## Mendiskripsikan Data"
   ]
  },
  {
   "block_group": "0487b5df48af4d95bdbc07a44723b755",
   "cell_type": "markdown",
   "metadata": {
    "cell_id": "c0134e91f36a4270a3aa71270f7b3515",
    "deepnote_cell_type": "text-cell-p",
    "formattedRanges": []
   },
   "source": [
    "Mengamati secara kasar dan yang tampak dari data yang diperoleh dan mendokumentasikan deskripsi data tersebut. Pengamatan pada tabel \"Iris\" bertujuan untuk memahami perbedaan morfologi antara spesies Iris yang berbeda berdasarkan pengukuran yang tercantum dalam tabel."
   ]
  },
  {
   "block_group": "bb8e530816154706acf74f54322e749a",
   "cell_type": "code",
   "execution_count": null,
   "metadata": {
    "cell_id": "4e6fa9b144ce476f8ca4aaa4bc64b850",
    "deepnote_cell_type": "code",
    "deepnote_to_be_reexecuted": false,
    "execution_millis": 531,
    "execution_start": 1711538296129,
    "source_hash": null
   },
   "outputs": [
    {
     "data": {
      "application/vnd.deepnote.dataframe.v3+json": {
       "column_count": 6,
       "columns": [
        {
         "dtype": "int64",
         "name": "Id",
         "stats": {
          "histogram": [
           {
            "bin_end": 15.9,
            "bin_start": 1,
            "count": 15
           },
           {
            "bin_end": 30.8,
            "bin_start": 15.9,
            "count": 15
           },
           {
            "bin_end": 45.7,
            "bin_start": 30.8,
            "count": 15
           },
           {
            "bin_end": 60.6,
            "bin_start": 45.7,
            "count": 15
           },
           {
            "bin_end": 75.5,
            "bin_start": 60.6,
            "count": 15
           },
           {
            "bin_end": 90.4,
            "bin_start": 75.5,
            "count": 15
           },
           {
            "bin_end": 105.3,
            "bin_start": 90.4,
            "count": 15
           },
           {
            "bin_end": 120.2,
            "bin_start": 105.3,
            "count": 15
           },
           {
            "bin_end": 135.1,
            "bin_start": 120.2,
            "count": 15
           },
           {
            "bin_end": 150,
            "bin_start": 135.1,
            "count": 15
           }
          ],
          "max": "150",
          "min": "1",
          "nan_count": 0,
          "unique_count": 150
         }
        },
        {
         "dtype": "float64",
         "name": "SepalLengthCm",
         "stats": {
          "histogram": [
           {
            "bin_end": 4.66,
            "bin_start": 4.3,
            "count": 8
           },
           {
            "bin_end": 5.02,
            "bin_start": 4.66,
            "count": 22
           },
           {
            "bin_end": 5.38,
            "bin_start": 5.02,
            "count": 14
           },
           {
            "bin_end": 5.74,
            "bin_start": 5.38,
            "count": 27
           },
           {
            "bin_end": 6.1,
            "bin_start": 5.74,
            "count": 16
           },
           {
            "bin_end": 6.46,
            "bin_start": 6.1,
            "count": 24
           },
           {
            "bin_end": 6.82,
            "bin_start": 6.46,
            "count": 18
           },
           {
            "bin_end": 7.18,
            "bin_start": 6.82,
            "count": 5
           },
           {
            "bin_end": 7.54,
            "bin_start": 7.18,
            "count": 5
           },
           {
            "bin_end": 7.9,
            "bin_start": 7.54,
            "count": 6
           }
          ],
          "max": "7.9",
          "min": "4.3",
          "nan_count": 5,
          "unique_count": 34
         }
        },
        {
         "dtype": "float64",
         "name": "SepalWidthCm",
         "stats": {
          "histogram": [
           {
            "bin_end": 2.24,
            "bin_start": 2,
            "count": 4
           },
           {
            "bin_end": 2.48,
            "bin_start": 2.24,
            "count": 7
           },
           {
            "bin_end": 2.72,
            "bin_start": 2.48,
            "count": 22
           },
           {
            "bin_end": 2.96,
            "bin_start": 2.72,
            "count": 24
           },
           {
            "bin_end": 3.2,
            "bin_start": 2.96,
            "count": 38
           },
           {
            "bin_end": 3.4400000000000004,
            "bin_start": 3.2,
            "count": 31
           },
           {
            "bin_end": 3.6800000000000006,
            "bin_start": 3.4400000000000004,
            "count": 9
           },
           {
            "bin_end": 3.9200000000000004,
            "bin_start": 3.6800000000000006,
            "count": 11
           },
           {
            "bin_end": 4.16,
            "bin_start": 3.9200000000000004,
            "count": 2
           },
           {
            "bin_end": 4.4,
            "bin_start": 4.16,
            "count": 2
           }
          ],
          "max": "4.4",
          "min": "2.0",
          "nan_count": 0,
          "unique_count": 23
         }
        },
        {
         "dtype": "float64",
         "name": "PetalLengthCm",
         "stats": {
          "histogram": [
           {
            "bin_end": 1.59,
            "bin_start": 1,
            "count": 37
           },
           {
            "bin_end": 2.18,
            "bin_start": 1.59,
            "count": 13
           },
           {
            "bin_end": 2.7700000000000005,
            "bin_start": 2.18,
            "count": 0
           },
           {
            "bin_end": 3.3600000000000003,
            "bin_start": 2.7700000000000005,
            "count": 3
           },
           {
            "bin_end": 3.95,
            "bin_start": 3.3600000000000003,
            "count": 8
           },
           {
            "bin_end": 4.540000000000001,
            "bin_start": 3.95,
            "count": 26
           },
           {
            "bin_end": 5.130000000000001,
            "bin_start": 4.540000000000001,
            "count": 29
           },
           {
            "bin_end": 5.720000000000001,
            "bin_start": 5.130000000000001,
            "count": 18
           },
           {
            "bin_end": 6.3100000000000005,
            "bin_start": 5.720000000000001,
            "count": 11
           },
           {
            "bin_end": 6.9,
            "bin_start": 6.3100000000000005,
            "count": 5
           }
          ],
          "max": "6.9",
          "min": "1.0",
          "nan_count": 0,
          "unique_count": 43
         }
        },
        {
         "dtype": "float64",
         "name": "PetalWidthCm",
         "stats": {
          "histogram": [
           {
            "bin_end": 0.33999999999999997,
            "bin_start": 0.1,
            "count": 41
           },
           {
            "bin_end": 0.58,
            "bin_start": 0.33999999999999997,
            "count": 8
           },
           {
            "bin_end": 0.82,
            "bin_start": 0.58,
            "count": 1
           },
           {
            "bin_end": 1.06,
            "bin_start": 0.82,
            "count": 7
           },
           {
            "bin_end": 1.3,
            "bin_start": 1.06,
            "count": 8
           },
           {
            "bin_end": 1.54,
            "bin_start": 1.3,
            "count": 33
           },
           {
            "bin_end": 1.78,
            "bin_start": 1.54,
            "count": 6
           },
           {
            "bin_end": 2.02,
            "bin_start": 1.78,
            "count": 23
           },
           {
            "bin_end": 2.2600000000000002,
            "bin_start": 2.02,
            "count": 9
           },
           {
            "bin_end": 2.5,
            "bin_start": 2.2600000000000002,
            "count": 14
           }
          ],
          "max": "2.5",
          "min": "0.1",
          "nan_count": 0,
          "unique_count": 22
         }
        },
        {
         "dtype": "object",
         "name": "Species",
         "stats": {
          "categories": [
           {
            "count": 50,
            "name": "Iris-virginica"
           },
           {
            "count": 98,
            "name": "2 others"
           },
           {
            "count": 2,
            "name": "Missing"
           }
          ],
          "nan_count": 2,
          "unique_count": 3
         }
        },
        {
         "dtype": "int64",
         "name": "_deepnote_index_column"
        }
       ],
       "row_count": 150,
       "rows": [
        {
         "Id": 1,
         "PetalLengthCm": 1.4,
         "PetalWidthCm": 0.2,
         "SepalLengthCm": 5.1,
         "SepalWidthCm": 3.5,
         "Species": "Iris-setosa",
         "_deepnote_index_column": 0
        },
        {
         "Id": 2,
         "PetalLengthCm": 1.4,
         "PetalWidthCm": 0.2,
         "SepalLengthCm": 4.9,
         "SepalWidthCm": 3,
         "Species": "Iris-setosa",
         "_deepnote_index_column": 1
        },
        {
         "Id": 3,
         "PetalLengthCm": 1.3,
         "PetalWidthCm": 0.2,
         "SepalLengthCm": "nan",
         "SepalWidthCm": 3.2,
         "Species": "Iris-setosa",
         "_deepnote_index_column": 2
        },
        {
         "Id": 4,
         "PetalLengthCm": 1.5,
         "PetalWidthCm": 0.2,
         "SepalLengthCm": 4.6,
         "SepalWidthCm": 3.1,
         "Species": "Iris-setosa",
         "_deepnote_index_column": 3
        },
        {
         "Id": 5,
         "PetalLengthCm": 1.4,
         "PetalWidthCm": 0.2,
         "SepalLengthCm": 5,
         "SepalWidthCm": 3.6,
         "Species": "Iris-setosa",
         "_deepnote_index_column": 4
        },
        {
         "Id": 6,
         "PetalLengthCm": 1.7,
         "PetalWidthCm": 0.4,
         "SepalLengthCm": 5.4,
         "SepalWidthCm": 3.9,
         "Species": "Iris-setosa",
         "_deepnote_index_column": 5
        },
        {
         "Id": 7,
         "PetalLengthCm": 1.4,
         "PetalWidthCm": 0.3,
         "SepalLengthCm": "nan",
         "SepalWidthCm": 3.4,
         "Species": "None",
         "_deepnote_index_column": 6
        },
        {
         "Id": 8,
         "PetalLengthCm": 1.5,
         "PetalWidthCm": 0.2,
         "SepalLengthCm": 5,
         "SepalWidthCm": 3.4,
         "Species": "Iris-setosa",
         "_deepnote_index_column": 7
        },
        {
         "Id": 9,
         "PetalLengthCm": 1.4,
         "PetalWidthCm": 0.2,
         "SepalLengthCm": 4.4,
         "SepalWidthCm": 2.9,
         "Species": "Iris-setosa",
         "_deepnote_index_column": 8
        },
        {
         "Id": 10,
         "PetalLengthCm": 1.5,
         "PetalWidthCm": 0.1,
         "SepalLengthCm": 4.9,
         "SepalWidthCm": 3.1,
         "Species": "Iris-setosa",
         "_deepnote_index_column": 9
        }
       ]
      },
      "text/html": [
       "<div>\n",
       "<style scoped>\n",
       "    .dataframe tbody tr th:only-of-type {\n",
       "        vertical-align: middle;\n",
       "    }\n",
       "\n",
       "    .dataframe tbody tr th {\n",
       "        vertical-align: top;\n",
       "    }\n",
       "\n",
       "    .dataframe thead th {\n",
       "        text-align: right;\n",
       "    }\n",
       "</style>\n",
       "<table border=\"1\" class=\"dataframe\">\n",
       "  <thead>\n",
       "    <tr style=\"text-align: right;\">\n",
       "      <th></th>\n",
       "      <th>Id</th>\n",
       "      <th>SepalLengthCm</th>\n",
       "      <th>SepalWidthCm</th>\n",
       "      <th>PetalLengthCm</th>\n",
       "      <th>PetalWidthCm</th>\n",
       "      <th>Species</th>\n",
       "    </tr>\n",
       "  </thead>\n",
       "  <tbody>\n",
       "    <tr>\n",
       "      <th>0</th>\n",
       "      <td>1</td>\n",
       "      <td>5.1</td>\n",
       "      <td>3.5</td>\n",
       "      <td>1.4</td>\n",
       "      <td>0.2</td>\n",
       "      <td>Iris-setosa</td>\n",
       "    </tr>\n",
       "    <tr>\n",
       "      <th>1</th>\n",
       "      <td>2</td>\n",
       "      <td>4.9</td>\n",
       "      <td>3.0</td>\n",
       "      <td>1.4</td>\n",
       "      <td>0.2</td>\n",
       "      <td>Iris-setosa</td>\n",
       "    </tr>\n",
       "    <tr>\n",
       "      <th>2</th>\n",
       "      <td>3</td>\n",
       "      <td>NaN</td>\n",
       "      <td>3.2</td>\n",
       "      <td>1.3</td>\n",
       "      <td>0.2</td>\n",
       "      <td>Iris-setosa</td>\n",
       "    </tr>\n",
       "    <tr>\n",
       "      <th>3</th>\n",
       "      <td>4</td>\n",
       "      <td>4.6</td>\n",
       "      <td>3.1</td>\n",
       "      <td>1.5</td>\n",
       "      <td>0.2</td>\n",
       "      <td>Iris-setosa</td>\n",
       "    </tr>\n",
       "    <tr>\n",
       "      <th>4</th>\n",
       "      <td>5</td>\n",
       "      <td>5.0</td>\n",
       "      <td>3.6</td>\n",
       "      <td>1.4</td>\n",
       "      <td>0.2</td>\n",
       "      <td>Iris-setosa</td>\n",
       "    </tr>\n",
       "    <tr>\n",
       "      <th>...</th>\n",
       "      <td>...</td>\n",
       "      <td>...</td>\n",
       "      <td>...</td>\n",
       "      <td>...</td>\n",
       "      <td>...</td>\n",
       "      <td>...</td>\n",
       "    </tr>\n",
       "    <tr>\n",
       "      <th>145</th>\n",
       "      <td>146</td>\n",
       "      <td>6.7</td>\n",
       "      <td>3.0</td>\n",
       "      <td>5.2</td>\n",
       "      <td>2.3</td>\n",
       "      <td>Iris-virginica</td>\n",
       "    </tr>\n",
       "    <tr>\n",
       "      <th>146</th>\n",
       "      <td>147</td>\n",
       "      <td>6.3</td>\n",
       "      <td>2.5</td>\n",
       "      <td>5.0</td>\n",
       "      <td>1.9</td>\n",
       "      <td>Iris-virginica</td>\n",
       "    </tr>\n",
       "    <tr>\n",
       "      <th>147</th>\n",
       "      <td>148</td>\n",
       "      <td>6.5</td>\n",
       "      <td>3.0</td>\n",
       "      <td>5.2</td>\n",
       "      <td>2.0</td>\n",
       "      <td>Iris-virginica</td>\n",
       "    </tr>\n",
       "    <tr>\n",
       "      <th>148</th>\n",
       "      <td>149</td>\n",
       "      <td>6.2</td>\n",
       "      <td>3.4</td>\n",
       "      <td>5.4</td>\n",
       "      <td>2.3</td>\n",
       "      <td>Iris-virginica</td>\n",
       "    </tr>\n",
       "    <tr>\n",
       "      <th>149</th>\n",
       "      <td>150</td>\n",
       "      <td>5.9</td>\n",
       "      <td>3.0</td>\n",
       "      <td>5.1</td>\n",
       "      <td>1.8</td>\n",
       "      <td>Iris-virginica</td>\n",
       "    </tr>\n",
       "  </tbody>\n",
       "</table>\n",
       "<p>150 rows × 6 columns</p>\n",
       "</div>"
      ],
      "text/plain": [
       "      Id  SepalLengthCm  SepalWidthCm  PetalLengthCm  PetalWidthCm  \\\n",
       "0      1            5.1           3.5            1.4           0.2   \n",
       "1      2            4.9           3.0            1.4           0.2   \n",
       "2      3            NaN           3.2            1.3           0.2   \n",
       "3      4            4.6           3.1            1.5           0.2   \n",
       "4      5            5.0           3.6            1.4           0.2   \n",
       "..   ...            ...           ...            ...           ...   \n",
       "145  146            6.7           3.0            5.2           2.3   \n",
       "146  147            6.3           2.5            5.0           1.9   \n",
       "147  148            6.5           3.0            5.2           2.0   \n",
       "148  149            6.2           3.4            5.4           2.3   \n",
       "149  150            5.9           3.0            5.1           1.8   \n",
       "\n",
       "            Species  \n",
       "0       Iris-setosa  \n",
       "1       Iris-setosa  \n",
       "2       Iris-setosa  \n",
       "3       Iris-setosa  \n",
       "4       Iris-setosa  \n",
       "..              ...  \n",
       "145  Iris-virginica  \n",
       "146  Iris-virginica  \n",
       "147  Iris-virginica  \n",
       "148  Iris-virginica  \n",
       "149  Iris-virginica  \n",
       "\n",
       "[150 rows x 6 columns]"
      ]
     },
     "execution_count": 6,
     "metadata": {},
     "output_type": "execute_result"
    }
   ],
   "outputs_reference": "s3:deepnote-cell-outputs-production/4b6e92cd-0212-4fdb-b230-a54df9bed0b2",
   "source": [
    "df_iris.head(jumlah_baris)"
   ]
  },
  {
   "block_group": "86b1ccd54d86406cb64ada64c35f1227",
   "cell_type": "markdown",
   "metadata": {
    "cell_id": "48561368a87849f39edd1b869afb4983",
    "deepnote_cell_type": "text-cell-p",
    "formattedRanges": []
   },
   "source": [
    "Tabel \"Iris\" di atas adalah tabel yang mencakup data pengukuran morfologi dari tiga spesies Iris yang berbeda, seperti Iris-setosa, Iris-versicolor, dan Iris-virginica."
   ]
  },
  {
   "block_group": "ab287f2b2a3046a59ecf3efe62a39c66",
   "cell_type": "markdown",
   "metadata": {
    "cell_id": "92438a2774fd43f6bc2b88eef1b85171",
    "deepnote_app_block_visible": false,
    "deepnote_cell_type": "text-cell-bullet",
    "formattedRanges": [],
    "is_collapsed": false
   },
   "source": [
    "- Jumlah Data: Tabel \"Iris\" terdiri dari 150 baris atau entri data, yang mewakili 150 pengukuran morfologi."
   ]
  },
  {
   "block_group": "c806d4e8f89346de974fff91750c3588",
   "cell_type": "markdown",
   "metadata": {
    "cell_id": "b8840f95edcd459c95d71cd4ce053a79",
    "deepnote_app_block_visible": false,
    "deepnote_cell_type": "text-cell-bullet",
    "formattedRanges": [],
    "is_collapsed": false
   },
   "source": [
    "- Format Data: Tabel ini memiliki enam kolom:\r\n",
    "- Kolom pertama adalah \"Id\", yang merupakan identifikasi unik untuk setiap baris.\r\n",
    "- Kolom kedua adalah \"SepalLengthCm\", yang berisi pengukuran panjang sepal dalam sentimeter.\r\n",
    "- Kolom ketiga adalah \"SepalWidthCm\", yang berisi pengukuran lebar sepal dalam sentimeter.\r\n",
    "- Kolom keempat adalah \"PetalLengthCm\", yang berisi pengukuran panjang petal dalam sentimeter.\r\n",
    "- Kolom kelima adalah \"PetalWidthCm\", yang berisi pengukuran lebar petal dalam sentimeter.\r\n",
    "- Kolom keenam adalah \"Species\", yang menunjukkan spesies Iris terkait dengan setiap pengukuran."
   ]
  },
  {
   "block_group": "d9030972ccad427fbee7a7e1cf52ca74",
   "cell_type": "markdown",
   "metadata": {
    "cell_id": "69506c6cf0c1454e82b6a859bef9f1eb",
    "deepnote_app_block_visible": false,
    "deepnote_cell_type": "text-cell-bullet",
    "formattedRanges": [],
    "is_collapsed": false
   },
   "source": [
    "- Karakteristik Data: Data ini memberikan informasi yang cukup lengkap untuk membedakan antara spesies Iris berdasarkan pengukuran morfologi mereka. Setiap pengukuran (kolom \"SepalLengthCm\", \"SepalWidthCm\", \"PetalLengthCm\", dan \"PetalWidthCm\") memberikan wawasan tentang dimensi fisik bunga Iris, sementara kolom \"Species\" memberikan identitas spesies yang terkait dengan setiap pengukuran. Hal ini memungkinkan untuk analisis lebih lanjut tentang perbedaan morfologi antara spesies Iris yang berbeda."
   ]
  },
  {
   "block_group": "2be95c84aa26406ebc92f7db1dea0943",
   "cell_type": "markdown",
   "metadata": {
    "cell_id": "e535aa47ac7d4b3a9a3628f84edec734",
    "deepnote_app_block_visible": false,
    "deepnote_cell_type": "text-cell-bullet",
    "formattedRanges": [],
    "is_collapsed": false
   },
   "source": [
    "- Ketersediaan Informasi: Data ini kemungkinan mengumpulkan informasi yang cukup untuk memberikan gambaran tentang perbedaan morfologi antara spesies Iris yang berbeda berdasarkan pengukuran yang dilakukan. Dengan jumlah data yang cukup besar (150 pengukuran), data ini memungkinkan analisis yang lebih mendalam terhadap perbedaan-perbedaan tersebut."
   ]
  },
  {
   "block_group": "22c6abeb2ffb465290af3b87c48e7dab",
   "cell_type": "markdown",
   "metadata": {
    "cell_id": "e6a7e0ea1a2741bc9b85e332f0624f79",
    "deepnote_cell_type": "text-cell-h2",
    "formattedRanges": []
   },
   "source": [
    "## Ekplorasi/Menyelidiki Data"
   ]
  },
  {
   "block_group": "e1e5795a88c14d8b9aff006d47772e43",
   "cell_type": "markdown",
   "metadata": {
    "cell_id": "68f322f0ccd34176bd742f7a8cfa4866",
    "deepnote_cell_type": "text-cell-p",
    "formattedRanges": []
   },
   "source": [
    "Dalam proses menyelidiki data, langkah awal adalah mengeksplorasi data kotor untuk mengidentifikasi masalah yang perlu diperbaiki sebelum analisis lebih lanjut."
   ]
  },
  {
   "block_group": "37d66f3986cf44bbb209d84d84e98a8a",
   "cell_type": "code",
   "execution_count": null,
   "metadata": {
    "cell_id": "b0763ea3e0b34827be9f772fec25095e",
    "deepnote_cell_type": "code",
    "deepnote_to_be_reexecuted": false,
    "execution_millis": 470,
    "execution_start": 1711538296190,
    "source_hash": null
   },
   "outputs": [
    {
     "data": {
      "application/vnd.deepnote.dataframe.v3+json": {
       "column_count": 6,
       "columns": [
        {
         "dtype": "int64",
         "name": "Id",
         "stats": {
          "histogram": [
           {
            "bin_end": 13,
            "bin_start": 3,
            "count": 2
           },
           {
            "bin_end": 23,
            "bin_start": 13,
            "count": 0
           },
           {
            "bin_end": 33,
            "bin_start": 23,
            "count": 0
           },
           {
            "bin_end": 43,
            "bin_start": 33,
            "count": 0
           },
           {
            "bin_end": 53,
            "bin_start": 43,
            "count": 0
           },
           {
            "bin_end": 63,
            "bin_start": 53,
            "count": 0
           },
           {
            "bin_end": 73,
            "bin_start": 63,
            "count": 2
           },
           {
            "bin_end": 83,
            "bin_start": 73,
            "count": 0
           },
           {
            "bin_end": 93,
            "bin_start": 83,
            "count": 0
           },
           {
            "bin_end": 103,
            "bin_start": 93,
            "count": 1
           }
          ],
          "max": "103",
          "min": "3",
          "nan_count": 0,
          "unique_count": 5
         }
        },
        {
         "dtype": "float64",
         "name": "SepalLengthCm",
         "stats": {
          "histogram": [
           {
            "bin_end": 0.1,
            "bin_start": 0,
            "count": 0
           },
           {
            "bin_end": 0.2,
            "bin_start": 0.1,
            "count": 0
           },
           {
            "bin_end": 0.30000000000000004,
            "bin_start": 0.2,
            "count": 0
           },
           {
            "bin_end": 0.4,
            "bin_start": 0.30000000000000004,
            "count": 0
           },
           {
            "bin_end": 0.5,
            "bin_start": 0.4,
            "count": 0
           },
           {
            "bin_end": 0.6000000000000001,
            "bin_start": 0.5,
            "count": 0
           },
           {
            "bin_end": 0.7000000000000001,
            "bin_start": 0.6000000000000001,
            "count": 0
           },
           {
            "bin_end": 0.8,
            "bin_start": 0.7000000000000001,
            "count": 0
           },
           {
            "bin_end": 0.9,
            "bin_start": 0.8,
            "count": 0
           },
           {
            "bin_end": 1,
            "bin_start": 0.9,
            "count": 0
           }
          ],
          "max": null,
          "min": null,
          "nan_count": 5,
          "unique_count": 0
         }
        },
        {
         "dtype": "float64",
         "name": "SepalWidthCm",
         "stats": {
          "histogram": [
           {
            "bin_end": 2.3200000000000003,
            "bin_start": 2.2,
            "count": 1
           },
           {
            "bin_end": 2.44,
            "bin_start": 2.3200000000000003,
            "count": 0
           },
           {
            "bin_end": 2.56,
            "bin_start": 2.44,
            "count": 0
           },
           {
            "bin_end": 2.68,
            "bin_start": 2.56,
            "count": 0
           },
           {
            "bin_end": 2.8,
            "bin_start": 2.68,
            "count": 0
           },
           {
            "bin_end": 2.92,
            "bin_start": 2.8,
            "count": 1
           },
           {
            "bin_end": 3.04,
            "bin_start": 2.92,
            "count": 1
           },
           {
            "bin_end": 3.16,
            "bin_start": 3.04,
            "count": 0
           },
           {
            "bin_end": 3.28,
            "bin_start": 3.16,
            "count": 1
           },
           {
            "bin_end": 3.4,
            "bin_start": 3.28,
            "count": 1
           }
          ],
          "max": "3.4",
          "min": "2.2",
          "nan_count": 0,
          "unique_count": 5
         }
        },
        {
         "dtype": "float64",
         "name": "PetalLengthCm",
         "stats": {
          "histogram": [
           {
            "bin_end": 1.7600000000000002,
            "bin_start": 1.3,
            "count": 2
           },
           {
            "bin_end": 2.22,
            "bin_start": 1.7600000000000002,
            "count": 0
           },
           {
            "bin_end": 2.6800000000000006,
            "bin_start": 2.22,
            "count": 0
           },
           {
            "bin_end": 3.1400000000000006,
            "bin_start": 2.6800000000000006,
            "count": 0
           },
           {
            "bin_end": 3.6000000000000005,
            "bin_start": 3.1400000000000006,
            "count": 0
           },
           {
            "bin_end": 4.0600000000000005,
            "bin_start": 3.6000000000000005,
            "count": 0
           },
           {
            "bin_end": 4.5200000000000005,
            "bin_start": 4.0600000000000005,
            "count": 1
           },
           {
            "bin_end": 4.98,
            "bin_start": 4.5200000000000005,
            "count": 1
           },
           {
            "bin_end": 5.44,
            "bin_start": 4.98,
            "count": 0
           },
           {
            "bin_end": 5.9,
            "bin_start": 5.44,
            "count": 1
           }
          ],
          "max": "5.9",
          "min": "1.3",
          "nan_count": 0,
          "unique_count": 5
         }
        },
        {
         "dtype": "float64",
         "name": "PetalWidthCm",
         "stats": {
          "histogram": [
           {
            "bin_end": 0.39,
            "bin_start": 0.2,
            "count": 2
           },
           {
            "bin_end": 0.5800000000000001,
            "bin_start": 0.39,
            "count": 0
           },
           {
            "bin_end": 0.77,
            "bin_start": 0.5800000000000001,
            "count": 0
           },
           {
            "bin_end": 0.96,
            "bin_start": 0.77,
            "count": 0
           },
           {
            "bin_end": 1.15,
            "bin_start": 0.96,
            "count": 0
           },
           {
            "bin_end": 1.34,
            "bin_start": 1.15,
            "count": 0
           },
           {
            "bin_end": 1.53,
            "bin_start": 1.34,
            "count": 2
           },
           {
            "bin_end": 1.72,
            "bin_start": 1.53,
            "count": 0
           },
           {
            "bin_end": 1.91,
            "bin_start": 1.72,
            "count": 0
           },
           {
            "bin_end": 2.1,
            "bin_start": 1.91,
            "count": 1
           }
          ],
          "max": "2.1",
          "min": "0.2",
          "nan_count": 0,
          "unique_count": 5
         }
        },
        {
         "dtype": "object",
         "name": "Species",
         "stats": {
          "categories": [
           {
            "count": 1,
            "name": "Iris-setosa"
           },
           {
            "count": 2,
            "name": "2 others"
           },
           {
            "count": 2,
            "name": "Missing"
           }
          ],
          "nan_count": 2,
          "unique_count": 3
         }
        },
        {
         "dtype": "int64",
         "name": "_deepnote_index_column"
        }
       ],
       "row_count": 5,
       "rows": [
        {
         "Id": 3,
         "PetalLengthCm": 1.3,
         "PetalWidthCm": 0.2,
         "SepalLengthCm": "nan",
         "SepalWidthCm": 3.2,
         "Species": "Iris-setosa",
         "_deepnote_index_column": 2
        },
        {
         "Id": 7,
         "PetalLengthCm": 1.4,
         "PetalWidthCm": 0.3,
         "SepalLengthCm": "nan",
         "SepalWidthCm": 3.4,
         "Species": "None",
         "_deepnote_index_column": 6
        },
        {
         "Id": 64,
         "PetalLengthCm": 4.7,
         "PetalWidthCm": 1.4,
         "SepalLengthCm": "nan",
         "SepalWidthCm": 2.9,
         "Species": "Iris-versicolor",
         "_deepnote_index_column": 63
        },
        {
         "Id": 69,
         "PetalLengthCm": 4.5,
         "PetalWidthCm": 1.5,
         "SepalLengthCm": "nan",
         "SepalWidthCm": 2.2,
         "Species": "None",
         "_deepnote_index_column": 68
        },
        {
         "Id": 103,
         "PetalLengthCm": 5.9,
         "PetalWidthCm": 2.1,
         "SepalLengthCm": "nan",
         "SepalWidthCm": 3,
         "Species": "Iris-virginica",
         "_deepnote_index_column": 102
        }
       ]
      },
      "text/html": [
       "<div>\n",
       "<style scoped>\n",
       "    .dataframe tbody tr th:only-of-type {\n",
       "        vertical-align: middle;\n",
       "    }\n",
       "\n",
       "    .dataframe tbody tr th {\n",
       "        vertical-align: top;\n",
       "    }\n",
       "\n",
       "    .dataframe thead th {\n",
       "        text-align: right;\n",
       "    }\n",
       "</style>\n",
       "<table border=\"1\" class=\"dataframe\">\n",
       "  <thead>\n",
       "    <tr style=\"text-align: right;\">\n",
       "      <th></th>\n",
       "      <th>Id</th>\n",
       "      <th>SepalLengthCm</th>\n",
       "      <th>SepalWidthCm</th>\n",
       "      <th>PetalLengthCm</th>\n",
       "      <th>PetalWidthCm</th>\n",
       "      <th>Species</th>\n",
       "    </tr>\n",
       "  </thead>\n",
       "  <tbody>\n",
       "    <tr>\n",
       "      <th>2</th>\n",
       "      <td>3</td>\n",
       "      <td>NaN</td>\n",
       "      <td>3.2</td>\n",
       "      <td>1.3</td>\n",
       "      <td>0.2</td>\n",
       "      <td>Iris-setosa</td>\n",
       "    </tr>\n",
       "    <tr>\n",
       "      <th>6</th>\n",
       "      <td>7</td>\n",
       "      <td>NaN</td>\n",
       "      <td>3.4</td>\n",
       "      <td>1.4</td>\n",
       "      <td>0.3</td>\n",
       "      <td>None</td>\n",
       "    </tr>\n",
       "    <tr>\n",
       "      <th>63</th>\n",
       "      <td>64</td>\n",
       "      <td>NaN</td>\n",
       "      <td>2.9</td>\n",
       "      <td>4.7</td>\n",
       "      <td>1.4</td>\n",
       "      <td>Iris-versicolor</td>\n",
       "    </tr>\n",
       "    <tr>\n",
       "      <th>68</th>\n",
       "      <td>69</td>\n",
       "      <td>NaN</td>\n",
       "      <td>2.2</td>\n",
       "      <td>4.5</td>\n",
       "      <td>1.5</td>\n",
       "      <td>None</td>\n",
       "    </tr>\n",
       "    <tr>\n",
       "      <th>102</th>\n",
       "      <td>103</td>\n",
       "      <td>NaN</td>\n",
       "      <td>3.0</td>\n",
       "      <td>5.9</td>\n",
       "      <td>2.1</td>\n",
       "      <td>Iris-virginica</td>\n",
       "    </tr>\n",
       "  </tbody>\n",
       "</table>\n",
       "</div>"
      ],
      "text/plain": [
       "      Id  SepalLengthCm  SepalWidthCm  PetalLengthCm  PetalWidthCm  \\\n",
       "2      3            NaN           3.2            1.3           0.2   \n",
       "6      7            NaN           3.4            1.4           0.3   \n",
       "63    64            NaN           2.9            4.7           1.4   \n",
       "68    69            NaN           2.2            4.5           1.5   \n",
       "102  103            NaN           3.0            5.9           2.1   \n",
       "\n",
       "             Species  \n",
       "2        Iris-setosa  \n",
       "6               None  \n",
       "63   Iris-versicolor  \n",
       "68              None  \n",
       "102   Iris-virginica  "
      ]
     },
     "execution_count": 7,
     "metadata": {},
     "output_type": "execute_result"
    }
   ],
   "outputs_reference": "s3:deepnote-cell-outputs-production/f3f03962-ef06-4b5d-b57f-2bc3ce17722e",
   "source": [
    "dirty_data = df_iris.query('SepalLengthCm.isnull() or SepalWidthCm.isnull() or PetalLengthCm.isnull() or PetalWidthCm.isnull() or Species.isnull()')\n",
    "\n",
    "jumlah_baris = dirty_data.shape[0]\n",
    "dirty_data.head(jumlah_baris)"
   ]
  },
  {
   "block_group": "1661c8c7063642b7a64d0db1944fcbf2",
   "cell_type": "markdown",
   "metadata": {
    "cell_id": "e9ca3956e14744da8d9ff298e996741e",
    "deepnote_cell_type": "text-cell-p",
    "formattedRanges": []
   },
   "source": [
    "Hasil dari ekstraksi data kotor menunjukkan bahwa terdapat kekosongan nilai (missing value) pada beberapa kolom dan baris dalam tabel \"Iris\". Lebih khusus, terdapat nilai NULL pada kolom \"SepalLengthCm\" dan \"Species\" untuk beberapa entri. Misalnya, terdapat 2 nilai NULL pada kolom \"SepalLengthCm\" dan \"Species\" pada Id ke-7 dan 69, serta 3 nilai NULL pada kolom \"SepalLengthCm\" pada baris ke-3, 64, dan 103."
   ]
  },
  {
   "block_group": "fa41e8695d1e4b8fbf6be3f62aa73169",
   "cell_type": "markdown",
   "metadata": {
    "cell_id": "b7114879ed6d47f9beb87bb7688249f5",
    "deepnote_cell_type": "text-cell-h2",
    "formattedRanges": []
   },
   "source": [
    "## Verifikasi Kualitas Data"
   ]
  },
  {
   "block_group": "3cbc01c1207e4adf89a47236785bc178",
   "cell_type": "markdown",
   "metadata": {
    "cell_id": "562d2e9c5ce641b293d6c9678f583498",
    "deepnote_cell_type": "text-cell-p",
    "formattedRanges": []
   },
   "source": [
    "Proses verifikasi kualitas data bertujuan untuk memastikan integritas data sebelum dilakukan analisis lebih lanjut. Salah satu langkah yang dilakukan adalah mengevaluasi kebersihan data, termasuk melihat apakah data lengkap, mengandung error, dan apakah ada nilai kosong (missing value)."
   ]
  },
  {
   "block_group": "54fe621e40274f1b950d431bbb89fa98",
   "cell_type": "markdown",
   "metadata": {
    "cell_id": "267a7105c05d4e89a4e02351cb3e82a9",
    "deepnote_cell_type": "text-cell-p",
    "formattedRanges": []
   },
   "source": [
    "Dari hasil penelusuran, ditemukan bahwa dalam tabel \"Iris\" terdapat kekosongan nilai pada beberapa kolom dan baris. Misalnya, terdapat 2 nilai NULL pada kolom \"SepalLengthCm\" dan \"Species\" pada Id ke-7 dan 69, serta 3 nilai NULL pada kolom \"SepalLengthCm\" pada baris ke-3, 64, dan 103."
   ]
  },
  {
   "block_group": "68be115f928c4f79810a1f74e98d0178",
   "cell_type": "markdown",
   "metadata": {
    "cell_id": "47c736618bec4338a1bff59af1787e00",
    "deepnote_cell_type": "text-cell-p",
    "formattedRanges": []
   },
   "source": [
    "Keberadaan nilai kosong ini dapat memengaruhi kualitas dan keakuratan analisis yang akan dilakukan. Oleh karena itu, untuk memperbaiki kualitas data diperlukan langkah untuk menangani nilai kosong ini sebelum melanjutkan analisis data lebih lanjut."
   ]
  },
  {
   "block_group": "e4a44a12577b4d7c8c774dac68bc0349",
   "cell_type": "markdown",
   "metadata": {
    "cell_id": "9432edf577524bf5bc01b8bfe3b268eb",
    "deepnote_cell_type": "text-cell-p",
    "formattedRanges": []
   },
   "source": [
    "Untuk memperbaiki kualitas data, langkah yang akan dilakukan:"
   ]
  },
  {
   "block_group": "8c534b3ea2c94b7091e7e067e981d812",
   "cell_type": "markdown",
   "metadata": {
    "cell_id": "64bb007f249e4794b2b62ffc25d716e4",
    "deepnote_app_block_visible": false,
    "deepnote_cell_type": "text-cell-bullet",
    "formattedRanges": [],
    "is_collapsed": false
   },
   "source": [
    "- Menghapus baris yang mengandung nilai kosong (NULL) pada kolom \"SepalLengthCm\" dan \"Species\"."
   ]
  },
  {
   "block_group": "630022d60cf94c678d61f8d3dc9bfdd6",
   "cell_type": "markdown",
   "metadata": {
    "cell_id": "3839cb0334db45fba1389e6605616a90",
    "deepnote_app_block_visible": false,
    "deepnote_cell_type": "text-cell-bullet",
    "formattedRanges": [],
    "is_collapsed": false
   },
   "source": [
    "- Melakukan pengisian atau imputasi nilai kosong untuk baris data yang mengandung nilai kosong (NULL) pada salah satu kolom saja yaitu \"SepalLenghtCm\".\r"
   ]
  },
  {
   "block_group": "fe7701f1153741bf8114cdd3e1a298ce",
   "cell_type": "markdown",
   "metadata": {
    "cell_id": "c160789f337a41698f88eeac865633f8",
    "deepnote_cell_type": "text-cell-h1",
    "formattedRanges": []
   },
   "source": [
    "# Persiapan Data (Preprocessing)"
   ]
  },
  {
   "block_group": "5c6ecbfda2eb44849748708770eed590",
   "cell_type": "markdown",
   "metadata": {
    "cell_id": "513daca7ecaa41c284b5f62651eb31c4",
    "deepnote_cell_type": "text-cell-p",
    "formattedRanges": []
   },
   "source": [
    "Tahap prepocessing data mencakup semua aktifitas untuk membangun dataset akhir (data yang digunakan untuk tool pemodelan) dari data mentah awal. Di sini kita akan melakukan pembersihan data untuk meningkatkan kualitas data sesuai dengan teknik yang dipilih."
   ]
  },
  {
   "block_group": "1b2da9fbaa5d4a9d96ce478f8b3c6f50",
   "cell_type": "markdown",
   "metadata": {
    "cell_id": "522f75bffa3d45099194b743593ba8bd",
    "deepnote_app_block_visible": false,
    "deepnote_cell_type": "text-cell-h2",
    "formattedRanges": [],
    "is_collapsed": false
   },
   "source": [
    "## Pengisian Data Missing Value dengan Mean"
   ]
  },
  {
   "block_group": "edf0fe4b2c9049f5bf834e83a8a34b07",
   "cell_type": "markdown",
   "metadata": {
    "cell_id": "2cde46654f8949da800c4924eeefe3da",
    "deepnote_cell_type": "text-cell-p",
    "formattedRanges": []
   },
   "source": [
    "Menduplikasi DataFrame df_iris ke dalam df_mean untuk menghindari modifikasi langsung pada DataFrame asli. Lalu, menampilkan semua DataFrame yang sudah diduplikasi."
   ]
  },
  {
   "block_group": "dc873c3f406649638be42672c09e03f0",
   "cell_type": "code",
   "execution_count": null,
   "metadata": {
    "cell_id": "80281ca93b6744eb94c64040bc388967",
    "deepnote_cell_type": "code",
    "deepnote_to_be_reexecuted": false,
    "execution_millis": 444,
    "execution_start": 1711538296217,
    "source_hash": null
   },
   "outputs": [
    {
     "data": {
      "application/vnd.deepnote.dataframe.v3+json": {
       "column_count": 6,
       "columns": [
        {
         "dtype": "int64",
         "name": "Id",
         "stats": {
          "histogram": [
           {
            "bin_end": 15.9,
            "bin_start": 1,
            "count": 15
           },
           {
            "bin_end": 30.8,
            "bin_start": 15.9,
            "count": 15
           },
           {
            "bin_end": 45.7,
            "bin_start": 30.8,
            "count": 15
           },
           {
            "bin_end": 60.6,
            "bin_start": 45.7,
            "count": 15
           },
           {
            "bin_end": 75.5,
            "bin_start": 60.6,
            "count": 15
           },
           {
            "bin_end": 90.4,
            "bin_start": 75.5,
            "count": 15
           },
           {
            "bin_end": 105.3,
            "bin_start": 90.4,
            "count": 15
           },
           {
            "bin_end": 120.2,
            "bin_start": 105.3,
            "count": 15
           },
           {
            "bin_end": 135.1,
            "bin_start": 120.2,
            "count": 15
           },
           {
            "bin_end": 150,
            "bin_start": 135.1,
            "count": 15
           }
          ],
          "max": "150",
          "min": "1",
          "nan_count": 0,
          "unique_count": 150
         }
        },
        {
         "dtype": "float64",
         "name": "SepalLengthCm",
         "stats": {
          "histogram": [
           {
            "bin_end": 4.66,
            "bin_start": 4.3,
            "count": 8
           },
           {
            "bin_end": 5.02,
            "bin_start": 4.66,
            "count": 22
           },
           {
            "bin_end": 5.38,
            "bin_start": 5.02,
            "count": 14
           },
           {
            "bin_end": 5.74,
            "bin_start": 5.38,
            "count": 27
           },
           {
            "bin_end": 6.1,
            "bin_start": 5.74,
            "count": 16
           },
           {
            "bin_end": 6.46,
            "bin_start": 6.1,
            "count": 24
           },
           {
            "bin_end": 6.82,
            "bin_start": 6.46,
            "count": 18
           },
           {
            "bin_end": 7.18,
            "bin_start": 6.82,
            "count": 5
           },
           {
            "bin_end": 7.54,
            "bin_start": 7.18,
            "count": 5
           },
           {
            "bin_end": 7.9,
            "bin_start": 7.54,
            "count": 6
           }
          ],
          "max": "7.9",
          "min": "4.3",
          "nan_count": 5,
          "unique_count": 34
         }
        },
        {
         "dtype": "float64",
         "name": "SepalWidthCm",
         "stats": {
          "histogram": [
           {
            "bin_end": 2.24,
            "bin_start": 2,
            "count": 4
           },
           {
            "bin_end": 2.48,
            "bin_start": 2.24,
            "count": 7
           },
           {
            "bin_end": 2.72,
            "bin_start": 2.48,
            "count": 22
           },
           {
            "bin_end": 2.96,
            "bin_start": 2.72,
            "count": 24
           },
           {
            "bin_end": 3.2,
            "bin_start": 2.96,
            "count": 38
           },
           {
            "bin_end": 3.4400000000000004,
            "bin_start": 3.2,
            "count": 31
           },
           {
            "bin_end": 3.6800000000000006,
            "bin_start": 3.4400000000000004,
            "count": 9
           },
           {
            "bin_end": 3.9200000000000004,
            "bin_start": 3.6800000000000006,
            "count": 11
           },
           {
            "bin_end": 4.16,
            "bin_start": 3.9200000000000004,
            "count": 2
           },
           {
            "bin_end": 4.4,
            "bin_start": 4.16,
            "count": 2
           }
          ],
          "max": "4.4",
          "min": "2.0",
          "nan_count": 0,
          "unique_count": 23
         }
        },
        {
         "dtype": "float64",
         "name": "PetalLengthCm",
         "stats": {
          "histogram": [
           {
            "bin_end": 1.59,
            "bin_start": 1,
            "count": 37
           },
           {
            "bin_end": 2.18,
            "bin_start": 1.59,
            "count": 13
           },
           {
            "bin_end": 2.7700000000000005,
            "bin_start": 2.18,
            "count": 0
           },
           {
            "bin_end": 3.3600000000000003,
            "bin_start": 2.7700000000000005,
            "count": 3
           },
           {
            "bin_end": 3.95,
            "bin_start": 3.3600000000000003,
            "count": 8
           },
           {
            "bin_end": 4.540000000000001,
            "bin_start": 3.95,
            "count": 26
           },
           {
            "bin_end": 5.130000000000001,
            "bin_start": 4.540000000000001,
            "count": 29
           },
           {
            "bin_end": 5.720000000000001,
            "bin_start": 5.130000000000001,
            "count": 18
           },
           {
            "bin_end": 6.3100000000000005,
            "bin_start": 5.720000000000001,
            "count": 11
           },
           {
            "bin_end": 6.9,
            "bin_start": 6.3100000000000005,
            "count": 5
           }
          ],
          "max": "6.9",
          "min": "1.0",
          "nan_count": 0,
          "unique_count": 43
         }
        },
        {
         "dtype": "float64",
         "name": "PetalWidthCm",
         "stats": {
          "histogram": [
           {
            "bin_end": 0.33999999999999997,
            "bin_start": 0.1,
            "count": 41
           },
           {
            "bin_end": 0.58,
            "bin_start": 0.33999999999999997,
            "count": 8
           },
           {
            "bin_end": 0.82,
            "bin_start": 0.58,
            "count": 1
           },
           {
            "bin_end": 1.06,
            "bin_start": 0.82,
            "count": 7
           },
           {
            "bin_end": 1.3,
            "bin_start": 1.06,
            "count": 8
           },
           {
            "bin_end": 1.54,
            "bin_start": 1.3,
            "count": 33
           },
           {
            "bin_end": 1.78,
            "bin_start": 1.54,
            "count": 6
           },
           {
            "bin_end": 2.02,
            "bin_start": 1.78,
            "count": 23
           },
           {
            "bin_end": 2.2600000000000002,
            "bin_start": 2.02,
            "count": 9
           },
           {
            "bin_end": 2.5,
            "bin_start": 2.2600000000000002,
            "count": 14
           }
          ],
          "max": "2.5",
          "min": "0.1",
          "nan_count": 0,
          "unique_count": 22
         }
        },
        {
         "dtype": "object",
         "name": "Species",
         "stats": {
          "categories": [
           {
            "count": 50,
            "name": "Iris-virginica"
           },
           {
            "count": 98,
            "name": "2 others"
           },
           {
            "count": 2,
            "name": "Missing"
           }
          ],
          "nan_count": 2,
          "unique_count": 3
         }
        },
        {
         "dtype": "int64",
         "name": "_deepnote_index_column"
        }
       ],
       "row_count": 150,
       "rows": [
        {
         "Id": 1,
         "PetalLengthCm": 1.4,
         "PetalWidthCm": 0.2,
         "SepalLengthCm": 5.1,
         "SepalWidthCm": 3.5,
         "Species": "Iris-setosa",
         "_deepnote_index_column": 0
        },
        {
         "Id": 2,
         "PetalLengthCm": 1.4,
         "PetalWidthCm": 0.2,
         "SepalLengthCm": 4.9,
         "SepalWidthCm": 3,
         "Species": "Iris-setosa",
         "_deepnote_index_column": 1
        },
        {
         "Id": 3,
         "PetalLengthCm": 1.3,
         "PetalWidthCm": 0.2,
         "SepalLengthCm": "nan",
         "SepalWidthCm": 3.2,
         "Species": "Iris-setosa",
         "_deepnote_index_column": 2
        },
        {
         "Id": 4,
         "PetalLengthCm": 1.5,
         "PetalWidthCm": 0.2,
         "SepalLengthCm": 4.6,
         "SepalWidthCm": 3.1,
         "Species": "Iris-setosa",
         "_deepnote_index_column": 3
        },
        {
         "Id": 5,
         "PetalLengthCm": 1.4,
         "PetalWidthCm": 0.2,
         "SepalLengthCm": 5,
         "SepalWidthCm": 3.6,
         "Species": "Iris-setosa",
         "_deepnote_index_column": 4
        },
        {
         "Id": 6,
         "PetalLengthCm": 1.7,
         "PetalWidthCm": 0.4,
         "SepalLengthCm": 5.4,
         "SepalWidthCm": 3.9,
         "Species": "Iris-setosa",
         "_deepnote_index_column": 5
        },
        {
         "Id": 7,
         "PetalLengthCm": 1.4,
         "PetalWidthCm": 0.3,
         "SepalLengthCm": "nan",
         "SepalWidthCm": 3.4,
         "Species": "None",
         "_deepnote_index_column": 6
        },
        {
         "Id": 8,
         "PetalLengthCm": 1.5,
         "PetalWidthCm": 0.2,
         "SepalLengthCm": 5,
         "SepalWidthCm": 3.4,
         "Species": "Iris-setosa",
         "_deepnote_index_column": 7
        },
        {
         "Id": 9,
         "PetalLengthCm": 1.4,
         "PetalWidthCm": 0.2,
         "SepalLengthCm": 4.4,
         "SepalWidthCm": 2.9,
         "Species": "Iris-setosa",
         "_deepnote_index_column": 8
        },
        {
         "Id": 10,
         "PetalLengthCm": 1.5,
         "PetalWidthCm": 0.1,
         "SepalLengthCm": 4.9,
         "SepalWidthCm": 3.1,
         "Species": "Iris-setosa",
         "_deepnote_index_column": 9
        }
       ]
      },
      "text/html": [
       "<div>\n",
       "<style scoped>\n",
       "    .dataframe tbody tr th:only-of-type {\n",
       "        vertical-align: middle;\n",
       "    }\n",
       "\n",
       "    .dataframe tbody tr th {\n",
       "        vertical-align: top;\n",
       "    }\n",
       "\n",
       "    .dataframe thead th {\n",
       "        text-align: right;\n",
       "    }\n",
       "</style>\n",
       "<table border=\"1\" class=\"dataframe\">\n",
       "  <thead>\n",
       "    <tr style=\"text-align: right;\">\n",
       "      <th></th>\n",
       "      <th>Id</th>\n",
       "      <th>SepalLengthCm</th>\n",
       "      <th>SepalWidthCm</th>\n",
       "      <th>PetalLengthCm</th>\n",
       "      <th>PetalWidthCm</th>\n",
       "      <th>Species</th>\n",
       "    </tr>\n",
       "  </thead>\n",
       "  <tbody>\n",
       "    <tr>\n",
       "      <th>0</th>\n",
       "      <td>1</td>\n",
       "      <td>5.1</td>\n",
       "      <td>3.5</td>\n",
       "      <td>1.4</td>\n",
       "      <td>0.2</td>\n",
       "      <td>Iris-setosa</td>\n",
       "    </tr>\n",
       "    <tr>\n",
       "      <th>1</th>\n",
       "      <td>2</td>\n",
       "      <td>4.9</td>\n",
       "      <td>3.0</td>\n",
       "      <td>1.4</td>\n",
       "      <td>0.2</td>\n",
       "      <td>Iris-setosa</td>\n",
       "    </tr>\n",
       "    <tr>\n",
       "      <th>2</th>\n",
       "      <td>3</td>\n",
       "      <td>NaN</td>\n",
       "      <td>3.2</td>\n",
       "      <td>1.3</td>\n",
       "      <td>0.2</td>\n",
       "      <td>Iris-setosa</td>\n",
       "    </tr>\n",
       "    <tr>\n",
       "      <th>3</th>\n",
       "      <td>4</td>\n",
       "      <td>4.6</td>\n",
       "      <td>3.1</td>\n",
       "      <td>1.5</td>\n",
       "      <td>0.2</td>\n",
       "      <td>Iris-setosa</td>\n",
       "    </tr>\n",
       "    <tr>\n",
       "      <th>4</th>\n",
       "      <td>5</td>\n",
       "      <td>5.0</td>\n",
       "      <td>3.6</td>\n",
       "      <td>1.4</td>\n",
       "      <td>0.2</td>\n",
       "      <td>Iris-setosa</td>\n",
       "    </tr>\n",
       "    <tr>\n",
       "      <th>...</th>\n",
       "      <td>...</td>\n",
       "      <td>...</td>\n",
       "      <td>...</td>\n",
       "      <td>...</td>\n",
       "      <td>...</td>\n",
       "      <td>...</td>\n",
       "    </tr>\n",
       "    <tr>\n",
       "      <th>145</th>\n",
       "      <td>146</td>\n",
       "      <td>6.7</td>\n",
       "      <td>3.0</td>\n",
       "      <td>5.2</td>\n",
       "      <td>2.3</td>\n",
       "      <td>Iris-virginica</td>\n",
       "    </tr>\n",
       "    <tr>\n",
       "      <th>146</th>\n",
       "      <td>147</td>\n",
       "      <td>6.3</td>\n",
       "      <td>2.5</td>\n",
       "      <td>5.0</td>\n",
       "      <td>1.9</td>\n",
       "      <td>Iris-virginica</td>\n",
       "    </tr>\n",
       "    <tr>\n",
       "      <th>147</th>\n",
       "      <td>148</td>\n",
       "      <td>6.5</td>\n",
       "      <td>3.0</td>\n",
       "      <td>5.2</td>\n",
       "      <td>2.0</td>\n",
       "      <td>Iris-virginica</td>\n",
       "    </tr>\n",
       "    <tr>\n",
       "      <th>148</th>\n",
       "      <td>149</td>\n",
       "      <td>6.2</td>\n",
       "      <td>3.4</td>\n",
       "      <td>5.4</td>\n",
       "      <td>2.3</td>\n",
       "      <td>Iris-virginica</td>\n",
       "    </tr>\n",
       "    <tr>\n",
       "      <th>149</th>\n",
       "      <td>150</td>\n",
       "      <td>5.9</td>\n",
       "      <td>3.0</td>\n",
       "      <td>5.1</td>\n",
       "      <td>1.8</td>\n",
       "      <td>Iris-virginica</td>\n",
       "    </tr>\n",
       "  </tbody>\n",
       "</table>\n",
       "<p>150 rows × 6 columns</p>\n",
       "</div>"
      ],
      "text/plain": [
       "      Id  SepalLengthCm  SepalWidthCm  PetalLengthCm  PetalWidthCm  \\\n",
       "0      1            5.1           3.5            1.4           0.2   \n",
       "1      2            4.9           3.0            1.4           0.2   \n",
       "2      3            NaN           3.2            1.3           0.2   \n",
       "3      4            4.6           3.1            1.5           0.2   \n",
       "4      5            5.0           3.6            1.4           0.2   \n",
       "..   ...            ...           ...            ...           ...   \n",
       "145  146            6.7           3.0            5.2           2.3   \n",
       "146  147            6.3           2.5            5.0           1.9   \n",
       "147  148            6.5           3.0            5.2           2.0   \n",
       "148  149            6.2           3.4            5.4           2.3   \n",
       "149  150            5.9           3.0            5.1           1.8   \n",
       "\n",
       "            Species  \n",
       "0       Iris-setosa  \n",
       "1       Iris-setosa  \n",
       "2       Iris-setosa  \n",
       "3       Iris-setosa  \n",
       "4       Iris-setosa  \n",
       "..              ...  \n",
       "145  Iris-virginica  \n",
       "146  Iris-virginica  \n",
       "147  Iris-virginica  \n",
       "148  Iris-virginica  \n",
       "149  Iris-virginica  \n",
       "\n",
       "[150 rows x 6 columns]"
      ]
     },
     "execution_count": 8,
     "metadata": {},
     "output_type": "execute_result"
    }
   ],
   "outputs_reference": "s3:deepnote-cell-outputs-production/cb57ad2a-7967-44f3-ae06-f349f608d86f",
   "source": [
    "df_mean = df_iris.copy()\n",
    "\n",
    "jumlah_baris = df_mean.shape[0]\n",
    "df_mean.head(jumlah_baris)"
   ]
  },
  {
   "block_group": "2aa9c0f21e7d4e5c8a3ca5f2f4fad4f5",
   "cell_type": "markdown",
   "metadata": {
    "cell_id": "3e142ec60c514c49915bd3df7d8b1391",
    "deepnote_cell_type": "text-cell-p",
    "formattedRanges": []
   },
   "source": [
    "Dari Tabel di atas, terlihat bahwa terdapat beberapa baris yang memiliki data kosong (missing-value). Untuk informasi lebih singkat, dapat kita lihat pada perhitungan jumlah nilai yang hilang dalam setiap kolom berikut."
   ]
  },
  {
   "block_group": "93d55d7b473a4a8aa169b6c08daf97e9",
   "cell_type": "code",
   "execution_count": null,
   "metadata": {
    "cell_id": "d3e396a8e248425ca563dfed59826cbc",
    "deepnote_cell_type": "code",
    "deepnote_to_be_reexecuted": false,
    "execution_millis": 380,
    "execution_start": 1711538296281,
    "source_hash": null
   },
   "outputs": [
    {
     "data": {
      "text/plain": [
       "Id               0\n",
       "SepalLengthCm    5\n",
       "SepalWidthCm     0\n",
       "PetalLengthCm    0\n",
       "PetalWidthCm     0\n",
       "Species          2\n",
       "dtype: int64"
      ]
     },
     "execution_count": 9,
     "metadata": {},
     "output_type": "execute_result"
    }
   ],
   "outputs_reference": "dbtable:cell_outputs/dd2c4403-11ac-4af5-b4ea-adb0191bc543",
   "source": [
    "df_mean.isnull().sum()"
   ]
  },
  {
   "block_group": "851cfe3cd4e943a7bc6c31cf3065ffd2",
   "cell_type": "markdown",
   "metadata": {
    "cell_id": "49bdd31fed774c7882214b56aaab2507",
    "deepnote_cell_type": "text-cell-p",
    "formattedRanges": []
   },
   "source": [
    "Karena pada tabel terlihat bahwa terdapat dua baris data yang memiliki nilai kosong (missing-value) pada kolom SepalLengthCm dan Species yang dapat menimbulkan kesalahan analisis, maka kita dapat menghapus kedua baris tersebut agar tidak menggangu proses pengisian data."
   ]
  },
  {
   "block_group": "dc7da4b1baa6434192a5f7e95cfc8821",
   "cell_type": "code",
   "execution_count": null,
   "metadata": {
    "cell_id": "b8cab57f20c04ccba638352663934286",
    "deepnote_cell_type": "code",
    "deepnote_to_be_reexecuted": false,
    "execution_millis": 380,
    "execution_start": 1711538296281,
    "source_hash": null
   },
   "outputs": [],
   "outputs_reference": null,
   "source": [
    "df_mean = df_mean.dropna(subset=['SepalLengthCm', 'Species'], how='all')"
   ]
  },
  {
   "block_group": "9d0f0cba08724a468638686402d270b3",
   "cell_type": "markdown",
   "metadata": {
    "cell_id": "5c6978bb553c47eaa1d712d89cff7b13",
    "deepnote_cell_type": "text-cell-p",
    "formattedRanges": []
   },
   "source": [
    "Menghitung kembali jumlah nilai yang hilang setelah penghapusan data."
   ]
  },
  {
   "block_group": "ed767d28dab042c5b376dcbc8f79ebf2",
   "cell_type": "code",
   "execution_count": null,
   "metadata": {
    "cell_id": "5eebcf56e9e64820ab476a86bec7dfa0",
    "deepnote_cell_type": "code",
    "deepnote_to_be_reexecuted": false,
    "execution_millis": 380,
    "execution_start": 1711538296282,
    "source_hash": null
   },
   "outputs": [
    {
     "data": {
      "text/plain": [
       "Id               0\n",
       "SepalLengthCm    3\n",
       "SepalWidthCm     0\n",
       "PetalLengthCm    0\n",
       "PetalWidthCm     0\n",
       "Species          0\n",
       "dtype: int64"
      ]
     },
     "execution_count": 11,
     "metadata": {},
     "output_type": "execute_result"
    }
   ],
   "outputs_reference": "dbtable:cell_outputs/61964d50-cf3b-4533-90ea-5190895a8a40",
   "source": [
    "df_mean.isnull().sum()"
   ]
  },
  {
   "block_group": "8e408731cf1547e6b50db090c16d3f23",
   "cell_type": "markdown",
   "metadata": {
    "cell_id": "e45dfbd9773a48938fb4ee6e1011ad93",
    "deepnote_cell_type": "text-cell-p",
    "formattedRanges": []
   },
   "source": [
    "Menampilkan kembali semua baris yang ada pada DataFrame setelah penghapusan data."
   ]
  },
  {
   "block_group": "54a7bd77cac14f28b7267284d9a1fb82",
   "cell_type": "code",
   "execution_count": null,
   "metadata": {
    "cell_id": "267fbc335c624998a5ad35982d719c95",
    "deepnote_cell_type": "code",
    "deepnote_table_loading": false,
    "deepnote_table_state": {
     "filters": [],
     "pageIndex": 0,
     "pageSize": 10,
     "sortBy": []
    },
    "deepnote_to_be_reexecuted": false,
    "execution_millis": 792,
    "execution_start": 1711538296301,
    "source_hash": null
   },
   "outputs": [
    {
     "data": {
      "application/vnd.deepnote.dataframe.v3+json": {
       "column_count": 6,
       "columns": [
        {
         "dtype": "int64",
         "name": "Id",
         "stats": {
          "histogram": [
           {
            "bin_end": 15.9,
            "bin_start": 1,
            "count": 14
           },
           {
            "bin_end": 30.8,
            "bin_start": 15.9,
            "count": 15
           },
           {
            "bin_end": 45.7,
            "bin_start": 30.8,
            "count": 15
           },
           {
            "bin_end": 60.6,
            "bin_start": 45.7,
            "count": 15
           },
           {
            "bin_end": 75.5,
            "bin_start": 60.6,
            "count": 14
           },
           {
            "bin_end": 90.4,
            "bin_start": 75.5,
            "count": 15
           },
           {
            "bin_end": 105.3,
            "bin_start": 90.4,
            "count": 15
           },
           {
            "bin_end": 120.2,
            "bin_start": 105.3,
            "count": 15
           },
           {
            "bin_end": 135.1,
            "bin_start": 120.2,
            "count": 15
           },
           {
            "bin_end": 150,
            "bin_start": 135.1,
            "count": 15
           }
          ],
          "max": "150",
          "min": "1",
          "nan_count": 0,
          "unique_count": 148
         }
        },
        {
         "dtype": "float64",
         "name": "SepalLengthCm",
         "stats": {
          "histogram": [
           {
            "bin_end": 4.66,
            "bin_start": 4.3,
            "count": 8
           },
           {
            "bin_end": 5.02,
            "bin_start": 4.66,
            "count": 22
           },
           {
            "bin_end": 5.38,
            "bin_start": 5.02,
            "count": 14
           },
           {
            "bin_end": 5.74,
            "bin_start": 5.38,
            "count": 27
           },
           {
            "bin_end": 6.1,
            "bin_start": 5.74,
            "count": 16
           },
           {
            "bin_end": 6.46,
            "bin_start": 6.1,
            "count": 24
           },
           {
            "bin_end": 6.82,
            "bin_start": 6.46,
            "count": 18
           },
           {
            "bin_end": 7.18,
            "bin_start": 6.82,
            "count": 5
           },
           {
            "bin_end": 7.54,
            "bin_start": 7.18,
            "count": 5
           },
           {
            "bin_end": 7.9,
            "bin_start": 7.54,
            "count": 6
           }
          ],
          "max": "7.9",
          "min": "4.3",
          "nan_count": 3,
          "unique_count": 34
         }
        },
        {
         "dtype": "float64",
         "name": "SepalWidthCm",
         "stats": {
          "histogram": [
           {
            "bin_end": 2.24,
            "bin_start": 2,
            "count": 3
           },
           {
            "bin_end": 2.48,
            "bin_start": 2.24,
            "count": 7
           },
           {
            "bin_end": 2.72,
            "bin_start": 2.48,
            "count": 22
           },
           {
            "bin_end": 2.96,
            "bin_start": 2.72,
            "count": 24
           },
           {
            "bin_end": 3.2,
            "bin_start": 2.96,
            "count": 38
           },
           {
            "bin_end": 3.4400000000000004,
            "bin_start": 3.2,
            "count": 30
           },
           {
            "bin_end": 3.6800000000000006,
            "bin_start": 3.4400000000000004,
            "count": 9
           },
           {
            "bin_end": 3.9200000000000004,
            "bin_start": 3.6800000000000006,
            "count": 11
           },
           {
            "bin_end": 4.16,
            "bin_start": 3.9200000000000004,
            "count": 2
           },
           {
            "bin_end": 4.4,
            "bin_start": 4.16,
            "count": 2
           }
          ],
          "max": "4.4",
          "min": "2.0",
          "nan_count": 0,
          "unique_count": 23
         }
        },
        {
         "dtype": "float64",
         "name": "PetalLengthCm",
         "stats": {
          "histogram": [
           {
            "bin_end": 1.59,
            "bin_start": 1,
            "count": 36
           },
           {
            "bin_end": 2.18,
            "bin_start": 1.59,
            "count": 13
           },
           {
            "bin_end": 2.7700000000000005,
            "bin_start": 2.18,
            "count": 0
           },
           {
            "bin_end": 3.3600000000000003,
            "bin_start": 2.7700000000000005,
            "count": 3
           },
           {
            "bin_end": 3.95,
            "bin_start": 3.3600000000000003,
            "count": 8
           },
           {
            "bin_end": 4.540000000000001,
            "bin_start": 3.95,
            "count": 25
           },
           {
            "bin_end": 5.130000000000001,
            "bin_start": 4.540000000000001,
            "count": 29
           },
           {
            "bin_end": 5.720000000000001,
            "bin_start": 5.130000000000001,
            "count": 18
           },
           {
            "bin_end": 6.3100000000000005,
            "bin_start": 5.720000000000001,
            "count": 11
           },
           {
            "bin_end": 6.9,
            "bin_start": 6.3100000000000005,
            "count": 5
           }
          ],
          "max": "6.9",
          "min": "1.0",
          "nan_count": 0,
          "unique_count": 43
         }
        },
        {
         "dtype": "float64",
         "name": "PetalWidthCm",
         "stats": {
          "histogram": [
           {
            "bin_end": 0.33999999999999997,
            "bin_start": 0.1,
            "count": 40
           },
           {
            "bin_end": 0.58,
            "bin_start": 0.33999999999999997,
            "count": 8
           },
           {
            "bin_end": 0.82,
            "bin_start": 0.58,
            "count": 1
           },
           {
            "bin_end": 1.06,
            "bin_start": 0.82,
            "count": 7
           },
           {
            "bin_end": 1.3,
            "bin_start": 1.06,
            "count": 8
           },
           {
            "bin_end": 1.54,
            "bin_start": 1.3,
            "count": 32
           },
           {
            "bin_end": 1.78,
            "bin_start": 1.54,
            "count": 6
           },
           {
            "bin_end": 2.02,
            "bin_start": 1.78,
            "count": 23
           },
           {
            "bin_end": 2.2600000000000002,
            "bin_start": 2.02,
            "count": 9
           },
           {
            "bin_end": 2.5,
            "bin_start": 2.2600000000000002,
            "count": 14
           }
          ],
          "max": "2.5",
          "min": "0.1",
          "nan_count": 0,
          "unique_count": 22
         }
        },
        {
         "dtype": "object",
         "name": "Species",
         "stats": {
          "categories": [
           {
            "count": 50,
            "name": "Iris-virginica"
           },
           {
            "count": 49,
            "name": "Iris-setosa"
           },
           {
            "count": 49,
            "name": "Iris-versicolor"
           }
          ],
          "nan_count": 0,
          "unique_count": 3
         }
        },
        {
         "dtype": "int64",
         "name": "_deepnote_index_column"
        }
       ],
       "row_count": 148,
       "rows": [
        {
         "Id": 1,
         "PetalLengthCm": 1.4,
         "PetalWidthCm": 0.2,
         "SepalLengthCm": 5.1,
         "SepalWidthCm": 3.5,
         "Species": "Iris-setosa",
         "_deepnote_index_column": 0
        },
        {
         "Id": 2,
         "PetalLengthCm": 1.4,
         "PetalWidthCm": 0.2,
         "SepalLengthCm": 4.9,
         "SepalWidthCm": 3,
         "Species": "Iris-setosa",
         "_deepnote_index_column": 1
        },
        {
         "Id": 3,
         "PetalLengthCm": 1.3,
         "PetalWidthCm": 0.2,
         "SepalLengthCm": "nan",
         "SepalWidthCm": 3.2,
         "Species": "Iris-setosa",
         "_deepnote_index_column": 2
        },
        {
         "Id": 4,
         "PetalLengthCm": 1.5,
         "PetalWidthCm": 0.2,
         "SepalLengthCm": 4.6,
         "SepalWidthCm": 3.1,
         "Species": "Iris-setosa",
         "_deepnote_index_column": 3
        },
        {
         "Id": 5,
         "PetalLengthCm": 1.4,
         "PetalWidthCm": 0.2,
         "SepalLengthCm": 5,
         "SepalWidthCm": 3.6,
         "Species": "Iris-setosa",
         "_deepnote_index_column": 4
        },
        {
         "Id": 6,
         "PetalLengthCm": 1.7,
         "PetalWidthCm": 0.4,
         "SepalLengthCm": 5.4,
         "SepalWidthCm": 3.9,
         "Species": "Iris-setosa",
         "_deepnote_index_column": 5
        },
        {
         "Id": 8,
         "PetalLengthCm": 1.5,
         "PetalWidthCm": 0.2,
         "SepalLengthCm": 5,
         "SepalWidthCm": 3.4,
         "Species": "Iris-setosa",
         "_deepnote_index_column": 7
        },
        {
         "Id": 9,
         "PetalLengthCm": 1.4,
         "PetalWidthCm": 0.2,
         "SepalLengthCm": 4.4,
         "SepalWidthCm": 2.9,
         "Species": "Iris-setosa",
         "_deepnote_index_column": 8
        },
        {
         "Id": 10,
         "PetalLengthCm": 1.5,
         "PetalWidthCm": 0.1,
         "SepalLengthCm": 4.9,
         "SepalWidthCm": 3.1,
         "Species": "Iris-setosa",
         "_deepnote_index_column": 9
        },
        {
         "Id": 11,
         "PetalLengthCm": 1.5,
         "PetalWidthCm": 0.2,
         "SepalLengthCm": 5.4,
         "SepalWidthCm": 3.7,
         "Species": "Iris-setosa",
         "_deepnote_index_column": 10
        }
       ]
      },
      "text/html": [
       "<div>\n",
       "<style scoped>\n",
       "    .dataframe tbody tr th:only-of-type {\n",
       "        vertical-align: middle;\n",
       "    }\n",
       "\n",
       "    .dataframe tbody tr th {\n",
       "        vertical-align: top;\n",
       "    }\n",
       "\n",
       "    .dataframe thead th {\n",
       "        text-align: right;\n",
       "    }\n",
       "</style>\n",
       "<table border=\"1\" class=\"dataframe\">\n",
       "  <thead>\n",
       "    <tr style=\"text-align: right;\">\n",
       "      <th></th>\n",
       "      <th>Id</th>\n",
       "      <th>SepalLengthCm</th>\n",
       "      <th>SepalWidthCm</th>\n",
       "      <th>PetalLengthCm</th>\n",
       "      <th>PetalWidthCm</th>\n",
       "      <th>Species</th>\n",
       "    </tr>\n",
       "  </thead>\n",
       "  <tbody>\n",
       "    <tr>\n",
       "      <th>0</th>\n",
       "      <td>1</td>\n",
       "      <td>5.1</td>\n",
       "      <td>3.5</td>\n",
       "      <td>1.4</td>\n",
       "      <td>0.2</td>\n",
       "      <td>Iris-setosa</td>\n",
       "    </tr>\n",
       "    <tr>\n",
       "      <th>1</th>\n",
       "      <td>2</td>\n",
       "      <td>4.9</td>\n",
       "      <td>3.0</td>\n",
       "      <td>1.4</td>\n",
       "      <td>0.2</td>\n",
       "      <td>Iris-setosa</td>\n",
       "    </tr>\n",
       "    <tr>\n",
       "      <th>2</th>\n",
       "      <td>3</td>\n",
       "      <td>NaN</td>\n",
       "      <td>3.2</td>\n",
       "      <td>1.3</td>\n",
       "      <td>0.2</td>\n",
       "      <td>Iris-setosa</td>\n",
       "    </tr>\n",
       "    <tr>\n",
       "      <th>3</th>\n",
       "      <td>4</td>\n",
       "      <td>4.6</td>\n",
       "      <td>3.1</td>\n",
       "      <td>1.5</td>\n",
       "      <td>0.2</td>\n",
       "      <td>Iris-setosa</td>\n",
       "    </tr>\n",
       "    <tr>\n",
       "      <th>4</th>\n",
       "      <td>5</td>\n",
       "      <td>5.0</td>\n",
       "      <td>3.6</td>\n",
       "      <td>1.4</td>\n",
       "      <td>0.2</td>\n",
       "      <td>Iris-setosa</td>\n",
       "    </tr>\n",
       "    <tr>\n",
       "      <th>...</th>\n",
       "      <td>...</td>\n",
       "      <td>...</td>\n",
       "      <td>...</td>\n",
       "      <td>...</td>\n",
       "      <td>...</td>\n",
       "      <td>...</td>\n",
       "    </tr>\n",
       "    <tr>\n",
       "      <th>145</th>\n",
       "      <td>146</td>\n",
       "      <td>6.7</td>\n",
       "      <td>3.0</td>\n",
       "      <td>5.2</td>\n",
       "      <td>2.3</td>\n",
       "      <td>Iris-virginica</td>\n",
       "    </tr>\n",
       "    <tr>\n",
       "      <th>146</th>\n",
       "      <td>147</td>\n",
       "      <td>6.3</td>\n",
       "      <td>2.5</td>\n",
       "      <td>5.0</td>\n",
       "      <td>1.9</td>\n",
       "      <td>Iris-virginica</td>\n",
       "    </tr>\n",
       "    <tr>\n",
       "      <th>147</th>\n",
       "      <td>148</td>\n",
       "      <td>6.5</td>\n",
       "      <td>3.0</td>\n",
       "      <td>5.2</td>\n",
       "      <td>2.0</td>\n",
       "      <td>Iris-virginica</td>\n",
       "    </tr>\n",
       "    <tr>\n",
       "      <th>148</th>\n",
       "      <td>149</td>\n",
       "      <td>6.2</td>\n",
       "      <td>3.4</td>\n",
       "      <td>5.4</td>\n",
       "      <td>2.3</td>\n",
       "      <td>Iris-virginica</td>\n",
       "    </tr>\n",
       "    <tr>\n",
       "      <th>149</th>\n",
       "      <td>150</td>\n",
       "      <td>5.9</td>\n",
       "      <td>3.0</td>\n",
       "      <td>5.1</td>\n",
       "      <td>1.8</td>\n",
       "      <td>Iris-virginica</td>\n",
       "    </tr>\n",
       "  </tbody>\n",
       "</table>\n",
       "<p>148 rows × 6 columns</p>\n",
       "</div>"
      ],
      "text/plain": [
       "      Id  SepalLengthCm  SepalWidthCm  PetalLengthCm  PetalWidthCm  \\\n",
       "0      1            5.1           3.5            1.4           0.2   \n",
       "1      2            4.9           3.0            1.4           0.2   \n",
       "2      3            NaN           3.2            1.3           0.2   \n",
       "3      4            4.6           3.1            1.5           0.2   \n",
       "4      5            5.0           3.6            1.4           0.2   \n",
       "..   ...            ...           ...            ...           ...   \n",
       "145  146            6.7           3.0            5.2           2.3   \n",
       "146  147            6.3           2.5            5.0           1.9   \n",
       "147  148            6.5           3.0            5.2           2.0   \n",
       "148  149            6.2           3.4            5.4           2.3   \n",
       "149  150            5.9           3.0            5.1           1.8   \n",
       "\n",
       "            Species  \n",
       "0       Iris-setosa  \n",
       "1       Iris-setosa  \n",
       "2       Iris-setosa  \n",
       "3       Iris-setosa  \n",
       "4       Iris-setosa  \n",
       "..              ...  \n",
       "145  Iris-virginica  \n",
       "146  Iris-virginica  \n",
       "147  Iris-virginica  \n",
       "148  Iris-virginica  \n",
       "149  Iris-virginica  \n",
       "\n",
       "[148 rows x 6 columns]"
      ]
     },
     "execution_count": 12,
     "metadata": {},
     "output_type": "execute_result"
    }
   ],
   "outputs_reference": "s3:deepnote-cell-outputs-production/a7d22766-4ffb-4c3d-a942-f5fdd5c62631",
   "source": [
    "jumlah_baris = df_mean.shape[0]\n",
    "df_mean.head(jumlah_baris)"
   ]
  },
  {
   "block_group": "9fe73448419745d282ff5b47d10db57e",
   "cell_type": "markdown",
   "metadata": {
    "cell_id": "a277184274ab4771820cf98bf6a95ed9",
    "deepnote_cell_type": "text-cell-p",
    "formattedRanges": []
   },
   "source": [
    "Menghitung rata-rata dari kolom SepalLengthCm hanya untuk baris di mana Species adalah \"Iris-setosa\"."
   ]
  },
  {
   "block_group": "4523fc02232a43b795ebbe21e2282059",
   "cell_type": "code",
   "execution_count": null,
   "metadata": {
    "cell_id": "1ea89c0821494ba6860f23c4a71eaaba",
    "deepnote_cell_type": "code",
    "deepnote_to_be_reexecuted": false,
    "execution_millis": 752,
    "execution_start": 1711538296342,
    "source_hash": null
   },
   "outputs": [
    {
     "name": "stdout",
     "output_type": "stream",
     "text": [
      "Species\n",
      "Iris-setosa        5.020833\n",
      "Iris-versicolor    5.927083\n",
      "Iris-virginica     6.577551\n",
      "Name: SepalLengthCm, dtype: float64\n"
     ]
    }
   ],
   "outputs_reference": "dbtable:cell_outputs/e724b1b5-8b9f-43c8-b27d-75ddb22e99ae",
   "source": [
    "average_sepal_length = df_mean.groupby('Species')['SepalLengthCm'].mean()\n",
    "\n",
    "print(average_sepal_length)"
   ]
  },
  {
   "block_group": "40171beff60b4738904d5ae2a605180d",
   "cell_type": "markdown",
   "metadata": {
    "cell_id": "6f1f77c4f4e74d8b9c1948f3ce0fd145",
    "deepnote_cell_type": "text-cell-p",
    "formattedRanges": []
   },
   "source": [
    "Menghitung rata-rata berdasarkan Species dan bulatkan ke satu desimal."
   ]
  },
  {
   "block_group": "af1b8f40b9b5477c9473bfae38b9b352",
   "cell_type": "code",
   "execution_count": null,
   "metadata": {
    "cell_id": "fb141cf73c6148858bb3bd6086ba48b5",
    "deepnote_cell_type": "code",
    "deepnote_to_be_reexecuted": false,
    "execution_millis": 728,
    "execution_start": 1711538296366,
    "source_hash": null
   },
   "outputs": [
    {
     "name": "stdout",
     "output_type": "stream",
     "text": [
      "Species\n",
      "Iris-setosa        5.0\n",
      "Iris-versicolor    5.9\n",
      "Iris-virginica     6.6\n",
      "Name: SepalLengthCm, dtype: float64\n"
     ]
    }
   ],
   "outputs_reference": "dbtable:cell_outputs/7afb532c-efac-4712-8450-c62891c83492",
   "source": [
    "average_sepal_length = df_mean.groupby('Species')['SepalLengthCm'].mean().round(1)\n",
    "\n",
    "print(average_sepal_length)"
   ]
  },
  {
   "block_group": "bdb4c060593f4b43b058f7f6d71f23ec",
   "cell_type": "markdown",
   "metadata": {
    "cell_id": "bab31a6e0c074436946abb77c65b910c",
    "deepnote_cell_type": "text-cell-p",
    "formattedRanges": []
   },
   "source": [
    "Isi nilai kosong (NULL) dengan rata-rata berdasarkan Species"
   ]
  },
  {
   "block_group": "def952dc5f8c41d3a32b397e04e3e6d9",
   "cell_type": "code",
   "execution_count": null,
   "metadata": {
    "cell_id": "69ecf5042cc4403ebbfbadaab63e9b0c",
    "deepnote_cell_type": "code",
    "deepnote_to_be_reexecuted": false,
    "execution_millis": 722,
    "execution_start": 1711538296373,
    "source_hash": null
   },
   "outputs": [],
   "outputs_reference": null,
   "source": [
    "for species, avg_length in average_sepal_length.items():\n",
    "    df_mean.loc[(df_mean['SepalLengthCm'].isnull()) & (df_mean['Species'] == species), 'SepalLengthCm'] = avg_length"
   ]
  },
  {
   "block_group": "85b9b9d5b0a54f53a12a65f1cac8508a",
   "cell_type": "markdown",
   "metadata": {
    "cell_id": "b6370a8ce2dc43d58fcbaf0a428deea1",
    "deepnote_cell_type": "text-cell-p",
    "formattedRanges": []
   },
   "source": [
    "Menghitung kembali jumlah nilai yang hilang setelah pengisian data."
   ]
  },
  {
   "block_group": "f1d92260d6ef47f098e8453e48ee85fa",
   "cell_type": "code",
   "execution_count": null,
   "metadata": {
    "cell_id": "9eabcf8bf1c643639b17c5ac8280b3b7",
    "deepnote_cell_type": "code",
    "deepnote_to_be_reexecuted": false,
    "execution_millis": 683,
    "execution_start": 1711538296412,
    "source_hash": null
   },
   "outputs": [
    {
     "data": {
      "text/plain": [
       "Id               0\n",
       "SepalLengthCm    0\n",
       "SepalWidthCm     0\n",
       "PetalLengthCm    0\n",
       "PetalWidthCm     0\n",
       "Species          0\n",
       "dtype: int64"
      ]
     },
     "execution_count": 16,
     "metadata": {},
     "output_type": "execute_result"
    }
   ],
   "outputs_reference": "dbtable:cell_outputs/6e0d501e-efd8-403f-a28c-b31c7304dcea",
   "source": [
    "df_mean.isnull().sum()"
   ]
  },
  {
   "block_group": "3c6be6e6f21745c6a7b87eac1803acbc",
   "cell_type": "markdown",
   "metadata": {
    "cell_id": "9d824a5fac0a41828d8b5acfae486424",
    "deepnote_cell_type": "text-cell-p",
    "formattedRanges": []
   },
   "source": [
    "Menampilkan kembali semua baris yang ada pada DataFrame setelah pengisian nilai kosong.\r"
   ]
  },
  {
   "block_group": "ba755b33302a4f98997f35bf6cb83d06",
   "cell_type": "code",
   "execution_count": null,
   "metadata": {
    "cell_id": "5605940054df4f9db66aa7a58b6ad967",
    "deepnote_cell_type": "code",
    "deepnote_table_loading": false,
    "deepnote_table_state": {
     "filters": [],
     "pageIndex": 0,
     "pageSize": 10,
     "sortBy": []
    },
    "deepnote_to_be_reexecuted": false,
    "execution_millis": 683,
    "execution_start": 1711538296413,
    "source_hash": null
   },
   "outputs": [
    {
     "data": {
      "application/vnd.deepnote.dataframe.v3+json": {
       "column_count": 6,
       "columns": [
        {
         "dtype": "int64",
         "name": "Id",
         "stats": {
          "histogram": [
           {
            "bin_end": 15.9,
            "bin_start": 1,
            "count": 14
           },
           {
            "bin_end": 30.8,
            "bin_start": 15.9,
            "count": 15
           },
           {
            "bin_end": 45.7,
            "bin_start": 30.8,
            "count": 15
           },
           {
            "bin_end": 60.6,
            "bin_start": 45.7,
            "count": 15
           },
           {
            "bin_end": 75.5,
            "bin_start": 60.6,
            "count": 14
           },
           {
            "bin_end": 90.4,
            "bin_start": 75.5,
            "count": 15
           },
           {
            "bin_end": 105.3,
            "bin_start": 90.4,
            "count": 15
           },
           {
            "bin_end": 120.2,
            "bin_start": 105.3,
            "count": 15
           },
           {
            "bin_end": 135.1,
            "bin_start": 120.2,
            "count": 15
           },
           {
            "bin_end": 150,
            "bin_start": 135.1,
            "count": 15
           }
          ],
          "max": "150",
          "min": "1",
          "nan_count": 0,
          "unique_count": 148
         }
        },
        {
         "dtype": "float64",
         "name": "SepalLengthCm",
         "stats": {
          "histogram": [
           {
            "bin_end": 4.66,
            "bin_start": 4.3,
            "count": 8
           },
           {
            "bin_end": 5.02,
            "bin_start": 4.66,
            "count": 23
           },
           {
            "bin_end": 5.38,
            "bin_start": 5.02,
            "count": 14
           },
           {
            "bin_end": 5.74,
            "bin_start": 5.38,
            "count": 27
           },
           {
            "bin_end": 6.1,
            "bin_start": 5.74,
            "count": 17
           },
           {
            "bin_end": 6.46,
            "bin_start": 6.1,
            "count": 24
           },
           {
            "bin_end": 6.82,
            "bin_start": 6.46,
            "count": 19
           },
           {
            "bin_end": 7.18,
            "bin_start": 6.82,
            "count": 5
           },
           {
            "bin_end": 7.54,
            "bin_start": 7.18,
            "count": 5
           },
           {
            "bin_end": 7.9,
            "bin_start": 7.54,
            "count": 6
           }
          ],
          "max": "7.9",
          "min": "4.3",
          "nan_count": 0,
          "unique_count": 34
         }
        },
        {
         "dtype": "float64",
         "name": "SepalWidthCm",
         "stats": {
          "histogram": [
           {
            "bin_end": 2.24,
            "bin_start": 2,
            "count": 3
           },
           {
            "bin_end": 2.48,
            "bin_start": 2.24,
            "count": 7
           },
           {
            "bin_end": 2.72,
            "bin_start": 2.48,
            "count": 22
           },
           {
            "bin_end": 2.96,
            "bin_start": 2.72,
            "count": 24
           },
           {
            "bin_end": 3.2,
            "bin_start": 2.96,
            "count": 38
           },
           {
            "bin_end": 3.4400000000000004,
            "bin_start": 3.2,
            "count": 30
           },
           {
            "bin_end": 3.6800000000000006,
            "bin_start": 3.4400000000000004,
            "count": 9
           },
           {
            "bin_end": 3.9200000000000004,
            "bin_start": 3.6800000000000006,
            "count": 11
           },
           {
            "bin_end": 4.16,
            "bin_start": 3.9200000000000004,
            "count": 2
           },
           {
            "bin_end": 4.4,
            "bin_start": 4.16,
            "count": 2
           }
          ],
          "max": "4.4",
          "min": "2.0",
          "nan_count": 0,
          "unique_count": 23
         }
        },
        {
         "dtype": "float64",
         "name": "PetalLengthCm",
         "stats": {
          "histogram": [
           {
            "bin_end": 1.59,
            "bin_start": 1,
            "count": 36
           },
           {
            "bin_end": 2.18,
            "bin_start": 1.59,
            "count": 13
           },
           {
            "bin_end": 2.7700000000000005,
            "bin_start": 2.18,
            "count": 0
           },
           {
            "bin_end": 3.3600000000000003,
            "bin_start": 2.7700000000000005,
            "count": 3
           },
           {
            "bin_end": 3.95,
            "bin_start": 3.3600000000000003,
            "count": 8
           },
           {
            "bin_end": 4.540000000000001,
            "bin_start": 3.95,
            "count": 25
           },
           {
            "bin_end": 5.130000000000001,
            "bin_start": 4.540000000000001,
            "count": 29
           },
           {
            "bin_end": 5.720000000000001,
            "bin_start": 5.130000000000001,
            "count": 18
           },
           {
            "bin_end": 6.3100000000000005,
            "bin_start": 5.720000000000001,
            "count": 11
           },
           {
            "bin_end": 6.9,
            "bin_start": 6.3100000000000005,
            "count": 5
           }
          ],
          "max": "6.9",
          "min": "1.0",
          "nan_count": 0,
          "unique_count": 43
         }
        },
        {
         "dtype": "float64",
         "name": "PetalWidthCm",
         "stats": {
          "histogram": [
           {
            "bin_end": 0.33999999999999997,
            "bin_start": 0.1,
            "count": 40
           },
           {
            "bin_end": 0.58,
            "bin_start": 0.33999999999999997,
            "count": 8
           },
           {
            "bin_end": 0.82,
            "bin_start": 0.58,
            "count": 1
           },
           {
            "bin_end": 1.06,
            "bin_start": 0.82,
            "count": 7
           },
           {
            "bin_end": 1.3,
            "bin_start": 1.06,
            "count": 8
           },
           {
            "bin_end": 1.54,
            "bin_start": 1.3,
            "count": 32
           },
           {
            "bin_end": 1.78,
            "bin_start": 1.54,
            "count": 6
           },
           {
            "bin_end": 2.02,
            "bin_start": 1.78,
            "count": 23
           },
           {
            "bin_end": 2.2600000000000002,
            "bin_start": 2.02,
            "count": 9
           },
           {
            "bin_end": 2.5,
            "bin_start": 2.2600000000000002,
            "count": 14
           }
          ],
          "max": "2.5",
          "min": "0.1",
          "nan_count": 0,
          "unique_count": 22
         }
        },
        {
         "dtype": "object",
         "name": "Species",
         "stats": {
          "categories": [
           {
            "count": 50,
            "name": "Iris-virginica"
           },
           {
            "count": 49,
            "name": "Iris-setosa"
           },
           {
            "count": 49,
            "name": "Iris-versicolor"
           }
          ],
          "nan_count": 0,
          "unique_count": 3
         }
        },
        {
         "dtype": "int64",
         "name": "_deepnote_index_column"
        }
       ],
       "row_count": 148,
       "rows": [
        {
         "Id": 1,
         "PetalLengthCm": 1.4,
         "PetalWidthCm": 0.2,
         "SepalLengthCm": 5.1,
         "SepalWidthCm": 3.5,
         "Species": "Iris-setosa",
         "_deepnote_index_column": 0
        },
        {
         "Id": 2,
         "PetalLengthCm": 1.4,
         "PetalWidthCm": 0.2,
         "SepalLengthCm": 4.9,
         "SepalWidthCm": 3,
         "Species": "Iris-setosa",
         "_deepnote_index_column": 1
        },
        {
         "Id": 3,
         "PetalLengthCm": 1.3,
         "PetalWidthCm": 0.2,
         "SepalLengthCm": 5,
         "SepalWidthCm": 3.2,
         "Species": "Iris-setosa",
         "_deepnote_index_column": 2
        },
        {
         "Id": 4,
         "PetalLengthCm": 1.5,
         "PetalWidthCm": 0.2,
         "SepalLengthCm": 4.6,
         "SepalWidthCm": 3.1,
         "Species": "Iris-setosa",
         "_deepnote_index_column": 3
        },
        {
         "Id": 5,
         "PetalLengthCm": 1.4,
         "PetalWidthCm": 0.2,
         "SepalLengthCm": 5,
         "SepalWidthCm": 3.6,
         "Species": "Iris-setosa",
         "_deepnote_index_column": 4
        },
        {
         "Id": 6,
         "PetalLengthCm": 1.7,
         "PetalWidthCm": 0.4,
         "SepalLengthCm": 5.4,
         "SepalWidthCm": 3.9,
         "Species": "Iris-setosa",
         "_deepnote_index_column": 5
        },
        {
         "Id": 8,
         "PetalLengthCm": 1.5,
         "PetalWidthCm": 0.2,
         "SepalLengthCm": 5,
         "SepalWidthCm": 3.4,
         "Species": "Iris-setosa",
         "_deepnote_index_column": 7
        },
        {
         "Id": 9,
         "PetalLengthCm": 1.4,
         "PetalWidthCm": 0.2,
         "SepalLengthCm": 4.4,
         "SepalWidthCm": 2.9,
         "Species": "Iris-setosa",
         "_deepnote_index_column": 8
        },
        {
         "Id": 10,
         "PetalLengthCm": 1.5,
         "PetalWidthCm": 0.1,
         "SepalLengthCm": 4.9,
         "SepalWidthCm": 3.1,
         "Species": "Iris-setosa",
         "_deepnote_index_column": 9
        },
        {
         "Id": 11,
         "PetalLengthCm": 1.5,
         "PetalWidthCm": 0.2,
         "SepalLengthCm": 5.4,
         "SepalWidthCm": 3.7,
         "Species": "Iris-setosa",
         "_deepnote_index_column": 10
        }
       ]
      },
      "text/html": [
       "<div>\n",
       "<style scoped>\n",
       "    .dataframe tbody tr th:only-of-type {\n",
       "        vertical-align: middle;\n",
       "    }\n",
       "\n",
       "    .dataframe tbody tr th {\n",
       "        vertical-align: top;\n",
       "    }\n",
       "\n",
       "    .dataframe thead th {\n",
       "        text-align: right;\n",
       "    }\n",
       "</style>\n",
       "<table border=\"1\" class=\"dataframe\">\n",
       "  <thead>\n",
       "    <tr style=\"text-align: right;\">\n",
       "      <th></th>\n",
       "      <th>Id</th>\n",
       "      <th>SepalLengthCm</th>\n",
       "      <th>SepalWidthCm</th>\n",
       "      <th>PetalLengthCm</th>\n",
       "      <th>PetalWidthCm</th>\n",
       "      <th>Species</th>\n",
       "    </tr>\n",
       "  </thead>\n",
       "  <tbody>\n",
       "    <tr>\n",
       "      <th>0</th>\n",
       "      <td>1</td>\n",
       "      <td>5.1</td>\n",
       "      <td>3.5</td>\n",
       "      <td>1.4</td>\n",
       "      <td>0.2</td>\n",
       "      <td>Iris-setosa</td>\n",
       "    </tr>\n",
       "    <tr>\n",
       "      <th>1</th>\n",
       "      <td>2</td>\n",
       "      <td>4.9</td>\n",
       "      <td>3.0</td>\n",
       "      <td>1.4</td>\n",
       "      <td>0.2</td>\n",
       "      <td>Iris-setosa</td>\n",
       "    </tr>\n",
       "    <tr>\n",
       "      <th>2</th>\n",
       "      <td>3</td>\n",
       "      <td>5.0</td>\n",
       "      <td>3.2</td>\n",
       "      <td>1.3</td>\n",
       "      <td>0.2</td>\n",
       "      <td>Iris-setosa</td>\n",
       "    </tr>\n",
       "    <tr>\n",
       "      <th>3</th>\n",
       "      <td>4</td>\n",
       "      <td>4.6</td>\n",
       "      <td>3.1</td>\n",
       "      <td>1.5</td>\n",
       "      <td>0.2</td>\n",
       "      <td>Iris-setosa</td>\n",
       "    </tr>\n",
       "    <tr>\n",
       "      <th>4</th>\n",
       "      <td>5</td>\n",
       "      <td>5.0</td>\n",
       "      <td>3.6</td>\n",
       "      <td>1.4</td>\n",
       "      <td>0.2</td>\n",
       "      <td>Iris-setosa</td>\n",
       "    </tr>\n",
       "    <tr>\n",
       "      <th>...</th>\n",
       "      <td>...</td>\n",
       "      <td>...</td>\n",
       "      <td>...</td>\n",
       "      <td>...</td>\n",
       "      <td>...</td>\n",
       "      <td>...</td>\n",
       "    </tr>\n",
       "    <tr>\n",
       "      <th>145</th>\n",
       "      <td>146</td>\n",
       "      <td>6.7</td>\n",
       "      <td>3.0</td>\n",
       "      <td>5.2</td>\n",
       "      <td>2.3</td>\n",
       "      <td>Iris-virginica</td>\n",
       "    </tr>\n",
       "    <tr>\n",
       "      <th>146</th>\n",
       "      <td>147</td>\n",
       "      <td>6.3</td>\n",
       "      <td>2.5</td>\n",
       "      <td>5.0</td>\n",
       "      <td>1.9</td>\n",
       "      <td>Iris-virginica</td>\n",
       "    </tr>\n",
       "    <tr>\n",
       "      <th>147</th>\n",
       "      <td>148</td>\n",
       "      <td>6.5</td>\n",
       "      <td>3.0</td>\n",
       "      <td>5.2</td>\n",
       "      <td>2.0</td>\n",
       "      <td>Iris-virginica</td>\n",
       "    </tr>\n",
       "    <tr>\n",
       "      <th>148</th>\n",
       "      <td>149</td>\n",
       "      <td>6.2</td>\n",
       "      <td>3.4</td>\n",
       "      <td>5.4</td>\n",
       "      <td>2.3</td>\n",
       "      <td>Iris-virginica</td>\n",
       "    </tr>\n",
       "    <tr>\n",
       "      <th>149</th>\n",
       "      <td>150</td>\n",
       "      <td>5.9</td>\n",
       "      <td>3.0</td>\n",
       "      <td>5.1</td>\n",
       "      <td>1.8</td>\n",
       "      <td>Iris-virginica</td>\n",
       "    </tr>\n",
       "  </tbody>\n",
       "</table>\n",
       "<p>148 rows × 6 columns</p>\n",
       "</div>"
      ],
      "text/plain": [
       "      Id  SepalLengthCm  SepalWidthCm  PetalLengthCm  PetalWidthCm  \\\n",
       "0      1            5.1           3.5            1.4           0.2   \n",
       "1      2            4.9           3.0            1.4           0.2   \n",
       "2      3            5.0           3.2            1.3           0.2   \n",
       "3      4            4.6           3.1            1.5           0.2   \n",
       "4      5            5.0           3.6            1.4           0.2   \n",
       "..   ...            ...           ...            ...           ...   \n",
       "145  146            6.7           3.0            5.2           2.3   \n",
       "146  147            6.3           2.5            5.0           1.9   \n",
       "147  148            6.5           3.0            5.2           2.0   \n",
       "148  149            6.2           3.4            5.4           2.3   \n",
       "149  150            5.9           3.0            5.1           1.8   \n",
       "\n",
       "            Species  \n",
       "0       Iris-setosa  \n",
       "1       Iris-setosa  \n",
       "2       Iris-setosa  \n",
       "3       Iris-setosa  \n",
       "4       Iris-setosa  \n",
       "..              ...  \n",
       "145  Iris-virginica  \n",
       "146  Iris-virginica  \n",
       "147  Iris-virginica  \n",
       "148  Iris-virginica  \n",
       "149  Iris-virginica  \n",
       "\n",
       "[148 rows x 6 columns]"
      ]
     },
     "execution_count": 17,
     "metadata": {},
     "output_type": "execute_result"
    }
   ],
   "outputs_reference": "s3:deepnote-cell-outputs-production/ea5b026a-d95e-4191-8f04-084fadf05e96",
   "source": [
    "df_mean.head(jumlah_baris)"
   ]
  },
  {
   "block_group": "d3c5a9bea16249c68be8f428b7abdaa0",
   "cell_type": "markdown",
   "metadata": {
    "cell_id": "be87d88435b2467cac00bd863362b14f",
    "deepnote_cell_type": "text-cell-p",
    "formattedRanges": []
   },
   "source": [
    "Instalasi library mysql-connector-python untuk berinteraksi dengan database MySQL."
   ]
  },
  {
   "block_group": "4f1215a0822a4639a0b4133becd6323b",
   "cell_type": "code",
   "execution_count": null,
   "metadata": {
    "cell_id": "68d817bb81d84734b0c44a290d024c3b",
    "deepnote_cell_type": "code",
    "deepnote_to_be_reexecuted": false,
    "execution_millis": 3587,
    "execution_start": 1711538296454,
    "source_hash": null
   },
   "outputs": [
    {
     "name": "stdout",
     "output_type": "stream",
     "text": [
      "Collecting mysql-connector-python\n",
      "  Downloading mysql_connector_python-8.3.0-cp39-cp39-manylinux_2_17_x86_64.whl (21.5 MB)\n",
      "\u001b[2K     \u001b[90m━━━━━━━━━━━━━━━━━━━━━━━━━━━━━━━━━━━━━━━━\u001b[0m \u001b[32m21.5/21.5 MB\u001b[0m \u001b[31m63.1 MB/s\u001b[0m eta \u001b[36m0:00:00\u001b[0m\n",
      "\u001b[?25hInstalling collected packages: mysql-connector-python\n",
      "Successfully installed mysql-connector-python-8.3.0\n",
      "\u001b[33mWARNING: Running pip as the 'root' user can result in broken permissions and conflicting behaviour with the system package manager. It is recommended to use a virtual environment instead: https://pip.pypa.io/warnings/venv\u001b[0m\u001b[33m\n",
      "\u001b[0m\n",
      "\u001b[1m[\u001b[0m\u001b[34;49mnotice\u001b[0m\u001b[1;39;49m]\u001b[0m\u001b[39;49m A new release of pip is available: \u001b[0m\u001b[31;49m23.0.1\u001b[0m\u001b[39;49m -> \u001b[0m\u001b[32;49m24.0\u001b[0m\n",
      "\u001b[1m[\u001b[0m\u001b[34;49mnotice\u001b[0m\u001b[1;39;49m]\u001b[0m\u001b[39;49m To update, run: \u001b[0m\u001b[32;49mpython -m pip install --upgrade pip\u001b[0m\n",
      "Note: you may need to restart the kernel to use updated packages.\n"
     ]
    }
   ],
   "outputs_reference": "s3:deepnote-cell-outputs-production/c93c8260-20b2-4718-9c69-e581493b3b4d",
   "source": [
    "pip install mysql-connector-python"
   ]
  },
  {
   "block_group": "4c085a4b0ad1451b8f454d8d20edbf51",
   "cell_type": "markdown",
   "metadata": {
    "cell_id": "2e4b8273302c454cb63ce4c67c06e832",
    "deepnote_cell_type": "text-cell-p",
    "formattedRanges": []
   },
   "source": [
    "Selanjutnya, kode membuat koneksi ke database MySQL dengan kredensial yang diberikan, kemudian membuat sebuah tabel baru dengan nama 'Iris_mean' yang memiliki beberapa kolom seperti 'Id' (sebagai primary key), 'SepalLengthCm', 'SepalWidthCm', dan 'Species'. Setelah tabel dibuat, kode menyimpan DataFrame df_mean ke dalam tabel tersebut menggunakan pernyataan SQL INSERT. Terakhir, perubahan tersebut di-commit dan koneksi ditutup. Pesan \"DataFrame berhasil disimpan ke dalam tabel MySQL.\" dicetak sebagai indikasi bahwa proses telah selesai dengan sukses."
   ]
  },
  {
   "block_group": "5d47a6f12631408cb24dd79a0d5e2714",
   "cell_type": "code",
   "execution_count": null,
   "metadata": {
    "cell_id": "855c27f0de7f43b8a7cbfcd8e5862ffa",
    "deepnote_cell_type": "code",
    "deepnote_to_be_reexecuted": false,
    "execution_millis": 34732,
    "execution_start": 1711540726786,
    "source_hash": null
   },
   "outputs": [
    {
     "name": "stdout",
     "output_type": "stream",
     "text": [
      "DataFrame berhasil disimpan ke dalam tabel MySQL.\n"
     ]
    }
   ],
   "outputs_reference": "dbtable:cell_outputs/c2c69ce0-b154-4d8a-a833-79b167259973",
   "source": [
    "import mysql.connector\n",
    "\n",
    "# Ganti dengan kredensial yang sesuai\n",
    "db_user = 'avnadmin'\n",
    "db_password = 'AVNS_ZdndZ22SeeCMF0U7zTj'\n",
    "db_host = 'mysql-datamining-irfan22083.a.aivencloud.com'\n",
    "db_port = '13019'\n",
    "db_name = 'mysql-datamining'\n",
    "\n",
    "# Buat koneksi ke database\n",
    "conn = mysql.connector.connect(user=db_user, password=db_password, host=db_host, port=db_port, database=db_name)\n",
    "cursor = conn.cursor()\n",
    "\n",
    "# Buat tabel baru\n",
    "create_table_query = \"\"\"\n",
    "CREATE TABLE Iris_mean (\n",
    "    Id INT AUTO_INCREMENT PRIMARY KEY,\n",
    "    SepalLengthCm DOUBLE,\n",
    "    SepalWidthCm DOUBLE,\n",
    "    Species TEXT\n",
    ")\n",
    "\"\"\"\n",
    "cursor.execute(create_table_query)\n",
    "\n",
    "# Simpan DataFrame ke dalam tabel MySQL\n",
    "for index, row in df_mean.iterrows():\n",
    "    insert_query = \"\"\"\n",
    "    INSERT INTO Iris_mean (Id, SepalLengthCm, SepalWidthCm, Species)\n",
    "    VALUES (%s, %s, %s, %s)\n",
    "    \"\"\"\n",
    "    cursor.execute(insert_query, (row['Id'], row['SepalLengthCm'], row['SepalWidthCm'], row['Species']))\n",
    "\n",
    "# Commit perubahan dan tutup koneksi\n",
    "conn.commit()\n",
    "conn.close()\n",
    "\n",
    "# Tampilkan pesan berhasil\n",
    "print(\"DataFrame berhasil disimpan ke dalam tabel MySQL.\")"
   ]
  },
  {
   "block_group": "78d55bcf820442988aa5b4dbd3f00d5d",
   "cell_type": "markdown",
   "metadata": {
    "cell_id": "cbb7d24bb3544408aa552328fe98ffae",
    "deepnote_cell_type": "text-cell-p",
    "formattedRanges": []
   },
   "source": [
    "Periksa apakah tabel \"Iris_mean\" telah berhasil dibuat dan terisi semua data pada database MySQL."
   ]
  },
  {
   "block_group": "2a7af433982041309f0f29e816a34738",
   "cell_type": "code",
   "execution_count": null,
   "metadata": {
    "cell_id": "3c5c557aa3424e6887d3a5abbf3b2de2",
    "deepnote_cell_type": "sql",
    "deepnote_sql_source": "SELECT * FROM Iris_mean;",
    "deepnote_to_be_reexecuted": false,
    "deepnote_variable_name": "df_3",
    "execution_millis": 3052,
    "execution_start": 1711540771719,
    "source_hash": null,
    "sql_integration_id": "09471b5a-652d-432f-b73d-65305a4929e6"
   },
   "outputs": [
    {
     "data": {
      "application/vnd.deepnote.sql-output-metadata+json": {
       "size_in_bytes": 14090,
       "status": "success_no_cache"
      }
     },
     "metadata": {},
     "output_type": "display_data"
    },
    {
     "data": {
      "application/vnd.deepnote.dataframe.v3+json": {
       "column_count": 4,
       "columns": [
        {
         "dtype": "int64",
         "name": "Id",
         "stats": {
          "histogram": [
           {
            "bin_end": 15.9,
            "bin_start": 1,
            "count": 14
           },
           {
            "bin_end": 30.8,
            "bin_start": 15.9,
            "count": 15
           },
           {
            "bin_end": 45.7,
            "bin_start": 30.8,
            "count": 15
           },
           {
            "bin_end": 60.6,
            "bin_start": 45.7,
            "count": 15
           },
           {
            "bin_end": 75.5,
            "bin_start": 60.6,
            "count": 14
           },
           {
            "bin_end": 90.4,
            "bin_start": 75.5,
            "count": 15
           },
           {
            "bin_end": 105.3,
            "bin_start": 90.4,
            "count": 15
           },
           {
            "bin_end": 120.2,
            "bin_start": 105.3,
            "count": 15
           },
           {
            "bin_end": 135.1,
            "bin_start": 120.2,
            "count": 15
           },
           {
            "bin_end": 150,
            "bin_start": 135.1,
            "count": 15
           }
          ],
          "max": "150",
          "min": "1",
          "nan_count": 0,
          "unique_count": 148
         }
        },
        {
         "dtype": "float64",
         "name": "SepalLengthCm",
         "stats": {
          "histogram": [
           {
            "bin_end": 4.66,
            "bin_start": 4.3,
            "count": 8
           },
           {
            "bin_end": 5.02,
            "bin_start": 4.66,
            "count": 23
           },
           {
            "bin_end": 5.38,
            "bin_start": 5.02,
            "count": 14
           },
           {
            "bin_end": 5.74,
            "bin_start": 5.38,
            "count": 27
           },
           {
            "bin_end": 6.1,
            "bin_start": 5.74,
            "count": 17
           },
           {
            "bin_end": 6.46,
            "bin_start": 6.1,
            "count": 24
           },
           {
            "bin_end": 6.82,
            "bin_start": 6.46,
            "count": 19
           },
           {
            "bin_end": 7.18,
            "bin_start": 6.82,
            "count": 5
           },
           {
            "bin_end": 7.54,
            "bin_start": 7.18,
            "count": 5
           },
           {
            "bin_end": 7.9,
            "bin_start": 7.54,
            "count": 6
           }
          ],
          "max": "7.9",
          "min": "4.3",
          "nan_count": 0,
          "unique_count": 34
         }
        },
        {
         "dtype": "float64",
         "name": "SepalWidthCm",
         "stats": {
          "histogram": [
           {
            "bin_end": 2.24,
            "bin_start": 2,
            "count": 3
           },
           {
            "bin_end": 2.48,
            "bin_start": 2.24,
            "count": 7
           },
           {
            "bin_end": 2.72,
            "bin_start": 2.48,
            "count": 22
           },
           {
            "bin_end": 2.96,
            "bin_start": 2.72,
            "count": 24
           },
           {
            "bin_end": 3.2,
            "bin_start": 2.96,
            "count": 38
           },
           {
            "bin_end": 3.4400000000000004,
            "bin_start": 3.2,
            "count": 30
           },
           {
            "bin_end": 3.6800000000000006,
            "bin_start": 3.4400000000000004,
            "count": 9
           },
           {
            "bin_end": 3.9200000000000004,
            "bin_start": 3.6800000000000006,
            "count": 11
           },
           {
            "bin_end": 4.16,
            "bin_start": 3.9200000000000004,
            "count": 2
           },
           {
            "bin_end": 4.4,
            "bin_start": 4.16,
            "count": 2
           }
          ],
          "max": "4.4",
          "min": "2.0",
          "nan_count": 0,
          "unique_count": 23
         }
        },
        {
         "dtype": "object",
         "name": "Species",
         "stats": {
          "categories": [
           {
            "count": 50,
            "name": "Iris-virginica"
           },
           {
            "count": 49,
            "name": "Iris-setosa"
           },
           {
            "count": 49,
            "name": "Iris-versicolor"
           }
          ],
          "nan_count": 0,
          "unique_count": 3
         }
        },
        {
         "dtype": "int64",
         "name": "_deepnote_index_column"
        }
       ],
       "row_count": 148,
       "rows": [
        {
         "Id": 1,
         "SepalLengthCm": 5.1,
         "SepalWidthCm": 3.5,
         "Species": "Iris-setosa",
         "_deepnote_index_column": 0
        },
        {
         "Id": 2,
         "SepalLengthCm": 4.9,
         "SepalWidthCm": 3,
         "Species": "Iris-setosa",
         "_deepnote_index_column": 1
        },
        {
         "Id": 3,
         "SepalLengthCm": 5,
         "SepalWidthCm": 3.2,
         "Species": "Iris-setosa",
         "_deepnote_index_column": 2
        },
        {
         "Id": 4,
         "SepalLengthCm": 4.6,
         "SepalWidthCm": 3.1,
         "Species": "Iris-setosa",
         "_deepnote_index_column": 3
        },
        {
         "Id": 5,
         "SepalLengthCm": 5,
         "SepalWidthCm": 3.6,
         "Species": "Iris-setosa",
         "_deepnote_index_column": 4
        },
        {
         "Id": 6,
         "SepalLengthCm": 5.4,
         "SepalWidthCm": 3.9,
         "Species": "Iris-setosa",
         "_deepnote_index_column": 5
        },
        {
         "Id": 8,
         "SepalLengthCm": 5,
         "SepalWidthCm": 3.4,
         "Species": "Iris-setosa",
         "_deepnote_index_column": 6
        },
        {
         "Id": 9,
         "SepalLengthCm": 4.4,
         "SepalWidthCm": 2.9,
         "Species": "Iris-setosa",
         "_deepnote_index_column": 7
        },
        {
         "Id": 10,
         "SepalLengthCm": 4.9,
         "SepalWidthCm": 3.1,
         "Species": "Iris-setosa",
         "_deepnote_index_column": 8
        },
        {
         "Id": 11,
         "SepalLengthCm": 5.4,
         "SepalWidthCm": 3.7,
         "Species": "Iris-setosa",
         "_deepnote_index_column": 9
        }
       ]
      },
      "text/html": [
       "<div>\n",
       "<style scoped>\n",
       "    .dataframe tbody tr th:only-of-type {\n",
       "        vertical-align: middle;\n",
       "    }\n",
       "\n",
       "    .dataframe tbody tr th {\n",
       "        vertical-align: top;\n",
       "    }\n",
       "\n",
       "    .dataframe thead th {\n",
       "        text-align: right;\n",
       "    }\n",
       "</style>\n",
       "<table border=\"1\" class=\"dataframe\">\n",
       "  <thead>\n",
       "    <tr style=\"text-align: right;\">\n",
       "      <th></th>\n",
       "      <th>Id</th>\n",
       "      <th>SepalLengthCm</th>\n",
       "      <th>SepalWidthCm</th>\n",
       "      <th>Species</th>\n",
       "    </tr>\n",
       "  </thead>\n",
       "  <tbody>\n",
       "    <tr>\n",
       "      <th>0</th>\n",
       "      <td>1</td>\n",
       "      <td>5.1</td>\n",
       "      <td>3.5</td>\n",
       "      <td>Iris-setosa</td>\n",
       "    </tr>\n",
       "    <tr>\n",
       "      <th>1</th>\n",
       "      <td>2</td>\n",
       "      <td>4.9</td>\n",
       "      <td>3.0</td>\n",
       "      <td>Iris-setosa</td>\n",
       "    </tr>\n",
       "    <tr>\n",
       "      <th>2</th>\n",
       "      <td>3</td>\n",
       "      <td>5.0</td>\n",
       "      <td>3.2</td>\n",
       "      <td>Iris-setosa</td>\n",
       "    </tr>\n",
       "    <tr>\n",
       "      <th>3</th>\n",
       "      <td>4</td>\n",
       "      <td>4.6</td>\n",
       "      <td>3.1</td>\n",
       "      <td>Iris-setosa</td>\n",
       "    </tr>\n",
       "    <tr>\n",
       "      <th>4</th>\n",
       "      <td>5</td>\n",
       "      <td>5.0</td>\n",
       "      <td>3.6</td>\n",
       "      <td>Iris-setosa</td>\n",
       "    </tr>\n",
       "    <tr>\n",
       "      <th>...</th>\n",
       "      <td>...</td>\n",
       "      <td>...</td>\n",
       "      <td>...</td>\n",
       "      <td>...</td>\n",
       "    </tr>\n",
       "    <tr>\n",
       "      <th>143</th>\n",
       "      <td>146</td>\n",
       "      <td>6.7</td>\n",
       "      <td>3.0</td>\n",
       "      <td>Iris-virginica</td>\n",
       "    </tr>\n",
       "    <tr>\n",
       "      <th>144</th>\n",
       "      <td>147</td>\n",
       "      <td>6.3</td>\n",
       "      <td>2.5</td>\n",
       "      <td>Iris-virginica</td>\n",
       "    </tr>\n",
       "    <tr>\n",
       "      <th>145</th>\n",
       "      <td>148</td>\n",
       "      <td>6.5</td>\n",
       "      <td>3.0</td>\n",
       "      <td>Iris-virginica</td>\n",
       "    </tr>\n",
       "    <tr>\n",
       "      <th>146</th>\n",
       "      <td>149</td>\n",
       "      <td>6.2</td>\n",
       "      <td>3.4</td>\n",
       "      <td>Iris-virginica</td>\n",
       "    </tr>\n",
       "    <tr>\n",
       "      <th>147</th>\n",
       "      <td>150</td>\n",
       "      <td>5.9</td>\n",
       "      <td>3.0</td>\n",
       "      <td>Iris-virginica</td>\n",
       "    </tr>\n",
       "  </tbody>\n",
       "</table>\n",
       "<p>148 rows × 4 columns</p>\n",
       "</div>"
      ],
      "text/plain": [
       "      Id  SepalLengthCm  SepalWidthCm         Species\n",
       "0      1            5.1           3.5     Iris-setosa\n",
       "1      2            4.9           3.0     Iris-setosa\n",
       "2      3            5.0           3.2     Iris-setosa\n",
       "3      4            4.6           3.1     Iris-setosa\n",
       "4      5            5.0           3.6     Iris-setosa\n",
       "..   ...            ...           ...             ...\n",
       "143  146            6.7           3.0  Iris-virginica\n",
       "144  147            6.3           2.5  Iris-virginica\n",
       "145  148            6.5           3.0  Iris-virginica\n",
       "146  149            6.2           3.4  Iris-virginica\n",
       "147  150            5.9           3.0  Iris-virginica\n",
       "\n",
       "[148 rows x 4 columns]"
      ]
     },
     "execution_count": 55,
     "metadata": {},
     "output_type": "execute_result"
    }
   ],
   "outputs_reference": "s3:deepnote-cell-outputs-production/07533075-284a-414b-aab1-0c0347bb867a",
   "source": [
    "df_3 = _deepnote_execute_sql('SELECT * FROM Iris_mean;', 'SQL_09471B5A_652D_432F_B73D_65305A4929E6', audit_sql_comment='', sql_cache_mode='cache_disabled')\n",
    "df_3"
   ]
  },
  {
   "block_group": "2b9a284a7f574040a495f296399c6ae8",
   "cell_type": "markdown",
   "metadata": {
    "cell_id": "06a84d0cac764a379eb8f89f5e23fc83",
    "deepnote_cell_type": "text-cell-p",
    "formattedRanges": []
   },
   "source": [
    "Selanjutnya, kode membuat koneksi ke database PostgreSQL dengan kredensial yang diberikan, kemudian membuat sebuah tabel baru dengan nama 'Iris_mean' yang memiliki beberapa kolom seperti 'Id' (sebagai primary key), 'PetalLengthCm', dan 'PetalWidthCm'. Setelah tabel dibuat, kode menyimpan DataFrame df_mean ke dalam tabel tersebut menggunakan pernyataan SQL INSERT. Terakhir, perubahan tersebut di-commit dan koneksi ditutup. Pesan \"DataFrame berhasil disimpan ke dalam tabel PostgreSQL.\" dicetak sebagai indikasi bahwa proses telah selesai dengan sukses."
   ]
  },
  {
   "block_group": "86c7ae8ac3ad43fb9c5a3d9f5e96e165",
   "cell_type": "code",
   "execution_count": null,
   "metadata": {
    "cell_id": "4accda2a556840c888d635569d61fe75",
    "deepnote_cell_type": "code",
    "deepnote_to_be_reexecuted": false,
    "execution_millis": 33159,
    "execution_start": 1711538337416,
    "source_hash": null
   },
   "outputs": [
    {
     "name": "stdout",
     "output_type": "stream",
     "text": [
      "DataFrame berhasil disimpan ke dalam tabel PostgreSQL.\n"
     ]
    }
   ],
   "outputs_reference": "dbtable:cell_outputs/b85db1be-e58a-4cb8-aa3b-16a32cd8ba71",
   "source": [
    "import pandas as pd\n",
    "import psycopg2\n",
    "\n",
    "# Ganti dengan kredensial yang sesuai\n",
    "db_user = 'avnadmin'\n",
    "db_password = 'AVNS_H0Llq5wAZnxVS1nR-Op'\n",
    "db_host = 'pg-datamining-irfan22083.a.aivencloud.com'\n",
    "db_port = '13019'\n",
    "db_name = 'pg-datamining'\n",
    "\n",
    "# Koneksi ke database PostgreSQL\n",
    "conn = psycopg2.connect(dbname=db_name, user=db_user, password=db_password, host=db_host, port=db_port)\n",
    "cursor = conn.cursor()\n",
    "\n",
    "# Buat tabel baru\n",
    "create_table_query = \"\"\"\n",
    "CREATE TABLE \"Iris_mean\" (\n",
    "    Id INT PRIMARY KEY,\n",
    "    PetalLengthCm DOUBLE PRECISION,\n",
    "    PetalWidthCm DOUBLE PRECISION\n",
    ")\n",
    "\"\"\"\n",
    "cursor.execute(create_table_query)\n",
    "\n",
    "# Simpan DataFrame ke dalam tabel PostgreSQL\n",
    "for index, row in df_mean.iterrows():\n",
    "    insert_query = \"\"\"\n",
    "    INSERT INTO \"Iris_mean\" (Id, PetalLengthCm, PetalWidthCm)\n",
    "    VALUES (%s, %s, %s)\n",
    "    \"\"\"\n",
    "    cursor.execute(insert_query, (row['Id'], row['PetalLengthCm'], row['PetalWidthCm']))\n",
    "\n",
    "# Commit perubahan dan tutup koneksi\n",
    "conn.commit()\n",
    "conn.close()\n",
    "\n",
    "# Tampilkan pesan berhasil\n",
    "print(\"DataFrame berhasil disimpan ke dalam tabel PostgreSQL.\")"
   ]
  },
  {
   "block_group": "af0bb1a88ec247209f6c4ce718155456",
   "cell_type": "markdown",
   "metadata": {
    "cell_id": "1a6d9ba674af494bad25cd47568559ef",
    "deepnote_cell_type": "text-cell-p",
    "formattedRanges": []
   },
   "source": [
    "Periksa apakah tabel \"Iris_mean\" telah berhasil dibuat dan terisi semua data pada database MySQL."
   ]
  },
  {
   "block_group": "93fbfb686d794f12830ed33126ded51f",
   "cell_type": "code",
   "execution_count": null,
   "metadata": {
    "cell_id": "e8cd14623cc04a178204b8aaef31df88",
    "deepnote_cell_type": "sql",
    "deepnote_sql_source": "SELECT * FROM \"Iris_mean\";",
    "deepnote_to_be_reexecuted": false,
    "deepnote_variable_name": "df_5",
    "execution_millis": 3947,
    "execution_start": 1711538370578,
    "source_hash": null,
    "sql_integration_id": "44ceac78-b576-4235-b8ae-3b3bd9a41b5d"
   },
   "outputs": [
    {
     "data": {
      "application/vnd.deepnote.sql-output-metadata+json": {
       "size_in_bytes": 3680,
       "status": "success_no_cache"
      }
     },
     "metadata": {},
     "output_type": "display_data"
    },
    {
     "data": {
      "application/vnd.deepnote.dataframe.v3+json": {
       "column_count": 3,
       "columns": [
        {
         "dtype": "int64",
         "name": "id",
         "stats": {
          "histogram": [
           {
            "bin_end": 15.9,
            "bin_start": 1,
            "count": 14
           },
           {
            "bin_end": 30.8,
            "bin_start": 15.9,
            "count": 15
           },
           {
            "bin_end": 45.7,
            "bin_start": 30.8,
            "count": 15
           },
           {
            "bin_end": 60.6,
            "bin_start": 45.7,
            "count": 15
           },
           {
            "bin_end": 75.5,
            "bin_start": 60.6,
            "count": 14
           },
           {
            "bin_end": 90.4,
            "bin_start": 75.5,
            "count": 15
           },
           {
            "bin_end": 105.3,
            "bin_start": 90.4,
            "count": 15
           },
           {
            "bin_end": 120.2,
            "bin_start": 105.3,
            "count": 15
           },
           {
            "bin_end": 135.1,
            "bin_start": 120.2,
            "count": 15
           },
           {
            "bin_end": 150,
            "bin_start": 135.1,
            "count": 15
           }
          ],
          "max": "150",
          "min": "1",
          "nan_count": 0,
          "unique_count": 148
         }
        },
        {
         "dtype": "float64",
         "name": "petallengthcm",
         "stats": {
          "histogram": [
           {
            "bin_end": 1.59,
            "bin_start": 1,
            "count": 36
           },
           {
            "bin_end": 2.18,
            "bin_start": 1.59,
            "count": 13
           },
           {
            "bin_end": 2.7700000000000005,
            "bin_start": 2.18,
            "count": 0
           },
           {
            "bin_end": 3.3600000000000003,
            "bin_start": 2.7700000000000005,
            "count": 3
           },
           {
            "bin_end": 3.95,
            "bin_start": 3.3600000000000003,
            "count": 8
           },
           {
            "bin_end": 4.540000000000001,
            "bin_start": 3.95,
            "count": 25
           },
           {
            "bin_end": 5.130000000000001,
            "bin_start": 4.540000000000001,
            "count": 29
           },
           {
            "bin_end": 5.720000000000001,
            "bin_start": 5.130000000000001,
            "count": 18
           },
           {
            "bin_end": 6.3100000000000005,
            "bin_start": 5.720000000000001,
            "count": 11
           },
           {
            "bin_end": 6.9,
            "bin_start": 6.3100000000000005,
            "count": 5
           }
          ],
          "max": "6.9",
          "min": "1.0",
          "nan_count": 0,
          "unique_count": 43
         }
        },
        {
         "dtype": "float64",
         "name": "petalwidthcm",
         "stats": {
          "histogram": [
           {
            "bin_end": 0.33999999999999997,
            "bin_start": 0.1,
            "count": 40
           },
           {
            "bin_end": 0.58,
            "bin_start": 0.33999999999999997,
            "count": 8
           },
           {
            "bin_end": 0.82,
            "bin_start": 0.58,
            "count": 1
           },
           {
            "bin_end": 1.06,
            "bin_start": 0.82,
            "count": 7
           },
           {
            "bin_end": 1.3,
            "bin_start": 1.06,
            "count": 8
           },
           {
            "bin_end": 1.54,
            "bin_start": 1.3,
            "count": 32
           },
           {
            "bin_end": 1.78,
            "bin_start": 1.54,
            "count": 6
           },
           {
            "bin_end": 2.02,
            "bin_start": 1.78,
            "count": 23
           },
           {
            "bin_end": 2.2600000000000002,
            "bin_start": 2.02,
            "count": 9
           },
           {
            "bin_end": 2.5,
            "bin_start": 2.2600000000000002,
            "count": 14
           }
          ],
          "max": "2.5",
          "min": "0.1",
          "nan_count": 0,
          "unique_count": 22
         }
        },
        {
         "dtype": "int64",
         "name": "_deepnote_index_column"
        }
       ],
       "row_count": 148,
       "rows": [
        {
         "_deepnote_index_column": 0,
         "id": 1,
         "petallengthcm": 1.4,
         "petalwidthcm": 0.2
        },
        {
         "_deepnote_index_column": 1,
         "id": 2,
         "petallengthcm": 1.4,
         "petalwidthcm": 0.2
        },
        {
         "_deepnote_index_column": 2,
         "id": 3,
         "petallengthcm": 1.3,
         "petalwidthcm": 0.2
        },
        {
         "_deepnote_index_column": 3,
         "id": 4,
         "petallengthcm": 1.5,
         "petalwidthcm": 0.2
        },
        {
         "_deepnote_index_column": 4,
         "id": 5,
         "petallengthcm": 1.4,
         "petalwidthcm": 0.2
        },
        {
         "_deepnote_index_column": 5,
         "id": 6,
         "petallengthcm": 1.7,
         "petalwidthcm": 0.4
        },
        {
         "_deepnote_index_column": 6,
         "id": 8,
         "petallengthcm": 1.5,
         "petalwidthcm": 0.2
        },
        {
         "_deepnote_index_column": 7,
         "id": 9,
         "petallengthcm": 1.4,
         "petalwidthcm": 0.2
        },
        {
         "_deepnote_index_column": 8,
         "id": 10,
         "petallengthcm": 1.5,
         "petalwidthcm": 0.1
        },
        {
         "_deepnote_index_column": 9,
         "id": 11,
         "petallengthcm": 1.5,
         "petalwidthcm": 0.2
        }
       ]
      },
      "text/html": [
       "<div>\n",
       "<style scoped>\n",
       "    .dataframe tbody tr th:only-of-type {\n",
       "        vertical-align: middle;\n",
       "    }\n",
       "\n",
       "    .dataframe tbody tr th {\n",
       "        vertical-align: top;\n",
       "    }\n",
       "\n",
       "    .dataframe thead th {\n",
       "        text-align: right;\n",
       "    }\n",
       "</style>\n",
       "<table border=\"1\" class=\"dataframe\">\n",
       "  <thead>\n",
       "    <tr style=\"text-align: right;\">\n",
       "      <th></th>\n",
       "      <th>id</th>\n",
       "      <th>petallengthcm</th>\n",
       "      <th>petalwidthcm</th>\n",
       "    </tr>\n",
       "  </thead>\n",
       "  <tbody>\n",
       "    <tr>\n",
       "      <th>0</th>\n",
       "      <td>1</td>\n",
       "      <td>1.4</td>\n",
       "      <td>0.2</td>\n",
       "    </tr>\n",
       "    <tr>\n",
       "      <th>1</th>\n",
       "      <td>2</td>\n",
       "      <td>1.4</td>\n",
       "      <td>0.2</td>\n",
       "    </tr>\n",
       "    <tr>\n",
       "      <th>2</th>\n",
       "      <td>3</td>\n",
       "      <td>1.3</td>\n",
       "      <td>0.2</td>\n",
       "    </tr>\n",
       "    <tr>\n",
       "      <th>3</th>\n",
       "      <td>4</td>\n",
       "      <td>1.5</td>\n",
       "      <td>0.2</td>\n",
       "    </tr>\n",
       "    <tr>\n",
       "      <th>4</th>\n",
       "      <td>5</td>\n",
       "      <td>1.4</td>\n",
       "      <td>0.2</td>\n",
       "    </tr>\n",
       "    <tr>\n",
       "      <th>...</th>\n",
       "      <td>...</td>\n",
       "      <td>...</td>\n",
       "      <td>...</td>\n",
       "    </tr>\n",
       "    <tr>\n",
       "      <th>143</th>\n",
       "      <td>146</td>\n",
       "      <td>5.2</td>\n",
       "      <td>2.3</td>\n",
       "    </tr>\n",
       "    <tr>\n",
       "      <th>144</th>\n",
       "      <td>147</td>\n",
       "      <td>5.0</td>\n",
       "      <td>1.9</td>\n",
       "    </tr>\n",
       "    <tr>\n",
       "      <th>145</th>\n",
       "      <td>148</td>\n",
       "      <td>5.2</td>\n",
       "      <td>2.0</td>\n",
       "    </tr>\n",
       "    <tr>\n",
       "      <th>146</th>\n",
       "      <td>149</td>\n",
       "      <td>5.4</td>\n",
       "      <td>2.3</td>\n",
       "    </tr>\n",
       "    <tr>\n",
       "      <th>147</th>\n",
       "      <td>150</td>\n",
       "      <td>5.1</td>\n",
       "      <td>1.8</td>\n",
       "    </tr>\n",
       "  </tbody>\n",
       "</table>\n",
       "<p>148 rows × 3 columns</p>\n",
       "</div>"
      ],
      "text/plain": [
       "      id  petallengthcm  petalwidthcm\n",
       "0      1            1.4           0.2\n",
       "1      2            1.4           0.2\n",
       "2      3            1.3           0.2\n",
       "3      4            1.5           0.2\n",
       "4      5            1.4           0.2\n",
       "..   ...            ...           ...\n",
       "143  146            5.2           2.3\n",
       "144  147            5.0           1.9\n",
       "145  148            5.2           2.0\n",
       "146  149            5.4           2.3\n",
       "147  150            5.1           1.8\n",
       "\n",
       "[148 rows x 3 columns]"
      ]
     },
     "execution_count": 22,
     "metadata": {},
     "output_type": "execute_result"
    }
   ],
   "outputs_reference": "s3:deepnote-cell-outputs-production/a73d560b-e30f-4930-a486-672a36e9a328",
   "source": [
    "df_5 = _deepnote_execute_sql('SELECT * FROM \"Iris_mean\";', 'SQL_44CEAC78_B576_4235_B8AE_3B3BD9A41B5D', audit_sql_comment='', sql_cache_mode='cache_disabled')\n",
    "df_5"
   ]
  },
  {
   "block_group": "ca9c022612cb4f88b70e8b9c0bf0c789",
   "cell_type": "markdown",
   "metadata": {
    "cell_id": "2c382551b2764cc9bea1645d28f2126e",
    "deepnote_app_block_visible": false,
    "deepnote_cell_type": "text-cell-h2",
    "formattedRanges": [],
    "is_collapsed": false
   },
   "source": [
    "## Pengisian Data Missing Value dengan KNN (K-Nearest Neighbor)"
   ]
  },
  {
   "block_group": "4af46c3abc964acdaf638be4d9ccefd0",
   "cell_type": "markdown",
   "metadata": {
    "cell_id": "4cbc9893124e42b4a5bd6c062ea1ef14",
    "deepnote_cell_type": "text-cell-p",
    "formattedRanges": []
   },
   "source": [
    "Import library yang dibutuhkan."
   ]
  },
  {
   "block_group": "be30e3119ab44520951e150c18520d97",
   "cell_type": "code",
   "execution_count": null,
   "metadata": {
    "cell_id": "09d85c7190c74466ac91ac1afebc82f4",
    "deepnote_cell_type": "code",
    "deepnote_to_be_reexecuted": false,
    "execution_millis": 1213,
    "execution_start": 1711538374528,
    "source_hash": null
   },
   "outputs": [],
   "outputs_reference": null,
   "source": [
    "import matplotlib.pyplot as plt\n",
    "from sklearn.impute import KNNImputer\n",
    "from sklearn.model_selection import train_test_split\n",
    "from sklearn.neighbors import KNeighborsRegressor\n",
    "from sklearn.metrics import mean_squared_error"
   ]
  },
  {
   "block_group": "6bf15805dc014766ac0c252ff8814930",
   "cell_type": "markdown",
   "metadata": {
    "cell_id": "41a729b4402a4d53bedf356092513aa8",
    "deepnote_cell_type": "text-cell-p",
    "formattedRanges": []
   },
   "source": [
    "Menduplikasi DataFrame df_iris ke dalam df_knn untuk menghindari modifikasi langsung pada DataFrame asli. Lalu, menampilkan semua DataFrame yang sudah diduplikasi."
   ]
  },
  {
   "block_group": "4f59f17ca3dd4a9897e01a72834afb03",
   "cell_type": "code",
   "execution_count": null,
   "metadata": {
    "cell_id": "d433500eeaad4679893ab58962883f29",
    "deepnote_cell_type": "code",
    "deepnote_to_be_reexecuted": false,
    "execution_millis": 227,
    "execution_start": 1711538375747,
    "source_hash": null
   },
   "outputs": [
    {
     "data": {
      "application/vnd.deepnote.dataframe.v3+json": {
       "column_count": 6,
       "columns": [
        {
         "dtype": "int64",
         "name": "Id",
         "stats": {
          "histogram": [
           {
            "bin_end": 15.9,
            "bin_start": 1,
            "count": 15
           },
           {
            "bin_end": 30.8,
            "bin_start": 15.9,
            "count": 15
           },
           {
            "bin_end": 45.7,
            "bin_start": 30.8,
            "count": 15
           },
           {
            "bin_end": 60.6,
            "bin_start": 45.7,
            "count": 15
           },
           {
            "bin_end": 75.5,
            "bin_start": 60.6,
            "count": 15
           },
           {
            "bin_end": 90.4,
            "bin_start": 75.5,
            "count": 15
           },
           {
            "bin_end": 105.3,
            "bin_start": 90.4,
            "count": 15
           },
           {
            "bin_end": 120.2,
            "bin_start": 105.3,
            "count": 15
           },
           {
            "bin_end": 135.1,
            "bin_start": 120.2,
            "count": 15
           },
           {
            "bin_end": 150,
            "bin_start": 135.1,
            "count": 15
           }
          ],
          "max": "150",
          "min": "1",
          "nan_count": 0,
          "unique_count": 150
         }
        },
        {
         "dtype": "float64",
         "name": "SepalLengthCm",
         "stats": {
          "histogram": [
           {
            "bin_end": 4.66,
            "bin_start": 4.3,
            "count": 8
           },
           {
            "bin_end": 5.02,
            "bin_start": 4.66,
            "count": 22
           },
           {
            "bin_end": 5.38,
            "bin_start": 5.02,
            "count": 14
           },
           {
            "bin_end": 5.74,
            "bin_start": 5.38,
            "count": 27
           },
           {
            "bin_end": 6.1,
            "bin_start": 5.74,
            "count": 16
           },
           {
            "bin_end": 6.46,
            "bin_start": 6.1,
            "count": 24
           },
           {
            "bin_end": 6.82,
            "bin_start": 6.46,
            "count": 18
           },
           {
            "bin_end": 7.18,
            "bin_start": 6.82,
            "count": 5
           },
           {
            "bin_end": 7.54,
            "bin_start": 7.18,
            "count": 5
           },
           {
            "bin_end": 7.9,
            "bin_start": 7.54,
            "count": 6
           }
          ],
          "max": "7.9",
          "min": "4.3",
          "nan_count": 5,
          "unique_count": 34
         }
        },
        {
         "dtype": "float64",
         "name": "SepalWidthCm",
         "stats": {
          "histogram": [
           {
            "bin_end": 2.24,
            "bin_start": 2,
            "count": 4
           },
           {
            "bin_end": 2.48,
            "bin_start": 2.24,
            "count": 7
           },
           {
            "bin_end": 2.72,
            "bin_start": 2.48,
            "count": 22
           },
           {
            "bin_end": 2.96,
            "bin_start": 2.72,
            "count": 24
           },
           {
            "bin_end": 3.2,
            "bin_start": 2.96,
            "count": 38
           },
           {
            "bin_end": 3.4400000000000004,
            "bin_start": 3.2,
            "count": 31
           },
           {
            "bin_end": 3.6800000000000006,
            "bin_start": 3.4400000000000004,
            "count": 9
           },
           {
            "bin_end": 3.9200000000000004,
            "bin_start": 3.6800000000000006,
            "count": 11
           },
           {
            "bin_end": 4.16,
            "bin_start": 3.9200000000000004,
            "count": 2
           },
           {
            "bin_end": 4.4,
            "bin_start": 4.16,
            "count": 2
           }
          ],
          "max": "4.4",
          "min": "2.0",
          "nan_count": 0,
          "unique_count": 23
         }
        },
        {
         "dtype": "float64",
         "name": "PetalLengthCm",
         "stats": {
          "histogram": [
           {
            "bin_end": 1.59,
            "bin_start": 1,
            "count": 37
           },
           {
            "bin_end": 2.18,
            "bin_start": 1.59,
            "count": 13
           },
           {
            "bin_end": 2.7700000000000005,
            "bin_start": 2.18,
            "count": 0
           },
           {
            "bin_end": 3.3600000000000003,
            "bin_start": 2.7700000000000005,
            "count": 3
           },
           {
            "bin_end": 3.95,
            "bin_start": 3.3600000000000003,
            "count": 8
           },
           {
            "bin_end": 4.540000000000001,
            "bin_start": 3.95,
            "count": 26
           },
           {
            "bin_end": 5.130000000000001,
            "bin_start": 4.540000000000001,
            "count": 29
           },
           {
            "bin_end": 5.720000000000001,
            "bin_start": 5.130000000000001,
            "count": 18
           },
           {
            "bin_end": 6.3100000000000005,
            "bin_start": 5.720000000000001,
            "count": 11
           },
           {
            "bin_end": 6.9,
            "bin_start": 6.3100000000000005,
            "count": 5
           }
          ],
          "max": "6.9",
          "min": "1.0",
          "nan_count": 0,
          "unique_count": 43
         }
        },
        {
         "dtype": "float64",
         "name": "PetalWidthCm",
         "stats": {
          "histogram": [
           {
            "bin_end": 0.33999999999999997,
            "bin_start": 0.1,
            "count": 41
           },
           {
            "bin_end": 0.58,
            "bin_start": 0.33999999999999997,
            "count": 8
           },
           {
            "bin_end": 0.82,
            "bin_start": 0.58,
            "count": 1
           },
           {
            "bin_end": 1.06,
            "bin_start": 0.82,
            "count": 7
           },
           {
            "bin_end": 1.3,
            "bin_start": 1.06,
            "count": 8
           },
           {
            "bin_end": 1.54,
            "bin_start": 1.3,
            "count": 33
           },
           {
            "bin_end": 1.78,
            "bin_start": 1.54,
            "count": 6
           },
           {
            "bin_end": 2.02,
            "bin_start": 1.78,
            "count": 23
           },
           {
            "bin_end": 2.2600000000000002,
            "bin_start": 2.02,
            "count": 9
           },
           {
            "bin_end": 2.5,
            "bin_start": 2.2600000000000002,
            "count": 14
           }
          ],
          "max": "2.5",
          "min": "0.1",
          "nan_count": 0,
          "unique_count": 22
         }
        },
        {
         "dtype": "object",
         "name": "Species",
         "stats": {
          "categories": [
           {
            "count": 50,
            "name": "Iris-virginica"
           },
           {
            "count": 98,
            "name": "2 others"
           },
           {
            "count": 2,
            "name": "Missing"
           }
          ],
          "nan_count": 2,
          "unique_count": 3
         }
        },
        {
         "dtype": "int64",
         "name": "_deepnote_index_column"
        }
       ],
       "row_count": 150,
       "rows": [
        {
         "Id": 1,
         "PetalLengthCm": 1.4,
         "PetalWidthCm": 0.2,
         "SepalLengthCm": 5.1,
         "SepalWidthCm": 3.5,
         "Species": "Iris-setosa",
         "_deepnote_index_column": 0
        },
        {
         "Id": 2,
         "PetalLengthCm": 1.4,
         "PetalWidthCm": 0.2,
         "SepalLengthCm": 4.9,
         "SepalWidthCm": 3,
         "Species": "Iris-setosa",
         "_deepnote_index_column": 1
        },
        {
         "Id": 3,
         "PetalLengthCm": 1.3,
         "PetalWidthCm": 0.2,
         "SepalLengthCm": "nan",
         "SepalWidthCm": 3.2,
         "Species": "Iris-setosa",
         "_deepnote_index_column": 2
        },
        {
         "Id": 4,
         "PetalLengthCm": 1.5,
         "PetalWidthCm": 0.2,
         "SepalLengthCm": 4.6,
         "SepalWidthCm": 3.1,
         "Species": "Iris-setosa",
         "_deepnote_index_column": 3
        },
        {
         "Id": 5,
         "PetalLengthCm": 1.4,
         "PetalWidthCm": 0.2,
         "SepalLengthCm": 5,
         "SepalWidthCm": 3.6,
         "Species": "Iris-setosa",
         "_deepnote_index_column": 4
        },
        {
         "Id": 6,
         "PetalLengthCm": 1.7,
         "PetalWidthCm": 0.4,
         "SepalLengthCm": 5.4,
         "SepalWidthCm": 3.9,
         "Species": "Iris-setosa",
         "_deepnote_index_column": 5
        },
        {
         "Id": 7,
         "PetalLengthCm": 1.4,
         "PetalWidthCm": 0.3,
         "SepalLengthCm": "nan",
         "SepalWidthCm": 3.4,
         "Species": "None",
         "_deepnote_index_column": 6
        },
        {
         "Id": 8,
         "PetalLengthCm": 1.5,
         "PetalWidthCm": 0.2,
         "SepalLengthCm": 5,
         "SepalWidthCm": 3.4,
         "Species": "Iris-setosa",
         "_deepnote_index_column": 7
        },
        {
         "Id": 9,
         "PetalLengthCm": 1.4,
         "PetalWidthCm": 0.2,
         "SepalLengthCm": 4.4,
         "SepalWidthCm": 2.9,
         "Species": "Iris-setosa",
         "_deepnote_index_column": 8
        },
        {
         "Id": 10,
         "PetalLengthCm": 1.5,
         "PetalWidthCm": 0.1,
         "SepalLengthCm": 4.9,
         "SepalWidthCm": 3.1,
         "Species": "Iris-setosa",
         "_deepnote_index_column": 9
        }
       ]
      },
      "text/html": [
       "<div>\n",
       "<style scoped>\n",
       "    .dataframe tbody tr th:only-of-type {\n",
       "        vertical-align: middle;\n",
       "    }\n",
       "\n",
       "    .dataframe tbody tr th {\n",
       "        vertical-align: top;\n",
       "    }\n",
       "\n",
       "    .dataframe thead th {\n",
       "        text-align: right;\n",
       "    }\n",
       "</style>\n",
       "<table border=\"1\" class=\"dataframe\">\n",
       "  <thead>\n",
       "    <tr style=\"text-align: right;\">\n",
       "      <th></th>\n",
       "      <th>Id</th>\n",
       "      <th>SepalLengthCm</th>\n",
       "      <th>SepalWidthCm</th>\n",
       "      <th>PetalLengthCm</th>\n",
       "      <th>PetalWidthCm</th>\n",
       "      <th>Species</th>\n",
       "    </tr>\n",
       "  </thead>\n",
       "  <tbody>\n",
       "    <tr>\n",
       "      <th>0</th>\n",
       "      <td>1</td>\n",
       "      <td>5.1</td>\n",
       "      <td>3.5</td>\n",
       "      <td>1.4</td>\n",
       "      <td>0.2</td>\n",
       "      <td>Iris-setosa</td>\n",
       "    </tr>\n",
       "    <tr>\n",
       "      <th>1</th>\n",
       "      <td>2</td>\n",
       "      <td>4.9</td>\n",
       "      <td>3.0</td>\n",
       "      <td>1.4</td>\n",
       "      <td>0.2</td>\n",
       "      <td>Iris-setosa</td>\n",
       "    </tr>\n",
       "    <tr>\n",
       "      <th>2</th>\n",
       "      <td>3</td>\n",
       "      <td>NaN</td>\n",
       "      <td>3.2</td>\n",
       "      <td>1.3</td>\n",
       "      <td>0.2</td>\n",
       "      <td>Iris-setosa</td>\n",
       "    </tr>\n",
       "    <tr>\n",
       "      <th>3</th>\n",
       "      <td>4</td>\n",
       "      <td>4.6</td>\n",
       "      <td>3.1</td>\n",
       "      <td>1.5</td>\n",
       "      <td>0.2</td>\n",
       "      <td>Iris-setosa</td>\n",
       "    </tr>\n",
       "    <tr>\n",
       "      <th>4</th>\n",
       "      <td>5</td>\n",
       "      <td>5.0</td>\n",
       "      <td>3.6</td>\n",
       "      <td>1.4</td>\n",
       "      <td>0.2</td>\n",
       "      <td>Iris-setosa</td>\n",
       "    </tr>\n",
       "    <tr>\n",
       "      <th>...</th>\n",
       "      <td>...</td>\n",
       "      <td>...</td>\n",
       "      <td>...</td>\n",
       "      <td>...</td>\n",
       "      <td>...</td>\n",
       "      <td>...</td>\n",
       "    </tr>\n",
       "    <tr>\n",
       "      <th>145</th>\n",
       "      <td>146</td>\n",
       "      <td>6.7</td>\n",
       "      <td>3.0</td>\n",
       "      <td>5.2</td>\n",
       "      <td>2.3</td>\n",
       "      <td>Iris-virginica</td>\n",
       "    </tr>\n",
       "    <tr>\n",
       "      <th>146</th>\n",
       "      <td>147</td>\n",
       "      <td>6.3</td>\n",
       "      <td>2.5</td>\n",
       "      <td>5.0</td>\n",
       "      <td>1.9</td>\n",
       "      <td>Iris-virginica</td>\n",
       "    </tr>\n",
       "    <tr>\n",
       "      <th>147</th>\n",
       "      <td>148</td>\n",
       "      <td>6.5</td>\n",
       "      <td>3.0</td>\n",
       "      <td>5.2</td>\n",
       "      <td>2.0</td>\n",
       "      <td>Iris-virginica</td>\n",
       "    </tr>\n",
       "    <tr>\n",
       "      <th>148</th>\n",
       "      <td>149</td>\n",
       "      <td>6.2</td>\n",
       "      <td>3.4</td>\n",
       "      <td>5.4</td>\n",
       "      <td>2.3</td>\n",
       "      <td>Iris-virginica</td>\n",
       "    </tr>\n",
       "    <tr>\n",
       "      <th>149</th>\n",
       "      <td>150</td>\n",
       "      <td>5.9</td>\n",
       "      <td>3.0</td>\n",
       "      <td>5.1</td>\n",
       "      <td>1.8</td>\n",
       "      <td>Iris-virginica</td>\n",
       "    </tr>\n",
       "  </tbody>\n",
       "</table>\n",
       "<p>150 rows × 6 columns</p>\n",
       "</div>"
      ],
      "text/plain": [
       "      Id  SepalLengthCm  SepalWidthCm  PetalLengthCm  PetalWidthCm  \\\n",
       "0      1            5.1           3.5            1.4           0.2   \n",
       "1      2            4.9           3.0            1.4           0.2   \n",
       "2      3            NaN           3.2            1.3           0.2   \n",
       "3      4            4.6           3.1            1.5           0.2   \n",
       "4      5            5.0           3.6            1.4           0.2   \n",
       "..   ...            ...           ...            ...           ...   \n",
       "145  146            6.7           3.0            5.2           2.3   \n",
       "146  147            6.3           2.5            5.0           1.9   \n",
       "147  148            6.5           3.0            5.2           2.0   \n",
       "148  149            6.2           3.4            5.4           2.3   \n",
       "149  150            5.9           3.0            5.1           1.8   \n",
       "\n",
       "            Species  \n",
       "0       Iris-setosa  \n",
       "1       Iris-setosa  \n",
       "2       Iris-setosa  \n",
       "3       Iris-setosa  \n",
       "4       Iris-setosa  \n",
       "..              ...  \n",
       "145  Iris-virginica  \n",
       "146  Iris-virginica  \n",
       "147  Iris-virginica  \n",
       "148  Iris-virginica  \n",
       "149  Iris-virginica  \n",
       "\n",
       "[150 rows x 6 columns]"
      ]
     },
     "execution_count": 24,
     "metadata": {},
     "output_type": "execute_result"
    }
   ],
   "outputs_reference": "s3:deepnote-cell-outputs-production/1253c94a-8890-4dc0-850e-514c54a68f2c",
   "source": [
    "df_knn = df_iris.copy()\n",
    "\n",
    "jumlah_baris = df_knn.shape[0]\n",
    "df_knn.head(jumlah_baris)"
   ]
  },
  {
   "block_group": "bae08a49936141f0ba44b311774f8ee0",
   "cell_type": "markdown",
   "metadata": {
    "cell_id": "57be78e33a184500aaa45cb355d70b18",
    "deepnote_cell_type": "text-cell-p",
    "formattedRanges": []
   },
   "source": [
    "Dari Tabel di atas, terlihat bahwa terdapat beberapa baris yang memiliki data kosong (missing-value). Untuk informasi lebih singkat, dapat kita lihat pada perhitungan jumlah nilai yang hilang dalam setiap kolom berikut."
   ]
  },
  {
   "block_group": "2f6beff03d924b35a3883295edb8084f",
   "cell_type": "code",
   "execution_count": null,
   "metadata": {
    "cell_id": "bb642e8710124d5284bf778cd9c5a2a5",
    "deepnote_cell_type": "code",
    "deepnote_to_be_reexecuted": false,
    "execution_millis": 466,
    "execution_start": 1711538375805,
    "source_hash": null
   },
   "outputs": [
    {
     "data": {
      "text/plain": [
       "Id               0\n",
       "SepalLengthCm    5\n",
       "SepalWidthCm     0\n",
       "PetalLengthCm    0\n",
       "PetalWidthCm     0\n",
       "Species          2\n",
       "dtype: int64"
      ]
     },
     "execution_count": 25,
     "metadata": {},
     "output_type": "execute_result"
    }
   ],
   "outputs_reference": "dbtable:cell_outputs/ca99aa85-5be9-4662-9ae9-98b61b8986e7",
   "source": [
    "df_knn.isnull().sum()"
   ]
  },
  {
   "block_group": "8a3ef594cfa949c7ae77ed7ecde1ed5a",
   "cell_type": "markdown",
   "metadata": {
    "cell_id": "463f1ca3d5274754bdbf987595b9c0fd",
    "deepnote_cell_type": "text-cell-p",
    "formattedRanges": []
   },
   "source": [
    "Karena pada tabel terlihat bahwa terdapat dua baris data yang memiliki nilai kosong (missing-value) pada kolom SepalLengthCm dan Species yang dapat menimbulkan kesalahan analisis, maka kita dapat menghapus kedua baris tersebut agar tidak menggangu proses pengisian data."
   ]
  },
  {
   "block_group": "2b0010125c9f4ae2b6f180d1a591237e",
   "cell_type": "code",
   "execution_count": null,
   "metadata": {
    "cell_id": "937660aa4d7e4b67bc388d4df0257c96",
    "deepnote_cell_type": "code",
    "deepnote_to_be_reexecuted": false,
    "execution_millis": 458,
    "execution_start": 1711538375814,
    "source_hash": null
   },
   "outputs": [],
   "outputs_reference": null,
   "source": [
    "df_knn = df_knn.dropna(subset=['SepalLengthCm', 'Species'], how='all')"
   ]
  },
  {
   "block_group": "3f43eea937d94d3195cecac000ba2e81",
   "cell_type": "markdown",
   "metadata": {
    "cell_id": "856ed4fc303046e2bff25a1e8d35d47e",
    "deepnote_cell_type": "text-cell-p",
    "formattedRanges": []
   },
   "source": [
    "Menghitung kembali jumlah nilai yang hilang setelah penghapusan data."
   ]
  },
  {
   "block_group": "33f35c2180a34766a6109aadf3f10455",
   "cell_type": "code",
   "execution_count": null,
   "metadata": {
    "cell_id": "3ceeab356af74a7b8738746c97b9a74d",
    "deepnote_cell_type": "code",
    "deepnote_to_be_reexecuted": false,
    "execution_millis": 436,
    "execution_start": 1711538375836,
    "source_hash": null
   },
   "outputs": [
    {
     "data": {
      "text/plain": [
       "Id               0\n",
       "SepalLengthCm    3\n",
       "SepalWidthCm     0\n",
       "PetalLengthCm    0\n",
       "PetalWidthCm     0\n",
       "Species          0\n",
       "dtype: int64"
      ]
     },
     "execution_count": 27,
     "metadata": {},
     "output_type": "execute_result"
    }
   ],
   "outputs_reference": "dbtable:cell_outputs/e289cd37-efe8-4eee-8f11-7eb8c2dbfb52",
   "source": [
    "df_knn.isnull().sum()"
   ]
  },
  {
   "block_group": "b9ad70bc71464b0f88d7ce31f54d7842",
   "cell_type": "markdown",
   "metadata": {
    "cell_id": "3dff5bcd6f48400ab8b2cfb115910e2b",
    "deepnote_cell_type": "text-cell-p",
    "formattedRanges": []
   },
   "source": [
    "Menampilkan kembali semua baris yang ada pada DataFrame setelah penghapusan data."
   ]
  },
  {
   "block_group": "8f0c1246d4154bf181dcf5d9da072b6f",
   "cell_type": "code",
   "execution_count": null,
   "metadata": {
    "cell_id": "eb3ae604619a4976ab624215226deb00",
    "deepnote_cell_type": "code",
    "deepnote_to_be_reexecuted": false,
    "execution_millis": 436,
    "execution_start": 1711538375836,
    "source_hash": null
   },
   "outputs": [
    {
     "data": {
      "application/vnd.deepnote.dataframe.v3+json": {
       "column_count": 6,
       "columns": [
        {
         "dtype": "int64",
         "name": "Id",
         "stats": {
          "histogram": [
           {
            "bin_end": 15.9,
            "bin_start": 1,
            "count": 14
           },
           {
            "bin_end": 30.8,
            "bin_start": 15.9,
            "count": 15
           },
           {
            "bin_end": 45.7,
            "bin_start": 30.8,
            "count": 15
           },
           {
            "bin_end": 60.6,
            "bin_start": 45.7,
            "count": 15
           },
           {
            "bin_end": 75.5,
            "bin_start": 60.6,
            "count": 14
           },
           {
            "bin_end": 90.4,
            "bin_start": 75.5,
            "count": 15
           },
           {
            "bin_end": 105.3,
            "bin_start": 90.4,
            "count": 15
           },
           {
            "bin_end": 120.2,
            "bin_start": 105.3,
            "count": 15
           },
           {
            "bin_end": 135.1,
            "bin_start": 120.2,
            "count": 15
           },
           {
            "bin_end": 150,
            "bin_start": 135.1,
            "count": 15
           }
          ],
          "max": "150",
          "min": "1",
          "nan_count": 0,
          "unique_count": 148
         }
        },
        {
         "dtype": "float64",
         "name": "SepalLengthCm",
         "stats": {
          "histogram": [
           {
            "bin_end": 4.66,
            "bin_start": 4.3,
            "count": 8
           },
           {
            "bin_end": 5.02,
            "bin_start": 4.66,
            "count": 22
           },
           {
            "bin_end": 5.38,
            "bin_start": 5.02,
            "count": 14
           },
           {
            "bin_end": 5.74,
            "bin_start": 5.38,
            "count": 27
           },
           {
            "bin_end": 6.1,
            "bin_start": 5.74,
            "count": 16
           },
           {
            "bin_end": 6.46,
            "bin_start": 6.1,
            "count": 24
           },
           {
            "bin_end": 6.82,
            "bin_start": 6.46,
            "count": 18
           },
           {
            "bin_end": 7.18,
            "bin_start": 6.82,
            "count": 5
           },
           {
            "bin_end": 7.54,
            "bin_start": 7.18,
            "count": 5
           },
           {
            "bin_end": 7.9,
            "bin_start": 7.54,
            "count": 6
           }
          ],
          "max": "7.9",
          "min": "4.3",
          "nan_count": 3,
          "unique_count": 34
         }
        },
        {
         "dtype": "float64",
         "name": "SepalWidthCm",
         "stats": {
          "histogram": [
           {
            "bin_end": 2.24,
            "bin_start": 2,
            "count": 3
           },
           {
            "bin_end": 2.48,
            "bin_start": 2.24,
            "count": 7
           },
           {
            "bin_end": 2.72,
            "bin_start": 2.48,
            "count": 22
           },
           {
            "bin_end": 2.96,
            "bin_start": 2.72,
            "count": 24
           },
           {
            "bin_end": 3.2,
            "bin_start": 2.96,
            "count": 38
           },
           {
            "bin_end": 3.4400000000000004,
            "bin_start": 3.2,
            "count": 30
           },
           {
            "bin_end": 3.6800000000000006,
            "bin_start": 3.4400000000000004,
            "count": 9
           },
           {
            "bin_end": 3.9200000000000004,
            "bin_start": 3.6800000000000006,
            "count": 11
           },
           {
            "bin_end": 4.16,
            "bin_start": 3.9200000000000004,
            "count": 2
           },
           {
            "bin_end": 4.4,
            "bin_start": 4.16,
            "count": 2
           }
          ],
          "max": "4.4",
          "min": "2.0",
          "nan_count": 0,
          "unique_count": 23
         }
        },
        {
         "dtype": "float64",
         "name": "PetalLengthCm",
         "stats": {
          "histogram": [
           {
            "bin_end": 1.59,
            "bin_start": 1,
            "count": 36
           },
           {
            "bin_end": 2.18,
            "bin_start": 1.59,
            "count": 13
           },
           {
            "bin_end": 2.7700000000000005,
            "bin_start": 2.18,
            "count": 0
           },
           {
            "bin_end": 3.3600000000000003,
            "bin_start": 2.7700000000000005,
            "count": 3
           },
           {
            "bin_end": 3.95,
            "bin_start": 3.3600000000000003,
            "count": 8
           },
           {
            "bin_end": 4.540000000000001,
            "bin_start": 3.95,
            "count": 25
           },
           {
            "bin_end": 5.130000000000001,
            "bin_start": 4.540000000000001,
            "count": 29
           },
           {
            "bin_end": 5.720000000000001,
            "bin_start": 5.130000000000001,
            "count": 18
           },
           {
            "bin_end": 6.3100000000000005,
            "bin_start": 5.720000000000001,
            "count": 11
           },
           {
            "bin_end": 6.9,
            "bin_start": 6.3100000000000005,
            "count": 5
           }
          ],
          "max": "6.9",
          "min": "1.0",
          "nan_count": 0,
          "unique_count": 43
         }
        },
        {
         "dtype": "float64",
         "name": "PetalWidthCm",
         "stats": {
          "histogram": [
           {
            "bin_end": 0.33999999999999997,
            "bin_start": 0.1,
            "count": 40
           },
           {
            "bin_end": 0.58,
            "bin_start": 0.33999999999999997,
            "count": 8
           },
           {
            "bin_end": 0.82,
            "bin_start": 0.58,
            "count": 1
           },
           {
            "bin_end": 1.06,
            "bin_start": 0.82,
            "count": 7
           },
           {
            "bin_end": 1.3,
            "bin_start": 1.06,
            "count": 8
           },
           {
            "bin_end": 1.54,
            "bin_start": 1.3,
            "count": 32
           },
           {
            "bin_end": 1.78,
            "bin_start": 1.54,
            "count": 6
           },
           {
            "bin_end": 2.02,
            "bin_start": 1.78,
            "count": 23
           },
           {
            "bin_end": 2.2600000000000002,
            "bin_start": 2.02,
            "count": 9
           },
           {
            "bin_end": 2.5,
            "bin_start": 2.2600000000000002,
            "count": 14
           }
          ],
          "max": "2.5",
          "min": "0.1",
          "nan_count": 0,
          "unique_count": 22
         }
        },
        {
         "dtype": "object",
         "name": "Species",
         "stats": {
          "categories": [
           {
            "count": 50,
            "name": "Iris-virginica"
           },
           {
            "count": 49,
            "name": "Iris-setosa"
           },
           {
            "count": 49,
            "name": "Iris-versicolor"
           }
          ],
          "nan_count": 0,
          "unique_count": 3
         }
        },
        {
         "dtype": "int64",
         "name": "_deepnote_index_column"
        }
       ],
       "row_count": 148,
       "rows": [
        {
         "Id": 1,
         "PetalLengthCm": 1.4,
         "PetalWidthCm": 0.2,
         "SepalLengthCm": 5.1,
         "SepalWidthCm": 3.5,
         "Species": "Iris-setosa",
         "_deepnote_index_column": 0
        },
        {
         "Id": 2,
         "PetalLengthCm": 1.4,
         "PetalWidthCm": 0.2,
         "SepalLengthCm": 4.9,
         "SepalWidthCm": 3,
         "Species": "Iris-setosa",
         "_deepnote_index_column": 1
        },
        {
         "Id": 3,
         "PetalLengthCm": 1.3,
         "PetalWidthCm": 0.2,
         "SepalLengthCm": "nan",
         "SepalWidthCm": 3.2,
         "Species": "Iris-setosa",
         "_deepnote_index_column": 2
        },
        {
         "Id": 4,
         "PetalLengthCm": 1.5,
         "PetalWidthCm": 0.2,
         "SepalLengthCm": 4.6,
         "SepalWidthCm": 3.1,
         "Species": "Iris-setosa",
         "_deepnote_index_column": 3
        },
        {
         "Id": 5,
         "PetalLengthCm": 1.4,
         "PetalWidthCm": 0.2,
         "SepalLengthCm": 5,
         "SepalWidthCm": 3.6,
         "Species": "Iris-setosa",
         "_deepnote_index_column": 4
        },
        {
         "Id": 6,
         "PetalLengthCm": 1.7,
         "PetalWidthCm": 0.4,
         "SepalLengthCm": 5.4,
         "SepalWidthCm": 3.9,
         "Species": "Iris-setosa",
         "_deepnote_index_column": 5
        },
        {
         "Id": 8,
         "PetalLengthCm": 1.5,
         "PetalWidthCm": 0.2,
         "SepalLengthCm": 5,
         "SepalWidthCm": 3.4,
         "Species": "Iris-setosa",
         "_deepnote_index_column": 7
        },
        {
         "Id": 9,
         "PetalLengthCm": 1.4,
         "PetalWidthCm": 0.2,
         "SepalLengthCm": 4.4,
         "SepalWidthCm": 2.9,
         "Species": "Iris-setosa",
         "_deepnote_index_column": 8
        },
        {
         "Id": 10,
         "PetalLengthCm": 1.5,
         "PetalWidthCm": 0.1,
         "SepalLengthCm": 4.9,
         "SepalWidthCm": 3.1,
         "Species": "Iris-setosa",
         "_deepnote_index_column": 9
        },
        {
         "Id": 11,
         "PetalLengthCm": 1.5,
         "PetalWidthCm": 0.2,
         "SepalLengthCm": 5.4,
         "SepalWidthCm": 3.7,
         "Species": "Iris-setosa",
         "_deepnote_index_column": 10
        }
       ]
      },
      "text/html": [
       "<div>\n",
       "<style scoped>\n",
       "    .dataframe tbody tr th:only-of-type {\n",
       "        vertical-align: middle;\n",
       "    }\n",
       "\n",
       "    .dataframe tbody tr th {\n",
       "        vertical-align: top;\n",
       "    }\n",
       "\n",
       "    .dataframe thead th {\n",
       "        text-align: right;\n",
       "    }\n",
       "</style>\n",
       "<table border=\"1\" class=\"dataframe\">\n",
       "  <thead>\n",
       "    <tr style=\"text-align: right;\">\n",
       "      <th></th>\n",
       "      <th>Id</th>\n",
       "      <th>SepalLengthCm</th>\n",
       "      <th>SepalWidthCm</th>\n",
       "      <th>PetalLengthCm</th>\n",
       "      <th>PetalWidthCm</th>\n",
       "      <th>Species</th>\n",
       "    </tr>\n",
       "  </thead>\n",
       "  <tbody>\n",
       "    <tr>\n",
       "      <th>0</th>\n",
       "      <td>1</td>\n",
       "      <td>5.1</td>\n",
       "      <td>3.5</td>\n",
       "      <td>1.4</td>\n",
       "      <td>0.2</td>\n",
       "      <td>Iris-setosa</td>\n",
       "    </tr>\n",
       "    <tr>\n",
       "      <th>1</th>\n",
       "      <td>2</td>\n",
       "      <td>4.9</td>\n",
       "      <td>3.0</td>\n",
       "      <td>1.4</td>\n",
       "      <td>0.2</td>\n",
       "      <td>Iris-setosa</td>\n",
       "    </tr>\n",
       "    <tr>\n",
       "      <th>2</th>\n",
       "      <td>3</td>\n",
       "      <td>NaN</td>\n",
       "      <td>3.2</td>\n",
       "      <td>1.3</td>\n",
       "      <td>0.2</td>\n",
       "      <td>Iris-setosa</td>\n",
       "    </tr>\n",
       "    <tr>\n",
       "      <th>3</th>\n",
       "      <td>4</td>\n",
       "      <td>4.6</td>\n",
       "      <td>3.1</td>\n",
       "      <td>1.5</td>\n",
       "      <td>0.2</td>\n",
       "      <td>Iris-setosa</td>\n",
       "    </tr>\n",
       "    <tr>\n",
       "      <th>4</th>\n",
       "      <td>5</td>\n",
       "      <td>5.0</td>\n",
       "      <td>3.6</td>\n",
       "      <td>1.4</td>\n",
       "      <td>0.2</td>\n",
       "      <td>Iris-setosa</td>\n",
       "    </tr>\n",
       "    <tr>\n",
       "      <th>...</th>\n",
       "      <td>...</td>\n",
       "      <td>...</td>\n",
       "      <td>...</td>\n",
       "      <td>...</td>\n",
       "      <td>...</td>\n",
       "      <td>...</td>\n",
       "    </tr>\n",
       "    <tr>\n",
       "      <th>145</th>\n",
       "      <td>146</td>\n",
       "      <td>6.7</td>\n",
       "      <td>3.0</td>\n",
       "      <td>5.2</td>\n",
       "      <td>2.3</td>\n",
       "      <td>Iris-virginica</td>\n",
       "    </tr>\n",
       "    <tr>\n",
       "      <th>146</th>\n",
       "      <td>147</td>\n",
       "      <td>6.3</td>\n",
       "      <td>2.5</td>\n",
       "      <td>5.0</td>\n",
       "      <td>1.9</td>\n",
       "      <td>Iris-virginica</td>\n",
       "    </tr>\n",
       "    <tr>\n",
       "      <th>147</th>\n",
       "      <td>148</td>\n",
       "      <td>6.5</td>\n",
       "      <td>3.0</td>\n",
       "      <td>5.2</td>\n",
       "      <td>2.0</td>\n",
       "      <td>Iris-virginica</td>\n",
       "    </tr>\n",
       "    <tr>\n",
       "      <th>148</th>\n",
       "      <td>149</td>\n",
       "      <td>6.2</td>\n",
       "      <td>3.4</td>\n",
       "      <td>5.4</td>\n",
       "      <td>2.3</td>\n",
       "      <td>Iris-virginica</td>\n",
       "    </tr>\n",
       "    <tr>\n",
       "      <th>149</th>\n",
       "      <td>150</td>\n",
       "      <td>5.9</td>\n",
       "      <td>3.0</td>\n",
       "      <td>5.1</td>\n",
       "      <td>1.8</td>\n",
       "      <td>Iris-virginica</td>\n",
       "    </tr>\n",
       "  </tbody>\n",
       "</table>\n",
       "<p>148 rows × 6 columns</p>\n",
       "</div>"
      ],
      "text/plain": [
       "      Id  SepalLengthCm  SepalWidthCm  PetalLengthCm  PetalWidthCm  \\\n",
       "0      1            5.1           3.5            1.4           0.2   \n",
       "1      2            4.9           3.0            1.4           0.2   \n",
       "2      3            NaN           3.2            1.3           0.2   \n",
       "3      4            4.6           3.1            1.5           0.2   \n",
       "4      5            5.0           3.6            1.4           0.2   \n",
       "..   ...            ...           ...            ...           ...   \n",
       "145  146            6.7           3.0            5.2           2.3   \n",
       "146  147            6.3           2.5            5.0           1.9   \n",
       "147  148            6.5           3.0            5.2           2.0   \n",
       "148  149            6.2           3.4            5.4           2.3   \n",
       "149  150            5.9           3.0            5.1           1.8   \n",
       "\n",
       "            Species  \n",
       "0       Iris-setosa  \n",
       "1       Iris-setosa  \n",
       "2       Iris-setosa  \n",
       "3       Iris-setosa  \n",
       "4       Iris-setosa  \n",
       "..              ...  \n",
       "145  Iris-virginica  \n",
       "146  Iris-virginica  \n",
       "147  Iris-virginica  \n",
       "148  Iris-virginica  \n",
       "149  Iris-virginica  \n",
       "\n",
       "[148 rows x 6 columns]"
      ]
     },
     "execution_count": 28,
     "metadata": {},
     "output_type": "execute_result"
    }
   ],
   "outputs_reference": "s3:deepnote-cell-outputs-production/e6a321db-6e50-4665-8196-1a69f330bea9",
   "source": [
    "df_knn.head(jumlah_baris)"
   ]
  },
  {
   "block_group": "bcce36cb8fc44bc19d59c4078b6987b0",
   "cell_type": "markdown",
   "metadata": {
    "cell_id": "85b4cf96031c4b6c9f9f84da286c9c09",
    "deepnote_cell_type": "text-cell-p",
    "formattedRanges": []
   },
   "source": [
    "Pastikan type data dari fitur yang akan kita uji adalah numerik/float."
   ]
  },
  {
   "block_group": "18e8a55e1bcf4ba384a80eaeecd0f0ec",
   "cell_type": "code",
   "execution_count": null,
   "metadata": {
    "cell_id": "2dcefb068d1649f98780f2dc918af698",
    "deepnote_cell_type": "code",
    "deepnote_to_be_reexecuted": false,
    "execution_millis": 416,
    "execution_start": 1711538375857,
    "source_hash": null
   },
   "outputs": [
    {
     "name": "stdout",
     "output_type": "stream",
     "text": [
      "<class 'pandas.core.frame.DataFrame'>\n",
      "Index: 148 entries, 0 to 149\n",
      "Data columns (total 6 columns):\n",
      " #   Column         Non-Null Count  Dtype  \n",
      "---  ------         --------------  -----  \n",
      " 0   Id             148 non-null    int64  \n",
      " 1   SepalLengthCm  145 non-null    float64\n",
      " 2   SepalWidthCm   148 non-null    float64\n",
      " 3   PetalLengthCm  148 non-null    float64\n",
      " 4   PetalWidthCm   148 non-null    float64\n",
      " 5   Species        148 non-null    object \n",
      "dtypes: float64(4), int64(1), object(1)\n",
      "memory usage: 8.1+ KB\n"
     ]
    }
   ],
   "outputs_reference": "dbtable:cell_outputs/9a8c2c78-729f-48aa-9d52-174069248208",
   "source": [
    "df_knn.info()"
   ]
  },
  {
   "block_group": "ccecac7c3fa344998530b7630a474947",
   "cell_type": "markdown",
   "metadata": {
    "cell_id": "7e5cbe2eb6cf44a6be31065f637edaa0",
    "deepnote_cell_type": "text-cell-p",
    "formattedRanges": []
   },
   "source": [
    "Pilih fitur yang akan digunakan untuk kNN.\r"
   ]
  },
  {
   "block_group": "369a91da0c9f4f05aa146700016a51af",
   "cell_type": "code",
   "execution_count": null,
   "metadata": {
    "cell_id": "b640f471eb1a4512aeea75fe56b55960",
    "deepnote_cell_type": "code",
    "deepnote_to_be_reexecuted": false,
    "execution_millis": 401,
    "execution_start": 1711538375872,
    "source_hash": null
   },
   "outputs": [],
   "outputs_reference": null,
   "source": [
    "features = ['SepalLengthCm', 'SepalWidthCm', 'PetalLengthCm', 'PetalWidthCm']"
   ]
  },
  {
   "block_group": "db0901eea3fe47cf8942b37b186508d7",
   "cell_type": "markdown",
   "metadata": {
    "cell_id": "8b3b3c882a8f41f2a342fa92f3bfcd6a",
    "deepnote_cell_type": "text-cell-p",
    "formattedRanges": []
   },
   "source": [
    "Gunakan KNNImputer untuk mengisi nilai yang hilang."
   ]
  },
  {
   "block_group": "6eeaba5b26fa4d3c8ddbf4cd23d1c932",
   "cell_type": "code",
   "execution_count": null,
   "metadata": {
    "cell_id": "892f0f0a07044748b8034f7ad95d44cc",
    "deepnote_cell_type": "code",
    "deepnote_to_be_reexecuted": false,
    "execution_millis": 359,
    "execution_start": 1711538375914,
    "source_hash": null
   },
   "outputs": [],
   "outputs_reference": null,
   "source": [
    "imputer = KNNImputer(n_neighbors=5)\n",
    "df_knn[features] = imputer.fit_transform(df_knn[features]).round(1)"
   ]
  },
  {
   "block_group": "ce4ab2d6a70a408a84e3aa444bdae1fc",
   "cell_type": "markdown",
   "metadata": {
    "cell_id": "5204242799244955804d5d31b5b4819d",
    "deepnote_cell_type": "text-cell-p",
    "formattedRanges": []
   },
   "source": [
    "Pisahkan data menjadi data pelatihan dan data validasi."
   ]
  },
  {
   "block_group": "d222200167884e429b3c7c1567f59c90",
   "cell_type": "code",
   "execution_count": null,
   "metadata": {
    "cell_id": "c9c01acbbb6f47fcbfcb896d7cce20d5",
    "deepnote_cell_type": "code",
    "deepnote_to_be_reexecuted": false,
    "execution_millis": 359,
    "execution_start": 1711538375915,
    "source_hash": null
   },
   "outputs": [],
   "outputs_reference": null,
   "source": [
    "x_train, x_valid, y_train, y_valid = train_test_split(\n",
    "    df_knn[features], df_knn['SepalLengthCm'], test_size=0.25, random_state=42\n",
    ")"
   ]
  },
  {
   "block_group": "aabc57f52f9649409ee9a223456e945b",
   "cell_type": "markdown",
   "metadata": {
    "cell_id": "d85c0b3d7bf64c949e20154eb63eb2e1",
    "deepnote_cell_type": "text-cell-p",
    "formattedRanges": []
   },
   "source": [
    "Inisialisasi model kNN.\r"
   ]
  },
  {
   "block_group": "2afced6879a14984abd3adf4ba24400e",
   "cell_type": "code",
   "execution_count": null,
   "metadata": {
    "cell_id": "ed735220f67c44f188e46aa2b9e61f53",
    "deepnote_cell_type": "code",
    "deepnote_to_be_reexecuted": false,
    "execution_millis": 359,
    "execution_start": 1711538375915,
    "source_hash": null
   },
   "outputs": [],
   "outputs_reference": null,
   "source": [
    "knn_model = KNeighborsRegressor(n_neighbors=5)"
   ]
  },
  {
   "block_group": "9973190870384e43906c7e95fb59893d",
   "cell_type": "markdown",
   "metadata": {
    "cell_id": "9a0a36ce3b0b4d7a95f434300c31233a",
    "deepnote_cell_type": "text-cell-p",
    "formattedRanges": []
   },
   "source": [
    "Melatih model kNN."
   ]
  },
  {
   "block_group": "8f6e53feb24f4fb39bbca7414f7395cb",
   "cell_type": "code",
   "execution_count": null,
   "metadata": {
    "cell_id": "795c4e0cdf984fc58d9f4d401f5bf156",
    "deepnote_cell_type": "code",
    "deepnote_to_be_reexecuted": false,
    "execution_millis": 359,
    "execution_start": 1711538375916,
    "source_hash": null
   },
   "outputs": [
    {
     "data": {
      "text/html": [
       "<style>#sk-container-id-1 {color: black;background-color: white;}#sk-container-id-1 pre{padding: 0;}#sk-container-id-1 div.sk-toggleable {background-color: white;}#sk-container-id-1 label.sk-toggleable__label {cursor: pointer;display: block;width: 100%;margin-bottom: 0;padding: 0.3em;box-sizing: border-box;text-align: center;}#sk-container-id-1 label.sk-toggleable__label-arrow:before {content: \"▸\";float: left;margin-right: 0.25em;color: #696969;}#sk-container-id-1 label.sk-toggleable__label-arrow:hover:before {color: black;}#sk-container-id-1 div.sk-estimator:hover label.sk-toggleable__label-arrow:before {color: black;}#sk-container-id-1 div.sk-toggleable__content {max-height: 0;max-width: 0;overflow: hidden;text-align: left;background-color: #f0f8ff;}#sk-container-id-1 div.sk-toggleable__content pre {margin: 0.2em;color: black;border-radius: 0.25em;background-color: #f0f8ff;}#sk-container-id-1 input.sk-toggleable__control:checked~div.sk-toggleable__content {max-height: 200px;max-width: 100%;overflow: auto;}#sk-container-id-1 input.sk-toggleable__control:checked~label.sk-toggleable__label-arrow:before {content: \"▾\";}#sk-container-id-1 div.sk-estimator input.sk-toggleable__control:checked~label.sk-toggleable__label {background-color: #d4ebff;}#sk-container-id-1 div.sk-label input.sk-toggleable__control:checked~label.sk-toggleable__label {background-color: #d4ebff;}#sk-container-id-1 input.sk-hidden--visually {border: 0;clip: rect(1px 1px 1px 1px);clip: rect(1px, 1px, 1px, 1px);height: 1px;margin: -1px;overflow: hidden;padding: 0;position: absolute;width: 1px;}#sk-container-id-1 div.sk-estimator {font-family: monospace;background-color: #f0f8ff;border: 1px dotted black;border-radius: 0.25em;box-sizing: border-box;margin-bottom: 0.5em;}#sk-container-id-1 div.sk-estimator:hover {background-color: #d4ebff;}#sk-container-id-1 div.sk-parallel-item::after {content: \"\";width: 100%;border-bottom: 1px solid gray;flex-grow: 1;}#sk-container-id-1 div.sk-label:hover label.sk-toggleable__label {background-color: #d4ebff;}#sk-container-id-1 div.sk-serial::before {content: \"\";position: absolute;border-left: 1px solid gray;box-sizing: border-box;top: 0;bottom: 0;left: 50%;z-index: 0;}#sk-container-id-1 div.sk-serial {display: flex;flex-direction: column;align-items: center;background-color: white;padding-right: 0.2em;padding-left: 0.2em;position: relative;}#sk-container-id-1 div.sk-item {position: relative;z-index: 1;}#sk-container-id-1 div.sk-parallel {display: flex;align-items: stretch;justify-content: center;background-color: white;position: relative;}#sk-container-id-1 div.sk-item::before, #sk-container-id-1 div.sk-parallel-item::before {content: \"\";position: absolute;border-left: 1px solid gray;box-sizing: border-box;top: 0;bottom: 0;left: 50%;z-index: -1;}#sk-container-id-1 div.sk-parallel-item {display: flex;flex-direction: column;z-index: 1;position: relative;background-color: white;}#sk-container-id-1 div.sk-parallel-item:first-child::after {align-self: flex-end;width: 50%;}#sk-container-id-1 div.sk-parallel-item:last-child::after {align-self: flex-start;width: 50%;}#sk-container-id-1 div.sk-parallel-item:only-child::after {width: 0;}#sk-container-id-1 div.sk-dashed-wrapped {border: 1px dashed gray;margin: 0 0.4em 0.5em 0.4em;box-sizing: border-box;padding-bottom: 0.4em;background-color: white;}#sk-container-id-1 div.sk-label label {font-family: monospace;font-weight: bold;display: inline-block;line-height: 1.2em;}#sk-container-id-1 div.sk-label-container {text-align: center;}#sk-container-id-1 div.sk-container {/* jupyter's `normalize.less` sets `[hidden] { display: none; }` but bootstrap.min.css set `[hidden] { display: none !important; }` so we also need the `!important` here to be able to override the default hidden behavior on the sphinx rendered scikit-learn.org. See: https://github.com/scikit-learn/scikit-learn/issues/21755 */display: inline-block !important;position: relative;}#sk-container-id-1 div.sk-text-repr-fallback {display: none;}</style><div id=\"sk-container-id-1\" class=\"sk-top-container\"><div class=\"sk-text-repr-fallback\"><pre>KNeighborsRegressor()</pre><b>In a Jupyter environment, please rerun this cell to show the HTML representation or trust the notebook. <br />On GitHub, the HTML representation is unable to render, please try loading this page with nbviewer.org.</b></div><div class=\"sk-container\" hidden><div class=\"sk-item\"><div class=\"sk-estimator sk-toggleable\"><input class=\"sk-toggleable__control sk-hidden--visually\" id=\"sk-estimator-id-1\" type=\"checkbox\" checked><label for=\"sk-estimator-id-1\" class=\"sk-toggleable__label sk-toggleable__label-arrow\">KNeighborsRegressor</label><div class=\"sk-toggleable__content\"><pre>KNeighborsRegressor()</pre></div></div></div></div></div>"
      ],
      "text/plain": [
       "KNeighborsRegressor()"
      ]
     },
     "execution_count": 34,
     "metadata": {},
     "output_type": "execute_result"
    }
   ],
   "outputs_reference": "s3:deepnote-cell-outputs-production/4ff9322c-d5e4-478a-bdbe-dc7727912f2c",
   "source": [
    "knn_model.fit(x_train, y_train)"
   ]
  },
  {
   "block_group": "1762a88169264d8092d8d893308aa6e9",
   "cell_type": "markdown",
   "metadata": {
    "cell_id": "ce3ad599287f4905bae07a7a86a7ca2a",
    "deepnote_cell_type": "text-cell-p",
    "formattedRanges": []
   },
   "source": [
    "Melakukan prediksi untuk data validasi."
   ]
  },
  {
   "block_group": "eb7db5fd872147e183196b7147e18281",
   "cell_type": "code",
   "execution_count": null,
   "metadata": {
    "cell_id": "92a2aad214394675a79a62b32c45b7a3",
    "deepnote_cell_type": "code",
    "deepnote_to_be_reexecuted": false,
    "execution_millis": 308,
    "execution_start": 1711538375967,
    "source_hash": null
   },
   "outputs": [],
   "outputs_reference": null,
   "source": [
    "y_pred = knn_model.predict(x_valid)"
   ]
  },
  {
   "block_group": "13fd29d0c3e6487792c7e2f713d76bf1",
   "cell_type": "markdown",
   "metadata": {
    "cell_id": "e7d07ed4fa5a4c7f915ee1bfb2d4221e",
    "deepnote_cell_type": "text-cell-p",
    "formattedRanges": []
   },
   "source": [
    "Menghitung mean squared error (MSE)."
   ]
  },
  {
   "block_group": "c0572fb11ac24457af36bab40281ae96",
   "cell_type": "code",
   "execution_count": null,
   "metadata": {
    "cell_id": "a1186909eb5946b6b9dc141822ae5d5e",
    "deepnote_cell_type": "code",
    "deepnote_to_be_reexecuted": false,
    "execution_millis": 308,
    "execution_start": 1711538375968,
    "source_hash": null
   },
   "outputs": [
    {
     "name": "stdout",
     "output_type": "stream",
     "text": [
      "Mean Squared Error (MSE) dari model k-NN: 0.025059459459459452\n"
     ]
    }
   ],
   "outputs_reference": "dbtable:cell_outputs/af441526-de06-4fcc-867a-c4c55f51d33a",
   "source": [
    "mse = mean_squared_error(y_valid, y_pred)\n",
    "print(\"Mean Squared Error (MSE) dari model k-NN:\", mse)"
   ]
  },
  {
   "block_group": "868cb9cd307f4c099aadd8f9a8e0381b",
   "cell_type": "markdown",
   "metadata": {
    "cell_id": "e2379f9562844df5836d032f5f2bd378",
    "deepnote_cell_type": "text-cell-p",
    "formattedRanges": []
   },
   "source": [
    "Visualisasi grafik untuk perbandingan nilai yang diimputasi dengan nilai yang sebenarnya."
   ]
  },
  {
   "block_group": "5db2422d0676498582fff575ad1e77cf",
   "cell_type": "code",
   "execution_count": null,
   "metadata": {
    "cell_id": "1114917c06124ec4ab04503ba2ad30af",
    "deepnote_cell_type": "code",
    "deepnote_to_be_reexecuted": false,
    "execution_millis": 481,
    "execution_start": 1711538375969,
    "source_hash": null
   },
   "outputs": [
    {
     "data": {
      "image/png": "[encoded data removed]",
      "text/plain": [
       "<Figure size 1500x600 with 1 Axes>"
      ]
     },
     "metadata": {
      "image/png": {
       "height": 590,
       "width": 780
      }
     },
     "output_type": "display_data"
    }
   ],
   "outputs_reference": "s3:deepnote-cell-outputs-production/5592ac6a-3e26-44ea-8d03-24a41427a6e8",
   "source": [
    "plt.figure(figsize=(15, 6))\n",
    "plt.subplot(1, 2, 2)\n",
    "plt.scatter(df_knn.loc[df_1['SepalLengthCm'].notnull(), 'SepalLengthCm'], \n",
    "            df_knn.loc[df_1['SepalLengthCm'].notnull(), 'PetalWidthCm'], \n",
    "            c='blue', label='Data yang diketahui')\n",
    "plt.scatter(df_knn.loc[df_1['SepalLengthCm'].isnull(), 'SepalLengthCm'], \n",
    "            df_knn.loc[df_1['SepalLengthCm'].isnull(), 'PetalWidthCm'], \n",
    "            c='red', label='Data yang diimputasi')\n",
    "plt.xlabel('Sepal Length (cm)')\n",
    "plt.ylabel('Petal Width (cm)')\n",
    "plt.title('Perbandingan Data yang Diketahui dan yang Diimputasi (Sepal Length vs Petal Width)')\n",
    "plt.legend()\n",
    "\n",
    "plt.tight_layout()\n",
    "plt.show()"
   ]
  },
  {
   "block_group": "b3d876a065514717ae90ff6967ad6657",
   "cell_type": "markdown",
   "metadata": {
    "cell_id": "943b1c14c27641fcb5fb3e53fb6539c2",
    "deepnote_cell_type": "text-cell-p",
    "formattedRanges": []
   },
   "source": [
    "Menghitung kembali jumlah nilai yang hilang setelah pengisian data."
   ]
  },
  {
   "block_group": "1dc6c0e4610347a9bf7d8cf54f76e9d1",
   "cell_type": "code",
   "execution_count": null,
   "metadata": {
    "cell_id": "6326173d946a4b20964257d0c77bea35",
    "deepnote_cell_type": "code",
    "deepnote_to_be_reexecuted": false,
    "execution_millis": 220,
    "execution_start": 1711538376466,
    "source_hash": null
   },
   "outputs": [
    {
     "data": {
      "text/plain": [
       "Id               0\n",
       "SepalLengthCm    0\n",
       "SepalWidthCm     0\n",
       "PetalLengthCm    0\n",
       "PetalWidthCm     0\n",
       "Species          0\n",
       "dtype: int64"
      ]
     },
     "execution_count": 38,
     "metadata": {},
     "output_type": "execute_result"
    }
   ],
   "outputs_reference": "dbtable:cell_outputs/6e32ab3b-8d7a-4b43-b02a-ed0cff5a55c5",
   "source": [
    "df_knn.isnull().sum()"
   ]
  },
  {
   "block_group": "01bf6f1627b641079aa5f16e5d542004",
   "cell_type": "markdown",
   "metadata": {
    "cell_id": "797bef1561ea472f8ae7c594081f2668",
    "deepnote_cell_type": "text-cell-p",
    "formattedRanges": []
   },
   "source": [
    "Menampilkan kembali semua baris yang ada pada DataFrame setelah pengisian data."
   ]
  },
  {
   "block_group": "c765b12da38048b68b782f3aa84ff471",
   "cell_type": "code",
   "execution_count": null,
   "metadata": {
    "cell_id": "3dcb2c10311f4b87ad960d2939be7df8",
    "deepnote_cell_type": "code",
    "deepnote_to_be_reexecuted": false,
    "execution_millis": 206,
    "execution_start": 1711538376481,
    "source_hash": null
   },
   "outputs": [
    {
     "data": {
      "application/vnd.deepnote.dataframe.v3+json": {
       "column_count": 6,
       "columns": [
        {
         "dtype": "int64",
         "name": "Id",
         "stats": {
          "histogram": [
           {
            "bin_end": 15.9,
            "bin_start": 1,
            "count": 14
           },
           {
            "bin_end": 30.8,
            "bin_start": 15.9,
            "count": 15
           },
           {
            "bin_end": 45.7,
            "bin_start": 30.8,
            "count": 15
           },
           {
            "bin_end": 60.6,
            "bin_start": 45.7,
            "count": 15
           },
           {
            "bin_end": 75.5,
            "bin_start": 60.6,
            "count": 14
           },
           {
            "bin_end": 90.4,
            "bin_start": 75.5,
            "count": 15
           },
           {
            "bin_end": 105.3,
            "bin_start": 90.4,
            "count": 15
           },
           {
            "bin_end": 120.2,
            "bin_start": 105.3,
            "count": 15
           },
           {
            "bin_end": 135.1,
            "bin_start": 120.2,
            "count": 15
           },
           {
            "bin_end": 150,
            "bin_start": 135.1,
            "count": 15
           }
          ],
          "max": "150",
          "min": "1",
          "nan_count": 0,
          "unique_count": 148
         }
        },
        {
         "dtype": "float64",
         "name": "SepalLengthCm",
         "stats": {
          "histogram": [
           {
            "bin_end": 4.66,
            "bin_start": 4.3,
            "count": 8
           },
           {
            "bin_end": 5.02,
            "bin_start": 4.66,
            "count": 23
           },
           {
            "bin_end": 5.38,
            "bin_start": 5.02,
            "count": 14
           },
           {
            "bin_end": 5.74,
            "bin_start": 5.38,
            "count": 27
           },
           {
            "bin_end": 6.1,
            "bin_start": 5.74,
            "count": 16
           },
           {
            "bin_end": 6.46,
            "bin_start": 6.1,
            "count": 25
           },
           {
            "bin_end": 6.82,
            "bin_start": 6.46,
            "count": 18
           },
           {
            "bin_end": 7.18,
            "bin_start": 6.82,
            "count": 6
           },
           {
            "bin_end": 7.54,
            "bin_start": 7.18,
            "count": 5
           },
           {
            "bin_end": 7.9,
            "bin_start": 7.54,
            "count": 6
           }
          ],
          "max": "7.9",
          "min": "4.3",
          "nan_count": 0,
          "unique_count": 35
         }
        },
        {
         "dtype": "float64",
         "name": "SepalWidthCm",
         "stats": {
          "histogram": [
           {
            "bin_end": 2.24,
            "bin_start": 2,
            "count": 3
           },
           {
            "bin_end": 2.48,
            "bin_start": 2.24,
            "count": 7
           },
           {
            "bin_end": 2.72,
            "bin_start": 2.48,
            "count": 22
           },
           {
            "bin_end": 2.96,
            "bin_start": 2.72,
            "count": 24
           },
           {
            "bin_end": 3.2,
            "bin_start": 2.96,
            "count": 38
           },
           {
            "bin_end": 3.4400000000000004,
            "bin_start": 3.2,
            "count": 30
           },
           {
            "bin_end": 3.6800000000000006,
            "bin_start": 3.4400000000000004,
            "count": 9
           },
           {
            "bin_end": 3.9200000000000004,
            "bin_start": 3.6800000000000006,
            "count": 11
           },
           {
            "bin_end": 4.16,
            "bin_start": 3.9200000000000004,
            "count": 2
           },
           {
            "bin_end": 4.4,
            "bin_start": 4.16,
            "count": 2
           }
          ],
          "max": "4.4",
          "min": "2.0",
          "nan_count": 0,
          "unique_count": 23
         }
        },
        {
         "dtype": "float64",
         "name": "PetalLengthCm",
         "stats": {
          "histogram": [
           {
            "bin_end": 1.59,
            "bin_start": 1,
            "count": 36
           },
           {
            "bin_end": 2.18,
            "bin_start": 1.59,
            "count": 13
           },
           {
            "bin_end": 2.7700000000000005,
            "bin_start": 2.18,
            "count": 0
           },
           {
            "bin_end": 3.3600000000000003,
            "bin_start": 2.7700000000000005,
            "count": 3
           },
           {
            "bin_end": 3.95,
            "bin_start": 3.3600000000000003,
            "count": 8
           },
           {
            "bin_end": 4.540000000000001,
            "bin_start": 3.95,
            "count": 25
           },
           {
            "bin_end": 5.130000000000001,
            "bin_start": 4.540000000000001,
            "count": 29
           },
           {
            "bin_end": 5.720000000000001,
            "bin_start": 5.130000000000001,
            "count": 18
           },
           {
            "bin_end": 6.3100000000000005,
            "bin_start": 5.720000000000001,
            "count": 11
           },
           {
            "bin_end": 6.9,
            "bin_start": 6.3100000000000005,
            "count": 5
           }
          ],
          "max": "6.9",
          "min": "1.0",
          "nan_count": 0,
          "unique_count": 43
         }
        },
        {
         "dtype": "float64",
         "name": "PetalWidthCm",
         "stats": {
          "histogram": [
           {
            "bin_end": 0.33999999999999997,
            "bin_start": 0.1,
            "count": 40
           },
           {
            "bin_end": 0.58,
            "bin_start": 0.33999999999999997,
            "count": 8
           },
           {
            "bin_end": 0.82,
            "bin_start": 0.58,
            "count": 1
           },
           {
            "bin_end": 1.06,
            "bin_start": 0.82,
            "count": 7
           },
           {
            "bin_end": 1.3,
            "bin_start": 1.06,
            "count": 8
           },
           {
            "bin_end": 1.54,
            "bin_start": 1.3,
            "count": 32
           },
           {
            "bin_end": 1.78,
            "bin_start": 1.54,
            "count": 6
           },
           {
            "bin_end": 2.02,
            "bin_start": 1.78,
            "count": 23
           },
           {
            "bin_end": 2.2600000000000002,
            "bin_start": 2.02,
            "count": 9
           },
           {
            "bin_end": 2.5,
            "bin_start": 2.2600000000000002,
            "count": 14
           }
          ],
          "max": "2.5",
          "min": "0.1",
          "nan_count": 0,
          "unique_count": 22
         }
        },
        {
         "dtype": "object",
         "name": "Species",
         "stats": {
          "categories": [
           {
            "count": 50,
            "name": "Iris-virginica"
           },
           {
            "count": 49,
            "name": "Iris-setosa"
           },
           {
            "count": 49,
            "name": "Iris-versicolor"
           }
          ],
          "nan_count": 0,
          "unique_count": 3
         }
        },
        {
         "dtype": "int64",
         "name": "_deepnote_index_column"
        }
       ],
       "row_count": 148,
       "rows": [
        {
         "Id": 1,
         "PetalLengthCm": 1.4,
         "PetalWidthCm": 0.2,
         "SepalLengthCm": 5.1,
         "SepalWidthCm": 3.5,
         "Species": "Iris-setosa",
         "_deepnote_index_column": 0
        },
        {
         "Id": 2,
         "PetalLengthCm": 1.4,
         "PetalWidthCm": 0.2,
         "SepalLengthCm": 4.9,
         "SepalWidthCm": 3,
         "Species": "Iris-setosa",
         "_deepnote_index_column": 1
        },
        {
         "Id": 3,
         "PetalLengthCm": 1.3,
         "PetalWidthCm": 0.2,
         "SepalLengthCm": 4.7,
         "SepalWidthCm": 3.2,
         "Species": "Iris-setosa",
         "_deepnote_index_column": 2
        },
        {
         "Id": 4,
         "PetalLengthCm": 1.5,
         "PetalWidthCm": 0.2,
         "SepalLengthCm": 4.6,
         "SepalWidthCm": 3.1,
         "Species": "Iris-setosa",
         "_deepnote_index_column": 3
        },
        {
         "Id": 5,
         "PetalLengthCm": 1.4,
         "PetalWidthCm": 0.2,
         "SepalLengthCm": 5,
         "SepalWidthCm": 3.6,
         "Species": "Iris-setosa",
         "_deepnote_index_column": 4
        },
        {
         "Id": 6,
         "PetalLengthCm": 1.7,
         "PetalWidthCm": 0.4,
         "SepalLengthCm": 5.4,
         "SepalWidthCm": 3.9,
         "Species": "Iris-setosa",
         "_deepnote_index_column": 5
        },
        {
         "Id": 8,
         "PetalLengthCm": 1.5,
         "PetalWidthCm": 0.2,
         "SepalLengthCm": 5,
         "SepalWidthCm": 3.4,
         "Species": "Iris-setosa",
         "_deepnote_index_column": 7
        },
        {
         "Id": 9,
         "PetalLengthCm": 1.4,
         "PetalWidthCm": 0.2,
         "SepalLengthCm": 4.4,
         "SepalWidthCm": 2.9,
         "Species": "Iris-setosa",
         "_deepnote_index_column": 8
        },
        {
         "Id": 10,
         "PetalLengthCm": 1.5,
         "PetalWidthCm": 0.1,
         "SepalLengthCm": 4.9,
         "SepalWidthCm": 3.1,
         "Species": "Iris-setosa",
         "_deepnote_index_column": 9
        },
        {
         "Id": 11,
         "PetalLengthCm": 1.5,
         "PetalWidthCm": 0.2,
         "SepalLengthCm": 5.4,
         "SepalWidthCm": 3.7,
         "Species": "Iris-setosa",
         "_deepnote_index_column": 10
        }
       ]
      },
      "text/html": [
       "<div>\n",
       "<style scoped>\n",
       "    .dataframe tbody tr th:only-of-type {\n",
       "        vertical-align: middle;\n",
       "    }\n",
       "\n",
       "    .dataframe tbody tr th {\n",
       "        vertical-align: top;\n",
       "    }\n",
       "\n",
       "    .dataframe thead th {\n",
       "        text-align: right;\n",
       "    }\n",
       "</style>\n",
       "<table border=\"1\" class=\"dataframe\">\n",
       "  <thead>\n",
       "    <tr style=\"text-align: right;\">\n",
       "      <th></th>\n",
       "      <th>Id</th>\n",
       "      <th>SepalLengthCm</th>\n",
       "      <th>SepalWidthCm</th>\n",
       "      <th>PetalLengthCm</th>\n",
       "      <th>PetalWidthCm</th>\n",
       "      <th>Species</th>\n",
       "    </tr>\n",
       "  </thead>\n",
       "  <tbody>\n",
       "    <tr>\n",
       "      <th>0</th>\n",
       "      <td>1</td>\n",
       "      <td>5.1</td>\n",
       "      <td>3.5</td>\n",
       "      <td>1.4</td>\n",
       "      <td>0.2</td>\n",
       "      <td>Iris-setosa</td>\n",
       "    </tr>\n",
       "    <tr>\n",
       "      <th>1</th>\n",
       "      <td>2</td>\n",
       "      <td>4.9</td>\n",
       "      <td>3.0</td>\n",
       "      <td>1.4</td>\n",
       "      <td>0.2</td>\n",
       "      <td>Iris-setosa</td>\n",
       "    </tr>\n",
       "    <tr>\n",
       "      <th>2</th>\n",
       "      <td>3</td>\n",
       "      <td>4.7</td>\n",
       "      <td>3.2</td>\n",
       "      <td>1.3</td>\n",
       "      <td>0.2</td>\n",
       "      <td>Iris-setosa</td>\n",
       "    </tr>\n",
       "    <tr>\n",
       "      <th>3</th>\n",
       "      <td>4</td>\n",
       "      <td>4.6</td>\n",
       "      <td>3.1</td>\n",
       "      <td>1.5</td>\n",
       "      <td>0.2</td>\n",
       "      <td>Iris-setosa</td>\n",
       "    </tr>\n",
       "    <tr>\n",
       "      <th>4</th>\n",
       "      <td>5</td>\n",
       "      <td>5.0</td>\n",
       "      <td>3.6</td>\n",
       "      <td>1.4</td>\n",
       "      <td>0.2</td>\n",
       "      <td>Iris-setosa</td>\n",
       "    </tr>\n",
       "    <tr>\n",
       "      <th>...</th>\n",
       "      <td>...</td>\n",
       "      <td>...</td>\n",
       "      <td>...</td>\n",
       "      <td>...</td>\n",
       "      <td>...</td>\n",
       "      <td>...</td>\n",
       "    </tr>\n",
       "    <tr>\n",
       "      <th>145</th>\n",
       "      <td>146</td>\n",
       "      <td>6.7</td>\n",
       "      <td>3.0</td>\n",
       "      <td>5.2</td>\n",
       "      <td>2.3</td>\n",
       "      <td>Iris-virginica</td>\n",
       "    </tr>\n",
       "    <tr>\n",
       "      <th>146</th>\n",
       "      <td>147</td>\n",
       "      <td>6.3</td>\n",
       "      <td>2.5</td>\n",
       "      <td>5.0</td>\n",
       "      <td>1.9</td>\n",
       "      <td>Iris-virginica</td>\n",
       "    </tr>\n",
       "    <tr>\n",
       "      <th>147</th>\n",
       "      <td>148</td>\n",
       "      <td>6.5</td>\n",
       "      <td>3.0</td>\n",
       "      <td>5.2</td>\n",
       "      <td>2.0</td>\n",
       "      <td>Iris-virginica</td>\n",
       "    </tr>\n",
       "    <tr>\n",
       "      <th>148</th>\n",
       "      <td>149</td>\n",
       "      <td>6.2</td>\n",
       "      <td>3.4</td>\n",
       "      <td>5.4</td>\n",
       "      <td>2.3</td>\n",
       "      <td>Iris-virginica</td>\n",
       "    </tr>\n",
       "    <tr>\n",
       "      <th>149</th>\n",
       "      <td>150</td>\n",
       "      <td>5.9</td>\n",
       "      <td>3.0</td>\n",
       "      <td>5.1</td>\n",
       "      <td>1.8</td>\n",
       "      <td>Iris-virginica</td>\n",
       "    </tr>\n",
       "  </tbody>\n",
       "</table>\n",
       "<p>148 rows × 6 columns</p>\n",
       "</div>"
      ],
      "text/plain": [
       "      Id  SepalLengthCm  SepalWidthCm  PetalLengthCm  PetalWidthCm  \\\n",
       "0      1            5.1           3.5            1.4           0.2   \n",
       "1      2            4.9           3.0            1.4           0.2   \n",
       "2      3            4.7           3.2            1.3           0.2   \n",
       "3      4            4.6           3.1            1.5           0.2   \n",
       "4      5            5.0           3.6            1.4           0.2   \n",
       "..   ...            ...           ...            ...           ...   \n",
       "145  146            6.7           3.0            5.2           2.3   \n",
       "146  147            6.3           2.5            5.0           1.9   \n",
       "147  148            6.5           3.0            5.2           2.0   \n",
       "148  149            6.2           3.4            5.4           2.3   \n",
       "149  150            5.9           3.0            5.1           1.8   \n",
       "\n",
       "            Species  \n",
       "0       Iris-setosa  \n",
       "1       Iris-setosa  \n",
       "2       Iris-setosa  \n",
       "3       Iris-setosa  \n",
       "4       Iris-setosa  \n",
       "..              ...  \n",
       "145  Iris-virginica  \n",
       "146  Iris-virginica  \n",
       "147  Iris-virginica  \n",
       "148  Iris-virginica  \n",
       "149  Iris-virginica  \n",
       "\n",
       "[148 rows x 6 columns]"
      ]
     },
     "execution_count": 39,
     "metadata": {},
     "output_type": "execute_result"
    }
   ],
   "outputs_reference": "s3:deepnote-cell-outputs-production/9e4cd14f-c627-42de-9783-ff1e34d7eb71",
   "source": [
    "df_knn.head(jumlah_baris)"
   ]
  },
  {
   "block_group": "7fe9dbc395e2441ab5363c53e7f687b6",
   "cell_type": "markdown",
   "metadata": {
    "cell_id": "f4b4cf9919de47ebbfc43458e986f391",
    "deepnote_cell_type": "text-cell-p",
    "formattedRanges": []
   },
   "source": [
    "Selanjutnya, kode membuat koneksi ke database MySQL dengan kredensial yang diberikan, kemudian membuat sebuah tabel baru dengan nama 'Iris_knn' yang memiliki beberapa kolom seperti 'Id' (sebagai primary key), 'SepalLengthCm', 'SepalWidthCm', dan 'Species'. Setelah tabel dibuat, kode menyimpan DataFrame df_mean ke dalam tabel tersebut menggunakan pernyataan SQL INSERT. Terakhir, perubahan tersebut di-commit dan koneksi ditutup. Pesan \"DataFrame berhasil disimpan ke dalam tabel MySQL.\" dicetak sebagai indikasi bahwa proses telah selesai dengan sukses."
   ]
  },
  {
   "block_group": "ca508755edb2486d8a863d0c8c67d9b9",
   "cell_type": "code",
   "execution_count": null,
   "metadata": {
    "cell_id": "592843727c774064ae44bbc1b968d0f7",
    "deepnote_cell_type": "code",
    "deepnote_to_be_reexecuted": false,
    "execution_millis": 34280,
    "execution_start": 1711538376493,
    "source_hash": null
   },
   "outputs": [
    {
     "name": "stdout",
     "output_type": "stream",
     "text": [
      "DataFrame berhasil disimpan ke dalam tabel MySQL.\n"
     ]
    }
   ],
   "outputs_reference": "dbtable:cell_outputs/cd467997-d728-4a47-9543-fa68615ba152",
   "source": [
    "import mysql.connector\n",
    "\n",
    "# Ganti dengan kredensial yang sesuai\n",
    "db_user = 'avnadmin'\n",
    "db_password = 'AVNS_ZdndZ22SeeCMF0U7zTj'\n",
    "db_host = 'mysql-datamining-irfan22083.a.aivencloud.com'\n",
    "db_port = '13019'\n",
    "db_name = 'mysql-datamining'\n",
    "\n",
    "# Buat koneksi ke database\n",
    "conn = mysql.connector.connect(user=db_user, password=db_password, host=db_host, port=db_port, database=db_name)\n",
    "cursor = conn.cursor()\n",
    "\n",
    "# Buat tabel baru\n",
    "create_table_query = \"\"\"\n",
    "CREATE TABLE Iris_knn (\n",
    "    Id INT AUTO_INCREMENT PRIMARY KEY,\n",
    "    SepalLengthCm DOUBLE,\n",
    "    SepalWidthCm DOUBLE,\n",
    "    Species TEXT\n",
    ")\n",
    "\"\"\"\n",
    "cursor.execute(create_table_query)\n",
    "\n",
    "# Simpan DataFrame ke dalam tabel MySQL\n",
    "for index, row in df_knn.iterrows():\n",
    "    insert_query = \"\"\"\n",
    "    INSERT INTO Iris_knn (Id, SepalLengthCm, SepalWidthCm, Species)\n",
    "    VALUES (%s, %s, %s, %s)\n",
    "    \"\"\"\n",
    "    cursor.execute(insert_query, (row['Id'], row['SepalLengthCm'], row['SepalWidthCm'], row['Species']))\n",
    "\n",
    "# Commit perubahan dan tutup koneksi\n",
    "conn.commit()\n",
    "conn.close()\n",
    "\n",
    "# Tampilkan pesan berhasil\n",
    "print(\"DataFrame berhasil disimpan ke dalam tabel MySQL.\")"
   ]
  },
  {
   "block_group": "ab0acc4c11ea4b87bf9c07f89aa75697",
   "cell_type": "markdown",
   "metadata": {
    "cell_id": "46e275e855ee48dfbbe2350205bb3cda",
    "deepnote_cell_type": "text-cell-p",
    "formattedRanges": []
   },
   "source": [
    "Periksa apakah tabel \"Iris_knn\" telah berhasil dibuat dan diisi dengan data."
   ]
  },
  {
   "block_group": "26469da6491e43c89821dfa1b445985a",
   "cell_type": "code",
   "execution_count": null,
   "metadata": {
    "cell_id": "2ec404e145cd4224882391fc41272d7a",
    "deepnote_cell_type": "sql",
    "deepnote_sql_source": "SELECT * FROM Iris_knn;",
    "deepnote_to_be_reexecuted": false,
    "deepnote_variable_name": "df_4",
    "execution_millis": 3274,
    "execution_start": 1711538410775,
    "source_hash": null,
    "sql_integration_id": "09471b5a-652d-432f-b73d-65305a4929e6"
   },
   "outputs": [
    {
     "data": {
      "application/vnd.deepnote.sql-output-metadata+json": {
       "size_in_bytes": 14090,
       "status": "success_no_cache"
      }
     },
     "metadata": {},
     "output_type": "display_data"
    },
    {
     "data": {
      "application/vnd.deepnote.dataframe.v3+json": {
       "column_count": 4,
       "columns": [
        {
         "dtype": "int64",
         "name": "Id",
         "stats": {
          "histogram": [
           {
            "bin_end": 15.9,
            "bin_start": 1,
            "count": 14
           },
           {
            "bin_end": 30.8,
            "bin_start": 15.9,
            "count": 15
           },
           {
            "bin_end": 45.7,
            "bin_start": 30.8,
            "count": 15
           },
           {
            "bin_end": 60.6,
            "bin_start": 45.7,
            "count": 15
           },
           {
            "bin_end": 75.5,
            "bin_start": 60.6,
            "count": 14
           },
           {
            "bin_end": 90.4,
            "bin_start": 75.5,
            "count": 15
           },
           {
            "bin_end": 105.3,
            "bin_start": 90.4,
            "count": 15
           },
           {
            "bin_end": 120.2,
            "bin_start": 105.3,
            "count": 15
           },
           {
            "bin_end": 135.1,
            "bin_start": 120.2,
            "count": 15
           },
           {
            "bin_end": 150,
            "bin_start": 135.1,
            "count": 15
           }
          ],
          "max": "150",
          "min": "1",
          "nan_count": 0,
          "unique_count": 148
         }
        },
        {
         "dtype": "float64",
         "name": "SepalLengthCm",
         "stats": {
          "histogram": [
           {
            "bin_end": 4.66,
            "bin_start": 4.3,
            "count": 8
           },
           {
            "bin_end": 5.02,
            "bin_start": 4.66,
            "count": 23
           },
           {
            "bin_end": 5.38,
            "bin_start": 5.02,
            "count": 14
           },
           {
            "bin_end": 5.74,
            "bin_start": 5.38,
            "count": 27
           },
           {
            "bin_end": 6.1,
            "bin_start": 5.74,
            "count": 16
           },
           {
            "bin_end": 6.46,
            "bin_start": 6.1,
            "count": 25
           },
           {
            "bin_end": 6.82,
            "bin_start": 6.46,
            "count": 18
           },
           {
            "bin_end": 7.18,
            "bin_start": 6.82,
            "count": 6
           },
           {
            "bin_end": 7.54,
            "bin_start": 7.18,
            "count": 5
           },
           {
            "bin_end": 7.9,
            "bin_start": 7.54,
            "count": 6
           }
          ],
          "max": "7.9",
          "min": "4.3",
          "nan_count": 0,
          "unique_count": 35
         }
        },
        {
         "dtype": "float64",
         "name": "SepalWidthCm",
         "stats": {
          "histogram": [
           {
            "bin_end": 2.24,
            "bin_start": 2,
            "count": 3
           },
           {
            "bin_end": 2.48,
            "bin_start": 2.24,
            "count": 7
           },
           {
            "bin_end": 2.72,
            "bin_start": 2.48,
            "count": 22
           },
           {
            "bin_end": 2.96,
            "bin_start": 2.72,
            "count": 24
           },
           {
            "bin_end": 3.2,
            "bin_start": 2.96,
            "count": 38
           },
           {
            "bin_end": 3.4400000000000004,
            "bin_start": 3.2,
            "count": 30
           },
           {
            "bin_end": 3.6800000000000006,
            "bin_start": 3.4400000000000004,
            "count": 9
           },
           {
            "bin_end": 3.9200000000000004,
            "bin_start": 3.6800000000000006,
            "count": 11
           },
           {
            "bin_end": 4.16,
            "bin_start": 3.9200000000000004,
            "count": 2
           },
           {
            "bin_end": 4.4,
            "bin_start": 4.16,
            "count": 2
           }
          ],
          "max": "4.4",
          "min": "2.0",
          "nan_count": 0,
          "unique_count": 23
         }
        },
        {
         "dtype": "object",
         "name": "Species",
         "stats": {
          "categories": [
           {
            "count": 50,
            "name": "Iris-virginica"
           },
           {
            "count": 49,
            "name": "Iris-setosa"
           },
           {
            "count": 49,
            "name": "Iris-versicolor"
           }
          ],
          "nan_count": 0,
          "unique_count": 3
         }
        },
        {
         "dtype": "int64",
         "name": "_deepnote_index_column"
        }
       ],
       "row_count": 148,
       "rows": [
        {
         "Id": 1,
         "SepalLengthCm": 5.1,
         "SepalWidthCm": 3.5,
         "Species": "Iris-setosa",
         "_deepnote_index_column": 0
        },
        {
         "Id": 2,
         "SepalLengthCm": 4.9,
         "SepalWidthCm": 3,
         "Species": "Iris-setosa",
         "_deepnote_index_column": 1
        },
        {
         "Id": 3,
         "SepalLengthCm": 4.7,
         "SepalWidthCm": 3.2,
         "Species": "Iris-setosa",
         "_deepnote_index_column": 2
        },
        {
         "Id": 4,
         "SepalLengthCm": 4.6,
         "SepalWidthCm": 3.1,
         "Species": "Iris-setosa",
         "_deepnote_index_column": 3
        },
        {
         "Id": 5,
         "SepalLengthCm": 5,
         "SepalWidthCm": 3.6,
         "Species": "Iris-setosa",
         "_deepnote_index_column": 4
        },
        {
         "Id": 6,
         "SepalLengthCm": 5.4,
         "SepalWidthCm": 3.9,
         "Species": "Iris-setosa",
         "_deepnote_index_column": 5
        },
        {
         "Id": 8,
         "SepalLengthCm": 5,
         "SepalWidthCm": 3.4,
         "Species": "Iris-setosa",
         "_deepnote_index_column": 6
        },
        {
         "Id": 9,
         "SepalLengthCm": 4.4,
         "SepalWidthCm": 2.9,
         "Species": "Iris-setosa",
         "_deepnote_index_column": 7
        },
        {
         "Id": 10,
         "SepalLengthCm": 4.9,
         "SepalWidthCm": 3.1,
         "Species": "Iris-setosa",
         "_deepnote_index_column": 8
        },
        {
         "Id": 11,
         "SepalLengthCm": 5.4,
         "SepalWidthCm": 3.7,
         "Species": "Iris-setosa",
         "_deepnote_index_column": 9
        }
       ]
      },
      "text/html": [
       "<div>\n",
       "<style scoped>\n",
       "    .dataframe tbody tr th:only-of-type {\n",
       "        vertical-align: middle;\n",
       "    }\n",
       "\n",
       "    .dataframe tbody tr th {\n",
       "        vertical-align: top;\n",
       "    }\n",
       "\n",
       "    .dataframe thead th {\n",
       "        text-align: right;\n",
       "    }\n",
       "</style>\n",
       "<table border=\"1\" class=\"dataframe\">\n",
       "  <thead>\n",
       "    <tr style=\"text-align: right;\">\n",
       "      <th></th>\n",
       "      <th>Id</th>\n",
       "      <th>SepalLengthCm</th>\n",
       "      <th>SepalWidthCm</th>\n",
       "      <th>Species</th>\n",
       "    </tr>\n",
       "  </thead>\n",
       "  <tbody>\n",
       "    <tr>\n",
       "      <th>0</th>\n",
       "      <td>1</td>\n",
       "      <td>5.1</td>\n",
       "      <td>3.5</td>\n",
       "      <td>Iris-setosa</td>\n",
       "    </tr>\n",
       "    <tr>\n",
       "      <th>1</th>\n",
       "      <td>2</td>\n",
       "      <td>4.9</td>\n",
       "      <td>3.0</td>\n",
       "      <td>Iris-setosa</td>\n",
       "    </tr>\n",
       "    <tr>\n",
       "      <th>2</th>\n",
       "      <td>3</td>\n",
       "      <td>4.7</td>\n",
       "      <td>3.2</td>\n",
       "      <td>Iris-setosa</td>\n",
       "    </tr>\n",
       "    <tr>\n",
       "      <th>3</th>\n",
       "      <td>4</td>\n",
       "      <td>4.6</td>\n",
       "      <td>3.1</td>\n",
       "      <td>Iris-setosa</td>\n",
       "    </tr>\n",
       "    <tr>\n",
       "      <th>4</th>\n",
       "      <td>5</td>\n",
       "      <td>5.0</td>\n",
       "      <td>3.6</td>\n",
       "      <td>Iris-setosa</td>\n",
       "    </tr>\n",
       "    <tr>\n",
       "      <th>...</th>\n",
       "      <td>...</td>\n",
       "      <td>...</td>\n",
       "      <td>...</td>\n",
       "      <td>...</td>\n",
       "    </tr>\n",
       "    <tr>\n",
       "      <th>143</th>\n",
       "      <td>146</td>\n",
       "      <td>6.7</td>\n",
       "      <td>3.0</td>\n",
       "      <td>Iris-virginica</td>\n",
       "    </tr>\n",
       "    <tr>\n",
       "      <th>144</th>\n",
       "      <td>147</td>\n",
       "      <td>6.3</td>\n",
       "      <td>2.5</td>\n",
       "      <td>Iris-virginica</td>\n",
       "    </tr>\n",
       "    <tr>\n",
       "      <th>145</th>\n",
       "      <td>148</td>\n",
       "      <td>6.5</td>\n",
       "      <td>3.0</td>\n",
       "      <td>Iris-virginica</td>\n",
       "    </tr>\n",
       "    <tr>\n",
       "      <th>146</th>\n",
       "      <td>149</td>\n",
       "      <td>6.2</td>\n",
       "      <td>3.4</td>\n",
       "      <td>Iris-virginica</td>\n",
       "    </tr>\n",
       "    <tr>\n",
       "      <th>147</th>\n",
       "      <td>150</td>\n",
       "      <td>5.9</td>\n",
       "      <td>3.0</td>\n",
       "      <td>Iris-virginica</td>\n",
       "    </tr>\n",
       "  </tbody>\n",
       "</table>\n",
       "<p>148 rows × 4 columns</p>\n",
       "</div>"
      ],
      "text/plain": [
       "      Id  SepalLengthCm  SepalWidthCm         Species\n",
       "0      1            5.1           3.5     Iris-setosa\n",
       "1      2            4.9           3.0     Iris-setosa\n",
       "2      3            4.7           3.2     Iris-setosa\n",
       "3      4            4.6           3.1     Iris-setosa\n",
       "4      5            5.0           3.6     Iris-setosa\n",
       "..   ...            ...           ...             ...\n",
       "143  146            6.7           3.0  Iris-virginica\n",
       "144  147            6.3           2.5  Iris-virginica\n",
       "145  148            6.5           3.0  Iris-virginica\n",
       "146  149            6.2           3.4  Iris-virginica\n",
       "147  150            5.9           3.0  Iris-virginica\n",
       "\n",
       "[148 rows x 4 columns]"
      ]
     },
     "execution_count": 41,
     "metadata": {},
     "output_type": "execute_result"
    }
   ],
   "outputs_reference": "s3:deepnote-cell-outputs-production/fa3dba6e-d250-420d-afd1-18d2f629a051",
   "source": [
    "df_4 = _deepnote_execute_sql('SELECT * FROM Iris_knn;', 'SQL_09471B5A_652D_432F_B73D_65305A4929E6', audit_sql_comment='', sql_cache_mode='cache_disabled')\n",
    "df_4"
   ]
  },
  {
   "block_group": "f6798ab0d36b48bfac37fb7c8f4a645d",
   "cell_type": "markdown",
   "metadata": {
    "cell_id": "c5ad965e398548ebb47db956a2360257",
    "deepnote_cell_type": "text-cell-p",
    "formattedRanges": []
   },
   "source": [
    "Selanjutnya, kode membuat koneksi ke database PostgreSQL dengan kredensial yang diberikan, kemudian membuat sebuah tabel baru dengan nama 'Iris_knn' yang memiliki beberapa kolom seperti 'Id' (sebagai primary key), 'PetalLengthCm', dan 'PetalWidthCm'. Setelah tabel dibuat, kode menyimpan DataFrame df_knn ke dalam tabel tersebut menggunakan pernyataan SQL INSERT. Terakhir, perubahan tersebut di-commit dan koneksi ditutup. Pesan \"DataFrame berhasil disimpan ke dalam tabel PostgreSQL.\" dicetak sebagai indikasi bahwa proses telah selesai dengan sukses."
   ]
  },
  {
   "block_group": "1c370f8bf602418cb0b0a1b291716ae1",
   "cell_type": "code",
   "execution_count": null,
   "metadata": {
    "cell_id": "27e634adb35c4f40bd5cf9a00d01c44a",
    "deepnote_cell_type": "code",
    "deepnote_to_be_reexecuted": false,
    "execution_millis": 33763,
    "execution_start": 1711538414070,
    "source_hash": null
   },
   "outputs": [
    {
     "name": "stdout",
     "output_type": "stream",
     "text": [
      "DataFrame berhasil disimpan ke dalam tabel PostgreSQL.\n"
     ]
    }
   ],
   "outputs_reference": "dbtable:cell_outputs/38d337ee-3391-42a9-917a-74d5f2334497",
   "source": [
    "import pandas as pd\n",
    "import psycopg2\n",
    "\n",
    "# Ganti dengan kredensial yang sesuai\n",
    "db_user = 'avnadmin'\n",
    "db_password = 'AVNS_H0Llq5wAZnxVS1nR-Op'\n",
    "db_host = 'pg-datamining-irfan22083.a.aivencloud.com'\n",
    "db_port = '13019'\n",
    "db_name = 'pg-datamining'\n",
    "\n",
    "# Koneksi ke database PostgreSQL\n",
    "conn = psycopg2.connect(dbname=db_name, user=db_user, password=db_password, host=db_host, port=db_port)\n",
    "cursor = conn.cursor()\n",
    "\n",
    "# Buat tabel baru\n",
    "create_table_query = \"\"\"\n",
    "CREATE TABLE \"Iris_knn\" (\n",
    "    Id INT PRIMARY KEY,\n",
    "    PetalLengthCm DOUBLE PRECISION,\n",
    "    PetalWidthCm DOUBLE PRECISION\n",
    ")\n",
    "\"\"\"\n",
    "cursor.execute(create_table_query)\n",
    "\n",
    "# Simpan DataFrame ke dalam tabel PostgreSQL\n",
    "for index, row in df_knn.iterrows():\n",
    "    insert_query = \"\"\"\n",
    "    INSERT INTO \"Iris_knn\" (Id, PetalLengthCm, PetalWidthCm)\n",
    "    VALUES (%s, %s, %s)\n",
    "    \"\"\"\n",
    "    cursor.execute(insert_query, (row['Id'], row['PetalLengthCm'], row['PetalWidthCm']))\n",
    "\n",
    "# Commit perubahan dan tutup koneksi\n",
    "conn.commit()\n",
    "conn.close()\n",
    "\n",
    "# Tampilkan pesan berhasil\n",
    "print(\"DataFrame berhasil disimpan ke dalam tabel PostgreSQL.\")"
   ]
  },
  {
   "block_group": "c8dc873eaa0e48f88d84ac8177083c70",
   "cell_type": "markdown",
   "metadata": {
    "cell_id": "5eb200391ba943069a29952610f5b1c0",
    "deepnote_cell_type": "text-cell-p",
    "formattedRanges": []
   },
   "source": [
    "Periksa apakah tabel \"Iris_knn\" telah berhasil dibuat dan terisi semua data pada database PostgreSQL."
   ]
  },
  {
   "block_group": "6facbae13cfb4f50881e6dd5cabe4a75",
   "cell_type": "code",
   "execution_count": null,
   "metadata": {
    "cell_id": "b790d6dc16434e91990b6680205c9e4b",
    "deepnote_cell_type": "sql",
    "deepnote_sql_source": "SELECT * FROM \"Iris_knn\";",
    "deepnote_to_be_reexecuted": false,
    "deepnote_variable_name": "df_6",
    "execution_millis": 3764,
    "execution_start": 1711538447835,
    "source_hash": null,
    "sql_integration_id": "44ceac78-b576-4235-b8ae-3b3bd9a41b5d"
   },
   "outputs": [
    {
     "data": {
      "application/vnd.deepnote.sql-output-metadata+json": {
       "size_in_bytes": 3680,
       "status": "success_no_cache"
      }
     },
     "metadata": {},
     "output_type": "display_data"
    },
    {
     "data": {
      "application/vnd.deepnote.dataframe.v3+json": {
       "column_count": 3,
       "columns": [
        {
         "dtype": "int64",
         "name": "id",
         "stats": {
          "histogram": [
           {
            "bin_end": 15.9,
            "bin_start": 1,
            "count": 14
           },
           {
            "bin_end": 30.8,
            "bin_start": 15.9,
            "count": 15
           },
           {
            "bin_end": 45.7,
            "bin_start": 30.8,
            "count": 15
           },
           {
            "bin_end": 60.6,
            "bin_start": 45.7,
            "count": 15
           },
           {
            "bin_end": 75.5,
            "bin_start": 60.6,
            "count": 14
           },
           {
            "bin_end": 90.4,
            "bin_start": 75.5,
            "count": 15
           },
           {
            "bin_end": 105.3,
            "bin_start": 90.4,
            "count": 15
           },
           {
            "bin_end": 120.2,
            "bin_start": 105.3,
            "count": 15
           },
           {
            "bin_end": 135.1,
            "bin_start": 120.2,
            "count": 15
           },
           {
            "bin_end": 150,
            "bin_start": 135.1,
            "count": 15
           }
          ],
          "max": "150",
          "min": "1",
          "nan_count": 0,
          "unique_count": 148
         }
        },
        {
         "dtype": "float64",
         "name": "petallengthcm",
         "stats": {
          "histogram": [
           {
            "bin_end": 1.59,
            "bin_start": 1,
            "count": 36
           },
           {
            "bin_end": 2.18,
            "bin_start": 1.59,
            "count": 13
           },
           {
            "bin_end": 2.7700000000000005,
            "bin_start": 2.18,
            "count": 0
           },
           {
            "bin_end": 3.3600000000000003,
            "bin_start": 2.7700000000000005,
            "count": 3
           },
           {
            "bin_end": 3.95,
            "bin_start": 3.3600000000000003,
            "count": 8
           },
           {
            "bin_end": 4.540000000000001,
            "bin_start": 3.95,
            "count": 25
           },
           {
            "bin_end": 5.130000000000001,
            "bin_start": 4.540000000000001,
            "count": 29
           },
           {
            "bin_end": 5.720000000000001,
            "bin_start": 5.130000000000001,
            "count": 18
           },
           {
            "bin_end": 6.3100000000000005,
            "bin_start": 5.720000000000001,
            "count": 11
           },
           {
            "bin_end": 6.9,
            "bin_start": 6.3100000000000005,
            "count": 5
           }
          ],
          "max": "6.9",
          "min": "1.0",
          "nan_count": 0,
          "unique_count": 43
         }
        },
        {
         "dtype": "float64",
         "name": "petalwidthcm",
         "stats": {
          "histogram": [
           {
            "bin_end": 0.33999999999999997,
            "bin_start": 0.1,
            "count": 40
           },
           {
            "bin_end": 0.58,
            "bin_start": 0.33999999999999997,
            "count": 8
           },
           {
            "bin_end": 0.82,
            "bin_start": 0.58,
            "count": 1
           },
           {
            "bin_end": 1.06,
            "bin_start": 0.82,
            "count": 7
           },
           {
            "bin_end": 1.3,
            "bin_start": 1.06,
            "count": 8
           },
           {
            "bin_end": 1.54,
            "bin_start": 1.3,
            "count": 32
           },
           {
            "bin_end": 1.78,
            "bin_start": 1.54,
            "count": 6
           },
           {
            "bin_end": 2.02,
            "bin_start": 1.78,
            "count": 23
           },
           {
            "bin_end": 2.2600000000000002,
            "bin_start": 2.02,
            "count": 9
           },
           {
            "bin_end": 2.5,
            "bin_start": 2.2600000000000002,
            "count": 14
           }
          ],
          "max": "2.5",
          "min": "0.1",
          "nan_count": 0,
          "unique_count": 22
         }
        },
        {
         "dtype": "int64",
         "name": "_deepnote_index_column"
        }
       ],
       "row_count": 148,
       "rows": [
        {
         "_deepnote_index_column": 0,
         "id": 1,
         "petallengthcm": 1.4,
         "petalwidthcm": 0.2
        },
        {
         "_deepnote_index_column": 1,
         "id": 2,
         "petallengthcm": 1.4,
         "petalwidthcm": 0.2
        },
        {
         "_deepnote_index_column": 2,
         "id": 3,
         "petallengthcm": 1.3,
         "petalwidthcm": 0.2
        },
        {
         "_deepnote_index_column": 3,
         "id": 4,
         "petallengthcm": 1.5,
         "petalwidthcm": 0.2
        },
        {
         "_deepnote_index_column": 4,
         "id": 5,
         "petallengthcm": 1.4,
         "petalwidthcm": 0.2
        },
        {
         "_deepnote_index_column": 5,
         "id": 6,
         "petallengthcm": 1.7,
         "petalwidthcm": 0.4
        },
        {
         "_deepnote_index_column": 6,
         "id": 8,
         "petallengthcm": 1.5,
         "petalwidthcm": 0.2
        },
        {
         "_deepnote_index_column": 7,
         "id": 9,
         "petallengthcm": 1.4,
         "petalwidthcm": 0.2
        },
        {
         "_deepnote_index_column": 8,
         "id": 10,
         "petallengthcm": 1.5,
         "petalwidthcm": 0.1
        },
        {
         "_deepnote_index_column": 9,
         "id": 11,
         "petallengthcm": 1.5,
         "petalwidthcm": 0.2
        }
       ]
      },
      "text/html": [
       "<div>\n",
       "<style scoped>\n",
       "    .dataframe tbody tr th:only-of-type {\n",
       "        vertical-align: middle;\n",
       "    }\n",
       "\n",
       "    .dataframe tbody tr th {\n",
       "        vertical-align: top;\n",
       "    }\n",
       "\n",
       "    .dataframe thead th {\n",
       "        text-align: right;\n",
       "    }\n",
       "</style>\n",
       "<table border=\"1\" class=\"dataframe\">\n",
       "  <thead>\n",
       "    <tr style=\"text-align: right;\">\n",
       "      <th></th>\n",
       "      <th>id</th>\n",
       "      <th>petallengthcm</th>\n",
       "      <th>petalwidthcm</th>\n",
       "    </tr>\n",
       "  </thead>\n",
       "  <tbody>\n",
       "    <tr>\n",
       "      <th>0</th>\n",
       "      <td>1</td>\n",
       "      <td>1.4</td>\n",
       "      <td>0.2</td>\n",
       "    </tr>\n",
       "    <tr>\n",
       "      <th>1</th>\n",
       "      <td>2</td>\n",
       "      <td>1.4</td>\n",
       "      <td>0.2</td>\n",
       "    </tr>\n",
       "    <tr>\n",
       "      <th>2</th>\n",
       "      <td>3</td>\n",
       "      <td>1.3</td>\n",
       "      <td>0.2</td>\n",
       "    </tr>\n",
       "    <tr>\n",
       "      <th>3</th>\n",
       "      <td>4</td>\n",
       "      <td>1.5</td>\n",
       "      <td>0.2</td>\n",
       "    </tr>\n",
       "    <tr>\n",
       "      <th>4</th>\n",
       "      <td>5</td>\n",
       "      <td>1.4</td>\n",
       "      <td>0.2</td>\n",
       "    </tr>\n",
       "    <tr>\n",
       "      <th>...</th>\n",
       "      <td>...</td>\n",
       "      <td>...</td>\n",
       "      <td>...</td>\n",
       "    </tr>\n",
       "    <tr>\n",
       "      <th>143</th>\n",
       "      <td>146</td>\n",
       "      <td>5.2</td>\n",
       "      <td>2.3</td>\n",
       "    </tr>\n",
       "    <tr>\n",
       "      <th>144</th>\n",
       "      <td>147</td>\n",
       "      <td>5.0</td>\n",
       "      <td>1.9</td>\n",
       "    </tr>\n",
       "    <tr>\n",
       "      <th>145</th>\n",
       "      <td>148</td>\n",
       "      <td>5.2</td>\n",
       "      <td>2.0</td>\n",
       "    </tr>\n",
       "    <tr>\n",
       "      <th>146</th>\n",
       "      <td>149</td>\n",
       "      <td>5.4</td>\n",
       "      <td>2.3</td>\n",
       "    </tr>\n",
       "    <tr>\n",
       "      <th>147</th>\n",
       "      <td>150</td>\n",
       "      <td>5.1</td>\n",
       "      <td>1.8</td>\n",
       "    </tr>\n",
       "  </tbody>\n",
       "</table>\n",
       "<p>148 rows × 3 columns</p>\n",
       "</div>"
      ],
      "text/plain": [
       "      id  petallengthcm  petalwidthcm\n",
       "0      1            1.4           0.2\n",
       "1      2            1.4           0.2\n",
       "2      3            1.3           0.2\n",
       "3      4            1.5           0.2\n",
       "4      5            1.4           0.2\n",
       "..   ...            ...           ...\n",
       "143  146            5.2           2.3\n",
       "144  147            5.0           1.9\n",
       "145  148            5.2           2.0\n",
       "146  149            5.4           2.3\n",
       "147  150            5.1           1.8\n",
       "\n",
       "[148 rows x 3 columns]"
      ]
     },
     "execution_count": 43,
     "metadata": {},
     "output_type": "execute_result"
    }
   ],
   "outputs_reference": "s3:deepnote-cell-outputs-production/494eae74-5bf0-41ae-9be1-afbaded2a8bd",
   "source": [
    "df_6 = _deepnote_execute_sql('SELECT * FROM \"Iris_knn\";', 'SQL_44CEAC78_B576_4235_B8AE_3B3BD9A41B5D', audit_sql_comment='', sql_cache_mode='cache_disabled')\n",
    "df_6"
   ]
  },
  {
   "block_group": "62bfb31b7f37404eaa31fc4f7b953dd0",
   "cell_type": "markdown",
   "metadata": {
    "cell_id": "c491d1ef48db494f859b74d2d0ffb970",
    "deepnote_cell_type": "text-cell-h2",
    "formattedRanges": []
   },
   "source": [
    "## Deteksi Outlier (Local Outlier Factor)"
   ]
  },
  {
   "block_group": "71e1df9ff664424fbb3d87e0a4739af6",
   "cell_type": "markdown",
   "metadata": {
    "cell_id": "da3f0400721d4f07aa5e4284f4b0fc7e",
    "deepnote_cell_type": "text-cell-p",
    "formattedRanges": []
   },
   "source": [
    "Outlier merupakan data yang secara signifikan berbeda dari mayoritas data dalam satu kumpulan data. Deteksi outlier penting dalam analisis data karena outlier dapat memengaruhi hasil analisis dan interpretasi. Salah satu metode yang digunakan untuk mendeteksi outlier adalah Local Outlier Factor (LOF)."
   ]
  },
  {
   "block_group": "d23b7ad7a9df43e5a4ff38d01214d712",
   "cell_type": "markdown",
   "metadata": {
    "cell_id": "306bbe825d5c4f408a544f14d02fc8d0",
    "deepnote_cell_type": "text-cell-h3",
    "formattedRanges": []
   },
   "source": [
    "### Konsep Local Outlier Factor"
   ]
  },
  {
   "block_group": "f07e9eebfba749fba6372646daad51e2",
   "cell_type": "markdown",
   "metadata": {
    "cell_id": "4b530343c7ba45178b42a5c713d0caed",
    "deepnote_cell_type": "text-cell-p",
    "formattedRanges": []
   },
   "source": [
    "Local Outlier Factor (LOF) adalah metode untuk mendeteksi outlier dengan membandingkan kepadatan titik data lokal terhadap kepadatan titik data di sekitarnya. LOF mengukur derajat ketidaknormalan atau ketidakseragaman suatu titik data jika dibandingkan dengan tetangga-tetangganya. Titik data dengan nilai LOF yang tinggi dianggap sebagai outlier."
   ]
  },
  {
   "block_group": "ef6e2c67b4bd42d69a4336a2e61e7f92",
   "cell_type": "markdown",
   "metadata": {
    "cell_id": "400c3d54e51242349178259ed24cbc8c",
    "deepnote_cell_type": "text-cell-p",
    "formattedRanges": []
   },
   "source": [
    "Misalnya, jika sebuah titik data memiliki nilai LOF yang tinggi, itu berarti titik tersebut memiliki kepadatan yang lebih rendah dibandingkan dengan tetangganya. Ini menunjukkan bahwa titik tersebut adalah outlier karena jauh dari tetangganya dalam hal karakteristik atau pola yang diamati."
   ]
  },
  {
   "block_group": "4fb0f9dc0e1b431c92612563b8ef879c",
   "cell_type": "markdown",
   "metadata": {
    "cell_id": "a3bb489d7496404c83eeb312dc99504e",
    "deepnote_cell_type": "text-cell-h3",
    "formattedRanges": []
   },
   "source": [
    "### Menghitung Manual Local Outlier Factor"
   ]
  },
  {
   "block_group": "f76bdf2a6d5649daa9fd91cf5c8c870d",
   "cell_type": "markdown",
   "metadata": {
    "cell_id": "13c414ad797d44a3a307976b2e533238",
    "deepnote_cell_type": "text-cell-p",
    "formattedRanges": []
   },
   "source": [
    "Hitung LOF untuk setiap titik dan tunjukkan titik outlier teratas, dengan k = 3, dan gunakan Euclidean Distance (p=2). Berdasarkan 10 titik data dengan masing-masing 3 fitur berikut:"
   ]
  },
  {
   "block_group": "5159a772d5c24188bb7ff2cb0ce932a2",
   "cell_type": "markdown",
   "metadata": {
    "cell_id": "0947d1a04c974f23965919a1e329e53b",
    "deepnote_cell_type": "text-cell-p",
    "formattedRanges": []
   },
   "source": [
    "a(3, 6, 4), b(2, 3, 8), c(11, 8, 20), d(5, 7, 5), e(6, 2, 4), f(3, 6, 3), g(2, 5, 7), h(23, 10, 11), i(5, 6, 2), j(7, 5, 7)"
   ]
  },
  {
   "block_group": "9e06281d5ed046a887fca43ad9b70a90",
   "cell_type": "markdown",
   "metadata": {
    "cell_id": "1c63549f7be442159db976613cb8d293",
    "deepnote_cell_type": "text-cell-p",
    "formattedRanges": []
   },
   "source": [
    "Menghitung semua jarak antara setiap dua titik data.\r"
   ]
  },
  {
   "block_group": "2dda1d29fe574137a9b48d105edb7209",
   "cell_type": "markdown",
   "metadata": {
    "cell_id": "163bb75f61a6404cb0d16435e572694f",
    "deepnote_cell_type": "markdown"
   },
   "source": [
    "$$\n",
    "\\begin{aligned}\n",
    "\n",
    "& dist(a, b) = \\sqrt{(2 - 3)^2 + (3 - 6)^2 + (8 - 4)^2} = \\sqrt{(-1)^2 + (-3)^2 + (4)^2} = \\sqrt{1 + 9 + 16} = \\sqrt{26} \\\\\n",
    "& dist(a, c) = \\sqrt{(11 - 3)^2 + (8 - 6)^2 + (20 - 4)^2} = \\sqrt{(8)^2 + (2)^2 + (16)^2} = \\sqrt{64 + 4 + 256} = \\sqrt{324} = 18 \\\\\n",
    "& dist(a, d) = \\sqrt{(5 - 3)^2 + (7 - 6)^2 + (5 - 4)^2} = \\sqrt{2^2 + 1^2 + 1^2} = \\sqrt{4 + 1 + 1} = \\sqrt{6} \\\\\n",
    "& dist(a, e) = \\sqrt{(6 - 3)^2 + (2 - 6)^2 + (4 - 4)^2} = \\sqrt{3^2 + (-4)^2 + 0^2} = \\sqrt{9 + 16 + 0} = \\sqrt{25} \\\\\n",
    "& dist(a, f) = \\sqrt{(3 - 3)^2 + (6 - 6)^2 + (3 - 4)^2} = \\sqrt{0^2 + 0^2 + (-1)^2} = \\sqrt{0 + 0 + 1} = \\sqrt{1} = 1 \\\\\n",
    "& dist(a, g) = \\sqrt{(2 - 3)^2 + (5 - 6)^2 + (7 - 4)^2} = \\sqrt{(-1)^2 + (-1)^2 + (3)^2} = \\sqrt{1 + 1 + 9} = \\sqrt{11} \\\\\n",
    "& dist(a, h) = \\sqrt{(23 - 3)^2 + (10 - 6)^2 + (11 - 4)^2} = \\sqrt{(20)^2 + (4)^2 + (7)^2} = \\sqrt{400 + 16 + 49} = \\sqrt{465} \\\\\n",
    "& dist(a, i) = \\sqrt{(5 - 3)^2 + (6 - 6)^2 + (2 - 4)^2} = \\sqrt{2^2 + 0^2 + (-2)^2} = \\sqrt{4 + 0 + 4} = \\sqrt{8} \\\\\n",
    "& dist(a, j) = \\sqrt{(7 - 3)^2 + (5 - 6)^2 + (7 - 4)^2} = \\sqrt{4^2 + (-1)^2 + 3^2} = \\sqrt{16 + 1 + 9} = \\sqrt{26} \\\\\n",
    "\n",
    "& \\\\\n",
    "\n",
    "& dist(b, a) = \\sqrt{(2 - 3)^2 + (3 - 6)^2 + (8 - 4)^2} = \\sqrt{(-1)^2 + (-3)^2 + (4)^2} = \\sqrt{26} \\\\\n",
    "& dist(b, c) = \\sqrt{(11 - 2)^2 + (8 - 3)^2 + (20 - 8)^2} = \\sqrt{(9)^2 + (5)^2 + (12)^2} = \\sqrt{81 + 25 + 144} = \\sqrt{250} \\\\\n",
    "& dist(b, d) = \\sqrt{(5 - 2)^2 + (7 - 3)^2 + (5 - 8)^2} = \\sqrt{(3)^2 + (4)^2 + (-3)^2} = \\sqrt{9 + 16 + 9} = \\sqrt{34} \\\\\n",
    "& dist(b, e) = \\sqrt{(6 - 2)^2 + (2 - 3)^2 + (4 - 8)^2} = \\sqrt{(4)^2 + (-1)^2 + (-4)^2} = \\sqrt{16 + 1 + 16} = \\sqrt{33} \\\\\n",
    "& dist(b, f) = \\sqrt{(3 - 2)^2 + (6 - 3)^2 + (3 - 8)^2} = \\sqrt{(1)^2 + (3)^2 + (-5)^2} = \\sqrt{1 + 9 + 25} = \\sqrt{35} \\\\\n",
    "& dist(b, g) = \\sqrt{(2 - 2)^2 + (5 - 3)^2 + (7 - 8)^2} = \\sqrt{(0)^2 + (2)^2 + (-1)^2} = \\sqrt{0 + 4 + 1} = \\sqrt{5} \\\\\n",
    "& dist(b, h) = \\sqrt{(23 - 2)^2 + (10 - 3)^2 + (11 - 8)^2} = \\sqrt{(21)^2 + (7)^2 + (3)^2} = \\sqrt{441 + 49 + 9} = \\sqrt{499} \\\\\n",
    "& dist(b, i) = \\sqrt{(5 - 2)^2 + (6 - 3)^2 + (2 - 8)^2} = \\sqrt{(3)^2 + (3)^2 + (-6)^2} = \\sqrt{9 + 9 + 36} = \\sqrt{54} \\\\\n",
    "& dist(b, j) = \\sqrt{(7 - 2)^2 + (5 - 3)^2 + (7 - 8)^2} = \\sqrt{(5)^2 + (2)^2 + (-1)^2} = \\sqrt{25 + 4 + 1} = \\sqrt{30} \\\\\n",
    "\n",
    "& \\\\\n",
    "\n",
    "& dist(c, a) = \\sqrt{(3 - 11)^2 + (6 - 8)^2 + (4 - 20)^2} = \\sqrt{(-8)^2 + (-2)^2 + (-16)^2} = \\sqrt{64 + 4 + 256} = \\sqrt{324} = 18 \\\\\n",
    "& dist(c, b) = \\sqrt{(2 - 11)^2 + (3 - 8)^2 + (8 - 20)^2} = \\sqrt{(-9)^2 + (-5)^2 + (-12)^2} = \\sqrt{81 + 25 + 144} = \\sqrt{250} \\\\\n",
    "& dist(c, d) = \\sqrt{(5 - 11)^2 + (7 - 8)^2 + (5 - 20)^2} = \\sqrt{(-6)^2 + (-1)^2 + (-15)^2} = \\sqrt{36 + 1 + 225} = \\sqrt{262} \\\\\n",
    "& dist(c, e) = \\sqrt{(6 - 11)^2 + (2 - 8)^2 + (4 - 20)^2} = \\sqrt{(-5)^2 + (-6)^2 + (-16)^2} = \\sqrt{25 + 36 + 256} = \\sqrt{317} \\\\\n",
    "& dist(c, f) = \\sqrt{(3 - 11)^2 + (6 - 8)^2 + (3 - 20)^2} = \\sqrt{(-8)^2 + (-2)^2 + (-17)^2} = \\sqrt{64 + 4 + 289} = \\sqrt{357} \\\\\n",
    "& dist(c, g) = \\sqrt{(2 - 11)^2 + (5 - 8)^2 + (7 - 20)^2} = \\sqrt{(-9)^2 + (-3)^2 + (-13)^2} = \\sqrt{81 + 9 + 169} = \\sqrt{259} \\\\\n",
    "& dist(c, h) = \\sqrt{(23 - 11)^2 + (10 - 8)^2 + (11 - 20)^2} = \\sqrt{(12)^2 + (2)^2 + (-9)^2} = \\sqrt{144 + 4 + 81} = \\sqrt{229} \\\\\n",
    "& dist(c, i) = \\sqrt{(5 - 11)^2 + (6 - 8)^2 + (2 - 20)^2} = \\sqrt{(-6)^2 + (-2)^2 + (-18)^2} = \\sqrt{36 + 4 + 324} = \\sqrt{364} \\\\\n",
    "& dist(c, j) = \\sqrt{(7 - 11)^2 + (5 - 8)^2 + (7 - 20)^2} = \\sqrt{(-4)^2 + (-3)^2 + (-13)^2} = \\sqrt{16 + 9 + 169} = \\sqrt{194} \\\\\n",
    "\n",
    "& \\\\\n",
    "\n",
    "& dist(d, a) = \\sqrt{(3 - 5)^2 + (6 - 7)^2 + (4 - 5)^2} = \\sqrt{(-2)^2 + (-1)^2 + (-1)^2} = \\sqrt{4 + 1 + 1} = \\sqrt{6} \\\\\n",
    "& dist(d, b) = \\sqrt{(2 - 5)^2 + (3 - 7)^2 + (8 - 5)^2} = \\sqrt{(-3)^2 + (-4)^2 + (3)^2} = \\sqrt{9 + 16 + 9} = \\sqrt{34} \\\\\n",
    "& dist(d, c) = \\sqrt{(11 - 5)^2 + (8 - 7)^2 + (20 - 5)^2} = \\sqrt{(6)^2 + (1)^2 + (15)^2} = \\sqrt{36 + 1 + 225} = \\sqrt{262} \\\\\n",
    "& dist(d, e) = \\sqrt{(6 - 5)^2 + (2 - 7)^2 + (4 - 5)^2} = \\sqrt{(1)^2 + (-5)^2 + (-1)^2} = \\sqrt{1 + 25 + 1} = \\sqrt{27} \\\\\n",
    "& dist(d, f) = \\sqrt{(3 - 5)^2 + (6 - 7)^2 + (3 - 5)^2} = \\sqrt{(-2)^2 + (-1)^2 + (-2)^2} = \\sqrt{4 + 1 + 4} = \\sqrt{9} = 3 \\\\\n",
    "& dist(d, g) = \\sqrt{(2 - 5)^2 + (5 - 7)^2 + (7 - 5)^2} = \\sqrt{(-3)^2 + (-2)^2 + (2)^2} = \\sqrt{9 + 4 + 4} = \\sqrt{17} \\\\\n",
    "& dist(d, h) = \\sqrt{(23 - 5)^2 + (10 - 7)^2 + (11 - 5)^2} = \\sqrt{(18)^2 + (3)^2 + (6)^2} = \\sqrt{324 + 9 + 36} = \\sqrt{369} \\\\\n",
    "& dist(d, i) = \\sqrt{(5 - 5)^2 + (6 - 7)^2 + (2 - 5)^2} = \\sqrt{(0)^2 + (-1)^2 + (-3)^2} = \\sqrt{0 + 1 + 9} = \\sqrt{10} \\\\\n",
    "& dist(d, j) = \\sqrt{(7 - 5)^2 + (5 - 7)^2 + (7 - 5)^2} = \\sqrt{(2)^2 + (-2)^2 + (2)^2} = \\sqrt{4 + 4 + 4} = \\sqrt{12} \\\\\n",
    "\n",
    "& \\\\\n",
    "\n",
    "& dist(e, a) = \\sqrt{(3 - 6)^2 + (6 - 2)^2 + (4 - 4)^2} = \\sqrt{(-3)^2 + (4)^2 + (0)^2} = \\sqrt{9 + 16 + 0} = \\sqrt{25} \\\\\n",
    "& dist(e, b) = \\sqrt{(2 - 6)^2 + (3 - 2)^2 + (8 - 4)^2} = \\sqrt{(-4)^2 + (1)^2 + (4)^2} = \\sqrt{16 + 1 + 16} = \\sqrt{33} \\\\\n",
    "& dist(e, c) = \\sqrt{(11 - 6)^2 + (8 - 2)^2 + (20 - 4)^2} = \\sqrt{(5)^2 + (6)^2 + (16)^2} = \\sqrt{25 + 36 + 256} = \\sqrt{317} \\\\\n",
    "& dist(e, d) = \\sqrt{(5 - 6)^2 + (7 - 2)^2 + (5 - 4)^2} = \\sqrt{(1)^2 + (5)^2 + (1)^2} = \\sqrt{1 + 25 + 1} = \\sqrt{27} \\\\\n",
    "& dist(e, f) = \\sqrt{(3 - 6)^2 + (6 - 2)^2 + (3 - 4)^2} = \\sqrt{(-3)^2 + (4)^2 + (-1)^2} = \\sqrt{9 + 16 + 1} = \\sqrt{26} \\\\\n",
    "& dist(e, g) = \\sqrt{(2 - 6)^2 + (5 - 2)^2 + (7 - 4)^2} = \\sqrt{(-4)^2 + (3)^2 + (3)^2} = \\sqrt{16 + 9 + 9} = \\sqrt{34} \\\\\n",
    "& dist(e, h) = \\sqrt{(23 - 6)^2 + (10 - 2)^2 + (11 - 4)^2} = \\sqrt{(17)^2 + (8)^2 + (7)^2} = \\sqrt{289 + 64 + 49} = \\sqrt{402} \\\\\n",
    "& dist(e, i) = \\sqrt{(5 - 6)^2 + (6 - 2)^2 + (2 - 4)^2} = \\sqrt{(1)^2 + (4)^2 + (-2)^2} = \\sqrt{1 + 16 + 4} = \\sqrt{21} \\\\\n",
    "& dist(e, j) = \\sqrt{(7 - 6)^2 + (5 - 2)^2 + (7 - 4)^2} = \\sqrt{(1)^2 + (3)^2 + (3)^2} = \\sqrt{1 + 9 + 9} = \\sqrt{19} \\\\\n",
    "\n",
    "& \\\\\n",
    "\n",
    "& dist(f, a) = \\sqrt{(3 - 3)^2 + (6 - 6)^2 + (4 - 3)^2} = \\sqrt{0^2 + 0^2 + 1^2} = \\sqrt{0 + 0 + 1} = \\sqrt{1} = 1 \\\\\n",
    "& dist(f, b) = \\sqrt{(2 - 3)^2 + (3 - 6)^2 + (8 - 3)^2} = \\sqrt{(-1)^2 + (-3)^2 + (5)^2} = \\sqrt{1 + 9 + 25} = \\sqrt{35} \\\\\n",
    "& dist(f, c) = \\sqrt{(11 - 3)^2 + (8 - 6)^2 + (20 - 3)^2} = \\sqrt{8^2 + 2^2 + 17^2} = \\sqrt{64 + 4 + 289} = \\sqrt{357} \\\\\n",
    "& dist(f, d) = \\sqrt{(5 - 3)^2 + (7 - 6)^2 + (5 - 3)^2} = \\sqrt{2^2 + 1^2 + 2^2} = \\sqrt{4 + 1 + 4} = \\sqrt{9} = 3 \\\\\n",
    "& dist(f, e) = \\sqrt{(6 - 3)^2 + (2 - 6)^2 + (4 - 3)^2} = \\sqrt{3^2 + (-4)^2 + 1^2} = \\sqrt{9 + 16 + 1} = \\sqrt{26} \\\\\n",
    "& dist(f, g) = \\sqrt{(2 - 3)^2 + (5 - 6)^2 + (7 - 3)^2} = \\sqrt{(-1)^2 + (-1)^2 + 4^2} = \\sqrt{1 + 1 + 16} = \\sqrt{18} \\\\\n",
    "& dist(f, h) = \\sqrt{(23 - 3)^2 + (10 - 6)^2 + (11 - 3)^2} = \\sqrt{20^2 + 4^2 + 8^2} = \\sqrt{400 + 16 + 64} = \\sqrt{480} \\\\\n",
    "& dist(f, i) = \\sqrt{(5 - 3)^2 + (6 - 6)^2 + (2 - 3)^2} = \\sqrt{2^2 + 0^2 + (-1)^2} = \\sqrt{2 + 0 + 1} = \\sqrt{3} \\\\\n",
    "& dist(f, j) = \\sqrt{(7 - 3)^2 + (5 - 6)^2 + (7 - 3)^2} = \\sqrt{4^2 + (-1)^2 + 4^2} = \\sqrt{16 + 1 + 16} = \\sqrt{33} \\\\\n",
    "\n",
    "& \\\\\n",
    "\n",
    "& dist(g, a) = \\sqrt{(3 - 2)^2 + (6 - 5)^2 + (4 - 7)^2} = \\sqrt{(1)^2 + (1)^2 + (-3)^2} = \\sqrt{1 + 1 + 9} = \\sqrt{11} \\\\\n",
    "& dist(g, b) = \\sqrt{(2 - 2)^2 + (3 - 5)^2 + (8 - 7)^2} = \\sqrt{(0)^2 + (-2)^2 + (1)^2} = \\sqrt{0 + 4 + 1} = \\sqrt{5} \\\\\n",
    "& dist(g, c) = \\sqrt{(11 - 2)^2 + (8 - 5)^2 + (20 - 7)^2} = \\sqrt{(9)^2 + (3)^2 + (13)^2} = \\sqrt{81 + 9 + 169} = \\sqrt{259} \\\\\n",
    "& dist(g, d) = \\sqrt{(5 - 2)^2 + (7 - 5)^2 + (5 - 7)^2} = \\sqrt{(3)^2 + (2)^2 + (-2)^2} = \\sqrt{9 + 4 + 4} = \\sqrt{17} \\\\\n",
    "& dist(g, e) = \\sqrt{(6 - 2)^2 + (2 - 5)^2 + (4 - 7)^2} = \\sqrt{(4)^2 + (-3)^2 + (-3)^2} = \\sqrt{16 + 9 + 9} = \\sqrt{34} \\\\\n",
    "& dist(g, f) = \\sqrt{(3 - 2)^2 + (6 - 5)^2 + (3 - 7)^2} = \\sqrt{(1)^2 + (1)^2 + (-4)^2} = \\sqrt{1 + 1 + 16} = \\sqrt{18} \\\\\n",
    "& dist(g, h) = \\sqrt{(23 - 2)^2 + (10 - 5)^2 + (11 - 7)^2} = \\sqrt{(21)^2 + (5)^2 + (4)^2} = \\sqrt{441 + 25 + 16} = \\sqrt{482} \\\\\n",
    "& dist(g, i) = \\sqrt{(5 - 2)^2 + (6 - 5)^2 + (2 - 7)^2} = \\sqrt{(3)^2 + (1)^2 + (-5)^2} = \\sqrt{9 + 1 + 25} = \\sqrt{35} \\\\\n",
    "& dist(g, j) = \\sqrt{(7 - 2)^2 + (5 - 5)^2 + (7 - 7)^2} = \\sqrt{(5)^2 + (0)^2 + (0)^2} = \\sqrt{25 + 0 + 0} = \\sqrt{25} \\\\\n",
    "\n",
    "& \\\\\n",
    "\n",
    "& dist(h, a) = \\sqrt{(3 - 23)^2 + (6 - 10)^2 + (4 - 11)^2} = \\sqrt{(-20)^2 + (-4)^2 + (-7)^2} = \\sqrt{400 + 16 + 49} = \\sqrt{465} \\\\\n",
    "& dist(h, b) = \\sqrt{(2 - 23)^2 + (3 - 10)^2 + (8 - 11)^2} = \\sqrt{(-21)^2 + (-7)^2 + (-3)^2} = \\sqrt{441 + 49 + 9} = \\sqrt{499} \\\\\n",
    "& dist(h, c) = \\sqrt{(11 - 23)^2 + (8 - 10)^2 + (20 - 11)^2} = \\sqrt{(-12)^2 + (-2)^2 + (9)^2} = \\sqrt{144 + 4 + 81} = \\sqrt{229} \\\\\n",
    "& dist(h, d) = \\sqrt{(5 - 23)^2 + (7 - 10)^2 + (5 - 11)^2} = \\sqrt{(-18)^2 + (-3)^2 + (-6)^2} = \\sqrt{324 + 9 + 36} = \\sqrt{369} \\\\\n",
    "& dist(h, e) = \\sqrt{(6 - 23)^2 + (2 - 10)^2 + (4 - 11)^2} = \\sqrt{(-17)^2 + (-8)^2 + (-7)^2} = \\sqrt{289 + 64 + 49} = \\sqrt{402} \\\\\n",
    "& dist(h, f) = \\sqrt{(3 - 23)^2 + (6 - 10)^2 + (3 - 11)^2} = \\sqrt{(-20)^2 + (-4)^2 + (-8)^2} = \\sqrt{400 + 16 + 64} = \\sqrt{480} \\\\\n",
    "& dist(h, g) = \\sqrt{(2 - 23)^2 + (5 - 10)^2 + (7 - 11)^2} = \\sqrt{(-21)^2 + (-5)^2 + (-4)^2} = \\sqrt{441 + 25 + 16} = \\sqrt{482} \\\\\n",
    "& dist(h, i) = \\sqrt{(5 - 23)^2 + (6 - 10)^2 + (2 - 11)^2} = \\sqrt{(-18)^2 + (-4)^2 + (-9)^2} = \\sqrt{324 + 16 + 81} = \\sqrt{421} \\\\\n",
    "& dist(h, j) = \\sqrt{(7 - 23)^2 + (5 - 10)^2 + (7 - 11)^2} = \\sqrt{(-16)^2 + (-5)^2 + (-4)^2} = \\sqrt{256 + 25 + 16} = \\sqrt{297} \\\\\n",
    "\n",
    "& \\\\\n",
    "\n",
    "& dist(i, a) = \\sqrt{(3 - 5)^2 + (6 - 6)^2 + (4 - 2)^2} = \\sqrt{(-2)^2 + 0^2 + 2^2} = \\sqrt{4 + 0 + 4} = \\sqrt{8} \\\\\n",
    "& dist(i, b) = \\sqrt{(2 - 5)^2 + (3 - 6)^2 + (8 - 2)^2} = \\sqrt{(-3)^2 + (-3)^2 + 6^2} = \\sqrt{9 + 9 + 36} = \\sqrt{54} \\\\\n",
    "& dist(i, c) = \\sqrt{(11 - 5)^2 + (8 - 6)^2 + (20 - 2)^2} = \\sqrt{6^2 + 2^2 + 18^2} = \\sqrt{36 + 4 + 324} = \\sqrt{364} \\\\\n",
    "& dist(i, d) = \\sqrt{(5 - 5)^2 + (7 - 6)^2 + (5 - 2)^2} = \\sqrt{0^2 + 1^2 + 3^2} = \\sqrt{0 + 1 + 9} = \\sqrt{10} \\\\\n",
    "& dist(i, e) = \\sqrt{(6 - 5)^2 + (2 - 6)^2 + (4 - 2)^2} = \\sqrt{1^2 + (-4)^2 + 2^2} = \\sqrt{1 + 16 + 4} = \\sqrt{21} \\\\\n",
    "& dist(i, f) = \\sqrt{(3 - 5)^2 + (6 - 6)^2 + (3 - 2)^2} = \\sqrt{(-2)^2 + 0^2 + 1^2} = \\sqrt{4 + 0 + 1} = \\sqrt{5} \\\\\n",
    "& dist(i, g) = \\sqrt{(2 - 5)^2 + (5 - 6)^2 + (7 - 2)^2} = \\sqrt{(-3)^2 + (-1)^2 + 5^2} = \\sqrt{9 + 1 + 25} = \\sqrt{35} \\\\\n",
    "& dist(i, h) = \\sqrt{(23 - 5)^2 + (10 - 6)^2 + (11 - 2)^2} = \\sqrt{18^2 + 4^2 + 9^2} = \\sqrt{324 + 16 + 81} = \\sqrt{421} \\\\\n",
    "& dist(i, j) = \\sqrt{(7 - 5)^2 + (5 - 6)^2 + (7 - 2)^2} = \\sqrt{2^2 + (-1)^2 + 5^2} = \\sqrt{4 + 1 + 25} = \\sqrt{30} \\\\\n",
    "\n",
    "& \\\\\n",
    "\n",
    "& dist(j, a) = \\sqrt{(3 - 7)^2 + (6 - 5)^2 + (4 - 7)^2} = \\sqrt{(-4)^2 + (1)^2 + (-3)^2} = \\sqrt{16 + 1 + 9} = \\sqrt{26} \\\\\n",
    "& dist(j, b) = \\sqrt{(2 - 7)^2 + (3 - 5)^2 + (8 - 7)^2} = \\sqrt{(-5)^2 + (-2)^2 + (1)^2} = \\sqrt{25 + 4 + 1} = \\sqrt{30} \\\\\n",
    "& dist(j, c) = \\sqrt{(11 - 7)^2 + (8 - 5)^2 + (20 - 7)^2} = \\sqrt{(4)^2 + (3)^2 + (13)^2} = \\sqrt{16 + 9 + 169} = \\sqrt{194} \\\\\n",
    "& dist(j, d) = \\sqrt{(5 - 7)^2 + (7 - 5)^2 + (5 - 7)^2} = \\sqrt{(-2)^2 + (2)^2 + (-2)^2} = \\sqrt{4 + 4 + 4} = \\sqrt{12} \\\\\n",
    "& dist(j, e) = \\sqrt{(6 - 7)^2 + (2 - 5)^2 + (4 - 7)^2} = \\sqrt{(-1)^2 + (-3)^2 + (-3)^2} = \\sqrt{1 + 9 + 9} = \\sqrt{19} \\\\\n",
    "& dist(j, f) = \\sqrt{(3 - 7)^2 + (6 - 5)^2 + (3 - 7)^2} = \\sqrt{(-4)^2 + (1)^2 + (-4)^2} = \\sqrt{16 + 1 + 16} = \\sqrt{33} \\\\\n",
    "& dist(j, g) = \\sqrt{(2 - 7)^2 + (5 - 5)^2 + (7 - 7)^2} = \\sqrt{(-5)^2 + (0)^2 + (0)^2} = \\sqrt{25 + 0 + 0} = \\sqrt{25} \\\\\n",
    "& dist(j, h) = \\sqrt{(23 - 7)^2 + (10 - 5)^2 + (11 - 7)^2} = \\sqrt{(16)^2 + (5)^2 + (4)^2} = \\sqrt{256 + 25 + 16} = \\sqrt{297} \\\\\n",
    "& dist(j, i) = \\sqrt{(5 - 7)^2 + (6 - 5)^2 + (2 - 7)^2} = \\sqrt{(-2)^2 + (1)^2 + (-5)^2} = \\sqrt{4 + 1 + 25} = \\sqrt{30}\n",
    "\n",
    "\\end{aligned}\n",
    "$$"
   ]
  },
  {
   "block_group": "8e1d11a829bd4f358066661104062287",
   "cell_type": "markdown",
   "metadata": {
    "cell_id": "de0fc3fb0c8b47b9a10cfebd26506eca",
    "deepnote_cell_type": "markdown"
   },
   "source": [
    "Menghitung semua $dist_{3}\\left(o\\right)$\n",
    "$\\text{dist}_{k}\\left(o\\right)$: jarak antara o dan tetangga terdekat ke-k (k-th nearest neighbor)"
   ]
  },
  {
   "block_group": "87503468a9854caf8fc691e9bb2131d0",
   "cell_type": "markdown",
   "metadata": {
    "cell_id": "416c2a9c182a4e389ba9c428d33cc031",
    "deepnote_cell_type": "markdown"
   },
   "source": [
    "$$\n",
    "\\begin{aligned}\n",
    "\n",
    "& dist_{3}(a) = dist(a, i) = \\sqrt{8} \\text{ (i is the 3}^{\\text{rd}} \\text{ nearest neighbor)} \\\\\n",
    "& dist_{3}(b) = dist(b, j) = \\sqrt{30} \\text{ (j is the 3}^{\\text{rd}} \\text{ nearest neighbor)} \\\\\n",
    "& dist_{3}(c) = dist(c, b) = \\sqrt{250} \\text{ (b is the 3}^{\\text{rd}} \\text{ nearest neighbor)} \\\\\n",
    "& dist_{3}(d) = dist(d, i) = \\sqrt{10} \\text{ (i is the 3}^{\\text{rd}} \\text{ nearest neighbor)} \\\\\n",
    "& dist_{3}(e) = dist(e, a) = \\sqrt{25} \\text{ (a is the 3}^{\\text{rd}} \\text{ nearest neighbor)} \\\\\n",
    "& dist_{3}(f) = dist(f, d) = \\sqrt{9} \\text{ (d is the 3}^{\\text{rd}} \\text{ nearest neighbor)} \\\\\n",
    "& dist_{3}(g) = dist(g, d) = \\sqrt{17} \\text{ (d is the 3}^{\\text{rd}} \\text{ nearest neighbor)} \\\\\n",
    "& dist_{3}(h) = dist(h, d) = \\sqrt{369} \\text{ (d is the 3}^{\\text{rd}} \\text{ nearest neighbor)} \\\\\n",
    "& dist_{3}(i) = dist(i, d) = \\sqrt{10} \\text{ (d is the 3}^{\\text{rd}} \\text{ nearest neighbor)} \\\\\n",
    "& dist_{3}(j) = dist(j, g) = \\sqrt{25} \\text{ (g is the 3}^{\\text{rd}} \\text{ nearest neighbor)}\n",
    "\n",
    "\\end{aligned}\n",
    "$$"
   ]
  },
  {
   "block_group": "5a5b3bae58f34ff4ae723ecd110e0fba",
   "cell_type": "markdown",
   "metadata": {
    "cell_id": "254aba751fad42838fbb02814e96c461",
    "deepnote_cell_type": "markdown"
   },
   "source": [
    "Menghitung semua $N_{k}(o)$\n",
    "k-distance neighborhood of o, $N_{k}(o) = \\left\\{o' \\mid o' \\text{ in }D \\text{, } disk_{k}(o, o')\\leq disk_{k}(o)\\right\\}$"
   ]
  },
  {
   "block_group": "15ad170ecd174b36b5f157133bbea5ee",
   "cell_type": "markdown",
   "metadata": {
    "cell_id": "a3c3678c80a64a9aab50bd5d3113b29f",
    "deepnote_cell_type": "markdown"
   },
   "source": [
    "$$\n",
    "\\begin{aligned}\n",
    "\n",
    "& N_{3}(a) = \\left\\{f,d,i\\right\\} \\\\\n",
    "& N_{3}(b) = \\left\\{g,a,j\\right\\} \\\\\n",
    "& N_{3}(c) = \\left\\{j,h,b\\right\\} \\\\\n",
    "& N_{3}(d) = \\left\\{a,f,i\\right\\} \\\\\n",
    "& N_{3}(e) = \\left\\{j,i,a\\right\\} \\\\\n",
    "& N_{3}(f) = \\left\\{a,i,d\\right\\} \\\\\n",
    "& N_{3}(g) = \\left\\{b,a,d\\right\\} \\\\\n",
    "& N_{3}(h) = \\left\\{c,j,d\\right\\} \\\\\n",
    "& N_{3}(i) = \\left\\{f,a,d\\right\\} \\\\\n",
    "& N_{3}(j) = \\left\\{d,e,g\\right\\}\n",
    "\n",
    "\\end{aligned}\n",
    "$$"
   ]
  },
  {
   "block_group": "651e995e391b4d9385747ed9d5d03672",
   "cell_type": "markdown",
   "metadata": {
    "cell_id": "ab9b099e01014748949ce7a9f3042bdc",
    "deepnote_cell_type": "markdown"
   },
   "source": [
    "Menghitung semua $ lrd_{k}(o) $"
   ]
  },
  {
   "block_group": "9b7f06a5e859402195c9fe33107720cd",
   "cell_type": "markdown",
   "metadata": {
    "cell_id": "97cc013dc09741a888a6482dedc0505a",
    "deepnote_cell_type": "markdown"
   },
   "source": [
    "$ lrd_{k}(o) $ : Local Reachability Density of o $  $"
   ]
  },
  {
   "block_group": "7d4d95e53c3e44f68c9f4199029b22ac",
   "cell_type": "markdown",
   "metadata": {
    "cell_id": "df03ffd4e1054db69c9c2b56ae2e8225",
    "deepnote_cell_type": "markdown"
   },
   "source": [
    "$$\n",
    "\\begin{aligned}\n",
    "\n",
    "& lrd_{k}(o) = \\frac{||N_{k}(o)||}{\\sum_{o'\\epsilon N_{k}}reachdist_k(o'\\leftarrow o)} \\\\\n",
    "& reachdist_k(o\\leftarrow o') = max\\left\\{disk_{k}(o), disk(o,o')\\right\\}\n",
    "\n",
    "\\end{aligned}\n",
    "$$"
   ]
  },
  {
   "block_group": "288729833675470db987d013b680ebdc",
   "cell_type": "markdown",
   "metadata": {
    "cell_id": "3341e723cd834697ae5b88caf9688e4e",
    "deepnote_cell_type": "markdown"
   },
   "source": [
    "$ ||N_{k}(o)|| $ mengartikan jumlah objek dalam $ N_{k}(o) $"
   ]
  },
  {
   "block_group": "57465694a06243dcabc775ad6b8d20fc",
   "cell_type": "markdown",
   "metadata": {
    "cell_id": "1c9462fd73e34124b763c8a7941ae67d",
    "deepnote_cell_type": "markdown"
   },
   "source": [
    "$$\n",
    "\\begin{aligned}\n",
    "\n",
    "& || N_{3}(a) || = || \\left\\{f,d,i\\right\\} || = 3 \\\\\n",
    "& || N_{3}(b) || = || \\left\\{g,a,j\\right\\} || = 3 \\\\\n",
    "& || N_{3}(c) || = || \\left\\{j,h,b\\right\\} || = 3 \\\\\n",
    "& || N_{3}(d) || = || \\left\\{a,f,i\\right\\} || = 3 \\\\\n",
    "& || N_{3}(e) || = || \\left\\{j,i,a\\right\\} || = 3 \\\\\n",
    "& || N_{3}(f) || = || \\left\\{a,i,d\\right\\} || = 3 \\\\\n",
    "& || N_{3}(g) || = || \\left\\{b,a,d\\right\\} || = 3 \\\\\n",
    "& || N_{3}(h) || = || \\left\\{c,j,d\\right\\} || = 3 \\\\\n",
    "& || N_{3}(i) || = || \\left\\{f,a,d\\right\\} || = 3 \\\\\n",
    "& || N_{3}(j) || = || \\left\\{d,e,g\\right\\} || = 3\n",
    "\n",
    "\\end{aligned}\n",
    "$$"
   ]
  },
  {
   "block_group": "966130630bf646598c551e94c28b04be",
   "cell_type": "markdown",
   "metadata": {
    "cell_id": "d59824afbdf8423488a5d7ef4fde73fa",
    "deepnote_cell_type": "markdown"
   },
   "source": [
    "$$\n",
    "\\begin{aligned}\n",
    "\n",
    "&\\text{lrd}_{3}(a) = \\frac{||N_{3}(a)||}{\\text{reachdist}_3(f \\leftarrow a) + \\text{reachdist}_3(d \\leftarrow a) + \\text{reachdist}_3(i \\leftarrow a)} \\\\\n",
    "\n",
    "\\\\\n",
    "\n",
    "&\\text{reachdist}_3(f \\leftarrow a) = \\max\\{ \\text{disk}_{3}(f), \\text{disk}(f,a) \\} = \\max\\{ \\sqrt{9}, \\sqrt{1} \\} = \\sqrt{9} \\\\\n",
    "&\\text{reachdist}_3(d \\leftarrow a) = \\max\\{ \\text{disk}_{3}(d), \\text{disk}(d,a) \\} = \\max\\{ \\sqrt{10}, \\sqrt{6} \\} = \\sqrt{10} \\\\\n",
    "&\\text{reachdist}_3(i \\leftarrow a) = \\max\\{ \\text{disk}_{3}(i), \\text{disk}(i,a) \\} = \\max\\{ \\sqrt{10}, \\sqrt{8} \\} = \\sqrt{10} \\\\\n",
    "\n",
    "\\\\\n",
    "\n",
    "&\\text{lrd}_{3}(a) = \\frac{3}{\\sqrt{9} + \\sqrt{10} + \\sqrt{10}} = 0,3217 \\\\\n",
    "\n",
    "\\\\\n",
    "\n",
    "&\\text{lrd}_{3}(b) = \\frac{||N_{3}(b)||}{\\text{reachdist}_3(g \\leftarrow b) + \\text{reachdist}_3(a \\leftarrow b) + \\text{reachdist}_3(j \\leftarrow b)} \\\\\n",
    "\n",
    "\\\\\n",
    "\n",
    "&\\text{reachdist}_3(g \\leftarrow b) = \\max\\{ \\text{disk}_{3}(g), \\text{disk}(g,b) \\} = \\max\\{ \\sqrt{17}, \\sqrt{5} \\} = \\sqrt{17} \\\\\n",
    "&\\text{reachdist}_3(a \\leftarrow b) = \\max\\{ \\text{disk}_{3}(a), \\text{disk}(a,b) \\} = \\max\\{ \\sqrt{8}, \\sqrt{26} \\} = \\sqrt{26} \\\\\n",
    "&\\text{reachdist}_3(j \\leftarrow b) = \\max\\{ \\text{disk}_{3}(j), \\text{disk}(j,b) \\} = \\max\\{ \\sqrt{25}, \\sqrt{30} \\} = \\sqrt{30} \\\\\n",
    "\n",
    "\\\\\n",
    "\n",
    "&\\text{lrd}_{3}(b) = \\frac{3}{\\sqrt{17} + \\sqrt{26} + \\sqrt{30}} = 0,2041 \\\\\n",
    "\n",
    "\\\\\n",
    "\n",
    "&\\text{lrd}_{3}(c) = \\frac{||N_{3}(c)||}{\\text{reachdist}_3(j \\leftarrow c) + \\text{reachdist}_3(h \\leftarrow c) + \\text{reachdist}_3(b \\leftarrow c)} \\\\\n",
    "\n",
    "\\\\\n",
    "\n",
    "&\\text{reachdist}_3(j \\leftarrow c) = \\max\\{ \\text{disk}_{3}(j), \\text{disk}(j,c) \\} = \\max\\{ \\sqrt{25}, \\sqrt{194} \\} = \\sqrt{194} \\\\\n",
    "&\\text{reachdist}_3(h \\leftarrow c) = \\max\\{ \\text{disk}_{3}(h), \\text{disk}(h,c) \\} = \\max\\{ \\sqrt{369}, \\sqrt{229} \\} = \\sqrt{369} \\\\\n",
    "&\\text{reachdist}_3(b \\leftarrow c) = \\max\\{ \\text{disk}_{3}(b), \\text{disk}(b,c) \\} = \\max\\{ \\sqrt{30}, \\sqrt{250} \\} = \\sqrt{250} \\\\\n",
    "\n",
    "\\\\\n",
    "\n",
    "&\\text{lrd}_{3}(c) = \\frac{3}{\\sqrt{194} + \\sqrt{369} + \\sqrt{250}} = 0,0613 \\\\\n",
    "\n",
    "\\\\\n",
    "\n",
    "&\\text{lrd}_{3}(d) = \\frac{||N_{3}(d)||}{\\text{reachdist}_3(a \\leftarrow d) + \\text{reachdist}_3(f \\leftarrow d) + \\text{reachdist}_3(i \\leftarrow d)} \\\\\n",
    "\n",
    "\\\\\n",
    "\n",
    "&\\text{reachdist}_3(a \\leftarrow d) = \\max\\{ \\text{disk}_{3}(a), \\text{disk}(a,d) \\} = \\max\\{ \\sqrt{8}, \\sqrt{6} \\} = \\sqrt{8} \\\\\n",
    "&\\text{reachdist}_3(f \\leftarrow d) = \\max\\{ \\text{disk}_{3}(f), \\text{disk}(f,d) \\} = \\max\\{ \\sqrt{9}, \\sqrt{9} \\} = \\sqrt{9} \\\\\n",
    "&\\text{reachdist}_3(i \\leftarrow d) = \\max\\{ \\text{disk}_{3}(i), \\text{disk}(i,d) \\} = \\max\\{ \\sqrt{10}, \\sqrt{10} \\} = \\sqrt{10} \\\\\n",
    "\n",
    "\\\\\n",
    "\n",
    "&\\text{lrd}_{3}(d) = \\frac{3}{\\sqrt{8} + \\sqrt{9} + \\sqrt{10}} = 0,3337 \\\\\n",
    "\n",
    "\\\\\n",
    "\n",
    "&\\text{lrd}_{3}(e) = \\frac{||N_{3}(e)||}{\\text{reachdist}_3(j \\leftarrow e) + \\text{reachdist}_3(i \\leftarrow e) + \\text{reachdist}_3(a \\leftarrow e)} \\\\\n",
    "\n",
    "\\\\\n",
    "\n",
    "&\\text{reachdist}_3(j \\leftarrow e) = \\max\\{ \\text{disk}_{3}(j), \\text{disk}(j,e) \\} = \\max\\{ \\sqrt{25}, \\sqrt{19} \\} = \\sqrt{25} \\\\\n",
    "&\\text{reachdist}_3(i \\leftarrow e) = \\max\\{ \\text{disk}_{3}(i), \\text{disk}(i,e) \\} = \\max\\{ \\sqrt{10}, \\sqrt{21} \\} = \\sqrt{21} \\\\\n",
    "&\\text{reachdist}_3(a \\leftarrow e) = \\max\\{ \\text{disk}_{3}(a), \\text{disk}(a,e) \\} = \\max\\{ \\sqrt{8}, \\sqrt{25} \\} = \\sqrt{25} \\\\\n",
    "\n",
    "\\\\\n",
    "\n",
    "&\\text{lrd}_{3}(e) = \\frac{3}{\\sqrt{25} + \\sqrt{21} + \\sqrt{25}} = 0,2057 \\\\\n",
    "\n",
    "\\\\\n",
    "\n",
    "&\\text{lrd}_{3}(f) = \\frac{||N_{3}(f)||}{\\text{reachdist}_3(a \\leftarrow f) + \\text{reachdist}_3(i \\leftarrow f) + \\text{reachdist}_3(d \\leftarrow f)} \\\\\n",
    "\n",
    "\\\\\n",
    "\n",
    "&\\text{reachdist}_3(a \\leftarrow f) = \\max\\{ \\text{disk}_{3}(a), \\text{disk}(a,f) \\} = \\max\\{ \\sqrt{8}, \\sqrt{1} \\} = \\sqrt{8} \\\\\n",
    "&\\text{reachdist}_3(i \\leftarrow f) = \\max\\{ \\text{disk}_{3}(i), \\text{disk}(i,f) \\} = \\max\\{ \\sqrt{10}, \\sqrt{3} \\} = \\sqrt{10} \\\\\n",
    "&\\text{reachdist}_3(d \\leftarrow f) = \\max\\{ \\text{disk}_{3}(d), \\text{disk}(d,f) \\} = \\max\\{ \\sqrt{10}, \\sqrt{9} \\} = \\sqrt{10} \\\\\n",
    "\n",
    "\\\\\n",
    "\n",
    "&\\text{lrd}_{3}(f) = \\frac{3}{\\sqrt{8} + \\sqrt{10} + \\sqrt{10}} = 0,3278 \\\\\n",
    "\n",
    "\\\\\n",
    "\n",
    "&\\text{lrd}_{3}(g) = \\frac{||N_{3}(g)||}{\\text{reachdist}_3(b \\leftarrow g) + \\text{reachdist}_3(a \\leftarrow g) + \\text{reachdist}_3(d \\leftarrow g)} \\\\\n",
    "\n",
    "\\\\\n",
    "\n",
    "&\\text{reachdist}_3(b \\leftarrow g) = \\max\\{ \\text{disk}_{3}(b), \\text{disk}(b,g) \\} = \\max\\{ \\sqrt{30}, \\sqrt{5} \\} = \\sqrt{30} \\\\\n",
    "&\\text{reachdist}_3(a \\leftarrow g) = \\max\\{ \\text{disk}_{3}(a), \\text{disk}(a,g) \\} = \\max\\{ \\sqrt{8}, \\sqrt{11} \\} = \\sqrt{11} \\\\\n",
    "&\\text{reachdist}_3(d \\leftarrow g) = \\max\\{ \\text{disk}_{3}(d), \\text{disk}(d,g) \\} = \\max\\{ \\sqrt{10}, \\sqrt{17} \\} = \\sqrt{17} \\\\\n",
    "\n",
    "\\\\\n",
    "\n",
    "&\\text{lrd}_{3}(g) = \\frac{3}{\\sqrt{30} + \\sqrt{11} + \\sqrt{17}} = 0,2323 \\\\\n",
    "\n",
    "\\\\\n",
    "\n",
    "&\\text{lrd}_{3}(h) = \\frac{||N_{3}(h)||}{\\text{reachdist}_3(c \\leftarrow h) + \\text{reachdist}_3(j \\leftarrow h) + \\text{reachdist}_3(d \\leftarrow h)} \\\\\n",
    "\n",
    "\\\\\n",
    "\n",
    "&\\text{reachdist}_3(c \\leftarrow h) = \\max\\{ \\text{disk}_{3}(c), \\text{disk}(c,h) \\} = \\max\\{ \\sqrt{250}, \\sqrt{229} \\} = \\sqrt{250} \\\\\n",
    "&\\text{reachdist}_3(j \\leftarrow h) = \\max\\{ \\text{disk}_{3}(j), \\text{disk}(j,h) \\} = \\max\\{ \\sqrt{25}, \\sqrt{297} \\} = \\sqrt{297} \\\\\n",
    "&\\text{reachdist}_3(d \\leftarrow h) = \\max\\{ \\text{disk}_{3}(d), \\text{disk}(d,h) \\} = \\max\\{ \\sqrt{10}, \\sqrt{369} \\} = \\sqrt{369} \\\\\n",
    "\n",
    "\\\\\n",
    "\n",
    "&\\text{lrd}_{3}(h) = \\frac{3}{\\sqrt{250} + \\sqrt{297} + \\sqrt{369}} = 0,0574 \\\\\n",
    "\n",
    "\\\\\n",
    "\n",
    "&\\text{lrd}_{3}(i) = \\frac{||N_{3}(i)||}{\\text{reachdist}_3(f \\leftarrow i) + \\text{reachdist}_3(a \\leftarrow i) + \\text{reachdist}_3(d \\leftarrow i)} \\\\\n",
    "\n",
    "\\\\\n",
    "\n",
    "&\\text{reachdist}_3(f \\leftarrow i) = \\max\\{ \\text{disk}_{3}(f), \\text{disk}(f,i) \\} = \\max\\{ \\sqrt{9}, \\sqrt{5} \\} = \\sqrt{9} \\\\\n",
    "&\\text{reachdist}_3(a \\leftarrow i) = \\max\\{ \\text{disk}_{3}(a), \\text{disk}(a,i) \\} = \\max\\{ \\sqrt{8}, \\sqrt{8} \\} = \\sqrt{8} \\\\\n",
    "&\\text{reachdist}_3(d \\leftarrow i) = \\max\\{ \\text{disk}_{3}(d), \\text{disk}(d,i) \\} = \\max\\{ \\sqrt{10}, \\sqrt{10} \\} = \\sqrt{10} \\\\\n",
    "\n",
    "\\\\\n",
    "\n",
    "&\\text{lrd}_{3}(i) = \\frac{3}{\\sqrt{9} + \\sqrt{8} + \\sqrt{10}} = 0,3337 \\\\\n",
    "\n",
    "\\\\\n",
    "\n",
    "&\\text{lrd}_{3}(j) = \\frac{||N_{3}(j)||}{\\text{reachdist}_3(d \\leftarrow j) + \\text{reachdist}_3(e \\leftarrow j) + \\text{reachdist}_3(g \\leftarrow j)} \\\\\n",
    "\n",
    "\\\\\n",
    "\n",
    "&\\text{reachdist}_3(d \\leftarrow j) = \\max\\{ \\text{disk}_{3}(d), \\text{disk}(d,j) \\} = \\max\\{ \\sqrt{10}, \\sqrt{12} \\} = \\sqrt{12} \\\\\n",
    "&\\text{reachdist}_3(e \\leftarrow j) = \\max\\{ \\text{disk}_{3}(e), \\text{disk}(e,j) \\} = \\max\\{ \\sqrt{25}, \\sqrt{19} \\} = \\sqrt{25} \\\\\n",
    "&\\text{reachdist}_3(g \\leftarrow j) = \\max\\{ \\text{disk}_{3}(g), \\text{disk}(g,j) \\} = \\max\\{ \\sqrt{17}, \\sqrt{25} \\} = \\sqrt{25} \\\\\n",
    "\n",
    "\\\\\n",
    "\n",
    "&\\text{lrd}_{3}(j) = \\frac{3}{\\sqrt{12} + \\sqrt{25} + \\sqrt{25}} = 0,2228\n",
    "\n",
    "\\end{aligned}\n",
    "$$"
   ]
  },
  {
   "block_group": "a498b7014623406eb47ce37ad82a39ac",
   "cell_type": "markdown",
   "metadata": {
    "cell_id": "c155c410ad80462a821c81e12deb68dd",
    "deepnote_cell_type": "markdown"
   },
   "source": [
    "Menghitung semua $ LOF_{k}(o) $"
   ]
  },
  {
   "block_group": "197e7d26ced54cde8e0d19c053add180",
   "cell_type": "markdown",
   "metadata": {
    "cell_id": "acd0780891b74e47b15f11c1c7ee1dc0",
    "deepnote_cell_type": "markdown"
   },
   "source": [
    "$$\n",
    "\\begin{aligned}\n",
    "\n",
    "& LOF_{k}(o) = \\frac{\\sum_{o'\\epsilon N_{k}(o)}\\frac{lrd_{k}(o')}{lrd_{k}(o)}}{||N_{k}(o)||} = \\sum_{o'\\epsilon N_{k}(o)}lrd_{k}(o')\\cdot \\sum_{o'\\epsilon N_{k}(o)}reachdist_{k}(o'\\leftarrow o)\n",
    "\n",
    "\\end{aligned}\n",
    "$$"
   ]
  },
  {
   "block_group": "a7e5bedec7ff43c2ad8e199eba4ec95c",
   "cell_type": "markdown",
   "metadata": {
    "cell_id": "1bbf32ed54504c6e8c94a98cb691a68f",
    "deepnote_cell_type": "markdown"
   },
   "source": [
    "$$\n",
    "\\begin{aligned}\n",
    "\n",
    "& LOF_{3}(a) = (lrd_{3}(f)+lrd_{3}(d)+lrd_{3}(i))\\cdot (reachdist_{3}(f\\leftarrow a)+reachdist_{3}(d\\leftarrow a)+reachdist_{3}(i\\leftarrow a)) \\\\\n",
    "& LOF_{3}(a) = (0,3278+0,3337+0,3337)\\cdot (\\sqrt{9}+\\sqrt{10}+\\sqrt{10}) = 9,2798\\\\\n",
    "\n",
    "\\\\\n",
    "\n",
    "& LOF_{3}(b) = (lrd_{3}(g)+lrd_{3}(a)+lrd_{3}(j))\\cdot (reachdist_{3}(g\\leftarrow b)+reachdist_{3}(a\\leftarrow b)+reachdist_{3}(j\\leftarrow b)) \\\\\n",
    "& LOF_{3}(b) = (0,2323+0,3217+0,2228)\\cdot (\\sqrt{17}+\\sqrt{26}+\\sqrt{30}) = 11,4185\\\\\n",
    "\n",
    "\\\\\n",
    "\n",
    "& LOF_{3}(c) = (lrd_{3}(j)+lrd_{3}(h)+lrd_{3}(b))\\cdot (reachdist_{3}(j\\leftarrow c)+reachdist_{3}(h\\leftarrow c)+reachdist_{3}(b\\leftarrow c)) \\\\\n",
    "& LOF_{3}(c) = (0,2228+0,0574+0,2041)\\cdot (\\sqrt{194}+\\sqrt{369}+\\sqrt{250}) = 23,7061\\\\\n",
    "\n",
    "\\\\\n",
    "\n",
    "& LOF_{3}(d) = (lrd_{3}(a)+lrd_{3}(f)+lrd_{3}(i))\\cdot (reachdist_{3}(a\\leftarrow d)+reachdist_{3}(f\\leftarrow d)+reachdist_{3}(i\\leftarrow d)) \\\\\n",
    "& LOF_{3}(d) = (0,3217+0,3278+0,3337)\\cdot (\\sqrt{8}+\\sqrt{9}+\\sqrt{10}) = 8,8397\\\\\n",
    "\n",
    "\\\\\n",
    "\n",
    "& LOF_{3}(e) = (lrd_{3}(j)+lrd_{3}(i)+lrd_{3}(a))\\cdot (reachdist_{3}(j\\leftarrow e)+reachdist_{3}(i\\leftarrow e)+reachdist_{3}(a\\leftarrow e)) \\\\\n",
    "& LOF_{3}(e) = (0,2228+0,3337+0,3217)\\cdot (\\sqrt{25}+\\sqrt{21}+\\sqrt{25}) = 12,8064\\\\\n",
    "\n",
    "\\\\\n",
    "\n",
    "& LOF_{3}(f) = (lrd_{3}(a)+lrd_{3}(i)+lrd_{3}(d))\\cdot (reachdist_{3}(a\\leftarrow f)+reachdist_{3}(i\\leftarrow f)+reachdist_{3}(d\\leftarrow f)) \\\\\n",
    "& LOF_{3}(f) = (0,3217+0,3337+0,3337)\\cdot (\\sqrt{8}+\\sqrt{10}+\\sqrt{10}) = 9,0532\\\\\n",
    "\n",
    "\\\\\n",
    "\n",
    "& LOF_{3}(g) = (lrd_{3}(b)+lrd_{3}(a)+lrd_{3}(d))\\cdot (reachdist_{3}(b\\leftarrow g)+reachdist_{3}(a\\leftarrow g)+reachdist_{3}(d\\leftarrow g)) \\\\\n",
    "& LOF_{3}(g) = (0,2041+0,3217+0,3337)\\cdot (\\sqrt{30}+\\sqrt{11}+\\sqrt{17}) = 11,1021\\\\\n",
    "\n",
    "\\\\\n",
    "\n",
    "& LOF_{3}(h) = (lrd_{3}(c)+lrd_{3}(j)+lrd_{3}(d))\\cdot (reachdist_{3}(c\\leftarrow h)+reachdist_{3}(j\\leftarrow h)+reachdist_{3}(d\\leftarrow h)) \\\\\n",
    "& LOF_{3}(h) = (0,0613+0,2228+0,3337)\\cdot (\\sqrt{250}+\\sqrt{297}+\\sqrt{369}) = 32,2828\\\\\n",
    "\n",
    "\\\\\n",
    "\n",
    "& LOF_{3}(i) = (lrd_{3}(f)+lrd_{3}(a)+lrd_{3}(d))\\cdot (reachdist_{3}(f\\leftarrow i)+reachdist_{3}(a\\leftarrow i)+reachdist_{3}(d\\leftarrow i)) \\\\\n",
    "& LOF_{3}(i) = (0,3278+0,3217+0,3337)\\cdot (\\sqrt{9}+\\sqrt{8}+\\sqrt{10}) = 8,8397\\\\\n",
    "\n",
    "\\\\\n",
    "\n",
    "& LOF_{3}(j) = (lrd_{3}(d)+lrd_{3}(e)+lrd_{3}(g))\\cdot (reachdist_{3}(d\\leftarrow j)+reachdist_{3}(e\\leftarrow j)+reachdist_{3}(g\\leftarrow j)) \\\\\n",
    "& LOF_{3}(j) = (0,3337+0,2057+0,2323)\\cdot (\\sqrt{12}+\\sqrt{25}+\\sqrt{25}) = 10,3903\n",
    "\n",
    "\\end{aligned}\n",
    "$$"
   ]
  },
  {
   "block_group": "5d2563b728f944bcaf3e8ce66ab27e11",
   "cell_type": "markdown",
   "metadata": {
    "cell_id": "54640607d66945148a7f3f9c32af455e",
    "deepnote_cell_type": "markdown"
   },
   "source": [
    "Mengurutkan semua $ LOF_{k}(o) $"
   ]
  },
  {
   "block_group": "78e24daae39048068ea9e61f2fd0cd46",
   "cell_type": "markdown",
   "metadata": {
    "cell_id": "21271e0d8a86413697bf0f396843bac4",
    "deepnote_cell_type": "markdown"
   },
   "source": [
    "$$\n",
    "\\begin{aligned}\n",
    "\n",
    "& \\text{Urutan terurut adalah:}\\\\\n",
    "& LOF_{3}(h) = 32,2828\\\\\n",
    "& LOF_{3}(c) = 23,7061\\\\\n",
    "& LOF_{3}(e) = 12,8064\\\\\n",
    "& LOF_{3}(b) = 11,4185\\\\\n",
    "& LOF_{3}(g) = 11,1021\\\\\n",
    "& LOF_{3}(j) = 10,3903\\\\\n",
    "& LOF_{3}(a) = 9,2798\\\\\n",
    "& LOF_{3}(f) = 9,0532\\\\\n",
    "& LOF_{3}(d) = 8,8397\\\\\n",
    "& LOF_{3}(i) = 8,8397\n",
    "\n",
    "\\end{aligned}\n",
    "$$"
   ]
  },
  {
   "block_group": "22f4cf5190cb4966a9460e8cbbc66b3a",
   "cell_type": "markdown",
   "metadata": {
    "cell_id": "baf33a60efd2485297df5cb5f7cd17c4",
    "deepnote_cell_type": "text-cell-p",
    "formattedRanges": []
   },
   "source": [
    "Berdasarkan penghitungan Local Outlier Factor (LOF) secara manual, diperoleh urutan terurut LOF scores dari data 'h' yang memiliki nilai LOF tertinggi sebesar 32.2828, diikuti oleh data 'c' dengan nilai LOF sebesar 23.7061. Data 'h' dan 'c' diidentifikasi sebagai outlier karena memiliki nilai LOF yang signifikan lebih tinggi dibandingkan dengan nilai LOF dari data lainnya dalam dataset."
   ]
  },
  {
   "block_group": "2771d2ccdab643608de6f3b32b3a4c68",
   "cell_type": "markdown",
   "metadata": {
    "cell_id": "835e1a4f9c4e4bf89c78ccea58a03e4d",
    "deepnote_cell_type": "text-cell-h3",
    "formattedRanges": []
   },
   "source": [
    "### Menghitung LOF menggunakan Python (Scikit Learn)"
   ]
  },
  {
   "block_group": "144e51b12efc453caa96c0f5dbe58577",
   "cell_type": "markdown",
   "metadata": {
    "cell_id": "d99c7a6eb61c43579980910659e880b4",
    "deepnote_cell_type": "text-cell-p",
    "formattedRanges": []
   },
   "source": [
    "Impor library yang dibutuhkan. numpy digunakan untuk operasi numerik, sedangkan LocalOutlierFactor dari sklearn.neighbors digunakan untuk menghitung Local Outlier Factor (LOF)."
   ]
  },
  {
   "block_group": "32529db0653f4e3990c382b0d0b3ac8f",
   "cell_type": "code",
   "execution_count": null,
   "metadata": {
    "cell_id": "c6ac9603f2704b31ba666fde148c9bd4",
    "deepnote_cell_type": "code",
    "deepnote_to_be_reexecuted": false,
    "execution_millis": 312,
    "execution_start": 1711538451609,
    "source_hash": null
   },
   "outputs": [],
   "outputs_reference": null,
   "source": [
    "import numpy as np\n",
    "from sklearn.neighbors import LocalOutlierFactor"
   ]
  },
  {
   "block_group": "84aadf58f03743b19ca4655735ef734d",
   "cell_type": "markdown",
   "metadata": {
    "cell_id": "f15b118d92ef4860a77d8f5fffe5df88",
    "deepnote_cell_type": "text-cell-p",
    "formattedRanges": []
   },
   "source": [
    "Pembuatan data dalam bentuk dictionary yang berisi beberapa array numpy. Setiap key dalam kamus dictionary tersebut memiliki value yang merupakan array numpy. Kemudian, dilakukan konversi nilai dari data dictionary menjadi sebuah array numpy."
   ]
  },
  {
   "block_group": "d123caf2eec44c4ba23538cae2ce46c8",
   "cell_type": "code",
   "execution_count": null,
   "metadata": {
    "cell_id": "3ed6682b282746acb5bf55137ac71266",
    "deepnote_cell_type": "code",
    "deepnote_to_be_reexecuted": false,
    "execution_millis": 302,
    "execution_start": 1711538451620,
    "source_hash": null
   },
   "outputs": [],
   "outputs_reference": null,
   "source": [
    "data = {\n",
    "    'a': np.array([3, 6, 4]),\n",
    "    'b': np.array([2, 3, 8]),\n",
    "    'c': np.array([11, 8, 20]),\n",
    "    'd': np.array([5, 7, 5]),\n",
    "    'e': np.array([6, 2, 4]),\n",
    "    'f': np.array([3, 6, 3]),\n",
    "    'g': np.array([2, 5, 7]),\n",
    "    'h': np.array([23, 10, 11]),\n",
    "    'i': np.array([5, 6, 2]),\n",
    "    'j': np.array([7, 5, 7])\n",
    "}\n",
    "\n",
    "X = np.array(list(data.values()))"
   ]
  },
  {
   "block_group": "b2739afbe73d40cb98a15bcd024c3638",
   "cell_type": "markdown",
   "metadata": {
    "cell_id": "f9d1047529a847ef9269a4f5a97ac010",
    "deepnote_cell_type": "text-cell-p",
    "formattedRanges": []
   },
   "source": [
    "Inisialisasi model Local Outlier Factor (LOF) dengan mengatur parameter n_neighbors menjadi 3. Penghitungan outlier scores menggunakan model LOF yang telah didefinisikan sebelumnya. Metode fit_predict() digunakan untuk menghitung LOF scores dan menentukan apakah setiap sample merupakan inlier (nilai 1) atau outlier (nilai -1). LOF scores dihitung dengan mengambil nilai negatif dari atribut negative_outlier_factor_ pada model LOF."
   ]
  },
  {
   "block_group": "1ff41438491c4947be6779b89d5a05bf",
   "cell_type": "code",
   "execution_count": null,
   "metadata": {
    "cell_id": "4be92f370633475c8eec5730aeeb4693",
    "deepnote_cell_type": "code",
    "deepnote_to_be_reexecuted": false,
    "execution_millis": 300,
    "execution_start": 1711538451623,
    "source_hash": null
   },
   "outputs": [],
   "outputs_reference": null,
   "source": [
    "lof = LocalOutlierFactor(n_neighbors=3)\n",
    "outlier_scores = lof.fit_predict(X)\n",
    "lof_scores = -lof.negative_outlier_factor_"
   ]
  },
  {
   "block_group": "6199fb99820d46aebd540dc41f353cbe",
   "cell_type": "markdown",
   "metadata": {
    "cell_id": "287f452bb1e44eaf8d97c2f8b4d0dd3e",
    "deepnote_cell_type": "text-cell-p",
    "formattedRanges": []
   },
   "source": [
    "Menampilkan hasil dari perhitungan LOF scores. Setiap key dalam data dictionary dengan status outlier dan LOF score-nya ditampilkan dalam bentuk teks. Jika nilai outlier_scores adalah -1, maka data dianggap sebagai outlier."
   ]
  },
  {
   "block_group": "55d2ad6ad17647eca1dce7f5a3bb49b4",
   "cell_type": "code",
   "execution_count": null,
   "metadata": {
    "cell_id": "3b4f0c02a26a4a8eb6a74f6744706d73",
    "deepnote_cell_type": "code",
    "deepnote_to_be_reexecuted": false,
    "execution_millis": 299,
    "execution_start": 1711538451625,
    "source_hash": null
   },
   "outputs": [
    {
     "name": "stdout",
     "output_type": "stream",
     "text": [
      "LOF scores:\n",
      "a: Outlier No, LOF Score: 1.03\n",
      "b: Outlier No, LOF Score: 1.27\n",
      "c: Outlier Yes, LOF Score: 2.63\n",
      "d: Outlier No, LOF Score: 0.98\n",
      "e: Outlier No, LOF Score: 1.42\n",
      "f: Outlier No, LOF Score: 1.01\n",
      "g: Outlier No, LOF Score: 1.23\n",
      "h: Outlier Yes, LOF Score: 3.59\n",
      "i: Outlier No, LOF Score: 0.98\n",
      "j: Outlier No, LOF Score: 1.15\n"
     ]
    }
   ],
   "outputs_reference": "dbtable:cell_outputs/c1aa459b-e71c-401d-9885-d900551647ef",
   "source": [
    "print(\"LOF scores:\")\n",
    "for key, value, lof_score in zip(data.keys(), outlier_scores, lof_scores):\n",
    "    print(f\"{key}: Outlier {'Yes' if value == -1 else 'No'}, LOF Score: {lof_score:.2f}\")"
   ]
  },
  {
   "block_group": "0e62c9bd2a1041dbb97457b3d1793c64",
   "cell_type": "markdown",
   "metadata": {
    "cell_id": "18642d4987064047989049531696316e",
    "deepnote_cell_type": "text-cell-p",
    "formattedRanges": []
   },
   "source": [
    "Berdasarkan output LOF scores, dapat disimpulkan bahwa terdapat dua titik data yang teridentifikasi sebagai outlier, yaitu data 'c' dan 'h', dengan LOF scores berturut-turut sebesar 2.63 dan 3.59. Sementara itu, titik data lainnya dianggap sebagai inlier karena memiliki LOF scores yang mendekati 1 atau kurang dari 1. Hal ini menunjukkan bahwa data 'c' dan 'h' memiliki tingkat anomali yang lebih tinggi dibandingkan dengan data lainnya dalam dataset."
   ]
  },
  {
   "block_group": "86f0e1919bab4b94be51cebafe37dac7",
   "cell_type": "markdown",
   "metadata": {
    "cell_id": "39ed9c5524664b9ebe5d78d6b5a9e76b",
    "deepnote_cell_type": "text-cell-h3",
    "formattedRanges": []
   },
   "source": [
    "### Implementasi Local Outlier Factor pada data Iris"
   ]
  },
  {
   "block_group": "244b0915afd7452383e8ea2644dad93f",
   "cell_type": "markdown",
   "metadata": {
    "cell_id": "1f47e6a756ca4132a7745309394d6237",
    "deepnote_cell_type": "text-cell-p",
    "formattedRanges": []
   },
   "source": [
    "Proses pengambilan data tabel Iris_lof dari MySQL untuk disimpan sebagai DataFrame."
   ]
  },
  {
   "block_group": "6ca354a3d527490aae9f199fe8e2396e",
   "cell_type": "code",
   "execution_count": null,
   "metadata": {
    "cell_id": "488d5e3d9f9848cb963fd15aa26a1f86",
    "deepnote_cell_type": "sql",
    "deepnote_sql_source": "SELECT * FROM Iris_lof;",
    "deepnote_to_be_reexecuted": false,
    "deepnote_variable_name": "df_7",
    "execution_millis": 3295,
    "execution_start": 1711541879682,
    "source_hash": null,
    "sql_integration_id": "09471b5a-652d-432f-b73d-65305a4929e6"
   },
   "outputs": [
    {
     "data": {
      "application/vnd.deepnote.sql-output-metadata+json": {
       "size_in_bytes": 14278,
       "status": "success_no_cache"
      }
     },
     "metadata": {},
     "output_type": "display_data"
    },
    {
     "data": {
      "application/vnd.deepnote.dataframe.v3+json": {
       "column_count": 4,
       "columns": [
        {
         "dtype": "int64",
         "name": "Id",
         "stats": {
          "histogram": [
           {
            "bin_end": 15.9,
            "bin_start": 1,
            "count": 15
           },
           {
            "bin_end": 30.8,
            "bin_start": 15.9,
            "count": 15
           },
           {
            "bin_end": 45.7,
            "bin_start": 30.8,
            "count": 15
           },
           {
            "bin_end": 60.6,
            "bin_start": 45.7,
            "count": 15
           },
           {
            "bin_end": 75.5,
            "bin_start": 60.6,
            "count": 15
           },
           {
            "bin_end": 90.4,
            "bin_start": 75.5,
            "count": 15
           },
           {
            "bin_end": 105.3,
            "bin_start": 90.4,
            "count": 15
           },
           {
            "bin_end": 120.2,
            "bin_start": 105.3,
            "count": 15
           },
           {
            "bin_end": 135.1,
            "bin_start": 120.2,
            "count": 15
           },
           {
            "bin_end": 150,
            "bin_start": 135.1,
            "count": 15
           }
          ],
          "max": "150",
          "min": "1",
          "nan_count": 0,
          "unique_count": 150
         }
        },
        {
         "dtype": "float64",
         "name": "SepalLengthCm",
         "stats": {
          "histogram": [
           {
            "bin_end": 5.97,
            "bin_start": 4.3,
            "count": 79
           },
           {
            "bin_end": 7.64,
            "bin_start": 5.97,
            "count": 60
           },
           {
            "bin_end": 9.309999999999999,
            "bin_start": 7.64,
            "count": 5
           },
           {
            "bin_end": 10.98,
            "bin_start": 9.309999999999999,
            "count": 0
           },
           {
            "bin_end": 12.649999999999999,
            "bin_start": 10.98,
            "count": 0
           },
           {
            "bin_end": 14.32,
            "bin_start": 12.649999999999999,
            "count": 0
           },
           {
            "bin_end": 15.989999999999998,
            "bin_start": 14.32,
            "count": 1
           },
           {
            "bin_end": 17.66,
            "bin_start": 15.989999999999998,
            "count": 1
           },
           {
            "bin_end": 19.33,
            "bin_start": 17.66,
            "count": 2
           },
           {
            "bin_end": 21,
            "bin_start": 19.33,
            "count": 2
           }
          ],
          "max": "21.0",
          "min": "4.3",
          "nan_count": 0,
          "unique_count": 41
         }
        },
        {
         "dtype": "float64",
         "name": "SepalWidthCm",
         "stats": {
          "histogram": [
           {
            "bin_end": 3.8,
            "bin_start": 2,
            "count": 133
           },
           {
            "bin_end": 5.6,
            "bin_start": 3.8,
            "count": 11
           },
           {
            "bin_end": 7.4,
            "bin_start": 5.6,
            "count": 0
           },
           {
            "bin_end": 9.2,
            "bin_start": 7.4,
            "count": 0
           },
           {
            "bin_end": 11,
            "bin_start": 9.2,
            "count": 0
           },
           {
            "bin_end": 12.8,
            "bin_start": 11,
            "count": 0
           },
           {
            "bin_end": 14.6,
            "bin_start": 12.8,
            "count": 0
           },
           {
            "bin_end": 16.4,
            "bin_start": 14.6,
            "count": 1
           },
           {
            "bin_end": 18.2,
            "bin_start": 16.4,
            "count": 4
           },
           {
            "bin_end": 20,
            "bin_start": 18.2,
            "count": 1
           }
          ],
          "max": "20.0",
          "min": "2.0",
          "nan_count": 0,
          "unique_count": 27
         }
        },
        {
         "dtype": "object",
         "name": "Species",
         "stats": {
          "categories": [
           {
            "count": 50,
            "name": "Iris-setosa"
           },
           {
            "count": 50,
            "name": "Iris-versicolor"
           },
           {
            "count": 50,
            "name": "Iris-virginica"
           }
          ],
          "nan_count": 0,
          "unique_count": 3
         }
        },
        {
         "dtype": "int64",
         "name": "_deepnote_index_column"
        }
       ],
       "row_count": 150,
       "rows": [
        {
         "Id": 1,
         "SepalLengthCm": 5.1,
         "SepalWidthCm": 3.5,
         "Species": "Iris-setosa",
         "_deepnote_index_column": 0
        },
        {
         "Id": 2,
         "SepalLengthCm": 4.9,
         "SepalWidthCm": 3,
         "Species": "Iris-setosa",
         "_deepnote_index_column": 1
        },
        {
         "Id": 3,
         "SepalLengthCm": 4.7,
         "SepalWidthCm": 3.2,
         "Species": "Iris-setosa",
         "_deepnote_index_column": 2
        },
        {
         "Id": 4,
         "SepalLengthCm": 4.6,
         "SepalWidthCm": 3.1,
         "Species": "Iris-setosa",
         "_deepnote_index_column": 3
        },
        {
         "Id": 5,
         "SepalLengthCm": 5,
         "SepalWidthCm": 3.6,
         "Species": "Iris-setosa",
         "_deepnote_index_column": 4
        },
        {
         "Id": 6,
         "SepalLengthCm": 5.4,
         "SepalWidthCm": 3.9,
         "Species": "Iris-setosa",
         "_deepnote_index_column": 5
        },
        {
         "Id": 7,
         "SepalLengthCm": 4.6,
         "SepalWidthCm": 3.4,
         "Species": "Iris-setosa",
         "_deepnote_index_column": 6
        },
        {
         "Id": 8,
         "SepalLengthCm": 5,
         "SepalWidthCm": 3.4,
         "Species": "Iris-setosa",
         "_deepnote_index_column": 7
        },
        {
         "Id": 9,
         "SepalLengthCm": 4.4,
         "SepalWidthCm": 2.9,
         "Species": "Iris-setosa",
         "_deepnote_index_column": 8
        },
        {
         "Id": 10,
         "SepalLengthCm": 15,
         "SepalWidthCm": 18,
         "Species": "Iris-setosa",
         "_deepnote_index_column": 9
        }
       ]
      },
      "text/html": [
       "<div>\n",
       "<style scoped>\n",
       "    .dataframe tbody tr th:only-of-type {\n",
       "        vertical-align: middle;\n",
       "    }\n",
       "\n",
       "    .dataframe tbody tr th {\n",
       "        vertical-align: top;\n",
       "    }\n",
       "\n",
       "    .dataframe thead th {\n",
       "        text-align: right;\n",
       "    }\n",
       "</style>\n",
       "<table border=\"1\" class=\"dataframe\">\n",
       "  <thead>\n",
       "    <tr style=\"text-align: right;\">\n",
       "      <th></th>\n",
       "      <th>Id</th>\n",
       "      <th>SepalLengthCm</th>\n",
       "      <th>SepalWidthCm</th>\n",
       "      <th>Species</th>\n",
       "    </tr>\n",
       "  </thead>\n",
       "  <tbody>\n",
       "    <tr>\n",
       "      <th>0</th>\n",
       "      <td>1</td>\n",
       "      <td>5.1</td>\n",
       "      <td>3.5</td>\n",
       "      <td>Iris-setosa</td>\n",
       "    </tr>\n",
       "    <tr>\n",
       "      <th>1</th>\n",
       "      <td>2</td>\n",
       "      <td>4.9</td>\n",
       "      <td>3.0</td>\n",
       "      <td>Iris-setosa</td>\n",
       "    </tr>\n",
       "    <tr>\n",
       "      <th>2</th>\n",
       "      <td>3</td>\n",
       "      <td>4.7</td>\n",
       "      <td>3.2</td>\n",
       "      <td>Iris-setosa</td>\n",
       "    </tr>\n",
       "    <tr>\n",
       "      <th>3</th>\n",
       "      <td>4</td>\n",
       "      <td>4.6</td>\n",
       "      <td>3.1</td>\n",
       "      <td>Iris-setosa</td>\n",
       "    </tr>\n",
       "    <tr>\n",
       "      <th>4</th>\n",
       "      <td>5</td>\n",
       "      <td>5.0</td>\n",
       "      <td>3.6</td>\n",
       "      <td>Iris-setosa</td>\n",
       "    </tr>\n",
       "    <tr>\n",
       "      <th>...</th>\n",
       "      <td>...</td>\n",
       "      <td>...</td>\n",
       "      <td>...</td>\n",
       "      <td>...</td>\n",
       "    </tr>\n",
       "    <tr>\n",
       "      <th>145</th>\n",
       "      <td>146</td>\n",
       "      <td>6.7</td>\n",
       "      <td>3.0</td>\n",
       "      <td>Iris-virginica</td>\n",
       "    </tr>\n",
       "    <tr>\n",
       "      <th>146</th>\n",
       "      <td>147</td>\n",
       "      <td>6.3</td>\n",
       "      <td>2.5</td>\n",
       "      <td>Iris-virginica</td>\n",
       "    </tr>\n",
       "    <tr>\n",
       "      <th>147</th>\n",
       "      <td>148</td>\n",
       "      <td>6.5</td>\n",
       "      <td>3.0</td>\n",
       "      <td>Iris-virginica</td>\n",
       "    </tr>\n",
       "    <tr>\n",
       "      <th>148</th>\n",
       "      <td>149</td>\n",
       "      <td>6.2</td>\n",
       "      <td>3.4</td>\n",
       "      <td>Iris-virginica</td>\n",
       "    </tr>\n",
       "    <tr>\n",
       "      <th>149</th>\n",
       "      <td>150</td>\n",
       "      <td>5.9</td>\n",
       "      <td>3.0</td>\n",
       "      <td>Iris-virginica</td>\n",
       "    </tr>\n",
       "  </tbody>\n",
       "</table>\n",
       "<p>150 rows × 4 columns</p>\n",
       "</div>"
      ],
      "text/plain": [
       "      Id  SepalLengthCm  SepalWidthCm         Species\n",
       "0      1            5.1           3.5     Iris-setosa\n",
       "1      2            4.9           3.0     Iris-setosa\n",
       "2      3            4.7           3.2     Iris-setosa\n",
       "3      4            4.6           3.1     Iris-setosa\n",
       "4      5            5.0           3.6     Iris-setosa\n",
       "..   ...            ...           ...             ...\n",
       "145  146            6.7           3.0  Iris-virginica\n",
       "146  147            6.3           2.5  Iris-virginica\n",
       "147  148            6.5           3.0  Iris-virginica\n",
       "148  149            6.2           3.4  Iris-virginica\n",
       "149  150            5.9           3.0  Iris-virginica\n",
       "\n",
       "[150 rows x 4 columns]"
      ]
     },
     "execution_count": 1,
     "metadata": {},
     "output_type": "execute_result"
    }
   ],
   "outputs_reference": "s3:deepnote-cell-outputs-production/5442d3c6-8f42-45af-aeec-1e5da54d04e0",
   "source": [
    "df_7 = _deepnote_execute_sql('SELECT * FROM Iris_lof;', 'SQL_09471B5A_652D_432F_B73D_65305A4929E6', audit_sql_comment='', sql_cache_mode='cache_disabled')\n",
    "df_7"
   ]
  },
  {
   "block_group": "c043ecba09284b2ba60cec5124d40228",
   "cell_type": "markdown",
   "metadata": {
    "cell_id": "07f87dc0910a41689bda8744e9bfc568",
    "deepnote_cell_type": "text-cell-p",
    "formattedRanges": []
   },
   "source": [
    "Proses pengambilan data tabel Iris_lof dari PostgreSQL untuk disimpan sebagai DataFrame."
   ]
  },
  {
   "block_group": "031c3363d9e74fe08e00199c4446ed7a",
   "cell_type": "code",
   "execution_count": null,
   "metadata": {
    "cell_id": "8f611afef85c4b0ba22b58a81a077739",
    "deepnote_cell_type": "sql",
    "deepnote_sql_source": "SELECT * FROM \"Iris_lof\";",
    "deepnote_table_loading": false,
    "deepnote_table_state": {
     "filters": [],
     "pageIndex": 0,
     "pageSize": 10,
     "sortBy": []
    },
    "deepnote_to_be_reexecuted": false,
    "deepnote_variable_name": "df_8",
    "execution_millis": 3797,
    "execution_start": 1711541901958,
    "source_hash": null,
    "sql_integration_id": "44ceac78-b576-4235-b8ae-3b3bd9a41b5d"
   },
   "outputs": [
    {
     "data": {
      "application/vnd.deepnote.sql-output-metadata+json": {
       "size_in_bytes": 3728,
       "status": "success_no_cache"
      }
     },
     "metadata": {},
     "output_type": "display_data"
    },
    {
     "data": {
      "application/vnd.deepnote.dataframe.v3+json": {
       "column_count": 3,
       "columns": [
        {
         "dtype": "int64",
         "name": "Id",
         "stats": {
          "histogram": [
           {
            "bin_end": 15.9,
            "bin_start": 1,
            "count": 15
           },
           {
            "bin_end": 30.8,
            "bin_start": 15.9,
            "count": 15
           },
           {
            "bin_end": 45.7,
            "bin_start": 30.8,
            "count": 15
           },
           {
            "bin_end": 60.6,
            "bin_start": 45.7,
            "count": 15
           },
           {
            "bin_end": 75.5,
            "bin_start": 60.6,
            "count": 15
           },
           {
            "bin_end": 90.4,
            "bin_start": 75.5,
            "count": 15
           },
           {
            "bin_end": 105.3,
            "bin_start": 90.4,
            "count": 15
           },
           {
            "bin_end": 120.2,
            "bin_start": 105.3,
            "count": 15
           },
           {
            "bin_end": 135.1,
            "bin_start": 120.2,
            "count": 15
           },
           {
            "bin_end": 150,
            "bin_start": 135.1,
            "count": 15
           }
          ],
          "max": "150",
          "min": "1",
          "nan_count": 0,
          "unique_count": 150
         }
        },
        {
         "dtype": "float64",
         "name": "PetalLengthCm",
         "stats": {
          "histogram": [
           {
            "bin_end": 3.1,
            "bin_start": 1,
            "count": 49
           },
           {
            "bin_end": 5.2,
            "bin_start": 3.1,
            "count": 62
           },
           {
            "bin_end": 7.300000000000001,
            "bin_start": 5.2,
            "count": 33
           },
           {
            "bin_end": 9.4,
            "bin_start": 7.300000000000001,
            "count": 0
           },
           {
            "bin_end": 11.5,
            "bin_start": 9.4,
            "count": 0
           },
           {
            "bin_end": 13.600000000000001,
            "bin_start": 11.5,
            "count": 0
           },
           {
            "bin_end": 15.700000000000001,
            "bin_start": 13.600000000000001,
            "count": 0
           },
           {
            "bin_end": 17.8,
            "bin_start": 15.700000000000001,
            "count": 3
           },
           {
            "bin_end": 19.900000000000002,
            "bin_start": 17.8,
            "count": 1
           },
           {
            "bin_end": 22,
            "bin_start": 19.900000000000002,
            "count": 2
           }
          ],
          "max": "22.0",
          "min": "1.0",
          "nan_count": 0,
          "unique_count": 48
         }
        },
        {
         "dtype": "float64",
         "name": "PetalWidthCm",
         "stats": {
          "histogram": [
           {
            "bin_end": 2.09,
            "bin_start": 0.1,
            "count": 122
           },
           {
            "bin_end": 4.079999999999999,
            "bin_start": 2.09,
            "count": 22
           },
           {
            "bin_end": 6.0699999999999985,
            "bin_start": 4.079999999999999,
            "count": 0
           },
           {
            "bin_end": 8.059999999999999,
            "bin_start": 6.0699999999999985,
            "count": 0
           },
           {
            "bin_end": 10.049999999999999,
            "bin_start": 8.059999999999999,
            "count": 0
           },
           {
            "bin_end": 12.039999999999997,
            "bin_start": 10.049999999999999,
            "count": 0
           },
           {
            "bin_end": 14.029999999999998,
            "bin_start": 12.039999999999997,
            "count": 0
           },
           {
            "bin_end": 16.02,
            "bin_start": 14.029999999999998,
            "count": 1
           },
           {
            "bin_end": 18.009999999999998,
            "bin_start": 16.02,
            "count": 2
           },
           {
            "bin_end": 20,
            "bin_start": 18.009999999999998,
            "count": 3
           }
          ],
          "max": "20.0",
          "min": "0.1",
          "nan_count": 0,
          "unique_count": 26
         }
        },
        {
         "dtype": "int64",
         "name": "_deepnote_index_column"
        }
       ],
       "row_count": 150,
       "rows": [
        {
         "Id": 1,
         "PetalLengthCm": 1.4,
         "PetalWidthCm": 0.2,
         "_deepnote_index_column": 0
        },
        {
         "Id": 2,
         "PetalLengthCm": 1.4,
         "PetalWidthCm": 0.2,
         "_deepnote_index_column": 1
        },
        {
         "Id": 3,
         "PetalLengthCm": 1.3,
         "PetalWidthCm": 0.2,
         "_deepnote_index_column": 2
        },
        {
         "Id": 4,
         "PetalLengthCm": 1.5,
         "PetalWidthCm": 0.2,
         "_deepnote_index_column": 3
        },
        {
         "Id": 5,
         "PetalLengthCm": 1.4,
         "PetalWidthCm": 0.2,
         "_deepnote_index_column": 4
        },
        {
         "Id": 6,
         "PetalLengthCm": 1.7,
         "PetalWidthCm": 0.4,
         "_deepnote_index_column": 5
        },
        {
         "Id": 7,
         "PetalLengthCm": 1.4,
         "PetalWidthCm": 0.3,
         "_deepnote_index_column": 6
        },
        {
         "Id": 8,
         "PetalLengthCm": 1.5,
         "PetalWidthCm": 0.2,
         "_deepnote_index_column": 7
        },
        {
         "Id": 9,
         "PetalLengthCm": 1.4,
         "PetalWidthCm": 0.2,
         "_deepnote_index_column": 8
        },
        {
         "Id": 11,
         "PetalLengthCm": 1.5,
         "PetalWidthCm": 0.2,
         "_deepnote_index_column": 9
        }
       ]
      },
      "text/html": [
       "<div>\n",
       "<style scoped>\n",
       "    .dataframe tbody tr th:only-of-type {\n",
       "        vertical-align: middle;\n",
       "    }\n",
       "\n",
       "    .dataframe tbody tr th {\n",
       "        vertical-align: top;\n",
       "    }\n",
       "\n",
       "    .dataframe thead th {\n",
       "        text-align: right;\n",
       "    }\n",
       "</style>\n",
       "<table border=\"1\" class=\"dataframe\">\n",
       "  <thead>\n",
       "    <tr style=\"text-align: right;\">\n",
       "      <th></th>\n",
       "      <th>Id</th>\n",
       "      <th>PetalLengthCm</th>\n",
       "      <th>PetalWidthCm</th>\n",
       "    </tr>\n",
       "  </thead>\n",
       "  <tbody>\n",
       "    <tr>\n",
       "      <th>0</th>\n",
       "      <td>1</td>\n",
       "      <td>1.4</td>\n",
       "      <td>0.2</td>\n",
       "    </tr>\n",
       "    <tr>\n",
       "      <th>1</th>\n",
       "      <td>2</td>\n",
       "      <td>1.4</td>\n",
       "      <td>0.2</td>\n",
       "    </tr>\n",
       "    <tr>\n",
       "      <th>2</th>\n",
       "      <td>3</td>\n",
       "      <td>1.3</td>\n",
       "      <td>0.2</td>\n",
       "    </tr>\n",
       "    <tr>\n",
       "      <th>3</th>\n",
       "      <td>4</td>\n",
       "      <td>1.5</td>\n",
       "      <td>0.2</td>\n",
       "    </tr>\n",
       "    <tr>\n",
       "      <th>4</th>\n",
       "      <td>5</td>\n",
       "      <td>1.4</td>\n",
       "      <td>0.2</td>\n",
       "    </tr>\n",
       "    <tr>\n",
       "      <th>...</th>\n",
       "      <td>...</td>\n",
       "      <td>...</td>\n",
       "      <td>...</td>\n",
       "    </tr>\n",
       "    <tr>\n",
       "      <th>145</th>\n",
       "      <td>20</td>\n",
       "      <td>16.0</td>\n",
       "      <td>18.0</td>\n",
       "    </tr>\n",
       "    <tr>\n",
       "      <th>146</th>\n",
       "      <td>60</td>\n",
       "      <td>17.0</td>\n",
       "      <td>19.0</td>\n",
       "    </tr>\n",
       "    <tr>\n",
       "      <th>147</th>\n",
       "      <td>70</td>\n",
       "      <td>22.0</td>\n",
       "      <td>18.0</td>\n",
       "    </tr>\n",
       "    <tr>\n",
       "      <th>148</th>\n",
       "      <td>110</td>\n",
       "      <td>16.0</td>\n",
       "      <td>20.0</td>\n",
       "    </tr>\n",
       "    <tr>\n",
       "      <th>149</th>\n",
       "      <td>120</td>\n",
       "      <td>18.0</td>\n",
       "      <td>19.0</td>\n",
       "    </tr>\n",
       "  </tbody>\n",
       "</table>\n",
       "<p>150 rows × 3 columns</p>\n",
       "</div>"
      ],
      "text/plain": [
       "      Id  PetalLengthCm  PetalWidthCm\n",
       "0      1            1.4           0.2\n",
       "1      2            1.4           0.2\n",
       "2      3            1.3           0.2\n",
       "3      4            1.5           0.2\n",
       "4      5            1.4           0.2\n",
       "..   ...            ...           ...\n",
       "145   20           16.0          18.0\n",
       "146   60           17.0          19.0\n",
       "147   70           22.0          18.0\n",
       "148  110           16.0          20.0\n",
       "149  120           18.0          19.0\n",
       "\n",
       "[150 rows x 3 columns]"
      ]
     },
     "execution_count": 28,
     "metadata": {},
     "output_type": "execute_result"
    }
   ],
   "outputs_reference": "s3:deepnote-cell-outputs-production/d5e286b1-c829-48a8-a27c-e93827578d23",
   "source": [
    "df_8 = _deepnote_execute_sql('SELECT * FROM \"Iris_lof\";', 'SQL_44CEAC78_B576_4235_B8AE_3B3BD9A41B5D', audit_sql_comment='', sql_cache_mode='cache_disabled')\n",
    "df_8"
   ]
  },
  {
   "block_group": "5a8a98b1f2f8427d91654d83292cbadc",
   "cell_type": "markdown",
   "metadata": {
    "cell_id": "2d4bdcccb6874eb285d875368e7e2b28",
    "deepnote_cell_type": "text-cell-p",
    "formattedRanges": []
   },
   "source": [
    "Impor modul-modul yang diperlukan yaitu NumPy dan Scikit Learn. NumPy digunakan untuk manipulasi array dan operasi matematika, sementara LocalOutlierFactor adalah model yang digunakan untuk menghitung faktor outlier lokal."
   ]
  },
  {
   "block_group": "4acb06c7c5124e6bb2bef74b40597786",
   "cell_type": "code",
   "execution_count": null,
   "metadata": {
    "cell_id": "1ca7c5ca2c144f87b475fdebbc073957",
    "deepnote_cell_type": "code",
    "deepnote_to_be_reexecuted": false,
    "execution_millis": 424,
    "execution_start": 1711542927417,
    "source_hash": null
   },
   "outputs": [],
   "outputs_reference": null,
   "source": [
    "import numpy as np\n",
    "from sklearn.neighbors import LocalOutlierFactor"
   ]
  },
  {
   "block_group": "6dbab2a4d3ca49abad87cfac2f38f466",
   "cell_type": "markdown",
   "metadata": {
    "cell_id": "b6b30917992242e0a0fed379638eac97",
    "deepnote_cell_type": "text-cell-p",
    "formattedRanges": []
   },
   "source": [
    "DataFrame df_7 dan df_8 digabungkan berdasarkan kolom \"Id\". Kemudian, kolom-kolom yang diinginkan dipilih dari hasil gabungan dan diurutkan. Akhirnya, ditampilkan semua data yang diperoleh dari hasil pengabungan DataFrame."
   ]
  },
  {
   "block_group": "0adc7d0dad104ab4830155fa33823448",
   "cell_type": "code",
   "execution_count": null,
   "metadata": {
    "cell_id": "2e5fcab0c9dc44a0a919b215f8d18f2e",
    "deepnote_cell_type": "code",
    "deepnote_to_be_reexecuted": false,
    "execution_millis": 249,
    "execution_start": 1711542930730,
    "source_hash": null
   },
   "outputs": [
    {
     "data": {
      "application/vnd.deepnote.dataframe.v3+json": {
       "column_count": 6,
       "columns": [
        {
         "dtype": "int64",
         "name": "Id",
         "stats": {
          "histogram": [
           {
            "bin_end": 15.9,
            "bin_start": 1,
            "count": 15
           },
           {
            "bin_end": 30.8,
            "bin_start": 15.9,
            "count": 15
           },
           {
            "bin_end": 45.7,
            "bin_start": 30.8,
            "count": 15
           },
           {
            "bin_end": 60.6,
            "bin_start": 45.7,
            "count": 15
           },
           {
            "bin_end": 75.5,
            "bin_start": 60.6,
            "count": 15
           },
           {
            "bin_end": 90.4,
            "bin_start": 75.5,
            "count": 15
           },
           {
            "bin_end": 105.3,
            "bin_start": 90.4,
            "count": 15
           },
           {
            "bin_end": 120.2,
            "bin_start": 105.3,
            "count": 15
           },
           {
            "bin_end": 135.1,
            "bin_start": 120.2,
            "count": 15
           },
           {
            "bin_end": 150,
            "bin_start": 135.1,
            "count": 15
           }
          ],
          "max": "150",
          "min": "1",
          "nan_count": 0,
          "unique_count": 150
         }
        },
        {
         "dtype": "float64",
         "name": "SepalLengthCm",
         "stats": {
          "histogram": [
           {
            "bin_end": 5.97,
            "bin_start": 4.3,
            "count": 79
           },
           {
            "bin_end": 7.64,
            "bin_start": 5.97,
            "count": 60
           },
           {
            "bin_end": 9.309999999999999,
            "bin_start": 7.64,
            "count": 5
           },
           {
            "bin_end": 10.98,
            "bin_start": 9.309999999999999,
            "count": 0
           },
           {
            "bin_end": 12.649999999999999,
            "bin_start": 10.98,
            "count": 0
           },
           {
            "bin_end": 14.32,
            "bin_start": 12.649999999999999,
            "count": 0
           },
           {
            "bin_end": 15.989999999999998,
            "bin_start": 14.32,
            "count": 1
           },
           {
            "bin_end": 17.66,
            "bin_start": 15.989999999999998,
            "count": 1
           },
           {
            "bin_end": 19.33,
            "bin_start": 17.66,
            "count": 2
           },
           {
            "bin_end": 21,
            "bin_start": 19.33,
            "count": 2
           }
          ],
          "max": "21.0",
          "min": "4.3",
          "nan_count": 0,
          "unique_count": 41
         }
        },
        {
         "dtype": "float64",
         "name": "SepalWidthCm",
         "stats": {
          "histogram": [
           {
            "bin_end": 3.8,
            "bin_start": 2,
            "count": 133
           },
           {
            "bin_end": 5.6,
            "bin_start": 3.8,
            "count": 11
           },
           {
            "bin_end": 7.4,
            "bin_start": 5.6,
            "count": 0
           },
           {
            "bin_end": 9.2,
            "bin_start": 7.4,
            "count": 0
           },
           {
            "bin_end": 11,
            "bin_start": 9.2,
            "count": 0
           },
           {
            "bin_end": 12.8,
            "bin_start": 11,
            "count": 0
           },
           {
            "bin_end": 14.6,
            "bin_start": 12.8,
            "count": 0
           },
           {
            "bin_end": 16.4,
            "bin_start": 14.6,
            "count": 1
           },
           {
            "bin_end": 18.2,
            "bin_start": 16.4,
            "count": 4
           },
           {
            "bin_end": 20,
            "bin_start": 18.2,
            "count": 1
           }
          ],
          "max": "20.0",
          "min": "2.0",
          "nan_count": 0,
          "unique_count": 27
         }
        },
        {
         "dtype": "float64",
         "name": "PetalLengthCm",
         "stats": {
          "histogram": [
           {
            "bin_end": 3.1,
            "bin_start": 1,
            "count": 49
           },
           {
            "bin_end": 5.2,
            "bin_start": 3.1,
            "count": 62
           },
           {
            "bin_end": 7.300000000000001,
            "bin_start": 5.2,
            "count": 33
           },
           {
            "bin_end": 9.4,
            "bin_start": 7.300000000000001,
            "count": 0
           },
           {
            "bin_end": 11.5,
            "bin_start": 9.4,
            "count": 0
           },
           {
            "bin_end": 13.600000000000001,
            "bin_start": 11.5,
            "count": 0
           },
           {
            "bin_end": 15.700000000000001,
            "bin_start": 13.600000000000001,
            "count": 0
           },
           {
            "bin_end": 17.8,
            "bin_start": 15.700000000000001,
            "count": 3
           },
           {
            "bin_end": 19.900000000000002,
            "bin_start": 17.8,
            "count": 1
           },
           {
            "bin_end": 22,
            "bin_start": 19.900000000000002,
            "count": 2
           }
          ],
          "max": "22.0",
          "min": "1.0",
          "nan_count": 0,
          "unique_count": 48
         }
        },
        {
         "dtype": "float64",
         "name": "PetalWidthCm",
         "stats": {
          "histogram": [
           {
            "bin_end": 2.09,
            "bin_start": 0.1,
            "count": 122
           },
           {
            "bin_end": 4.079999999999999,
            "bin_start": 2.09,
            "count": 22
           },
           {
            "bin_end": 6.0699999999999985,
            "bin_start": 4.079999999999999,
            "count": 0
           },
           {
            "bin_end": 8.059999999999999,
            "bin_start": 6.0699999999999985,
            "count": 0
           },
           {
            "bin_end": 10.049999999999999,
            "bin_start": 8.059999999999999,
            "count": 0
           },
           {
            "bin_end": 12.039999999999997,
            "bin_start": 10.049999999999999,
            "count": 0
           },
           {
            "bin_end": 14.029999999999998,
            "bin_start": 12.039999999999997,
            "count": 0
           },
           {
            "bin_end": 16.02,
            "bin_start": 14.029999999999998,
            "count": 1
           },
           {
            "bin_end": 18.009999999999998,
            "bin_start": 16.02,
            "count": 2
           },
           {
            "bin_end": 20,
            "bin_start": 18.009999999999998,
            "count": 3
           }
          ],
          "max": "20.0",
          "min": "0.1",
          "nan_count": 0,
          "unique_count": 26
         }
        },
        {
         "dtype": "object",
         "name": "Species",
         "stats": {
          "categories": [
           {
            "count": 50,
            "name": "Iris-setosa"
           },
           {
            "count": 50,
            "name": "Iris-versicolor"
           },
           {
            "count": 50,
            "name": "Iris-virginica"
           }
          ],
          "nan_count": 0,
          "unique_count": 3
         }
        },
        {
         "dtype": "int64",
         "name": "_deepnote_index_column"
        }
       ],
       "row_count": 150,
       "rows": [
        {
         "Id": 1,
         "PetalLengthCm": 1.4,
         "PetalWidthCm": 0.2,
         "SepalLengthCm": 5.1,
         "SepalWidthCm": 3.5,
         "Species": "Iris-setosa",
         "_deepnote_index_column": 0
        },
        {
         "Id": 2,
         "PetalLengthCm": 1.4,
         "PetalWidthCm": 0.2,
         "SepalLengthCm": 4.9,
         "SepalWidthCm": 3,
         "Species": "Iris-setosa",
         "_deepnote_index_column": 1
        },
        {
         "Id": 3,
         "PetalLengthCm": 1.3,
         "PetalWidthCm": 0.2,
         "SepalLengthCm": 4.7,
         "SepalWidthCm": 3.2,
         "Species": "Iris-setosa",
         "_deepnote_index_column": 2
        },
        {
         "Id": 4,
         "PetalLengthCm": 1.5,
         "PetalWidthCm": 0.2,
         "SepalLengthCm": 4.6,
         "SepalWidthCm": 3.1,
         "Species": "Iris-setosa",
         "_deepnote_index_column": 3
        },
        {
         "Id": 5,
         "PetalLengthCm": 1.4,
         "PetalWidthCm": 0.2,
         "SepalLengthCm": 5,
         "SepalWidthCm": 3.6,
         "Species": "Iris-setosa",
         "_deepnote_index_column": 4
        },
        {
         "Id": 6,
         "PetalLengthCm": 1.7,
         "PetalWidthCm": 0.4,
         "SepalLengthCm": 5.4,
         "SepalWidthCm": 3.9,
         "Species": "Iris-setosa",
         "_deepnote_index_column": 5
        },
        {
         "Id": 7,
         "PetalLengthCm": 1.4,
         "PetalWidthCm": 0.3,
         "SepalLengthCm": 4.6,
         "SepalWidthCm": 3.4,
         "Species": "Iris-setosa",
         "_deepnote_index_column": 6
        },
        {
         "Id": 8,
         "PetalLengthCm": 1.5,
         "PetalWidthCm": 0.2,
         "SepalLengthCm": 5,
         "SepalWidthCm": 3.4,
         "Species": "Iris-setosa",
         "_deepnote_index_column": 7
        },
        {
         "Id": 9,
         "PetalLengthCm": 1.4,
         "PetalWidthCm": 0.2,
         "SepalLengthCm": 4.4,
         "SepalWidthCm": 2.9,
         "Species": "Iris-setosa",
         "_deepnote_index_column": 8
        },
        {
         "Id": 10,
         "PetalLengthCm": 21,
         "PetalWidthCm": 15,
         "SepalLengthCm": 15,
         "SepalWidthCm": 18,
         "Species": "Iris-setosa",
         "_deepnote_index_column": 9
        }
       ]
      },
      "text/html": [
       "<div>\n",
       "<style scoped>\n",
       "    .dataframe tbody tr th:only-of-type {\n",
       "        vertical-align: middle;\n",
       "    }\n",
       "\n",
       "    .dataframe tbody tr th {\n",
       "        vertical-align: top;\n",
       "    }\n",
       "\n",
       "    .dataframe thead th {\n",
       "        text-align: right;\n",
       "    }\n",
       "</style>\n",
       "<table border=\"1\" class=\"dataframe\">\n",
       "  <thead>\n",
       "    <tr style=\"text-align: right;\">\n",
       "      <th></th>\n",
       "      <th>Id</th>\n",
       "      <th>SepalLengthCm</th>\n",
       "      <th>SepalWidthCm</th>\n",
       "      <th>PetalLengthCm</th>\n",
       "      <th>PetalWidthCm</th>\n",
       "      <th>Species</th>\n",
       "    </tr>\n",
       "  </thead>\n",
       "  <tbody>\n",
       "    <tr>\n",
       "      <th>0</th>\n",
       "      <td>1</td>\n",
       "      <td>5.1</td>\n",
       "      <td>3.5</td>\n",
       "      <td>1.4</td>\n",
       "      <td>0.2</td>\n",
       "      <td>Iris-setosa</td>\n",
       "    </tr>\n",
       "    <tr>\n",
       "      <th>1</th>\n",
       "      <td>2</td>\n",
       "      <td>4.9</td>\n",
       "      <td>3.0</td>\n",
       "      <td>1.4</td>\n",
       "      <td>0.2</td>\n",
       "      <td>Iris-setosa</td>\n",
       "    </tr>\n",
       "    <tr>\n",
       "      <th>2</th>\n",
       "      <td>3</td>\n",
       "      <td>4.7</td>\n",
       "      <td>3.2</td>\n",
       "      <td>1.3</td>\n",
       "      <td>0.2</td>\n",
       "      <td>Iris-setosa</td>\n",
       "    </tr>\n",
       "    <tr>\n",
       "      <th>3</th>\n",
       "      <td>4</td>\n",
       "      <td>4.6</td>\n",
       "      <td>3.1</td>\n",
       "      <td>1.5</td>\n",
       "      <td>0.2</td>\n",
       "      <td>Iris-setosa</td>\n",
       "    </tr>\n",
       "    <tr>\n",
       "      <th>4</th>\n",
       "      <td>5</td>\n",
       "      <td>5.0</td>\n",
       "      <td>3.6</td>\n",
       "      <td>1.4</td>\n",
       "      <td>0.2</td>\n",
       "      <td>Iris-setosa</td>\n",
       "    </tr>\n",
       "    <tr>\n",
       "      <th>...</th>\n",
       "      <td>...</td>\n",
       "      <td>...</td>\n",
       "      <td>...</td>\n",
       "      <td>...</td>\n",
       "      <td>...</td>\n",
       "      <td>...</td>\n",
       "    </tr>\n",
       "    <tr>\n",
       "      <th>145</th>\n",
       "      <td>146</td>\n",
       "      <td>6.7</td>\n",
       "      <td>3.0</td>\n",
       "      <td>5.2</td>\n",
       "      <td>2.3</td>\n",
       "      <td>Iris-virginica</td>\n",
       "    </tr>\n",
       "    <tr>\n",
       "      <th>146</th>\n",
       "      <td>147</td>\n",
       "      <td>6.3</td>\n",
       "      <td>2.5</td>\n",
       "      <td>5.0</td>\n",
       "      <td>1.9</td>\n",
       "      <td>Iris-virginica</td>\n",
       "    </tr>\n",
       "    <tr>\n",
       "      <th>147</th>\n",
       "      <td>148</td>\n",
       "      <td>6.5</td>\n",
       "      <td>3.0</td>\n",
       "      <td>5.2</td>\n",
       "      <td>2.0</td>\n",
       "      <td>Iris-virginica</td>\n",
       "    </tr>\n",
       "    <tr>\n",
       "      <th>148</th>\n",
       "      <td>149</td>\n",
       "      <td>6.2</td>\n",
       "      <td>3.4</td>\n",
       "      <td>5.4</td>\n",
       "      <td>2.3</td>\n",
       "      <td>Iris-virginica</td>\n",
       "    </tr>\n",
       "    <tr>\n",
       "      <th>149</th>\n",
       "      <td>150</td>\n",
       "      <td>5.9</td>\n",
       "      <td>3.0</td>\n",
       "      <td>5.1</td>\n",
       "      <td>1.8</td>\n",
       "      <td>Iris-virginica</td>\n",
       "    </tr>\n",
       "  </tbody>\n",
       "</table>\n",
       "<p>150 rows × 6 columns</p>\n",
       "</div>"
      ],
      "text/plain": [
       "      Id  SepalLengthCm  SepalWidthCm  PetalLengthCm  PetalWidthCm  \\\n",
       "0      1            5.1           3.5            1.4           0.2   \n",
       "1      2            4.9           3.0            1.4           0.2   \n",
       "2      3            4.7           3.2            1.3           0.2   \n",
       "3      4            4.6           3.1            1.5           0.2   \n",
       "4      5            5.0           3.6            1.4           0.2   \n",
       "..   ...            ...           ...            ...           ...   \n",
       "145  146            6.7           3.0            5.2           2.3   \n",
       "146  147            6.3           2.5            5.0           1.9   \n",
       "147  148            6.5           3.0            5.2           2.0   \n",
       "148  149            6.2           3.4            5.4           2.3   \n",
       "149  150            5.9           3.0            5.1           1.8   \n",
       "\n",
       "            Species  \n",
       "0       Iris-setosa  \n",
       "1       Iris-setosa  \n",
       "2       Iris-setosa  \n",
       "3       Iris-setosa  \n",
       "4       Iris-setosa  \n",
       "..              ...  \n",
       "145  Iris-virginica  \n",
       "146  Iris-virginica  \n",
       "147  Iris-virginica  \n",
       "148  Iris-virginica  \n",
       "149  Iris-virginica  \n",
       "\n",
       "[150 rows x 6 columns]"
      ]
     },
     "execution_count": 6,
     "metadata": {},
     "output_type": "execute_result"
    }
   ],
   "outputs_reference": "s3:deepnote-cell-outputs-production/2338eff1-4c91-400f-8aaf-8377cdfcb7f7",
   "source": [
    "df_iris_lof = pd.merge(df_7, df_8, on='Id')\n",
    "\n",
    "desired_columns = [\"Id\", \"SepalLengthCm\", \"SepalWidthCm\", \"PetalLengthCm\", \"PetalWidthCm\", \"Species\"]\n",
    "df_iris_lof = df_iris_lof.reindex(columns=desired_columns)\n",
    "\n",
    "jumlah_baris = df_iris_lof.shape[0]\n",
    "df_iris_lof.head(jumlah_baris)"
   ]
  },
  {
   "block_group": "2e99ad990749414396e406d7b8370a63",
   "cell_type": "markdown",
   "metadata": {
    "cell_id": "719d03f065f9455ca117b7fa4e50b922",
    "deepnote_cell_type": "text-cell-p",
    "formattedRanges": []
   },
   "source": [
    "Kolom-kolom yang akan digunakan untuk perhitungan LOF dipilih. Kemudian, array numpy dari DataFrame dengan kolom-kolom yang dipilih dibuat. Model LOF dibuat dengan parameter n_neighbors dan contamination yang ditentukan, kemudian dilakukan perhitungan LOF pada data. Skor outlier dihitung dan ditambahkan ke DataFrame sebagai kolom baru."
   ]
  },
  {
   "block_group": "184c66a64e1a4380a241efc4da347877",
   "cell_type": "code",
   "execution_count": null,
   "metadata": {
    "cell_id": "0f3d672dfe29461e93acc79db598ddd9",
    "deepnote_cell_type": "code",
    "deepnote_to_be_reexecuted": false,
    "execution_millis": 37,
    "execution_start": 1711543993213,
    "source_hash": null
   },
   "outputs": [],
   "outputs_reference": null,
   "source": [
    "columns_for_lof = ['SepalLengthCm', 'SepalWidthCm', 'PetalLengthCm', 'PetalWidthCm']\n",
    "\n",
    "iris_data = np.array(df_iris_lof[columns_for_lof])\n",
    "\n",
    "lof = LocalOutlierFactor(n_neighbors=15, contamination=0.04)\n",
    "outlier_scores = lof.fit_predict(iris_data)\n",
    "df_iris_lof['LOF_Score'] = -lof.negative_outlier_factor_"
   ]
  },
  {
   "block_group": "f0e8b2cedfcf47ed83bc5fdc8177b816",
   "cell_type": "markdown",
   "metadata": {
    "cell_id": "e4510b9a88eb42a4966fe84bd280bb69",
    "deepnote_cell_type": "text-cell-p",
    "formattedRanges": []
   },
   "source": [
    "Setiap baris diiterasi, dan LOF score dan status outlier (Ya/Tidak) dicetak sesuai dengan nilai outlier_scores yang dihasilkan sebelumnya."
   ]
  },
  {
   "block_group": "ebb5e968196d43c3b76745b046a37da7",
   "cell_type": "code",
   "execution_count": null,
   "metadata": {
    "cell_id": "dd7cbab8ad7e4054aec5834eb0000291",
    "deepnote_cell_type": "code",
    "deepnote_to_be_reexecuted": false,
    "execution_millis": 219,
    "execution_start": 1711543995758,
    "source_hash": null
   },
   "outputs": [
    {
     "name": "stdout",
     "output_type": "stream",
     "text": [
      "LOF scores:\n",
      "Data ke-1, LOF Score: 0.96, Outlier: No\n",
      "Data ke-2, LOF Score: 0.99, Outlier: No\n",
      "Data ke-3, LOF Score: 1.01, Outlier: No\n",
      "Data ke-4, LOF Score: 1.02, Outlier: No\n",
      "Data ke-5, LOF Score: 0.95, Outlier: No\n",
      "Data ke-6, LOF Score: 1.14, Outlier: No\n",
      "Data ke-7, LOF Score: 1.06, Outlier: No\n",
      "Data ke-8, LOF Score: 0.96, Outlier: No\n",
      "Data ke-9, LOF Score: 1.17, Outlier: No\n",
      "Data ke-10, LOF Score: 17.47, Outlier: Yes\n",
      "Data ke-11, LOF Score: 1.02, Outlier: No\n",
      "Data ke-12, LOF Score: 0.97, Outlier: No\n",
      "Data ke-13, LOF Score: 1.03, Outlier: No\n",
      "Data ke-14, LOF Score: 1.37, Outlier: No\n",
      "Data ke-15, LOF Score: 1.49, Outlier: No\n",
      "Data ke-16, LOF Score: 1.64, Outlier: No\n",
      "Data ke-17, LOF Score: 1.18, Outlier: No\n",
      "Data ke-18, LOF Score: 0.99, Outlier: No\n",
      "Data ke-19, LOF Score: 1.23, Outlier: No\n",
      "Data ke-20, LOF Score: 18.79, Outlier: Yes\n",
      "Data ke-21, LOF Score: 1.06, Outlier: No\n",
      "Data ke-22, LOF Score: 0.99, Outlier: No\n",
      "Data ke-23, LOF Score: 1.40, Outlier: No\n",
      "Data ke-24, LOF Score: 1.07, Outlier: No\n",
      "Data ke-25, LOF Score: 1.16, Outlier: No\n",
      "Data ke-26, LOF Score: 1.02, Outlier: No\n",
      "Data ke-27, LOF Score: 0.97, Outlier: No\n",
      "Data ke-28, LOF Score: 0.98, Outlier: No\n",
      "Data ke-29, LOF Score: 1.00, Outlier: No\n",
      "Data ke-30, LOF Score: 0.99, Outlier: No\n",
      "Data ke-31, LOF Score: 0.97, Outlier: No\n",
      "Data ke-32, LOF Score: 1.01, Outlier: No\n",
      "Data ke-33, LOF Score: 1.24, Outlier: No\n",
      "Data ke-34, LOF Score: 1.39, Outlier: No\n",
      "Data ke-35, LOF Score: 0.97, Outlier: No\n",
      "Data ke-36, LOF Score: 0.97, Outlier: No\n",
      "Data ke-37, LOF Score: 1.09, Outlier: No\n",
      "Data ke-38, LOF Score: 0.97, Outlier: No\n",
      "Data ke-39, LOF Score: 1.14, Outlier: No\n",
      "Data ke-40, LOF Score: 0.97, Outlier: No\n",
      "Data ke-41, LOF Score: 0.97, Outlier: No\n",
      "Data ke-42, LOF Score: 1.87, Outlier: No\n",
      "Data ke-43, LOF Score: 1.14, Outlier: No\n",
      "Data ke-44, LOF Score: 1.10, Outlier: No\n",
      "Data ke-45, LOF Score: 1.21, Outlier: No\n",
      "Data ke-46, LOF Score: 1.02, Outlier: No\n",
      "Data ke-47, LOF Score: 1.05, Outlier: No\n",
      "Data ke-48, LOF Score: 1.02, Outlier: No\n",
      "Data ke-49, LOF Score: 1.02, Outlier: No\n",
      "Data ke-50, LOF Score: 0.97, Outlier: No\n",
      "Data ke-51, LOF Score: 1.19, Outlier: No\n",
      "Data ke-52, LOF Score: 1.00, Outlier: No\n",
      "Data ke-53, LOF Score: 1.10, Outlier: No\n",
      "Data ke-54, LOF Score: 1.05, Outlier: No\n",
      "Data ke-55, LOF Score: 0.99, Outlier: No\n",
      "Data ke-56, LOF Score: 0.97, Outlier: No\n",
      "Data ke-57, LOF Score: 0.98, Outlier: No\n",
      "Data ke-58, LOF Score: 1.55, Outlier: No\n",
      "Data ke-59, LOF Score: 1.03, Outlier: No\n",
      "Data ke-60, LOF Score: 19.18, Outlier: Yes\n",
      "Data ke-61, LOF Score: 1.50, Outlier: No\n",
      "Data ke-62, LOF Score: 0.95, Outlier: No\n",
      "Data ke-63, LOF Score: 1.10, Outlier: No\n",
      "Data ke-64, LOF Score: 0.96, Outlier: No\n",
      "Data ke-65, LOF Score: 1.03, Outlier: No\n",
      "Data ke-66, LOF Score: 1.07, Outlier: No\n",
      "Data ke-67, LOF Score: 0.99, Outlier: No\n",
      "Data ke-68, LOF Score: 0.98, Outlier: No\n",
      "Data ke-69, LOF Score: 1.23, Outlier: No\n",
      "Data ke-70, LOF Score: 17.77, Outlier: Yes\n",
      "Data ke-71, LOF Score: 1.01, Outlier: No\n",
      "Data ke-72, LOF Score: 0.97, Outlier: No\n",
      "Data ke-73, LOF Score: 1.00, Outlier: No\n",
      "Data ke-74, LOF Score: 0.98, Outlier: No\n",
      "Data ke-75, LOF Score: 1.00, Outlier: No\n",
      "Data ke-76, LOF Score: 1.05, Outlier: No\n",
      "Data ke-77, LOF Score: 1.07, Outlier: No\n",
      "Data ke-78, LOF Score: 1.01, Outlier: No\n",
      "Data ke-79, LOF Score: 0.97, Outlier: No\n",
      "Data ke-80, LOF Score: 1.15, Outlier: No\n",
      "Data ke-81, LOF Score: 1.07, Outlier: No\n",
      "Data ke-82, LOF Score: 1.13, Outlier: No\n",
      "Data ke-83, LOF Score: 0.99, Outlier: No\n",
      "Data ke-84, LOF Score: 1.02, Outlier: No\n",
      "Data ke-85, LOF Score: 1.05, Outlier: No\n",
      "Data ke-86, LOF Score: 1.06, Outlier: No\n",
      "Data ke-87, LOF Score: 1.06, Outlier: No\n",
      "Data ke-88, LOF Score: 1.15, Outlier: No\n",
      "Data ke-89, LOF Score: 0.99, Outlier: No\n",
      "Data ke-90, LOF Score: 0.99, Outlier: No\n",
      "Data ke-91, LOF Score: 0.99, Outlier: No\n",
      "Data ke-92, LOF Score: 0.97, Outlier: No\n",
      "Data ke-93, LOF Score: 1.00, Outlier: No\n",
      "Data ke-94, LOF Score: 1.48, Outlier: No\n",
      "Data ke-95, LOF Score: 0.99, Outlier: No\n",
      "Data ke-96, LOF Score: 0.97, Outlier: No\n",
      "Data ke-97, LOF Score: 0.98, Outlier: No\n",
      "Data ke-98, LOF Score: 0.97, Outlier: No\n",
      "Data ke-99, LOF Score: 1.61, Outlier: No\n",
      "Data ke-100, LOF Score: 0.98, Outlier: No\n",
      "Data ke-101, LOF Score: 1.15, Outlier: No\n",
      "Data ke-102, LOF Score: 1.03, Outlier: No\n",
      "Data ke-103, LOF Score: 1.05, Outlier: No\n",
      "Data ke-104, LOF Score: 1.02, Outlier: No\n",
      "Data ke-105, LOF Score: 1.01, Outlier: No\n",
      "Data ke-106, LOF Score: 1.38, Outlier: No\n",
      "Data ke-107, LOF Score: 1.54, Outlier: No\n",
      "Data ke-108, LOF Score: 1.29, Outlier: No\n",
      "Data ke-109, LOF Score: 1.12, Outlier: No\n",
      "Data ke-110, LOF Score: 19.12, Outlier: Yes\n",
      "Data ke-111, LOF Score: 0.99, Outlier: No\n",
      "Data ke-112, LOF Score: 0.98, Outlier: No\n",
      "Data ke-113, LOF Score: 1.00, Outlier: No\n",
      "Data ke-114, LOF Score: 1.13, Outlier: No\n",
      "Data ke-115, LOF Score: 1.20, Outlier: No\n",
      "Data ke-116, LOF Score: 1.00, Outlier: No\n",
      "Data ke-117, LOF Score: 0.96, Outlier: No\n",
      "Data ke-118, LOF Score: 1.56, Outlier: No\n",
      "Data ke-119, LOF Score: 1.57, Outlier: No\n",
      "Data ke-120, LOF Score: 18.76, Outlier: Yes\n",
      "Data ke-121, LOF Score: 1.01, Outlier: No\n",
      "Data ke-122, LOF Score: 1.11, Outlier: No\n",
      "Data ke-123, LOF Score: 1.45, Outlier: No\n",
      "Data ke-124, LOF Score: 0.96, Outlier: No\n",
      "Data ke-125, LOF Score: 0.98, Outlier: No\n",
      "Data ke-126, LOF Score: 1.16, Outlier: No\n",
      "Data ke-127, LOF Score: 0.97, Outlier: No\n",
      "Data ke-128, LOF Score: 0.96, Outlier: No\n",
      "Data ke-129, LOF Score: 0.98, Outlier: No\n",
      "Data ke-130, LOF Score: 1.19, Outlier: No\n",
      "Data ke-131, LOF Score: 1.26, Outlier: No\n",
      "Data ke-132, LOF Score: 1.54, Outlier: No\n",
      "Data ke-133, LOF Score: 0.98, Outlier: No\n",
      "Data ke-134, LOF Score: 0.98, Outlier: No\n",
      "Data ke-135, LOF Score: 1.17, Outlier: No\n",
      "Data ke-136, LOF Score: 1.31, Outlier: No\n",
      "Data ke-137, LOF Score: 1.05, Outlier: No\n",
      "Data ke-138, LOF Score: 0.96, Outlier: No\n",
      "Data ke-139, LOF Score: 0.99, Outlier: No\n",
      "Data ke-140, LOF Score: 0.99, Outlier: No\n",
      "Data ke-141, LOF Score: 1.00, Outlier: No\n",
      "Data ke-142, LOF Score: 1.04, Outlier: No\n",
      "Data ke-143, LOF Score: 1.03, Outlier: No\n",
      "Data ke-144, LOF Score: 1.03, Outlier: No\n",
      "Data ke-145, LOF Score: 1.02, Outlier: No\n",
      "Data ke-146, LOF Score: 0.98, Outlier: No\n",
      "Data ke-147, LOF Score: 1.01, Outlier: No\n",
      "Data ke-148, LOF Score: 0.98, Outlier: No\n",
      "Data ke-149, LOF Score: 1.05, Outlier: No\n",
      "Data ke-150, LOF Score: 1.03, Outlier: No\n"
     ]
    }
   ],
   "outputs_reference": "s3:deepnote-cell-outputs-production/d5b6de18-e5a4-4556-9a9a-1c36143e588c",
   "source": [
    "print(\"LOF scores:\")\n",
    "for i, row in df_iris_lof.iterrows():\n",
    "    print(f\"Data ke-{i+1}, LOF Score: {row['LOF_Score']:.2f}, Outlier: {'Yes' if outlier_scores[i] == -1 else 'No'}\")"
   ]
  },
  {
   "block_group": "64dba14bc52d4d348d433a5268d071f3",
   "cell_type": "markdown",
   "metadata": {
    "cell_id": "6d16124942c84167a40f5a6f75367bd7",
    "deepnote_cell_type": "text-cell-p",
    "formattedRanges": []
   },
   "source": [
    "Mencetak baris data yang teridentifikasi sebagai outlier (dengan skor LOF negatif)."
   ]
  },
  {
   "block_group": "360a1e8f166b4ffb82da478e83b4580b",
   "cell_type": "code",
   "execution_count": null,
   "metadata": {
    "cell_id": "0e2560c4a9ad4e35b60f07e4e67fb686",
    "deepnote_cell_type": "code",
    "deepnote_to_be_reexecuted": false,
    "execution_millis": 113,
    "execution_start": 1711544070981,
    "source_hash": null
   },
   "outputs": [
    {
     "name": "stdout",
     "output_type": "stream",
     "text": [
      "Outlier data:\n",
      "Data ke-10, LOF Score: 17.47, Outlier: Yes\n",
      "Data ke-20, LOF Score: 18.79, Outlier: Yes\n",
      "Data ke-60, LOF Score: 19.18, Outlier: Yes\n",
      "Data ke-70, LOF Score: 17.77, Outlier: Yes\n",
      "Data ke-110, LOF Score: 19.12, Outlier: Yes\n",
      "Data ke-120, LOF Score: 18.76, Outlier: Yes\n"
     ]
    }
   ],
   "outputs_reference": "dbtable:cell_outputs/70dd7662-0ef7-4e63-b8b8-957f03196fc2",
   "source": [
    "print(\"Outlier data:\")\n",
    "for i, row in df_iris_lof.iterrows():\n",
    "    if outlier_scores[i] == -1:\n",
    "        print(f\"Data ke-{i+1}, LOF Score: {row['LOF_Score']:.2f}, Outlier: Yes\")"
   ]
  },
  {
   "block_group": "6c96fbfb78e746c5b2b90c7e5daef2c3",
   "cell_type": "markdown",
   "metadata": {
    "cell_id": "cae937b72c3b424ebe70805f7daa4eff",
    "deepnote_cell_type": "text-cell-p",
    "formattedRanges": []
   },
   "source": [
    "Berdasarkan output yang diberikan, dapat disimpulkan bahwa baris data ke-10, ke-20, ke-60, ke-70, ke-110, dan ke-120 merupakan outlier berdasarkan perhitungan Local Outlier Factor (LOF). Hal ini ditunjukkan oleh skor LOF yang tinggi untuk setiap baris data tersebut, dengan nilai LOF Score antara 17.47 hingga 19.18. Oleh karena itu, baris data tersebut dapat dianggap sebagai anomali dalam dataset."
   ]
  },
  {
   "block_group": "a1ddfb3c83b94217a299a436790a2d69",
   "cell_type": "markdown",
   "metadata": {
    "cell_id": "f472448c2c1f4ef49009ebf07b385ab3",
    "deepnote_cell_type": "text-cell-h1",
    "formattedRanges": []
   },
   "source": [
    "# Data Modeling"
   ]
  },
  {
   "block_group": "ff2775fa5eed4dfdb6f537857e014c5e",
   "cell_type": "markdown",
   "metadata": {
    "cell_id": "424dffc0d9394c54b8a1f8f671084fe1",
    "deepnote_cell_type": "text-cell-h2",
    "formattedRanges": []
   },
   "source": [
    "## Mengitung Manual Naive Bayes"
   ]
  },
  {
   "block_group": "a94f90d24d654bed978a54606a938a22",
   "cell_type": "markdown",
   "metadata": {
    "cell_id": "6727f44bc7764aa2a746e49b93665202",
    "deepnote_cell_type": "text-cell-p",
    "formattedRanges": []
   },
   "source": [
    "Langkah-langkah dalam menghitung Gaussian Naive Bayes:"
   ]
  },
  {
   "block_group": "78b8ac7d5c2b4625a5ce783ed73be226",
   "cell_type": "markdown",
   "metadata": {
    "cell_id": "aeb97a1665a040e3ae57bf80dcacb0c5",
    "deepnote_cell_type": "text-cell-p",
    "formattedRanges": []
   },
   "source": [
    "1. Bagi dataset Iris menjadi dua bagian: data pelatihan (train) sebesar 80% dan data uji (test) sebesar 20%."
   ]
  },
  {
   "block_group": "98430b99f48a4309b1470944130e1714",
   "cell_type": "markdown",
   "metadata": {
    "cell_id": "40060e7284454d899db7354620ce6f45",
    "deepnote_cell_type": "text-cell-p",
    "formattedRanges": []
   },
   "source": [
    "2. Hitung probabilitas prior untuk setiap data train."
   ]
  },
  {
   "block_group": "f62227eabbb04f3ba113d9c8086a8fc3",
   "cell_type": "markdown",
   "metadata": {
    "cell_id": "f0d3b1ee536f44d58a6707e035b2e873",
    "deepnote_cell_type": "text-cell-p",
    "formattedRanges": []
   },
   "source": [
    "3. Hitung rata-rata (mean) dan standar deviasi dari setiap fitur untuk setiap kelas dalam data train."
   ]
  },
  {
   "block_group": "6ea6f06fd9a94351b5625b314306fd44",
   "cell_type": "markdown",
   "metadata": {
    "cell_id": "80e7bc74623a456ba87300899bba43c6",
    "deepnote_cell_type": "text-cell-p",
    "formattedRanges": []
   },
   "source": [
    "4. Tetapkan nilai input untuk sepalLength, sepalWidth, petalLength, dan petalWidth."
   ]
  },
  {
   "block_group": "e5b33287df9f47adb4437494f73599fa",
   "cell_type": "markdown",
   "metadata": {
    "cell_id": "80d1f8bde8f9437988cd953c2ebeab84",
    "deepnote_cell_type": "text-cell-p",
    "formattedRanges": []
   },
   "source": [
    "5. Hitung distribusi Gaussian untuk setiap fitur dan setiap kelas dalam data train."
   ]
  },
  {
   "block_group": "e42b0cc604fe456c8d4da9a73dce0127",
   "cell_type": "markdown",
   "metadata": {
    "cell_id": "bd01fdd944d241b4adc501412f08ff9c",
    "deepnote_cell_type": "text-cell-p",
    "formattedRanges": []
   },
   "source": [
    "6. Hitung posterior dari setiap kelas menggunakan rumus Bayes."
   ]
  },
  {
   "block_group": "dbb3150665744e53a69fcd99c87c071a",
   "cell_type": "markdown",
   "metadata": {
    "cell_id": "61b9de141be542428c7a7cc8e38f03c6",
    "deepnote_cell_type": "text-cell-p",
    "formattedRanges": []
   },
   "source": [
    "7. Hitung probabilitas posterior untuk setiap data train."
   ]
  },
  {
   "block_group": "92c0b32f3fe04edbbbe1573b99205711",
   "cell_type": "markdown",
   "metadata": {
    "cell_id": "11a64397353940fa8514e6aceca36b8b",
    "deepnote_cell_type": "text-cell-p",
    "formattedRanges": []
   },
   "source": [
    "8. Kelas dari data input baru ditentukan sebagai kelas yang memiliki probabilitas posterior tertinggi."
   ]
  },
  {
   "block_group": "e0c4fe700b704a848347d78e32279b2d",
   "cell_type": "markdown",
   "metadata": {
    "cell_id": "f76cd348b58442b798b3f1c27e704e44",
    "deepnote_cell_type": "text-cell-p",
    "formattedRanges": []
   },
   "source": [
    "Setelah mengetahui langkah-langkah tersebut, kita akan melakukan perhitungan Gaussian Naive Bayes secara manual."
   ]
  },
  {
   "block_group": "54060e77d2774492b6c566e8bc77b336",
   "cell_type": "markdown",
   "metadata": {
    "cell_id": "2b40e9803d0642129325d6b82653c819",
    "deepnote_app_block_visible": false,
    "deepnote_cell_type": "text-cell-h3",
    "formattedRanges": [],
    "is_collapsed": false
   },
   "source": [
    "### Pembagian Dataset"
   ]
  },
  {
   "block_group": "d7650dafd39d483ebcc82bdb9f4eecb6",
   "cell_type": "markdown",
   "metadata": {
    "cell_id": "44c3cfae867242c3a3a96c8785d3e688",
    "deepnote_cell_type": "text-cell-p",
    "formattedRanges": []
   },
   "source": [
    "Bagi iris dataset menjadi dua bagian, yaitu data train (80%) dan data test (20%)."
   ]
  },
  {
   "block_group": "94db54d7f9074a1b949c1712ff6d66c5",
   "cell_type": "markdown",
   "metadata": {
    "cell_id": "dadf44bd0aad4d1fa09785484904f5bf",
    "deepnote_cell_type": "text-cell-bullet",
    "formattedRanges": []
   },
   "source": [
    "- Data train: 80% (40 Iris-setosa, 40 Iris-versicolor, 40 Iris-virginica).\r"
   ]
  },
  {
   "block_group": "4d0f14bcc24a4774a5b8cf4356a1416b",
   "cell_type": "markdown",
   "metadata": {
    "cell_id": "023cefb0bd4743068312ea51997e59a6",
    "deepnote_cell_type": "text-cell-bullet",
    "formattedRanges": []
   },
   "source": [
    "- Data test: 20% (10 Iris-setosa, 10 Iris-versicolor, 10 Iris-virginica)."
   ]
  },
  {
   "block_group": "0d9967b294044a218c5f61f77fa3f17d",
   "cell_type": "markdown",
   "metadata": {
    "cell_id": "6108d0480e4e4fb88ac7628b7dd742b9",
    "deepnote_cell_type": "text-cell-p",
    "formattedRanges": []
   },
   "source": [
    "Karena kita akan melakukan perhitungan Gaussian Naive Bayes pada data train saja, maka kita dapat menyiapkan data yang dibutuhkan, yaitu sebagai berikut:"
   ]
  },
  {
   "block_group": "83d5ec19d1aa48478ef9e6f153faa176",
   "cell_type": "markdown",
   "metadata": {
    "cell_id": "905c6f29aeb24a6c8425ca279d0cd72d",
    "deepnote_cell_type": "text-cell-bullet",
    "formattedRanges": []
   },
   "source": [
    "- Data train Iris-setosa dengan 40 record"
   ]
  },
  {
   "block_group": "3936166cd4cc4af8a33fd653eb228653",
   "cell_type": "markdown",
   "metadata": {
    "cell_id": "d8ba63dd094e49a281474615d9f4fe38",
    "deepnote_cell_type": "markdown"
   },
   "source": [
    "| Id | SepalLengthCm | SepalWidthCm | PetalLengthCm | PetalWidthCm | Species     |\n",
    "|----|---------------|--------------|---------------|--------------|-------------|\n",
    "| 11 | 5.4           | 3.7          | 1.5           | 0.2          | Iris-setosa |\n",
    "| 12 | 4.8           | 3.4          | 1.6           | 0.2          | Iris-setosa |\n",
    "| 13 | 4.8           | 3            | 1.4           | 0.1          | Iris-setosa |\n",
    "| 14 | 4.3           | 3            | 1.1           | 0.1          | Iris-setosa |\n",
    "| 15 | 5.8           | 4            | 1.2           | 0.2          | Iris-setosa |\n",
    "| 16 | 5.7           | 4.4          | 1.5           | 0.4          | Iris-setosa |\n",
    "| 17 | 5.4           | 3.9          | 1.3           | 0.4          | Iris-setosa |\n",
    "| 18 | 5.1           | 3.5          | 1.4           | 0.3          | Iris-setosa |\n",
    "| 19 | 5.7           | 3.8          | 1.7           | 0.3          | Iris-setosa |\n",
    "| 20 | 5.1           | 3.8          | 1.5           | 0.3          | Iris-setosa |\n",
    "| 21 | 5.4           | 3.4          | 1.7           | 0.2          | Iris-setosa |\n",
    "| 22 | 5.1           | 3.7          | 1.5           | 0.4          | Iris-setosa |\n",
    "| 23 | 4.6           | 3.6          | 1             | 0.2          | Iris-setosa |\n",
    "| 24 | 5.1           | 3.3          | 1.7           | 0.5          | Iris-setosa |\n",
    "| 25 | 4.8           | 3.4          | 1.9           | 0.2          | Iris-setosa |\n",
    "| 26 | 5             | 3            | 1.6           | 0.2          | Iris-setosa |\n",
    "| 27 | 5             | 3.4          | 1.6           | 0.4          | Iris-setosa |\n",
    "| 28 | 5.2           | 3.5          | 1.5           | 0.2          | Iris-setosa |\n",
    "| 29 | 5.2           | 3.4          | 1.4           | 0.2          | Iris-setosa |\n",
    "| 30 | 4.7           | 3.2          | 1.6           | 0.2          | Iris-setosa |\n",
    "| 31 | 4.8           | 3.1          | 1.6           | 0.2          | Iris-setosa |\n",
    "| 32 | 5.4           | 3.4          | 1.5           | 0.4          | Iris-setosa |\n",
    "| 33 | 5.2           | 4.1          | 1.5           | 0.1          | Iris-setosa |\n",
    "| 34 | 5.5           | 4.2          | 1.4           | 0.2          | Iris-setosa |\n",
    "| 35 | 4.9           | 3.1          | 1.5           | 0.1          | Iris-setosa |\n",
    "| 36 | 5             | 3.2          | 1.2           | 0.2          | Iris-setosa |\n",
    "| 37 | 5.5           | 3.5          | 1.3           | 0.2          | Iris-setosa |\n",
    "| 38 | 4.9           | 3.1          | 1.5           | 0.1          | Iris-setosa |\n",
    "| 39 | 4.4           | 3            | 1.3           | 0.2          | Iris-setosa |\n",
    "| 40 | 5.1           | 3.4          | 1.5           | 0.2          | Iris-setosa |\n",
    "| 41 | 5             | 3.5          | 1.3           | 0.3          | Iris-setosa |\n",
    "| 42 | 4.5           | 2.3          | 1.3           | 0.3          | Iris-setosa |\n",
    "| 43 | 4.4           | 3.2          | 1.3           | 0.2          | Iris-setosa |\n",
    "| 44 | 5             | 3.5          | 1.6           | 0.6          | Iris-setosa |\n",
    "| 45 | 5.1           | 3.8          | 1.9           | 0.4          | Iris-setosa |\n",
    "| 46 | 4.8           | 3            | 1.4           | 0.3          | Iris-setosa |\n",
    "| 47 | 5.1           | 3.8          | 1.6           | 0.2          | Iris-setosa |\n",
    "| 48 | 4.6           | 3.2          | 1.4           | 0.2          | Iris-setosa |\n",
    "| 49 | 5.3           | 3.7          | 1.5           | 0.2          | Iris-setosa |\n",
    "| 50 | 5             | 3.3          | 1.4           | 0.2          | Iris-setosa |"
   ]
  },
  {
   "block_group": "f1493ae1a782425f82c805257d352f0d",
   "cell_type": "markdown",
   "metadata": {
    "cell_id": "969605f321774737857d331c1742725c",
    "deepnote_cell_type": "text-cell-bullet",
    "formattedRanges": []
   },
   "source": [
    "- Data train Iris-versicolor dengan 40 record"
   ]
  },
  {
   "block_group": "bebccbeed6b74d6aad90e969366d50fc",
   "cell_type": "markdown",
   "metadata": {
    "cell_id": "f769e0d1b4b74f909d9cbbe6d315aa76",
    "deepnote_cell_type": "markdown"
   },
   "source": [
    "| Id  | SepalLengthCm | SepalWidthCm | PetalLengthCm | PetalWidthCm | Species         |\n",
    "|-----|---------------|--------------|---------------|--------------|-----------------|\n",
    "| 61  | 5             | 2            | 3.5           | 1            | Iris-versicolor |\n",
    "| 62  | 5.9           | 3            | 4.2           | 1.5          | Iris-versicolor |\n",
    "| 63  | 6             | 2.2          | 4             | 1            | Iris-versicolor |\n",
    "| 64  | 6.1           | 2.9          | 4.7           | 1.4          | Iris-versicolor |\n",
    "| 65  | 5.6           | 2.9          | 3.6           | 1.3          | Iris-versicolor |\n",
    "| 66  | 6.7           | 3.1          | 4.4           | 1.4          | Iris-versicolor |\n",
    "| 67  | 5.6           | 3            | 4.5           | 1.5          | Iris-versicolor |\n",
    "| 68  | 5.8           | 2.7          | 4.1           | 1            | Iris-versicolor |\n",
    "| 69  | 6.2           | 2.2          | 4.5           | 1.5          | Iris-versicolor |\n",
    "| 70  | 5.6           | 2.5          | 3.9           | 1.1          | Iris-versicolor |\n",
    "| 71  | 5.9           | 3.2          | 4.8           | 1.8          | Iris-versicolor |\n",
    "| 72  | 6.1           | 2.8          | 4             | 1.3          | Iris-versicolor |\n",
    "| 73  | 6.3           | 2.5          | 4.9           | 1.5          | Iris-versicolor |\n",
    "| 74  | 6.1           | 2.8          | 4.7           | 1.2          | Iris-versicolor |\n",
    "| 75  | 6.4           | 2.9          | 4.3           | 1.3          | Iris-versicolor |\n",
    "| 76  | 6.6           | 3            | 4.4           | 1.4          | Iris-versicolor |\n",
    "| 77  | 6.8           | 2.8          | 4.8           | 1.4          | Iris-versicolor |\n",
    "| 78  | 6.7           | 3            | 5             | 1.7          | Iris-versicolor |\n",
    "| 79  | 6             | 2.9          | 4.5           | 1.5          | Iris-versicolor |\n",
    "| 80  | 5.7           | 2.6          | 3.5           | 1            | Iris-versicolor |\n",
    "| 81  | 5.5           | 2.4          | 3.8           | 1.1          | Iris-versicolor |\n",
    "| 82  | 5.5           | 2.4          | 3.7           | 1            | Iris-versicolor |\n",
    "| 83  | 5.8           | 2.7          | 3.9           | 1.2          | Iris-versicolor |\n",
    "| 84  | 6             | 2.7          | 5.1           | 1.6          | Iris-versicolor |\n",
    "| 85  | 5.4           | 3            | 4.5           | 1.5          | Iris-versicolor |\n",
    "| 86  | 6             | 3.4          | 4.5           | 1.6          | Iris-versicolor |\n",
    "| 87  | 6.7           | 3.1          | 4.7           | 1.5          | Iris-versicolor |\n",
    "| 88  | 6.3           | 2.3          | 4.4           | 1.3          | Iris-versicolor |\n",
    "| 89  | 5.6           | 3            | 4.1           | 1.3          | Iris-versicolor |\n",
    "| 90  | 5.5           | 2.5          | 4             | 1.3          | Iris-versicolor |\n",
    "| 91  | 5.5           | 2.6          | 4.4           | 1.2          | Iris-versicolor |\n",
    "| 92  | 6.1           | 3            | 4.6           | 1.4          | Iris-versicolor |\n",
    "| 93  | 5.8           | 2.6          | 4             | 1.2          | Iris-versicolor |\n",
    "| 94  | 5             | 2.3          | 3.3           | 1            | Iris-versicolor |\n",
    "| 95  | 5.6           | 2.7          | 4.2           | 1.3          | Iris-versicolor |\n",
    "| 96  | 5.7           | 3            | 4.2           | 1.2          | Iris-versicolor |\n",
    "| 97  | 5.7           | 2.9          | 4.2           | 1.3          | Iris-versicolor |\n",
    "| 98  | 6.2           | 2.9          | 4.3           | 1.3          | Iris-versicolor |\n",
    "| 99  | 5.1           | 2.5          | 3             | 1.1          | Iris-versicolor |\n",
    "| 100 | 5.7           | 2.8          | 4.1           | 1.3          | Iris-versicolor |"
   ]
  },
  {
   "block_group": "aa4b24cb475d40bdbf3c61064f3a6e52",
   "cell_type": "markdown",
   "metadata": {
    "cell_id": "3117c7e99b1d4d80a3c6fcd9c3b8dce2",
    "deepnote_cell_type": "text-cell-bullet",
    "formattedRanges": []
   },
   "source": [
    "- Data train Iris-virginica dengan 40 record"
   ]
  },
  {
   "block_group": "34689690d20b474786881fe933299534",
   "cell_type": "markdown",
   "metadata": {
    "cell_id": "98541f1ee03443139ab6616888a86313",
    "deepnote_cell_type": "markdown"
   },
   "source": [
    "| Id  | SepalLengthCm | SepalWidthCm | PetalLengthCm | PetalWidthCm | Species        |\n",
    "|-----|---------------|--------------|---------------|--------------|----------------|\n",
    "| 111 | 6.5           | 3.2          | 5.1           | 2            | Iris-virginica |\n",
    "| 112 | 6.4           | 2.7          | 5.3           | 1.9          | Iris-virginica |\n",
    "| 113 | 6.8           | 3            | 5.5           | 2.1          | Iris-virginica |\n",
    "| 114 | 5.7           | 2.5          | 5             | 2            | Iris-virginica |\n",
    "| 115 | 5.8           | 2.8          | 5.1           | 2.4          | Iris-virginica |\n",
    "| 116 | 6.4           | 3.2          | 5.3           | 2.3          | Iris-virginica |\n",
    "| 117 | 6.5           | 3            | 5.5           | 1.8          | Iris-virginica |\n",
    "| 118 | 7.7           | 3.8          | 6.7           | 2.2          | Iris-virginica |\n",
    "| 119 | 7.7           | 2.6          | 6.9           | 2.3          | Iris-virginica |\n",
    "| 120 | 6             | 2.2          | 5             | 1.5          | Iris-virginica |\n",
    "| 121 | 6.9           | 3.2          | 5.7           | 2.3          | Iris-virginica |\n",
    "| 122 | 5.6           | 2.8          | 4.9           | 2            | Iris-virginica |\n",
    "| 123 | 7.7           | 2.8          | 6.7           | 2            | Iris-virginica |\n",
    "| 124 | 6.3           | 2.7          | 4.9           | 1.8          | Iris-virginica |\n",
    "| 125 | 6.7           | 3.3          | 5.7           | 2.1          | Iris-virginica |\n",
    "| 126 | 7.2           | 3.2          | 6             | 1.8          | Iris-virginica |\n",
    "| 127 | 6.2           | 2.8          | 4.8           | 1.8          | Iris-virginica |\n",
    "| 128 | 6.1           | 3            | 4.9           | 1.8          | Iris-virginica |\n",
    "| 129 | 6.4           | 2.8          | 5.6           | 2.1          | Iris-virginica |\n",
    "| 130 | 7.2           | 3            | 5.8           | 1.6          | Iris-virginica |\n",
    "| 131 | 7.4           | 2.8          | 6.1           | 1.9          | Iris-virginica |\n",
    "| 132 | 7.9           | 3.8          | 6.4           | 2            | Iris-virginica |\n",
    "| 133 | 6.4           | 2.8          | 5.6           | 2.2          | Iris-virginica |\n",
    "| 134 | 6.3           | 2.8          | 5.1           | 1.5          | Iris-virginica |\n",
    "| 135 | 6.1           | 2.6          | 5.6           | 1.4          | Iris-virginica |\n",
    "| 136 | 7.7           | 3            | 6.1           | 2.3          | Iris-virginica |\n",
    "| 137 | 6.3           | 3.4          | 5.6           | 2.4          | Iris-virginica |\n",
    "| 138 | 6.4           | 3.1          | 5.5           | 1.8          | Iris-virginica |\n",
    "| 139 | 6             | 3            | 4.8           | 1.8          | Iris-virginica |\n",
    "| 140 | 6.9           | 3.1          | 5.4           | 2.1          | Iris-virginica |\n",
    "| 141 | 6.7           | 3.1          | 5.6           | 2.4          | Iris-virginica |\n",
    "| 142 | 6.9           | 3.1          | 5.1           | 2.3          | Iris-virginica |\n",
    "| 143 | 5.8           | 2.7          | 5.1           | 1.9          | Iris-virginica |\n",
    "| 144 | 6.8           | 3.2          | 5.9           | 2.3          | Iris-virginica |\n",
    "| 145 | 6.7           | 3.3          | 5.7           | 2.5          | Iris-virginica |\n",
    "| 146 | 6.7           | 3            | 5.2           | 2.3          | Iris-virginica |\n",
    "| 147 | 6.3           | 2.5          | 5             | 1.9          | Iris-virginica |\n",
    "| 148 | 6.5           | 3            | 5.2           | 2            | Iris-virginica |\n",
    "| 149 | 6.2           | 3.4          | 5.4           | 2.3          | Iris-virginica |\n",
    "| 150 | 5.9           | 3            | 5.1           | 1.8          | Iris-virginica |"
   ]
  },
  {
   "block_group": "d5a7755773944172825082c9321535a6",
   "cell_type": "markdown",
   "metadata": {
    "cell_id": "deae70375b0b4a64b6563f2f3bfb02f8",
    "deepnote_cell_type": "text-cell-h3",
    "formattedRanges": []
   },
   "source": [
    "### Perhitungan Probabilitas Prior Setiap Data Train"
   ]
  },
  {
   "block_group": "9b8bf9ffcc9248ea90c4859a711d2b71",
   "cell_type": "markdown",
   "metadata": {
    "cell_id": "ea8b0ff9770b4bc59683168e75a91e8d",
    "deepnote_cell_type": "text-cell-p",
    "formattedRanges": []
   },
   "source": [
    "Hitung probabilitas prior masing-masing data pada data train."
   ]
  },
  {
   "block_group": "b74b081b6a78410cb4a21c552021a7d5",
   "cell_type": "markdown",
   "metadata": {
    "cell_id": "6932dc6aabc34e678702e72cb049964d",
    "deepnote_cell_type": "markdown"
   },
   "source": [
    "$$\n",
    "\n",
    "\\begin{aligned}\n",
    "& P(a) = \\frac{n(a)}{N} \\\\\n",
    "\n",
    "& P(a) = \\text{Probabilitas Prior} \\\\\n",
    "& n(a) = \\text{Banyaknya record data train pada suatu kelas (40)} \\\\\n",
    "& N = \\text{Total banyaknya record data train (40+40+40=120)} \\\\\n",
    "\n",
    "& P(\\text{Iris-setosa}) = \\frac{40}{120} = 0.333333333 \\\\\n",
    "& P(\\text{Iris-versicolor}) = \\frac{40}{120} = 0.333333333 \\\\\n",
    "& P(\\text{Iris-virginica}) = \\frac{40}{120} = 0.333333333 \\\\\n",
    "\n",
    "\\end{aligned}\n",
    "$$"
   ]
  },
  {
   "block_group": "f4efa308cac64949b974e9f8e7794c2b",
   "cell_type": "markdown",
   "metadata": {
    "cell_id": "4fdeff5b9a414bfe834c3d1d316fd615",
    "deepnote_cell_type": "text-cell-h3",
    "formattedRanges": []
   },
   "source": [
    "### Perhitungan Mean dan Standar Deviasi"
   ]
  },
  {
   "block_group": "7bbfd12891904e418edeae16e3054f1c",
   "cell_type": "markdown",
   "metadata": {
    "cell_id": "0ae952e7a69a4bd4a25c774515869d2d",
    "deepnote_cell_type": "text-cell-p",
    "formattedRanges": []
   },
   "source": [
    "Hitung mean dan standar deviasi dari setiap fitur untuk setiap kelas pada data train."
   ]
  },
  {
   "block_group": "b659357ad0684b9aad52168423cbe219",
   "cell_type": "markdown",
   "metadata": {
    "cell_id": "0da96a993ca8425199c6368a7a25cd58",
    "deepnote_cell_type": "text-cell-p",
    "formattedRanges": []
   },
   "source": [
    "Mean dan Standar Deviasi Iris-spesies"
   ]
  },
  {
   "block_group": "7a05c12751b64156a97e0322054bb229",
   "cell_type": "markdown",
   "metadata": {
    "cell_id": "df795293b1834b278de82a4bd3acc126",
    "deepnote_cell_type": "markdown"
   },
   "source": [
    "| Fitur           | Mean     | Standar Deviasi |\n",
    "|-----------------|----------|-----------------|\n",
    "| SepalLengthCm   | 5.0425   | 0.3555893       |\n",
    "| SepalWidthCm    | 3.445    | 0.391120186     |\n",
    "| PetalLengthCm   | 1.4675   | 0.184915521     |\n",
    "| PetalWidthCm    | 0.25     | 0.111803399     |"
   ]
  },
  {
   "block_group": "c04b583b8f5e4534b4dbbcd6023af36e",
   "cell_type": "markdown",
   "metadata": {
    "cell_id": "89b0b362932d43b5a1898433ca3acfd7",
    "deepnote_cell_type": "text-cell-p",
    "formattedRanges": []
   },
   "source": [
    "Mean dan Standar Deviasi Iris-versicolor"
   ]
  },
  {
   "block_group": "7a47788125bb4bcd830aeb363ccdad3c",
   "cell_type": "markdown",
   "metadata": {
    "cell_id": "883c2767e11744e8a72922774974c430",
    "deepnote_cell_type": "markdown"
   },
   "source": [
    "| Fitur           | Mean    | Standar Deviasi |\n",
    "|-----------------|---------|-----------------|\n",
    "| SepalLengthCm   | 5.895   | 0.446066139     |\n",
    "| SepalWidthCm    | 2.745   | 0.302448343     |\n",
    "| PetalLengthCm   | 4.2325  | 0.461729087     |\n",
    "| PetalWidthCm    | 1.3125  | 0.201478907     |"
   ]
  },
  {
   "block_group": "905b8b0d91374da886dc0bd93a6b7fb8",
   "cell_type": "markdown",
   "metadata": {
    "cell_id": "df15b57b1b2342e3a4aed54aa1faaafb",
    "deepnote_cell_type": "text-cell-p",
    "formattedRanges": []
   },
   "source": [
    "Mean dan Standar Deviasi Iris-virginica"
   ]
  },
  {
   "block_group": "14d2970d14b14bd7b171355c6085afd9",
   "cell_type": "markdown",
   "metadata": {
    "cell_id": "5c89d7de7b3448d1adf5d5523f892a59",
    "deepnote_cell_type": "markdown"
   },
   "source": [
    "| Fitur           | Mean    | Standar Deviasi |\n",
    "|-----------------|---------|-----------------|\n",
    "| SepalLengthCm   | 6.5925  | 0.591349093     |\n",
    "| SepalWidthCm    | 2.9825  | 0.318502355     |\n",
    "| PetalLengthCm   | 5.4975  | 0.52653941      |\n",
    "| PetalWidthCm    | 2.0225  | 0.270635825     |"
   ]
  },
  {
   "block_group": "7d6dd7fe227142a586f857e3f7ba0fdb",
   "cell_type": "markdown",
   "metadata": {
    "cell_id": "07d1d441799044c38aa543093a0b05f8",
    "deepnote_cell_type": "text-cell-h3",
    "formattedRanges": []
   },
   "source": [
    "### Penentuan Data Input"
   ]
  },
  {
   "block_group": "83aae8fec2bb480f9145fb9d862ef4a4",
   "cell_type": "markdown",
   "metadata": {
    "cell_id": "f51e152ca67046d0901b559cd701b591",
    "deepnote_cell_type": "text-cell-p",
    "formattedRanges": []
   },
   "source": [
    "Tentukan data input yang ingin diprediksi kelasnya, misalnya sepalLength, sepalWidth, petalLength, dan petalWidth."
   ]
  },
  {
   "block_group": "f8549f0e81d04ceead265aafd8b9b228",
   "cell_type": "markdown",
   "metadata": {
    "cell_id": "c60c337321054bf68ce821b81ee52337",
    "deepnote_cell_type": "markdown"
   },
   "source": [
    "| Fitur            | X (Inputan) |\n",
    "|------------------|-------------|\n",
    "| SepalLengthCm    | 5           |\n",
    "| SepalWidthCm     | 3           |\n",
    "| PetalLengthCm    | 1           |\n",
    "| PetalWidthCm     | 0.1         |"
   ]
  },
  {
   "block_group": "d8311af4f2b84fb99114c23d5bc8fa1d",
   "cell_type": "markdown",
   "metadata": {
    "cell_id": "ccfb662e97194d009edf20a68160da6f",
    "deepnote_cell_type": "text-cell-h3",
    "formattedRanges": []
   },
   "source": [
    "### Perhitungan Distribusi Gaussian"
   ]
  },
  {
   "block_group": "39b49b07a7e24df4a74e57929a074354",
   "cell_type": "markdown",
   "metadata": {
    "cell_id": "8627a5a0badb49b6bd0137d8d99a3529",
    "deepnote_cell_type": "text-cell-p",
    "formattedRanges": []
   },
   "source": [
    "Hitung distribusi Gaussian untuk setiap fitur dan setiap kelas pada data train."
   ]
  },
  {
   "block_group": "6a7e5a50a43a4ed2b7b760edd62519f5",
   "cell_type": "markdown",
   "metadata": {
    "cell_id": "1ff2d97b343944659ce60bdf10e4b4d4",
    "deepnote_cell_type": "markdown"
   },
   "source": [
    "$$\n",
    "P(x_{i} | y) = \\frac{1}{\\sqrt{2\\pi\\sigma^{2}}}\\exp(-\\frac{x_{i}-\\mu_{y}}{2\\sigma_{y}^{2}})\n",
    "$$"
   ]
  },
  {
   "block_group": "0fab3e61a6134e26974d8de18bc912c9",
   "cell_type": "markdown",
   "metadata": {
    "cell_id": "ce0d344365c7447780b9cb1b521aa142",
    "deepnote_cell_type": "text-cell-p",
    "formattedRanges": []
   },
   "source": [
    "Berdasarkan rumus di atas, maka diperoleh:"
   ]
  },
  {
   "block_group": "94e32e31930b4c02983de780f1b4536d",
   "cell_type": "markdown",
   "metadata": {
    "cell_id": "8c39f76b54b24ce6914b5cf88a610b35",
    "deepnote_cell_type": "text-cell-bullet",
    "formattedRanges": []
   },
   "source": [
    "- Distribusi Gaussian Iris-spesies"
   ]
  },
  {
   "block_group": "d3f987245fb84dadb4c25d2f10618d7a",
   "cell_type": "markdown",
   "metadata": {
    "cell_id": "404069b1ba984a45a698646dde9280d4",
    "deepnote_cell_type": "markdown"
   },
   "source": [
    "| Fitur           | Distribusi Gaussian |\n",
    "|-----------------|---------------------|\n",
    "| SepalLengthCm   | 1.11393392848235000 |\n",
    "| SepalWidthCm    | 0.53395461703459100 |\n",
    "| PetalLengthCm   | 0.08830723986435710 |\n",
    "| PetalWidthCm    | 1.45074146967846000 |"
   ]
  },
  {
   "block_group": "5ea3e0dd5fbe4271a1766364ff00d21a",
   "cell_type": "markdown",
   "metadata": {
    "cell_id": "2d79bdf8fc554a2da5da4d6ee793f044",
    "deepnote_cell_type": "text-cell-bullet",
    "formattedRanges": []
   },
   "source": [
    "- Distribusi Gaussian Iris-versicolor"
   ]
  },
  {
   "block_group": "16fba2b99e124943afabffd5a775d09d",
   "cell_type": "markdown",
   "metadata": {
    "cell_id": "a59240764ddc4097bc80186b0bca5fca",
    "deepnote_cell_type": "markdown"
   },
   "source": [
    "| Fitur           | Distribusi Gaussian |\n",
    "|-----------------|---------------------|\n",
    "| SepalLengthCm   | 0.11948923559343000 |\n",
    "| SepalWidthCm    | 0.92448474540077000 |\n",
    "| PetalLengthCm   | 0.00000000001966518 |\n",
    "| PetalWidthCm    | 0.00000002706490210 |"
   ]
  },
  {
   "block_group": "4f231220b7174d6e8e82041d26645f53",
   "cell_type": "markdown",
   "metadata": {
    "cell_id": "15dc12c7c5d9475390cd252895d9998b",
    "deepnote_cell_type": "text-cell-bullet",
    "formattedRanges": []
   },
   "source": [
    "- Distribusi Gaussian Iris-virginica"
   ]
  },
  {
   "block_group": "6d580dac23cf4c488bfee05dca93e216",
   "cell_type": "markdown",
   "metadata": {
    "cell_id": "be5fcf257ed34bf69c30768d6ead74e2",
    "deepnote_cell_type": "markdown"
   },
   "source": [
    "| Fitur           | Distribusi Gaussian |\n",
    "|-----------------|---------------------|\n",
    "| SepalLengthCm   | 0.01795834937436570 |\n",
    "| SepalWidthCm    | 1.25066751432299000 |\n",
    "| PetalLengthCm   | 0.00000000000000011 |\n",
    "| PetalWidthCm    | 0.00000000001625173 |"
   ]
  },
  {
   "block_group": "ed9e0e87d7884b35b283f1b641c1c5d5",
   "cell_type": "markdown",
   "metadata": {
    "cell_id": "5b6d28434444472db70021ea8be69f2b",
    "deepnote_cell_type": "text-cell-h3",
    "formattedRanges": []
   },
   "source": [
    "### Perhitungan Probabilitas Posterior"
   ]
  },
  {
   "block_group": "f42f94090d04403d9cbbc666705b7aa8",
   "cell_type": "markdown",
   "metadata": {
    "cell_id": "4dc364dc8b944a1ea9804c3f3abde872",
    "deepnote_cell_type": "markdown"
   },
   "source": [
    "Karena $ P(X) $ adalah konstan untuk semua kelas, maka posterior $ P(C|X) $ dapat dihitung menggunakan rumus teorema Bayes, yaitu $ P(C|X) = \\frac{P(X|C) \\times P(C)}{P(X)} $. Dalam kasus di mana kita ingin membandingkan probabilitas antara kelas-kelas, $ P(X) $ bisa diabaikan karena merupakan faktor normalisasi yang sama untuk semua kelas. Oleh karena itu, kita fokus pada perbandingan $ P(X|C) \\times P(C) $, yang merupakan likelihood ($ P(X|C) $) dikalikan dengan prior ($ P(C) $)."
   ]
  },
  {
   "block_group": "8451f03f7b8f4097960c01645b78edc4",
   "cell_type": "markdown",
   "metadata": {
    "cell_id": "9d02053e37f9457eb886a49b70882430",
    "deepnote_cell_type": "text-cell-p",
    "formattedRanges": []
   },
   "source": [
    "Untuk menghitung likelihood, kita melakukan perkalian dari distribusi Gaussian untuk setiap fitur pada setiap kelas. Dalam hal ini, kita mengalikan hasil distribusi Gaussian dari setiap fitur pada setiap kelas untuk mendapatkan likelihoodnya. Setelah kita memiliki likelihood dan prior untuk setiap kelas, kita dapat mengalikannya untuk mendapatkan posterior. Hal ini memungkinkan kita untuk memperkirakan kelas mana yang paling mungkin dari data input yang diberikan."
   ]
  },
  {
   "block_group": "21e36d31c0384a65b688d409919fa41b",
   "cell_type": "markdown",
   "metadata": {
    "cell_id": "b5c388e173064d0bbea43f6a924fa524",
    "deepnote_cell_type": "markdown"
   },
   "source": [
    "| Species         | Likelihood                          |\n",
    "|-----------------|-------------------------------------|\n",
    "| Iris-setosa     | 0.0761991478208338000000000000000000 |\n",
    "| Iris-versicolor | 0.0000000000000000000587939986777903 |\n",
    "| Iris-virginica  | 0.0000000000000000000000000000397081 |"
   ]
  },
  {
   "block_group": "3d749cf6b3de4dd4844014ebda2f2a02",
   "cell_type": "markdown",
   "metadata": {
    "cell_id": "e31bf3217cbb46ad921abdd2ca97f5d4",
    "deepnote_cell_type": "text-cell-p",
    "formattedRanges": []
   },
   "source": [
    "Setelah mendapatkan probabilitas likelihood dan prior, maka kita dapat menghitung probabilitas posteriornya dengan mengkalikan likelihood dengan prior."
   ]
  },
  {
   "block_group": "d81c976b138a4e6d8308d9cb3cfa0fef",
   "cell_type": "markdown",
   "metadata": {
    "cell_id": "c4a69914f483480a81858bff578b9575",
    "deepnote_cell_type": "markdown"
   },
   "source": [
    "$$\n",
    "\\begin{aligned}\n",
    "\\text{Posterior} &= \\text{Likelihood} \\times \\text{Prior} \\\\\n",
    "\\text{Posterior}_{\\text{Iris-setosa}} &= 0.0761991478208338000000000000000000 \\times 0.333333333 = 0.0253997159402779000000000000000000 \\\\\n",
    "\\text{Posterior}_{\\text{Iris-versicolor}} &= 0.0000000000000000000587939986777903 \\times 0.333333333 = 0.0000000000000000000195979995592634 \\\\\n",
    "\\text{Posterior}_{\\text{Iris-virginica}} &= 0.0000000000000000000000000000397081 \\times 0.333333333 = 0.0000000000000000000000000000132360 \\\\\n",
    "\\end{aligned}\n",
    "$$"
   ]
  },
  {
   "block_group": "94e838a46343440087b1ad843046fe55",
   "cell_type": "markdown",
   "metadata": {
    "cell_id": "7568e49e4d9d4bacbfcc4a414765ad46",
    "deepnote_cell_type": "text-cell-h3",
    "formattedRanges": []
   },
   "source": [
    "### Penentuan Probabilitas  Posterior Tertinggi"
   ]
  },
  {
   "block_group": "608fdfac120049579dc753049285e53b",
   "cell_type": "markdown",
   "metadata": {
    "cell_id": "39f71fa93e4c487fa431cbf41e5b98e5",
    "deepnote_cell_type": "text-cell-p",
    "formattedRanges": []
   },
   "source": [
    "Dari hasil perhitungan di atas, terlihat bahwa kelas Iris-setosa memiliki nilai posterior tertinggi, yaitu 0.0253997159402779. Dengan demikian, dapat disimpulkan bahwa data dengan inputan sebagai berikut:"
   ]
  },
  {
   "block_group": "dc2d240d4a3b4723a0f81ac3eee88724",
   "cell_type": "markdown",
   "metadata": {
    "cell_id": "30873e2a8fca40e8913ac22002003bdc",
    "deepnote_cell_type": "text-cell-bullet",
    "formattedRanges": []
   },
   "source": [
    "- SepalLengthCm: 5\r"
   ]
  },
  {
   "block_group": "4902f5e612f64334971591ed75242d0c",
   "cell_type": "markdown",
   "metadata": {
    "cell_id": "77097397159c4f1d931590d5db302112",
    "deepnote_cell_type": "text-cell-bullet",
    "formattedRanges": []
   },
   "source": [
    "- SepalWidthCm: 3\r"
   ]
  },
  {
   "block_group": "24a8f139affc48e7951668eb767ab48d",
   "cell_type": "markdown",
   "metadata": {
    "cell_id": "7777027572344c1dbc87615b3c18a6c1",
    "deepnote_cell_type": "text-cell-bullet",
    "formattedRanges": []
   },
   "source": [
    "- PetalLengthCm: 1\r"
   ]
  },
  {
   "block_group": "aa775493ebbc4b8eb4818eed0d1d82b5",
   "cell_type": "markdown",
   "metadata": {
    "cell_id": "adcd2bca06174933a0a1dbf36324a5e7",
    "deepnote_cell_type": "text-cell-bullet",
    "formattedRanges": []
   },
   "source": [
    "- PetalWidthCm: 0.1"
   ]
  },
  {
   "block_group": "a4ae61dc161a4e1391be740ecd0cd152",
   "cell_type": "markdown",
   "metadata": {
    "cell_id": "0c44d3a429234d759ce36ece43e049e2",
    "deepnote_cell_type": "text-cell-p",
    "formattedRanges": []
   },
   "source": [
    "\r",
    "diklasifikasikan sebagai kelas Iris-setosa, karena mendapat nilai posterior tertinggi. Ini berarti bahwa model Gaussian Naive Bayes memperkirakan dengan tingkat keyakinan tertinggi bahwa data tersebut termasuk dalam kelas Iris-setosa."
   ]
  },
  {
   "block_group": "09d4fa27b6014fbc98022d4fb3db6fac",
   "cell_type": "markdown",
   "metadata": {
    "cell_id": "f0acd30379934d0a80f7121810cd1c8e",
    "deepnote_cell_type": "text-cell-h2",
    "formattedRanges": []
   },
   "source": [
    "## Menghitung Naive Bayes menggunakan Python (Scikit Learn)"
   ]
  },
  {
   "block_group": "b43fa00eca844301886934ec6ca7f7e3",
   "cell_type": "markdown",
   "metadata": {
    "cell_id": "fb2b6b6b57ab45c2a155504c1a1fd530",
    "deepnote_cell_type": "text-cell-p",
    "formattedRanges": []
   },
   "source": [
    "Proses pengambilan data tabel Iris_naivebayes dari MySQL untuk disimpan sebagai DataFrame."
   ]
  },
  {
   "block_group": "94deb5a5982d4fe190c3c50d98789e62",
   "cell_type": "code",
   "execution_count": 3,
   "metadata": {
    "cell_id": "fcdcf3e991b9491b9df26ec2eda61980",
    "deepnote_cell_type": "sql",
    "deepnote_sql_source": "SELECT * FROM Iris_naivebayes;",
    "deepnote_to_be_reexecuted": false,
    "deepnote_variable_name": "df_9",
    "execution_millis": 3167,
    "execution_start": 1712194827954,
    "source_hash": "e44703f6",
    "sql_integration_id": "09471b5a-652d-432f-b73d-65305a4929e6"
   },
   "outputs": [
    {
     "data": {
      "application/vnd.deepnote.sql-output-metadata+json": {
       "size_in_bytes": 14278,
       "status": "success_no_cache"
      }
     },
     "metadata": {},
     "output_type": "display_data"
    },
    {
     "data": {
      "application/vnd.deepnote.dataframe.v3+json": {
       "column_count": 4,
       "columns": [
        {
         "dtype": "int64",
         "name": "Id",
         "stats": {
          "histogram": [
           {
            "bin_end": 15.9,
            "bin_start": 1,
            "count": 15
           },
           {
            "bin_end": 30.8,
            "bin_start": 15.9,
            "count": 15
           },
           {
            "bin_end": 45.7,
            "bin_start": 30.8,
            "count": 15
           },
           {
            "bin_end": 60.6,
            "bin_start": 45.7,
            "count": 15
           },
           {
            "bin_end": 75.5,
            "bin_start": 60.6,
            "count": 15
           },
           {
            "bin_end": 90.4,
            "bin_start": 75.5,
            "count": 15
           },
           {
            "bin_end": 105.3,
            "bin_start": 90.4,
            "count": 15
           },
           {
            "bin_end": 120.2,
            "bin_start": 105.3,
            "count": 15
           },
           {
            "bin_end": 135.1,
            "bin_start": 120.2,
            "count": 15
           },
           {
            "bin_end": 150,
            "bin_start": 135.1,
            "count": 15
           }
          ],
          "max": "150",
          "min": "1",
          "nan_count": 0,
          "unique_count": 150
         }
        },
        {
         "dtype": "float64",
         "name": "SepalLengthCm",
         "stats": {
          "histogram": [
           {
            "bin_end": 4.66,
            "bin_start": 4.3,
            "count": 9
           },
           {
            "bin_end": 5.02,
            "bin_start": 4.66,
            "count": 23
           },
           {
            "bin_end": 5.38,
            "bin_start": 5.02,
            "count": 14
           },
           {
            "bin_end": 5.74,
            "bin_start": 5.38,
            "count": 27
           },
           {
            "bin_end": 6.1,
            "bin_start": 5.74,
            "count": 16
           },
           {
            "bin_end": 6.46,
            "bin_start": 6.1,
            "count": 26
           },
           {
            "bin_end": 6.82,
            "bin_start": 6.46,
            "count": 18
           },
           {
            "bin_end": 7.18,
            "bin_start": 6.82,
            "count": 6
           },
           {
            "bin_end": 7.54,
            "bin_start": 7.18,
            "count": 5
           },
           {
            "bin_end": 7.9,
            "bin_start": 7.54,
            "count": 6
           }
          ],
          "max": "7.9",
          "min": "4.3",
          "nan_count": 0,
          "unique_count": 35
         }
        },
        {
         "dtype": "float64",
         "name": "SepalWidthCm",
         "stats": {
          "histogram": [
           {
            "bin_end": 2.24,
            "bin_start": 2,
            "count": 4
           },
           {
            "bin_end": 2.48,
            "bin_start": 2.24,
            "count": 7
           },
           {
            "bin_end": 2.72,
            "bin_start": 2.48,
            "count": 22
           },
           {
            "bin_end": 2.96,
            "bin_start": 2.72,
            "count": 24
           },
           {
            "bin_end": 3.2,
            "bin_start": 2.96,
            "count": 38
           },
           {
            "bin_end": 3.4400000000000004,
            "bin_start": 3.2,
            "count": 31
           },
           {
            "bin_end": 3.6800000000000006,
            "bin_start": 3.4400000000000004,
            "count": 9
           },
           {
            "bin_end": 3.9200000000000004,
            "bin_start": 3.6800000000000006,
            "count": 11
           },
           {
            "bin_end": 4.16,
            "bin_start": 3.9200000000000004,
            "count": 2
           },
           {
            "bin_end": 4.4,
            "bin_start": 4.16,
            "count": 2
           }
          ],
          "max": "4.4",
          "min": "2.0",
          "nan_count": 0,
          "unique_count": 23
         }
        },
        {
         "dtype": "object",
         "name": "Species",
         "stats": {
          "categories": [
           {
            "count": 50,
            "name": "Iris-setosa"
           },
           {
            "count": 50,
            "name": "Iris-versicolor"
           },
           {
            "count": 50,
            "name": "Iris-virginica"
           }
          ],
          "nan_count": 0,
          "unique_count": 3
         }
        },
        {
         "dtype": "int64",
         "name": "_deepnote_index_column"
        }
       ],
       "row_count": 150,
       "rows": [
        {
         "Id": 1,
         "SepalLengthCm": 5.1,
         "SepalWidthCm": 3.5,
         "Species": "Iris-setosa",
         "_deepnote_index_column": 0
        },
        {
         "Id": 2,
         "SepalLengthCm": 4.9,
         "SepalWidthCm": 3,
         "Species": "Iris-setosa",
         "_deepnote_index_column": 1
        },
        {
         "Id": 3,
         "SepalLengthCm": 4.7,
         "SepalWidthCm": 3.2,
         "Species": "Iris-setosa",
         "_deepnote_index_column": 2
        },
        {
         "Id": 4,
         "SepalLengthCm": 4.6,
         "SepalWidthCm": 3.1,
         "Species": "Iris-setosa",
         "_deepnote_index_column": 3
        },
        {
         "Id": 5,
         "SepalLengthCm": 5,
         "SepalWidthCm": 3.6,
         "Species": "Iris-setosa",
         "_deepnote_index_column": 4
        },
        {
         "Id": 6,
         "SepalLengthCm": 5.4,
         "SepalWidthCm": 3.9,
         "Species": "Iris-setosa",
         "_deepnote_index_column": 5
        },
        {
         "Id": 7,
         "SepalLengthCm": 4.6,
         "SepalWidthCm": 3.4,
         "Species": "Iris-setosa",
         "_deepnote_index_column": 6
        },
        {
         "Id": 8,
         "SepalLengthCm": 5,
         "SepalWidthCm": 3.4,
         "Species": "Iris-setosa",
         "_deepnote_index_column": 7
        },
        {
         "Id": 9,
         "SepalLengthCm": 4.4,
         "SepalWidthCm": 2.9,
         "Species": "Iris-setosa",
         "_deepnote_index_column": 8
        },
        {
         "Id": 10,
         "SepalLengthCm": 4.9,
         "SepalWidthCm": 3.1,
         "Species": "Iris-setosa",
         "_deepnote_index_column": 9
        }
       ]
      },
      "text/html": [
       "<div>\n",
       "<style scoped>\n",
       "    .dataframe tbody tr th:only-of-type {\n",
       "        vertical-align: middle;\n",
       "    }\n",
       "\n",
       "    .dataframe tbody tr th {\n",
       "        vertical-align: top;\n",
       "    }\n",
       "\n",
       "    .dataframe thead th {\n",
       "        text-align: right;\n",
       "    }\n",
       "</style>\n",
       "<table border=\"1\" class=\"dataframe\">\n",
       "  <thead>\n",
       "    <tr style=\"text-align: right;\">\n",
       "      <th></th>\n",
       "      <th>Id</th>\n",
       "      <th>SepalLengthCm</th>\n",
       "      <th>SepalWidthCm</th>\n",
       "      <th>Species</th>\n",
       "    </tr>\n",
       "  </thead>\n",
       "  <tbody>\n",
       "    <tr>\n",
       "      <th>0</th>\n",
       "      <td>1</td>\n",
       "      <td>5.1</td>\n",
       "      <td>3.5</td>\n",
       "      <td>Iris-setosa</td>\n",
       "    </tr>\n",
       "    <tr>\n",
       "      <th>1</th>\n",
       "      <td>2</td>\n",
       "      <td>4.9</td>\n",
       "      <td>3.0</td>\n",
       "      <td>Iris-setosa</td>\n",
       "    </tr>\n",
       "    <tr>\n",
       "      <th>2</th>\n",
       "      <td>3</td>\n",
       "      <td>4.7</td>\n",
       "      <td>3.2</td>\n",
       "      <td>Iris-setosa</td>\n",
       "    </tr>\n",
       "    <tr>\n",
       "      <th>3</th>\n",
       "      <td>4</td>\n",
       "      <td>4.6</td>\n",
       "      <td>3.1</td>\n",
       "      <td>Iris-setosa</td>\n",
       "    </tr>\n",
       "    <tr>\n",
       "      <th>4</th>\n",
       "      <td>5</td>\n",
       "      <td>5.0</td>\n",
       "      <td>3.6</td>\n",
       "      <td>Iris-setosa</td>\n",
       "    </tr>\n",
       "    <tr>\n",
       "      <th>...</th>\n",
       "      <td>...</td>\n",
       "      <td>...</td>\n",
       "      <td>...</td>\n",
       "      <td>...</td>\n",
       "    </tr>\n",
       "    <tr>\n",
       "      <th>145</th>\n",
       "      <td>146</td>\n",
       "      <td>6.7</td>\n",
       "      <td>3.0</td>\n",
       "      <td>Iris-virginica</td>\n",
       "    </tr>\n",
       "    <tr>\n",
       "      <th>146</th>\n",
       "      <td>147</td>\n",
       "      <td>6.3</td>\n",
       "      <td>2.5</td>\n",
       "      <td>Iris-virginica</td>\n",
       "    </tr>\n",
       "    <tr>\n",
       "      <th>147</th>\n",
       "      <td>148</td>\n",
       "      <td>6.5</td>\n",
       "      <td>3.0</td>\n",
       "      <td>Iris-virginica</td>\n",
       "    </tr>\n",
       "    <tr>\n",
       "      <th>148</th>\n",
       "      <td>149</td>\n",
       "      <td>6.2</td>\n",
       "      <td>3.4</td>\n",
       "      <td>Iris-virginica</td>\n",
       "    </tr>\n",
       "    <tr>\n",
       "      <th>149</th>\n",
       "      <td>150</td>\n",
       "      <td>5.9</td>\n",
       "      <td>3.0</td>\n",
       "      <td>Iris-virginica</td>\n",
       "    </tr>\n",
       "  </tbody>\n",
       "</table>\n",
       "<p>150 rows × 4 columns</p>\n",
       "</div>"
      ],
      "text/plain": [
       "      Id  SepalLengthCm  SepalWidthCm         Species\n",
       "0      1            5.1           3.5     Iris-setosa\n",
       "1      2            4.9           3.0     Iris-setosa\n",
       "2      3            4.7           3.2     Iris-setosa\n",
       "3      4            4.6           3.1     Iris-setosa\n",
       "4      5            5.0           3.6     Iris-setosa\n",
       "..   ...            ...           ...             ...\n",
       "145  146            6.7           3.0  Iris-virginica\n",
       "146  147            6.3           2.5  Iris-virginica\n",
       "147  148            6.5           3.0  Iris-virginica\n",
       "148  149            6.2           3.4  Iris-virginica\n",
       "149  150            5.9           3.0  Iris-virginica\n",
       "\n",
       "[150 rows x 4 columns]"
      ]
     },
     "execution_count": 3,
     "metadata": {},
     "output_type": "execute_result"
    }
   ],
   "outputs_reference": "s3:deepnote-cell-outputs-production/8eea5eeb-69b0-4725-8c9e-91c11a832968",
   "source": [
    "df_9 = _deepnote_execute_sql('SELECT * FROM Iris_naivebayes;', 'SQL_09471B5A_652D_432F_B73D_65305A4929E6', audit_sql_comment='', sql_cache_mode='cache_disabled')\n",
    "df_9"
   ]
  },
  {
   "block_group": "d0b64fcacb9e4de3b63602fe589771d9",
   "cell_type": "markdown",
   "metadata": {
    "cell_id": "e0dcb519d7644b38979634acdad602c3",
    "deepnote_cell_type": "text-cell-p",
    "formattedRanges": []
   },
   "source": [
    "Proses pengambilan data tabel Iris_naivebayes dari PostgreSQL untuk disimpan sebagai DataFrame."
   ]
  },
  {
   "block_group": "c578009506ef4074bacf4fff16ce17d4",
   "cell_type": "code",
   "execution_count": 4,
   "metadata": {
    "cell_id": "fca9c0f410d04ab89774264461043f1d",
    "deepnote_cell_type": "sql",
    "deepnote_sql_source": "SELECT * FROM \"Iris_naivebayes\";",
    "deepnote_to_be_reexecuted": false,
    "deepnote_variable_name": "df_10",
    "execution_millis": 4011,
    "execution_start": 1712194832961,
    "source_hash": "80e812c0",
    "sql_integration_id": "44ceac78-b576-4235-b8ae-3b3bd9a41b5d"
   },
   "outputs": [
    {
     "data": {
      "application/vnd.deepnote.sql-output-metadata+json": {
       "size_in_bytes": 3728,
       "status": "success_no_cache"
      }
     },
     "metadata": {},
     "output_type": "display_data"
    },
    {
     "data": {
      "application/vnd.deepnote.dataframe.v3+json": {
       "column_count": 3,
       "columns": [
        {
         "dtype": "int64",
         "name": "Id",
         "stats": {
          "histogram": [
           {
            "bin_end": 15.9,
            "bin_start": 1,
            "count": 15
           },
           {
            "bin_end": 30.8,
            "bin_start": 15.9,
            "count": 15
           },
           {
            "bin_end": 45.7,
            "bin_start": 30.8,
            "count": 15
           },
           {
            "bin_end": 60.6,
            "bin_start": 45.7,
            "count": 15
           },
           {
            "bin_end": 75.5,
            "bin_start": 60.6,
            "count": 15
           },
           {
            "bin_end": 90.4,
            "bin_start": 75.5,
            "count": 15
           },
           {
            "bin_end": 105.3,
            "bin_start": 90.4,
            "count": 15
           },
           {
            "bin_end": 120.2,
            "bin_start": 105.3,
            "count": 15
           },
           {
            "bin_end": 135.1,
            "bin_start": 120.2,
            "count": 15
           },
           {
            "bin_end": 150,
            "bin_start": 135.1,
            "count": 15
           }
          ],
          "max": "150",
          "min": "1",
          "nan_count": 0,
          "unique_count": 150
         }
        },
        {
         "dtype": "float64",
         "name": "PetalLengthCm",
         "stats": {
          "histogram": [
           {
            "bin_end": 1.59,
            "bin_start": 1,
            "count": 37
           },
           {
            "bin_end": 2.18,
            "bin_start": 1.59,
            "count": 13
           },
           {
            "bin_end": 2.7700000000000005,
            "bin_start": 2.18,
            "count": 0
           },
           {
            "bin_end": 3.3600000000000003,
            "bin_start": 2.7700000000000005,
            "count": 3
           },
           {
            "bin_end": 3.95,
            "bin_start": 3.3600000000000003,
            "count": 8
           },
           {
            "bin_end": 4.540000000000001,
            "bin_start": 3.95,
            "count": 26
           },
           {
            "bin_end": 5.130000000000001,
            "bin_start": 4.540000000000001,
            "count": 29
           },
           {
            "bin_end": 5.720000000000001,
            "bin_start": 5.130000000000001,
            "count": 18
           },
           {
            "bin_end": 6.3100000000000005,
            "bin_start": 5.720000000000001,
            "count": 11
           },
           {
            "bin_end": 6.9,
            "bin_start": 6.3100000000000005,
            "count": 5
           }
          ],
          "max": "6.9",
          "min": "1.0",
          "nan_count": 0,
          "unique_count": 43
         }
        },
        {
         "dtype": "float64",
         "name": "PetalWidthCm",
         "stats": {
          "histogram": [
           {
            "bin_end": 0.33999999999999997,
            "bin_start": 0.1,
            "count": 41
           },
           {
            "bin_end": 0.58,
            "bin_start": 0.33999999999999997,
            "count": 8
           },
           {
            "bin_end": 0.82,
            "bin_start": 0.58,
            "count": 1
           },
           {
            "bin_end": 1.06,
            "bin_start": 0.82,
            "count": 7
           },
           {
            "bin_end": 1.3,
            "bin_start": 1.06,
            "count": 8
           },
           {
            "bin_end": 1.54,
            "bin_start": 1.3,
            "count": 33
           },
           {
            "bin_end": 1.78,
            "bin_start": 1.54,
            "count": 6
           },
           {
            "bin_end": 2.02,
            "bin_start": 1.78,
            "count": 23
           },
           {
            "bin_end": 2.2600000000000002,
            "bin_start": 2.02,
            "count": 9
           },
           {
            "bin_end": 2.5,
            "bin_start": 2.2600000000000002,
            "count": 14
           }
          ],
          "max": "2.5",
          "min": "0.1",
          "nan_count": 0,
          "unique_count": 22
         }
        },
        {
         "dtype": "int64",
         "name": "_deepnote_index_column"
        }
       ],
       "row_count": 150,
       "rows": [
        {
         "Id": 1,
         "PetalLengthCm": 1.4,
         "PetalWidthCm": 0.2,
         "_deepnote_index_column": 0
        },
        {
         "Id": 2,
         "PetalLengthCm": 1.4,
         "PetalWidthCm": 0.2,
         "_deepnote_index_column": 1
        },
        {
         "Id": 3,
         "PetalLengthCm": 1.3,
         "PetalWidthCm": 0.2,
         "_deepnote_index_column": 2
        },
        {
         "Id": 4,
         "PetalLengthCm": 1.5,
         "PetalWidthCm": 0.2,
         "_deepnote_index_column": 3
        },
        {
         "Id": 5,
         "PetalLengthCm": 1.4,
         "PetalWidthCm": 0.2,
         "_deepnote_index_column": 4
        },
        {
         "Id": 6,
         "PetalLengthCm": 1.7,
         "PetalWidthCm": 0.4,
         "_deepnote_index_column": 5
        },
        {
         "Id": 7,
         "PetalLengthCm": 1.4,
         "PetalWidthCm": 0.3,
         "_deepnote_index_column": 6
        },
        {
         "Id": 8,
         "PetalLengthCm": 1.5,
         "PetalWidthCm": 0.2,
         "_deepnote_index_column": 7
        },
        {
         "Id": 9,
         "PetalLengthCm": 1.4,
         "PetalWidthCm": 0.2,
         "_deepnote_index_column": 8
        },
        {
         "Id": 10,
         "PetalLengthCm": 1.5,
         "PetalWidthCm": 0.1,
         "_deepnote_index_column": 9
        }
       ]
      },
      "text/html": [
       "<div>\n",
       "<style scoped>\n",
       "    .dataframe tbody tr th:only-of-type {\n",
       "        vertical-align: middle;\n",
       "    }\n",
       "\n",
       "    .dataframe tbody tr th {\n",
       "        vertical-align: top;\n",
       "    }\n",
       "\n",
       "    .dataframe thead th {\n",
       "        text-align: right;\n",
       "    }\n",
       "</style>\n",
       "<table border=\"1\" class=\"dataframe\">\n",
       "  <thead>\n",
       "    <tr style=\"text-align: right;\">\n",
       "      <th></th>\n",
       "      <th>Id</th>\n",
       "      <th>PetalLengthCm</th>\n",
       "      <th>PetalWidthCm</th>\n",
       "    </tr>\n",
       "  </thead>\n",
       "  <tbody>\n",
       "    <tr>\n",
       "      <th>0</th>\n",
       "      <td>1</td>\n",
       "      <td>1.4</td>\n",
       "      <td>0.2</td>\n",
       "    </tr>\n",
       "    <tr>\n",
       "      <th>1</th>\n",
       "      <td>2</td>\n",
       "      <td>1.4</td>\n",
       "      <td>0.2</td>\n",
       "    </tr>\n",
       "    <tr>\n",
       "      <th>2</th>\n",
       "      <td>3</td>\n",
       "      <td>1.3</td>\n",
       "      <td>0.2</td>\n",
       "    </tr>\n",
       "    <tr>\n",
       "      <th>3</th>\n",
       "      <td>4</td>\n",
       "      <td>1.5</td>\n",
       "      <td>0.2</td>\n",
       "    </tr>\n",
       "    <tr>\n",
       "      <th>4</th>\n",
       "      <td>5</td>\n",
       "      <td>1.4</td>\n",
       "      <td>0.2</td>\n",
       "    </tr>\n",
       "    <tr>\n",
       "      <th>...</th>\n",
       "      <td>...</td>\n",
       "      <td>...</td>\n",
       "      <td>...</td>\n",
       "    </tr>\n",
       "    <tr>\n",
       "      <th>145</th>\n",
       "      <td>146</td>\n",
       "      <td>5.2</td>\n",
       "      <td>2.3</td>\n",
       "    </tr>\n",
       "    <tr>\n",
       "      <th>146</th>\n",
       "      <td>147</td>\n",
       "      <td>5.0</td>\n",
       "      <td>1.9</td>\n",
       "    </tr>\n",
       "    <tr>\n",
       "      <th>147</th>\n",
       "      <td>148</td>\n",
       "      <td>5.2</td>\n",
       "      <td>2.0</td>\n",
       "    </tr>\n",
       "    <tr>\n",
       "      <th>148</th>\n",
       "      <td>149</td>\n",
       "      <td>5.4</td>\n",
       "      <td>2.3</td>\n",
       "    </tr>\n",
       "    <tr>\n",
       "      <th>149</th>\n",
       "      <td>150</td>\n",
       "      <td>5.1</td>\n",
       "      <td>1.8</td>\n",
       "    </tr>\n",
       "  </tbody>\n",
       "</table>\n",
       "<p>150 rows × 3 columns</p>\n",
       "</div>"
      ],
      "text/plain": [
       "      Id  PetalLengthCm  PetalWidthCm\n",
       "0      1            1.4           0.2\n",
       "1      2            1.4           0.2\n",
       "2      3            1.3           0.2\n",
       "3      4            1.5           0.2\n",
       "4      5            1.4           0.2\n",
       "..   ...            ...           ...\n",
       "145  146            5.2           2.3\n",
       "146  147            5.0           1.9\n",
       "147  148            5.2           2.0\n",
       "148  149            5.4           2.3\n",
       "149  150            5.1           1.8\n",
       "\n",
       "[150 rows x 3 columns]"
      ]
     },
     "execution_count": 4,
     "metadata": {},
     "output_type": "execute_result"
    }
   ],
   "outputs_reference": "s3:deepnote-cell-outputs-production/2c7c8824-b3f8-407f-9143-e69bc3d2651f",
   "source": [
    "df_10 = _deepnote_execute_sql('SELECT * FROM \"Iris_naivebayes\";', 'SQL_44CEAC78_B576_4235_B8AE_3B3BD9A41B5D', audit_sql_comment='', sql_cache_mode='cache_disabled')\n",
    "df_10"
   ]
  },
  {
   "block_group": "178503e2534c453895ff3327c55b3dfd",
   "cell_type": "markdown",
   "metadata": {
    "cell_id": "4432dd15be714e0281ad101a2ab69907",
    "deepnote_cell_type": "text-cell-p",
    "formattedRanges": []
   },
   "source": [
    "Pertama-tama, kita mengimpor library yang diperlukan, termasuk Pandas untuk memanipulasi data dan scikit-learn untuk model klasifikasi Naive Bayes."
   ]
  },
  {
   "block_group": "8950211cf72d4aec8e450708ab3c8d1b",
   "cell_type": "code",
   "execution_count": 14,
   "metadata": {
    "cell_id": "68d66e8bd7b741f8bd82bb16668cdd43",
    "deepnote_cell_type": "code",
    "deepnote_to_be_reexecuted": false,
    "execution_millis": 54,
    "execution_start": 1712196695758,
    "source_hash": "ecfe52fb"
   },
   "outputs": [],
   "outputs_reference": null,
   "source": [
    "import pandas as pd\n",
    "from sklearn.naive_bayes import GaussianNB\n",
    "from sklearn.model_selection import train_test_split\n",
    "from sklearn.metrics import accuracy_score"
   ]
  },
  {
   "block_group": "1b164e09fa7b466a89c9b99529c57c3b",
   "cell_type": "markdown",
   "metadata": {
    "cell_id": "6e68ff539e6c48648947f85f61f617a1",
    "deepnote_cell_type": "text-cell-p",
    "formattedRanges": []
   },
   "source": [
    "DataFrame df_9 dan df_10 digabungkan berdasarkan kolom \"Id\". Kemudian, kolom-kolom yang diinginkan dipilih dari hasil gabungan dan diurutkan. Akhirnya, ditampilkan semua data yang diperoleh dari hasil pengabungan DataFrame."
   ]
  },
  {
   "block_group": "eee49840a3fc4034bdc36e71f598ce2f",
   "cell_type": "code",
   "execution_count": 15,
   "metadata": {
    "cell_id": "a17f2187c4604ddeb66d9d190246e1e9",
    "deepnote_cell_type": "code",
    "deepnote_to_be_reexecuted": false,
    "execution_millis": 187,
    "execution_start": 1712196698372,
    "source_hash": "71b114cb"
   },
   "outputs": [
    {
     "data": {
      "application/vnd.deepnote.dataframe.v3+json": {
       "column_count": 6,
       "columns": [
        {
         "dtype": "int64",
         "name": "Id",
         "stats": {
          "histogram": [
           {
            "bin_end": 15.9,
            "bin_start": 1,
            "count": 15
           },
           {
            "bin_end": 30.8,
            "bin_start": 15.9,
            "count": 15
           },
           {
            "bin_end": 45.7,
            "bin_start": 30.8,
            "count": 15
           },
           {
            "bin_end": 60.6,
            "bin_start": 45.7,
            "count": 15
           },
           {
            "bin_end": 75.5,
            "bin_start": 60.6,
            "count": 15
           },
           {
            "bin_end": 90.4,
            "bin_start": 75.5,
            "count": 15
           },
           {
            "bin_end": 105.3,
            "bin_start": 90.4,
            "count": 15
           },
           {
            "bin_end": 120.2,
            "bin_start": 105.3,
            "count": 15
           },
           {
            "bin_end": 135.1,
            "bin_start": 120.2,
            "count": 15
           },
           {
            "bin_end": 150,
            "bin_start": 135.1,
            "count": 15
           }
          ],
          "max": "150",
          "min": "1",
          "nan_count": 0,
          "unique_count": 150
         }
        },
        {
         "dtype": "float64",
         "name": "SepalLengthCm",
         "stats": {
          "histogram": [
           {
            "bin_end": 4.66,
            "bin_start": 4.3,
            "count": 9
           },
           {
            "bin_end": 5.02,
            "bin_start": 4.66,
            "count": 23
           },
           {
            "bin_end": 5.38,
            "bin_start": 5.02,
            "count": 14
           },
           {
            "bin_end": 5.74,
            "bin_start": 5.38,
            "count": 27
           },
           {
            "bin_end": 6.1,
            "bin_start": 5.74,
            "count": 16
           },
           {
            "bin_end": 6.46,
            "bin_start": 6.1,
            "count": 26
           },
           {
            "bin_end": 6.82,
            "bin_start": 6.46,
            "count": 18
           },
           {
            "bin_end": 7.18,
            "bin_start": 6.82,
            "count": 6
           },
           {
            "bin_end": 7.54,
            "bin_start": 7.18,
            "count": 5
           },
           {
            "bin_end": 7.9,
            "bin_start": 7.54,
            "count": 6
           }
          ],
          "max": "7.9",
          "min": "4.3",
          "nan_count": 0,
          "unique_count": 35
         }
        },
        {
         "dtype": "float64",
         "name": "SepalWidthCm",
         "stats": {
          "histogram": [
           {
            "bin_end": 2.24,
            "bin_start": 2,
            "count": 4
           },
           {
            "bin_end": 2.48,
            "bin_start": 2.24,
            "count": 7
           },
           {
            "bin_end": 2.72,
            "bin_start": 2.48,
            "count": 22
           },
           {
            "bin_end": 2.96,
            "bin_start": 2.72,
            "count": 24
           },
           {
            "bin_end": 3.2,
            "bin_start": 2.96,
            "count": 38
           },
           {
            "bin_end": 3.4400000000000004,
            "bin_start": 3.2,
            "count": 31
           },
           {
            "bin_end": 3.6800000000000006,
            "bin_start": 3.4400000000000004,
            "count": 9
           },
           {
            "bin_end": 3.9200000000000004,
            "bin_start": 3.6800000000000006,
            "count": 11
           },
           {
            "bin_end": 4.16,
            "bin_start": 3.9200000000000004,
            "count": 2
           },
           {
            "bin_end": 4.4,
            "bin_start": 4.16,
            "count": 2
           }
          ],
          "max": "4.4",
          "min": "2.0",
          "nan_count": 0,
          "unique_count": 23
         }
        },
        {
         "dtype": "float64",
         "name": "PetalLengthCm",
         "stats": {
          "histogram": [
           {
            "bin_end": 1.59,
            "bin_start": 1,
            "count": 37
           },
           {
            "bin_end": 2.18,
            "bin_start": 1.59,
            "count": 13
           },
           {
            "bin_end": 2.7700000000000005,
            "bin_start": 2.18,
            "count": 0
           },
           {
            "bin_end": 3.3600000000000003,
            "bin_start": 2.7700000000000005,
            "count": 3
           },
           {
            "bin_end": 3.95,
            "bin_start": 3.3600000000000003,
            "count": 8
           },
           {
            "bin_end": 4.540000000000001,
            "bin_start": 3.95,
            "count": 26
           },
           {
            "bin_end": 5.130000000000001,
            "bin_start": 4.540000000000001,
            "count": 29
           },
           {
            "bin_end": 5.720000000000001,
            "bin_start": 5.130000000000001,
            "count": 18
           },
           {
            "bin_end": 6.3100000000000005,
            "bin_start": 5.720000000000001,
            "count": 11
           },
           {
            "bin_end": 6.9,
            "bin_start": 6.3100000000000005,
            "count": 5
           }
          ],
          "max": "6.9",
          "min": "1.0",
          "nan_count": 0,
          "unique_count": 43
         }
        },
        {
         "dtype": "float64",
         "name": "PetalWidthCm",
         "stats": {
          "histogram": [
           {
            "bin_end": 0.33999999999999997,
            "bin_start": 0.1,
            "count": 41
           },
           {
            "bin_end": 0.58,
            "bin_start": 0.33999999999999997,
            "count": 8
           },
           {
            "bin_end": 0.82,
            "bin_start": 0.58,
            "count": 1
           },
           {
            "bin_end": 1.06,
            "bin_start": 0.82,
            "count": 7
           },
           {
            "bin_end": 1.3,
            "bin_start": 1.06,
            "count": 8
           },
           {
            "bin_end": 1.54,
            "bin_start": 1.3,
            "count": 33
           },
           {
            "bin_end": 1.78,
            "bin_start": 1.54,
            "count": 6
           },
           {
            "bin_end": 2.02,
            "bin_start": 1.78,
            "count": 23
           },
           {
            "bin_end": 2.2600000000000002,
            "bin_start": 2.02,
            "count": 9
           },
           {
            "bin_end": 2.5,
            "bin_start": 2.2600000000000002,
            "count": 14
           }
          ],
          "max": "2.5",
          "min": "0.1",
          "nan_count": 0,
          "unique_count": 22
         }
        },
        {
         "dtype": "object",
         "name": "Species",
         "stats": {
          "categories": [
           {
            "count": 50,
            "name": "Iris-setosa"
           },
           {
            "count": 50,
            "name": "Iris-versicolor"
           },
           {
            "count": 50,
            "name": "Iris-virginica"
           }
          ],
          "nan_count": 0,
          "unique_count": 3
         }
        },
        {
         "dtype": "int64",
         "name": "_deepnote_index_column"
        }
       ],
       "row_count": 150,
       "rows": [
        {
         "Id": 1,
         "PetalLengthCm": 1.4,
         "PetalWidthCm": 0.2,
         "SepalLengthCm": 5.1,
         "SepalWidthCm": 3.5,
         "Species": "Iris-setosa",
         "_deepnote_index_column": 0
        },
        {
         "Id": 2,
         "PetalLengthCm": 1.4,
         "PetalWidthCm": 0.2,
         "SepalLengthCm": 4.9,
         "SepalWidthCm": 3,
         "Species": "Iris-setosa",
         "_deepnote_index_column": 1
        },
        {
         "Id": 3,
         "PetalLengthCm": 1.3,
         "PetalWidthCm": 0.2,
         "SepalLengthCm": 4.7,
         "SepalWidthCm": 3.2,
         "Species": "Iris-setosa",
         "_deepnote_index_column": 2
        },
        {
         "Id": 4,
         "PetalLengthCm": 1.5,
         "PetalWidthCm": 0.2,
         "SepalLengthCm": 4.6,
         "SepalWidthCm": 3.1,
         "Species": "Iris-setosa",
         "_deepnote_index_column": 3
        },
        {
         "Id": 5,
         "PetalLengthCm": 1.4,
         "PetalWidthCm": 0.2,
         "SepalLengthCm": 5,
         "SepalWidthCm": 3.6,
         "Species": "Iris-setosa",
         "_deepnote_index_column": 4
        },
        {
         "Id": 6,
         "PetalLengthCm": 1.7,
         "PetalWidthCm": 0.4,
         "SepalLengthCm": 5.4,
         "SepalWidthCm": 3.9,
         "Species": "Iris-setosa",
         "_deepnote_index_column": 5
        },
        {
         "Id": 7,
         "PetalLengthCm": 1.4,
         "PetalWidthCm": 0.3,
         "SepalLengthCm": 4.6,
         "SepalWidthCm": 3.4,
         "Species": "Iris-setosa",
         "_deepnote_index_column": 6
        },
        {
         "Id": 8,
         "PetalLengthCm": 1.5,
         "PetalWidthCm": 0.2,
         "SepalLengthCm": 5,
         "SepalWidthCm": 3.4,
         "Species": "Iris-setosa",
         "_deepnote_index_column": 7
        },
        {
         "Id": 9,
         "PetalLengthCm": 1.4,
         "PetalWidthCm": 0.2,
         "SepalLengthCm": 4.4,
         "SepalWidthCm": 2.9,
         "Species": "Iris-setosa",
         "_deepnote_index_column": 8
        },
        {
         "Id": 10,
         "PetalLengthCm": 1.5,
         "PetalWidthCm": 0.1,
         "SepalLengthCm": 4.9,
         "SepalWidthCm": 3.1,
         "Species": "Iris-setosa",
         "_deepnote_index_column": 9
        }
       ]
      },
      "text/html": [
       "<div>\n",
       "<style scoped>\n",
       "    .dataframe tbody tr th:only-of-type {\n",
       "        vertical-align: middle;\n",
       "    }\n",
       "\n",
       "    .dataframe tbody tr th {\n",
       "        vertical-align: top;\n",
       "    }\n",
       "\n",
       "    .dataframe thead th {\n",
       "        text-align: right;\n",
       "    }\n",
       "</style>\n",
       "<table border=\"1\" class=\"dataframe\">\n",
       "  <thead>\n",
       "    <tr style=\"text-align: right;\">\n",
       "      <th></th>\n",
       "      <th>Id</th>\n",
       "      <th>SepalLengthCm</th>\n",
       "      <th>SepalWidthCm</th>\n",
       "      <th>PetalLengthCm</th>\n",
       "      <th>PetalWidthCm</th>\n",
       "      <th>Species</th>\n",
       "    </tr>\n",
       "  </thead>\n",
       "  <tbody>\n",
       "    <tr>\n",
       "      <th>0</th>\n",
       "      <td>1</td>\n",
       "      <td>5.1</td>\n",
       "      <td>3.5</td>\n",
       "      <td>1.4</td>\n",
       "      <td>0.2</td>\n",
       "      <td>Iris-setosa</td>\n",
       "    </tr>\n",
       "    <tr>\n",
       "      <th>1</th>\n",
       "      <td>2</td>\n",
       "      <td>4.9</td>\n",
       "      <td>3.0</td>\n",
       "      <td>1.4</td>\n",
       "      <td>0.2</td>\n",
       "      <td>Iris-setosa</td>\n",
       "    </tr>\n",
       "    <tr>\n",
       "      <th>2</th>\n",
       "      <td>3</td>\n",
       "      <td>4.7</td>\n",
       "      <td>3.2</td>\n",
       "      <td>1.3</td>\n",
       "      <td>0.2</td>\n",
       "      <td>Iris-setosa</td>\n",
       "    </tr>\n",
       "    <tr>\n",
       "      <th>3</th>\n",
       "      <td>4</td>\n",
       "      <td>4.6</td>\n",
       "      <td>3.1</td>\n",
       "      <td>1.5</td>\n",
       "      <td>0.2</td>\n",
       "      <td>Iris-setosa</td>\n",
       "    </tr>\n",
       "    <tr>\n",
       "      <th>4</th>\n",
       "      <td>5</td>\n",
       "      <td>5.0</td>\n",
       "      <td>3.6</td>\n",
       "      <td>1.4</td>\n",
       "      <td>0.2</td>\n",
       "      <td>Iris-setosa</td>\n",
       "    </tr>\n",
       "    <tr>\n",
       "      <th>...</th>\n",
       "      <td>...</td>\n",
       "      <td>...</td>\n",
       "      <td>...</td>\n",
       "      <td>...</td>\n",
       "      <td>...</td>\n",
       "      <td>...</td>\n",
       "    </tr>\n",
       "    <tr>\n",
       "      <th>145</th>\n",
       "      <td>146</td>\n",
       "      <td>6.7</td>\n",
       "      <td>3.0</td>\n",
       "      <td>5.2</td>\n",
       "      <td>2.3</td>\n",
       "      <td>Iris-virginica</td>\n",
       "    </tr>\n",
       "    <tr>\n",
       "      <th>146</th>\n",
       "      <td>147</td>\n",
       "      <td>6.3</td>\n",
       "      <td>2.5</td>\n",
       "      <td>5.0</td>\n",
       "      <td>1.9</td>\n",
       "      <td>Iris-virginica</td>\n",
       "    </tr>\n",
       "    <tr>\n",
       "      <th>147</th>\n",
       "      <td>148</td>\n",
       "      <td>6.5</td>\n",
       "      <td>3.0</td>\n",
       "      <td>5.2</td>\n",
       "      <td>2.0</td>\n",
       "      <td>Iris-virginica</td>\n",
       "    </tr>\n",
       "    <tr>\n",
       "      <th>148</th>\n",
       "      <td>149</td>\n",
       "      <td>6.2</td>\n",
       "      <td>3.4</td>\n",
       "      <td>5.4</td>\n",
       "      <td>2.3</td>\n",
       "      <td>Iris-virginica</td>\n",
       "    </tr>\n",
       "    <tr>\n",
       "      <th>149</th>\n",
       "      <td>150</td>\n",
       "      <td>5.9</td>\n",
       "      <td>3.0</td>\n",
       "      <td>5.1</td>\n",
       "      <td>1.8</td>\n",
       "      <td>Iris-virginica</td>\n",
       "    </tr>\n",
       "  </tbody>\n",
       "</table>\n",
       "<p>150 rows × 6 columns</p>\n",
       "</div>"
      ],
      "text/plain": [
       "      Id  SepalLengthCm  SepalWidthCm  PetalLengthCm  PetalWidthCm  \\\n",
       "0      1            5.1           3.5            1.4           0.2   \n",
       "1      2            4.9           3.0            1.4           0.2   \n",
       "2      3            4.7           3.2            1.3           0.2   \n",
       "3      4            4.6           3.1            1.5           0.2   \n",
       "4      5            5.0           3.6            1.4           0.2   \n",
       "..   ...            ...           ...            ...           ...   \n",
       "145  146            6.7           3.0            5.2           2.3   \n",
       "146  147            6.3           2.5            5.0           1.9   \n",
       "147  148            6.5           3.0            5.2           2.0   \n",
       "148  149            6.2           3.4            5.4           2.3   \n",
       "149  150            5.9           3.0            5.1           1.8   \n",
       "\n",
       "            Species  \n",
       "0       Iris-setosa  \n",
       "1       Iris-setosa  \n",
       "2       Iris-setosa  \n",
       "3       Iris-setosa  \n",
       "4       Iris-setosa  \n",
       "..              ...  \n",
       "145  Iris-virginica  \n",
       "146  Iris-virginica  \n",
       "147  Iris-virginica  \n",
       "148  Iris-virginica  \n",
       "149  Iris-virginica  \n",
       "\n",
       "[150 rows x 6 columns]"
      ]
     },
     "execution_count": 15,
     "metadata": {},
     "output_type": "execute_result"
    }
   ],
   "outputs_reference": "s3:deepnote-cell-outputs-production/ee520025-7041-483b-a213-608db6834762",
   "source": [
    "df_naivebayes = pd.merge(df_9, df_10, on='Id')\n",
    "\n",
    "desired_columns = [\"Id\", \"SepalLengthCm\", \"SepalWidthCm\", \"PetalLengthCm\", \"PetalWidthCm\", \"Species\"]\n",
    "df_naivebayes = df_naivebayes.reindex(columns=desired_columns)\n",
    "\n",
    "jumlah_baris = df_naivebayes.shape[0]\n",
    "df_naivebayes.head(jumlah_baris)"
   ]
  },
  {
   "block_group": "5cf7299f292340cca8a72f77dd9d9527",
   "cell_type": "markdown",
   "metadata": {
    "cell_id": "22e64a08c35642c19d758c7cedb0f07d",
    "deepnote_cell_type": "text-cell-p",
    "formattedRanges": []
   },
   "source": [
    "fitur-fitur yang digunakan untuk klasifikasi (SepalLengthCm, SepalWidthCm, PetalLengthCm, PetalWidthCm) dipisahkan dari DataFrame df_naivebayes dan dimasukkan ke dalam variabel X, sementara variabel target atau kelas (Species) dimasukkan ke dalam variabel y."
   ]
  },
  {
   "block_group": "cb9b602244bf46f3927b716a8c756977",
   "cell_type": "code",
   "execution_count": 16,
   "metadata": {
    "cell_id": "e46b0c275c094fb8b642df87e5cf4ddd",
    "deepnote_cell_type": "code",
    "deepnote_to_be_reexecuted": false,
    "execution_millis": 54,
    "execution_start": 1712196702401,
    "source_hash": "6bbe11a1"
   },
   "outputs": [],
   "outputs_reference": null,
   "source": [
    "X = df_naivebayes[['SepalLengthCm', 'SepalWidthCm', 'PetalLengthCm', 'PetalWidthCm' ]]\n",
    "y = df_naivebayes['Species']"
   ]
  },
  {
   "block_group": "d700e73fdeb74cf1b0a204542b024043",
   "cell_type": "markdown",
   "metadata": {
    "cell_id": "3b3ed7915fd74d40b29df9eda050759a",
    "deepnote_cell_type": "text-cell-p",
    "formattedRanges": []
   },
   "source": [
    "Kemudian, data dipisahkan menjadi dua set, yakni data train (X_train, y_train) dan data test (X_test, y_test) menggunakan fungsi train_test_split dengan proporsi data test sebesar 20%."
   ]
  },
  {
   "block_group": "c376d91991854698ab93b85d67a65445",
   "cell_type": "code",
   "execution_count": 17,
   "metadata": {
    "cell_id": "a90651ece333454f8df5add335265aac",
    "deepnote_cell_type": "code",
    "deepnote_to_be_reexecuted": false,
    "execution_millis": 33,
    "execution_start": 1712196705738,
    "source_hash": "4613f425"
   },
   "outputs": [],
   "outputs_reference": null,
   "source": [
    "X_train, X_test, y_train, y_test = train_test_split(X, y, test_size=0.2)"
   ]
  },
  {
   "block_group": "e8d9c3325d054ffabef66aae33ba01fa",
   "cell_type": "markdown",
   "metadata": {
    "cell_id": "15feb3972b6149f1af18feda5849474a",
    "deepnote_cell_type": "text-cell-p",
    "formattedRanges": []
   },
   "source": [
    "Model Gaussian Naive Bayes diinisialisasi dan dilatih menggunakan data train. Setelah dilatih, model digunakan untuk membuat prediksi pada data test, dan akurasi prediksi dihitung menggunakan metrik akurasi. Akurasi tersebut dicetak ke layar sebagai output."
   ]
  },
  {
   "block_group": "4c1270c1608148aca71ca51eaaabe334",
   "cell_type": "code",
   "execution_count": 20,
   "metadata": {
    "cell_id": "51313a9503394aa7bdc2bb062f7fd403",
    "deepnote_cell_type": "code",
    "deepnote_to_be_reexecuted": false,
    "execution_millis": 94,
    "execution_start": 1712196727301,
    "source_hash": "5cf2fd62"
   },
   "outputs": [
    {
     "name": "stdout",
     "output_type": "stream",
     "text": [
      "Accuracy:  0.9\n"
     ]
    }
   ],
   "outputs_reference": "dbtable:cell_outputs/c294ece9-bf33-4e6b-bc82-fefb43d1e8a9",
   "source": [
    "gnb_model = GaussianNB()\n",
    " \n",
    "gnb_model = gnb_model.fit(X_train, y_train)\n",
    "\n",
    "y_pred = gnb_model.predict(X_test)\n",
    " \n",
    "acc_secore = round(accuracy_score(y_pred, y_test), 3)\n",
    "print('Accuracy: ', acc_secore)"
   ]
  },
  {
   "block_group": "a30c823fab4c47b0a2dc7f26c78e7a4b",
   "cell_type": "markdown",
   "metadata": {
    "cell_id": "d17c55e76efe43cc8e497409f08bed38",
    "deepnote_cell_type": "text-cell-p",
    "formattedRanges": []
   },
   "source": [
    "Setelah model GNB berhasil dibuat dan diuji dengan akurasi sebesar 0.9, dapat disimpulkan bahwa model yang telah dibangun cukup baik. Tahap selanjutnya adalah menggunakan model tersebut untuk memprediksi spesies dari data masukan yang diberikan. Untuk pengujian, kita akan menggunakan data iris dengan karakteristik sebagai berikut:"
   ]
  },
  {
   "block_group": "67a5708582db43c99fc4dd005349a448",
   "cell_type": "markdown",
   "metadata": {
    "cell_id": "f36dc138b6f44c268649c470f6e7317b",
    "deepnote_cell_type": "text-cell-bullet",
    "formattedRanges": []
   },
   "source": [
    "- SepalLengthCm: 5\r"
   ]
  },
  {
   "block_group": "06754388e1794271ae5bbcefa818a220",
   "cell_type": "markdown",
   "metadata": {
    "cell_id": "15064745a2e44f418bf9eb35651bf8ab",
    "deepnote_cell_type": "text-cell-bullet",
    "formattedRanges": []
   },
   "source": [
    "- SepalWidthCm: 3\r"
   ]
  },
  {
   "block_group": "b0575280fe4a49d4a5ce71a5bd6a67b5",
   "cell_type": "markdown",
   "metadata": {
    "cell_id": "04307637d070451588c91b4ae988b8cc",
    "deepnote_cell_type": "text-cell-bullet",
    "formattedRanges": []
   },
   "source": [
    "- PetalLengthCm: 1\r"
   ]
  },
  {
   "block_group": "254c32c434234ab2bb46f6cb4604037b",
   "cell_type": "markdown",
   "metadata": {
    "cell_id": "a7f0b1fe514d40d7801ea9590e6c605e",
    "deepnote_cell_type": "text-cell-bullet",
    "formattedRanges": []
   },
   "source": [
    "- PetalWidthCm: 0.1"
   ]
  },
  {
   "block_group": "d2f0c2f3fc374647adbfee87076ab923",
   "cell_type": "code",
   "execution_count": 21,
   "metadata": {
    "cell_id": "b2ff06f4d6b5477f8814cbff2d7e3834",
    "deepnote_cell_type": "code",
    "deepnote_to_be_reexecuted": false,
    "execution_millis": 57,
    "execution_start": 1712196740931,
    "source_hash": "20a1cd52"
   },
   "outputs": [
    {
     "name": "stdout",
     "output_type": "stream",
     "text": [
      "['Iris-setosa']\n",
      "/shared-libs/python3.9/py/lib/python3.9/site-packages/sklearn/base.py:450: UserWarning: X does not have valid feature names, but GaussianNB was fitted with feature names\n",
      "  warnings.warn(\n"
     ]
    }
   ],
   "outputs_reference": "dbtable:cell_outputs/bb2a94df-e98a-4bd4-9818-40f58a5b9ce9",
   "source": [
    "print(gnb_model.predict([[5, 3, 1, 0.1]]))"
   ]
  },
  {
   "block_group": "cb98ec007ef6410d9e4a19976a92fe7a",
   "cell_type": "markdown",
   "metadata": {
    "cell_id": "d46a566df73b4b28bd729c6d8445bb22",
    "deepnote_cell_type": "text-cell-p",
    "formattedRanges": []
   },
   "source": [
    "Hasil prediksi menunjukkan bahwa data masukan tersebut diklasifikasikan sebagai spesies Iris-setosa, sesuai dengan hasil perhitungan manual sebelumnya. Hal ini mengindikasikan kesesuaian antara hasil prediksi model dan perhitungan manual."
   ]
  },
  {
   "cell_type": "markdown",
   "metadata": {
    "created_in_deepnote_cell": true,
    "deepnote_cell_type": "markdown"
   },
   "source": [
    "<a style='text-decoration:none;line-height:16px;display:flex;color:#5B5B62;padding:10px;justify-content:end;' href='https://deepnote.com?utm_source=created-in-deepnote-cell&projectId=af6fec85-d9ab-42ab-a670-2539560136c5' target=\"_blank\">\n",
    "<img alt='Created in deepnote.com' style='display:inline;max-height:16px;margin:0px;margin-right:7.5px;' src='data:image/svg+xml;base64,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' > </img>\n",
    "Created in <span style='font-weight:600;margin-left:4px;'>Deepnote</span></a>"
   ]
  }
 ],
 "metadata": {
  "deepnote_execution_queue": [],
  "deepnote_notebook_id": "cda861e8e8ec453da23fb10a5ca48e5d",
  "deepnote_persisted_session": {
   "createdAt": "2024-04-03T22:45:37.683Z"
  },
  "language_info": {
   "codemirror_mode": {
    "name": "ipython",
    "version": 3
   },
   "file_extension": ".py",
   "mimetype": "text/x-python",
   "name": "python",
   "nbconvert_exporter": "python",
   "pygments_lexer": "ipython3",
   "version": "3.9.12"
  }
 },
 "nbformat": 4,
 "nbformat_minor": 0
}